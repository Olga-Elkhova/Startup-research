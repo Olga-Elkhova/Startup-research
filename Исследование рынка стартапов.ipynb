{
 "cells": [
  {
   "cell_type": "markdown",
   "metadata": {
    "id": "4mJbK1knrJgz"
   },
   "source": [
    "# Исследование рынка стартапов  для выявления перспективных стартапов для перепродажи."
   ]
  },
  {
   "cell_type": "markdown",
   "metadata": {
    "id": "P6j0r3worJg0"
   },
   "source": [
    "## Введение"
   ]
  },
  {
   "cell_type": "markdown",
   "metadata": {},
   "source": [
    "**Цели проекта:** Исследовать финансирование стартапов. Выделить критерии по которым можно оценить привлекательность стартапа для его покупки и перепродажи."
   ]
  },
  {
   "cell_type": "markdown",
   "metadata": {
    "id": "xqr6uttCrJg0"
   },
   "source": [
    "\n",
    "## Знакомство с данными, загрузка и первичная предобработка\n",
    "\n",
    "Названия файлов:\n",
    "* acquisition.csv\n",
    "* company_and_rounds.csv\n",
    "* degrees.csv\n",
    "* education.csv\n",
    "* fund.csv\n",
    "* investment.csv\n",
    "* people.csv"
   ]
  },
  {
   "cell_type": "markdown",
   "metadata": {},
   "source": [
    "###  Описание структуры данных"
   ]
  },
  {
   "cell_type": "markdown",
   "metadata": {},
   "source": [
    "**Описание датасета company_and_rounds:**\n",
    "- company ID — идентификатор компании.\n",
    "- name — название компании.\n",
    "- category code — категория области деятельности компании.\n",
    "- status — статус компании.\n",
    "- founded at — дата инвестирования.\n",
    "- closed at — дата закрытия компании.\n",
    "- domain — официальный сайт компании.\n",
    "- network username — ник компании в сети.\n",
    "- country code — код страны компании.\n",
    "- investment rounds — число инвестиционных раундов.\n",
    "- funding rounds — число раундов финансирования.\n",
    "- funding total — сумма финансирования.\n",
    "- milestones — вехи финансирования.\n",
    "- funding round id — идентификатор этапа финансирования.\n",
    "- company id — идентификатор компании.\n",
    "- funded at — дата финансирования.\n",
    "- funding round type — тип финансирования.\n",
    "- raised amount — сумма финансирования.\n",
    "- pre money valuation — предварительная денежная оценка.\n",
    "- participants — число участников.\n",
    "- is first round — является ли раунд первым.\n",
    "- is last round — является раунд последним."
   ]
  },
  {
   "cell_type": "markdown",
   "metadata": {},
   "source": [
    "**Описание датасета acquisition:**\n",
    "- id — идентификатор покупки.\n",
    "- acquiring_company_id — идентификатор покупающей компании.\n",
    "- acquired_company_id — идентификатор покупаемой компании.\n",
    "- term_code — варианты расчёта.\n",
    "- price_amount — сумма сделки.\n",
    "- acquired_at — дата сделки."
   ]
  },
  {
   "cell_type": "markdown",
   "metadata": {},
   "source": [
    "**Описание датасета education:**\n",
    "- id — идентификатор записи об образовании.\n",
    "- person_id — идентификатор работника.\n",
    "- instituition — название учебного заведения.\n",
    "- graduated_at — дата получения образования."
   ]
  },
  {
   "cell_type": "markdown",
   "metadata": {},
   "source": [
    "**Описание датасета people:**\n",
    "- id — идентификатор сотрудника.\n",
    "- first_name — имя сотрудника.\n",
    "- last_name — фамилия сотрудника.\n",
    "- company_id — идентификатор компании.\n",
    "- network_username — ник в социальных сетях."
   ]
  },
  {
   "cell_type": "markdown",
   "metadata": {},
   "source": [
    "**Описание датасета degrees:**\n",
    "- id — идентификатор записи.\n",
    "- object_id — идентификатор сотрудника.\n",
    "- degree_type — тип образования.\n",
    "- subject — специальность."
   ]
  },
  {
   "cell_type": "markdown",
   "metadata": {},
   "source": [
    "**Описание датасета fund:**\n",
    "- id — идентификатор фонда.\n",
    "- name — название фонда.\n",
    "- category_code — категория области деятельности компании.\n",
    "- founded_at — дата создания фонда.\n",
    "- domain — сайт фонда.\n",
    "- network_username — ник фонда в сети.\n",
    "- country_code — код страны фонда.\n",
    "- investment_rounds — число инвестиционных раундов.\n",
    "- invested_companies — число профинансированных компаний.\n",
    "- milestones — вехи финансирования."
   ]
  },
  {
   "cell_type": "markdown",
   "metadata": {},
   "source": [
    "**Описание датасета investment:**\n",
    "- id — идентификатор этапа инвестирования.\n",
    "- funding_round_id — идентификатор раунда инвестирования.\n",
    "- company_id — индентификатор компании.\n",
    "- funding_round_type — тип финансирования.\n",
    "- fund_id — идентификатор фонда."
   ]
  },
  {
   "cell_type": "code",
   "execution_count": 1,
   "metadata": {},
   "outputs": [],
   "source": [
    "# Импорт библиотеки\n",
    "import pandas as pd\n",
    "\n",
    "# Импорт библиотек для визуализации данных\n",
    "import matplotlib.pyplot as plt\n",
    "import numpy as np\n",
    "import seaborn as sns\n",
    "\n",
    "# Импорт библиотек для расчёта коэффициента корреляции phi_k\n",
    "# Оптимизация загрузки библиотеки (это позволит установить необходимую библиотеку в случае её отсутствия)\n",
    "try:\n",
    "    import phik\n",
    "except ModuleNotFoundError as e:\n",
    "    !pip install phik\n",
    "    import phik\n",
    "    print(\"Error was:\", e)"
   ]
  },
  {
   "cell_type": "markdown",
   "metadata": {},
   "source": [
    "### Знакомство с данными\n",
    "- Создание датафреймов из предоставленных таблиц\n",
    "- Проверка и приведение к единому стилю написания названий столбцов\n",
    "- Вывод основной информации о датафреймах"
   ]
  },
  {
   "cell_type": "code",
   "execution_count": 2,
   "metadata": {},
   "outputs": [],
   "source": [
    "# Создание датафремов из таблиц\n",
    "# Запись базовой части в переменную \n",
    "base_url = \"https://code.s3.yandex.net/datasets/\"\n",
    "\n",
    "# Создание датафремов с использованием переменной\n",
    "company_and_rounds = pd.read_csv(base_url + 'company_and_rounds.csv')\n",
    "acquisition = pd.read_csv(base_url + 'acquisition.csv')\n",
    "degrees = pd.read_csv(base_url + 'degrees.csv')\n",
    "education = pd.read_csv(base_url + 'education.csv')\n",
    "fund = pd.read_csv(base_url + 'fund.csv')\n",
    "investment = pd.read_csv(base_url + 'investment.csv')\n",
    "people = pd.read_csv(base_url + 'people.csv')"
   ]
  },
  {
   "cell_type": "code",
   "execution_count": 3,
   "metadata": {},
   "outputs": [
    {
     "data": {
      "text/html": [
       "<div>\n",
       "<style scoped>\n",
       "    .dataframe tbody tr th:only-of-type {\n",
       "        vertical-align: middle;\n",
       "    }\n",
       "\n",
       "    .dataframe tbody tr th {\n",
       "        vertical-align: top;\n",
       "    }\n",
       "\n",
       "    .dataframe thead th {\n",
       "        text-align: right;\n",
       "    }\n",
       "</style>\n",
       "<table border=\"1\" class=\"dataframe\">\n",
       "  <thead>\n",
       "    <tr style=\"text-align: right;\">\n",
       "      <th></th>\n",
       "      <th>company  ID</th>\n",
       "      <th>name</th>\n",
       "      <th>category  code</th>\n",
       "      <th>status</th>\n",
       "      <th>founded  at</th>\n",
       "      <th>closed  at</th>\n",
       "      <th>domain</th>\n",
       "      <th>network  username</th>\n",
       "      <th>country  code</th>\n",
       "      <th>investment  rounds</th>\n",
       "      <th>...</th>\n",
       "      <th>milestones</th>\n",
       "      <th>funding  round  id</th>\n",
       "      <th>company  id</th>\n",
       "      <th>funded  at</th>\n",
       "      <th>funding  round  type</th>\n",
       "      <th>raised  amount</th>\n",
       "      <th>pre  money  valuation</th>\n",
       "      <th>participants</th>\n",
       "      <th>is  first  round</th>\n",
       "      <th>is  last  round</th>\n",
       "    </tr>\n",
       "  </thead>\n",
       "  <tbody>\n",
       "    <tr>\n",
       "      <th>0</th>\n",
       "      <td>1.0</td>\n",
       "      <td>Wetpaint</td>\n",
       "      <td>web</td>\n",
       "      <td>operating</td>\n",
       "      <td>2005-10-17</td>\n",
       "      <td>NaN</td>\n",
       "      <td>wetpaint-inc.com</td>\n",
       "      <td>BachelrWetpaint</td>\n",
       "      <td>USA</td>\n",
       "      <td>0.0</td>\n",
       "      <td>...</td>\n",
       "      <td>5.0</td>\n",
       "      <td>888.0</td>\n",
       "      <td>1.0</td>\n",
       "      <td>2005-10-01</td>\n",
       "      <td>series-a</td>\n",
       "      <td>5250000.0</td>\n",
       "      <td>0.0</td>\n",
       "      <td>2.0</td>\n",
       "      <td>0.0</td>\n",
       "      <td>1.0</td>\n",
       "    </tr>\n",
       "    <tr>\n",
       "      <th>1</th>\n",
       "      <td>1.0</td>\n",
       "      <td>Wetpaint</td>\n",
       "      <td>web</td>\n",
       "      <td>operating</td>\n",
       "      <td>2005-10-17</td>\n",
       "      <td>NaN</td>\n",
       "      <td>wetpaint-inc.com</td>\n",
       "      <td>BachelrWetpaint</td>\n",
       "      <td>USA</td>\n",
       "      <td>0.0</td>\n",
       "      <td>...</td>\n",
       "      <td>5.0</td>\n",
       "      <td>889.0</td>\n",
       "      <td>1.0</td>\n",
       "      <td>2007-01-01</td>\n",
       "      <td>series-b</td>\n",
       "      <td>9500000.0</td>\n",
       "      <td>0.0</td>\n",
       "      <td>3.0</td>\n",
       "      <td>0.0</td>\n",
       "      <td>0.0</td>\n",
       "    </tr>\n",
       "    <tr>\n",
       "      <th>2</th>\n",
       "      <td>1.0</td>\n",
       "      <td>Wetpaint</td>\n",
       "      <td>web</td>\n",
       "      <td>operating</td>\n",
       "      <td>2005-10-17</td>\n",
       "      <td>NaN</td>\n",
       "      <td>wetpaint-inc.com</td>\n",
       "      <td>BachelrWetpaint</td>\n",
       "      <td>USA</td>\n",
       "      <td>0.0</td>\n",
       "      <td>...</td>\n",
       "      <td>5.0</td>\n",
       "      <td>2312.0</td>\n",
       "      <td>1.0</td>\n",
       "      <td>2008-05-19</td>\n",
       "      <td>series-c+</td>\n",
       "      <td>25000000.0</td>\n",
       "      <td>0.0</td>\n",
       "      <td>4.0</td>\n",
       "      <td>1.0</td>\n",
       "      <td>0.0</td>\n",
       "    </tr>\n",
       "    <tr>\n",
       "      <th>3</th>\n",
       "      <td>10.0</td>\n",
       "      <td>Flektor</td>\n",
       "      <td>games_video</td>\n",
       "      <td>acquired</td>\n",
       "      <td>NaN</td>\n",
       "      <td>NaN</td>\n",
       "      <td>flektor.com</td>\n",
       "      <td>NaN</td>\n",
       "      <td>USA</td>\n",
       "      <td>0.0</td>\n",
       "      <td>...</td>\n",
       "      <td>0.0</td>\n",
       "      <td>NaN</td>\n",
       "      <td>NaN</td>\n",
       "      <td>NaN</td>\n",
       "      <td>NaN</td>\n",
       "      <td>NaN</td>\n",
       "      <td>NaN</td>\n",
       "      <td>NaN</td>\n",
       "      <td>NaN</td>\n",
       "      <td>NaN</td>\n",
       "    </tr>\n",
       "    <tr>\n",
       "      <th>4</th>\n",
       "      <td>100.0</td>\n",
       "      <td>There</td>\n",
       "      <td>games_video</td>\n",
       "      <td>acquired</td>\n",
       "      <td>NaN</td>\n",
       "      <td>NaN</td>\n",
       "      <td>there.com</td>\n",
       "      <td>NaN</td>\n",
       "      <td>USA</td>\n",
       "      <td>0.0</td>\n",
       "      <td>...</td>\n",
       "      <td>4.0</td>\n",
       "      <td>NaN</td>\n",
       "      <td>NaN</td>\n",
       "      <td>NaN</td>\n",
       "      <td>NaN</td>\n",
       "      <td>NaN</td>\n",
       "      <td>NaN</td>\n",
       "      <td>NaN</td>\n",
       "      <td>NaN</td>\n",
       "      <td>NaN</td>\n",
       "    </tr>\n",
       "    <tr>\n",
       "      <th>5</th>\n",
       "      <td>10000.0</td>\n",
       "      <td>MYWEBBO</td>\n",
       "      <td>network_hosting</td>\n",
       "      <td>operating</td>\n",
       "      <td>2008-07-26</td>\n",
       "      <td>NaN</td>\n",
       "      <td>mywebbo.com</td>\n",
       "      <td>NaN</td>\n",
       "      <td>NaN</td>\n",
       "      <td>0.0</td>\n",
       "      <td>...</td>\n",
       "      <td>0.0</td>\n",
       "      <td>NaN</td>\n",
       "      <td>NaN</td>\n",
       "      <td>NaN</td>\n",
       "      <td>NaN</td>\n",
       "      <td>NaN</td>\n",
       "      <td>NaN</td>\n",
       "      <td>NaN</td>\n",
       "      <td>NaN</td>\n",
       "      <td>NaN</td>\n",
       "    </tr>\n",
       "    <tr>\n",
       "      <th>6</th>\n",
       "      <td>10001.0</td>\n",
       "      <td>THE Movie Streamer</td>\n",
       "      <td>games_video</td>\n",
       "      <td>operating</td>\n",
       "      <td>2008-07-26</td>\n",
       "      <td>NaN</td>\n",
       "      <td>themoviestreamer.com</td>\n",
       "      <td>NaN</td>\n",
       "      <td>NaN</td>\n",
       "      <td>0.0</td>\n",
       "      <td>...</td>\n",
       "      <td>0.0</td>\n",
       "      <td>NaN</td>\n",
       "      <td>NaN</td>\n",
       "      <td>NaN</td>\n",
       "      <td>NaN</td>\n",
       "      <td>NaN</td>\n",
       "      <td>NaN</td>\n",
       "      <td>NaN</td>\n",
       "      <td>NaN</td>\n",
       "      <td>NaN</td>\n",
       "    </tr>\n",
       "    <tr>\n",
       "      <th>7</th>\n",
       "      <td>10002.0</td>\n",
       "      <td>Synergie Media</td>\n",
       "      <td>advertising</td>\n",
       "      <td>operating</td>\n",
       "      <td>2007-06-27</td>\n",
       "      <td>NaN</td>\n",
       "      <td>synergie-media.com</td>\n",
       "      <td>NaN</td>\n",
       "      <td>MAR</td>\n",
       "      <td>0.0</td>\n",
       "      <td>...</td>\n",
       "      <td>0.0</td>\n",
       "      <td>NaN</td>\n",
       "      <td>NaN</td>\n",
       "      <td>NaN</td>\n",
       "      <td>NaN</td>\n",
       "      <td>NaN</td>\n",
       "      <td>NaN</td>\n",
       "      <td>NaN</td>\n",
       "      <td>NaN</td>\n",
       "      <td>NaN</td>\n",
       "    </tr>\n",
       "    <tr>\n",
       "      <th>8</th>\n",
       "      <td>10003.0</td>\n",
       "      <td>Green Basti Ecosystems</td>\n",
       "      <td>cleantech</td>\n",
       "      <td>operating</td>\n",
       "      <td>2008-08-20</td>\n",
       "      <td>NaN</td>\n",
       "      <td>NaN</td>\n",
       "      <td>NaN</td>\n",
       "      <td>IND</td>\n",
       "      <td>0.0</td>\n",
       "      <td>...</td>\n",
       "      <td>0.0</td>\n",
       "      <td>NaN</td>\n",
       "      <td>NaN</td>\n",
       "      <td>NaN</td>\n",
       "      <td>NaN</td>\n",
       "      <td>NaN</td>\n",
       "      <td>NaN</td>\n",
       "      <td>NaN</td>\n",
       "      <td>NaN</td>\n",
       "      <td>NaN</td>\n",
       "    </tr>\n",
       "    <tr>\n",
       "      <th>9</th>\n",
       "      <td>100042.0</td>\n",
       "      <td>HostNine</td>\n",
       "      <td>NaN</td>\n",
       "      <td>operating</td>\n",
       "      <td>NaN</td>\n",
       "      <td>NaN</td>\n",
       "      <td>hostnine.com</td>\n",
       "      <td>Hostnine</td>\n",
       "      <td>NaN</td>\n",
       "      <td>0.0</td>\n",
       "      <td>...</td>\n",
       "      <td>1.0</td>\n",
       "      <td>NaN</td>\n",
       "      <td>NaN</td>\n",
       "      <td>NaN</td>\n",
       "      <td>NaN</td>\n",
       "      <td>NaN</td>\n",
       "      <td>NaN</td>\n",
       "      <td>NaN</td>\n",
       "      <td>NaN</td>\n",
       "      <td>NaN</td>\n",
       "    </tr>\n",
       "    <tr>\n",
       "      <th>10</th>\n",
       "      <td>10005.0</td>\n",
       "      <td>Thomas Publishing</td>\n",
       "      <td>advertising</td>\n",
       "      <td>operating</td>\n",
       "      <td>NaN</td>\n",
       "      <td>NaN</td>\n",
       "      <td>thomaspublishing.com</td>\n",
       "      <td>NaN</td>\n",
       "      <td>USA</td>\n",
       "      <td>0.0</td>\n",
       "      <td>...</td>\n",
       "      <td>1.0</td>\n",
       "      <td>NaN</td>\n",
       "      <td>NaN</td>\n",
       "      <td>NaN</td>\n",
       "      <td>NaN</td>\n",
       "      <td>NaN</td>\n",
       "      <td>NaN</td>\n",
       "      <td>NaN</td>\n",
       "      <td>NaN</td>\n",
       "      <td>NaN</td>\n",
       "    </tr>\n",
       "    <tr>\n",
       "      <th>11</th>\n",
       "      <td>100062.0</td>\n",
       "      <td>Vetter Idea Management System</td>\n",
       "      <td>enterprise</td>\n",
       "      <td>operating</td>\n",
       "      <td>2011-08-01</td>\n",
       "      <td>NaN</td>\n",
       "      <td>getvetter.com</td>\n",
       "      <td>getvetter</td>\n",
       "      <td>NaN</td>\n",
       "      <td>0.0</td>\n",
       "      <td>...</td>\n",
       "      <td>1.0</td>\n",
       "      <td>NaN</td>\n",
       "      <td>NaN</td>\n",
       "      <td>NaN</td>\n",
       "      <td>NaN</td>\n",
       "      <td>NaN</td>\n",
       "      <td>NaN</td>\n",
       "      <td>NaN</td>\n",
       "      <td>NaN</td>\n",
       "      <td>NaN</td>\n",
       "    </tr>\n",
       "    <tr>\n",
       "      <th>12</th>\n",
       "      <td>100068.0</td>\n",
       "      <td>ChatRandom</td>\n",
       "      <td>games_video</td>\n",
       "      <td>operating</td>\n",
       "      <td>2011-02-01</td>\n",
       "      <td>NaN</td>\n",
       "      <td>chatrandom.com</td>\n",
       "      <td>chatrandom</td>\n",
       "      <td>NaN</td>\n",
       "      <td>0.0</td>\n",
       "      <td>...</td>\n",
       "      <td>1.0</td>\n",
       "      <td>NaN</td>\n",
       "      <td>NaN</td>\n",
       "      <td>NaN</td>\n",
       "      <td>NaN</td>\n",
       "      <td>NaN</td>\n",
       "      <td>NaN</td>\n",
       "      <td>NaN</td>\n",
       "      <td>NaN</td>\n",
       "      <td>NaN</td>\n",
       "    </tr>\n",
       "    <tr>\n",
       "      <th>13</th>\n",
       "      <td>10008.0</td>\n",
       "      <td>ScapadasAmorosas</td>\n",
       "      <td>other</td>\n",
       "      <td>operating</td>\n",
       "      <td>2007-03-01</td>\n",
       "      <td>NaN</td>\n",
       "      <td>scapadasamorosas.com</td>\n",
       "      <td>NaN</td>\n",
       "      <td>NaN</td>\n",
       "      <td>0.0</td>\n",
       "      <td>...</td>\n",
       "      <td>0.0</td>\n",
       "      <td>NaN</td>\n",
       "      <td>NaN</td>\n",
       "      <td>NaN</td>\n",
       "      <td>NaN</td>\n",
       "      <td>NaN</td>\n",
       "      <td>NaN</td>\n",
       "      <td>NaN</td>\n",
       "      <td>NaN</td>\n",
       "      <td>NaN</td>\n",
       "    </tr>\n",
       "    <tr>\n",
       "      <th>14</th>\n",
       "      <td>10009.0</td>\n",
       "      <td>dimension5 labs</td>\n",
       "      <td>advertising</td>\n",
       "      <td>operating</td>\n",
       "      <td>2008-08-01</td>\n",
       "      <td>NaN</td>\n",
       "      <td>d5labs.com</td>\n",
       "      <td>NaN</td>\n",
       "      <td>USA</td>\n",
       "      <td>0.0</td>\n",
       "      <td>...</td>\n",
       "      <td>1.0</td>\n",
       "      <td>NaN</td>\n",
       "      <td>NaN</td>\n",
       "      <td>NaN</td>\n",
       "      <td>NaN</td>\n",
       "      <td>NaN</td>\n",
       "      <td>NaN</td>\n",
       "      <td>NaN</td>\n",
       "      <td>NaN</td>\n",
       "      <td>NaN</td>\n",
       "    </tr>\n",
       "    <tr>\n",
       "      <th>15</th>\n",
       "      <td>1001.0</td>\n",
       "      <td>FriendFeed</td>\n",
       "      <td>web</td>\n",
       "      <td>acquired</td>\n",
       "      <td>2007-10-01</td>\n",
       "      <td>NaN</td>\n",
       "      <td>friendfeed.com</td>\n",
       "      <td>friendfeed</td>\n",
       "      <td>USA</td>\n",
       "      <td>0.0</td>\n",
       "      <td>...</td>\n",
       "      <td>3.0</td>\n",
       "      <td>1644.0</td>\n",
       "      <td>1001.0</td>\n",
       "      <td>2008-02-26</td>\n",
       "      <td>series-a</td>\n",
       "      <td>5000000.0</td>\n",
       "      <td>0.0</td>\n",
       "      <td>3.0</td>\n",
       "      <td>1.0</td>\n",
       "      <td>1.0</td>\n",
       "    </tr>\n",
       "    <tr>\n",
       "      <th>16</th>\n",
       "      <td>10010.0</td>\n",
       "      <td>Whooligan</td>\n",
       "      <td>games_video</td>\n",
       "      <td>operating</td>\n",
       "      <td>2007-12-01</td>\n",
       "      <td>NaN</td>\n",
       "      <td>whooligan.com</td>\n",
       "      <td>NaN</td>\n",
       "      <td>NaN</td>\n",
       "      <td>0.0</td>\n",
       "      <td>...</td>\n",
       "      <td>0.0</td>\n",
       "      <td>NaN</td>\n",
       "      <td>NaN</td>\n",
       "      <td>NaN</td>\n",
       "      <td>NaN</td>\n",
       "      <td>NaN</td>\n",
       "      <td>NaN</td>\n",
       "      <td>NaN</td>\n",
       "      <td>NaN</td>\n",
       "      <td>NaN</td>\n",
       "    </tr>\n",
       "    <tr>\n",
       "      <th>17</th>\n",
       "      <td>10011.0</td>\n",
       "      <td>PoetryVisualized.com</td>\n",
       "      <td>games_video</td>\n",
       "      <td>operating</td>\n",
       "      <td>2008-01-01</td>\n",
       "      <td>NaN</td>\n",
       "      <td>poetryvisualized.com</td>\n",
       "      <td>NaN</td>\n",
       "      <td>USA</td>\n",
       "      <td>0.0</td>\n",
       "      <td>...</td>\n",
       "      <td>1.0</td>\n",
       "      <td>NaN</td>\n",
       "      <td>NaN</td>\n",
       "      <td>NaN</td>\n",
       "      <td>NaN</td>\n",
       "      <td>NaN</td>\n",
       "      <td>NaN</td>\n",
       "      <td>NaN</td>\n",
       "      <td>NaN</td>\n",
       "      <td>NaN</td>\n",
       "    </tr>\n",
       "    <tr>\n",
       "      <th>18</th>\n",
       "      <td>10012.0</td>\n",
       "      <td>moviestring.com</td>\n",
       "      <td>games_video</td>\n",
       "      <td>closed</td>\n",
       "      <td>2008-08-22</td>\n",
       "      <td>2010-01-01</td>\n",
       "      <td>moviestring.com</td>\n",
       "      <td>NaN</td>\n",
       "      <td>NaN</td>\n",
       "      <td>0.0</td>\n",
       "      <td>...</td>\n",
       "      <td>0.0</td>\n",
       "      <td>NaN</td>\n",
       "      <td>NaN</td>\n",
       "      <td>NaN</td>\n",
       "      <td>NaN</td>\n",
       "      <td>NaN</td>\n",
       "      <td>NaN</td>\n",
       "      <td>NaN</td>\n",
       "      <td>NaN</td>\n",
       "      <td>NaN</td>\n",
       "    </tr>\n",
       "    <tr>\n",
       "      <th>19</th>\n",
       "      <td>10013.0</td>\n",
       "      <td>The Adory</td>\n",
       "      <td>consulting</td>\n",
       "      <td>operating</td>\n",
       "      <td>2008-01-01</td>\n",
       "      <td>NaN</td>\n",
       "      <td>theadory.com</td>\n",
       "      <td>the_adory</td>\n",
       "      <td>NaN</td>\n",
       "      <td>0.0</td>\n",
       "      <td>...</td>\n",
       "      <td>0.0</td>\n",
       "      <td>NaN</td>\n",
       "      <td>NaN</td>\n",
       "      <td>NaN</td>\n",
       "      <td>NaN</td>\n",
       "      <td>NaN</td>\n",
       "      <td>NaN</td>\n",
       "      <td>NaN</td>\n",
       "      <td>NaN</td>\n",
       "      <td>NaN</td>\n",
       "    </tr>\n",
       "  </tbody>\n",
       "</table>\n",
       "<p>20 rows × 22 columns</p>\n",
       "</div>"
      ],
      "text/plain": [
       "    company  ID                           name   category  code     status  \\\n",
       "0           1.0                       Wetpaint              web  operating   \n",
       "1           1.0                       Wetpaint              web  operating   \n",
       "2           1.0                       Wetpaint              web  operating   \n",
       "3          10.0                        Flektor      games_video   acquired   \n",
       "4         100.0                          There      games_video   acquired   \n",
       "5       10000.0                        MYWEBBO  network_hosting  operating   \n",
       "6       10001.0             THE Movie Streamer      games_video  operating   \n",
       "7       10002.0                 Synergie Media      advertising  operating   \n",
       "8       10003.0         Green Basti Ecosystems        cleantech  operating   \n",
       "9      100042.0                       HostNine              NaN  operating   \n",
       "10      10005.0              Thomas Publishing      advertising  operating   \n",
       "11     100062.0  Vetter Idea Management System       enterprise  operating   \n",
       "12     100068.0                     ChatRandom      games_video  operating   \n",
       "13      10008.0               ScapadasAmorosas            other  operating   \n",
       "14      10009.0                dimension5 labs      advertising  operating   \n",
       "15       1001.0                     FriendFeed              web   acquired   \n",
       "16      10010.0                      Whooligan      games_video  operating   \n",
       "17      10011.0           PoetryVisualized.com      games_video  operating   \n",
       "18      10012.0                moviestring.com      games_video     closed   \n",
       "19      10013.0                      The Adory       consulting  operating   \n",
       "\n",
       "   founded  at  closed  at                domain network  username  \\\n",
       "0   2005-10-17         NaN      wetpaint-inc.com   BachelrWetpaint   \n",
       "1   2005-10-17         NaN      wetpaint-inc.com   BachelrWetpaint   \n",
       "2   2005-10-17         NaN      wetpaint-inc.com   BachelrWetpaint   \n",
       "3          NaN         NaN           flektor.com               NaN   \n",
       "4          NaN         NaN             there.com               NaN   \n",
       "5   2008-07-26         NaN           mywebbo.com               NaN   \n",
       "6   2008-07-26         NaN  themoviestreamer.com               NaN   \n",
       "7   2007-06-27         NaN    synergie-media.com               NaN   \n",
       "8   2008-08-20         NaN                   NaN               NaN   \n",
       "9          NaN         NaN          hostnine.com          Hostnine   \n",
       "10         NaN         NaN  thomaspublishing.com               NaN   \n",
       "11  2011-08-01         NaN         getvetter.com         getvetter   \n",
       "12  2011-02-01         NaN        chatrandom.com        chatrandom   \n",
       "13  2007-03-01         NaN  scapadasamorosas.com               NaN   \n",
       "14  2008-08-01         NaN            d5labs.com               NaN   \n",
       "15  2007-10-01         NaN        friendfeed.com        friendfeed   \n",
       "16  2007-12-01         NaN         whooligan.com               NaN   \n",
       "17  2008-01-01         NaN  poetryvisualized.com               NaN   \n",
       "18  2008-08-22  2010-01-01       moviestring.com               NaN   \n",
       "19  2008-01-01         NaN          theadory.com         the_adory   \n",
       "\n",
       "   country  code  investment  rounds  ...  milestones  funding  round  id  \\\n",
       "0            USA                 0.0  ...         5.0               888.0   \n",
       "1            USA                 0.0  ...         5.0               889.0   \n",
       "2            USA                 0.0  ...         5.0              2312.0   \n",
       "3            USA                 0.0  ...         0.0                 NaN   \n",
       "4            USA                 0.0  ...         4.0                 NaN   \n",
       "5            NaN                 0.0  ...         0.0                 NaN   \n",
       "6            NaN                 0.0  ...         0.0                 NaN   \n",
       "7            MAR                 0.0  ...         0.0                 NaN   \n",
       "8            IND                 0.0  ...         0.0                 NaN   \n",
       "9            NaN                 0.0  ...         1.0                 NaN   \n",
       "10           USA                 0.0  ...         1.0                 NaN   \n",
       "11           NaN                 0.0  ...         1.0                 NaN   \n",
       "12           NaN                 0.0  ...         1.0                 NaN   \n",
       "13           NaN                 0.0  ...         0.0                 NaN   \n",
       "14           USA                 0.0  ...         1.0                 NaN   \n",
       "15           USA                 0.0  ...         3.0              1644.0   \n",
       "16           NaN                 0.0  ...         0.0                 NaN   \n",
       "17           USA                 0.0  ...         1.0                 NaN   \n",
       "18           NaN                 0.0  ...         0.0                 NaN   \n",
       "19           NaN                 0.0  ...         0.0                 NaN   \n",
       "\n",
       "    company  id  funded  at  funding  round  type raised  amount  \\\n",
       "0           1.0  2005-10-01              series-a      5250000.0   \n",
       "1           1.0  2007-01-01              series-b      9500000.0   \n",
       "2           1.0  2008-05-19             series-c+     25000000.0   \n",
       "3           NaN         NaN                   NaN            NaN   \n",
       "4           NaN         NaN                   NaN            NaN   \n",
       "5           NaN         NaN                   NaN            NaN   \n",
       "6           NaN         NaN                   NaN            NaN   \n",
       "7           NaN         NaN                   NaN            NaN   \n",
       "8           NaN         NaN                   NaN            NaN   \n",
       "9           NaN         NaN                   NaN            NaN   \n",
       "10          NaN         NaN                   NaN            NaN   \n",
       "11          NaN         NaN                   NaN            NaN   \n",
       "12          NaN         NaN                   NaN            NaN   \n",
       "13          NaN         NaN                   NaN            NaN   \n",
       "14          NaN         NaN                   NaN            NaN   \n",
       "15       1001.0  2008-02-26              series-a      5000000.0   \n",
       "16          NaN         NaN                   NaN            NaN   \n",
       "17          NaN         NaN                   NaN            NaN   \n",
       "18          NaN         NaN                   NaN            NaN   \n",
       "19          NaN         NaN                   NaN            NaN   \n",
       "\n",
       "   pre  money  valuation  participants  is  first  round  is  last  round  \n",
       "0                    0.0           2.0               0.0              1.0  \n",
       "1                    0.0           3.0               0.0              0.0  \n",
       "2                    0.0           4.0               1.0              0.0  \n",
       "3                    NaN           NaN               NaN              NaN  \n",
       "4                    NaN           NaN               NaN              NaN  \n",
       "5                    NaN           NaN               NaN              NaN  \n",
       "6                    NaN           NaN               NaN              NaN  \n",
       "7                    NaN           NaN               NaN              NaN  \n",
       "8                    NaN           NaN               NaN              NaN  \n",
       "9                    NaN           NaN               NaN              NaN  \n",
       "10                   NaN           NaN               NaN              NaN  \n",
       "11                   NaN           NaN               NaN              NaN  \n",
       "12                   NaN           NaN               NaN              NaN  \n",
       "13                   NaN           NaN               NaN              NaN  \n",
       "14                   NaN           NaN               NaN              NaN  \n",
       "15                   0.0           3.0               1.0              1.0  \n",
       "16                   NaN           NaN               NaN              NaN  \n",
       "17                   NaN           NaN               NaN              NaN  \n",
       "18                   NaN           NaN               NaN              NaN  \n",
       "19                   NaN           NaN               NaN              NaN  \n",
       "\n",
       "[20 rows x 22 columns]"
      ]
     },
     "execution_count": 3,
     "metadata": {},
     "output_type": "execute_result"
    }
   ],
   "source": [
    "# Знакомство с данными датафрейма company_and_rounds, который заказчик считает основным\n",
    "company_and_rounds.head(20)"
   ]
  },
  {
   "cell_type": "markdown",
   "metadata": {},
   "source": [
    "В названиях столбцов присутствуют пробелы. Приведем названия к стилю snake case. Так как присутствуют столбцы с одинаковыми названиями в разном регистре, нужно переименоовать один из них, во избежание путаницы."
   ]
  },
  {
   "cell_type": "code",
   "execution_count": 4,
   "metadata": {},
   "outputs": [
    {
     "data": {
      "text/plain": [
       "Index(['company  ID', 'name', 'category  code', 'status', 'founded  at',\n",
       "       'closed  at', 'domain', 'network  username', 'country  code',\n",
       "       'investment  rounds', 'funding  rounds', 'funding  total', 'milestones',\n",
       "       'funding  round  id', 'company  id', 'funded  at',\n",
       "       'funding  round  type', 'raised  amount', 'pre  money  valuation',\n",
       "       'participants', 'is  first  round', 'is  last  round'],\n",
       "      dtype='object')"
      ]
     },
     "execution_count": 4,
     "metadata": {},
     "output_type": "execute_result"
    }
   ],
   "source": [
    "# Названия столбцов до изменений\n",
    "company_and_rounds.columns"
   ]
  },
  {
   "cell_type": "code",
   "execution_count": 5,
   "metadata": {},
   "outputs": [
    {
     "data": {
      "text/plain": [
       "Index(['id', 'name', 'category_code', 'status', 'founded_at', 'closed_at',\n",
       "       'domain', 'network_username', 'country_code', 'investment_rounds',\n",
       "       'funding_rounds', 'funding_total', 'milestones', 'funding_round_id',\n",
       "       'company_id', 'funded_at', 'funding_round_type', 'raised_amount',\n",
       "       'pre_money_valuation', 'participants', 'is_first_round',\n",
       "       'is_last_round'],\n",
       "      dtype='object')"
      ]
     },
     "execution_count": 5,
     "metadata": {},
     "output_type": "execute_result"
    }
   ],
   "source": [
    "# Переимование столбца 'company ID' в 'id'\n",
    "company_and_rounds = company_and_rounds.rename(columns={'company  ID': 'id'})\n",
    "\n",
    "# Приведение столбцов в company_and_rounds к стилю snake case\n",
    "company_and_rounds.columns = company_and_rounds.columns.str.replace('  ','_')\n",
    "\n",
    "# Названия столбцов после изменений\n",
    "company_and_rounds.columns"
   ]
  },
  {
   "cell_type": "markdown",
   "metadata": {},
   "source": [
    "**Автоматизация анализа данных** с помощью  функции, которая выводит общую информацию о датафрейме, процент пропусков по столбцам, наличие дубликатов, число уникальных значений в данных."
   ]
  },
  {
   "cell_type": "code",
   "execution_count": 6,
   "metadata": {
    "scrolled": false
   },
   "outputs": [
    {
     "name": "stdout",
     "output_type": "stream",
     "text": [
      "----------       company_and_rounds.csv       ----------\n"
     ]
    },
    {
     "data": {
      "text/html": [
       "<div>\n",
       "<style scoped>\n",
       "    .dataframe tbody tr th:only-of-type {\n",
       "        vertical-align: middle;\n",
       "    }\n",
       "\n",
       "    .dataframe tbody tr th {\n",
       "        vertical-align: top;\n",
       "    }\n",
       "\n",
       "    .dataframe thead th {\n",
       "        text-align: right;\n",
       "    }\n",
       "</style>\n",
       "<table border=\"1\" class=\"dataframe\">\n",
       "  <thead>\n",
       "    <tr style=\"text-align: right;\">\n",
       "      <th></th>\n",
       "      <th>Тип данных колонки</th>\n",
       "      <th>Тип значения</th>\n",
       "      <th>Пропущено</th>\n",
       "      <th>0</th>\n",
       "      <th>91</th>\n",
       "      <th>217773</th>\n",
       "    </tr>\n",
       "  </thead>\n",
       "  <tbody>\n",
       "    <tr>\n",
       "      <th>company  ID</th>\n",
       "      <td>float64</td>\n",
       "      <td>&lt;class 'numpy.float64'&gt;</td>\n",
       "      <td>0.14%</td>\n",
       "      <td>1.0</td>\n",
       "      <td>1006.0</td>\n",
       "      <td>NaN</td>\n",
       "    </tr>\n",
       "    <tr>\n",
       "      <th>name</th>\n",
       "      <td>object</td>\n",
       "      <td>&lt;class 'str'&gt;</td>\n",
       "      <td>0.14%</td>\n",
       "      <td>Wetpaint</td>\n",
       "      <td>Youlicit</td>\n",
       "      <td>NaN</td>\n",
       "    </tr>\n",
       "    <tr>\n",
       "      <th>category  code</th>\n",
       "      <td>object</td>\n",
       "      <td>&lt;class 'str'&gt;</td>\n",
       "      <td>33.93%</td>\n",
       "      <td>web</td>\n",
       "      <td>web</td>\n",
       "      <td>NaN</td>\n",
       "    </tr>\n",
       "    <tr>\n",
       "      <th>status</th>\n",
       "      <td>object</td>\n",
       "      <td>&lt;class 'str'&gt;</td>\n",
       "      <td>0.14%</td>\n",
       "      <td>operating</td>\n",
       "      <td>closed</td>\n",
       "      <td>NaN</td>\n",
       "    </tr>\n",
       "    <tr>\n",
       "      <th>founded  at</th>\n",
       "      <td>object</td>\n",
       "      <td>&lt;class 'str'&gt;</td>\n",
       "      <td>49.51%</td>\n",
       "      <td>2005-10-17</td>\n",
       "      <td>2006-09-01</td>\n",
       "      <td>NaN</td>\n",
       "    </tr>\n",
       "    <tr>\n",
       "      <th>closed  at</th>\n",
       "      <td>object</td>\n",
       "      <td>&lt;class 'str'&gt;</td>\n",
       "      <td>98.42%</td>\n",
       "      <td>NaN</td>\n",
       "      <td>2010-05-22</td>\n",
       "      <td>NaN</td>\n",
       "    </tr>\n",
       "    <tr>\n",
       "      <th>domain</th>\n",
       "      <td>object</td>\n",
       "      <td>&lt;class 'str'&gt;</td>\n",
       "      <td>32.43%</td>\n",
       "      <td>wetpaint-inc.com</td>\n",
       "      <td>youlicit.com</td>\n",
       "      <td>NaN</td>\n",
       "    </tr>\n",
       "    <tr>\n",
       "      <th>network  username</th>\n",
       "      <td>object</td>\n",
       "      <td>&lt;class 'str'&gt;</td>\n",
       "      <td>56.13%</td>\n",
       "      <td>BachelrWetpaint</td>\n",
       "      <td>youlicit</td>\n",
       "      <td>NaN</td>\n",
       "    </tr>\n",
       "    <tr>\n",
       "      <th>country  code</th>\n",
       "      <td>object</td>\n",
       "      <td>&lt;class 'str'&gt;</td>\n",
       "      <td>50.13%</td>\n",
       "      <td>USA</td>\n",
       "      <td>USA</td>\n",
       "      <td>NaN</td>\n",
       "    </tr>\n",
       "    <tr>\n",
       "      <th>investment  rounds</th>\n",
       "      <td>float64</td>\n",
       "      <td>&lt;class 'numpy.float64'&gt;</td>\n",
       "      <td>0.14%</td>\n",
       "      <td>0.0</td>\n",
       "      <td>0.0</td>\n",
       "      <td>NaN</td>\n",
       "    </tr>\n",
       "    <tr>\n",
       "      <th>funding  rounds</th>\n",
       "      <td>float64</td>\n",
       "      <td>&lt;class 'numpy.float64'&gt;</td>\n",
       "      <td>0.14%</td>\n",
       "      <td>3.0</td>\n",
       "      <td>1.0</td>\n",
       "      <td>NaN</td>\n",
       "    </tr>\n",
       "    <tr>\n",
       "      <th>funding  total</th>\n",
       "      <td>float64</td>\n",
       "      <td>&lt;class 'numpy.float64'&gt;</td>\n",
       "      <td>0.14%</td>\n",
       "      <td>39750000.0</td>\n",
       "      <td>0.0</td>\n",
       "      <td>NaN</td>\n",
       "    </tr>\n",
       "    <tr>\n",
       "      <th>milestones</th>\n",
       "      <td>float64</td>\n",
       "      <td>&lt;class 'numpy.float64'&gt;</td>\n",
       "      <td>0.14%</td>\n",
       "      <td>5.0</td>\n",
       "      <td>0.0</td>\n",
       "      <td>NaN</td>\n",
       "    </tr>\n",
       "    <tr>\n",
       "      <th>funding  round  id</th>\n",
       "      <td>float64</td>\n",
       "      <td>&lt;class 'numpy.float64'&gt;</td>\n",
       "      <td>75.70%</td>\n",
       "      <td>888.0</td>\n",
       "      <td>3178.0</td>\n",
       "      <td>57063.0</td>\n",
       "    </tr>\n",
       "    <tr>\n",
       "      <th>company  id</th>\n",
       "      <td>float64</td>\n",
       "      <td>&lt;class 'numpy.float64'&gt;</td>\n",
       "      <td>75.70%</td>\n",
       "      <td>1.0</td>\n",
       "      <td>1006.0</td>\n",
       "      <td>284191.0</td>\n",
       "    </tr>\n",
       "    <tr>\n",
       "      <th>funded  at</th>\n",
       "      <td>object</td>\n",
       "      <td>&lt;class 'str'&gt;</td>\n",
       "      <td>75.81%</td>\n",
       "      <td>2005-10-01</td>\n",
       "      <td>2008-01-01</td>\n",
       "      <td>2013-12-04</td>\n",
       "    </tr>\n",
       "    <tr>\n",
       "      <th>funding  round  type</th>\n",
       "      <td>object</td>\n",
       "      <td>&lt;class 'str'&gt;</td>\n",
       "      <td>75.70%</td>\n",
       "      <td>series-a</td>\n",
       "      <td>angel</td>\n",
       "      <td>venture</td>\n",
       "    </tr>\n",
       "    <tr>\n",
       "      <th>raised  amount</th>\n",
       "      <td>float64</td>\n",
       "      <td>&lt;class 'numpy.float64'&gt;</td>\n",
       "      <td>75.70%</td>\n",
       "      <td>5250000.0</td>\n",
       "      <td>0.0</td>\n",
       "      <td>7000000.0</td>\n",
       "    </tr>\n",
       "    <tr>\n",
       "      <th>pre  money  valuation</th>\n",
       "      <td>float64</td>\n",
       "      <td>&lt;class 'numpy.float64'&gt;</td>\n",
       "      <td>75.70%</td>\n",
       "      <td>0.0</td>\n",
       "      <td>0.0</td>\n",
       "      <td>0.0</td>\n",
       "    </tr>\n",
       "    <tr>\n",
       "      <th>participants</th>\n",
       "      <td>float64</td>\n",
       "      <td>&lt;class 'numpy.float64'&gt;</td>\n",
       "      <td>75.70%</td>\n",
       "      <td>2.0</td>\n",
       "      <td>1.0</td>\n",
       "      <td>4.0</td>\n",
       "    </tr>\n",
       "    <tr>\n",
       "      <th>is  first  round</th>\n",
       "      <td>float64</td>\n",
       "      <td>&lt;class 'numpy.float64'&gt;</td>\n",
       "      <td>75.70%</td>\n",
       "      <td>0.0</td>\n",
       "      <td>1.0</td>\n",
       "      <td>1.0</td>\n",
       "    </tr>\n",
       "    <tr>\n",
       "      <th>is  last  round</th>\n",
       "      <td>float64</td>\n",
       "      <td>&lt;class 'numpy.float64'&gt;</td>\n",
       "      <td>75.70%</td>\n",
       "      <td>1.0</td>\n",
       "      <td>1.0</td>\n",
       "      <td>1.0</td>\n",
       "    </tr>\n",
       "  </tbody>\n",
       "</table>\n",
       "</div>"
      ],
      "text/plain": [
       "                      Тип данных колонки             Тип значения Пропущено  \\\n",
       "company  ID                      float64  <class 'numpy.float64'>     0.14%   \n",
       "name                              object            <class 'str'>     0.14%   \n",
       "category  code                    object            <class 'str'>    33.93%   \n",
       "status                            object            <class 'str'>     0.14%   \n",
       "founded  at                       object            <class 'str'>    49.51%   \n",
       "closed  at                        object            <class 'str'>    98.42%   \n",
       "domain                            object            <class 'str'>    32.43%   \n",
       "network  username                 object            <class 'str'>    56.13%   \n",
       "country  code                     object            <class 'str'>    50.13%   \n",
       "investment  rounds               float64  <class 'numpy.float64'>     0.14%   \n",
       "funding  rounds                  float64  <class 'numpy.float64'>     0.14%   \n",
       "funding  total                   float64  <class 'numpy.float64'>     0.14%   \n",
       "milestones                       float64  <class 'numpy.float64'>     0.14%   \n",
       "funding  round  id               float64  <class 'numpy.float64'>    75.70%   \n",
       "company  id                      float64  <class 'numpy.float64'>    75.70%   \n",
       "funded  at                        object            <class 'str'>    75.81%   \n",
       "funding  round  type              object            <class 'str'>    75.70%   \n",
       "raised  amount                   float64  <class 'numpy.float64'>    75.70%   \n",
       "pre  money  valuation            float64  <class 'numpy.float64'>    75.70%   \n",
       "participants                     float64  <class 'numpy.float64'>    75.70%   \n",
       "is  first  round                 float64  <class 'numpy.float64'>    75.70%   \n",
       "is  last  round                  float64  <class 'numpy.float64'>    75.70%   \n",
       "\n",
       "                                      0            91      217773  \n",
       "company  ID                         1.0        1006.0         NaN  \n",
       "name                           Wetpaint      Youlicit         NaN  \n",
       "category  code                      web           web         NaN  \n",
       "status                        operating        closed         NaN  \n",
       "founded  at                  2005-10-17    2006-09-01         NaN  \n",
       "closed  at                          NaN    2010-05-22         NaN  \n",
       "domain                 wetpaint-inc.com  youlicit.com         NaN  \n",
       "network  username       BachelrWetpaint      youlicit         NaN  \n",
       "country  code                       USA           USA         NaN  \n",
       "investment  rounds                  0.0           0.0         NaN  \n",
       "funding  rounds                     3.0           1.0         NaN  \n",
       "funding  total               39750000.0           0.0         NaN  \n",
       "milestones                          5.0           0.0         NaN  \n",
       "funding  round  id                888.0        3178.0     57063.0  \n",
       "company  id                         1.0        1006.0    284191.0  \n",
       "funded  at                   2005-10-01    2008-01-01  2013-12-04  \n",
       "funding  round  type           series-a         angel     venture  \n",
       "raised  amount                5250000.0           0.0   7000000.0  \n",
       "pre  money  valuation               0.0           0.0         0.0  \n",
       "participants                        2.0           1.0         4.0  \n",
       "is  first  round                    0.0           1.0         1.0  \n",
       "is  last  round                     1.0           1.0         1.0  "
      ]
     },
     "metadata": {},
     "output_type": "display_data"
    },
    {
     "name": "stdout",
     "output_type": "stream",
     "text": [
      "\n",
      "----------       acquisition.csv       ----------\n"
     ]
    },
    {
     "data": {
      "text/html": [
       "<div>\n",
       "<style scoped>\n",
       "    .dataframe tbody tr th:only-of-type {\n",
       "        vertical-align: middle;\n",
       "    }\n",
       "\n",
       "    .dataframe tbody tr th {\n",
       "        vertical-align: top;\n",
       "    }\n",
       "\n",
       "    .dataframe thead th {\n",
       "        text-align: right;\n",
       "    }\n",
       "</style>\n",
       "<table border=\"1\" class=\"dataframe\">\n",
       "  <thead>\n",
       "    <tr style=\"text-align: right;\">\n",
       "      <th></th>\n",
       "      <th>Тип данных колонки</th>\n",
       "      <th>Тип значения</th>\n",
       "      <th>Пропущено</th>\n",
       "      <th>0</th>\n",
       "      <th>1</th>\n",
       "      <th>9406</th>\n",
       "    </tr>\n",
       "  </thead>\n",
       "  <tbody>\n",
       "    <tr>\n",
       "      <th>id</th>\n",
       "      <td>int64</td>\n",
       "      <td>&lt;class 'numpy.int64'&gt;</td>\n",
       "      <td></td>\n",
       "      <td>1</td>\n",
       "      <td>7</td>\n",
       "      <td>10529</td>\n",
       "    </tr>\n",
       "    <tr>\n",
       "      <th>acquiring_company_id</th>\n",
       "      <td>int64</td>\n",
       "      <td>&lt;class 'numpy.int64'&gt;</td>\n",
       "      <td></td>\n",
       "      <td>11</td>\n",
       "      <td>59</td>\n",
       "      <td>53</td>\n",
       "    </tr>\n",
       "    <tr>\n",
       "      <th>acquired_company_id</th>\n",
       "      <td>int64</td>\n",
       "      <td>&lt;class 'numpy.int64'&gt;</td>\n",
       "      <td></td>\n",
       "      <td>10</td>\n",
       "      <td>72</td>\n",
       "      <td>92846</td>\n",
       "    </tr>\n",
       "    <tr>\n",
       "      <th>term_code</th>\n",
       "      <td>object</td>\n",
       "      <td>&lt;class 'str'&gt;</td>\n",
       "      <td>80.54%</td>\n",
       "      <td>NaN</td>\n",
       "      <td>cash</td>\n",
       "      <td>NaN</td>\n",
       "    </tr>\n",
       "    <tr>\n",
       "      <th>price_amount</th>\n",
       "      <td>int64</td>\n",
       "      <td>&lt;class 'numpy.int64'&gt;</td>\n",
       "      <td></td>\n",
       "      <td>20000000</td>\n",
       "      <td>60000000</td>\n",
       "      <td>42600000</td>\n",
       "    </tr>\n",
       "    <tr>\n",
       "      <th>acquired_at</th>\n",
       "      <td>object</td>\n",
       "      <td>&lt;class 'str'&gt;</td>\n",
       "      <td>0.31%</td>\n",
       "      <td>2007-05-30</td>\n",
       "      <td>2007-07-01</td>\n",
       "      <td>2013-12-12</td>\n",
       "    </tr>\n",
       "  </tbody>\n",
       "</table>\n",
       "</div>"
      ],
      "text/plain": [
       "                     Тип данных колонки           Тип значения Пропущено  \\\n",
       "id                                int64  <class 'numpy.int64'>             \n",
       "acquiring_company_id              int64  <class 'numpy.int64'>             \n",
       "acquired_company_id               int64  <class 'numpy.int64'>             \n",
       "term_code                        object          <class 'str'>    80.54%   \n",
       "price_amount                      int64  <class 'numpy.int64'>             \n",
       "acquired_at                      object          <class 'str'>     0.31%   \n",
       "\n",
       "                               0           1        9406  \n",
       "id                             1           7       10529  \n",
       "acquiring_company_id          11          59          53  \n",
       "acquired_company_id           10          72       92846  \n",
       "term_code                    NaN        cash         NaN  \n",
       "price_amount            20000000    60000000    42600000  \n",
       "acquired_at           2007-05-30  2007-07-01  2013-12-12  "
      ]
     },
     "metadata": {},
     "output_type": "display_data"
    },
    {
     "name": "stdout",
     "output_type": "stream",
     "text": [
      "\n",
      "----------       degrees.csv       ----------\n"
     ]
    },
    {
     "data": {
      "text/html": [
       "<div>\n",
       "<style scoped>\n",
       "    .dataframe tbody tr th:only-of-type {\n",
       "        vertical-align: middle;\n",
       "    }\n",
       "\n",
       "    .dataframe tbody tr th {\n",
       "        vertical-align: top;\n",
       "    }\n",
       "\n",
       "    .dataframe thead th {\n",
       "        text-align: right;\n",
       "    }\n",
       "</style>\n",
       "<table border=\"1\" class=\"dataframe\">\n",
       "  <thead>\n",
       "    <tr style=\"text-align: right;\">\n",
       "      <th></th>\n",
       "      <th>Тип данных колонки</th>\n",
       "      <th>Тип значения</th>\n",
       "      <th>Пропущено</th>\n",
       "      <th>0</th>\n",
       "      <th>1</th>\n",
       "      <th>109609</th>\n",
       "    </tr>\n",
       "  </thead>\n",
       "  <tbody>\n",
       "    <tr>\n",
       "      <th>id</th>\n",
       "      <td>int64</td>\n",
       "      <td>&lt;class 'numpy.int64'&gt;</td>\n",
       "      <td></td>\n",
       "      <td>1</td>\n",
       "      <td>2</td>\n",
       "      <td>109610</td>\n",
       "    </tr>\n",
       "    <tr>\n",
       "      <th>object_id</th>\n",
       "      <td>object</td>\n",
       "      <td>&lt;class 'str'&gt;</td>\n",
       "      <td></td>\n",
       "      <td>p:6117</td>\n",
       "      <td>p:6136</td>\n",
       "      <td>p:268528</td>\n",
       "    </tr>\n",
       "    <tr>\n",
       "      <th>degree_type</th>\n",
       "      <td>object</td>\n",
       "      <td>&lt;class 'str'&gt;</td>\n",
       "      <td>10.23%</td>\n",
       "      <td>MBA</td>\n",
       "      <td>BA</td>\n",
       "      <td>J.D.</td>\n",
       "    </tr>\n",
       "    <tr>\n",
       "      <th>subject</th>\n",
       "      <td>object</td>\n",
       "      <td>&lt;class 'str'&gt;</td>\n",
       "      <td>25.83%</td>\n",
       "      <td>NaN</td>\n",
       "      <td>English, French</td>\n",
       "      <td>NaN</td>\n",
       "    </tr>\n",
       "  </tbody>\n",
       "</table>\n",
       "</div>"
      ],
      "text/plain": [
       "            Тип данных колонки           Тип значения Пропущено       0  \\\n",
       "id                       int64  <class 'numpy.int64'>                 1   \n",
       "object_id               object          <class 'str'>            p:6117   \n",
       "degree_type             object          <class 'str'>    10.23%     MBA   \n",
       "subject                 object          <class 'str'>    25.83%     NaN   \n",
       "\n",
       "                           1    109609  \n",
       "id                         2    109610  \n",
       "object_id             p:6136  p:268528  \n",
       "degree_type               BA      J.D.  \n",
       "subject      English, French       NaN  "
      ]
     },
     "metadata": {},
     "output_type": "display_data"
    },
    {
     "name": "stdout",
     "output_type": "stream",
     "text": [
      "\n",
      "----------       education.csv       ----------\n"
     ]
    },
    {
     "data": {
      "text/html": [
       "<div>\n",
       "<style scoped>\n",
       "    .dataframe tbody tr th:only-of-type {\n",
       "        vertical-align: middle;\n",
       "    }\n",
       "\n",
       "    .dataframe tbody tr th {\n",
       "        vertical-align: top;\n",
       "    }\n",
       "\n",
       "    .dataframe thead th {\n",
       "        text-align: right;\n",
       "    }\n",
       "</style>\n",
       "<table border=\"1\" class=\"dataframe\">\n",
       "  <thead>\n",
       "    <tr style=\"text-align: right;\">\n",
       "      <th></th>\n",
       "      <th>Тип данных колонки</th>\n",
       "      <th>Тип значения</th>\n",
       "      <th>Пропущено</th>\n",
       "      <th>0</th>\n",
       "      <th>1</th>\n",
       "      <th>109609</th>\n",
       "    </tr>\n",
       "  </thead>\n",
       "  <tbody>\n",
       "    <tr>\n",
       "      <th>id</th>\n",
       "      <td>int64</td>\n",
       "      <td>&lt;class 'numpy.int64'&gt;</td>\n",
       "      <td></td>\n",
       "      <td>1</td>\n",
       "      <td>2</td>\n",
       "      <td>109610</td>\n",
       "    </tr>\n",
       "    <tr>\n",
       "      <th>person_id</th>\n",
       "      <td>int64</td>\n",
       "      <td>&lt;class 'numpy.int64'&gt;</td>\n",
       "      <td></td>\n",
       "      <td>6117</td>\n",
       "      <td>6136</td>\n",
       "      <td>268528</td>\n",
       "    </tr>\n",
       "    <tr>\n",
       "      <th>instituition</th>\n",
       "      <td>object</td>\n",
       "      <td>&lt;class 'str'&gt;</td>\n",
       "      <td>0.05%</td>\n",
       "      <td>NaN</td>\n",
       "      <td>Washington University, St. Louis</td>\n",
       "      <td>University of San Diego School of Law</td>\n",
       "    </tr>\n",
       "    <tr>\n",
       "      <th>graduated_at</th>\n",
       "      <td>object</td>\n",
       "      <td>&lt;class 'str'&gt;</td>\n",
       "      <td>47.04%</td>\n",
       "      <td>NaN</td>\n",
       "      <td>1990-01-01</td>\n",
       "      <td>NaN</td>\n",
       "    </tr>\n",
       "  </tbody>\n",
       "</table>\n",
       "</div>"
      ],
      "text/plain": [
       "             Тип данных колонки           Тип значения Пропущено     0  \\\n",
       "id                        int64  <class 'numpy.int64'>               1   \n",
       "person_id                 int64  <class 'numpy.int64'>            6117   \n",
       "instituition             object          <class 'str'>     0.05%   NaN   \n",
       "graduated_at             object          <class 'str'>    47.04%   NaN   \n",
       "\n",
       "                                             1  \\\n",
       "id                                           2   \n",
       "person_id                                 6136   \n",
       "instituition  Washington University, St. Louis   \n",
       "graduated_at                        1990-01-01   \n",
       "\n",
       "                                             109609  \n",
       "id                                           109610  \n",
       "person_id                                    268528  \n",
       "instituition  University of San Diego School of Law  \n",
       "graduated_at                                    NaN  "
      ]
     },
     "metadata": {},
     "output_type": "display_data"
    },
    {
     "name": "stdout",
     "output_type": "stream",
     "text": [
      "\n",
      "----------       fund.csv       ----------\n"
     ]
    },
    {
     "data": {
      "text/html": [
       "<div>\n",
       "<style scoped>\n",
       "    .dataframe tbody tr th:only-of-type {\n",
       "        vertical-align: middle;\n",
       "    }\n",
       "\n",
       "    .dataframe tbody tr th {\n",
       "        vertical-align: top;\n",
       "    }\n",
       "\n",
       "    .dataframe thead th {\n",
       "        text-align: right;\n",
       "    }\n",
       "</style>\n",
       "<table border=\"1\" class=\"dataframe\">\n",
       "  <thead>\n",
       "    <tr style=\"text-align: right;\">\n",
       "      <th></th>\n",
       "      <th>Тип данных колонки</th>\n",
       "      <th>Тип значения</th>\n",
       "      <th>Пропущено</th>\n",
       "      <th>0</th>\n",
       "      <th>1</th>\n",
       "      <th>11651</th>\n",
       "    </tr>\n",
       "  </thead>\n",
       "  <tbody>\n",
       "    <tr>\n",
       "      <th>id</th>\n",
       "      <td>int64</td>\n",
       "      <td>&lt;class 'numpy.int64'&gt;</td>\n",
       "      <td></td>\n",
       "      <td>13131</td>\n",
       "      <td>1</td>\n",
       "      <td>2553</td>\n",
       "    </tr>\n",
       "    <tr>\n",
       "      <th>name</th>\n",
       "      <td>object</td>\n",
       "      <td>&lt;class 'str'&gt;</td>\n",
       "      <td>0.02%</td>\n",
       "      <td>NaN</td>\n",
       "      <td>Greylock Partners</td>\n",
       "      <td>fbFund</td>\n",
       "    </tr>\n",
       "    <tr>\n",
       "      <th>founded_at</th>\n",
       "      <td>object</td>\n",
       "      <td>&lt;class 'str'&gt;</td>\n",
       "      <td>60.48%</td>\n",
       "      <td>NaN</td>\n",
       "      <td>1965-01-01</td>\n",
       "      <td>NaN</td>\n",
       "    </tr>\n",
       "    <tr>\n",
       "      <th>domain</th>\n",
       "      <td>object</td>\n",
       "      <td>&lt;class 'str'&gt;</td>\n",
       "      <td>36.82%</td>\n",
       "      <td>NaN</td>\n",
       "      <td>greylock.com</td>\n",
       "      <td>developers.socialnet.com::fbfund.php</td>\n",
       "    </tr>\n",
       "    <tr>\n",
       "      <th>network_username</th>\n",
       "      <td>object</td>\n",
       "      <td>&lt;class 'str'&gt;</td>\n",
       "      <td>81.56%</td>\n",
       "      <td>NaN</td>\n",
       "      <td>greylockvc</td>\n",
       "      <td>fbFund</td>\n",
       "    </tr>\n",
       "    <tr>\n",
       "      <th>country_code</th>\n",
       "      <td>object</td>\n",
       "      <td>&lt;class 'str'&gt;</td>\n",
       "      <td>39.47%</td>\n",
       "      <td>NaN</td>\n",
       "      <td>USA</td>\n",
       "      <td>NaN</td>\n",
       "    </tr>\n",
       "    <tr>\n",
       "      <th>investment_rounds</th>\n",
       "      <td>int64</td>\n",
       "      <td>&lt;class 'numpy.int64'&gt;</td>\n",
       "      <td></td>\n",
       "      <td>0</td>\n",
       "      <td>307</td>\n",
       "      <td>23</td>\n",
       "    </tr>\n",
       "    <tr>\n",
       "      <th>invested_companies</th>\n",
       "      <td>int64</td>\n",
       "      <td>&lt;class 'numpy.int64'&gt;</td>\n",
       "      <td></td>\n",
       "      <td>0</td>\n",
       "      <td>196</td>\n",
       "      <td>21</td>\n",
       "    </tr>\n",
       "    <tr>\n",
       "      <th>milestones</th>\n",
       "      <td>int64</td>\n",
       "      <td>&lt;class 'numpy.int64'&gt;</td>\n",
       "      <td></td>\n",
       "      <td>0</td>\n",
       "      <td>0</td>\n",
       "      <td>2</td>\n",
       "    </tr>\n",
       "  </tbody>\n",
       "</table>\n",
       "</div>"
      ],
      "text/plain": [
       "                   Тип данных колонки           Тип значения Пропущено      0  \\\n",
       "id                              int64  <class 'numpy.int64'>            13131   \n",
       "name                           object          <class 'str'>     0.02%    NaN   \n",
       "founded_at                     object          <class 'str'>    60.48%    NaN   \n",
       "domain                         object          <class 'str'>    36.82%    NaN   \n",
       "network_username               object          <class 'str'>    81.56%    NaN   \n",
       "country_code                   object          <class 'str'>    39.47%    NaN   \n",
       "investment_rounds               int64  <class 'numpy.int64'>                0   \n",
       "invested_companies              int64  <class 'numpy.int64'>                0   \n",
       "milestones                      int64  <class 'numpy.int64'>                0   \n",
       "\n",
       "                                    1                                 11651  \n",
       "id                                  1                                  2553  \n",
       "name                Greylock Partners                                fbFund  \n",
       "founded_at                 1965-01-01                                   NaN  \n",
       "domain                   greylock.com  developers.socialnet.com::fbfund.php  \n",
       "network_username           greylockvc                                fbFund  \n",
       "country_code                      USA                                   NaN  \n",
       "investment_rounds                 307                                    23  \n",
       "invested_companies                196                                    21  \n",
       "milestones                          0                                     2  "
      ]
     },
     "metadata": {},
     "output_type": "display_data"
    },
    {
     "name": "stdout",
     "output_type": "stream",
     "text": [
      "\n",
      "----------       investment.csv       ----------\n"
     ]
    },
    {
     "data": {
      "text/html": [
       "<div>\n",
       "<style scoped>\n",
       "    .dataframe tbody tr th:only-of-type {\n",
       "        vertical-align: middle;\n",
       "    }\n",
       "\n",
       "    .dataframe tbody tr th {\n",
       "        vertical-align: top;\n",
       "    }\n",
       "\n",
       "    .dataframe thead th {\n",
       "        text-align: right;\n",
       "    }\n",
       "</style>\n",
       "<table border=\"1\" class=\"dataframe\">\n",
       "  <thead>\n",
       "    <tr style=\"text-align: right;\">\n",
       "      <th></th>\n",
       "      <th>Тип данных колонки</th>\n",
       "      <th>Тип значения</th>\n",
       "      <th></th>\n",
       "      <th>0</th>\n",
       "      <th>1</th>\n",
       "      <th>61402</th>\n",
       "    </tr>\n",
       "  </thead>\n",
       "  <tbody>\n",
       "    <tr>\n",
       "      <th>id</th>\n",
       "      <td>int64</td>\n",
       "      <td>&lt;class 'int'&gt;</td>\n",
       "      <td></td>\n",
       "      <td>1</td>\n",
       "      <td>2</td>\n",
       "      <td>61403</td>\n",
       "    </tr>\n",
       "    <tr>\n",
       "      <th>funding_round_id</th>\n",
       "      <td>int64</td>\n",
       "      <td>&lt;class 'int'&gt;</td>\n",
       "      <td></td>\n",
       "      <td>1</td>\n",
       "      <td>1</td>\n",
       "      <td>57948</td>\n",
       "    </tr>\n",
       "    <tr>\n",
       "      <th>company_id</th>\n",
       "      <td>int64</td>\n",
       "      <td>&lt;class 'int'&gt;</td>\n",
       "      <td></td>\n",
       "      <td>4</td>\n",
       "      <td>4</td>\n",
       "      <td>211890</td>\n",
       "    </tr>\n",
       "    <tr>\n",
       "      <th>fund_id</th>\n",
       "      <td>int64</td>\n",
       "      <td>&lt;class 'int'&gt;</td>\n",
       "      <td></td>\n",
       "      <td>1</td>\n",
       "      <td>2</td>\n",
       "      <td>2101</td>\n",
       "    </tr>\n",
       "  </tbody>\n",
       "</table>\n",
       "</div>"
      ],
      "text/plain": [
       "                 Тип данных колонки   Тип значения    0  1   61402\n",
       "id                            int64  <class 'int'>    1  2   61403\n",
       "funding_round_id              int64  <class 'int'>    1  1   57948\n",
       "company_id                    int64  <class 'int'>    4  4  211890\n",
       "fund_id                       int64  <class 'int'>    1  2    2101"
      ]
     },
     "metadata": {},
     "output_type": "display_data"
    },
    {
     "name": "stdout",
     "output_type": "stream",
     "text": [
      "\n",
      "----------       people.csv       ----------\n"
     ]
    },
    {
     "data": {
      "text/html": [
       "<div>\n",
       "<style scoped>\n",
       "    .dataframe tbody tr th:only-of-type {\n",
       "        vertical-align: middle;\n",
       "    }\n",
       "\n",
       "    .dataframe tbody tr th {\n",
       "        vertical-align: top;\n",
       "    }\n",
       "\n",
       "    .dataframe thead th {\n",
       "        text-align: right;\n",
       "    }\n",
       "</style>\n",
       "<table border=\"1\" class=\"dataframe\">\n",
       "  <thead>\n",
       "    <tr style=\"text-align: right;\">\n",
       "      <th></th>\n",
       "      <th>Тип данных колонки</th>\n",
       "      <th>Тип значения</th>\n",
       "      <th>Пропущено</th>\n",
       "      <th>0</th>\n",
       "      <th>6</th>\n",
       "      <th>226708</th>\n",
       "    </tr>\n",
       "  </thead>\n",
       "  <tbody>\n",
       "    <tr>\n",
       "      <th>id</th>\n",
       "      <td>int64</td>\n",
       "      <td>&lt;class 'numpy.int64'&gt;</td>\n",
       "      <td></td>\n",
       "      <td>10</td>\n",
       "      <td>100006</td>\n",
       "      <td>178190</td>\n",
       "    </tr>\n",
       "    <tr>\n",
       "      <th>first_name</th>\n",
       "      <td>object</td>\n",
       "      <td>&lt;class 'str'&gt;</td>\n",
       "      <td>0.00%</td>\n",
       "      <td>Mark</td>\n",
       "      <td>Courtney</td>\n",
       "      <td>Alex</td>\n",
       "    </tr>\n",
       "    <tr>\n",
       "      <th>last_name</th>\n",
       "      <td>object</td>\n",
       "      <td>&lt;class 'str'&gt;</td>\n",
       "      <td>0.00%</td>\n",
       "      <td>Zuckerberg</td>\n",
       "      <td>Homer</td>\n",
       "      <td>Smith</td>\n",
       "    </tr>\n",
       "    <tr>\n",
       "      <th>company_id</th>\n",
       "      <td>float64</td>\n",
       "      <td>&lt;class 'numpy.float64'&gt;</td>\n",
       "      <td>84.73%</td>\n",
       "      <td>5.0</td>\n",
       "      <td>81558.0</td>\n",
       "      <td>NaN</td>\n",
       "    </tr>\n",
       "    <tr>\n",
       "      <th>network_username</th>\n",
       "      <td>object</td>\n",
       "      <td>&lt;class 'str'&gt;</td>\n",
       "      <td>82.86%</td>\n",
       "      <td>NaN</td>\n",
       "      <td>jobsbostontech</td>\n",
       "      <td>esocialnetlike</td>\n",
       "    </tr>\n",
       "  </tbody>\n",
       "</table>\n",
       "</div>"
      ],
      "text/plain": [
       "                 Тип данных колонки             Тип значения Пропущено  \\\n",
       "id                            int64    <class 'numpy.int64'>             \n",
       "first_name                   object            <class 'str'>     0.00%   \n",
       "last_name                    object            <class 'str'>     0.00%   \n",
       "company_id                  float64  <class 'numpy.float64'>    84.73%   \n",
       "network_username             object            <class 'str'>    82.86%   \n",
       "\n",
       "                           0               6          226708  \n",
       "id                        10          100006          178190  \n",
       "first_name              Mark        Courtney            Alex  \n",
       "last_name         Zuckerberg           Homer           Smith  \n",
       "company_id               5.0         81558.0             NaN  \n",
       "network_username         NaN  jobsbostontech  esocialnetlike  "
      ]
     },
     "metadata": {},
     "output_type": "display_data"
    },
    {
     "name": "stdout",
     "output_type": "stream",
     "text": [
      "\n"
     ]
    }
   ],
   "source": [
    "# Создаем список названий файлов\n",
    "filenames = ['company_and_rounds.csv', 'acquisition.csv', 'degrees.csv', 'education.csv', 'fund.csv', 'investment.csv', 'people.csv']\n",
    "# Создаем список датафреймов\n",
    "dfs = {file: pd.read_csv(base_url + file) for file in filenames}\n",
    "\n",
    "\n",
    "def lookup_datasets(dfs, filenames=None):\n",
    "    \"\"\"\n",
    "    Выводит информацию о датасетах из списка\n",
    "\n",
    "    Parameters:\n",
    "        dfs (list of pd.DataFrame): Список датафреймов для обработки.\n",
    "        filenames (list of str): Список названий файлов (имена для отображения).\n",
    "    \"\"\"\n",
    "    if filenames is None:\n",
    "        filenames = [f\"df_{i + 1}\" for i in range(len(dfs))]\n",
    "\n",
    "    for df, df_name in zip(dfs, filenames):\n",
    "        print('-'*10,' '*5, df_name, ' '*5, '-'*10)\n",
    "\n",
    "        # Пропущенные значения\n",
    "        missing_data = df.isna().mean()\n",
    "        missing_data_result = missing_data.apply(lambda x: f'{x:.2%}' if x > 0 else \"\")\n",
    "        missing_data_name = \"Пропущено\" if missing_data.sum() > 0 else \"\"\n",
    "        missing_data_result.name = missing_data_name\n",
    "\n",
    "        # Типы данных\n",
    "        dtypes_result = df.dtypes\n",
    "        dtypes_result.name = \"Тип данных колонки\"\n",
    "        fewest_nans_row = df.iloc[1:-1].isna().sum(axis=1).idxmin()\n",
    "\n",
    "        values_type = df.loc[fewest_nans_row].map(type).T\n",
    "        values_type.name = \"Тип значения\"\n",
    "\n",
    "        # Объединяем результаты и пример данных\n",
    "        result = pd.concat([\n",
    "            dtypes_result, # типы\n",
    "            values_type, # типы значений\n",
    "            missing_data_result, # пропущенные значения\n",
    "            df.iloc[0, :], # первая строка\n",
    "            df.loc[fewest_nans_row].T, # полная строка\n",
    "            df.iloc[-1, :] # последняя строка\n",
    "        ], axis=1)\n",
    "\n",
    "        display(result)\n",
    "\n",
    "        # Проверка на полные дубликаты\n",
    "        duplicates = df.duplicated().mean()\n",
    "        if duplicates > 0:\n",
    "            print(f'Полных дубликатов: {duplicates:.2%}')\n",
    "\n",
    "        print()\n",
    "\n",
    "# Проводим автоматический осмотр данных\n",
    "column_counts = lookup_datasets(dfs.values(), dfs.keys())"
   ]
  },
  {
   "cell_type": "markdown",
   "metadata": {},
   "source": [
    "В датафрейме `company_and_rounds` содержится информация о компаниях и раундах финансирования.\n",
    "- всего 217774 строк, 22 столбца\n",
    "- 12 столбцов с типом данных float64\n",
    "- 10 столбцов с типом данных object. В столбце founded_at содержится дата финансирования, тип данных некорректен \n",
    "- пропуски есть во всех столбцах\n",
    " \n",
    "Названия столбцов соответствуют содержанию. Есть столбцы с идентичным названием, но с разным содержанием `company_ID` и `company_id`. Чтобы избежать ошибок при одинаковом имени столбцов, столбец `company_ID` переименован в `id`.\n",
    "\n",
    "Столбцы `is_first_round` и `is_last_round` показывают наличие у клиента того или иного признака и содержат значения `1` или `0`."
   ]
  },
  {
   "cell_type": "markdown",
   "metadata": {},
   "source": [
    "В датафрейме `acquisition` содержится информация о покупках одними компаниями других компаний.\n",
    "\n",
    "- всего 9407 строк, 6 столбцов\n",
    "- 4 столбца с типом данных int64\n",
    "- 2 столбца с типом данных object. В столбце acquired_at содержится дата финансирования, тип данных некорректен.\n",
    "- пропуски есть в двух столбцах\n",
    "- названия столбцов соответствуют содержанию."
   ]
  },
  {
   "cell_type": "markdown",
   "metadata": {},
   "source": [
    "В датафрейме `degrees` содержится информация о типе образования сотрудника.\n",
    "\n",
    "- всего 109610 строк, 4 столбца\n",
    "- 1 столбец с типом данных int64\n",
    "- 3 столбца с типом данных object\n",
    "- пропуски есть в двух столбцах\n",
    "- названия столбцов соответствуют содержанию."
   ]
  },
  {
   "cell_type": "markdown",
   "metadata": {},
   "source": [
    "В датафрейме `education` содержится информация о покупках одними компаниями других компаний.\n",
    "\n",
    "- всего 109610 строк, 4 столбца\n",
    "- 1 столбец с типом данных int64\n",
    "- 3 столбца с типом данных object.  В столбце graduated_at содержится дата получения образования, тип данных некорректен.\n",
    "- пропуски есть в двух столбцах\n",
    "- названия столбцов соответствуют содержанию."
   ]
  },
  {
   "cell_type": "markdown",
   "metadata": {},
   "source": [
    "В датафрейме `fund` содержится информация о фондах.\n",
    "\n",
    "- всего 11652 строк, 9 столбцов\n",
    "- 4 столбца с типом данных int64\n",
    "- 5 столбцов с типом данных object\n",
    "- пропуски есть в пяти столбцах\n",
    "- названия столбцов соответствуют содержанию."
   ]
  },
  {
   "cell_type": "markdown",
   "metadata": {},
   "source": [
    "В датафрейме `investment` содержится информация о раундах инвестирования.\n",
    "\n",
    "- всего 6140 строк, 4 столбца\n",
    "- 4 столбца с типом данных int64\n",
    "- пропусков нет\n",
    "- названия столбцов соответствуют содержанию."
   ]
  },
  {
   "cell_type": "markdown",
   "metadata": {},
   "source": [
    "В датафрейме `people` содержится информация о сотрудниках.\n",
    "\n",
    "- всего 226709 строк, 5 столбцов\n",
    "- 1 столбец с типом данных float64\n",
    "- 1 столбец с типом данных int64\n",
    "- 3 столбца с типом данных object\n",
    "- пропуски есть в четырех столбцах\n",
    "- названия столбцов соответствуют содержанию."
   ]
  },
  {
   "cell_type": "markdown",
   "metadata": {
    "id": "mg2gEwh0rJg0"
   },
   "source": [
    "### Смена типов данных и анализ пропусков"
   ]
  },
  {
   "cell_type": "markdown",
   "metadata": {},
   "source": [
    "В датафреймах `company_and_rounds`, `acquisition`, `education`, `fund в столбцах` с типом `object` содержится дата и время. Для столбцов, содержащих дату и время нужжно изменить тип данных на `datetime64`"
   ]
  },
  {
   "cell_type": "code",
   "execution_count": 7,
   "metadata": {},
   "outputs": [
    {
     "name": "stdout",
     "output_type": "stream",
     "text": [
      "<class 'pandas.core.frame.DataFrame'>\n",
      "RangeIndex: 217774 entries, 0 to 217773\n",
      "Data columns (total 22 columns):\n",
      " #   Column               Non-Null Count   Dtype         \n",
      "---  ------               --------------   -----         \n",
      " 0   id                   217472 non-null  float64       \n",
      " 1   name                 217472 non-null  object        \n",
      " 2   category_code        143886 non-null  object        \n",
      " 3   status               217472 non-null  object        \n",
      " 4   founded_at           109956 non-null  datetime64[ns]\n",
      " 5   closed_at            3449 non-null    datetime64[ns]\n",
      " 6   domain               147159 non-null  object        \n",
      " 7   network_username     95534 non-null   object        \n",
      " 8   country_code         108607 non-null  object        \n",
      " 9   investment_rounds    217472 non-null  float64       \n",
      " 10  funding_rounds       217472 non-null  float64       \n",
      " 11  funding_total        217472 non-null  float64       \n",
      " 12  milestones           217472 non-null  float64       \n",
      " 13  funding_round_id     52928 non-null   float64       \n",
      " 14  company_id           52928 non-null   float64       \n",
      " 15  funded_at            52680 non-null   datetime64[ns]\n",
      " 16  funding_round_type   52928 non-null   object        \n",
      " 17  raised_amount        52928 non-null   float64       \n",
      " 18  pre_money_valuation  52928 non-null   float64       \n",
      " 19  participants         52928 non-null   float64       \n",
      " 20  is_first_round       52928 non-null   float64       \n",
      " 21  is_last_round        52928 non-null   float64       \n",
      "dtypes: datetime64[ns](3), float64(12), object(7)\n",
      "memory usage: 36.6+ MB\n"
     ]
    }
   ],
   "source": [
    "# Изменение типа данных в датафрейме company_and_rounds\n",
    "company_and_rounds[['founded_at', 'closed_at', 'funded_at']] = company_and_rounds[['founded_at', 'closed_at', 'funded_at']].astype('datetime64[ns]')\n",
    "# Информация о датафрейме с новым типом данных\n",
    "company_and_rounds.info()"
   ]
  },
  {
   "cell_type": "code",
   "execution_count": 8,
   "metadata": {},
   "outputs": [],
   "source": [
    "# Выделение года из столбцов с датами для удобства анализа по годам \n",
    "company_and_rounds[['founded_year', 'closed_year', 'funded_year']] = company_and_rounds[['founded_at', 'closed_at', 'funded_at']].apply(lambda x: x.dt.year)"
   ]
  },
  {
   "cell_type": "code",
   "execution_count": 9,
   "metadata": {},
   "outputs": [
    {
     "data": {
      "text/html": [
       "<div>\n",
       "<style scoped>\n",
       "    .dataframe tbody tr th:only-of-type {\n",
       "        vertical-align: middle;\n",
       "    }\n",
       "\n",
       "    .dataframe tbody tr th {\n",
       "        vertical-align: top;\n",
       "    }\n",
       "\n",
       "    .dataframe thead th {\n",
       "        text-align: right;\n",
       "    }\n",
       "</style>\n",
       "<table border=\"1\" class=\"dataframe\">\n",
       "  <thead>\n",
       "    <tr style=\"text-align: right;\">\n",
       "      <th></th>\n",
       "      <th>id</th>\n",
       "      <th>name</th>\n",
       "      <th>category_code</th>\n",
       "      <th>status</th>\n",
       "      <th>founded_at</th>\n",
       "      <th>closed_at</th>\n",
       "      <th>domain</th>\n",
       "      <th>network_username</th>\n",
       "      <th>country_code</th>\n",
       "      <th>investment_rounds</th>\n",
       "      <th>...</th>\n",
       "      <th>funded_at</th>\n",
       "      <th>funding_round_type</th>\n",
       "      <th>raised_amount</th>\n",
       "      <th>pre_money_valuation</th>\n",
       "      <th>participants</th>\n",
       "      <th>is_first_round</th>\n",
       "      <th>is_last_round</th>\n",
       "      <th>founded_year</th>\n",
       "      <th>closed_year</th>\n",
       "      <th>funded_year</th>\n",
       "    </tr>\n",
       "  </thead>\n",
       "  <tbody>\n",
       "    <tr>\n",
       "      <th>0</th>\n",
       "      <td>1.0</td>\n",
       "      <td>Wetpaint</td>\n",
       "      <td>web</td>\n",
       "      <td>operating</td>\n",
       "      <td>2005-10-17</td>\n",
       "      <td>NaT</td>\n",
       "      <td>wetpaint-inc.com</td>\n",
       "      <td>BachelrWetpaint</td>\n",
       "      <td>USA</td>\n",
       "      <td>0.0</td>\n",
       "      <td>...</td>\n",
       "      <td>2005-10-01</td>\n",
       "      <td>series-a</td>\n",
       "      <td>5250000.0</td>\n",
       "      <td>0.0</td>\n",
       "      <td>2.0</td>\n",
       "      <td>0.0</td>\n",
       "      <td>1.0</td>\n",
       "      <td>2005.0</td>\n",
       "      <td>NaN</td>\n",
       "      <td>2005.0</td>\n",
       "    </tr>\n",
       "    <tr>\n",
       "      <th>1</th>\n",
       "      <td>1.0</td>\n",
       "      <td>Wetpaint</td>\n",
       "      <td>web</td>\n",
       "      <td>operating</td>\n",
       "      <td>2005-10-17</td>\n",
       "      <td>NaT</td>\n",
       "      <td>wetpaint-inc.com</td>\n",
       "      <td>BachelrWetpaint</td>\n",
       "      <td>USA</td>\n",
       "      <td>0.0</td>\n",
       "      <td>...</td>\n",
       "      <td>2007-01-01</td>\n",
       "      <td>series-b</td>\n",
       "      <td>9500000.0</td>\n",
       "      <td>0.0</td>\n",
       "      <td>3.0</td>\n",
       "      <td>0.0</td>\n",
       "      <td>0.0</td>\n",
       "      <td>2005.0</td>\n",
       "      <td>NaN</td>\n",
       "      <td>2007.0</td>\n",
       "    </tr>\n",
       "    <tr>\n",
       "      <th>2</th>\n",
       "      <td>1.0</td>\n",
       "      <td>Wetpaint</td>\n",
       "      <td>web</td>\n",
       "      <td>operating</td>\n",
       "      <td>2005-10-17</td>\n",
       "      <td>NaT</td>\n",
       "      <td>wetpaint-inc.com</td>\n",
       "      <td>BachelrWetpaint</td>\n",
       "      <td>USA</td>\n",
       "      <td>0.0</td>\n",
       "      <td>...</td>\n",
       "      <td>2008-05-19</td>\n",
       "      <td>series-c+</td>\n",
       "      <td>25000000.0</td>\n",
       "      <td>0.0</td>\n",
       "      <td>4.0</td>\n",
       "      <td>1.0</td>\n",
       "      <td>0.0</td>\n",
       "      <td>2005.0</td>\n",
       "      <td>NaN</td>\n",
       "      <td>2008.0</td>\n",
       "    </tr>\n",
       "    <tr>\n",
       "      <th>3</th>\n",
       "      <td>10.0</td>\n",
       "      <td>Flektor</td>\n",
       "      <td>games_video</td>\n",
       "      <td>acquired</td>\n",
       "      <td>NaT</td>\n",
       "      <td>NaT</td>\n",
       "      <td>flektor.com</td>\n",
       "      <td>NaN</td>\n",
       "      <td>USA</td>\n",
       "      <td>0.0</td>\n",
       "      <td>...</td>\n",
       "      <td>NaT</td>\n",
       "      <td>NaN</td>\n",
       "      <td>NaN</td>\n",
       "      <td>NaN</td>\n",
       "      <td>NaN</td>\n",
       "      <td>NaN</td>\n",
       "      <td>NaN</td>\n",
       "      <td>NaN</td>\n",
       "      <td>NaN</td>\n",
       "      <td>NaN</td>\n",
       "    </tr>\n",
       "    <tr>\n",
       "      <th>4</th>\n",
       "      <td>100.0</td>\n",
       "      <td>There</td>\n",
       "      <td>games_video</td>\n",
       "      <td>acquired</td>\n",
       "      <td>NaT</td>\n",
       "      <td>NaT</td>\n",
       "      <td>there.com</td>\n",
       "      <td>NaN</td>\n",
       "      <td>USA</td>\n",
       "      <td>0.0</td>\n",
       "      <td>...</td>\n",
       "      <td>NaT</td>\n",
       "      <td>NaN</td>\n",
       "      <td>NaN</td>\n",
       "      <td>NaN</td>\n",
       "      <td>NaN</td>\n",
       "      <td>NaN</td>\n",
       "      <td>NaN</td>\n",
       "      <td>NaN</td>\n",
       "      <td>NaN</td>\n",
       "      <td>NaN</td>\n",
       "    </tr>\n",
       "  </tbody>\n",
       "</table>\n",
       "<p>5 rows × 25 columns</p>\n",
       "</div>"
      ],
      "text/plain": [
       "      id      name category_code     status founded_at closed_at  \\\n",
       "0    1.0  Wetpaint           web  operating 2005-10-17       NaT   \n",
       "1    1.0  Wetpaint           web  operating 2005-10-17       NaT   \n",
       "2    1.0  Wetpaint           web  operating 2005-10-17       NaT   \n",
       "3   10.0   Flektor   games_video   acquired        NaT       NaT   \n",
       "4  100.0     There   games_video   acquired        NaT       NaT   \n",
       "\n",
       "             domain network_username country_code  investment_rounds  ...  \\\n",
       "0  wetpaint-inc.com  BachelrWetpaint          USA                0.0  ...   \n",
       "1  wetpaint-inc.com  BachelrWetpaint          USA                0.0  ...   \n",
       "2  wetpaint-inc.com  BachelrWetpaint          USA                0.0  ...   \n",
       "3       flektor.com              NaN          USA                0.0  ...   \n",
       "4         there.com              NaN          USA                0.0  ...   \n",
       "\n",
       "   funded_at  funding_round_type  raised_amount  pre_money_valuation  \\\n",
       "0 2005-10-01            series-a      5250000.0                  0.0   \n",
       "1 2007-01-01            series-b      9500000.0                  0.0   \n",
       "2 2008-05-19           series-c+     25000000.0                  0.0   \n",
       "3        NaT                 NaN            NaN                  NaN   \n",
       "4        NaT                 NaN            NaN                  NaN   \n",
       "\n",
       "   participants is_first_round is_last_round  founded_year  closed_year  \\\n",
       "0           2.0            0.0           1.0        2005.0          NaN   \n",
       "1           3.0            0.0           0.0        2005.0          NaN   \n",
       "2           4.0            1.0           0.0        2005.0          NaN   \n",
       "3           NaN            NaN           NaN           NaN          NaN   \n",
       "4           NaN            NaN           NaN           NaN          NaN   \n",
       "\n",
       "   funded_year  \n",
       "0       2005.0  \n",
       "1       2007.0  \n",
       "2       2008.0  \n",
       "3          NaN  \n",
       "4          NaN  \n",
       "\n",
       "[5 rows x 25 columns]"
      ]
     },
     "execution_count": 9,
     "metadata": {},
     "output_type": "execute_result"
    }
   ],
   "source": [
    "# Несколько строк датафрейма с новыми столбцами\n",
    "company_and_rounds.head()"
   ]
  },
  {
   "cell_type": "code",
   "execution_count": 10,
   "metadata": {
    "scrolled": true
   },
   "outputs": [
    {
     "name": "stdout",
     "output_type": "stream",
     "text": [
      "<class 'pandas.core.frame.DataFrame'>\n",
      "RangeIndex: 9407 entries, 0 to 9406\n",
      "Data columns (total 6 columns):\n",
      " #   Column                Non-Null Count  Dtype         \n",
      "---  ------                --------------  -----         \n",
      " 0   id                    9407 non-null   int64         \n",
      " 1   acquiring_company_id  9407 non-null   int64         \n",
      " 2   acquired_company_id   9407 non-null   int64         \n",
      " 3   term_code             1831 non-null   object        \n",
      " 4   price_amount          9407 non-null   int64         \n",
      " 5   acquired_at           9378 non-null   datetime64[ns]\n",
      "dtypes: datetime64[ns](1), int64(4), object(1)\n",
      "memory usage: 441.1+ KB\n"
     ]
    }
   ],
   "source": [
    "# Замена типа данных в датафрейме acquisition\n",
    "acquisition['acquired_at'] = acquisition['acquired_at'].astype('datetime64[ns]')\n",
    "# Выводим информацию о датафрейме с новым типом данных\n",
    "acquisition.info()"
   ]
  },
  {
   "cell_type": "code",
   "execution_count": 11,
   "metadata": {},
   "outputs": [
    {
     "name": "stdout",
     "output_type": "stream",
     "text": [
      "<class 'pandas.core.frame.DataFrame'>\n",
      "RangeIndex: 109610 entries, 0 to 109609\n",
      "Data columns (total 4 columns):\n",
      " #   Column        Non-Null Count   Dtype         \n",
      "---  ------        --------------   -----         \n",
      " 0   id            109610 non-null  int64         \n",
      " 1   person_id     109610 non-null  int64         \n",
      " 2   instituition  109555 non-null  object        \n",
      " 3   graduated_at  58054 non-null   datetime64[ns]\n",
      "dtypes: datetime64[ns](1), int64(2), object(1)\n",
      "memory usage: 3.3+ MB\n"
     ]
    }
   ],
   "source": [
    "# Замена типа данных в датафрейме education\n",
    "education['graduated_at'] = education['graduated_at'].astype('datetime64[ns]')\n",
    "# Информация о датафрейме с новым типом данных\n",
    "education.info()"
   ]
  },
  {
   "cell_type": "code",
   "execution_count": 12,
   "metadata": {},
   "outputs": [
    {
     "name": "stdout",
     "output_type": "stream",
     "text": [
      "<class 'pandas.core.frame.DataFrame'>\n",
      "RangeIndex: 11652 entries, 0 to 11651\n",
      "Data columns (total 9 columns):\n",
      " #   Column              Non-Null Count  Dtype         \n",
      "---  ------              --------------  -----         \n",
      " 0   id                  11652 non-null  int64         \n",
      " 1   name                11650 non-null  object        \n",
      " 2   founded_at          4605 non-null   datetime64[ns]\n",
      " 3   domain              7362 non-null   object        \n",
      " 4   network_username    2149 non-null   object        \n",
      " 5   country_code        7053 non-null   object        \n",
      " 6   investment_rounds   11652 non-null  int64         \n",
      " 7   invested_companies  11652 non-null  int64         \n",
      " 8   milestones          11652 non-null  int64         \n",
      "dtypes: datetime64[ns](1), int64(4), object(4)\n",
      "memory usage: 819.4+ KB\n"
     ]
    }
   ],
   "source": [
    "# Замена типа данных в датафрейме fund\n",
    "fund['founded_at'] = fund['founded_at'].astype('datetime64[ns]')\n",
    "# Информация о датафрейме с новым типом данных\n",
    "fund.info()"
   ]
  },
  {
   "cell_type": "markdown",
   "metadata": {},
   "source": [
    "### Оценка полноты данных"
   ]
  },
  {
   "cell_type": "code",
   "execution_count": 13,
   "metadata": {},
   "outputs": [
    {
     "data": {
      "text/html": [
       "<div>\n",
       "<style scoped>\n",
       "    .dataframe tbody tr th:only-of-type {\n",
       "        vertical-align: middle;\n",
       "    }\n",
       "\n",
       "    .dataframe tbody tr th {\n",
       "        vertical-align: top;\n",
       "    }\n",
       "\n",
       "    .dataframe thead th {\n",
       "        text-align: right;\n",
       "    }\n",
       "</style>\n",
       "<table border=\"1\" class=\"dataframe\">\n",
       "  <thead>\n",
       "    <tr style=\"text-align: right;\">\n",
       "      <th></th>\n",
       "      <th>id</th>\n",
       "      <th>name</th>\n",
       "      <th>category_code</th>\n",
       "      <th>status</th>\n",
       "      <th>founded_at</th>\n",
       "      <th>closed_at</th>\n",
       "      <th>domain</th>\n",
       "      <th>network_username</th>\n",
       "      <th>country_code</th>\n",
       "      <th>investment_rounds</th>\n",
       "      <th>...</th>\n",
       "      <th>funded_at</th>\n",
       "      <th>funding_round_type</th>\n",
       "      <th>raised_amount</th>\n",
       "      <th>pre_money_valuation</th>\n",
       "      <th>participants</th>\n",
       "      <th>is_first_round</th>\n",
       "      <th>is_last_round</th>\n",
       "      <th>founded_year</th>\n",
       "      <th>closed_year</th>\n",
       "      <th>funded_year</th>\n",
       "    </tr>\n",
       "  </thead>\n",
       "  <tbody>\n",
       "    <tr>\n",
       "      <th>0</th>\n",
       "      <td>1.0</td>\n",
       "      <td>Wetpaint</td>\n",
       "      <td>web</td>\n",
       "      <td>operating</td>\n",
       "      <td>2005-10-17</td>\n",
       "      <td>NaT</td>\n",
       "      <td>wetpaint-inc.com</td>\n",
       "      <td>BachelrWetpaint</td>\n",
       "      <td>USA</td>\n",
       "      <td>0.0</td>\n",
       "      <td>...</td>\n",
       "      <td>2005-10-01</td>\n",
       "      <td>series-a</td>\n",
       "      <td>5250000.0</td>\n",
       "      <td>0.0</td>\n",
       "      <td>2.0</td>\n",
       "      <td>0.0</td>\n",
       "      <td>1.0</td>\n",
       "      <td>2005.0</td>\n",
       "      <td>NaN</td>\n",
       "      <td>2005.0</td>\n",
       "    </tr>\n",
       "    <tr>\n",
       "      <th>1</th>\n",
       "      <td>1.0</td>\n",
       "      <td>Wetpaint</td>\n",
       "      <td>web</td>\n",
       "      <td>operating</td>\n",
       "      <td>2005-10-17</td>\n",
       "      <td>NaT</td>\n",
       "      <td>wetpaint-inc.com</td>\n",
       "      <td>BachelrWetpaint</td>\n",
       "      <td>USA</td>\n",
       "      <td>0.0</td>\n",
       "      <td>...</td>\n",
       "      <td>2007-01-01</td>\n",
       "      <td>series-b</td>\n",
       "      <td>9500000.0</td>\n",
       "      <td>0.0</td>\n",
       "      <td>3.0</td>\n",
       "      <td>0.0</td>\n",
       "      <td>0.0</td>\n",
       "      <td>2005.0</td>\n",
       "      <td>NaN</td>\n",
       "      <td>2007.0</td>\n",
       "    </tr>\n",
       "    <tr>\n",
       "      <th>2</th>\n",
       "      <td>1.0</td>\n",
       "      <td>Wetpaint</td>\n",
       "      <td>web</td>\n",
       "      <td>operating</td>\n",
       "      <td>2005-10-17</td>\n",
       "      <td>NaT</td>\n",
       "      <td>wetpaint-inc.com</td>\n",
       "      <td>BachelrWetpaint</td>\n",
       "      <td>USA</td>\n",
       "      <td>0.0</td>\n",
       "      <td>...</td>\n",
       "      <td>2008-05-19</td>\n",
       "      <td>series-c+</td>\n",
       "      <td>25000000.0</td>\n",
       "      <td>0.0</td>\n",
       "      <td>4.0</td>\n",
       "      <td>1.0</td>\n",
       "      <td>0.0</td>\n",
       "      <td>2005.0</td>\n",
       "      <td>NaN</td>\n",
       "      <td>2008.0</td>\n",
       "    </tr>\n",
       "    <tr>\n",
       "      <th>3</th>\n",
       "      <td>10.0</td>\n",
       "      <td>Flektor</td>\n",
       "      <td>games_video</td>\n",
       "      <td>acquired</td>\n",
       "      <td>NaT</td>\n",
       "      <td>NaT</td>\n",
       "      <td>flektor.com</td>\n",
       "      <td>NaN</td>\n",
       "      <td>USA</td>\n",
       "      <td>0.0</td>\n",
       "      <td>...</td>\n",
       "      <td>NaT</td>\n",
       "      <td>NaN</td>\n",
       "      <td>NaN</td>\n",
       "      <td>NaN</td>\n",
       "      <td>NaN</td>\n",
       "      <td>NaN</td>\n",
       "      <td>NaN</td>\n",
       "      <td>NaN</td>\n",
       "      <td>NaN</td>\n",
       "      <td>NaN</td>\n",
       "    </tr>\n",
       "    <tr>\n",
       "      <th>4</th>\n",
       "      <td>100.0</td>\n",
       "      <td>There</td>\n",
       "      <td>games_video</td>\n",
       "      <td>acquired</td>\n",
       "      <td>NaT</td>\n",
       "      <td>NaT</td>\n",
       "      <td>there.com</td>\n",
       "      <td>NaN</td>\n",
       "      <td>USA</td>\n",
       "      <td>0.0</td>\n",
       "      <td>...</td>\n",
       "      <td>NaT</td>\n",
       "      <td>NaN</td>\n",
       "      <td>NaN</td>\n",
       "      <td>NaN</td>\n",
       "      <td>NaN</td>\n",
       "      <td>NaN</td>\n",
       "      <td>NaN</td>\n",
       "      <td>NaN</td>\n",
       "      <td>NaN</td>\n",
       "      <td>NaN</td>\n",
       "    </tr>\n",
       "    <tr>\n",
       "      <th>...</th>\n",
       "      <td>...</td>\n",
       "      <td>...</td>\n",
       "      <td>...</td>\n",
       "      <td>...</td>\n",
       "      <td>...</td>\n",
       "      <td>...</td>\n",
       "      <td>...</td>\n",
       "      <td>...</td>\n",
       "      <td>...</td>\n",
       "      <td>...</td>\n",
       "      <td>...</td>\n",
       "      <td>...</td>\n",
       "      <td>...</td>\n",
       "      <td>...</td>\n",
       "      <td>...</td>\n",
       "      <td>...</td>\n",
       "      <td>...</td>\n",
       "      <td>...</td>\n",
       "      <td>...</td>\n",
       "      <td>...</td>\n",
       "      <td>...</td>\n",
       "    </tr>\n",
       "    <tr>\n",
       "      <th>217769</th>\n",
       "      <td>NaN</td>\n",
       "      <td>NaN</td>\n",
       "      <td>NaN</td>\n",
       "      <td>NaN</td>\n",
       "      <td>NaT</td>\n",
       "      <td>NaT</td>\n",
       "      <td>NaN</td>\n",
       "      <td>NaN</td>\n",
       "      <td>NaN</td>\n",
       "      <td>NaN</td>\n",
       "      <td>...</td>\n",
       "      <td>2011-01-31</td>\n",
       "      <td>other</td>\n",
       "      <td>5500000.0</td>\n",
       "      <td>0.0</td>\n",
       "      <td>0.0</td>\n",
       "      <td>1.0</td>\n",
       "      <td>1.0</td>\n",
       "      <td>NaN</td>\n",
       "      <td>NaN</td>\n",
       "      <td>2011.0</td>\n",
       "    </tr>\n",
       "    <tr>\n",
       "      <th>217770</th>\n",
       "      <td>NaN</td>\n",
       "      <td>NaN</td>\n",
       "      <td>NaN</td>\n",
       "      <td>NaN</td>\n",
       "      <td>NaT</td>\n",
       "      <td>NaT</td>\n",
       "      <td>NaN</td>\n",
       "      <td>NaN</td>\n",
       "      <td>NaN</td>\n",
       "      <td>NaN</td>\n",
       "      <td>...</td>\n",
       "      <td>2011-01-13</td>\n",
       "      <td>venture</td>\n",
       "      <td>10633300.0</td>\n",
       "      <td>0.0</td>\n",
       "      <td>0.0</td>\n",
       "      <td>0.0</td>\n",
       "      <td>1.0</td>\n",
       "      <td>NaN</td>\n",
       "      <td>NaN</td>\n",
       "      <td>2011.0</td>\n",
       "    </tr>\n",
       "    <tr>\n",
       "      <th>217771</th>\n",
       "      <td>NaN</td>\n",
       "      <td>NaN</td>\n",
       "      <td>NaN</td>\n",
       "      <td>NaN</td>\n",
       "      <td>NaT</td>\n",
       "      <td>NaT</td>\n",
       "      <td>NaN</td>\n",
       "      <td>NaN</td>\n",
       "      <td>NaN</td>\n",
       "      <td>NaN</td>\n",
       "      <td>...</td>\n",
       "      <td>2012-05-31</td>\n",
       "      <td>venture</td>\n",
       "      <td>2125720.0</td>\n",
       "      <td>0.0</td>\n",
       "      <td>0.0</td>\n",
       "      <td>1.0</td>\n",
       "      <td>0.0</td>\n",
       "      <td>NaN</td>\n",
       "      <td>NaN</td>\n",
       "      <td>2012.0</td>\n",
       "    </tr>\n",
       "    <tr>\n",
       "      <th>217772</th>\n",
       "      <td>NaN</td>\n",
       "      <td>NaN</td>\n",
       "      <td>NaN</td>\n",
       "      <td>NaN</td>\n",
       "      <td>NaT</td>\n",
       "      <td>NaT</td>\n",
       "      <td>NaN</td>\n",
       "      <td>NaN</td>\n",
       "      <td>NaN</td>\n",
       "      <td>NaN</td>\n",
       "      <td>...</td>\n",
       "      <td>2013-12-03</td>\n",
       "      <td>venture</td>\n",
       "      <td>3602480.0</td>\n",
       "      <td>0.0</td>\n",
       "      <td>5.0</td>\n",
       "      <td>1.0</td>\n",
       "      <td>1.0</td>\n",
       "      <td>NaN</td>\n",
       "      <td>NaN</td>\n",
       "      <td>2013.0</td>\n",
       "    </tr>\n",
       "    <tr>\n",
       "      <th>217773</th>\n",
       "      <td>NaN</td>\n",
       "      <td>NaN</td>\n",
       "      <td>NaN</td>\n",
       "      <td>NaN</td>\n",
       "      <td>NaT</td>\n",
       "      <td>NaT</td>\n",
       "      <td>NaN</td>\n",
       "      <td>NaN</td>\n",
       "      <td>NaN</td>\n",
       "      <td>NaN</td>\n",
       "      <td>...</td>\n",
       "      <td>2013-12-04</td>\n",
       "      <td>venture</td>\n",
       "      <td>7000000.0</td>\n",
       "      <td>0.0</td>\n",
       "      <td>4.0</td>\n",
       "      <td>1.0</td>\n",
       "      <td>1.0</td>\n",
       "      <td>NaN</td>\n",
       "      <td>NaN</td>\n",
       "      <td>2013.0</td>\n",
       "    </tr>\n",
       "  </tbody>\n",
       "</table>\n",
       "<p>217774 rows × 25 columns</p>\n",
       "</div>"
      ],
      "text/plain": [
       "           id      name category_code     status founded_at closed_at  \\\n",
       "0         1.0  Wetpaint           web  operating 2005-10-17       NaT   \n",
       "1         1.0  Wetpaint           web  operating 2005-10-17       NaT   \n",
       "2         1.0  Wetpaint           web  operating 2005-10-17       NaT   \n",
       "3        10.0   Flektor   games_video   acquired        NaT       NaT   \n",
       "4       100.0     There   games_video   acquired        NaT       NaT   \n",
       "...       ...       ...           ...        ...        ...       ...   \n",
       "217769    NaN       NaN           NaN        NaN        NaT       NaT   \n",
       "217770    NaN       NaN           NaN        NaN        NaT       NaT   \n",
       "217771    NaN       NaN           NaN        NaN        NaT       NaT   \n",
       "217772    NaN       NaN           NaN        NaN        NaT       NaT   \n",
       "217773    NaN       NaN           NaN        NaN        NaT       NaT   \n",
       "\n",
       "                  domain network_username country_code  investment_rounds  \\\n",
       "0       wetpaint-inc.com  BachelrWetpaint          USA                0.0   \n",
       "1       wetpaint-inc.com  BachelrWetpaint          USA                0.0   \n",
       "2       wetpaint-inc.com  BachelrWetpaint          USA                0.0   \n",
       "3            flektor.com              NaN          USA                0.0   \n",
       "4              there.com              NaN          USA                0.0   \n",
       "...                  ...              ...          ...                ...   \n",
       "217769               NaN              NaN          NaN                NaN   \n",
       "217770               NaN              NaN          NaN                NaN   \n",
       "217771               NaN              NaN          NaN                NaN   \n",
       "217772               NaN              NaN          NaN                NaN   \n",
       "217773               NaN              NaN          NaN                NaN   \n",
       "\n",
       "        ...  funded_at  funding_round_type  raised_amount  \\\n",
       "0       ... 2005-10-01            series-a      5250000.0   \n",
       "1       ... 2007-01-01            series-b      9500000.0   \n",
       "2       ... 2008-05-19           series-c+     25000000.0   \n",
       "3       ...        NaT                 NaN            NaN   \n",
       "4       ...        NaT                 NaN            NaN   \n",
       "...     ...        ...                 ...            ...   \n",
       "217769  ... 2011-01-31               other      5500000.0   \n",
       "217770  ... 2011-01-13             venture     10633300.0   \n",
       "217771  ... 2012-05-31             venture      2125720.0   \n",
       "217772  ... 2013-12-03             venture      3602480.0   \n",
       "217773  ... 2013-12-04             venture      7000000.0   \n",
       "\n",
       "        pre_money_valuation  participants is_first_round is_last_round  \\\n",
       "0                       0.0           2.0            0.0           1.0   \n",
       "1                       0.0           3.0            0.0           0.0   \n",
       "2                       0.0           4.0            1.0           0.0   \n",
       "3                       NaN           NaN            NaN           NaN   \n",
       "4                       NaN           NaN            NaN           NaN   \n",
       "...                     ...           ...            ...           ...   \n",
       "217769                  0.0           0.0            1.0           1.0   \n",
       "217770                  0.0           0.0            0.0           1.0   \n",
       "217771                  0.0           0.0            1.0           0.0   \n",
       "217772                  0.0           5.0            1.0           1.0   \n",
       "217773                  0.0           4.0            1.0           1.0   \n",
       "\n",
       "        founded_year  closed_year  funded_year  \n",
       "0             2005.0          NaN       2005.0  \n",
       "1             2005.0          NaN       2007.0  \n",
       "2             2005.0          NaN       2008.0  \n",
       "3                NaN          NaN          NaN  \n",
       "4                NaN          NaN          NaN  \n",
       "...              ...          ...          ...  \n",
       "217769           NaN          NaN       2011.0  \n",
       "217770           NaN          NaN       2011.0  \n",
       "217771           NaN          NaN       2012.0  \n",
       "217772           NaN          NaN       2013.0  \n",
       "217773           NaN          NaN       2013.0  \n",
       "\n",
       "[217774 rows x 25 columns]"
      ]
     },
     "execution_count": 13,
     "metadata": {},
     "output_type": "execute_result"
    }
   ],
   "source": [
    "# Удаление явных дубликатов в company_and_rounds\n",
    "company_and_rounds.drop_duplicates()"
   ]
  },
  {
   "cell_type": "code",
   "execution_count": 14,
   "metadata": {},
   "outputs": [
    {
     "data": {
      "text/html": [
       "<div>\n",
       "<style scoped>\n",
       "    .dataframe tbody tr th:only-of-type {\n",
       "        vertical-align: middle;\n",
       "    }\n",
       "\n",
       "    .dataframe tbody tr th {\n",
       "        vertical-align: top;\n",
       "    }\n",
       "\n",
       "    .dataframe thead th {\n",
       "        text-align: right;\n",
       "    }\n",
       "</style>\n",
       "<table border=\"1\" class=\"dataframe\">\n",
       "  <thead>\n",
       "    <tr style=\"text-align: right;\">\n",
       "      <th></th>\n",
       "      <th>id</th>\n",
       "      <th>acquiring_company_id</th>\n",
       "      <th>acquired_company_id</th>\n",
       "      <th>term_code</th>\n",
       "      <th>price_amount</th>\n",
       "      <th>acquired_at</th>\n",
       "    </tr>\n",
       "  </thead>\n",
       "  <tbody>\n",
       "    <tr>\n",
       "      <th>0</th>\n",
       "      <td>1</td>\n",
       "      <td>11</td>\n",
       "      <td>10</td>\n",
       "      <td>NaN</td>\n",
       "      <td>20000000</td>\n",
       "      <td>2007-05-30</td>\n",
       "    </tr>\n",
       "    <tr>\n",
       "      <th>1</th>\n",
       "      <td>7</td>\n",
       "      <td>59</td>\n",
       "      <td>72</td>\n",
       "      <td>cash</td>\n",
       "      <td>60000000</td>\n",
       "      <td>2007-07-01</td>\n",
       "    </tr>\n",
       "    <tr>\n",
       "      <th>2</th>\n",
       "      <td>8</td>\n",
       "      <td>24</td>\n",
       "      <td>132</td>\n",
       "      <td>cash</td>\n",
       "      <td>280000000</td>\n",
       "      <td>2007-05-01</td>\n",
       "    </tr>\n",
       "    <tr>\n",
       "      <th>3</th>\n",
       "      <td>9</td>\n",
       "      <td>59</td>\n",
       "      <td>155</td>\n",
       "      <td>cash</td>\n",
       "      <td>100000000</td>\n",
       "      <td>2007-06-01</td>\n",
       "    </tr>\n",
       "    <tr>\n",
       "      <th>4</th>\n",
       "      <td>10</td>\n",
       "      <td>212</td>\n",
       "      <td>215</td>\n",
       "      <td>cash</td>\n",
       "      <td>25000000</td>\n",
       "      <td>2007-07-01</td>\n",
       "    </tr>\n",
       "    <tr>\n",
       "      <th>...</th>\n",
       "      <td>...</td>\n",
       "      <td>...</td>\n",
       "      <td>...</td>\n",
       "      <td>...</td>\n",
       "      <td>...</td>\n",
       "      <td>...</td>\n",
       "    </tr>\n",
       "    <tr>\n",
       "      <th>9402</th>\n",
       "      <td>10525</td>\n",
       "      <td>267859</td>\n",
       "      <td>285995</td>\n",
       "      <td>stock</td>\n",
       "      <td>222000000</td>\n",
       "      <td>2013-12-11</td>\n",
       "    </tr>\n",
       "    <tr>\n",
       "      <th>9403</th>\n",
       "      <td>10526</td>\n",
       "      <td>285493</td>\n",
       "      <td>286006</td>\n",
       "      <td>NaN</td>\n",
       "      <td>0</td>\n",
       "      <td>2013-12-09</td>\n",
       "    </tr>\n",
       "    <tr>\n",
       "      <th>9404</th>\n",
       "      <td>10527</td>\n",
       "      <td>223792</td>\n",
       "      <td>220208</td>\n",
       "      <td>NaN</td>\n",
       "      <td>26000000000</td>\n",
       "      <td>2007-07-03</td>\n",
       "    </tr>\n",
       "    <tr>\n",
       "      <th>9405</th>\n",
       "      <td>10528</td>\n",
       "      <td>227620</td>\n",
       "      <td>286176</td>\n",
       "      <td>cash</td>\n",
       "      <td>52400000</td>\n",
       "      <td>2013-12-12</td>\n",
       "    </tr>\n",
       "    <tr>\n",
       "      <th>9406</th>\n",
       "      <td>10529</td>\n",
       "      <td>53</td>\n",
       "      <td>92846</td>\n",
       "      <td>NaN</td>\n",
       "      <td>42600000</td>\n",
       "      <td>2013-12-12</td>\n",
       "    </tr>\n",
       "  </tbody>\n",
       "</table>\n",
       "<p>9407 rows × 6 columns</p>\n",
       "</div>"
      ],
      "text/plain": [
       "         id  acquiring_company_id  acquired_company_id term_code  \\\n",
       "0         1                    11                   10       NaN   \n",
       "1         7                    59                   72      cash   \n",
       "2         8                    24                  132      cash   \n",
       "3         9                    59                  155      cash   \n",
       "4        10                   212                  215      cash   \n",
       "...     ...                   ...                  ...       ...   \n",
       "9402  10525                267859               285995     stock   \n",
       "9403  10526                285493               286006       NaN   \n",
       "9404  10527                223792               220208       NaN   \n",
       "9405  10528                227620               286176      cash   \n",
       "9406  10529                    53                92846       NaN   \n",
       "\n",
       "      price_amount acquired_at  \n",
       "0         20000000  2007-05-30  \n",
       "1         60000000  2007-07-01  \n",
       "2        280000000  2007-05-01  \n",
       "3        100000000  2007-06-01  \n",
       "4         25000000  2007-07-01  \n",
       "...            ...         ...  \n",
       "9402     222000000  2013-12-11  \n",
       "9403             0  2013-12-09  \n",
       "9404   26000000000  2007-07-03  \n",
       "9405      52400000  2013-12-12  \n",
       "9406      42600000  2013-12-12  \n",
       "\n",
       "[9407 rows x 6 columns]"
      ]
     },
     "execution_count": 14,
     "metadata": {},
     "output_type": "execute_result"
    }
   ],
   "source": [
    "# Удаление явных дубликатов в acquisition\n",
    "acquisition.drop_duplicates()"
   ]
  },
  {
   "cell_type": "code",
   "execution_count": 15,
   "metadata": {},
   "outputs": [
    {
     "data": {
      "text/html": [
       "<div>\n",
       "<style scoped>\n",
       "    .dataframe tbody tr th:only-of-type {\n",
       "        vertical-align: middle;\n",
       "    }\n",
       "\n",
       "    .dataframe tbody tr th {\n",
       "        vertical-align: top;\n",
       "    }\n",
       "\n",
       "    .dataframe thead th {\n",
       "        text-align: right;\n",
       "    }\n",
       "</style>\n",
       "<table border=\"1\" class=\"dataframe\">\n",
       "  <thead>\n",
       "    <tr style=\"text-align: right;\">\n",
       "      <th></th>\n",
       "      <th>id</th>\n",
       "      <th>first_name</th>\n",
       "      <th>last_name</th>\n",
       "      <th>company_id</th>\n",
       "      <th>network_username</th>\n",
       "    </tr>\n",
       "  </thead>\n",
       "  <tbody>\n",
       "    <tr>\n",
       "      <th>0</th>\n",
       "      <td>10</td>\n",
       "      <td>Mark</td>\n",
       "      <td>Zuckerberg</td>\n",
       "      <td>5.0</td>\n",
       "      <td>NaN</td>\n",
       "    </tr>\n",
       "    <tr>\n",
       "      <th>1</th>\n",
       "      <td>100</td>\n",
       "      <td>Peter</td>\n",
       "      <td>Lester</td>\n",
       "      <td>27.0</td>\n",
       "      <td>NaN</td>\n",
       "    </tr>\n",
       "    <tr>\n",
       "      <th>2</th>\n",
       "      <td>1000</td>\n",
       "      <td>Dr. Steven</td>\n",
       "      <td>E. Saunders</td>\n",
       "      <td>292.0</td>\n",
       "      <td>NaN</td>\n",
       "    </tr>\n",
       "    <tr>\n",
       "      <th>3</th>\n",
       "      <td>10000</td>\n",
       "      <td>Neil</td>\n",
       "      <td>Capel</td>\n",
       "      <td>2526.0</td>\n",
       "      <td>NaN</td>\n",
       "    </tr>\n",
       "    <tr>\n",
       "      <th>4</th>\n",
       "      <td>100000</td>\n",
       "      <td>Sue</td>\n",
       "      <td>Pilsch</td>\n",
       "      <td>NaN</td>\n",
       "      <td>NaN</td>\n",
       "    </tr>\n",
       "    <tr>\n",
       "      <th>...</th>\n",
       "      <td>...</td>\n",
       "      <td>...</td>\n",
       "      <td>...</td>\n",
       "      <td>...</td>\n",
       "      <td>...</td>\n",
       "    </tr>\n",
       "    <tr>\n",
       "      <th>226704</th>\n",
       "      <td>99999</td>\n",
       "      <td>Ramon</td>\n",
       "      <td>Peypoch</td>\n",
       "      <td>NaN</td>\n",
       "      <td>NaN</td>\n",
       "    </tr>\n",
       "    <tr>\n",
       "      <th>226705</th>\n",
       "      <td>174088</td>\n",
       "      <td>Dr. Ray</td>\n",
       "      <td>Woods</td>\n",
       "      <td>188200.0</td>\n",
       "      <td>network</td>\n",
       "    </tr>\n",
       "    <tr>\n",
       "      <th>226706</th>\n",
       "      <td>118386</td>\n",
       "      <td>Ricardo</td>\n",
       "      <td>Durand</td>\n",
       "      <td>143419.0</td>\n",
       "      <td>itechsocialnet</td>\n",
       "    </tr>\n",
       "    <tr>\n",
       "      <th>226707</th>\n",
       "      <td>175827</td>\n",
       "      <td>mahesh</td>\n",
       "      <td>kumar</td>\n",
       "      <td>NaN</td>\n",
       "      <td>socialnethubs</td>\n",
       "    </tr>\n",
       "    <tr>\n",
       "      <th>226708</th>\n",
       "      <td>178190</td>\n",
       "      <td>Alex</td>\n",
       "      <td>Smith</td>\n",
       "      <td>NaN</td>\n",
       "      <td>esocialnetlike</td>\n",
       "    </tr>\n",
       "  </tbody>\n",
       "</table>\n",
       "<p>226709 rows × 5 columns</p>\n",
       "</div>"
      ],
      "text/plain": [
       "            id  first_name    last_name  company_id network_username\n",
       "0           10        Mark   Zuckerberg         5.0              NaN\n",
       "1          100       Peter       Lester        27.0              NaN\n",
       "2         1000  Dr. Steven  E. Saunders       292.0              NaN\n",
       "3        10000        Neil        Capel      2526.0              NaN\n",
       "4       100000         Sue       Pilsch         NaN              NaN\n",
       "...        ...         ...          ...         ...              ...\n",
       "226704   99999       Ramon      Peypoch         NaN              NaN\n",
       "226705  174088     Dr. Ray        Woods    188200.0          network\n",
       "226706  118386     Ricardo       Durand    143419.0   itechsocialnet\n",
       "226707  175827      mahesh        kumar         NaN    socialnethubs\n",
       "226708  178190        Alex        Smith         NaN   esocialnetlike\n",
       "\n",
       "[226709 rows x 5 columns]"
      ]
     },
     "execution_count": 15,
     "metadata": {},
     "output_type": "execute_result"
    }
   ],
   "source": [
    "# Удаление явных дубликатов в people\n",
    "people.drop_duplicates()"
   ]
  },
  {
   "cell_type": "code",
   "execution_count": 16,
   "metadata": {},
   "outputs": [
    {
     "data": {
      "text/html": [
       "<div>\n",
       "<style scoped>\n",
       "    .dataframe tbody tr th:only-of-type {\n",
       "        vertical-align: middle;\n",
       "    }\n",
       "\n",
       "    .dataframe tbody tr th {\n",
       "        vertical-align: top;\n",
       "    }\n",
       "\n",
       "    .dataframe thead th {\n",
       "        text-align: right;\n",
       "    }\n",
       "</style>\n",
       "<table border=\"1\" class=\"dataframe\">\n",
       "  <thead>\n",
       "    <tr style=\"text-align: right;\">\n",
       "      <th></th>\n",
       "      <th>id</th>\n",
       "      <th>object_id</th>\n",
       "      <th>degree_type</th>\n",
       "      <th>subject</th>\n",
       "    </tr>\n",
       "  </thead>\n",
       "  <tbody>\n",
       "    <tr>\n",
       "      <th>0</th>\n",
       "      <td>1</td>\n",
       "      <td>p:6117</td>\n",
       "      <td>MBA</td>\n",
       "      <td>NaN</td>\n",
       "    </tr>\n",
       "    <tr>\n",
       "      <th>1</th>\n",
       "      <td>2</td>\n",
       "      <td>p:6136</td>\n",
       "      <td>BA</td>\n",
       "      <td>English, French</td>\n",
       "    </tr>\n",
       "    <tr>\n",
       "      <th>2</th>\n",
       "      <td>3</td>\n",
       "      <td>p:6136</td>\n",
       "      <td>MS</td>\n",
       "      <td>Mass Communication</td>\n",
       "    </tr>\n",
       "    <tr>\n",
       "      <th>3</th>\n",
       "      <td>4</td>\n",
       "      <td>p:6005</td>\n",
       "      <td>MS</td>\n",
       "      <td>Internet Technology</td>\n",
       "    </tr>\n",
       "    <tr>\n",
       "      <th>4</th>\n",
       "      <td>5</td>\n",
       "      <td>p:5832</td>\n",
       "      <td>BCS</td>\n",
       "      <td>Computer Science, Psychology</td>\n",
       "    </tr>\n",
       "    <tr>\n",
       "      <th>...</th>\n",
       "      <td>...</td>\n",
       "      <td>...</td>\n",
       "      <td>...</td>\n",
       "      <td>...</td>\n",
       "    </tr>\n",
       "    <tr>\n",
       "      <th>109605</th>\n",
       "      <td>109606</td>\n",
       "      <td>p:268589</td>\n",
       "      <td>CPA</td>\n",
       "      <td>NaN</td>\n",
       "    </tr>\n",
       "    <tr>\n",
       "      <th>109606</th>\n",
       "      <td>109607</td>\n",
       "      <td>p:268527</td>\n",
       "      <td>MS &amp; BS</td>\n",
       "      <td>Engineering</td>\n",
       "    </tr>\n",
       "    <tr>\n",
       "      <th>109607</th>\n",
       "      <td>109608</td>\n",
       "      <td>p:268527</td>\n",
       "      <td>PhD</td>\n",
       "      <td>Engineering</td>\n",
       "    </tr>\n",
       "    <tr>\n",
       "      <th>109608</th>\n",
       "      <td>109609</td>\n",
       "      <td>p:268528</td>\n",
       "      <td>B.S.</td>\n",
       "      <td>Electrical Engineering</td>\n",
       "    </tr>\n",
       "    <tr>\n",
       "      <th>109609</th>\n",
       "      <td>109610</td>\n",
       "      <td>p:268528</td>\n",
       "      <td>J.D.</td>\n",
       "      <td>NaN</td>\n",
       "    </tr>\n",
       "  </tbody>\n",
       "</table>\n",
       "<p>109610 rows × 4 columns</p>\n",
       "</div>"
      ],
      "text/plain": [
       "            id object_id degree_type                       subject\n",
       "0            1    p:6117         MBA                           NaN\n",
       "1            2    p:6136          BA               English, French\n",
       "2            3    p:6136          MS            Mass Communication\n",
       "3            4    p:6005          MS           Internet Technology\n",
       "4            5    p:5832         BCS  Computer Science, Psychology\n",
       "...        ...       ...         ...                           ...\n",
       "109605  109606  p:268589         CPA                           NaN\n",
       "109606  109607  p:268527     MS & BS                   Engineering\n",
       "109607  109608  p:268527         PhD                   Engineering\n",
       "109608  109609  p:268528        B.S.        Electrical Engineering\n",
       "109609  109610  p:268528        J.D.                           NaN\n",
       "\n",
       "[109610 rows x 4 columns]"
      ]
     },
     "execution_count": 16,
     "metadata": {},
     "output_type": "execute_result"
    }
   ],
   "source": [
    "# Удаление явных дубликатов в degrees\n",
    "degrees.drop_duplicates()"
   ]
  },
  {
   "cell_type": "code",
   "execution_count": 17,
   "metadata": {},
   "outputs": [
    {
     "data": {
      "text/html": [
       "<div>\n",
       "<style scoped>\n",
       "    .dataframe tbody tr th:only-of-type {\n",
       "        vertical-align: middle;\n",
       "    }\n",
       "\n",
       "    .dataframe tbody tr th {\n",
       "        vertical-align: top;\n",
       "    }\n",
       "\n",
       "    .dataframe thead th {\n",
       "        text-align: right;\n",
       "    }\n",
       "</style>\n",
       "<table border=\"1\" class=\"dataframe\">\n",
       "  <thead>\n",
       "    <tr style=\"text-align: right;\">\n",
       "      <th></th>\n",
       "      <th>id</th>\n",
       "      <th>person_id</th>\n",
       "      <th>instituition</th>\n",
       "      <th>graduated_at</th>\n",
       "    </tr>\n",
       "  </thead>\n",
       "  <tbody>\n",
       "    <tr>\n",
       "      <th>0</th>\n",
       "      <td>1</td>\n",
       "      <td>6117</td>\n",
       "      <td>NaN</td>\n",
       "      <td>NaT</td>\n",
       "    </tr>\n",
       "    <tr>\n",
       "      <th>1</th>\n",
       "      <td>2</td>\n",
       "      <td>6136</td>\n",
       "      <td>Washington University, St. Louis</td>\n",
       "      <td>1990-01-01</td>\n",
       "    </tr>\n",
       "    <tr>\n",
       "      <th>2</th>\n",
       "      <td>3</td>\n",
       "      <td>6136</td>\n",
       "      <td>Boston University</td>\n",
       "      <td>1992-01-01</td>\n",
       "    </tr>\n",
       "    <tr>\n",
       "      <th>3</th>\n",
       "      <td>4</td>\n",
       "      <td>6005</td>\n",
       "      <td>University of Greenwich</td>\n",
       "      <td>2006-01-01</td>\n",
       "    </tr>\n",
       "    <tr>\n",
       "      <th>4</th>\n",
       "      <td>5</td>\n",
       "      <td>5832</td>\n",
       "      <td>Rice University</td>\n",
       "      <td>NaT</td>\n",
       "    </tr>\n",
       "    <tr>\n",
       "      <th>...</th>\n",
       "      <td>...</td>\n",
       "      <td>...</td>\n",
       "      <td>...</td>\n",
       "      <td>...</td>\n",
       "    </tr>\n",
       "    <tr>\n",
       "      <th>109605</th>\n",
       "      <td>109606</td>\n",
       "      <td>268589</td>\n",
       "      <td>American Institute of Certtified Public Accoun...</td>\n",
       "      <td>NaT</td>\n",
       "    </tr>\n",
       "    <tr>\n",
       "      <th>109606</th>\n",
       "      <td>109607</td>\n",
       "      <td>268527</td>\n",
       "      <td>South China University of Technology</td>\n",
       "      <td>NaT</td>\n",
       "    </tr>\n",
       "    <tr>\n",
       "      <th>109607</th>\n",
       "      <td>109608</td>\n",
       "      <td>268527</td>\n",
       "      <td>Clarkson University</td>\n",
       "      <td>NaT</td>\n",
       "    </tr>\n",
       "    <tr>\n",
       "      <th>109608</th>\n",
       "      <td>109609</td>\n",
       "      <td>268528</td>\n",
       "      <td>Colorado State University</td>\n",
       "      <td>NaT</td>\n",
       "    </tr>\n",
       "    <tr>\n",
       "      <th>109609</th>\n",
       "      <td>109610</td>\n",
       "      <td>268528</td>\n",
       "      <td>University of San Diego School of Law</td>\n",
       "      <td>NaT</td>\n",
       "    </tr>\n",
       "  </tbody>\n",
       "</table>\n",
       "<p>109610 rows × 4 columns</p>\n",
       "</div>"
      ],
      "text/plain": [
       "            id  person_id                                       instituition  \\\n",
       "0            1       6117                                                NaN   \n",
       "1            2       6136                   Washington University, St. Louis   \n",
       "2            3       6136                                  Boston University   \n",
       "3            4       6005                            University of Greenwich   \n",
       "4            5       5832                                    Rice University   \n",
       "...        ...        ...                                                ...   \n",
       "109605  109606     268589  American Institute of Certtified Public Accoun...   \n",
       "109606  109607     268527               South China University of Technology   \n",
       "109607  109608     268527                                Clarkson University   \n",
       "109608  109609     268528                          Colorado State University   \n",
       "109609  109610     268528              University of San Diego School of Law   \n",
       "\n",
       "       graduated_at  \n",
       "0               NaT  \n",
       "1        1990-01-01  \n",
       "2        1992-01-01  \n",
       "3        2006-01-01  \n",
       "4               NaT  \n",
       "...             ...  \n",
       "109605          NaT  \n",
       "109606          NaT  \n",
       "109607          NaT  \n",
       "109608          NaT  \n",
       "109609          NaT  \n",
       "\n",
       "[109610 rows x 4 columns]"
      ]
     },
     "execution_count": 17,
     "metadata": {},
     "output_type": "execute_result"
    }
   ],
   "source": [
    "# Удаление явных дубликатов в education\n",
    "education.drop_duplicates()"
   ]
  },
  {
   "cell_type": "code",
   "execution_count": 18,
   "metadata": {},
   "outputs": [
    {
     "data": {
      "text/html": [
       "<div>\n",
       "<style scoped>\n",
       "    .dataframe tbody tr th:only-of-type {\n",
       "        vertical-align: middle;\n",
       "    }\n",
       "\n",
       "    .dataframe tbody tr th {\n",
       "        vertical-align: top;\n",
       "    }\n",
       "\n",
       "    .dataframe thead th {\n",
       "        text-align: right;\n",
       "    }\n",
       "</style>\n",
       "<table border=\"1\" class=\"dataframe\">\n",
       "  <thead>\n",
       "    <tr style=\"text-align: right;\">\n",
       "      <th></th>\n",
       "      <th>id</th>\n",
       "      <th>name</th>\n",
       "      <th>founded_at</th>\n",
       "      <th>domain</th>\n",
       "      <th>network_username</th>\n",
       "      <th>country_code</th>\n",
       "      <th>investment_rounds</th>\n",
       "      <th>invested_companies</th>\n",
       "      <th>milestones</th>\n",
       "    </tr>\n",
       "  </thead>\n",
       "  <tbody>\n",
       "    <tr>\n",
       "      <th>0</th>\n",
       "      <td>13131</td>\n",
       "      <td>NaN</td>\n",
       "      <td>NaT</td>\n",
       "      <td>NaN</td>\n",
       "      <td>NaN</td>\n",
       "      <td>NaN</td>\n",
       "      <td>0</td>\n",
       "      <td>0</td>\n",
       "      <td>0</td>\n",
       "    </tr>\n",
       "    <tr>\n",
       "      <th>1</th>\n",
       "      <td>1</td>\n",
       "      <td>Greylock Partners</td>\n",
       "      <td>1965-01-01</td>\n",
       "      <td>greylock.com</td>\n",
       "      <td>greylockvc</td>\n",
       "      <td>USA</td>\n",
       "      <td>307</td>\n",
       "      <td>196</td>\n",
       "      <td>0</td>\n",
       "    </tr>\n",
       "    <tr>\n",
       "      <th>2</th>\n",
       "      <td>10</td>\n",
       "      <td>Mission Ventures</td>\n",
       "      <td>1996-01-01</td>\n",
       "      <td>missionventures.com</td>\n",
       "      <td>NaN</td>\n",
       "      <td>USA</td>\n",
       "      <td>58</td>\n",
       "      <td>33</td>\n",
       "      <td>0</td>\n",
       "    </tr>\n",
       "    <tr>\n",
       "      <th>3</th>\n",
       "      <td>100</td>\n",
       "      <td>Kapor Enterprises, Inc.</td>\n",
       "      <td>NaT</td>\n",
       "      <td>kei.com</td>\n",
       "      <td>NaN</td>\n",
       "      <td>USA</td>\n",
       "      <td>2</td>\n",
       "      <td>1</td>\n",
       "      <td>0</td>\n",
       "    </tr>\n",
       "    <tr>\n",
       "      <th>4</th>\n",
       "      <td>1000</td>\n",
       "      <td>Speed Ventures</td>\n",
       "      <td>NaT</td>\n",
       "      <td>NaN</td>\n",
       "      <td>NaN</td>\n",
       "      <td>NaN</td>\n",
       "      <td>0</td>\n",
       "      <td>0</td>\n",
       "      <td>1</td>\n",
       "    </tr>\n",
       "    <tr>\n",
       "      <th>...</th>\n",
       "      <td>...</td>\n",
       "      <td>...</td>\n",
       "      <td>...</td>\n",
       "      <td>...</td>\n",
       "      <td>...</td>\n",
       "      <td>...</td>\n",
       "      <td>...</td>\n",
       "      <td>...</td>\n",
       "      <td>...</td>\n",
       "    </tr>\n",
       "    <tr>\n",
       "      <th>11647</th>\n",
       "      <td>9997</td>\n",
       "      <td>Axel Johnson</td>\n",
       "      <td>1920-01-01</td>\n",
       "      <td>axeljohnson.com</td>\n",
       "      <td>NaN</td>\n",
       "      <td>USA</td>\n",
       "      <td>1</td>\n",
       "      <td>1</td>\n",
       "      <td>0</td>\n",
       "    </tr>\n",
       "    <tr>\n",
       "      <th>11648</th>\n",
       "      <td>9998</td>\n",
       "      <td>Liberty City Ventures</td>\n",
       "      <td>2012-07-01</td>\n",
       "      <td>libertycityventures.com</td>\n",
       "      <td>LCVentures</td>\n",
       "      <td>USA</td>\n",
       "      <td>5</td>\n",
       "      <td>5</td>\n",
       "      <td>0</td>\n",
       "    </tr>\n",
       "    <tr>\n",
       "      <th>11649</th>\n",
       "      <td>9999</td>\n",
       "      <td>CalSTRS</td>\n",
       "      <td>1913-07-01</td>\n",
       "      <td>calstrs.com</td>\n",
       "      <td>CalSTRS</td>\n",
       "      <td>USA</td>\n",
       "      <td>1</td>\n",
       "      <td>1</td>\n",
       "      <td>0</td>\n",
       "    </tr>\n",
       "    <tr>\n",
       "      <th>11650</th>\n",
       "      <td>11555</td>\n",
       "      <td>Haystack</td>\n",
       "      <td>2013-01-01</td>\n",
       "      <td>network.com::haystack_fund</td>\n",
       "      <td>haystack_fund</td>\n",
       "      <td>NaN</td>\n",
       "      <td>5</td>\n",
       "      <td>5</td>\n",
       "      <td>0</td>\n",
       "    </tr>\n",
       "    <tr>\n",
       "      <th>11651</th>\n",
       "      <td>2553</td>\n",
       "      <td>fbFund</td>\n",
       "      <td>NaT</td>\n",
       "      <td>developers.socialnet.com::fbfund.php</td>\n",
       "      <td>fbFund</td>\n",
       "      <td>NaN</td>\n",
       "      <td>23</td>\n",
       "      <td>21</td>\n",
       "      <td>2</td>\n",
       "    </tr>\n",
       "  </tbody>\n",
       "</table>\n",
       "<p>11652 rows × 9 columns</p>\n",
       "</div>"
      ],
      "text/plain": [
       "          id                     name founded_at  \\\n",
       "0      13131                      NaN        NaT   \n",
       "1          1        Greylock Partners 1965-01-01   \n",
       "2         10         Mission Ventures 1996-01-01   \n",
       "3        100  Kapor Enterprises, Inc.        NaT   \n",
       "4       1000           Speed Ventures        NaT   \n",
       "...      ...                      ...        ...   \n",
       "11647   9997             Axel Johnson 1920-01-01   \n",
       "11648   9998    Liberty City Ventures 2012-07-01   \n",
       "11649   9999                  CalSTRS 1913-07-01   \n",
       "11650  11555                 Haystack 2013-01-01   \n",
       "11651   2553                   fbFund        NaT   \n",
       "\n",
       "                                     domain network_username country_code  \\\n",
       "0                                       NaN              NaN          NaN   \n",
       "1                              greylock.com       greylockvc          USA   \n",
       "2                       missionventures.com              NaN          USA   \n",
       "3                                   kei.com              NaN          USA   \n",
       "4                                       NaN              NaN          NaN   \n",
       "...                                     ...              ...          ...   \n",
       "11647                       axeljohnson.com              NaN          USA   \n",
       "11648               libertycityventures.com       LCVentures          USA   \n",
       "11649                           calstrs.com          CalSTRS          USA   \n",
       "11650            network.com::haystack_fund    haystack_fund          NaN   \n",
       "11651  developers.socialnet.com::fbfund.php           fbFund          NaN   \n",
       "\n",
       "       investment_rounds  invested_companies  milestones  \n",
       "0                      0                   0           0  \n",
       "1                    307                 196           0  \n",
       "2                     58                  33           0  \n",
       "3                      2                   1           0  \n",
       "4                      0                   0           1  \n",
       "...                  ...                 ...         ...  \n",
       "11647                  1                   1           0  \n",
       "11648                  5                   5           0  \n",
       "11649                  1                   1           0  \n",
       "11650                  5                   5           0  \n",
       "11651                 23                  21           2  \n",
       "\n",
       "[11652 rows x 9 columns]"
      ]
     },
     "execution_count": 18,
     "metadata": {},
     "output_type": "execute_result"
    }
   ],
   "source": [
    "# Удаление явных дубликатов в fund\n",
    "fund.drop_duplicates()"
   ]
  },
  {
   "cell_type": "code",
   "execution_count": 19,
   "metadata": {},
   "outputs": [
    {
     "data": {
      "text/html": [
       "<div>\n",
       "<style scoped>\n",
       "    .dataframe tbody tr th:only-of-type {\n",
       "        vertical-align: middle;\n",
       "    }\n",
       "\n",
       "    .dataframe tbody tr th {\n",
       "        vertical-align: top;\n",
       "    }\n",
       "\n",
       "    .dataframe thead th {\n",
       "        text-align: right;\n",
       "    }\n",
       "</style>\n",
       "<table border=\"1\" class=\"dataframe\">\n",
       "  <thead>\n",
       "    <tr style=\"text-align: right;\">\n",
       "      <th></th>\n",
       "      <th>id</th>\n",
       "      <th>funding_round_id</th>\n",
       "      <th>company_id</th>\n",
       "      <th>fund_id</th>\n",
       "    </tr>\n",
       "  </thead>\n",
       "  <tbody>\n",
       "    <tr>\n",
       "      <th>0</th>\n",
       "      <td>1</td>\n",
       "      <td>1</td>\n",
       "      <td>4</td>\n",
       "      <td>1</td>\n",
       "    </tr>\n",
       "    <tr>\n",
       "      <th>1</th>\n",
       "      <td>2</td>\n",
       "      <td>1</td>\n",
       "      <td>4</td>\n",
       "      <td>2</td>\n",
       "    </tr>\n",
       "    <tr>\n",
       "      <th>2</th>\n",
       "      <td>3</td>\n",
       "      <td>3</td>\n",
       "      <td>5</td>\n",
       "      <td>4</td>\n",
       "    </tr>\n",
       "    <tr>\n",
       "      <th>3</th>\n",
       "      <td>4</td>\n",
       "      <td>4</td>\n",
       "      <td>5</td>\n",
       "      <td>1</td>\n",
       "    </tr>\n",
       "    <tr>\n",
       "      <th>4</th>\n",
       "      <td>5</td>\n",
       "      <td>4</td>\n",
       "      <td>5</td>\n",
       "      <td>5</td>\n",
       "    </tr>\n",
       "    <tr>\n",
       "      <th>...</th>\n",
       "      <td>...</td>\n",
       "      <td>...</td>\n",
       "      <td>...</td>\n",
       "      <td>...</td>\n",
       "    </tr>\n",
       "    <tr>\n",
       "      <th>61398</th>\n",
       "      <td>61399</td>\n",
       "      <td>57926</td>\n",
       "      <td>15847</td>\n",
       "      <td>173</td>\n",
       "    </tr>\n",
       "    <tr>\n",
       "      <th>61399</th>\n",
       "      <td>61400</td>\n",
       "      <td>57926</td>\n",
       "      <td>15847</td>\n",
       "      <td>1290</td>\n",
       "    </tr>\n",
       "    <tr>\n",
       "      <th>61400</th>\n",
       "      <td>61401</td>\n",
       "      <td>57926</td>\n",
       "      <td>15847</td>\n",
       "      <td>73</td>\n",
       "    </tr>\n",
       "    <tr>\n",
       "      <th>61401</th>\n",
       "      <td>61402</td>\n",
       "      <td>57942</td>\n",
       "      <td>70841</td>\n",
       "      <td>15098</td>\n",
       "    </tr>\n",
       "    <tr>\n",
       "      <th>61402</th>\n",
       "      <td>61403</td>\n",
       "      <td>57948</td>\n",
       "      <td>211890</td>\n",
       "      <td>2101</td>\n",
       "    </tr>\n",
       "  </tbody>\n",
       "</table>\n",
       "<p>61403 rows × 4 columns</p>\n",
       "</div>"
      ],
      "text/plain": [
       "          id  funding_round_id  company_id  fund_id\n",
       "0          1                 1           4        1\n",
       "1          2                 1           4        2\n",
       "2          3                 3           5        4\n",
       "3          4                 4           5        1\n",
       "4          5                 4           5        5\n",
       "...      ...               ...         ...      ...\n",
       "61398  61399             57926       15847      173\n",
       "61399  61400             57926       15847     1290\n",
       "61400  61401             57926       15847       73\n",
       "61401  61402             57942       70841    15098\n",
       "61402  61403             57948      211890     2101\n",
       "\n",
       "[61403 rows x 4 columns]"
      ]
     },
     "execution_count": 19,
     "metadata": {},
     "output_type": "execute_result"
    }
   ],
   "source": [
    "# Удаление явных дубликатов в investment\n",
    "investment.drop_duplicates()"
   ]
  },
  {
   "cell_type": "markdown",
   "metadata": {},
   "source": [
    "Количество строк во всех датафреймах не изменилось. Явных дубликатов нет"
   ]
  },
  {
   "cell_type": "markdown",
   "metadata": {},
   "source": [
    "На этапе знакомства с данными были выявлены пропуски во многих столбцах. Для дальнейшей работы нужно определить их долю в датафреймах, чтобы понять, можно ли их удалить."
   ]
  },
  {
   "cell_type": "code",
   "execution_count": 20,
   "metadata": {
    "scrolled": false
   },
   "outputs": [
    {
     "data": {
      "text/html": [
       "<style  type=\"text/css\" >\n",
       "#T_65563_row0_col0,#T_65563_row1_col0{\n",
       "            background-color:  #b40426;\n",
       "            color:  #f1f1f1;\n",
       "        }#T_65563_row2_col0,#T_65563_row3_col0{\n",
       "            background-color:  #f29072;\n",
       "            color:  #000000;\n",
       "        }#T_65563_row4_col0,#T_65563_row5_col0,#T_65563_row6_col0,#T_65563_row7_col0,#T_65563_row8_col0,#T_65563_row9_col0,#T_65563_row10_col0,#T_65563_row11_col0{\n",
       "            background-color:  #f29274;\n",
       "            color:  #000000;\n",
       "        }#T_65563_row12_col0{\n",
       "            background-color:  #edd2c3;\n",
       "            color:  #000000;\n",
       "        }#T_65563_row13_col0{\n",
       "            background-color:  #dfdbd9;\n",
       "            color:  #000000;\n",
       "        }#T_65563_row14_col0,#T_65563_row15_col0{\n",
       "            background-color:  #dddcdc;\n",
       "            color:  #000000;\n",
       "        }#T_65563_row16_col0{\n",
       "            background-color:  #aec9fc;\n",
       "            color:  #000000;\n",
       "        }#T_65563_row17_col0{\n",
       "            background-color:  #a9c6fd;\n",
       "            color:  #000000;\n",
       "        }#T_65563_row18_col0,#T_65563_row19_col0,#T_65563_row20_col0,#T_65563_row21_col0,#T_65563_row22_col0,#T_65563_row23_col0,#T_65563_row24_col0{\n",
       "            background-color:  #3b4cc0;\n",
       "            color:  #f1f1f1;\n",
       "        }</style><table id=\"T_65563_\" ><thead>    <tr>        <th class=\"blank level0\" ></th>        <th class=\"col_heading level0 col0\" >0</th>    </tr></thead><tbody>\n",
       "                <tr>\n",
       "                        <th id=\"T_65563_level0_row0\" class=\"row_heading level0 row0\" >closed_year</th>\n",
       "                        <td id=\"T_65563_row0_col0\" class=\"data row0 col0\" >98.420000</td>\n",
       "            </tr>\n",
       "            <tr>\n",
       "                        <th id=\"T_65563_level0_row1\" class=\"row_heading level0 row1\" >closed_at</th>\n",
       "                        <td id=\"T_65563_row1_col0\" class=\"data row1 col0\" >98.420000</td>\n",
       "            </tr>\n",
       "            <tr>\n",
       "                        <th id=\"T_65563_level0_row2\" class=\"row_heading level0 row2\" >funded_year</th>\n",
       "                        <td id=\"T_65563_row2_col0\" class=\"data row2 col0\" >75.810000</td>\n",
       "            </tr>\n",
       "            <tr>\n",
       "                        <th id=\"T_65563_level0_row3\" class=\"row_heading level0 row3\" >funded_at</th>\n",
       "                        <td id=\"T_65563_row3_col0\" class=\"data row3 col0\" >75.810000</td>\n",
       "            </tr>\n",
       "            <tr>\n",
       "                        <th id=\"T_65563_level0_row4\" class=\"row_heading level0 row4\" >is_last_round</th>\n",
       "                        <td id=\"T_65563_row4_col0\" class=\"data row4 col0\" >75.700000</td>\n",
       "            </tr>\n",
       "            <tr>\n",
       "                        <th id=\"T_65563_level0_row5\" class=\"row_heading level0 row5\" >funding_round_type</th>\n",
       "                        <td id=\"T_65563_row5_col0\" class=\"data row5 col0\" >75.700000</td>\n",
       "            </tr>\n",
       "            <tr>\n",
       "                        <th id=\"T_65563_level0_row6\" class=\"row_heading level0 row6\" >company_id</th>\n",
       "                        <td id=\"T_65563_row6_col0\" class=\"data row6 col0\" >75.700000</td>\n",
       "            </tr>\n",
       "            <tr>\n",
       "                        <th id=\"T_65563_level0_row7\" class=\"row_heading level0 row7\" >funding_round_id</th>\n",
       "                        <td id=\"T_65563_row7_col0\" class=\"data row7 col0\" >75.700000</td>\n",
       "            </tr>\n",
       "            <tr>\n",
       "                        <th id=\"T_65563_level0_row8\" class=\"row_heading level0 row8\" >participants</th>\n",
       "                        <td id=\"T_65563_row8_col0\" class=\"data row8 col0\" >75.700000</td>\n",
       "            </tr>\n",
       "            <tr>\n",
       "                        <th id=\"T_65563_level0_row9\" class=\"row_heading level0 row9\" >is_first_round</th>\n",
       "                        <td id=\"T_65563_row9_col0\" class=\"data row9 col0\" >75.700000</td>\n",
       "            </tr>\n",
       "            <tr>\n",
       "                        <th id=\"T_65563_level0_row10\" class=\"row_heading level0 row10\" >raised_amount</th>\n",
       "                        <td id=\"T_65563_row10_col0\" class=\"data row10 col0\" >75.700000</td>\n",
       "            </tr>\n",
       "            <tr>\n",
       "                        <th id=\"T_65563_level0_row11\" class=\"row_heading level0 row11\" >pre_money_valuation</th>\n",
       "                        <td id=\"T_65563_row11_col0\" class=\"data row11 col0\" >75.700000</td>\n",
       "            </tr>\n",
       "            <tr>\n",
       "                        <th id=\"T_65563_level0_row12\" class=\"row_heading level0 row12\" >network_username</th>\n",
       "                        <td id=\"T_65563_row12_col0\" class=\"data row12 col0\" >56.130000</td>\n",
       "            </tr>\n",
       "            <tr>\n",
       "                        <th id=\"T_65563_level0_row13\" class=\"row_heading level0 row13\" >country_code</th>\n",
       "                        <td id=\"T_65563_row13_col0\" class=\"data row13 col0\" >50.130000</td>\n",
       "            </tr>\n",
       "            <tr>\n",
       "                        <th id=\"T_65563_level0_row14\" class=\"row_heading level0 row14\" >founded_at</th>\n",
       "                        <td id=\"T_65563_row14_col0\" class=\"data row14 col0\" >49.510000</td>\n",
       "            </tr>\n",
       "            <tr>\n",
       "                        <th id=\"T_65563_level0_row15\" class=\"row_heading level0 row15\" >founded_year</th>\n",
       "                        <td id=\"T_65563_row15_col0\" class=\"data row15 col0\" >49.510000</td>\n",
       "            </tr>\n",
       "            <tr>\n",
       "                        <th id=\"T_65563_level0_row16\" class=\"row_heading level0 row16\" >category_code</th>\n",
       "                        <td id=\"T_65563_row16_col0\" class=\"data row16 col0\" >33.930000</td>\n",
       "            </tr>\n",
       "            <tr>\n",
       "                        <th id=\"T_65563_level0_row17\" class=\"row_heading level0 row17\" >domain</th>\n",
       "                        <td id=\"T_65563_row17_col0\" class=\"data row17 col0\" >32.430000</td>\n",
       "            </tr>\n",
       "            <tr>\n",
       "                        <th id=\"T_65563_level0_row18\" class=\"row_heading level0 row18\" >id</th>\n",
       "                        <td id=\"T_65563_row18_col0\" class=\"data row18 col0\" >0.140000</td>\n",
       "            </tr>\n",
       "            <tr>\n",
       "                        <th id=\"T_65563_level0_row19\" class=\"row_heading level0 row19\" >name</th>\n",
       "                        <td id=\"T_65563_row19_col0\" class=\"data row19 col0\" >0.140000</td>\n",
       "            </tr>\n",
       "            <tr>\n",
       "                        <th id=\"T_65563_level0_row20\" class=\"row_heading level0 row20\" >funding_total</th>\n",
       "                        <td id=\"T_65563_row20_col0\" class=\"data row20 col0\" >0.140000</td>\n",
       "            </tr>\n",
       "            <tr>\n",
       "                        <th id=\"T_65563_level0_row21\" class=\"row_heading level0 row21\" >funding_rounds</th>\n",
       "                        <td id=\"T_65563_row21_col0\" class=\"data row21 col0\" >0.140000</td>\n",
       "            </tr>\n",
       "            <tr>\n",
       "                        <th id=\"T_65563_level0_row22\" class=\"row_heading level0 row22\" >investment_rounds</th>\n",
       "                        <td id=\"T_65563_row22_col0\" class=\"data row22 col0\" >0.140000</td>\n",
       "            </tr>\n",
       "            <tr>\n",
       "                        <th id=\"T_65563_level0_row23\" class=\"row_heading level0 row23\" >status</th>\n",
       "                        <td id=\"T_65563_row23_col0\" class=\"data row23 col0\" >0.140000</td>\n",
       "            </tr>\n",
       "            <tr>\n",
       "                        <th id=\"T_65563_level0_row24\" class=\"row_heading level0 row24\" >milestones</th>\n",
       "                        <td id=\"T_65563_row24_col0\" class=\"data row24 col0\" >0.140000</td>\n",
       "            </tr>\n",
       "    </tbody></table>"
      ],
      "text/plain": [
       "<pandas.io.formats.style.Styler at 0x7f81ec8a5760>"
      ]
     },
     "execution_count": 20,
     "metadata": {},
     "output_type": "execute_result"
    }
   ],
   "source": [
    "# Расчет доли пропусков в столбце company_and_rounds\n",
    "pd.DataFrame(round(company_and_rounds.isna().mean()*100, 2)).sort_values(by=0, ascending=False).style.background_gradient('coolwarm')"
   ]
  },
  {
   "cell_type": "code",
   "execution_count": 21,
   "metadata": {},
   "outputs": [
    {
     "data": {
      "text/html": [
       "<style  type=\"text/css\" >\n",
       "#T_471ba_row0_col0{\n",
       "            background-color:  #b40426;\n",
       "            color:  #f1f1f1;\n",
       "        }#T_471ba_row1_col0,#T_471ba_row2_col0,#T_471ba_row3_col0,#T_471ba_row4_col0,#T_471ba_row5_col0{\n",
       "            background-color:  #3b4cc0;\n",
       "            color:  #f1f1f1;\n",
       "        }</style><table id=\"T_471ba_\" ><thead>    <tr>        <th class=\"blank level0\" ></th>        <th class=\"col_heading level0 col0\" >0</th>    </tr></thead><tbody>\n",
       "                <tr>\n",
       "                        <th id=\"T_471ba_level0_row0\" class=\"row_heading level0 row0\" >term_code</th>\n",
       "                        <td id=\"T_471ba_row0_col0\" class=\"data row0 col0\" >80.540000</td>\n",
       "            </tr>\n",
       "            <tr>\n",
       "                        <th id=\"T_471ba_level0_row1\" class=\"row_heading level0 row1\" >acquired_at</th>\n",
       "                        <td id=\"T_471ba_row1_col0\" class=\"data row1 col0\" >0.310000</td>\n",
       "            </tr>\n",
       "            <tr>\n",
       "                        <th id=\"T_471ba_level0_row2\" class=\"row_heading level0 row2\" >id</th>\n",
       "                        <td id=\"T_471ba_row2_col0\" class=\"data row2 col0\" >0.000000</td>\n",
       "            </tr>\n",
       "            <tr>\n",
       "                        <th id=\"T_471ba_level0_row3\" class=\"row_heading level0 row3\" >acquiring_company_id</th>\n",
       "                        <td id=\"T_471ba_row3_col0\" class=\"data row3 col0\" >0.000000</td>\n",
       "            </tr>\n",
       "            <tr>\n",
       "                        <th id=\"T_471ba_level0_row4\" class=\"row_heading level0 row4\" >acquired_company_id</th>\n",
       "                        <td id=\"T_471ba_row4_col0\" class=\"data row4 col0\" >0.000000</td>\n",
       "            </tr>\n",
       "            <tr>\n",
       "                        <th id=\"T_471ba_level0_row5\" class=\"row_heading level0 row5\" >price_amount</th>\n",
       "                        <td id=\"T_471ba_row5_col0\" class=\"data row5 col0\" >0.000000</td>\n",
       "            </tr>\n",
       "    </tbody></table>"
      ],
      "text/plain": [
       "<pandas.io.formats.style.Styler at 0x7f81e59b9af0>"
      ]
     },
     "execution_count": 21,
     "metadata": {},
     "output_type": "execute_result"
    }
   ],
   "source": [
    "# Расчет доли пропусков в датафрейме acquisition\n",
    "pd.DataFrame(round(acquisition.isna().mean()*100, 2)).sort_values(by=0, ascending=False).style.background_gradient('coolwarm')"
   ]
  },
  {
   "cell_type": "code",
   "execution_count": 22,
   "metadata": {},
   "outputs": [
    {
     "data": {
      "text/html": [
       "<style  type=\"text/css\" >\n",
       "#T_f7dc4_row0_col0{\n",
       "            background-color:  #b40426;\n",
       "            color:  #f1f1f1;\n",
       "        }#T_f7dc4_row1_col0,#T_f7dc4_row2_col0,#T_f7dc4_row3_col0{\n",
       "            background-color:  #3b4cc0;\n",
       "            color:  #f1f1f1;\n",
       "        }</style><table id=\"T_f7dc4_\" ><thead>    <tr>        <th class=\"blank level0\" ></th>        <th class=\"col_heading level0 col0\" >0</th>    </tr></thead><tbody>\n",
       "                <tr>\n",
       "                        <th id=\"T_f7dc4_level0_row0\" class=\"row_heading level0 row0\" >graduated_at</th>\n",
       "                        <td id=\"T_f7dc4_row0_col0\" class=\"data row0 col0\" >47.040000</td>\n",
       "            </tr>\n",
       "            <tr>\n",
       "                        <th id=\"T_f7dc4_level0_row1\" class=\"row_heading level0 row1\" >instituition</th>\n",
       "                        <td id=\"T_f7dc4_row1_col0\" class=\"data row1 col0\" >0.050000</td>\n",
       "            </tr>\n",
       "            <tr>\n",
       "                        <th id=\"T_f7dc4_level0_row2\" class=\"row_heading level0 row2\" >id</th>\n",
       "                        <td id=\"T_f7dc4_row2_col0\" class=\"data row2 col0\" >0.000000</td>\n",
       "            </tr>\n",
       "            <tr>\n",
       "                        <th id=\"T_f7dc4_level0_row3\" class=\"row_heading level0 row3\" >person_id</th>\n",
       "                        <td id=\"T_f7dc4_row3_col0\" class=\"data row3 col0\" >0.000000</td>\n",
       "            </tr>\n",
       "    </tbody></table>"
      ],
      "text/plain": [
       "<pandas.io.formats.style.Styler at 0x7f81ec8a5a30>"
      ]
     },
     "execution_count": 22,
     "metadata": {},
     "output_type": "execute_result"
    }
   ],
   "source": [
    "# Расчет доли пропусков в датафрейме education\n",
    "pd.DataFrame(round(education.isna().mean()*100, 2)).sort_values(by=0, ascending=False).style.background_gradient('coolwarm')"
   ]
  },
  {
   "cell_type": "code",
   "execution_count": 23,
   "metadata": {},
   "outputs": [
    {
     "data": {
      "text/html": [
       "<style  type=\"text/css\" >\n",
       "#T_6782a_row0_col0{\n",
       "            background-color:  #b40426;\n",
       "            color:  #f1f1f1;\n",
       "        }#T_6782a_row1_col0{\n",
       "            background-color:  #bb1b2c;\n",
       "            color:  #f1f1f1;\n",
       "        }#T_6782a_row2_col0,#T_6782a_row3_col0,#T_6782a_row4_col0{\n",
       "            background-color:  #3b4cc0;\n",
       "            color:  #f1f1f1;\n",
       "        }</style><table id=\"T_6782a_\" ><thead>    <tr>        <th class=\"blank level0\" ></th>        <th class=\"col_heading level0 col0\" >0</th>    </tr></thead><tbody>\n",
       "                <tr>\n",
       "                        <th id=\"T_6782a_level0_row0\" class=\"row_heading level0 row0\" >company_id</th>\n",
       "                        <td id=\"T_6782a_row0_col0\" class=\"data row0 col0\" >84.730000</td>\n",
       "            </tr>\n",
       "            <tr>\n",
       "                        <th id=\"T_6782a_level0_row1\" class=\"row_heading level0 row1\" >network_username</th>\n",
       "                        <td id=\"T_6782a_row1_col0\" class=\"data row1 col0\" >82.860000</td>\n",
       "            </tr>\n",
       "            <tr>\n",
       "                        <th id=\"T_6782a_level0_row2\" class=\"row_heading level0 row2\" >id</th>\n",
       "                        <td id=\"T_6782a_row2_col0\" class=\"data row2 col0\" >0.000000</td>\n",
       "            </tr>\n",
       "            <tr>\n",
       "                        <th id=\"T_6782a_level0_row3\" class=\"row_heading level0 row3\" >first_name</th>\n",
       "                        <td id=\"T_6782a_row3_col0\" class=\"data row3 col0\" >0.000000</td>\n",
       "            </tr>\n",
       "            <tr>\n",
       "                        <th id=\"T_6782a_level0_row4\" class=\"row_heading level0 row4\" >last_name</th>\n",
       "                        <td id=\"T_6782a_row4_col0\" class=\"data row4 col0\" >0.000000</td>\n",
       "            </tr>\n",
       "    </tbody></table>"
      ],
      "text/plain": [
       "<pandas.io.formats.style.Styler at 0x7f81ede78cd0>"
      ]
     },
     "execution_count": 23,
     "metadata": {},
     "output_type": "execute_result"
    }
   ],
   "source": [
    "# Расчет доли пропусков в датафрейме people\n",
    "pd.DataFrame(round(people.isna().mean()*100, 2)).sort_values(by=0, ascending=False).style.background_gradient('coolwarm')"
   ]
  },
  {
   "cell_type": "code",
   "execution_count": 24,
   "metadata": {},
   "outputs": [
    {
     "data": {
      "text/html": [
       "<style  type=\"text/css\" >\n",
       "#T_9e581_row0_col0{\n",
       "            background-color:  #b40426;\n",
       "            color:  #f1f1f1;\n",
       "        }#T_9e581_row1_col0{\n",
       "            background-color:  #bfd3f6;\n",
       "            color:  #000000;\n",
       "        }#T_9e581_row2_col0,#T_9e581_row3_col0{\n",
       "            background-color:  #3b4cc0;\n",
       "            color:  #f1f1f1;\n",
       "        }</style><table id=\"T_9e581_\" ><thead>    <tr>        <th class=\"blank level0\" ></th>        <th class=\"col_heading level0 col0\" >0</th>    </tr></thead><tbody>\n",
       "                <tr>\n",
       "                        <th id=\"T_9e581_level0_row0\" class=\"row_heading level0 row0\" >subject</th>\n",
       "                        <td id=\"T_9e581_row0_col0\" class=\"data row0 col0\" >25.830000</td>\n",
       "            </tr>\n",
       "            <tr>\n",
       "                        <th id=\"T_9e581_level0_row1\" class=\"row_heading level0 row1\" >degree_type</th>\n",
       "                        <td id=\"T_9e581_row1_col0\" class=\"data row1 col0\" >10.230000</td>\n",
       "            </tr>\n",
       "            <tr>\n",
       "                        <th id=\"T_9e581_level0_row2\" class=\"row_heading level0 row2\" >id</th>\n",
       "                        <td id=\"T_9e581_row2_col0\" class=\"data row2 col0\" >0.000000</td>\n",
       "            </tr>\n",
       "            <tr>\n",
       "                        <th id=\"T_9e581_level0_row3\" class=\"row_heading level0 row3\" >object_id</th>\n",
       "                        <td id=\"T_9e581_row3_col0\" class=\"data row3 col0\" >0.000000</td>\n",
       "            </tr>\n",
       "    </tbody></table>"
      ],
      "text/plain": [
       "<pandas.io.formats.style.Styler at 0x7f81e5a20f70>"
      ]
     },
     "execution_count": 24,
     "metadata": {},
     "output_type": "execute_result"
    }
   ],
   "source": [
    "# Расчет доли пропусков в датафрейме degrees\n",
    "pd.DataFrame(round(degrees.isna().mean()*100, 2)).sort_values(by=0, ascending=False).style.background_gradient('coolwarm')"
   ]
  },
  {
   "cell_type": "code",
   "execution_count": 25,
   "metadata": {},
   "outputs": [
    {
     "data": {
      "text/html": [
       "<style  type=\"text/css\" >\n",
       "#T_c8ffd_row0_col0{\n",
       "            background-color:  #b40426;\n",
       "            color:  #f1f1f1;\n",
       "        }#T_c8ffd_row1_col0{\n",
       "            background-color:  #f59d7e;\n",
       "            color:  #000000;\n",
       "        }#T_c8ffd_row2_col0{\n",
       "            background-color:  #d8dce2;\n",
       "            color:  #000000;\n",
       "        }#T_c8ffd_row3_col0{\n",
       "            background-color:  #cfdaea;\n",
       "            color:  #000000;\n",
       "        }#T_c8ffd_row4_col0,#T_c8ffd_row5_col0,#T_c8ffd_row6_col0,#T_c8ffd_row7_col0,#T_c8ffd_row8_col0{\n",
       "            background-color:  #3b4cc0;\n",
       "            color:  #f1f1f1;\n",
       "        }</style><table id=\"T_c8ffd_\" ><thead>    <tr>        <th class=\"blank level0\" ></th>        <th class=\"col_heading level0 col0\" >0</th>    </tr></thead><tbody>\n",
       "                <tr>\n",
       "                        <th id=\"T_c8ffd_level0_row0\" class=\"row_heading level0 row0\" >network_username</th>\n",
       "                        <td id=\"T_c8ffd_row0_col0\" class=\"data row0 col0\" >81.560000</td>\n",
       "            </tr>\n",
       "            <tr>\n",
       "                        <th id=\"T_c8ffd_level0_row1\" class=\"row_heading level0 row1\" >founded_at</th>\n",
       "                        <td id=\"T_c8ffd_row1_col0\" class=\"data row1 col0\" >60.480000</td>\n",
       "            </tr>\n",
       "            <tr>\n",
       "                        <th id=\"T_c8ffd_level0_row2\" class=\"row_heading level0 row2\" >country_code</th>\n",
       "                        <td id=\"T_c8ffd_row2_col0\" class=\"data row2 col0\" >39.470000</td>\n",
       "            </tr>\n",
       "            <tr>\n",
       "                        <th id=\"T_c8ffd_level0_row3\" class=\"row_heading level0 row3\" >domain</th>\n",
       "                        <td id=\"T_c8ffd_row3_col0\" class=\"data row3 col0\" >36.820000</td>\n",
       "            </tr>\n",
       "            <tr>\n",
       "                        <th id=\"T_c8ffd_level0_row4\" class=\"row_heading level0 row4\" >name</th>\n",
       "                        <td id=\"T_c8ffd_row4_col0\" class=\"data row4 col0\" >0.020000</td>\n",
       "            </tr>\n",
       "            <tr>\n",
       "                        <th id=\"T_c8ffd_level0_row5\" class=\"row_heading level0 row5\" >id</th>\n",
       "                        <td id=\"T_c8ffd_row5_col0\" class=\"data row5 col0\" >0.000000</td>\n",
       "            </tr>\n",
       "            <tr>\n",
       "                        <th id=\"T_c8ffd_level0_row6\" class=\"row_heading level0 row6\" >investment_rounds</th>\n",
       "                        <td id=\"T_c8ffd_row6_col0\" class=\"data row6 col0\" >0.000000</td>\n",
       "            </tr>\n",
       "            <tr>\n",
       "                        <th id=\"T_c8ffd_level0_row7\" class=\"row_heading level0 row7\" >invested_companies</th>\n",
       "                        <td id=\"T_c8ffd_row7_col0\" class=\"data row7 col0\" >0.000000</td>\n",
       "            </tr>\n",
       "            <tr>\n",
       "                        <th id=\"T_c8ffd_level0_row8\" class=\"row_heading level0 row8\" >milestones</th>\n",
       "                        <td id=\"T_c8ffd_row8_col0\" class=\"data row8 col0\" >0.000000</td>\n",
       "            </tr>\n",
       "    </tbody></table>"
      ],
      "text/plain": [
       "<pandas.io.formats.style.Styler at 0x7f81ec8a5550>"
      ]
     },
     "execution_count": 25,
     "metadata": {},
     "output_type": "execute_result"
    }
   ],
   "source": [
    "# Расчет доли пропусков в датафрейме fund\n",
    "pd.DataFrame(round(fund.isna().mean()*100, 2)).sort_values(by=0, ascending=False).style.background_gradient('coolwarm')"
   ]
  },
  {
   "cell_type": "code",
   "execution_count": 26,
   "metadata": {
    "scrolled": true
   },
   "outputs": [
    {
     "data": {
      "text/html": [
       "<style  type=\"text/css\" >\n",
       "#T_f2fd2_row0_col0,#T_f2fd2_row1_col0,#T_f2fd2_row2_col0,#T_f2fd2_row3_col0{\n",
       "            background-color:  #3b4cc0;\n",
       "            color:  #f1f1f1;\n",
       "        }</style><table id=\"T_f2fd2_\" ><thead>    <tr>        <th class=\"blank level0\" ></th>        <th class=\"col_heading level0 col0\" >0</th>    </tr></thead><tbody>\n",
       "                <tr>\n",
       "                        <th id=\"T_f2fd2_level0_row0\" class=\"row_heading level0 row0\" >id</th>\n",
       "                        <td id=\"T_f2fd2_row0_col0\" class=\"data row0 col0\" >0.000000</td>\n",
       "            </tr>\n",
       "            <tr>\n",
       "                        <th id=\"T_f2fd2_level0_row1\" class=\"row_heading level0 row1\" >funding_round_id</th>\n",
       "                        <td id=\"T_f2fd2_row1_col0\" class=\"data row1 col0\" >0.000000</td>\n",
       "            </tr>\n",
       "            <tr>\n",
       "                        <th id=\"T_f2fd2_level0_row2\" class=\"row_heading level0 row2\" >company_id</th>\n",
       "                        <td id=\"T_f2fd2_row2_col0\" class=\"data row2 col0\" >0.000000</td>\n",
       "            </tr>\n",
       "            <tr>\n",
       "                        <th id=\"T_f2fd2_level0_row3\" class=\"row_heading level0 row3\" >fund_id</th>\n",
       "                        <td id=\"T_f2fd2_row3_col0\" class=\"data row3 col0\" >0.000000</td>\n",
       "            </tr>\n",
       "    </tbody></table>"
      ],
      "text/plain": [
       "<pandas.io.formats.style.Styler at 0x7f81e59b9250>"
      ]
     },
     "execution_count": 26,
     "metadata": {},
     "output_type": "execute_result"
    }
   ],
   "source": [
    "# Расчет доли пропусков в датафрейме investment\n",
    "pd.DataFrame(round(investment.isna().mean()*100, 2)).sort_values(by=0, ascending=False).style.background_gradient('coolwarm')"
   ]
  },
  {
   "cell_type": "markdown",
   "metadata": {},
   "source": [
    "В датафрейме `company_and_rounds` пропуски связаны, скорее всего, с присоединением другой таблицы (это видно по названиям столбцов). Также пропуски в датах закрытия компании, вехах финансирования логичны, если компания еще не закрыта или прошла веху финансирования.\n",
    "\n",
    "Пропуски в `acquisition` могут быть связаны с отсутствием этих данных у заказчика. \n",
    "\n",
    "Пропуски в `education`, `degrees` и `people` могут быть связаны с с тем что компании не полностью указывают информацию о сотрудниках.\n",
    "\n",
    "Пропуски в `fund` также, скорее всего, связаны с неполной информацией у заказчика.\n",
    "\n",
    "Пропусков в `investment` нет.\n",
    "\n",
    "Помимо этого, некоторые поля могут быть опциональными и поэтому не все компании их заполнили.\n",
    "\n",
    "Во всех датафреймах, кроме `investment`, содержится значительное количество пропусков, от 25% до 98%. Удаление такого количества информации приведет к искажению результатов при анализе. При этом информацию о раундах финансирования, раундах инвестирования и денежных суммах можно считать достаточной для анализа. Оставим пропуски без изменений."
   ]
  },
  {
   "cell_type": "markdown",
   "metadata": {
    "id": "u60cHsn6rJg1"
   },
   "source": [
    "## Предобработка данных, предварительное исследование"
   ]
  },
  {
   "cell_type": "markdown",
   "metadata": {
    "id": "g2bHIIjcrJg1"
   },
   "source": [
    "\n",
    "### Раунды финансирования по годам\n",
    "\n",
    "Исследование проводится без объединения и дополнительной предобработки на основе датасета `company_and_rounds.csv`."
   ]
  },
  {
   "cell_type": "code",
   "execution_count": 27,
   "metadata": {
    "scrolled": false
   },
   "outputs": [
    {
     "data": {
      "text/html": [
       "<div>\n",
       "<style scoped>\n",
       "    .dataframe tbody tr th:only-of-type {\n",
       "        vertical-align: middle;\n",
       "    }\n",
       "\n",
       "    .dataframe tbody tr th {\n",
       "        vertical-align: top;\n",
       "    }\n",
       "\n",
       "    .dataframe thead th {\n",
       "        text-align: right;\n",
       "    }\n",
       "</style>\n",
       "<table border=\"1\" class=\"dataframe\">\n",
       "  <thead>\n",
       "    <tr style=\"text-align: right;\">\n",
       "      <th></th>\n",
       "      <th>raised_amount</th>\n",
       "      <th>funding_rounds</th>\n",
       "    </tr>\n",
       "    <tr>\n",
       "      <th>funded_year</th>\n",
       "      <th></th>\n",
       "      <th></th>\n",
       "    </tr>\n",
       "  </thead>\n",
       "  <tbody>\n",
       "    <tr>\n",
       "      <th>1998.0</th>\n",
       "      <td>100000.0</td>\n",
       "      <td>72.0</td>\n",
       "    </tr>\n",
       "    <tr>\n",
       "      <th>1999.0</th>\n",
       "      <td>2000000.0</td>\n",
       "      <td>268.0</td>\n",
       "    </tr>\n",
       "    <tr>\n",
       "      <th>2000.0</th>\n",
       "      <td>4200000.0</td>\n",
       "      <td>403.0</td>\n",
       "    </tr>\n",
       "    <tr>\n",
       "      <th>2001.0</th>\n",
       "      <td>3000000.0</td>\n",
       "      <td>302.0</td>\n",
       "    </tr>\n",
       "    <tr>\n",
       "      <th>2002.0</th>\n",
       "      <td>4200000.0</td>\n",
       "      <td>385.0</td>\n",
       "    </tr>\n",
       "    <tr>\n",
       "      <th>2003.0</th>\n",
       "      <td>3000000.0</td>\n",
       "      <td>569.0</td>\n",
       "    </tr>\n",
       "    <tr>\n",
       "      <th>2004.0</th>\n",
       "      <td>5000000.0</td>\n",
       "      <td>1057.0</td>\n",
       "    </tr>\n",
       "    <tr>\n",
       "      <th>2005.0</th>\n",
       "      <td>5500000.0</td>\n",
       "      <td>4157.0</td>\n",
       "    </tr>\n",
       "    <tr>\n",
       "      <th>2006.0</th>\n",
       "      <td>5000000.0</td>\n",
       "      <td>6295.0</td>\n",
       "    </tr>\n",
       "    <tr>\n",
       "      <th>2007.0</th>\n",
       "      <td>3973320.0</td>\n",
       "      <td>8494.0</td>\n",
       "    </tr>\n",
       "    <tr>\n",
       "      <th>2008.0</th>\n",
       "      <td>3110000.0</td>\n",
       "      <td>9931.0</td>\n",
       "    </tr>\n",
       "    <tr>\n",
       "      <th>2009.0</th>\n",
       "      <td>2000000.0</td>\n",
       "      <td>11857.0</td>\n",
       "    </tr>\n",
       "    <tr>\n",
       "      <th>2010.0</th>\n",
       "      <td>1602500.0</td>\n",
       "      <td>16913.0</td>\n",
       "    </tr>\n",
       "    <tr>\n",
       "      <th>2011.0</th>\n",
       "      <td>1200000.0</td>\n",
       "      <td>23503.0</td>\n",
       "    </tr>\n",
       "    <tr>\n",
       "      <th>2012.0</th>\n",
       "      <td>1000000.0</td>\n",
       "      <td>24549.0</td>\n",
       "    </tr>\n",
       "    <tr>\n",
       "      <th>2013.0</th>\n",
       "      <td>1200000.0</td>\n",
       "      <td>23978.0</td>\n",
       "    </tr>\n",
       "  </tbody>\n",
       "</table>\n",
       "</div>"
      ],
      "text/plain": [
       "             raised_amount  funding_rounds\n",
       "funded_year                               \n",
       "1998.0            100000.0            72.0\n",
       "1999.0           2000000.0           268.0\n",
       "2000.0           4200000.0           403.0\n",
       "2001.0           3000000.0           302.0\n",
       "2002.0           4200000.0           385.0\n",
       "2003.0           3000000.0           569.0\n",
       "2004.0           5000000.0          1057.0\n",
       "2005.0           5500000.0          4157.0\n",
       "2006.0           5000000.0          6295.0\n",
       "2007.0           3973320.0          8494.0\n",
       "2008.0           3110000.0          9931.0\n",
       "2009.0           2000000.0         11857.0\n",
       "2010.0           1602500.0         16913.0\n",
       "2011.0           1200000.0         23503.0\n",
       "2012.0           1000000.0         24549.0\n",
       "2013.0           1200000.0         23978.0"
      ]
     },
     "metadata": {},
     "output_type": "display_data"
    }
   ],
   "source": [
    "# Сводная таблица по годам с типичным размером средств для одного раунда и общим количеством раундов в год\n",
    "funding_years = company_and_rounds.groupby('funded_year').agg({'raised_amount':'median', 'funding_rounds':'sum'})\n",
    "# Года в которых количество раундов больше 50 \n",
    "funding_years_50 = funding_years.loc[funding_years['funding_rounds'] >= 50]\n",
    "display(funding_years_50)"
   ]
  },
  {
   "cell_type": "code",
   "execution_count": 28,
   "metadata": {},
   "outputs": [
    {
     "data": {
      "image/png": "[encoded data removed]",
      "text/plain": [
       "<Figure size 432x288 with 1 Axes>"
      ]
     },
     "metadata": {
      "needs_background": "light"
     },
     "output_type": "display_data"
    },
    {
     "data": {
      "text/plain": [
       "<Figure size 864x432 with 0 Axes>"
      ]
     },
     "metadata": {},
     "output_type": "display_data"
    }
   ],
   "source": [
    "# Построим график для визуализации финансирования по годам\n",
    "\n",
    "funding_years_50['raised_amount'].plot.line()\n",
    "\n",
    "plt.title('Типичный размер средств для одного раунда по годам')\n",
    "plt.xlabel('')\n",
    "plt.ylabel('Млн.руб.')\n",
    "plt.figure(figsize=(12, 6))\n",
    "plt.show()"
   ]
  },
  {
   "cell_type": "markdown",
   "metadata": {},
   "source": [
    "- В 2005 году **типичный размер** собранных в рамках одного раунда средств был максимален и составил 5,5 млн.руб.\n",
    "- До 2005 года наблюдался неравномерный рост финансирования в одном раунде, а после 2005 года равномерный спад до 1,0 млн.руб. в 2012 году.\n",
    "- В 2013 году сбор средств увеличился до 1,2 млн.руб\n",
    "\n",
    "\n",
    "- **Количество раундов** непрерывно росло до максимального значения 24549 в 2012 году\n",
    "- В 2013 году количество раундов снизилось до 23978"
   ]
  },
  {
   "cell_type": "markdown",
   "metadata": {
    "id": "45if1en1rJg2"
   },
   "source": [
    "\n",
    "### Люди и их образование\n",
    "\n",
    "Зависимость полноты сведений о сотрудниках (об их образовании) от размера компаний."
   ]
  },
  {
   "cell_type": "code",
   "execution_count": 29,
   "metadata": {
    "id": "psPO7C4MrJg2"
   },
   "outputs": [
    {
     "data": {
      "text/html": [
       "<div>\n",
       "<style scoped>\n",
       "    .dataframe tbody tr th:only-of-type {\n",
       "        vertical-align: middle;\n",
       "    }\n",
       "\n",
       "    .dataframe tbody tr th {\n",
       "        vertical-align: top;\n",
       "    }\n",
       "\n",
       "    .dataframe thead th {\n",
       "        text-align: right;\n",
       "    }\n",
       "</style>\n",
       "<table border=\"1\" class=\"dataframe\">\n",
       "  <thead>\n",
       "    <tr style=\"text-align: right;\">\n",
       "      <th></th>\n",
       "      <th>id_x</th>\n",
       "      <th>first_name</th>\n",
       "      <th>last_name</th>\n",
       "      <th>company_id</th>\n",
       "      <th>network_username</th>\n",
       "      <th>id_y</th>\n",
       "      <th>person_id</th>\n",
       "      <th>instituition</th>\n",
       "      <th>graduated_at</th>\n",
       "    </tr>\n",
       "  </thead>\n",
       "  <tbody>\n",
       "    <tr>\n",
       "      <th>0</th>\n",
       "      <td>10</td>\n",
       "      <td>Mark</td>\n",
       "      <td>Zuckerberg</td>\n",
       "      <td>5.0</td>\n",
       "      <td>NaN</td>\n",
       "      <td>2415.0</td>\n",
       "      <td>10.0</td>\n",
       "      <td>Harvard University</td>\n",
       "      <td>NaT</td>\n",
       "    </tr>\n",
       "    <tr>\n",
       "      <th>1</th>\n",
       "      <td>100</td>\n",
       "      <td>Peter</td>\n",
       "      <td>Lester</td>\n",
       "      <td>27.0</td>\n",
       "      <td>NaN</td>\n",
       "      <td>NaN</td>\n",
       "      <td>NaN</td>\n",
       "      <td>NaN</td>\n",
       "      <td>NaT</td>\n",
       "    </tr>\n",
       "    <tr>\n",
       "      <th>2</th>\n",
       "      <td>1000</td>\n",
       "      <td>Dr. Steven</td>\n",
       "      <td>E. Saunders</td>\n",
       "      <td>292.0</td>\n",
       "      <td>NaN</td>\n",
       "      <td>NaN</td>\n",
       "      <td>NaN</td>\n",
       "      <td>NaN</td>\n",
       "      <td>NaT</td>\n",
       "    </tr>\n",
       "    <tr>\n",
       "      <th>3</th>\n",
       "      <td>10000</td>\n",
       "      <td>Neil</td>\n",
       "      <td>Capel</td>\n",
       "      <td>2526.0</td>\n",
       "      <td>NaN</td>\n",
       "      <td>NaN</td>\n",
       "      <td>NaN</td>\n",
       "      <td>NaN</td>\n",
       "      <td>NaT</td>\n",
       "    </tr>\n",
       "    <tr>\n",
       "      <th>4</th>\n",
       "      <td>100000</td>\n",
       "      <td>Sue</td>\n",
       "      <td>Pilsch</td>\n",
       "      <td>NaN</td>\n",
       "      <td>NaN</td>\n",
       "      <td>NaN</td>\n",
       "      <td>NaN</td>\n",
       "      <td>NaN</td>\n",
       "      <td>NaT</td>\n",
       "    </tr>\n",
       "    <tr>\n",
       "      <th>5</th>\n",
       "      <td>100002</td>\n",
       "      <td>Keith</td>\n",
       "      <td>Kurzendoerfer</td>\n",
       "      <td>NaN</td>\n",
       "      <td>NaN</td>\n",
       "      <td>NaN</td>\n",
       "      <td>NaN</td>\n",
       "      <td>NaN</td>\n",
       "      <td>NaT</td>\n",
       "    </tr>\n",
       "    <tr>\n",
       "      <th>6</th>\n",
       "      <td>100006</td>\n",
       "      <td>Courtney</td>\n",
       "      <td>Homer</td>\n",
       "      <td>81558.0</td>\n",
       "      <td>jobsbostontech</td>\n",
       "      <td>83604.0</td>\n",
       "      <td>100006.0</td>\n",
       "      <td>MIT Sloan School of Management</td>\n",
       "      <td>2004-01-01</td>\n",
       "    </tr>\n",
       "    <tr>\n",
       "      <th>7</th>\n",
       "      <td>100009</td>\n",
       "      <td>Eddy</td>\n",
       "      <td>Badrina</td>\n",
       "      <td>NaN</td>\n",
       "      <td>NaN</td>\n",
       "      <td>NaN</td>\n",
       "      <td>NaN</td>\n",
       "      <td>NaN</td>\n",
       "      <td>NaT</td>\n",
       "    </tr>\n",
       "    <tr>\n",
       "      <th>8</th>\n",
       "      <td>100010</td>\n",
       "      <td>Michael</td>\n",
       "      <td>Dadashyan</td>\n",
       "      <td>NaN</td>\n",
       "      <td>fbroulette</td>\n",
       "      <td>NaN</td>\n",
       "      <td>NaN</td>\n",
       "      <td>NaN</td>\n",
       "      <td>NaT</td>\n",
       "    </tr>\n",
       "    <tr>\n",
       "      <th>9</th>\n",
       "      <td>100011</td>\n",
       "      <td>Jeff</td>\n",
       "      <td>Grell</td>\n",
       "      <td>NaN</td>\n",
       "      <td>NaN</td>\n",
       "      <td>NaN</td>\n",
       "      <td>NaN</td>\n",
       "      <td>NaN</td>\n",
       "      <td>NaT</td>\n",
       "    </tr>\n",
       "    <tr>\n",
       "      <th>10</th>\n",
       "      <td>100012</td>\n",
       "      <td>Nick</td>\n",
       "      <td>Bova</td>\n",
       "      <td>NaN</td>\n",
       "      <td>NaN</td>\n",
       "      <td>NaN</td>\n",
       "      <td>NaN</td>\n",
       "      <td>NaN</td>\n",
       "      <td>NaT</td>\n",
       "    </tr>\n",
       "    <tr>\n",
       "      <th>11</th>\n",
       "      <td>100013</td>\n",
       "      <td>Umesh</td>\n",
       "      <td>Singh</td>\n",
       "      <td>NaN</td>\n",
       "      <td>NaN</td>\n",
       "      <td>36786.0</td>\n",
       "      <td>100013.0</td>\n",
       "      <td>Rutgers University</td>\n",
       "      <td>NaT</td>\n",
       "    </tr>\n",
       "    <tr>\n",
       "      <th>12</th>\n",
       "      <td>100013</td>\n",
       "      <td>Umesh</td>\n",
       "      <td>Singh</td>\n",
       "      <td>NaN</td>\n",
       "      <td>NaN</td>\n",
       "      <td>36787.0</td>\n",
       "      <td>100013.0</td>\n",
       "      <td>University of Mumbai</td>\n",
       "      <td>NaT</td>\n",
       "    </tr>\n",
       "    <tr>\n",
       "      <th>13</th>\n",
       "      <td>100014</td>\n",
       "      <td>Larry</td>\n",
       "      <td>Blankenship</td>\n",
       "      <td>NaN</td>\n",
       "      <td>NaN</td>\n",
       "      <td>NaN</td>\n",
       "      <td>NaN</td>\n",
       "      <td>NaN</td>\n",
       "      <td>NaT</td>\n",
       "    </tr>\n",
       "    <tr>\n",
       "      <th>14</th>\n",
       "      <td>100015</td>\n",
       "      <td>Steven</td>\n",
       "      <td>G. Anderson</td>\n",
       "      <td>NaN</td>\n",
       "      <td>NaN</td>\n",
       "      <td>NaN</td>\n",
       "      <td>NaN</td>\n",
       "      <td>NaN</td>\n",
       "      <td>NaT</td>\n",
       "    </tr>\n",
       "    <tr>\n",
       "      <th>15</th>\n",
       "      <td>100016</td>\n",
       "      <td>Thomas</td>\n",
       "      <td>F. Ackerman</td>\n",
       "      <td>NaN</td>\n",
       "      <td>NaN</td>\n",
       "      <td>NaN</td>\n",
       "      <td>NaN</td>\n",
       "      <td>NaN</td>\n",
       "      <td>NaT</td>\n",
       "    </tr>\n",
       "    <tr>\n",
       "      <th>16</th>\n",
       "      <td>100017</td>\n",
       "      <td>Kurt</td>\n",
       "      <td>Azarbarzin</td>\n",
       "      <td>NaN</td>\n",
       "      <td>NaN</td>\n",
       "      <td>NaN</td>\n",
       "      <td>NaN</td>\n",
       "      <td>NaN</td>\n",
       "      <td>NaT</td>\n",
       "    </tr>\n",
       "    <tr>\n",
       "      <th>17</th>\n",
       "      <td>100018</td>\n",
       "      <td>Adam</td>\n",
       "      <td>Beckerman</td>\n",
       "      <td>148554.0</td>\n",
       "      <td>adam_beckerman</td>\n",
       "      <td>14433.0</td>\n",
       "      <td>100018.0</td>\n",
       "      <td>Columbia University, Business School</td>\n",
       "      <td>2004-01-01</td>\n",
       "    </tr>\n",
       "    <tr>\n",
       "      <th>18</th>\n",
       "      <td>100018</td>\n",
       "      <td>Adam</td>\n",
       "      <td>Beckerman</td>\n",
       "      <td>148554.0</td>\n",
       "      <td>adam_beckerman</td>\n",
       "      <td>14434.0</td>\n",
       "      <td>100018.0</td>\n",
       "      <td>University of Maryland, College Park</td>\n",
       "      <td>1996-01-01</td>\n",
       "    </tr>\n",
       "    <tr>\n",
       "      <th>19</th>\n",
       "      <td>100019</td>\n",
       "      <td>Melissa</td>\n",
       "      <td>French</td>\n",
       "      <td>NaN</td>\n",
       "      <td>netcastles</td>\n",
       "      <td>NaN</td>\n",
       "      <td>NaN</td>\n",
       "      <td>NaN</td>\n",
       "      <td>NaT</td>\n",
       "    </tr>\n",
       "  </tbody>\n",
       "</table>\n",
       "</div>"
      ],
      "text/plain": [
       "      id_x  first_name      last_name  company_id network_username     id_y  \\\n",
       "0       10        Mark     Zuckerberg         5.0              NaN   2415.0   \n",
       "1      100       Peter         Lester        27.0              NaN      NaN   \n",
       "2     1000  Dr. Steven    E. Saunders       292.0              NaN      NaN   \n",
       "3    10000        Neil          Capel      2526.0              NaN      NaN   \n",
       "4   100000         Sue         Pilsch         NaN              NaN      NaN   \n",
       "5   100002       Keith  Kurzendoerfer         NaN              NaN      NaN   \n",
       "6   100006    Courtney          Homer     81558.0   jobsbostontech  83604.0   \n",
       "7   100009        Eddy        Badrina         NaN              NaN      NaN   \n",
       "8   100010     Michael      Dadashyan         NaN       fbroulette      NaN   \n",
       "9   100011        Jeff          Grell         NaN              NaN      NaN   \n",
       "10  100012        Nick           Bova         NaN              NaN      NaN   \n",
       "11  100013       Umesh          Singh         NaN              NaN  36786.0   \n",
       "12  100013       Umesh          Singh         NaN              NaN  36787.0   \n",
       "13  100014       Larry    Blankenship         NaN              NaN      NaN   \n",
       "14  100015      Steven    G. Anderson         NaN              NaN      NaN   \n",
       "15  100016      Thomas    F. Ackerman         NaN              NaN      NaN   \n",
       "16  100017        Kurt     Azarbarzin         NaN              NaN      NaN   \n",
       "17  100018        Adam      Beckerman    148554.0   adam_beckerman  14433.0   \n",
       "18  100018        Adam      Beckerman    148554.0   adam_beckerman  14434.0   \n",
       "19  100019     Melissa         French         NaN       netcastles      NaN   \n",
       "\n",
       "    person_id                          instituition graduated_at  \n",
       "0        10.0                    Harvard University          NaT  \n",
       "1         NaN                                   NaN          NaT  \n",
       "2         NaN                                   NaN          NaT  \n",
       "3         NaN                                   NaN          NaT  \n",
       "4         NaN                                   NaN          NaT  \n",
       "5         NaN                                   NaN          NaT  \n",
       "6    100006.0        MIT Sloan School of Management   2004-01-01  \n",
       "7         NaN                                   NaN          NaT  \n",
       "8         NaN                                   NaN          NaT  \n",
       "9         NaN                                   NaN          NaT  \n",
       "10        NaN                                   NaN          NaT  \n",
       "11   100013.0                    Rutgers University          NaT  \n",
       "12   100013.0                  University of Mumbai          NaT  \n",
       "13        NaN                                   NaN          NaT  \n",
       "14        NaN                                   NaN          NaT  \n",
       "15        NaN                                   NaN          NaT  \n",
       "16        NaN                                   NaN          NaT  \n",
       "17   100018.0  Columbia University, Business School   2004-01-01  \n",
       "18   100018.0  University of Maryland, College Park   1996-01-01  \n",
       "19        NaN                                   NaN          NaT  "
      ]
     },
     "metadata": {},
     "output_type": "display_data"
    }
   ],
   "source": [
    "# Объединение датафреймов people и education для анализа компаний\n",
    "people_education = people.merge(education, left_on='id', right_on='person_id', how='left')\n",
    "# Несколько строк объединенного датафрейма\n",
    "display(people_education.head(20))"
   ]
  },
  {
   "cell_type": "code",
   "execution_count": 30,
   "metadata": {},
   "outputs": [
    {
     "data": {
      "text/plain": [
       "0.92"
      ]
     },
     "execution_count": 30,
     "metadata": {},
     "output_type": "execute_result"
    }
   ],
   "source": [
    "# Доля сотрудников без инфрмации об образовании по всем данным\n",
    "round(1-people_education['instituition'].nunique() / len(people_education['instituition']),2)"
   ]
  },
  {
   "cell_type": "code",
   "execution_count": 31,
   "metadata": {},
   "outputs": [],
   "source": [
    "# Доля сотрудников без инфрмации об образовании по компаниям\n",
    "people_education['education_share'] = round((1 - people_education.groupby('company_id')['instituition'].transform('nunique')\n",
    "                                          / people_education.groupby('company_id')['instituition'].transform('size')),2)"
   ]
  },
  {
   "cell_type": "code",
   "execution_count": 32,
   "metadata": {
    "id": "xdQ6H5ZSn1ZM"
   },
   "outputs": [],
   "source": [
    "# Количество сотрудников по компаниям\n",
    "people_education['people_count'] = people_education.groupby('company_id')['person_id'].nunique()"
   ]
  },
  {
   "cell_type": "markdown",
   "metadata": {},
   "source": [
    "**Назначение категории компаниям** \n",
    "\n",
    "Закон  устанавливает рамочные критерии для отнесения предприятий к малым и средним. Первый критерий - численность работников, второй - выручка предприятия. \n",
    "\n",
    "К микропредприятиям относятся организации, в которых число сотрудников не превышает 15, к малым - с штатом от 16 до 100 человек, к средним - с числом сотрудников до 250 человек.\n",
    "\n",
    "\n",
    "На основе наших данных разделим компании на категории по количеству сотрудников."
   ]
  },
  {
   "cell_type": "code",
   "execution_count": 33,
   "metadata": {},
   "outputs": [],
   "source": [
    "# Группы компаний по количеству сотрудников\n",
    "people_education['category'] = pd.cut(people_education['people_count'], bins=[0, 1, 15, 100, 250, 1000, 100000], labels=[\"Один сотрудник\" ,\"Микро\", \"Малая\", \"Средняя\", \"Крупная\", \"Очень крупная\"])"
   ]
  },
  {
   "cell_type": "code",
   "execution_count": 97,
   "metadata": {},
   "outputs": [
    {
     "data": {
      "image/png": "[encoded data removed]",
      "text/plain": [
       "<Figure size 576x288 with 1 Axes>"
      ]
     },
     "metadata": {},
     "output_type": "display_data"
    }
   ],
   "source": [
    "# Столбчатая диаграмма по категориям\n",
    "people_education.groupby('category')['education_share'].mean().plot(kind='bar',\n",
    "               title=f'Распределение доли сотрудников без информации об образовании',\n",
    "               legend=True,\n",
    "               ylabel='Доля сотрудников',\n",
    "               xlabel='Категория компании',\n",
    "               color='skyblue',\n",
    "               edgecolor='black',\n",
    "               rot=0,\n",
    "               figsize=(8, 4))\n",
    "plt.grid()\n",
    "\n",
    "# Выводим график\n",
    "plt.show()"
   ]
  },
  {
   "cell_type": "markdown",
   "metadata": {},
   "source": [
    "На диаграмме видна зависимость пропусков информации об образовании и размеров компании.\n",
    "Возможно, в малых компаниях HR-процессы менее структурированы и могут быть пропуски в данных о сотрудниках.\n",
    "В средних и крупных компаниях пропусков нет. Возможно, выше вероятность полной информации об образовании из-за налаженых HR-процессов."
   ]
  },
  {
   "cell_type": "markdown",
   "metadata": {},
   "source": [
    "Попробуем дополнить датафрейм `people_education` информацией из таблицы `degrees`.\n",
    "Объединить таблицы можно по столбцу идентификатору сотрудника - 'person_id' и 'object_id'. Столбец 'person_id' содержит буквенный индекс перед номером id и имеет тип данных object. Перед объединением нужно убрать буквенный индекс и изменить тип данных."
   ]
  },
  {
   "cell_type": "code",
   "execution_count": 35,
   "metadata": {},
   "outputs": [],
   "source": [
    "# Удаление букв из id сотрудника в столбце 'object_id'\n",
    "degrees['object_id'] = degrees['object_id'].str.replace('p:', '')"
   ]
  },
  {
   "cell_type": "code",
   "execution_count": 36,
   "metadata": {},
   "outputs": [],
   "source": [
    "# Изменение типа данных\n",
    "degrees['object_id'] = degrees['object_id'].astype('int64')"
   ]
  },
  {
   "cell_type": "code",
   "execution_count": 37,
   "metadata": {},
   "outputs": [
    {
     "data": {
      "text/html": [
       "<div>\n",
       "<style scoped>\n",
       "    .dataframe tbody tr th:only-of-type {\n",
       "        vertical-align: middle;\n",
       "    }\n",
       "\n",
       "    .dataframe tbody tr th {\n",
       "        vertical-align: top;\n",
       "    }\n",
       "\n",
       "    .dataframe thead th {\n",
       "        text-align: right;\n",
       "    }\n",
       "</style>\n",
       "<table border=\"1\" class=\"dataframe\">\n",
       "  <thead>\n",
       "    <tr style=\"text-align: right;\">\n",
       "      <th></th>\n",
       "      <th>id</th>\n",
       "      <th>object_id</th>\n",
       "      <th>degree_type</th>\n",
       "      <th>subject</th>\n",
       "    </tr>\n",
       "  </thead>\n",
       "  <tbody>\n",
       "    <tr>\n",
       "      <th>0</th>\n",
       "      <td>1</td>\n",
       "      <td>6117</td>\n",
       "      <td>MBA</td>\n",
       "      <td>NaN</td>\n",
       "    </tr>\n",
       "    <tr>\n",
       "      <th>1</th>\n",
       "      <td>2</td>\n",
       "      <td>6136</td>\n",
       "      <td>BA</td>\n",
       "      <td>English, French</td>\n",
       "    </tr>\n",
       "    <tr>\n",
       "      <th>2</th>\n",
       "      <td>3</td>\n",
       "      <td>6136</td>\n",
       "      <td>MS</td>\n",
       "      <td>Mass Communication</td>\n",
       "    </tr>\n",
       "    <tr>\n",
       "      <th>3</th>\n",
       "      <td>4</td>\n",
       "      <td>6005</td>\n",
       "      <td>MS</td>\n",
       "      <td>Internet Technology</td>\n",
       "    </tr>\n",
       "    <tr>\n",
       "      <th>4</th>\n",
       "      <td>5</td>\n",
       "      <td>5832</td>\n",
       "      <td>BCS</td>\n",
       "      <td>Computer Science, Psychology</td>\n",
       "    </tr>\n",
       "  </tbody>\n",
       "</table>\n",
       "</div>"
      ],
      "text/plain": [
       "   id  object_id degree_type                       subject\n",
       "0   1       6117         MBA                           NaN\n",
       "1   2       6136          BA               English, French\n",
       "2   3       6136          MS            Mass Communication\n",
       "3   4       6005          MS           Internet Technology\n",
       "4   5       5832         BCS  Computer Science, Psychology"
      ]
     },
     "execution_count": 37,
     "metadata": {},
     "output_type": "execute_result"
    }
   ],
   "source": [
    "# Проверка корректности исправлений\n",
    "degrees.head()"
   ]
  },
  {
   "cell_type": "code",
   "execution_count": 38,
   "metadata": {},
   "outputs": [
    {
     "name": "stdout",
     "output_type": "stream",
     "text": [
      "<class 'pandas.core.frame.DataFrame'>\n",
      "RangeIndex: 109610 entries, 0 to 109609\n",
      "Data columns (total 4 columns):\n",
      " #   Column       Non-Null Count   Dtype \n",
      "---  ------       --------------   ----- \n",
      " 0   id           109610 non-null  int64 \n",
      " 1   object_id    109610 non-null  int64 \n",
      " 2   degree_type  98392 non-null   object\n",
      " 3   subject      81298 non-null   object\n",
      "dtypes: int64(2), object(2)\n",
      "memory usage: 3.3+ MB\n"
     ]
    }
   ],
   "source": [
    "degrees.info()"
   ]
  },
  {
   "cell_type": "markdown",
   "metadata": {},
   "source": [
    "Название и тип данных скорректированы. Можно объединять таблицы"
   ]
  },
  {
   "cell_type": "code",
   "execution_count": 39,
   "metadata": {},
   "outputs": [
    {
     "data": {
      "text/html": [
       "<div>\n",
       "<style scoped>\n",
       "    .dataframe tbody tr th:only-of-type {\n",
       "        vertical-align: middle;\n",
       "    }\n",
       "\n",
       "    .dataframe tbody tr th {\n",
       "        vertical-align: top;\n",
       "    }\n",
       "\n",
       "    .dataframe thead th {\n",
       "        text-align: right;\n",
       "    }\n",
       "</style>\n",
       "<table border=\"1\" class=\"dataframe\">\n",
       "  <thead>\n",
       "    <tr style=\"text-align: right;\">\n",
       "      <th></th>\n",
       "      <th>id_x</th>\n",
       "      <th>first_name</th>\n",
       "      <th>last_name</th>\n",
       "      <th>company_id</th>\n",
       "      <th>network_username</th>\n",
       "      <th>id_y</th>\n",
       "      <th>person_id</th>\n",
       "      <th>instituition</th>\n",
       "      <th>graduated_at</th>\n",
       "      <th>education_share</th>\n",
       "      <th>people_count</th>\n",
       "      <th>category</th>\n",
       "      <th>id</th>\n",
       "      <th>object_id</th>\n",
       "      <th>degree_type</th>\n",
       "      <th>subject</th>\n",
       "    </tr>\n",
       "  </thead>\n",
       "  <tbody>\n",
       "    <tr>\n",
       "      <th>0</th>\n",
       "      <td>10</td>\n",
       "      <td>Mark</td>\n",
       "      <td>Zuckerberg</td>\n",
       "      <td>5.0</td>\n",
       "      <td>NaN</td>\n",
       "      <td>2415.0</td>\n",
       "      <td>10.0</td>\n",
       "      <td>Harvard University</td>\n",
       "      <td>NaT</td>\n",
       "      <td>0.62</td>\n",
       "      <td>NaN</td>\n",
       "      <td>NaN</td>\n",
       "      <td>2415.0</td>\n",
       "      <td>10.0</td>\n",
       "      <td>NaN</td>\n",
       "      <td>Computer Science</td>\n",
       "    </tr>\n",
       "    <tr>\n",
       "      <th>1</th>\n",
       "      <td>100</td>\n",
       "      <td>Peter</td>\n",
       "      <td>Lester</td>\n",
       "      <td>27.0</td>\n",
       "      <td>NaN</td>\n",
       "      <td>NaN</td>\n",
       "      <td>NaN</td>\n",
       "      <td>NaN</td>\n",
       "      <td>NaT</td>\n",
       "      <td>0.64</td>\n",
       "      <td>1.0</td>\n",
       "      <td>Один сотрудник</td>\n",
       "      <td>NaN</td>\n",
       "      <td>NaN</td>\n",
       "      <td>NaN</td>\n",
       "      <td>NaN</td>\n",
       "    </tr>\n",
       "    <tr>\n",
       "      <th>2</th>\n",
       "      <td>1000</td>\n",
       "      <td>Dr. Steven</td>\n",
       "      <td>E. Saunders</td>\n",
       "      <td>292.0</td>\n",
       "      <td>NaN</td>\n",
       "      <td>NaN</td>\n",
       "      <td>NaN</td>\n",
       "      <td>NaN</td>\n",
       "      <td>NaT</td>\n",
       "      <td>1.00</td>\n",
       "      <td>1.0</td>\n",
       "      <td>Один сотрудник</td>\n",
       "      <td>NaN</td>\n",
       "      <td>NaN</td>\n",
       "      <td>NaN</td>\n",
       "      <td>NaN</td>\n",
       "    </tr>\n",
       "    <tr>\n",
       "      <th>3</th>\n",
       "      <td>10000</td>\n",
       "      <td>Neil</td>\n",
       "      <td>Capel</td>\n",
       "      <td>2526.0</td>\n",
       "      <td>NaN</td>\n",
       "      <td>NaN</td>\n",
       "      <td>NaN</td>\n",
       "      <td>NaN</td>\n",
       "      <td>NaT</td>\n",
       "      <td>1.00</td>\n",
       "      <td>2.0</td>\n",
       "      <td>Микро</td>\n",
       "      <td>NaN</td>\n",
       "      <td>NaN</td>\n",
       "      <td>NaN</td>\n",
       "      <td>NaN</td>\n",
       "    </tr>\n",
       "    <tr>\n",
       "      <th>4</th>\n",
       "      <td>100000</td>\n",
       "      <td>Sue</td>\n",
       "      <td>Pilsch</td>\n",
       "      <td>NaN</td>\n",
       "      <td>NaN</td>\n",
       "      <td>NaN</td>\n",
       "      <td>NaN</td>\n",
       "      <td>NaN</td>\n",
       "      <td>NaT</td>\n",
       "      <td>NaN</td>\n",
       "      <td>12.0</td>\n",
       "      <td>Микро</td>\n",
       "      <td>NaN</td>\n",
       "      <td>NaN</td>\n",
       "      <td>NaN</td>\n",
       "      <td>NaN</td>\n",
       "    </tr>\n",
       "    <tr>\n",
       "      <th>5</th>\n",
       "      <td>100002</td>\n",
       "      <td>Keith</td>\n",
       "      <td>Kurzendoerfer</td>\n",
       "      <td>NaN</td>\n",
       "      <td>NaN</td>\n",
       "      <td>NaN</td>\n",
       "      <td>NaN</td>\n",
       "      <td>NaN</td>\n",
       "      <td>NaT</td>\n",
       "      <td>NaN</td>\n",
       "      <td>45.0</td>\n",
       "      <td>Малая</td>\n",
       "      <td>NaN</td>\n",
       "      <td>NaN</td>\n",
       "      <td>NaN</td>\n",
       "      <td>NaN</td>\n",
       "    </tr>\n",
       "    <tr>\n",
       "      <th>6</th>\n",
       "      <td>100006</td>\n",
       "      <td>Courtney</td>\n",
       "      <td>Homer</td>\n",
       "      <td>81558.0</td>\n",
       "      <td>jobsbostontech</td>\n",
       "      <td>83604.0</td>\n",
       "      <td>100006.0</td>\n",
       "      <td>MIT Sloan School of Management</td>\n",
       "      <td>2004-01-01</td>\n",
       "      <td>0.00</td>\n",
       "      <td>NaN</td>\n",
       "      <td>NaN</td>\n",
       "      <td>83604.0</td>\n",
       "      <td>100006.0</td>\n",
       "      <td>MBA</td>\n",
       "      <td>Strategy &amp; Marketing</td>\n",
       "    </tr>\n",
       "    <tr>\n",
       "      <th>7</th>\n",
       "      <td>100009</td>\n",
       "      <td>Eddy</td>\n",
       "      <td>Badrina</td>\n",
       "      <td>NaN</td>\n",
       "      <td>NaN</td>\n",
       "      <td>NaN</td>\n",
       "      <td>NaN</td>\n",
       "      <td>NaN</td>\n",
       "      <td>NaT</td>\n",
       "      <td>NaN</td>\n",
       "      <td>NaN</td>\n",
       "      <td>NaN</td>\n",
       "      <td>NaN</td>\n",
       "      <td>NaN</td>\n",
       "      <td>NaN</td>\n",
       "      <td>NaN</td>\n",
       "    </tr>\n",
       "    <tr>\n",
       "      <th>8</th>\n",
       "      <td>100010</td>\n",
       "      <td>Michael</td>\n",
       "      <td>Dadashyan</td>\n",
       "      <td>NaN</td>\n",
       "      <td>fbroulette</td>\n",
       "      <td>NaN</td>\n",
       "      <td>NaN</td>\n",
       "      <td>NaN</td>\n",
       "      <td>NaT</td>\n",
       "      <td>NaN</td>\n",
       "      <td>0.0</td>\n",
       "      <td>NaN</td>\n",
       "      <td>NaN</td>\n",
       "      <td>NaN</td>\n",
       "      <td>NaN</td>\n",
       "      <td>NaN</td>\n",
       "    </tr>\n",
       "    <tr>\n",
       "      <th>9</th>\n",
       "      <td>100011</td>\n",
       "      <td>Jeff</td>\n",
       "      <td>Grell</td>\n",
       "      <td>NaN</td>\n",
       "      <td>NaN</td>\n",
       "      <td>NaN</td>\n",
       "      <td>NaN</td>\n",
       "      <td>NaN</td>\n",
       "      <td>NaT</td>\n",
       "      <td>NaN</td>\n",
       "      <td>1.0</td>\n",
       "      <td>Один сотрудник</td>\n",
       "      <td>NaN</td>\n",
       "      <td>NaN</td>\n",
       "      <td>NaN</td>\n",
       "      <td>NaN</td>\n",
       "    </tr>\n",
       "    <tr>\n",
       "      <th>10</th>\n",
       "      <td>100012</td>\n",
       "      <td>Nick</td>\n",
       "      <td>Bova</td>\n",
       "      <td>NaN</td>\n",
       "      <td>NaN</td>\n",
       "      <td>NaN</td>\n",
       "      <td>NaN</td>\n",
       "      <td>NaN</td>\n",
       "      <td>NaT</td>\n",
       "      <td>NaN</td>\n",
       "      <td>1.0</td>\n",
       "      <td>Один сотрудник</td>\n",
       "      <td>NaN</td>\n",
       "      <td>NaN</td>\n",
       "      <td>NaN</td>\n",
       "      <td>NaN</td>\n",
       "    </tr>\n",
       "    <tr>\n",
       "      <th>11</th>\n",
       "      <td>100013</td>\n",
       "      <td>Umesh</td>\n",
       "      <td>Singh</td>\n",
       "      <td>NaN</td>\n",
       "      <td>NaN</td>\n",
       "      <td>36786.0</td>\n",
       "      <td>100013.0</td>\n",
       "      <td>Rutgers University</td>\n",
       "      <td>NaT</td>\n",
       "      <td>NaN</td>\n",
       "      <td>4.0</td>\n",
       "      <td>Микро</td>\n",
       "      <td>36786.0</td>\n",
       "      <td>100013.0</td>\n",
       "      <td>MBA</td>\n",
       "      <td>Finance</td>\n",
       "    </tr>\n",
       "    <tr>\n",
       "      <th>12</th>\n",
       "      <td>100013</td>\n",
       "      <td>Umesh</td>\n",
       "      <td>Singh</td>\n",
       "      <td>NaN</td>\n",
       "      <td>NaN</td>\n",
       "      <td>36786.0</td>\n",
       "      <td>100013.0</td>\n",
       "      <td>Rutgers University</td>\n",
       "      <td>NaT</td>\n",
       "      <td>NaN</td>\n",
       "      <td>4.0</td>\n",
       "      <td>Микро</td>\n",
       "      <td>36787.0</td>\n",
       "      <td>100013.0</td>\n",
       "      <td>MS</td>\n",
       "      <td>Physical Chemistry</td>\n",
       "    </tr>\n",
       "    <tr>\n",
       "      <th>13</th>\n",
       "      <td>100013</td>\n",
       "      <td>Umesh</td>\n",
       "      <td>Singh</td>\n",
       "      <td>NaN</td>\n",
       "      <td>NaN</td>\n",
       "      <td>36787.0</td>\n",
       "      <td>100013.0</td>\n",
       "      <td>University of Mumbai</td>\n",
       "      <td>NaT</td>\n",
       "      <td>NaN</td>\n",
       "      <td>26.0</td>\n",
       "      <td>Малая</td>\n",
       "      <td>36786.0</td>\n",
       "      <td>100013.0</td>\n",
       "      <td>MBA</td>\n",
       "      <td>Finance</td>\n",
       "    </tr>\n",
       "    <tr>\n",
       "      <th>14</th>\n",
       "      <td>100013</td>\n",
       "      <td>Umesh</td>\n",
       "      <td>Singh</td>\n",
       "      <td>NaN</td>\n",
       "      <td>NaN</td>\n",
       "      <td>36787.0</td>\n",
       "      <td>100013.0</td>\n",
       "      <td>University of Mumbai</td>\n",
       "      <td>NaT</td>\n",
       "      <td>NaN</td>\n",
       "      <td>26.0</td>\n",
       "      <td>Малая</td>\n",
       "      <td>36787.0</td>\n",
       "      <td>100013.0</td>\n",
       "      <td>MS</td>\n",
       "      <td>Physical Chemistry</td>\n",
       "    </tr>\n",
       "    <tr>\n",
       "      <th>15</th>\n",
       "      <td>100014</td>\n",
       "      <td>Larry</td>\n",
       "      <td>Blankenship</td>\n",
       "      <td>NaN</td>\n",
       "      <td>NaN</td>\n",
       "      <td>NaN</td>\n",
       "      <td>NaN</td>\n",
       "      <td>NaN</td>\n",
       "      <td>NaT</td>\n",
       "      <td>NaN</td>\n",
       "      <td>4.0</td>\n",
       "      <td>Микро</td>\n",
       "      <td>NaN</td>\n",
       "      <td>NaN</td>\n",
       "      <td>NaN</td>\n",
       "      <td>NaN</td>\n",
       "    </tr>\n",
       "    <tr>\n",
       "      <th>16</th>\n",
       "      <td>100015</td>\n",
       "      <td>Steven</td>\n",
       "      <td>G. Anderson</td>\n",
       "      <td>NaN</td>\n",
       "      <td>NaN</td>\n",
       "      <td>NaN</td>\n",
       "      <td>NaN</td>\n",
       "      <td>NaN</td>\n",
       "      <td>NaT</td>\n",
       "      <td>NaN</td>\n",
       "      <td>0.0</td>\n",
       "      <td>NaN</td>\n",
       "      <td>NaN</td>\n",
       "      <td>NaN</td>\n",
       "      <td>NaN</td>\n",
       "      <td>NaN</td>\n",
       "    </tr>\n",
       "    <tr>\n",
       "      <th>17</th>\n",
       "      <td>100016</td>\n",
       "      <td>Thomas</td>\n",
       "      <td>F. Ackerman</td>\n",
       "      <td>NaN</td>\n",
       "      <td>NaN</td>\n",
       "      <td>NaN</td>\n",
       "      <td>NaN</td>\n",
       "      <td>NaN</td>\n",
       "      <td>NaT</td>\n",
       "      <td>NaN</td>\n",
       "      <td>1.0</td>\n",
       "      <td>Один сотрудник</td>\n",
       "      <td>NaN</td>\n",
       "      <td>NaN</td>\n",
       "      <td>NaN</td>\n",
       "      <td>NaN</td>\n",
       "    </tr>\n",
       "    <tr>\n",
       "      <th>18</th>\n",
       "      <td>100017</td>\n",
       "      <td>Kurt</td>\n",
       "      <td>Azarbarzin</td>\n",
       "      <td>NaN</td>\n",
       "      <td>NaN</td>\n",
       "      <td>NaN</td>\n",
       "      <td>NaN</td>\n",
       "      <td>NaN</td>\n",
       "      <td>NaT</td>\n",
       "      <td>NaN</td>\n",
       "      <td>2.0</td>\n",
       "      <td>Микро</td>\n",
       "      <td>NaN</td>\n",
       "      <td>NaN</td>\n",
       "      <td>NaN</td>\n",
       "      <td>NaN</td>\n",
       "    </tr>\n",
       "    <tr>\n",
       "      <th>19</th>\n",
       "      <td>100018</td>\n",
       "      <td>Adam</td>\n",
       "      <td>Beckerman</td>\n",
       "      <td>148554.0</td>\n",
       "      <td>adam_beckerman</td>\n",
       "      <td>14433.0</td>\n",
       "      <td>100018.0</td>\n",
       "      <td>Columbia University, Business School</td>\n",
       "      <td>2004-01-01</td>\n",
       "      <td>0.00</td>\n",
       "      <td>NaN</td>\n",
       "      <td>NaN</td>\n",
       "      <td>14433.0</td>\n",
       "      <td>100018.0</td>\n",
       "      <td>MBA</td>\n",
       "      <td>Entrepreneurship, Marketing</td>\n",
       "    </tr>\n",
       "  </tbody>\n",
       "</table>\n",
       "</div>"
      ],
      "text/plain": [
       "      id_x  first_name      last_name  company_id network_username     id_y  \\\n",
       "0       10        Mark     Zuckerberg         5.0              NaN   2415.0   \n",
       "1      100       Peter         Lester        27.0              NaN      NaN   \n",
       "2     1000  Dr. Steven    E. Saunders       292.0              NaN      NaN   \n",
       "3    10000        Neil          Capel      2526.0              NaN      NaN   \n",
       "4   100000         Sue         Pilsch         NaN              NaN      NaN   \n",
       "5   100002       Keith  Kurzendoerfer         NaN              NaN      NaN   \n",
       "6   100006    Courtney          Homer     81558.0   jobsbostontech  83604.0   \n",
       "7   100009        Eddy        Badrina         NaN              NaN      NaN   \n",
       "8   100010     Michael      Dadashyan         NaN       fbroulette      NaN   \n",
       "9   100011        Jeff          Grell         NaN              NaN      NaN   \n",
       "10  100012        Nick           Bova         NaN              NaN      NaN   \n",
       "11  100013       Umesh          Singh         NaN              NaN  36786.0   \n",
       "12  100013       Umesh          Singh         NaN              NaN  36786.0   \n",
       "13  100013       Umesh          Singh         NaN              NaN  36787.0   \n",
       "14  100013       Umesh          Singh         NaN              NaN  36787.0   \n",
       "15  100014       Larry    Blankenship         NaN              NaN      NaN   \n",
       "16  100015      Steven    G. Anderson         NaN              NaN      NaN   \n",
       "17  100016      Thomas    F. Ackerman         NaN              NaN      NaN   \n",
       "18  100017        Kurt     Azarbarzin         NaN              NaN      NaN   \n",
       "19  100018        Adam      Beckerman    148554.0   adam_beckerman  14433.0   \n",
       "\n",
       "    person_id                          instituition graduated_at  \\\n",
       "0        10.0                    Harvard University          NaT   \n",
       "1         NaN                                   NaN          NaT   \n",
       "2         NaN                                   NaN          NaT   \n",
       "3         NaN                                   NaN          NaT   \n",
       "4         NaN                                   NaN          NaT   \n",
       "5         NaN                                   NaN          NaT   \n",
       "6    100006.0        MIT Sloan School of Management   2004-01-01   \n",
       "7         NaN                                   NaN          NaT   \n",
       "8         NaN                                   NaN          NaT   \n",
       "9         NaN                                   NaN          NaT   \n",
       "10        NaN                                   NaN          NaT   \n",
       "11   100013.0                    Rutgers University          NaT   \n",
       "12   100013.0                    Rutgers University          NaT   \n",
       "13   100013.0                  University of Mumbai          NaT   \n",
       "14   100013.0                  University of Mumbai          NaT   \n",
       "15        NaN                                   NaN          NaT   \n",
       "16        NaN                                   NaN          NaT   \n",
       "17        NaN                                   NaN          NaT   \n",
       "18        NaN                                   NaN          NaT   \n",
       "19   100018.0  Columbia University, Business School   2004-01-01   \n",
       "\n",
       "    education_share  people_count        category       id  object_id  \\\n",
       "0              0.62           NaN             NaN   2415.0       10.0   \n",
       "1              0.64           1.0  Один сотрудник      NaN        NaN   \n",
       "2              1.00           1.0  Один сотрудник      NaN        NaN   \n",
       "3              1.00           2.0           Микро      NaN        NaN   \n",
       "4               NaN          12.0           Микро      NaN        NaN   \n",
       "5               NaN          45.0           Малая      NaN        NaN   \n",
       "6              0.00           NaN             NaN  83604.0   100006.0   \n",
       "7               NaN           NaN             NaN      NaN        NaN   \n",
       "8               NaN           0.0             NaN      NaN        NaN   \n",
       "9               NaN           1.0  Один сотрудник      NaN        NaN   \n",
       "10              NaN           1.0  Один сотрудник      NaN        NaN   \n",
       "11              NaN           4.0           Микро  36786.0   100013.0   \n",
       "12              NaN           4.0           Микро  36787.0   100013.0   \n",
       "13              NaN          26.0           Малая  36786.0   100013.0   \n",
       "14              NaN          26.0           Малая  36787.0   100013.0   \n",
       "15              NaN           4.0           Микро      NaN        NaN   \n",
       "16              NaN           0.0             NaN      NaN        NaN   \n",
       "17              NaN           1.0  Один сотрудник      NaN        NaN   \n",
       "18              NaN           2.0           Микро      NaN        NaN   \n",
       "19             0.00           NaN             NaN  14433.0   100018.0   \n",
       "\n",
       "   degree_type                      subject  \n",
       "0          NaN             Computer Science  \n",
       "1          NaN                          NaN  \n",
       "2          NaN                          NaN  \n",
       "3          NaN                          NaN  \n",
       "4          NaN                          NaN  \n",
       "5          NaN                          NaN  \n",
       "6          MBA         Strategy & Marketing  \n",
       "7          NaN                          NaN  \n",
       "8          NaN                          NaN  \n",
       "9          NaN                          NaN  \n",
       "10         NaN                          NaN  \n",
       "11         MBA                      Finance  \n",
       "12          MS           Physical Chemistry  \n",
       "13         MBA                      Finance  \n",
       "14          MS           Physical Chemistry  \n",
       "15         NaN                          NaN  \n",
       "16         NaN                          NaN  \n",
       "17         NaN                          NaN  \n",
       "18         NaN                          NaN  \n",
       "19         MBA  Entrepreneurship, Marketing  "
      ]
     },
     "metadata": {},
     "output_type": "display_data"
    }
   ],
   "source": [
    "# Присоединнение таблицы degrees\n",
    "people_education_degrees = people_education.merge(degrees, left_on='person_id', right_on='object_id', how='left')\n",
    "# Несколько строк объединенного датафрейма\n",
    "display(people_education_degrees.head(20))"
   ]
  },
  {
   "cell_type": "code",
   "execution_count": 40,
   "metadata": {},
   "outputs": [
    {
     "data": {
      "text/plain": [
       "array([nan, 'MBA', 'MS', ..., 'HEAO propaedeuse', 'Film and Television',\n",
       "       '1st BSc (Hons)'], dtype=object)"
      ]
     },
     "execution_count": 40,
     "metadata": {},
     "output_type": "execute_result"
    }
   ],
   "source": [
    "# Названия типа образования сотрудников\n",
    "people_education_degrees['degree_type'].unique()"
   ]
  },
  {
   "cell_type": "code",
   "execution_count": 41,
   "metadata": {
    "scrolled": true
   },
   "outputs": [
    {
     "data": {
      "text/plain": [
       "array(['Computer Science', nan, 'Strategy & Marketing', ...,\n",
       "       'Philosophy and Literature', 'Sustainable Business',\n",
       "       'Building Startups on a Budget, Tech'], dtype=object)"
      ]
     },
     "execution_count": 41,
     "metadata": {},
     "output_type": "execute_result"
    }
   ],
   "source": [
    "# Названия специальностей сотрудников\n",
    "people_education_degrees['subject'].unique()"
   ]
  },
  {
   "cell_type": "markdown",
   "metadata": {},
   "source": [
    "Похоже, что информация из таблицы `degrees` не поможет заполнить пропуски в информации об образовании, но дополнит существующую информацию. \n",
    "\n",
    "Сейчас данные дополнены информацией о типе образования и специальностях сотрудников. При необходимости, можно использовать эту информацию для анализа. "
   ]
  },
  {
   "cell_type": "markdown",
   "metadata": {},
   "source": [
    "### Проверка целесообразности объединения таблиц по столбцу `network_username`\n",
    "\n",
    "Некоторые названия столбцов встречаются в датасетах чаще других. В результате предварительной проверки датасетов было выяснено, что столбец `company_id` подходит для объединения данных, так как большая часть значений встречается в разных датасетах не один, а несколько раз. Этот столбец может быть использован для объединения данных.\n",
    "\n",
    "Возможно, столбец `network_username` также подходит для объединения таблиц, так как встречается в нескольких датасетах."
   ]
  },
  {
   "cell_type": "code",
   "execution_count": 42,
   "metadata": {},
   "outputs": [
    {
     "data": {
      "text/plain": [
       "array(['BachelrWetpaint', nan, 'Hostnine', ..., 'networkzend',\n",
       "       'pPhotonet', 'Photonet'], dtype=object)"
      ]
     },
     "execution_count": 42,
     "metadata": {},
     "output_type": "execute_result"
    }
   ],
   "source": [
    "# Уникальные значения столбца 'network_username'\n",
    "company_and_rounds['network_username'].unique()"
   ]
  },
  {
   "cell_type": "code",
   "execution_count": 43,
   "metadata": {},
   "outputs": [
    {
     "data": {
      "text/plain": [
       "array([nan, 'jobsbostontech', 'fbroulette', ..., 'itechsocialnet',\n",
       "       'socialnethubs', 'esocialnetlike'], dtype=object)"
      ]
     },
     "execution_count": 43,
     "metadata": {},
     "output_type": "execute_result"
    }
   ],
   "source": [
    "people['network_username'].unique()"
   ]
  },
  {
   "cell_type": "code",
   "execution_count": 44,
   "metadata": {},
   "outputs": [
    {
     "data": {
      "text/plain": [
       "array([nan, 'greylockvc', 'imi_vc', ..., 'CalSTRS', 'haystack_fund',\n",
       "       'fbFund'], dtype=object)"
      ]
     },
     "execution_count": 44,
     "metadata": {},
     "output_type": "execute_result"
    }
   ],
   "source": [
    "fund['network_username'].unique()"
   ]
  },
  {
   "cell_type": "markdown",
   "metadata": {
    "id": "Cf5IjfOQrJg1"
   },
   "source": [
    "Столбец `network_username` встречается в таблицах `people`, `company_and_rounds` и `fund` и содержит информацию о никах сотрудника, компании и фонда в соцсетях. Потенциально сотрудник может указать в нике компанию. Но на этапе знакомства с данными видно, что ник чаще всего содержит имя сотрудника, название компании или фонда, так что столбец `network_username` не подходит для объединения данных."
   ]
  },
  {
   "cell_type": "markdown",
   "metadata": {
    "id": "EHcODomVrJg1"
   },
   "source": [
    "\n",
    "### Проверка проблемного датасета и причины возникновения пропусков\n",
    "\n",
    "Во время собственного анализа данных у заказчика больше всего вопросов возникло к датасету `company_and_rounds.csv`. В нём много пропусков как раз в информации о раундах, которая заказчику важна. Хотя информация об общем объёме финансирования по раундам присутствует в других датасетах, заказчик считает данные `company_and_rounds.csv` о размере средств наиболее верными.\n",
    "\n",
    "По гипотезе заказчика данные по компаниям из этой таблицы раньше хранились иначе, более удобным для исследования образом."
   ]
  },
  {
   "cell_type": "markdown",
   "metadata": {},
   "source": [
    "Судя по названию столбцов и информации от заказчика, таблица `company_and_rounds` составлена из двух таблиц. Скорее всего таблица с информацией о компаниях была дополнена таблицей с этапами финансирования. Есть два столбца с одинаковым назавнием `company_ID` и `company_id` и два столбца с суммой финансирования `funding_total` и `raised_amount`. В столбце `raised_amount` суммы знаительно меньше, похоже, они отражают сумму одного этапа. В столбце `funding_total` скорее всего содержится вся сумма финансирования. Столбцы, расположенные после `funding_round_id` имеют много пропусков.\n",
    "\n",
    "Разделим датафрейм на два. Один с с информацией о компаниях, второй с этапами финансирования."
   ]
  },
  {
   "cell_type": "code",
   "execution_count": 45,
   "metadata": {
    "scrolled": true
   },
   "outputs": [
    {
     "data": {
      "text/html": [
       "<div>\n",
       "<style scoped>\n",
       "    .dataframe tbody tr th:only-of-type {\n",
       "        vertical-align: middle;\n",
       "    }\n",
       "\n",
       "    .dataframe tbody tr th {\n",
       "        vertical-align: top;\n",
       "    }\n",
       "\n",
       "    .dataframe thead th {\n",
       "        text-align: right;\n",
       "    }\n",
       "</style>\n",
       "<table border=\"1\" class=\"dataframe\">\n",
       "  <thead>\n",
       "    <tr style=\"text-align: right;\">\n",
       "      <th></th>\n",
       "      <th>id</th>\n",
       "      <th>name</th>\n",
       "      <th>category_code</th>\n",
       "      <th>status</th>\n",
       "      <th>founded_at</th>\n",
       "      <th>closed_at</th>\n",
       "      <th>domain</th>\n",
       "      <th>network_username</th>\n",
       "      <th>country_code</th>\n",
       "      <th>investment_rounds</th>\n",
       "      <th>...</th>\n",
       "      <th>funded_at</th>\n",
       "      <th>funding_round_type</th>\n",
       "      <th>raised_amount</th>\n",
       "      <th>pre_money_valuation</th>\n",
       "      <th>participants</th>\n",
       "      <th>is_first_round</th>\n",
       "      <th>is_last_round</th>\n",
       "      <th>founded_year</th>\n",
       "      <th>closed_year</th>\n",
       "      <th>funded_year</th>\n",
       "    </tr>\n",
       "  </thead>\n",
       "  <tbody>\n",
       "    <tr>\n",
       "      <th>0</th>\n",
       "      <td>1.0</td>\n",
       "      <td>Wetpaint</td>\n",
       "      <td>web</td>\n",
       "      <td>operating</td>\n",
       "      <td>2005-10-17</td>\n",
       "      <td>NaT</td>\n",
       "      <td>wetpaint-inc.com</td>\n",
       "      <td>BachelrWetpaint</td>\n",
       "      <td>USA</td>\n",
       "      <td>0.0</td>\n",
       "      <td>...</td>\n",
       "      <td>2005-10-01</td>\n",
       "      <td>series-a</td>\n",
       "      <td>5250000.0</td>\n",
       "      <td>0.0</td>\n",
       "      <td>2.0</td>\n",
       "      <td>0.0</td>\n",
       "      <td>1.0</td>\n",
       "      <td>2005.0</td>\n",
       "      <td>NaN</td>\n",
       "      <td>2005.0</td>\n",
       "    </tr>\n",
       "    <tr>\n",
       "      <th>1</th>\n",
       "      <td>1.0</td>\n",
       "      <td>Wetpaint</td>\n",
       "      <td>web</td>\n",
       "      <td>operating</td>\n",
       "      <td>2005-10-17</td>\n",
       "      <td>NaT</td>\n",
       "      <td>wetpaint-inc.com</td>\n",
       "      <td>BachelrWetpaint</td>\n",
       "      <td>USA</td>\n",
       "      <td>0.0</td>\n",
       "      <td>...</td>\n",
       "      <td>2007-01-01</td>\n",
       "      <td>series-b</td>\n",
       "      <td>9500000.0</td>\n",
       "      <td>0.0</td>\n",
       "      <td>3.0</td>\n",
       "      <td>0.0</td>\n",
       "      <td>0.0</td>\n",
       "      <td>2005.0</td>\n",
       "      <td>NaN</td>\n",
       "      <td>2007.0</td>\n",
       "    </tr>\n",
       "    <tr>\n",
       "      <th>2</th>\n",
       "      <td>1.0</td>\n",
       "      <td>Wetpaint</td>\n",
       "      <td>web</td>\n",
       "      <td>operating</td>\n",
       "      <td>2005-10-17</td>\n",
       "      <td>NaT</td>\n",
       "      <td>wetpaint-inc.com</td>\n",
       "      <td>BachelrWetpaint</td>\n",
       "      <td>USA</td>\n",
       "      <td>0.0</td>\n",
       "      <td>...</td>\n",
       "      <td>2008-05-19</td>\n",
       "      <td>series-c+</td>\n",
       "      <td>25000000.0</td>\n",
       "      <td>0.0</td>\n",
       "      <td>4.0</td>\n",
       "      <td>1.0</td>\n",
       "      <td>0.0</td>\n",
       "      <td>2005.0</td>\n",
       "      <td>NaN</td>\n",
       "      <td>2008.0</td>\n",
       "    </tr>\n",
       "    <tr>\n",
       "      <th>3</th>\n",
       "      <td>10.0</td>\n",
       "      <td>Flektor</td>\n",
       "      <td>games_video</td>\n",
       "      <td>acquired</td>\n",
       "      <td>NaT</td>\n",
       "      <td>NaT</td>\n",
       "      <td>flektor.com</td>\n",
       "      <td>NaN</td>\n",
       "      <td>USA</td>\n",
       "      <td>0.0</td>\n",
       "      <td>...</td>\n",
       "      <td>NaT</td>\n",
       "      <td>NaN</td>\n",
       "      <td>NaN</td>\n",
       "      <td>NaN</td>\n",
       "      <td>NaN</td>\n",
       "      <td>NaN</td>\n",
       "      <td>NaN</td>\n",
       "      <td>NaN</td>\n",
       "      <td>NaN</td>\n",
       "      <td>NaN</td>\n",
       "    </tr>\n",
       "    <tr>\n",
       "      <th>4</th>\n",
       "      <td>100.0</td>\n",
       "      <td>There</td>\n",
       "      <td>games_video</td>\n",
       "      <td>acquired</td>\n",
       "      <td>NaT</td>\n",
       "      <td>NaT</td>\n",
       "      <td>there.com</td>\n",
       "      <td>NaN</td>\n",
       "      <td>USA</td>\n",
       "      <td>0.0</td>\n",
       "      <td>...</td>\n",
       "      <td>NaT</td>\n",
       "      <td>NaN</td>\n",
       "      <td>NaN</td>\n",
       "      <td>NaN</td>\n",
       "      <td>NaN</td>\n",
       "      <td>NaN</td>\n",
       "      <td>NaN</td>\n",
       "      <td>NaN</td>\n",
       "      <td>NaN</td>\n",
       "      <td>NaN</td>\n",
       "    </tr>\n",
       "  </tbody>\n",
       "</table>\n",
       "<p>5 rows × 25 columns</p>\n",
       "</div>"
      ],
      "text/plain": [
       "      id      name category_code     status founded_at closed_at  \\\n",
       "0    1.0  Wetpaint           web  operating 2005-10-17       NaT   \n",
       "1    1.0  Wetpaint           web  operating 2005-10-17       NaT   \n",
       "2    1.0  Wetpaint           web  operating 2005-10-17       NaT   \n",
       "3   10.0   Flektor   games_video   acquired        NaT       NaT   \n",
       "4  100.0     There   games_video   acquired        NaT       NaT   \n",
       "\n",
       "             domain network_username country_code  investment_rounds  ...  \\\n",
       "0  wetpaint-inc.com  BachelrWetpaint          USA                0.0  ...   \n",
       "1  wetpaint-inc.com  BachelrWetpaint          USA                0.0  ...   \n",
       "2  wetpaint-inc.com  BachelrWetpaint          USA                0.0  ...   \n",
       "3       flektor.com              NaN          USA                0.0  ...   \n",
       "4         there.com              NaN          USA                0.0  ...   \n",
       "\n",
       "   funded_at  funding_round_type  raised_amount  pre_money_valuation  \\\n",
       "0 2005-10-01            series-a      5250000.0                  0.0   \n",
       "1 2007-01-01            series-b      9500000.0                  0.0   \n",
       "2 2008-05-19           series-c+     25000000.0                  0.0   \n",
       "3        NaT                 NaN            NaN                  NaN   \n",
       "4        NaT                 NaN            NaN                  NaN   \n",
       "\n",
       "   participants is_first_round is_last_round  founded_year  closed_year  \\\n",
       "0           2.0            0.0           1.0        2005.0          NaN   \n",
       "1           3.0            0.0           0.0        2005.0          NaN   \n",
       "2           4.0            1.0           0.0        2005.0          NaN   \n",
       "3           NaN            NaN           NaN           NaN          NaN   \n",
       "4           NaN            NaN           NaN           NaN          NaN   \n",
       "\n",
       "   funded_year  \n",
       "0       2005.0  \n",
       "1       2007.0  \n",
       "2       2008.0  \n",
       "3          NaN  \n",
       "4          NaN  \n",
       "\n",
       "[5 rows x 25 columns]"
      ]
     },
     "execution_count": 45,
     "metadata": {},
     "output_type": "execute_result"
    }
   ],
   "source": [
    "company_and_rounds.head()"
   ]
  },
  {
   "cell_type": "code",
   "execution_count": 46,
   "metadata": {
    "id": "tJ6Sl6MKrJg1"
   },
   "outputs": [],
   "source": [
    "# Создание датафрейма с информацией о компаниях\n",
    "company = company_and_rounds.drop(columns=['funding_round_id', 'company_id', 'funded_at', 'funding_round_type', 'raised_amount',\n",
    "                                                           'pre_money_valuation', 'participants', 'is_first_round',\n",
    "                                                           'is_last_round', 'founded_year', 'closed_year', 'funded_year'])"
   ]
  },
  {
   "cell_type": "code",
   "execution_count": 47,
   "metadata": {},
   "outputs": [],
   "source": [
    "# Удаление дубликатов в таблице company\n",
    "company = company.drop_duplicates()"
   ]
  },
  {
   "cell_type": "code",
   "execution_count": 48,
   "metadata": {},
   "outputs": [
    {
     "data": {
      "text/html": [
       "<div>\n",
       "<style scoped>\n",
       "    .dataframe tbody tr th:only-of-type {\n",
       "        vertical-align: middle;\n",
       "    }\n",
       "\n",
       "    .dataframe tbody tr th {\n",
       "        vertical-align: top;\n",
       "    }\n",
       "\n",
       "    .dataframe thead th {\n",
       "        text-align: right;\n",
       "    }\n",
       "</style>\n",
       "<table border=\"1\" class=\"dataframe\">\n",
       "  <thead>\n",
       "    <tr style=\"text-align: right;\">\n",
       "      <th></th>\n",
       "      <th>id</th>\n",
       "      <th>name</th>\n",
       "      <th>category_code</th>\n",
       "      <th>status</th>\n",
       "      <th>founded_at</th>\n",
       "      <th>closed_at</th>\n",
       "      <th>domain</th>\n",
       "      <th>network_username</th>\n",
       "      <th>country_code</th>\n",
       "      <th>investment_rounds</th>\n",
       "      <th>funding_rounds</th>\n",
       "      <th>funding_total</th>\n",
       "      <th>milestones</th>\n",
       "    </tr>\n",
       "  </thead>\n",
       "  <tbody>\n",
       "    <tr>\n",
       "      <th>217472</th>\n",
       "      <td>NaN</td>\n",
       "      <td>NaN</td>\n",
       "      <td>NaN</td>\n",
       "      <td>NaN</td>\n",
       "      <td>NaT</td>\n",
       "      <td>NaT</td>\n",
       "      <td>NaN</td>\n",
       "      <td>NaN</td>\n",
       "      <td>NaN</td>\n",
       "      <td>NaN</td>\n",
       "      <td>NaN</td>\n",
       "      <td>NaN</td>\n",
       "      <td>NaN</td>\n",
       "    </tr>\n",
       "  </tbody>\n",
       "</table>\n",
       "</div>"
      ],
      "text/plain": [
       "        id name category_code status founded_at closed_at domain  \\\n",
       "217472 NaN  NaN           NaN    NaN        NaT       NaT    NaN   \n",
       "\n",
       "       network_username country_code  investment_rounds  funding_rounds  \\\n",
       "217472              NaN          NaN                NaN             NaN   \n",
       "\n",
       "        funding_total  milestones  \n",
       "217472            NaN         NaN  "
      ]
     },
     "execution_count": 48,
     "metadata": {},
     "output_type": "execute_result"
    }
   ],
   "source": [
    "# Пропуски в столбце id (если они есть, то пропуски помешают изменить тип столбца)\n",
    "company[company['id'].isna()]"
   ]
  },
  {
   "cell_type": "markdown",
   "metadata": {},
   "source": [
    "Пропуск содержится в строке 217472, кроме того в этой строке нет данных ни по одному столбцу. Можно удалить эту строку"
   ]
  },
  {
   "cell_type": "code",
   "execution_count": 49,
   "metadata": {},
   "outputs": [],
   "source": [
    "# Удаление строки с пропуском в id\n",
    "company = company.dropna(subset=['id'])"
   ]
  },
  {
   "cell_type": "code",
   "execution_count": 50,
   "metadata": {},
   "outputs": [],
   "source": [
    "# Сортировка по id\n",
    "company = company.sort_values(by='id')"
   ]
  },
  {
   "cell_type": "code",
   "execution_count": 51,
   "metadata": {},
   "outputs": [],
   "source": [
    "# Изменение типа столбеца id на целочисленный\n",
    "company['id'] = company['id'].astype('int64')"
   ]
  },
  {
   "cell_type": "code",
   "execution_count": 52,
   "metadata": {},
   "outputs": [
    {
     "name": "stdout",
     "output_type": "stream",
     "text": [
      "<class 'pandas.core.frame.DataFrame'>\n",
      "Int64Index: 196553 entries, 0 to 152354\n",
      "Data columns (total 13 columns):\n",
      " #   Column             Non-Null Count   Dtype         \n",
      "---  ------             --------------   -----         \n",
      " 0   id                 196553 non-null  int64         \n",
      " 1   name               196553 non-null  object        \n",
      " 2   category_code      123186 non-null  object        \n",
      " 3   status             196553 non-null  object        \n",
      " 4   founded_at         91227 non-null   datetime64[ns]\n",
      " 5   closed_at          2620 non-null    datetime64[ns]\n",
      " 6   domain             126545 non-null  object        \n",
      " 7   network_username   80591 non-null   object        \n",
      " 8   country_code       87990 non-null   object        \n",
      " 9   investment_rounds  196553 non-null  float64       \n",
      " 10  funding_rounds     196553 non-null  float64       \n",
      " 11  funding_total      196553 non-null  float64       \n",
      " 12  milestones         196553 non-null  float64       \n",
      "dtypes: datetime64[ns](2), float64(4), int64(1), object(6)\n",
      "memory usage: 21.0+ MB\n"
     ]
    }
   ],
   "source": [
    "# Типы данных\n",
    "company.info()"
   ]
  },
  {
   "cell_type": "code",
   "execution_count": 53,
   "metadata": {
    "scrolled": false
   },
   "outputs": [
    {
     "data": {
      "text/html": [
       "<div>\n",
       "<style scoped>\n",
       "    .dataframe tbody tr th:only-of-type {\n",
       "        vertical-align: middle;\n",
       "    }\n",
       "\n",
       "    .dataframe tbody tr th {\n",
       "        vertical-align: top;\n",
       "    }\n",
       "\n",
       "    .dataframe thead th {\n",
       "        text-align: right;\n",
       "    }\n",
       "</style>\n",
       "<table border=\"1\" class=\"dataframe\">\n",
       "  <thead>\n",
       "    <tr style=\"text-align: right;\">\n",
       "      <th></th>\n",
       "      <th>id</th>\n",
       "      <th>name</th>\n",
       "      <th>category_code</th>\n",
       "      <th>status</th>\n",
       "      <th>founded_at</th>\n",
       "      <th>closed_at</th>\n",
       "      <th>domain</th>\n",
       "      <th>network_username</th>\n",
       "      <th>country_code</th>\n",
       "      <th>investment_rounds</th>\n",
       "      <th>funding_rounds</th>\n",
       "      <th>funding_total</th>\n",
       "      <th>milestones</th>\n",
       "    </tr>\n",
       "  </thead>\n",
       "  <tbody>\n",
       "    <tr>\n",
       "      <th>0</th>\n",
       "      <td>1</td>\n",
       "      <td>Wetpaint</td>\n",
       "      <td>web</td>\n",
       "      <td>operating</td>\n",
       "      <td>2005-10-17</td>\n",
       "      <td>NaT</td>\n",
       "      <td>wetpaint-inc.com</td>\n",
       "      <td>BachelrWetpaint</td>\n",
       "      <td>USA</td>\n",
       "      <td>0.0</td>\n",
       "      <td>3.0</td>\n",
       "      <td>3.975000e+07</td>\n",
       "      <td>5.0</td>\n",
       "    </tr>\n",
       "    <tr>\n",
       "      <th>1</th>\n",
       "      <td>2</td>\n",
       "      <td>AdventNet</td>\n",
       "      <td>enterprise</td>\n",
       "      <td>operating</td>\n",
       "      <td>1996-01-01</td>\n",
       "      <td>NaT</td>\n",
       "      <td>adventnet.com</td>\n",
       "      <td>manageengine</td>\n",
       "      <td>USA</td>\n",
       "      <td>0.0</td>\n",
       "      <td>0.0</td>\n",
       "      <td>0.000000e+00</td>\n",
       "      <td>0.0</td>\n",
       "    </tr>\n",
       "    <tr>\n",
       "      <th>2</th>\n",
       "      <td>3</td>\n",
       "      <td>Zoho</td>\n",
       "      <td>software</td>\n",
       "      <td>operating</td>\n",
       "      <td>2005-09-15</td>\n",
       "      <td>NaT</td>\n",
       "      <td>zoho.com</td>\n",
       "      <td>zoho</td>\n",
       "      <td>USA</td>\n",
       "      <td>0.0</td>\n",
       "      <td>0.0</td>\n",
       "      <td>0.000000e+00</td>\n",
       "      <td>5.0</td>\n",
       "    </tr>\n",
       "    <tr>\n",
       "      <th>3</th>\n",
       "      <td>4</td>\n",
       "      <td>Digg</td>\n",
       "      <td>news</td>\n",
       "      <td>acquired</td>\n",
       "      <td>2004-10-11</td>\n",
       "      <td>NaT</td>\n",
       "      <td>digg.com</td>\n",
       "      <td>digg</td>\n",
       "      <td>USA</td>\n",
       "      <td>0.0</td>\n",
       "      <td>4.0</td>\n",
       "      <td>4.500000e+07</td>\n",
       "      <td>8.0</td>\n",
       "    </tr>\n",
       "    <tr>\n",
       "      <th>4</th>\n",
       "      <td>5</td>\n",
       "      <td>Socialnet</td>\n",
       "      <td>social</td>\n",
       "      <td>ipo</td>\n",
       "      <td>2004-02-01</td>\n",
       "      <td>NaT</td>\n",
       "      <td>socialnet.com</td>\n",
       "      <td>socialnet</td>\n",
       "      <td>USA</td>\n",
       "      <td>3.0</td>\n",
       "      <td>11.0</td>\n",
       "      <td>2.425700e+09</td>\n",
       "      <td>5.0</td>\n",
       "    </tr>\n",
       "    <tr>\n",
       "      <th>...</th>\n",
       "      <td>...</td>\n",
       "      <td>...</td>\n",
       "      <td>...</td>\n",
       "      <td>...</td>\n",
       "      <td>...</td>\n",
       "      <td>...</td>\n",
       "      <td>...</td>\n",
       "      <td>...</td>\n",
       "      <td>...</td>\n",
       "      <td>...</td>\n",
       "      <td>...</td>\n",
       "      <td>...</td>\n",
       "      <td>...</td>\n",
       "    </tr>\n",
       "    <tr>\n",
       "      <th>196548</th>\n",
       "      <td>286210</td>\n",
       "      <td>LG Electronics North America</td>\n",
       "      <td>NaN</td>\n",
       "      <td>operating</td>\n",
       "      <td>NaT</td>\n",
       "      <td>NaT</td>\n",
       "      <td>NaN</td>\n",
       "      <td>NaN</td>\n",
       "      <td>NaN</td>\n",
       "      <td>0.0</td>\n",
       "      <td>0.0</td>\n",
       "      <td>0.000000e+00</td>\n",
       "      <td>1.0</td>\n",
       "    </tr>\n",
       "    <tr>\n",
       "      <th>196549</th>\n",
       "      <td>286211</td>\n",
       "      <td>M1 Capital Advisors LLC</td>\n",
       "      <td>NaN</td>\n",
       "      <td>operating</td>\n",
       "      <td>NaT</td>\n",
       "      <td>NaT</td>\n",
       "      <td>NaN</td>\n",
       "      <td>NaN</td>\n",
       "      <td>NaN</td>\n",
       "      <td>0.0</td>\n",
       "      <td>0.0</td>\n",
       "      <td>0.000000e+00</td>\n",
       "      <td>0.0</td>\n",
       "    </tr>\n",
       "    <tr>\n",
       "      <th>196550</th>\n",
       "      <td>286212</td>\n",
       "      <td>M1 Partners</td>\n",
       "      <td>NaN</td>\n",
       "      <td>operating</td>\n",
       "      <td>NaT</td>\n",
       "      <td>NaT</td>\n",
       "      <td>NaN</td>\n",
       "      <td>NaN</td>\n",
       "      <td>NaN</td>\n",
       "      <td>0.0</td>\n",
       "      <td>0.0</td>\n",
       "      <td>0.000000e+00</td>\n",
       "      <td>0.0</td>\n",
       "    </tr>\n",
       "    <tr>\n",
       "      <th>196551</th>\n",
       "      <td>286213</td>\n",
       "      <td>Computer Solutions</td>\n",
       "      <td>NaN</td>\n",
       "      <td>operating</td>\n",
       "      <td>NaT</td>\n",
       "      <td>NaT</td>\n",
       "      <td>NaN</td>\n",
       "      <td>NaN</td>\n",
       "      <td>NaN</td>\n",
       "      <td>0.0</td>\n",
       "      <td>0.0</td>\n",
       "      <td>0.000000e+00</td>\n",
       "      <td>0.0</td>\n",
       "    </tr>\n",
       "    <tr>\n",
       "      <th>196552</th>\n",
       "      <td>286215</td>\n",
       "      <td>The Betty Mills Company</td>\n",
       "      <td>ecommerce</td>\n",
       "      <td>operating</td>\n",
       "      <td>NaT</td>\n",
       "      <td>NaT</td>\n",
       "      <td>bettymills.com</td>\n",
       "      <td>NaN</td>\n",
       "      <td>USA</td>\n",
       "      <td>0.0</td>\n",
       "      <td>1.0</td>\n",
       "      <td>2.712500e+05</td>\n",
       "      <td>0.0</td>\n",
       "    </tr>\n",
       "  </tbody>\n",
       "</table>\n",
       "<p>196553 rows × 13 columns</p>\n",
       "</div>"
      ],
      "text/plain": [
       "            id                          name category_code     status  \\\n",
       "0            1                      Wetpaint           web  operating   \n",
       "1            2                     AdventNet    enterprise  operating   \n",
       "2            3                          Zoho      software  operating   \n",
       "3            4                          Digg          news   acquired   \n",
       "4            5                     Socialnet        social        ipo   \n",
       "...        ...                           ...           ...        ...   \n",
       "196548  286210  LG Electronics North America           NaN  operating   \n",
       "196549  286211       M1 Capital Advisors LLC           NaN  operating   \n",
       "196550  286212                   M1 Partners           NaN  operating   \n",
       "196551  286213            Computer Solutions           NaN  operating   \n",
       "196552  286215       The Betty Mills Company     ecommerce  operating   \n",
       "\n",
       "       founded_at closed_at            domain network_username country_code  \\\n",
       "0      2005-10-17       NaT  wetpaint-inc.com  BachelrWetpaint          USA   \n",
       "1      1996-01-01       NaT     adventnet.com     manageengine          USA   \n",
       "2      2005-09-15       NaT          zoho.com             zoho          USA   \n",
       "3      2004-10-11       NaT          digg.com             digg          USA   \n",
       "4      2004-02-01       NaT     socialnet.com        socialnet          USA   \n",
       "...           ...       ...               ...              ...          ...   \n",
       "196548        NaT       NaT               NaN              NaN          NaN   \n",
       "196549        NaT       NaT               NaN              NaN          NaN   \n",
       "196550        NaT       NaT               NaN              NaN          NaN   \n",
       "196551        NaT       NaT               NaN              NaN          NaN   \n",
       "196552        NaT       NaT    bettymills.com              NaN          USA   \n",
       "\n",
       "        investment_rounds  funding_rounds  funding_total  milestones  \n",
       "0                     0.0             3.0   3.975000e+07         5.0  \n",
       "1                     0.0             0.0   0.000000e+00         0.0  \n",
       "2                     0.0             0.0   0.000000e+00         5.0  \n",
       "3                     0.0             4.0   4.500000e+07         8.0  \n",
       "4                     3.0            11.0   2.425700e+09         5.0  \n",
       "...                   ...             ...            ...         ...  \n",
       "196548                0.0             0.0   0.000000e+00         1.0  \n",
       "196549                0.0             0.0   0.000000e+00         0.0  \n",
       "196550                0.0             0.0   0.000000e+00         0.0  \n",
       "196551                0.0             0.0   0.000000e+00         0.0  \n",
       "196552                0.0             1.0   2.712500e+05         0.0  \n",
       "\n",
       "[196553 rows x 13 columns]"
      ]
     },
     "execution_count": 53,
     "metadata": {},
     "output_type": "execute_result"
    }
   ],
   "source": [
    "# Сбросим старый индекс\n",
    "company.reset_index(drop=True)"
   ]
  },
  {
   "cell_type": "code",
   "execution_count": 54,
   "metadata": {
    "id": "SFfUmzron0Tc",
    "scrolled": true
   },
   "outputs": [
    {
     "data": {
      "text/html": [
       "<div>\n",
       "<style scoped>\n",
       "    .dataframe tbody tr th:only-of-type {\n",
       "        vertical-align: middle;\n",
       "    }\n",
       "\n",
       "    .dataframe tbody tr th {\n",
       "        vertical-align: top;\n",
       "    }\n",
       "\n",
       "    .dataframe thead th {\n",
       "        text-align: right;\n",
       "    }\n",
       "</style>\n",
       "<table border=\"1\" class=\"dataframe\">\n",
       "  <thead>\n",
       "    <tr style=\"text-align: right;\">\n",
       "      <th></th>\n",
       "      <th>id</th>\n",
       "      <th>name</th>\n",
       "      <th>category_code</th>\n",
       "      <th>status</th>\n",
       "      <th>founded_at</th>\n",
       "      <th>closed_at</th>\n",
       "      <th>domain</th>\n",
       "      <th>network_username</th>\n",
       "      <th>country_code</th>\n",
       "      <th>investment_rounds</th>\n",
       "      <th>funding_rounds</th>\n",
       "      <th>funding_total</th>\n",
       "      <th>milestones</th>\n",
       "    </tr>\n",
       "  </thead>\n",
       "  <tbody>\n",
       "    <tr>\n",
       "      <th>0</th>\n",
       "      <td>1</td>\n",
       "      <td>Wetpaint</td>\n",
       "      <td>web</td>\n",
       "      <td>operating</td>\n",
       "      <td>2005-10-17</td>\n",
       "      <td>NaT</td>\n",
       "      <td>wetpaint-inc.com</td>\n",
       "      <td>BachelrWetpaint</td>\n",
       "      <td>USA</td>\n",
       "      <td>0.0</td>\n",
       "      <td>3.0</td>\n",
       "      <td>3.975000e+07</td>\n",
       "      <td>5.0</td>\n",
       "    </tr>\n",
       "    <tr>\n",
       "      <th>63280</th>\n",
       "      <td>2</td>\n",
       "      <td>AdventNet</td>\n",
       "      <td>enterprise</td>\n",
       "      <td>operating</td>\n",
       "      <td>1996-01-01</td>\n",
       "      <td>NaT</td>\n",
       "      <td>adventnet.com</td>\n",
       "      <td>manageengine</td>\n",
       "      <td>USA</td>\n",
       "      <td>0.0</td>\n",
       "      <td>0.0</td>\n",
       "      <td>0.000000e+00</td>\n",
       "      <td>0.0</td>\n",
       "    </tr>\n",
       "    <tr>\n",
       "      <th>153920</th>\n",
       "      <td>3</td>\n",
       "      <td>Zoho</td>\n",
       "      <td>software</td>\n",
       "      <td>operating</td>\n",
       "      <td>2005-09-15</td>\n",
       "      <td>NaT</td>\n",
       "      <td>zoho.com</td>\n",
       "      <td>zoho</td>\n",
       "      <td>USA</td>\n",
       "      <td>0.0</td>\n",
       "      <td>0.0</td>\n",
       "      <td>0.000000e+00</td>\n",
       "      <td>5.0</td>\n",
       "    </tr>\n",
       "    <tr>\n",
       "      <th>165414</th>\n",
       "      <td>4</td>\n",
       "      <td>Digg</td>\n",
       "      <td>news</td>\n",
       "      <td>acquired</td>\n",
       "      <td>2004-10-11</td>\n",
       "      <td>NaT</td>\n",
       "      <td>digg.com</td>\n",
       "      <td>digg</td>\n",
       "      <td>USA</td>\n",
       "      <td>0.0</td>\n",
       "      <td>4.0</td>\n",
       "      <td>4.500000e+07</td>\n",
       "      <td>8.0</td>\n",
       "    </tr>\n",
       "    <tr>\n",
       "      <th>217286</th>\n",
       "      <td>5</td>\n",
       "      <td>Socialnet</td>\n",
       "      <td>social</td>\n",
       "      <td>ipo</td>\n",
       "      <td>2004-02-01</td>\n",
       "      <td>NaT</td>\n",
       "      <td>socialnet.com</td>\n",
       "      <td>socialnet</td>\n",
       "      <td>USA</td>\n",
       "      <td>3.0</td>\n",
       "      <td>11.0</td>\n",
       "      <td>2.425700e+09</td>\n",
       "      <td>5.0</td>\n",
       "    </tr>\n",
       "  </tbody>\n",
       "</table>\n",
       "</div>"
      ],
      "text/plain": [
       "        id       name category_code     status founded_at closed_at  \\\n",
       "0        1   Wetpaint           web  operating 2005-10-17       NaT   \n",
       "63280    2  AdventNet    enterprise  operating 1996-01-01       NaT   \n",
       "153920   3       Zoho      software  operating 2005-09-15       NaT   \n",
       "165414   4       Digg          news   acquired 2004-10-11       NaT   \n",
       "217286   5  Socialnet        social        ipo 2004-02-01       NaT   \n",
       "\n",
       "                  domain network_username country_code  investment_rounds  \\\n",
       "0       wetpaint-inc.com  BachelrWetpaint          USA                0.0   \n",
       "63280      adventnet.com     manageengine          USA                0.0   \n",
       "153920          zoho.com             zoho          USA                0.0   \n",
       "165414          digg.com             digg          USA                0.0   \n",
       "217286     socialnet.com        socialnet          USA                3.0   \n",
       "\n",
       "        funding_rounds  funding_total  milestones  \n",
       "0                  3.0   3.975000e+07         5.0  \n",
       "63280              0.0   0.000000e+00         0.0  \n",
       "153920             0.0   0.000000e+00         5.0  \n",
       "165414             4.0   4.500000e+07         8.0  \n",
       "217286            11.0   2.425700e+09         5.0  "
      ]
     },
     "execution_count": 54,
     "metadata": {},
     "output_type": "execute_result"
    }
   ],
   "source": [
    "# Несколько строк итогового датасета\n",
    "company.head()"
   ]
  },
  {
   "cell_type": "markdown",
   "metadata": {},
   "source": [
    "**Без пропусков** в датафрейме `company` содержится информация о\n",
    "- name - названии компании\n",
    "- status — статус компании\n",
    "- investment_rounds — число инвестиционных раундов\n",
    "- funding_rounds — число раундов финансирования\n",
    "- funding_total — сумма финансирования\n",
    "- milestones — вехи финансирования\n",
    "\n",
    "эти данные полны и позволят анализировать финансирование компаний\n",
    "\n",
    "**Пропуски** остались в столбцах \n",
    "- category_code — категория области деятельности компании\n",
    "- founded_at — дата инвестирования\n",
    "- closed_at — дата закрытия компании\n",
    "- domain  — официальный сайт компании\n",
    "- network_username — ник компании в сети\n",
    "- country_code — код страны компании\n",
    "\n",
    "эти данные не так важны для анализа финансирования компаний, поэтому их можно оставить без изменений"
   ]
  },
  {
   "cell_type": "markdown",
   "metadata": {},
   "source": [
    "Аналогично для нового датафрейма `rounds`"
   ]
  },
  {
   "cell_type": "code",
   "execution_count": 55,
   "metadata": {},
   "outputs": [],
   "source": [
    "# Создание датафрейма с информацией о раундах\n",
    "rounds = company_and_rounds[['funding_round_id', 'company_id', 'funded_at', 'funding_round_type', 'raised_amount',\n",
    "                                                           'pre_money_valuation', 'participants', 'is_first_round',\n",
    "                                                           'is_last_round', 'founded_year', 'closed_year', 'funded_year']]"
   ]
  },
  {
   "cell_type": "code",
   "execution_count": 56,
   "metadata": {},
   "outputs": [
    {
     "name": "stdout",
     "output_type": "stream",
     "text": [
      "<class 'pandas.core.frame.DataFrame'>\n",
      "RangeIndex: 217774 entries, 0 to 217773\n",
      "Data columns (total 12 columns):\n",
      " #   Column               Non-Null Count   Dtype         \n",
      "---  ------               --------------   -----         \n",
      " 0   funding_round_id     52928 non-null   float64       \n",
      " 1   company_id           52928 non-null   float64       \n",
      " 2   funded_at            52680 non-null   datetime64[ns]\n",
      " 3   funding_round_type   52928 non-null   object        \n",
      " 4   raised_amount        52928 non-null   float64       \n",
      " 5   pre_money_valuation  52928 non-null   float64       \n",
      " 6   participants         52928 non-null   float64       \n",
      " 7   is_first_round       52928 non-null   float64       \n",
      " 8   is_last_round        52928 non-null   float64       \n",
      " 9   founded_year         109956 non-null  float64       \n",
      " 10  closed_year          3449 non-null    float64       \n",
      " 11  funded_year          52680 non-null   float64       \n",
      "dtypes: datetime64[ns](1), float64(10), object(1)\n",
      "memory usage: 19.9+ MB\n"
     ]
    }
   ],
   "source": [
    "rounds.info()"
   ]
  },
  {
   "cell_type": "code",
   "execution_count": 57,
   "metadata": {},
   "outputs": [],
   "source": [
    "# Удаление дубликатов в таблице rounds\n",
    "rounds = rounds.drop_duplicates()"
   ]
  },
  {
   "cell_type": "code",
   "execution_count": 58,
   "metadata": {},
   "outputs": [
    {
     "data": {
      "text/html": [
       "<div>\n",
       "<style scoped>\n",
       "    .dataframe tbody tr th:only-of-type {\n",
       "        vertical-align: middle;\n",
       "    }\n",
       "\n",
       "    .dataframe tbody tr th {\n",
       "        vertical-align: top;\n",
       "    }\n",
       "\n",
       "    .dataframe thead th {\n",
       "        text-align: right;\n",
       "    }\n",
       "</style>\n",
       "<table border=\"1\" class=\"dataframe\">\n",
       "  <thead>\n",
       "    <tr style=\"text-align: right;\">\n",
       "      <th></th>\n",
       "      <th>funding_round_id</th>\n",
       "      <th>company_id</th>\n",
       "      <th>funded_at</th>\n",
       "      <th>funding_round_type</th>\n",
       "      <th>raised_amount</th>\n",
       "      <th>pre_money_valuation</th>\n",
       "      <th>participants</th>\n",
       "      <th>is_first_round</th>\n",
       "      <th>is_last_round</th>\n",
       "      <th>founded_year</th>\n",
       "      <th>closed_year</th>\n",
       "      <th>funded_year</th>\n",
       "    </tr>\n",
       "  </thead>\n",
       "  <tbody>\n",
       "    <tr>\n",
       "      <th>3</th>\n",
       "      <td>NaN</td>\n",
       "      <td>NaN</td>\n",
       "      <td>NaT</td>\n",
       "      <td>NaN</td>\n",
       "      <td>NaN</td>\n",
       "      <td>NaN</td>\n",
       "      <td>NaN</td>\n",
       "      <td>NaN</td>\n",
       "      <td>NaN</td>\n",
       "      <td>NaN</td>\n",
       "      <td>NaN</td>\n",
       "      <td>NaN</td>\n",
       "    </tr>\n",
       "    <tr>\n",
       "      <th>5</th>\n",
       "      <td>NaN</td>\n",
       "      <td>NaN</td>\n",
       "      <td>NaT</td>\n",
       "      <td>NaN</td>\n",
       "      <td>NaN</td>\n",
       "      <td>NaN</td>\n",
       "      <td>NaN</td>\n",
       "      <td>NaN</td>\n",
       "      <td>NaN</td>\n",
       "      <td>2008.0</td>\n",
       "      <td>NaN</td>\n",
       "      <td>NaN</td>\n",
       "    </tr>\n",
       "    <tr>\n",
       "      <th>7</th>\n",
       "      <td>NaN</td>\n",
       "      <td>NaN</td>\n",
       "      <td>NaT</td>\n",
       "      <td>NaN</td>\n",
       "      <td>NaN</td>\n",
       "      <td>NaN</td>\n",
       "      <td>NaN</td>\n",
       "      <td>NaN</td>\n",
       "      <td>NaN</td>\n",
       "      <td>2007.0</td>\n",
       "      <td>NaN</td>\n",
       "      <td>NaN</td>\n",
       "    </tr>\n",
       "    <tr>\n",
       "      <th>11</th>\n",
       "      <td>NaN</td>\n",
       "      <td>NaN</td>\n",
       "      <td>NaT</td>\n",
       "      <td>NaN</td>\n",
       "      <td>NaN</td>\n",
       "      <td>NaN</td>\n",
       "      <td>NaN</td>\n",
       "      <td>NaN</td>\n",
       "      <td>NaN</td>\n",
       "      <td>2011.0</td>\n",
       "      <td>NaN</td>\n",
       "      <td>NaN</td>\n",
       "    </tr>\n",
       "    <tr>\n",
       "      <th>18</th>\n",
       "      <td>NaN</td>\n",
       "      <td>NaN</td>\n",
       "      <td>NaT</td>\n",
       "      <td>NaN</td>\n",
       "      <td>NaN</td>\n",
       "      <td>NaN</td>\n",
       "      <td>NaN</td>\n",
       "      <td>NaN</td>\n",
       "      <td>NaN</td>\n",
       "      <td>2008.0</td>\n",
       "      <td>2010.0</td>\n",
       "      <td>NaN</td>\n",
       "    </tr>\n",
       "    <tr>\n",
       "      <th>...</th>\n",
       "      <td>...</td>\n",
       "      <td>...</td>\n",
       "      <td>...</td>\n",
       "      <td>...</td>\n",
       "      <td>...</td>\n",
       "      <td>...</td>\n",
       "      <td>...</td>\n",
       "      <td>...</td>\n",
       "      <td>...</td>\n",
       "      <td>...</td>\n",
       "      <td>...</td>\n",
       "      <td>...</td>\n",
       "    </tr>\n",
       "    <tr>\n",
       "      <th>198515</th>\n",
       "      <td>NaN</td>\n",
       "      <td>NaN</td>\n",
       "      <td>NaT</td>\n",
       "      <td>NaN</td>\n",
       "      <td>NaN</td>\n",
       "      <td>NaN</td>\n",
       "      <td>NaN</td>\n",
       "      <td>NaN</td>\n",
       "      <td>NaN</td>\n",
       "      <td>2003.0</td>\n",
       "      <td>2007.0</td>\n",
       "      <td>NaN</td>\n",
       "    </tr>\n",
       "    <tr>\n",
       "      <th>203885</th>\n",
       "      <td>NaN</td>\n",
       "      <td>NaN</td>\n",
       "      <td>NaT</td>\n",
       "      <td>NaN</td>\n",
       "      <td>NaN</td>\n",
       "      <td>NaN</td>\n",
       "      <td>NaN</td>\n",
       "      <td>NaN</td>\n",
       "      <td>NaN</td>\n",
       "      <td>2010.0</td>\n",
       "      <td>2009.0</td>\n",
       "      <td>NaN</td>\n",
       "    </tr>\n",
       "    <tr>\n",
       "      <th>211662</th>\n",
       "      <td>NaN</td>\n",
       "      <td>NaN</td>\n",
       "      <td>NaT</td>\n",
       "      <td>NaN</td>\n",
       "      <td>NaN</td>\n",
       "      <td>NaN</td>\n",
       "      <td>NaN</td>\n",
       "      <td>NaN</td>\n",
       "      <td>NaN</td>\n",
       "      <td>2000.0</td>\n",
       "      <td>2013.0</td>\n",
       "      <td>NaN</td>\n",
       "    </tr>\n",
       "    <tr>\n",
       "      <th>216295</th>\n",
       "      <td>NaN</td>\n",
       "      <td>NaN</td>\n",
       "      <td>NaT</td>\n",
       "      <td>NaN</td>\n",
       "      <td>NaN</td>\n",
       "      <td>NaN</td>\n",
       "      <td>NaN</td>\n",
       "      <td>NaN</td>\n",
       "      <td>NaN</td>\n",
       "      <td>2003.0</td>\n",
       "      <td>2009.0</td>\n",
       "      <td>NaN</td>\n",
       "    </tr>\n",
       "    <tr>\n",
       "      <th>216793</th>\n",
       "      <td>NaN</td>\n",
       "      <td>NaN</td>\n",
       "      <td>NaT</td>\n",
       "      <td>NaN</td>\n",
       "      <td>NaN</td>\n",
       "      <td>NaN</td>\n",
       "      <td>NaN</td>\n",
       "      <td>NaN</td>\n",
       "      <td>NaN</td>\n",
       "      <td>2002.0</td>\n",
       "      <td>2009.0</td>\n",
       "      <td>NaN</td>\n",
       "    </tr>\n",
       "  </tbody>\n",
       "</table>\n",
       "<p>201 rows × 12 columns</p>\n",
       "</div>"
      ],
      "text/plain": [
       "        funding_round_id  company_id funded_at funding_round_type  \\\n",
       "3                    NaN         NaN       NaT                NaN   \n",
       "5                    NaN         NaN       NaT                NaN   \n",
       "7                    NaN         NaN       NaT                NaN   \n",
       "11                   NaN         NaN       NaT                NaN   \n",
       "18                   NaN         NaN       NaT                NaN   \n",
       "...                  ...         ...       ...                ...   \n",
       "198515               NaN         NaN       NaT                NaN   \n",
       "203885               NaN         NaN       NaT                NaN   \n",
       "211662               NaN         NaN       NaT                NaN   \n",
       "216295               NaN         NaN       NaT                NaN   \n",
       "216793               NaN         NaN       NaT                NaN   \n",
       "\n",
       "        raised_amount  pre_money_valuation  participants  is_first_round  \\\n",
       "3                 NaN                  NaN           NaN             NaN   \n",
       "5                 NaN                  NaN           NaN             NaN   \n",
       "7                 NaN                  NaN           NaN             NaN   \n",
       "11                NaN                  NaN           NaN             NaN   \n",
       "18                NaN                  NaN           NaN             NaN   \n",
       "...               ...                  ...           ...             ...   \n",
       "198515            NaN                  NaN           NaN             NaN   \n",
       "203885            NaN                  NaN           NaN             NaN   \n",
       "211662            NaN                  NaN           NaN             NaN   \n",
       "216295            NaN                  NaN           NaN             NaN   \n",
       "216793            NaN                  NaN           NaN             NaN   \n",
       "\n",
       "        is_last_round  founded_year  closed_year  funded_year  \n",
       "3                 NaN           NaN          NaN          NaN  \n",
       "5                 NaN        2008.0          NaN          NaN  \n",
       "7                 NaN        2007.0          NaN          NaN  \n",
       "11                NaN        2011.0          NaN          NaN  \n",
       "18                NaN        2008.0       2010.0          NaN  \n",
       "...               ...           ...          ...          ...  \n",
       "198515            NaN        2003.0       2007.0          NaN  \n",
       "203885            NaN        2010.0       2009.0          NaN  \n",
       "211662            NaN        2000.0       2013.0          NaN  \n",
       "216295            NaN        2003.0       2009.0          NaN  \n",
       "216793            NaN        2002.0       2009.0          NaN  \n",
       "\n",
       "[201 rows x 12 columns]"
      ]
     },
     "execution_count": 58,
     "metadata": {},
     "output_type": "execute_result"
    }
   ],
   "source": [
    "# Выведем пропуски в столбце id, если они есть, так как пропуски помешают изменить тип столбца\n",
    "rounds[rounds['funding_round_id'].isna()]"
   ]
  },
  {
   "cell_type": "markdown",
   "metadata": {},
   "source": [
    "Столбец `funding_round_id` содержит 201 строку с пропусками, а также пропуски почти во всех ячейках. Так как без `funding_round_id` эта информация неприменима для анализа , можно удалить эти строки"
   ]
  },
  {
   "cell_type": "code",
   "execution_count": 59,
   "metadata": {},
   "outputs": [],
   "source": [
    "# Удаление пропусков в столбце funding_round_id (если они есть, то пропуски помешают изменить тип столбца)\n",
    "rounds = rounds.dropna(subset=['funding_round_id'])"
   ]
  },
  {
   "cell_type": "code",
   "execution_count": 60,
   "metadata": {},
   "outputs": [],
   "source": [
    "# Приведем столбцы с id к целочисленному типу\n",
    "rounds['funding_round_id'] = rounds['funding_round_id'].astype('int64')\n",
    "rounds['company_id'] = rounds['company_id'].astype('int64')"
   ]
  },
  {
   "cell_type": "code",
   "execution_count": 61,
   "metadata": {},
   "outputs": [],
   "source": [
    "# Сортировка по id\n",
    "rounds = rounds.sort_values(by='funding_round_id')"
   ]
  },
  {
   "cell_type": "code",
   "execution_count": 62,
   "metadata": {},
   "outputs": [
    {
     "data": {
      "text/html": [
       "<div>\n",
       "<style scoped>\n",
       "    .dataframe tbody tr th:only-of-type {\n",
       "        vertical-align: middle;\n",
       "    }\n",
       "\n",
       "    .dataframe tbody tr th {\n",
       "        vertical-align: top;\n",
       "    }\n",
       "\n",
       "    .dataframe thead th {\n",
       "        text-align: right;\n",
       "    }\n",
       "</style>\n",
       "<table border=\"1\" class=\"dataframe\">\n",
       "  <thead>\n",
       "    <tr style=\"text-align: right;\">\n",
       "      <th></th>\n",
       "      <th>funding_round_id</th>\n",
       "      <th>company_id</th>\n",
       "      <th>funded_at</th>\n",
       "      <th>funding_round_type</th>\n",
       "      <th>raised_amount</th>\n",
       "      <th>pre_money_valuation</th>\n",
       "      <th>participants</th>\n",
       "      <th>is_first_round</th>\n",
       "      <th>is_last_round</th>\n",
       "      <th>founded_year</th>\n",
       "      <th>closed_year</th>\n",
       "      <th>funded_year</th>\n",
       "    </tr>\n",
       "  </thead>\n",
       "  <tbody>\n",
       "    <tr>\n",
       "      <th>0</th>\n",
       "      <td>1</td>\n",
       "      <td>4</td>\n",
       "      <td>2006-12-01</td>\n",
       "      <td>series-b</td>\n",
       "      <td>8500000.0</td>\n",
       "      <td>0.0</td>\n",
       "      <td>2.0</td>\n",
       "      <td>0.0</td>\n",
       "      <td>0.0</td>\n",
       "      <td>2004.0</td>\n",
       "      <td>NaN</td>\n",
       "      <td>2006.0</td>\n",
       "    </tr>\n",
       "    <tr>\n",
       "      <th>1</th>\n",
       "      <td>2</td>\n",
       "      <td>5</td>\n",
       "      <td>2004-09-01</td>\n",
       "      <td>angel</td>\n",
       "      <td>500000.0</td>\n",
       "      <td>0.0</td>\n",
       "      <td>2.0</td>\n",
       "      <td>0.0</td>\n",
       "      <td>1.0</td>\n",
       "      <td>2004.0</td>\n",
       "      <td>NaN</td>\n",
       "      <td>2004.0</td>\n",
       "    </tr>\n",
       "    <tr>\n",
       "      <th>2</th>\n",
       "      <td>3</td>\n",
       "      <td>5</td>\n",
       "      <td>2005-05-01</td>\n",
       "      <td>series-a</td>\n",
       "      <td>12700000.0</td>\n",
       "      <td>115000000.0</td>\n",
       "      <td>3.0</td>\n",
       "      <td>0.0</td>\n",
       "      <td>0.0</td>\n",
       "      <td>2004.0</td>\n",
       "      <td>NaN</td>\n",
       "      <td>2005.0</td>\n",
       "    </tr>\n",
       "    <tr>\n",
       "      <th>3</th>\n",
       "      <td>4</td>\n",
       "      <td>5</td>\n",
       "      <td>2006-04-01</td>\n",
       "      <td>series-b</td>\n",
       "      <td>27500000.0</td>\n",
       "      <td>525000000.0</td>\n",
       "      <td>4.0</td>\n",
       "      <td>0.0</td>\n",
       "      <td>0.0</td>\n",
       "      <td>2004.0</td>\n",
       "      <td>NaN</td>\n",
       "      <td>2006.0</td>\n",
       "    </tr>\n",
       "    <tr>\n",
       "      <th>4</th>\n",
       "      <td>5</td>\n",
       "      <td>7299</td>\n",
       "      <td>2006-05-01</td>\n",
       "      <td>series-b</td>\n",
       "      <td>10500000.0</td>\n",
       "      <td>0.0</td>\n",
       "      <td>2.0</td>\n",
       "      <td>0.0</td>\n",
       "      <td>0.0</td>\n",
       "      <td>2003.0</td>\n",
       "      <td>NaN</td>\n",
       "      <td>2006.0</td>\n",
       "    </tr>\n",
       "    <tr>\n",
       "      <th>...</th>\n",
       "      <td>...</td>\n",
       "      <td>...</td>\n",
       "      <td>...</td>\n",
       "      <td>...</td>\n",
       "      <td>...</td>\n",
       "      <td>...</td>\n",
       "      <td>...</td>\n",
       "      <td>...</td>\n",
       "      <td>...</td>\n",
       "      <td>...</td>\n",
       "      <td>...</td>\n",
       "      <td>...</td>\n",
       "    </tr>\n",
       "    <tr>\n",
       "      <th>52923</th>\n",
       "      <td>57948</td>\n",
       "      <td>211890</td>\n",
       "      <td>2013-12-12</td>\n",
       "      <td>series-a</td>\n",
       "      <td>3000000.0</td>\n",
       "      <td>0.0</td>\n",
       "      <td>1.0</td>\n",
       "      <td>1.0</td>\n",
       "      <td>1.0</td>\n",
       "      <td>2007.0</td>\n",
       "      <td>NaN</td>\n",
       "      <td>2013.0</td>\n",
       "    </tr>\n",
       "    <tr>\n",
       "      <th>52924</th>\n",
       "      <td>57949</td>\n",
       "      <td>267427</td>\n",
       "      <td>2010-02-06</td>\n",
       "      <td>venture</td>\n",
       "      <td>570000.0</td>\n",
       "      <td>0.0</td>\n",
       "      <td>0.0</td>\n",
       "      <td>0.0</td>\n",
       "      <td>1.0</td>\n",
       "      <td>2003.0</td>\n",
       "      <td>NaN</td>\n",
       "      <td>2010.0</td>\n",
       "    </tr>\n",
       "    <tr>\n",
       "      <th>52925</th>\n",
       "      <td>57950</td>\n",
       "      <td>261728</td>\n",
       "      <td>2010-02-06</td>\n",
       "      <td>venture</td>\n",
       "      <td>2184100.0</td>\n",
       "      <td>0.0</td>\n",
       "      <td>0.0</td>\n",
       "      <td>0.0</td>\n",
       "      <td>1.0</td>\n",
       "      <td>2004.0</td>\n",
       "      <td>NaN</td>\n",
       "      <td>2010.0</td>\n",
       "    </tr>\n",
       "    <tr>\n",
       "      <th>52926</th>\n",
       "      <td>57951</td>\n",
       "      <td>285864</td>\n",
       "      <td>2013-12-12</td>\n",
       "      <td>series-a</td>\n",
       "      <td>790783.0</td>\n",
       "      <td>0.0</td>\n",
       "      <td>0.0</td>\n",
       "      <td>1.0</td>\n",
       "      <td>1.0</td>\n",
       "      <td>2011.0</td>\n",
       "      <td>NaN</td>\n",
       "      <td>2013.0</td>\n",
       "    </tr>\n",
       "    <tr>\n",
       "      <th>52927</th>\n",
       "      <td>57952</td>\n",
       "      <td>286215</td>\n",
       "      <td>2010-04-07</td>\n",
       "      <td>venture</td>\n",
       "      <td>271250.0</td>\n",
       "      <td>0.0</td>\n",
       "      <td>0.0</td>\n",
       "      <td>1.0</td>\n",
       "      <td>1.0</td>\n",
       "      <td>NaN</td>\n",
       "      <td>NaN</td>\n",
       "      <td>2010.0</td>\n",
       "    </tr>\n",
       "  </tbody>\n",
       "</table>\n",
       "<p>52928 rows × 12 columns</p>\n",
       "</div>"
      ],
      "text/plain": [
       "       funding_round_id  company_id  funded_at funding_round_type  \\\n",
       "0                     1           4 2006-12-01           series-b   \n",
       "1                     2           5 2004-09-01              angel   \n",
       "2                     3           5 2005-05-01           series-a   \n",
       "3                     4           5 2006-04-01           series-b   \n",
       "4                     5        7299 2006-05-01           series-b   \n",
       "...                 ...         ...        ...                ...   \n",
       "52923             57948      211890 2013-12-12           series-a   \n",
       "52924             57949      267427 2010-02-06            venture   \n",
       "52925             57950      261728 2010-02-06            venture   \n",
       "52926             57951      285864 2013-12-12           series-a   \n",
       "52927             57952      286215 2010-04-07            venture   \n",
       "\n",
       "       raised_amount  pre_money_valuation  participants  is_first_round  \\\n",
       "0          8500000.0                  0.0           2.0             0.0   \n",
       "1           500000.0                  0.0           2.0             0.0   \n",
       "2         12700000.0          115000000.0           3.0             0.0   \n",
       "3         27500000.0          525000000.0           4.0             0.0   \n",
       "4         10500000.0                  0.0           2.0             0.0   \n",
       "...              ...                  ...           ...             ...   \n",
       "52923      3000000.0                  0.0           1.0             1.0   \n",
       "52924       570000.0                  0.0           0.0             0.0   \n",
       "52925      2184100.0                  0.0           0.0             0.0   \n",
       "52926       790783.0                  0.0           0.0             1.0   \n",
       "52927       271250.0                  0.0           0.0             1.0   \n",
       "\n",
       "       is_last_round  founded_year  closed_year  funded_year  \n",
       "0                0.0        2004.0          NaN       2006.0  \n",
       "1                1.0        2004.0          NaN       2004.0  \n",
       "2                0.0        2004.0          NaN       2005.0  \n",
       "3                0.0        2004.0          NaN       2006.0  \n",
       "4                0.0        2003.0          NaN       2006.0  \n",
       "...              ...           ...          ...          ...  \n",
       "52923            1.0        2007.0          NaN       2013.0  \n",
       "52924            1.0        2003.0          NaN       2010.0  \n",
       "52925            1.0        2004.0          NaN       2010.0  \n",
       "52926            1.0        2011.0          NaN       2013.0  \n",
       "52927            1.0           NaN          NaN       2010.0  \n",
       "\n",
       "[52928 rows x 12 columns]"
      ]
     },
     "execution_count": 62,
     "metadata": {},
     "output_type": "execute_result"
    }
   ],
   "source": [
    "# Сбросим старый индекс\n",
    "rounds.reset_index(drop=True)"
   ]
  },
  {
   "cell_type": "code",
   "execution_count": 63,
   "metadata": {
    "scrolled": true
   },
   "outputs": [
    {
     "data": {
      "text/html": [
       "<div>\n",
       "<style scoped>\n",
       "    .dataframe tbody tr th:only-of-type {\n",
       "        vertical-align: middle;\n",
       "    }\n",
       "\n",
       "    .dataframe tbody tr th {\n",
       "        vertical-align: top;\n",
       "    }\n",
       "\n",
       "    .dataframe thead th {\n",
       "        text-align: right;\n",
       "    }\n",
       "</style>\n",
       "<table border=\"1\" class=\"dataframe\">\n",
       "  <thead>\n",
       "    <tr style=\"text-align: right;\">\n",
       "      <th></th>\n",
       "      <th>funding_round_id</th>\n",
       "      <th>company_id</th>\n",
       "      <th>funded_at</th>\n",
       "      <th>funding_round_type</th>\n",
       "      <th>raised_amount</th>\n",
       "      <th>pre_money_valuation</th>\n",
       "      <th>participants</th>\n",
       "      <th>is_first_round</th>\n",
       "      <th>is_last_round</th>\n",
       "      <th>founded_year</th>\n",
       "      <th>closed_year</th>\n",
       "      <th>funded_year</th>\n",
       "    </tr>\n",
       "  </thead>\n",
       "  <tbody>\n",
       "    <tr>\n",
       "      <th>165414</th>\n",
       "      <td>1</td>\n",
       "      <td>4</td>\n",
       "      <td>2006-12-01</td>\n",
       "      <td>series-b</td>\n",
       "      <td>8500000.0</td>\n",
       "      <td>0.0</td>\n",
       "      <td>2.0</td>\n",
       "      <td>0.0</td>\n",
       "      <td>0.0</td>\n",
       "      <td>2004.0</td>\n",
       "      <td>NaN</td>\n",
       "      <td>2006.0</td>\n",
       "    </tr>\n",
       "    <tr>\n",
       "      <th>217286</th>\n",
       "      <td>2</td>\n",
       "      <td>5</td>\n",
       "      <td>2004-09-01</td>\n",
       "      <td>angel</td>\n",
       "      <td>500000.0</td>\n",
       "      <td>0.0</td>\n",
       "      <td>2.0</td>\n",
       "      <td>0.0</td>\n",
       "      <td>1.0</td>\n",
       "      <td>2004.0</td>\n",
       "      <td>NaN</td>\n",
       "      <td>2004.0</td>\n",
       "    </tr>\n",
       "    <tr>\n",
       "      <th>217287</th>\n",
       "      <td>3</td>\n",
       "      <td>5</td>\n",
       "      <td>2005-05-01</td>\n",
       "      <td>series-a</td>\n",
       "      <td>12700000.0</td>\n",
       "      <td>115000000.0</td>\n",
       "      <td>3.0</td>\n",
       "      <td>0.0</td>\n",
       "      <td>0.0</td>\n",
       "      <td>2004.0</td>\n",
       "      <td>NaN</td>\n",
       "      <td>2005.0</td>\n",
       "    </tr>\n",
       "    <tr>\n",
       "      <th>217288</th>\n",
       "      <td>4</td>\n",
       "      <td>5</td>\n",
       "      <td>2006-04-01</td>\n",
       "      <td>series-b</td>\n",
       "      <td>27500000.0</td>\n",
       "      <td>525000000.0</td>\n",
       "      <td>4.0</td>\n",
       "      <td>0.0</td>\n",
       "      <td>0.0</td>\n",
       "      <td>2004.0</td>\n",
       "      <td>NaN</td>\n",
       "      <td>2006.0</td>\n",
       "    </tr>\n",
       "    <tr>\n",
       "      <th>202858</th>\n",
       "      <td>5</td>\n",
       "      <td>7299</td>\n",
       "      <td>2006-05-01</td>\n",
       "      <td>series-b</td>\n",
       "      <td>10500000.0</td>\n",
       "      <td>0.0</td>\n",
       "      <td>2.0</td>\n",
       "      <td>0.0</td>\n",
       "      <td>0.0</td>\n",
       "      <td>2003.0</td>\n",
       "      <td>NaN</td>\n",
       "      <td>2006.0</td>\n",
       "    </tr>\n",
       "  </tbody>\n",
       "</table>\n",
       "</div>"
      ],
      "text/plain": [
       "        funding_round_id  company_id  funded_at funding_round_type  \\\n",
       "165414                 1           4 2006-12-01           series-b   \n",
       "217286                 2           5 2004-09-01              angel   \n",
       "217287                 3           5 2005-05-01           series-a   \n",
       "217288                 4           5 2006-04-01           series-b   \n",
       "202858                 5        7299 2006-05-01           series-b   \n",
       "\n",
       "        raised_amount  pre_money_valuation  participants  is_first_round  \\\n",
       "165414      8500000.0                  0.0           2.0             0.0   \n",
       "217286       500000.0                  0.0           2.0             0.0   \n",
       "217287     12700000.0          115000000.0           3.0             0.0   \n",
       "217288     27500000.0          525000000.0           4.0             0.0   \n",
       "202858     10500000.0                  0.0           2.0             0.0   \n",
       "\n",
       "        is_last_round  founded_year  closed_year  funded_year  \n",
       "165414            0.0        2004.0          NaN       2006.0  \n",
       "217286            1.0        2004.0          NaN       2004.0  \n",
       "217287            0.0        2004.0          NaN       2005.0  \n",
       "217288            0.0        2004.0          NaN       2006.0  \n",
       "202858            0.0        2003.0          NaN       2006.0  "
      ]
     },
     "execution_count": 63,
     "metadata": {},
     "output_type": "execute_result"
    }
   ],
   "source": [
    "rounds.head()"
   ]
  },
  {
   "cell_type": "code",
   "execution_count": 64,
   "metadata": {},
   "outputs": [
    {
     "name": "stdout",
     "output_type": "stream",
     "text": [
      "<class 'pandas.core.frame.DataFrame'>\n",
      "Int64Index: 52928 entries, 165414 to 152354\n",
      "Data columns (total 12 columns):\n",
      " #   Column               Non-Null Count  Dtype         \n",
      "---  ------               --------------  -----         \n",
      " 0   funding_round_id     52928 non-null  int64         \n",
      " 1   company_id           52928 non-null  int64         \n",
      " 2   funded_at            52680 non-null  datetime64[ns]\n",
      " 3   funding_round_type   52928 non-null  object        \n",
      " 4   raised_amount        52928 non-null  float64       \n",
      " 5   pre_money_valuation  52928 non-null  float64       \n",
      " 6   participants         52928 non-null  float64       \n",
      " 7   is_first_round       52928 non-null  float64       \n",
      " 8   is_last_round        52928 non-null  float64       \n",
      " 9   founded_year         43196 non-null  float64       \n",
      " 10  closed_year          2943 non-null   float64       \n",
      " 11  funded_year          52680 non-null  float64       \n",
      "dtypes: datetime64[ns](1), float64(8), int64(2), object(1)\n",
      "memory usage: 5.2+ MB\n"
     ]
    }
   ],
   "source": [
    "# Проверка типа данных\n",
    "rounds.info()"
   ]
  },
  {
   "cell_type": "markdown",
   "metadata": {},
   "source": [
    "**Без пропусков** в датафрейме `rounds` содержится информация о     \n",
    "- company_id  — идентификатор компании.      \n",
    "- funded_at — дата финансирования.  \n",
    "- funding_round_type  — тип финансирования.      \n",
    "- raised_amount  — сумма финансирования.        \n",
    "- pre_money_valuation — предварительная денежная оценка.\n",
    "- participants  — число участников.           \n",
    "- is_first_round — является ли раунд первым.          \n",
    "- is_last_round — является раунд последним.       \n",
    "\n",
    "эти данные полны и позволят анализировать финансирование компаний\n",
    "\n",
    "**Пропуски** остались в столбцах \n",
    "- founded_year   — дата инвестирования.  \n",
    "- closed_year   — дата закрытия компании.       \n",
    "- funded_year   — дата финансирования. \n",
    "\n",
    "эти данные не так важны для анализа финансирования компаний, поэтому их можно оставить без изменений"
   ]
  },
  {
   "cell_type": "markdown",
   "metadata": {
    "id": "bmVYhphNrJg2"
   },
   "source": [
    "\n",
    "## Исследование данных объединённых таблиц"
   ]
  },
  {
   "cell_type": "markdown",
   "metadata": {
    "id": "3Di6tCT3rJg2"
   },
   "source": [
    "\n",
    "### Объединение данных\n",
    "\n",
    "В качестве основы для объединённой таблицы возьмем данные из обработанного датасета `company_and_rounds.csv`, отберем только те компании, у которых указаны значения `funding_rounds` или `investment_rounds` больше нуля, или те, у которых в колонке `status` указано `acquired`.\n",
    "\n",
    "Далее работаем только с этими данными."
   ]
  },
  {
   "cell_type": "code",
   "execution_count": 65,
   "metadata": {
    "id": "mGYqoHS7rJg2"
   },
   "outputs": [],
   "source": [
    "# Датафрейм со значениями раундов финансирования и инвестирования больше нуля и статусом компании acquired\n",
    "company_filtered = company[(company['funding_rounds']>0) | (company['investment_rounds']>0) | (company['status']=='acquired')]"
   ]
  },
  {
   "cell_type": "code",
   "execution_count": 66,
   "metadata": {},
   "outputs": [
    {
     "name": "stdout",
     "output_type": "stream",
     "text": [
      "<class 'pandas.core.frame.DataFrame'>\n",
      "Int64Index: 40747 entries, 0 to 152354\n",
      "Data columns (total 13 columns):\n",
      " #   Column             Non-Null Count  Dtype         \n",
      "---  ------             --------------  -----         \n",
      " 0   id                 40747 non-null  int64         \n",
      " 1   name               40747 non-null  object        \n",
      " 2   category_code      35315 non-null  object        \n",
      " 3   status             40747 non-null  object        \n",
      " 4   founded_at         27807 non-null  datetime64[ns]\n",
      " 5   closed_at          2128 non-null   datetime64[ns]\n",
      " 6   domain             35754 non-null  object        \n",
      " 7   network_username   20850 non-null  object        \n",
      " 8   country_code       34742 non-null  object        \n",
      " 9   investment_rounds  40747 non-null  float64       \n",
      " 10  funding_rounds     40747 non-null  float64       \n",
      " 11  funding_total      40747 non-null  float64       \n",
      " 12  milestones         40747 non-null  float64       \n",
      "dtypes: datetime64[ns](2), float64(4), int64(1), object(6)\n",
      "memory usage: 4.4+ MB\n"
     ]
    }
   ],
   "source": [
    "company_filtered.info()"
   ]
  },
  {
   "cell_type": "code",
   "execution_count": 67,
   "metadata": {
    "id": "vJZ4mO2Un1yt"
   },
   "outputs": [
    {
     "data": {
      "text/plain": [
       "(40747, 13)"
      ]
     },
     "execution_count": 67,
     "metadata": {},
     "output_type": "execute_result"
    }
   ],
   "source": [
    "company_filtered.shape"
   ]
  },
  {
   "cell_type": "markdown",
   "metadata": {
    "id": "DFHINkV3rJg2"
   },
   "source": [
    "\n",
    "### Анализ выбросов\n",
    "\n",
    "Заказчика интересует обычный для рассматриваемого периода размер средств, который предоставлялся компаниям."
   ]
  },
  {
   "cell_type": "code",
   "execution_count": 68,
   "metadata": {
    "id": "8jm75fKXrJg2"
   },
   "outputs": [
    {
     "data": {
      "text/plain": [
       "count    4.074700e+04\n",
       "mean     1.013561e+07\n",
       "std      5.646436e+07\n",
       "min      0.000000e+00\n",
       "25%      0.000000e+00\n",
       "50%      6.000000e+05\n",
       "75%      5.650650e+06\n",
       "max      5.700000e+09\n",
       "Name: funding_total, dtype: float64"
      ]
     },
     "execution_count": 68,
     "metadata": {},
     "output_type": "execute_result"
    }
   ],
   "source": [
    "# Разброс данных общего финансирования по столбцу funding_total\n",
    "company_filtered['funding_total'].describe()"
   ]
  },
  {
   "cell_type": "markdown",
   "metadata": {},
   "source": [
    "По разбросу значений видно, что распределение `funding_total` сильно асимметрично:\n",
    "\n",
    "- min = 0, max = 5.7 млрд.\n",
    "- среднее = 10,1 млн.\n",
    "- медиана = 600 тыс.\n",
    "- 75% квантиль = 5.65 млн.\n",
    "\n",
    "Среднее значительно больше медианы, что говорит о наличии выбросов. Гистограмма или boxplot на линейной шкале будет смещена из-за очень больших выбросов. Также сами значения и их разброс очень большие, что сделает нечитаемой визуализацию.\n",
    "\n",
    "В данном случае лучше использовать логарифмическую шкалу.\n",
    "\n",
    "Так как заказчика интересует стартапы получившие финансирование, отфильтруем значения `funding_total` равные 0."
   ]
  },
  {
   "cell_type": "code",
   "execution_count": 69,
   "metadata": {},
   "outputs": [],
   "source": [
    "# Отфильтруем значения funding_total равные 0\n",
    "company_filtered = company_filtered[company_filtered['funding_total'] > 0]"
   ]
  },
  {
   "cell_type": "code",
   "execution_count": 70,
   "metadata": {},
   "outputs": [
    {
     "data": {
      "text/plain": [
       "count    2.787400e+04\n",
       "mean     1.481652e+07\n",
       "std      6.775936e+07\n",
       "min      2.910000e+02\n",
       "25%      5.000000e+05\n",
       "50%      2.564500e+06\n",
       "75%      1.100000e+07\n",
       "max      5.700000e+09\n",
       "Name: funding_total, dtype: float64"
      ]
     },
     "execution_count": 70,
     "metadata": {},
     "output_type": "execute_result"
    }
   ],
   "source": [
    "# Разброс данных по столбцу funding_total со значениями больше 0\n",
    "company_filtered['funding_total'].describe()"
   ]
  },
  {
   "cell_type": "code",
   "execution_count": 71,
   "metadata": {
    "id": "dIWqyEomn2MU",
    "scrolled": false
   },
   "outputs": [
    {
     "data": {
      "image/png": "[encoded data removed]",
      "text/plain": [
       "<Figure size 720x432 with 1 Axes>"
      ]
     },
     "metadata": {
      "needs_background": "light"
     },
     "output_type": "display_data"
    }
   ],
   "source": [
    "# Гистограмма, чтобы посмотреть как распределяются размеры финансирования\n",
    "funding_log = np.log10(company_filtered['funding_total'] + 1)\n",
    "\n",
    "\n",
    "plt.figure(figsize=(10, 6))\n",
    "\n",
    "sns.histplot(funding_log, bins=100, kde=True, color='skyblue')\n",
    "\n",
    "plt.title('Распределение размеров финансирования (логарифмическая шкала)')\n",
    "plt.xlabel('Размеры финансирования (log10)')\n",
    "plt.ylabel('Частота')\n",
    "\n",
    "plt.show()"
   ]
  },
  {
   "cell_type": "code",
   "execution_count": 72,
   "metadata": {
    "scrolled": false
   },
   "outputs": [
    {
     "data": {
      "image/png": "[encoded data removed]",
      "text/plain": [
       "<Figure size 720x144 with 1 Axes>"
      ]
     },
     "metadata": {
      "needs_background": "light"
     },
     "output_type": "display_data"
    }
   ],
   "source": [
    "# Построим boxplot для оценки данных\n",
    "plt.figure(figsize=(10, 2))\n",
    "\n",
    "sns.boxplot(x=np.log10(company_filtered['funding_total'] + 1), color='skyblue')\n",
    "\n",
    "plt.title('Boxplot финансирования (логарифмическая шкала)')\n",
    "plt.xlabel('log10(funding_total)')\n",
    "plt.grid()\n",
    "plt.show()"
   ]
  },
  {
   "cell_type": "markdown",
   "metadata": {},
   "source": [
    "Теперь значения распределились так:\n",
    "\n",
    "- min = 291 , max = 5.7 млрд.\n",
    "- среднее = 14,8 млн.\n",
    "- медиана = 2,56 млн.\n",
    "- 75% квантиль = 11 млн.\n",
    "\n",
    "Среднее и медиана сильно отличаются. За типичное финансирование компании лучше взять медиану значений 2,56 млн, чтобы избежать влияния выбросов.\n",
    "\n",
    "Судя по боксплоту нетипичным, выбивающимся финансированием можно считать значения `funding_total` до 3,7 млн. и свыше 9 млн."
   ]
  },
  {
   "cell_type": "markdown",
   "metadata": {
    "id": "JqkRAQrIrJg2"
   },
   "source": [
    "\n",
    "### Анализ компаний с ненулевым объемом финансирования и купленных за ноль или за один доллар."
   ]
  },
  {
   "cell_type": "code",
   "execution_count": 73,
   "metadata": {},
   "outputs": [],
   "source": [
    "# Объединим датафреймы с информацией о покупке компаний и с информацией о финансировании, где общая сумма финансирования больше 0\n",
    "\n",
    "company_amount = acquisition.merge(company_filtered, left_on='acquired_company_id', right_on='id', how='left')"
   ]
  },
  {
   "cell_type": "code",
   "execution_count": 74,
   "metadata": {
    "id": "-kA4CO27n2ql"
   },
   "outputs": [],
   "source": [
    "# Стартапы проданные за 0 или за 1 доллар\n",
    "company_amount_zero = company_amount[(company_amount['price_amount'] == 0) | (company_amount['price_amount'] <=1)]\n"
   ]
  },
  {
   "cell_type": "code",
   "execution_count": 75,
   "metadata": {},
   "outputs": [
    {
     "name": "stdout",
     "output_type": "stream",
     "text": [
      "<class 'pandas.core.frame.DataFrame'>\n",
      "Int64Index: 6934 entries, 6 to 9403\n",
      "Data columns (total 19 columns):\n",
      " #   Column                Non-Null Count  Dtype         \n",
      "---  ------                --------------  -----         \n",
      " 0   id_x                  6934 non-null   int64         \n",
      " 1   acquiring_company_id  6934 non-null   int64         \n",
      " 2   acquired_company_id   6934 non-null   int64         \n",
      " 3   term_code             642 non-null    object        \n",
      " 4   price_amount          6934 non-null   int64         \n",
      " 5   acquired_at           6908 non-null   datetime64[ns]\n",
      " 6   id_y                  1618 non-null   float64       \n",
      " 7   name                  1618 non-null   object        \n",
      " 8   category_code         1553 non-null   object        \n",
      " 9   status                1618 non-null   object        \n",
      " 10  founded_at            1285 non-null   datetime64[ns]\n",
      " 11  closed_at             13 non-null     datetime64[ns]\n",
      " 12  domain                1546 non-null   object        \n",
      " 13  network_username      812 non-null    object        \n",
      " 14  country_code          1536 non-null   object        \n",
      " 15  investment_rounds     1618 non-null   float64       \n",
      " 16  funding_rounds        1618 non-null   float64       \n",
      " 17  funding_total         1618 non-null   float64       \n",
      " 18  milestones            1618 non-null   float64       \n",
      "dtypes: datetime64[ns](3), float64(5), int64(4), object(7)\n",
      "memory usage: 1.1+ MB\n"
     ]
    }
   ],
   "source": [
    "# Информация по получившемуся срезу\n",
    "company_amount_zero.info()"
   ]
  },
  {
   "cell_type": "markdown",
   "metadata": {},
   "source": [
    "Всего таких стартапов, купленных за 0 или до 1 доллара 6934."
   ]
  },
  {
   "cell_type": "code",
   "execution_count": 76,
   "metadata": {
    "scrolled": true
   },
   "outputs": [
    {
     "data": {
      "text/plain": [
       "count    1.618000e+03\n",
       "mean     1.815296e+07\n",
       "std      1.445030e+08\n",
       "min      3.750000e+03\n",
       "25%      2.000000e+06\n",
       "50%      6.000000e+06\n",
       "75%      1.550000e+07\n",
       "max      5.700000e+09\n",
       "Name: funding_total, dtype: float64"
      ]
     },
     "execution_count": 76,
     "metadata": {},
     "output_type": "execute_result"
    }
   ],
   "source": [
    "# Информация по этим данным\n",
    "company_amount_zero['funding_total'].describe()"
   ]
  },
  {
   "cell_type": "code",
   "execution_count": 77,
   "metadata": {
    "id": "dIWqyEomn2MU",
    "scrolled": false
   },
   "outputs": [
    {
     "data": {
      "image/png": "[encoded data removed]",
      "text/plain": [
       "<Figure size 720x432 with 1 Axes>"
      ]
     },
     "metadata": {
      "needs_background": "light"
     },
     "output_type": "display_data"
    }
   ],
   "source": [
    "# Построим гистограмму, чтобы посмотреть как распределяются размеры финансирования для дешевых стартапов\n",
    "funding_log = np.log10(company_amount_zero['funding_total'] + 1)\n",
    "\n",
    "\n",
    "plt.figure(figsize=(10, 6))\n",
    "\n",
    "sns.histplot(funding_log, bins=100, kde=True, color='skyblue')\n",
    "\n",
    "plt.title('Распределение размеров финансирования дешевых стартапов (логарифмическая шкала)')\n",
    "plt.xlabel('Размеры финансирования (log10)')\n",
    "plt.ylabel('Частота')\n",
    "\n",
    "plt.show()"
   ]
  },
  {
   "cell_type": "code",
   "execution_count": 78,
   "metadata": {
    "scrolled": true
   },
   "outputs": [
    {
     "data": {
      "image/png": "[encoded data removed]",
      "text/plain": [
       "<Figure size 720x144 with 1 Axes>"
      ]
     },
     "metadata": {
      "needs_background": "light"
     },
     "output_type": "display_data"
    }
   ],
   "source": [
    "# Построим boxplot для оценки данных\n",
    "plt.figure(figsize=(10, 2))\n",
    "\n",
    "sns.boxplot(x=np.log10(company_amount_zero['funding_total'] + 1), color='skyblue')\n",
    "\n",
    "plt.title('Boxplot финансирования дешевых стартапов (логарифмическая шкала)')\n",
    "plt.xlabel('log10(funding_total)')\n",
    "plt.grid()\n",
    "plt.show()"
   ]
  },
  {
   "cell_type": "markdown",
   "metadata": {},
   "source": [
    "Значения финансирования дешевых стартапов распределились так:\n",
    "\n",
    "- min = 3750 , max = 5,7 млрд.\n",
    "- среднее = 18,15 млн.\n",
    "- медиана = 6 млн.\n",
    "- 75% квантиль = 15,5 млн.\n",
    "\n",
    "Среднее и медиана сильно отличаются. За типичное финансирование компании лучше взять медиану значений, чтобы избежать влияния выбросов.\n",
    "\n",
    "Нетипичным, выбивающимся финансированием можно считать значения `funding_total` до 5 млн. и свыше 8,5 млн."
   ]
  },
  {
   "cell_type": "markdown",
   "metadata": {},
   "source": [
    "Рассчитаем аналитически верхнюю и нижнюю границу выбросов для столбца funding_total"
   ]
  },
  {
   "cell_type": "code",
   "execution_count": 79,
   "metadata": {},
   "outputs": [
    {
     "data": {
      "text/plain": [
       "'Нижняя граница: -18250000.0'"
      ]
     },
     "metadata": {},
     "output_type": "display_data"
    },
    {
     "data": {
      "text/plain": [
       "'Верхняя граница: 35750000.0'"
      ]
     },
     "metadata": {},
     "output_type": "display_data"
    }
   ],
   "source": [
    "# Посчитаем первый и третий квартили (25% и 75%)\n",
    "Q1 = company_amount_zero['funding_total'].quantile(0.25)\n",
    "Q3 = company_amount_zero['funding_total'].quantile(0.75) \n",
    "# Посчитаем межквартильный размах\n",
    "IQR = Q3 - Q1 \n",
    "# Посчитаем нижнюю и верхнюю границы выбросов\n",
    "lower_bound = Q1 - 1.5 * IQR\n",
    "upper_bound = Q3 + 1.5 * IQR\n",
    "\n",
    "display(f\"Нижняя граница: {lower_bound}\")\n",
    "display(f\"Верхняя граница: {upper_bound}\")"
   ]
  },
  {
   "cell_type": "markdown",
   "metadata": {},
   "source": [
    "Нижняя граница: -18250000.0\n",
    "Верхняя граница: 35750000.0\n",
    "\n",
    "Нижняя граница получилась отрицательной. Скорее всего это вызванно ассиметричностью данных, большим количеством маленьких значений и наличием выбросов. Так как финансирование не может быть отрицательным, то за нижнюю границу можно принять ноль."
   ]
  },
  {
   "cell_type": "code",
   "execution_count": 80,
   "metadata": {},
   "outputs": [
    {
     "data": {
      "text/plain": [
       "'Нижняя граница выбросов - 0.00%'"
      ]
     },
     "metadata": {},
     "output_type": "display_data"
    },
    {
     "data": {
      "text/plain": [
       "'Верхняя граница выбросов - 97.88%'"
      ]
     },
     "metadata": {},
     "output_type": "display_data"
    }
   ],
   "source": [
    "# Посчитаем каким процентилям соответствуют граицы выбросов\n",
    "lower_percentile = (company_amount_zero['funding_total'] < lower_bound).mean()*100\n",
    "upper_percentile = (company_amount_zero['funding_total'] > upper_bound).mean()*100\n",
    "\n",
    "display(f\"Нижняя граница выбросов - {lower_percentile:.2f}%\")\n",
    "display(f\"Верхняя граница выбросов - {100 - upper_percentile:.2f}%\")"
   ]
  },
  {
   "cell_type": "markdown",
   "metadata": {},
   "source": [
    "Границы выбросов соответствуют 0% и 76,67%"
   ]
  },
  {
   "cell_type": "markdown",
   "metadata": {
    "id": "mEiWpROjrJg2"
   },
   "source": [
    "\n",
    "### Цены стартапов по категориям"
   ]
  },
  {
   "cell_type": "code",
   "execution_count": 81,
   "metadata": {
    "scrolled": true
   },
   "outputs": [
    {
     "data": {
      "text/plain": [
       "count    9.407000e+03\n",
       "mean     3.932965e+08\n",
       "std      2.682198e+10\n",
       "min      0.000000e+00\n",
       "25%      0.000000e+00\n",
       "50%      0.000000e+00\n",
       "75%      2.343200e+04\n",
       "max      2.600000e+12\n",
       "Name: price_amount, dtype: float64"
      ]
     },
     "execution_count": 81,
     "metadata": {},
     "output_type": "execute_result"
    }
   ],
   "source": [
    "# Для разбиения на категории сначала выведем размах данных по ценам стартапов\n",
    "acquisition['price_amount'].describe()"
   ]
  },
  {
   "cell_type": "markdown",
   "metadata": {},
   "source": [
    "Судя по разбросу значений, в данных о ценах на стартапы присутствует много нулевых значений. Поскольку нам надо проанализировать стартапы с наибольшими ценами, отфильтруем нулевые значения"
   ]
  },
  {
   "cell_type": "code",
   "execution_count": 82,
   "metadata": {},
   "outputs": [],
   "source": [
    "# Создадим датафрейм без нулевых значений\n",
    "acquisition_notnull = acquisition[(acquisition['price_amount']>0) & (acquisition['price_amount']<2.600000e+12)]"
   ]
  },
  {
   "cell_type": "code",
   "execution_count": 83,
   "metadata": {},
   "outputs": [
    {
     "data": {
      "text/plain": [
       "count    2.475000e+03\n",
       "mean     4.443394e+08\n",
       "std      1.777543e+09\n",
       "min      1.000000e+00\n",
       "25%      1.260000e+07\n",
       "50%      5.600000e+07\n",
       "75%      2.627500e+08\n",
       "max      3.900000e+10\n",
       "Name: price_amount, dtype: float64"
      ]
     },
     "execution_count": 83,
     "metadata": {},
     "output_type": "execute_result"
    }
   ],
   "source": [
    "# Выведем размах данных по ценам стартапов без нулевых значений\n",
    "acquisition_notnull['price_amount'].describe()"
   ]
  },
  {
   "cell_type": "code",
   "execution_count": 84,
   "metadata": {},
   "outputs": [
    {
     "data": {
      "image/png": "[encoded data removed]",
      "text/plain": [
       "<Figure size 720x432 with 1 Axes>"
      ]
     },
     "metadata": {
      "needs_background": "light"
     },
     "output_type": "display_data"
    }
   ],
   "source": [
    "# Построим гистограмму, чтобы посмотреть как распределяются цены стартапов\n",
    "funding_log = np.log10(acquisition_notnull['price_amount'] + 1)\n",
    "\n",
    "\n",
    "plt.figure(figsize=(10, 6))\n",
    "\n",
    "sns.histplot(funding_log, bins=100, kde=True, color='skyblue')\n",
    "\n",
    "plt.title('Распределение размеров цен стартапов (логарифмическая шкала)')\n",
    "plt.xlabel('Цены стартапов (log10)')\n",
    "plt.ylabel('Частота')\n",
    "\n",
    "plt.show()"
   ]
  },
  {
   "cell_type": "code",
   "execution_count": 85,
   "metadata": {},
   "outputs": [
    {
     "data": {
      "image/png": "[encoded data removed]",
      "text/plain": [
       "<Figure size 720x144 with 1 Axes>"
      ]
     },
     "metadata": {
      "needs_background": "light"
     },
     "output_type": "display_data"
    }
   ],
   "source": [
    "# Построим boxplot для оценки данных\n",
    "plt.figure(figsize=(10, 2))\n",
    "\n",
    "sns.boxplot(x=np.log10(acquisition_notnull['price_amount'] + 1), color='skyblue')\n",
    "\n",
    "plt.title('Boxplot стоимости стартапов (логарифмическая шкала)')\n",
    "plt.xlabel('log10(funding_total)')\n",
    "plt.grid()\n",
    "plt.show()"
   ]
  },
  {
   "cell_type": "markdown",
   "metadata": {},
   "source": [
    "Поскольку у нас нет явных критериев от заказчика для разбиения по ценам стартапов, то примем такую категоризацию:\n",
    "- Малые < 1 млн,\n",
    "- Средние 1 млн - 10 млн,\n",
    "- Крупные 10 млн - 100 млн,\n",
    "- Очень крупные 100M - 10 млрд,\n",
    "- Гиганты > 10 млрд\""
   ]
  },
  {
   "cell_type": "code",
   "execution_count": 86,
   "metadata": {},
   "outputs": [],
   "source": [
    "# Разделим цены стартапов по категориям:\n",
    "\n",
    "bins = [-float('inf'), 1_000_000, 10_000_000, 100_000_000, 10_000_000_000, float('inf')]\n",
    "\n",
    "labels = [\"Малые\", \"Средние\", \"Крупные\", \"Очень крупные\", \"Гиганты\"]\n",
    "\n",
    "acquisition_notnull = acquisition_notnull.copy()\n",
    "\n",
    "acquisition_notnull['category_amount'] = pd.cut(acquisition_notnull['price_amount'], bins=bins, labels=labels)"
   ]
  },
  {
   "cell_type": "code",
   "execution_count": 87,
   "metadata": {
    "id": "MFONscXPn29F"
   },
   "outputs": [
    {
     "data": {
      "text/html": [
       "<div>\n",
       "<style scoped>\n",
       "    .dataframe tbody tr th:only-of-type {\n",
       "        vertical-align: middle;\n",
       "    }\n",
       "\n",
       "    .dataframe tbody tr th {\n",
       "        vertical-align: top;\n",
       "    }\n",
       "\n",
       "    .dataframe thead th {\n",
       "        text-align: right;\n",
       "    }\n",
       "</style>\n",
       "<table border=\"1\" class=\"dataframe\">\n",
       "  <thead>\n",
       "    <tr style=\"text-align: right;\">\n",
       "      <th></th>\n",
       "      <th>id</th>\n",
       "      <th>acquiring_company_id</th>\n",
       "      <th>acquired_company_id</th>\n",
       "      <th>term_code</th>\n",
       "      <th>price_amount</th>\n",
       "      <th>acquired_at</th>\n",
       "      <th>category_amount</th>\n",
       "    </tr>\n",
       "  </thead>\n",
       "  <tbody>\n",
       "    <tr>\n",
       "      <th>0</th>\n",
       "      <td>1</td>\n",
       "      <td>11</td>\n",
       "      <td>10</td>\n",
       "      <td>NaN</td>\n",
       "      <td>20000000</td>\n",
       "      <td>2007-05-30</td>\n",
       "      <td>Крупные</td>\n",
       "    </tr>\n",
       "    <tr>\n",
       "      <th>1</th>\n",
       "      <td>7</td>\n",
       "      <td>59</td>\n",
       "      <td>72</td>\n",
       "      <td>cash</td>\n",
       "      <td>60000000</td>\n",
       "      <td>2007-07-01</td>\n",
       "      <td>Крупные</td>\n",
       "    </tr>\n",
       "    <tr>\n",
       "      <th>2</th>\n",
       "      <td>8</td>\n",
       "      <td>24</td>\n",
       "      <td>132</td>\n",
       "      <td>cash</td>\n",
       "      <td>280000000</td>\n",
       "      <td>2007-05-01</td>\n",
       "      <td>Очень крупные</td>\n",
       "    </tr>\n",
       "    <tr>\n",
       "      <th>3</th>\n",
       "      <td>9</td>\n",
       "      <td>59</td>\n",
       "      <td>155</td>\n",
       "      <td>cash</td>\n",
       "      <td>100000000</td>\n",
       "      <td>2007-06-01</td>\n",
       "      <td>Крупные</td>\n",
       "    </tr>\n",
       "    <tr>\n",
       "      <th>4</th>\n",
       "      <td>10</td>\n",
       "      <td>212</td>\n",
       "      <td>215</td>\n",
       "      <td>cash</td>\n",
       "      <td>25000000</td>\n",
       "      <td>2007-07-01</td>\n",
       "      <td>Крупные</td>\n",
       "    </tr>\n",
       "  </tbody>\n",
       "</table>\n",
       "</div>"
      ],
      "text/plain": [
       "   id  acquiring_company_id  acquired_company_id term_code  price_amount  \\\n",
       "0   1                    11                   10       NaN      20000000   \n",
       "1   7                    59                   72      cash      60000000   \n",
       "2   8                    24                  132      cash     280000000   \n",
       "3   9                    59                  155      cash     100000000   \n",
       "4  10                   212                  215      cash      25000000   \n",
       "\n",
       "  acquired_at category_amount  \n",
       "0  2007-05-30         Крупные  \n",
       "1  2007-07-01         Крупные  \n",
       "2  2007-05-01   Очень крупные  \n",
       "3  2007-06-01         Крупные  \n",
       "4  2007-07-01         Крупные  "
      ]
     },
     "execution_count": 87,
     "metadata": {},
     "output_type": "execute_result"
    }
   ],
   "source": [
    "# Выведем несколько строк датафрейма с новым столбцом категорий\n",
    "acquisition_notnull.head()"
   ]
  },
  {
   "cell_type": "code",
   "execution_count": 88,
   "metadata": {},
   "outputs": [
    {
     "data": {
      "text/plain": [
       "category_amount\n",
       "Гиганты          2.033636e+10\n",
       "Очень крупные    8.516465e+08\n",
       "Крупные          4.227518e+07\n",
       "Средние          5.572358e+06\n",
       "Малые            1.780031e+05\n",
       "Name: price_amount, dtype: float64"
      ]
     },
     "execution_count": 88,
     "metadata": {},
     "output_type": "execute_result"
    }
   ],
   "source": [
    "# Посчитаем среднюю цену по категориям\n",
    "category_amount_mean = acquisition_notnull.groupby('category_amount')['price_amount'].mean().sort_values(ascending=False)\n",
    "category_amount_mean"
   ]
  },
  {
   "cell_type": "code",
   "execution_count": 89,
   "metadata": {},
   "outputs": [
    {
     "data": {
      "image/png": "[encoded data removed]",
      "text/plain": [
       "<Figure size 432x288 with 1 Axes>"
      ]
     },
     "metadata": {
      "needs_background": "light"
     },
     "output_type": "display_data"
    },
    {
     "data": {
      "text/plain": [
       "<Figure size 1152x1152 with 0 Axes>"
      ]
     },
     "metadata": {},
     "output_type": "display_data"
    }
   ],
   "source": [
    "# Посмотрим для наглядности цены на столбчатой диаграмме\n",
    "category_amount_mean.plot.bar(legend=True,\n",
    "                title='Средние цены на стартапы по категориям',  \n",
    "                ylabel='Средние цены',  \n",
    "                xlabel='',\n",
    "                color='skyblue',\n",
    "                edgecolor='black',                                                                   \n",
    "                rot=0)\n",
    "sns.set_style(\"whitegrid\")\n",
    "plt.figure(figsize=(16, 16))\n",
    "plt.show()"
   ]
  },
  {
   "cell_type": "markdown",
   "metadata": {},
   "source": [
    "Наибольшие средние цены за стартапы в категории Гиганты."
   ]
  },
  {
   "cell_type": "code",
   "execution_count": 90,
   "metadata": {},
   "outputs": [],
   "source": [
    "# Разделим цены стартапов c нулевыми ценами по категориям:\n",
    "\n",
    "bins = [-float('inf'), 1_000_000, 10_000_000, 100_000_000, 10_000_000_000, float('inf')]\n",
    "\n",
    "labels = [\"Малые\", \"Средние\", \"Крупные\", \"Очень крупные\", \"Гиганты\"]\n",
    "\n",
    "#acquisition = acquisition.copy()\n",
    "\n",
    "acquisition['category_amount'] = pd.cut(acquisition['price_amount'], bins=bins, labels=labels)"
   ]
  },
  {
   "cell_type": "code",
   "execution_count": 91,
   "metadata": {},
   "outputs": [
    {
     "data": {
      "text/plain": [
       "category_amount\n",
       "Гиганты          7.447499e+11\n",
       "Очень крупные    1.419966e+09\n",
       "Крупные          2.524088e+07\n",
       "Средние          2.991086e+06\n",
       "Малые            6.027085e+04\n",
       "Name: price_amount, dtype: float64"
      ]
     },
     "execution_count": 91,
     "metadata": {},
     "output_type": "execute_result"
    }
   ],
   "source": [
    "# Посчитаем разброс цен как стандартное отклонение по категориям учитывая нулевые значения\n",
    "category_amount_std = acquisition.groupby('category_amount')['price_amount'].std().sort_values(ascending=False)\n",
    "category_amount_std"
   ]
  },
  {
   "cell_type": "code",
   "execution_count": 92,
   "metadata": {},
   "outputs": [
    {
     "data": {
      "image/png": "[encoded data removed]",
      "text/plain": [
       "<Figure size 432x288 with 1 Axes>"
      ]
     },
     "metadata": {},
     "output_type": "display_data"
    },
    {
     "data": {
      "text/plain": [
       "<Figure size 1152x1152 with 0 Axes>"
      ]
     },
     "metadata": {},
     "output_type": "display_data"
    }
   ],
   "source": [
    "# Посмотрим для наглядности разброс цен на столбчатой диаграмме\n",
    "category_amount_std.plot.bar(legend=True,\n",
    "                title='Разброс цен на стартапы по категориям',  \n",
    "                ylabel='Разброс цен',  \n",
    "                xlabel='',\n",
    "                color='skyblue',\n",
    "                edgecolor='black',                                                                   \n",
    "                rot=0)\n",
    "sns.set_style(\"whitegrid\")\n",
    "plt.figure(figsize=(16, 16))\n",
    "plt.show()"
   ]
  },
  {
   "cell_type": "markdown",
   "metadata": {},
   "source": [
    "Наибольший разброс цен в категории  Гиганты."
   ]
  },
  {
   "cell_type": "markdown",
   "metadata": {},
   "source": [
    "Наибольший интерес по цене представляют крупные компании, но при этом они же связаны с большими рисками, так как имеют больший разброс цен."
   ]
  },
  {
   "cell_type": "markdown",
   "metadata": {
    "id": "ADOfyVY_rJg3"
   },
   "source": [
    "\n",
    "### Анализ количества раундов финансирования перед покупкой"
   ]
  },
  {
   "cell_type": "code",
   "execution_count": 93,
   "metadata": {},
   "outputs": [
    {
     "data": {
      "text/plain": [
       "count    27874.000000\n",
       "mean         1.736852\n",
       "std          1.254916\n",
       "min          1.000000\n",
       "25%          1.000000\n",
       "50%          1.000000\n",
       "75%          2.000000\n",
       "max         15.000000\n",
       "Name: funding_rounds, dtype: float64"
      ]
     },
     "execution_count": 93,
     "metadata": {},
     "output_type": "execute_result"
    }
   ],
   "source": [
    "# Посмотрим на значения в стобце funding_rounds\n",
    "company_filtered['funding_rounds'].describe()"
   ]
  },
  {
   "cell_type": "markdown",
   "metadata": {},
   "source": [
    "Так как максимальное значение сильно выделяется и медиана значительно меньше среднего, значения в данных неравномерны. Поэтому за типичное среднее количество раундов лучше взять значение медианы."
   ]
  },
  {
   "cell_type": "code",
   "execution_count": 94,
   "metadata": {
    "id": "hgXMPC4WrJg3"
   },
   "outputs": [
    {
     "data": {
      "text/plain": [
       "status\n",
       "acquired     2.0\n",
       "closed       1.0\n",
       "ipo          2.0\n",
       "operating    1.0\n",
       "Name: funding_rounds, dtype: float64"
      ]
     },
     "execution_count": 94,
     "metadata": {},
     "output_type": "execute_result"
    }
   ],
   "source": [
    "# Посчитаем типичное значение числа раундов финансирования по статусам\n",
    "company_filtered.groupby('status')['funding_rounds'].median()"
   ]
  },
  {
   "cell_type": "code",
   "execution_count": 95,
   "metadata": {},
   "outputs": [
    {
     "data": {
      "image/png": "[encoded data removed]",
      "text/plain": [
       "<Figure size 432x288 with 1 Axes>"
      ]
     },
     "metadata": {},
     "output_type": "display_data"
    },
    {
     "data": {
      "text/plain": [
       "<Figure size 1152x1152 with 0 Axes>"
      ]
     },
     "metadata": {},
     "output_type": "display_data"
    }
   ],
   "source": [
    "# Выведем типичное значение числа раундов финансирования по статусам на диаграмме\n",
    "company_filtered.groupby('status')['funding_rounds'].median().sort_values(ascending=False).plot.bar(legend=True,\n",
    "                title='Среднее число раундов финансирования по статусам',  \n",
    "                ylabel='Среднее число раундов',  \n",
    "                xlabel='Статус компании',\n",
    "                color='skyblue',\n",
    "                edgecolor='black',                                                                   \n",
    "                rot=0)\n",
    "sns.set_style(\"whitegrid\")\n",
    "plt.figure(figsize=(16, 16))\n",
    "plt.show()"
   ]
  },
  {
   "cell_type": "markdown",
   "metadata": {},
   "source": [
    "Наибольшее среднее количество раундов в категории купленных компаний acquired и со статусом ipo - вышедших на фондовый рынок.\n",
    "\n",
    "До стадии IPO доходят только самые успешные стартапы и соответственно число раундов финансирования, как правило, больше чем у остальных стадий развития стартапов."
   ]
  },
  {
   "cell_type": "markdown",
   "metadata": {
    "id": "VAFEZ2HBrJg3"
   },
   "source": [
    "\n",
    "## Итоговый вывод и рекомендации\n",
    "\n",
    "Опишите, что было сделано в проекте, какие были сделаны выводы, подкрепляют ли они друг друга или заставляют сомневаться в полученных результатах."
   ]
  },
  {
   "cell_type": "markdown",
   "metadata": {},
   "source": [
    "**В ходе проекта были проведены**\n",
    "\n",
    "- Сбор и подготовка данных: Данные были очищены от пропущенных значений и дубликатов и приведены к удобному для анализа формату, проведены разделение либо объединение таблиц, необходимых для анализа.\n",
    "\n",
    "- Анализ данных: Были исследованы основные статистические характеристики, проведена визуализация распределений и выявлены возможные закономерности.\n",
    "\n",
    "- Оценка результатов: Проведен анализ метрик и проверка гипотез.\n",
    "\n",
    "### Выводы:\n",
    "\n",
    "Полученные результаты подтвердили гипотезу о том полнота сведений о сотрудниках (например, об их образовании) зависит от размера компаний. Чем меньше компания, тем меньше информации о сотрудниках.\n",
    "\n",
    "В ходе анализа определен типичный общий размер финансирования одной компании в 2,56 млн\n",
    "\n",
    "Выявлены компании которые были проданы за ноль или за один доллар, и при этом известно, что у них был ненулевой общий объём финансирования.\n",
    "\n",
    "Компании стартапов разбиты на категории:\n",
    "- Малые < 1 млн,\n",
    "- Средние 1 млн - 10 млн,\n",
    "- Крупные 10 млн - 100 млн,\n",
    "- Очень крупные 100M - 1 млрд,\n",
    "- Гиганты > 1 млрд\"\n",
    "\n",
    "Проведен анализ типичных цен на стартапы и наибольший разброс цен за стартап.  Наибольший интерес по цене представляют крупные компании - категория Гиганты, но при этом они же связаны с большими рисками, так как имеют больший разброс цен.\n",
    "\n",
    "Проанализированы данные о количестве раундов финансирования стартапов по группам:\n",
    "\n",
    "- acquired \n",
    "- closed\n",
    "- ipo\n",
    "- operating\n",
    "\n",
    "В среднем в каждой группе проходит от 1 до 2 раундов. Наибольшее среднее количество раундов финансирования проходят купленные компание и компании со статусом ipo - вышедшие на фондовый рынок."
   ]
  },
  {
   "cell_type": "markdown",
   "metadata": {},
   "source": [
    "### Рекомендации\n",
    "\n",
    "**Повысить прозрачность данных**\n",
    "- Требовать от стартапов минимальный набор сведений (о команде, образовании, стадиях).\n",
    "- Отдавать приоритет компаниям с полной и достоверной отчетностью.\n",
    "\n",
    "**Усилить контроль крупных инвестиций**\n",
    "- Проводить углублённую комплексную оценку компаний, выбраных для крупных инвестиций.\n",
    "- Финансировать поэтапно, при достижении установленного KPI.\n",
    "\n",
    "**Проанализировать неудачные сделки**\n",
    "- Выявить признаки стартапов, проданных за 0–1 доллар.\n",
    "- Создать/обновить скоринговую модель отбора.\n",
    "\n",
    "**Учитывать профиль команды**\n",
    "- Включить уровень образования и опыта основателей в критерии оценки.\n",
    "- Повышать вес прозрачности данных о команде.\n",
    "\n",
    "**Разделить стартапы по категориям риска**\n",
    "\n",
    "- До 3 млн руб — поддержка и менторство.\n",
    "- 3–9 млн руб — основной фокус инвестиций.\n",
    "- 9 млн руб — высокий риск, строгие контрольные точки.\n",
    "\n",
    "**Учесть динамику по годам**\n",
    "- Анализировать причины снижения активности после 2005 года.\n",
    "- Сместить фокус на перспективные ниши с ростом.\n",
    "\n",
    "**Инвестировать в аналитику и автоматизацию**\n",
    "- Создать единую систему мониторинга стартапов.\n",
    "- Применять модели для прогнозирования успешности.\n"
   ]
  }
 ],
 "metadata": {
  "ExecuteTimeLog": [
   {
    "duration": 4,
    "start_time": "2025-02-03T11:53:19.604Z"
   },
   {
    "duration": 48,
    "start_time": "2025-02-03T11:55:10.435Z"
   },
   {
    "duration": 15033,
    "start_time": "2025-02-03T11:55:20.575Z"
   },
   {
    "duration": 1065,
    "start_time": "2025-02-03T11:55:35.611Z"
   },
   {
    "duration": 69,
    "start_time": "2025-02-03T12:02:32.848Z"
   },
   {
    "duration": 1958,
    "start_time": "2025-02-03T12:03:53.164Z"
   },
   {
    "duration": 16,
    "start_time": "2025-02-03T12:09:19.011Z"
   },
   {
    "duration": 24,
    "start_time": "2025-02-03T12:11:21.273Z"
   },
   {
    "duration": 8,
    "start_time": "2025-02-03T12:11:22.329Z"
   },
   {
    "duration": 8,
    "start_time": "2025-02-03T12:11:23.718Z"
   },
   {
    "duration": 8,
    "start_time": "2025-02-03T12:11:24.460Z"
   },
   {
    "duration": 10,
    "start_time": "2025-02-03T12:11:25.090Z"
   },
   {
    "duration": 8,
    "start_time": "2025-02-03T12:11:25.688Z"
   },
   {
    "duration": 9,
    "start_time": "2025-02-03T12:11:26.373Z"
   },
   {
    "duration": 35,
    "start_time": "2025-02-03T12:12:48.803Z"
   },
   {
    "duration": 2454,
    "start_time": "2025-02-03T12:35:19.510Z"
   },
   {
    "duration": 33,
    "start_time": "2025-02-03T12:35:22.819Z"
   },
   {
    "duration": 3714,
    "start_time": "2025-02-03T12:35:32.254Z"
   },
   {
    "duration": 2074,
    "start_time": "2025-02-03T12:35:35.970Z"
   },
   {
    "duration": 114,
    "start_time": "2025-02-03T12:35:38.045Z"
   },
   {
    "duration": 0,
    "start_time": "2025-02-03T12:35:38.161Z"
   },
   {
    "duration": 0,
    "start_time": "2025-02-03T12:35:38.163Z"
   },
   {
    "duration": 0,
    "start_time": "2025-02-03T12:35:38.164Z"
   },
   {
    "duration": 0,
    "start_time": "2025-02-03T12:35:38.165Z"
   },
   {
    "duration": 0,
    "start_time": "2025-02-03T12:35:38.166Z"
   },
   {
    "duration": 0,
    "start_time": "2025-02-03T12:35:38.167Z"
   },
   {
    "duration": 39,
    "start_time": "2025-02-03T12:37:42.262Z"
   },
   {
    "duration": 9,
    "start_time": "2025-02-03T12:37:45.044Z"
   },
   {
    "duration": 7,
    "start_time": "2025-02-03T12:37:45.344Z"
   },
   {
    "duration": 10,
    "start_time": "2025-02-03T12:37:45.592Z"
   },
   {
    "duration": 10,
    "start_time": "2025-02-03T12:37:45.808Z"
   },
   {
    "duration": 7,
    "start_time": "2025-02-03T12:37:46.063Z"
   },
   {
    "duration": 10,
    "start_time": "2025-02-03T12:37:47.706Z"
   },
   {
    "duration": 9,
    "start_time": "2025-02-03T12:39:54.660Z"
   },
   {
    "duration": 5,
    "start_time": "2025-02-03T12:40:41.026Z"
   },
   {
    "duration": 6,
    "start_time": "2025-02-03T12:41:07.796Z"
   },
   {
    "duration": 4,
    "start_time": "2025-02-03T12:41:17.585Z"
   },
   {
    "duration": 5,
    "start_time": "2025-02-03T12:44:48.125Z"
   },
   {
    "duration": 3,
    "start_time": "2025-02-03T12:49:05.063Z"
   },
   {
    "duration": 10,
    "start_time": "2025-02-03T12:50:50.210Z"
   },
   {
    "duration": 10,
    "start_time": "2025-02-03T12:57:54.673Z"
   },
   {
    "duration": 3608,
    "start_time": "2025-02-03T12:58:05.502Z"
   },
   {
    "duration": 5791,
    "start_time": "2025-02-03T12:58:09.112Z"
   },
   {
    "duration": 40,
    "start_time": "2025-02-03T12:58:14.904Z"
   },
   {
    "duration": 4,
    "start_time": "2025-02-03T12:58:14.945Z"
   },
   {
    "duration": 122,
    "start_time": "2025-02-03T12:58:14.950Z"
   },
   {
    "duration": 0,
    "start_time": "2025-02-03T12:58:15.073Z"
   },
   {
    "duration": 0,
    "start_time": "2025-02-03T12:58:15.075Z"
   },
   {
    "duration": 0,
    "start_time": "2025-02-03T12:58:15.076Z"
   },
   {
    "duration": 0,
    "start_time": "2025-02-03T12:58:15.077Z"
   },
   {
    "duration": 0,
    "start_time": "2025-02-03T12:58:15.078Z"
   },
   {
    "duration": 0,
    "start_time": "2025-02-03T12:58:15.079Z"
   },
   {
    "duration": 3,
    "start_time": "2025-02-03T13:00:01.381Z"
   },
   {
    "duration": 7,
    "start_time": "2025-02-03T13:00:16.037Z"
   },
   {
    "duration": 3726,
    "start_time": "2025-02-03T13:01:00.526Z"
   },
   {
    "duration": 2044,
    "start_time": "2025-02-03T13:01:04.255Z"
   },
   {
    "duration": 39,
    "start_time": "2025-02-03T13:01:06.301Z"
   },
   {
    "duration": 157,
    "start_time": "2025-02-03T13:01:06.342Z"
   },
   {
    "duration": 27,
    "start_time": "2025-02-03T13:01:06.501Z"
   },
   {
    "duration": 44,
    "start_time": "2025-02-03T13:01:06.530Z"
   },
   {
    "duration": 35,
    "start_time": "2025-02-03T13:01:06.575Z"
   },
   {
    "duration": 83,
    "start_time": "2025-02-03T13:01:06.611Z"
   },
   {
    "duration": 42,
    "start_time": "2025-02-03T13:01:06.696Z"
   },
   {
    "duration": 11,
    "start_time": "2025-02-03T13:01:06.739Z"
   },
   {
    "duration": 15,
    "start_time": "2025-02-03T13:01:06.751Z"
   },
   {
    "duration": 109,
    "start_time": "2025-02-03T14:47:57.650Z"
   },
   {
    "duration": 37,
    "start_time": "2025-02-03T14:53:31.798Z"
   },
   {
    "duration": 8,
    "start_time": "2025-02-03T14:54:07.019Z"
   },
   {
    "duration": 12,
    "start_time": "2025-02-03T14:55:11.709Z"
   },
   {
    "duration": 11,
    "start_time": "2025-02-03T14:55:28.646Z"
   },
   {
    "duration": 25,
    "start_time": "2025-02-03T14:55:50.322Z"
   },
   {
    "duration": 20,
    "start_time": "2025-02-03T14:56:14.569Z"
   },
   {
    "duration": 13,
    "start_time": "2025-02-03T14:56:42.837Z"
   },
   {
    "duration": 10,
    "start_time": "2025-02-03T14:57:27.728Z"
   },
   {
    "duration": 52,
    "start_time": "2025-02-03T14:57:57.106Z"
   },
   {
    "duration": 10,
    "start_time": "2025-02-03T14:58:46.084Z"
   },
   {
    "duration": 8,
    "start_time": "2025-02-03T14:58:58.781Z"
   },
   {
    "duration": 3736,
    "start_time": "2025-02-03T15:32:44.699Z"
   },
   {
    "duration": 1918,
    "start_time": "2025-02-03T15:32:48.437Z"
   },
   {
    "duration": 48,
    "start_time": "2025-02-03T15:32:50.357Z"
   },
   {
    "duration": 14,
    "start_time": "2025-02-03T15:32:50.407Z"
   },
   {
    "duration": 5,
    "start_time": "2025-02-03T15:32:50.423Z"
   },
   {
    "duration": 126,
    "start_time": "2025-02-03T15:32:50.430Z"
   },
   {
    "duration": 8,
    "start_time": "2025-02-03T15:32:50.557Z"
   },
   {
    "duration": 24,
    "start_time": "2025-02-03T15:32:50.566Z"
   },
   {
    "duration": 12,
    "start_time": "2025-02-03T15:32:50.591Z"
   },
   {
    "duration": 27,
    "start_time": "2025-02-03T15:32:50.604Z"
   },
   {
    "duration": 7,
    "start_time": "2025-02-03T15:32:50.632Z"
   },
   {
    "duration": 32,
    "start_time": "2025-02-03T15:32:50.640Z"
   },
   {
    "duration": 28,
    "start_time": "2025-02-03T15:32:50.673Z"
   },
   {
    "duration": 22,
    "start_time": "2025-02-03T15:32:50.703Z"
   },
   {
    "duration": 23,
    "start_time": "2025-02-03T15:32:50.726Z"
   },
   {
    "duration": 31,
    "start_time": "2025-02-03T15:32:50.751Z"
   },
   {
    "duration": 11,
    "start_time": "2025-02-03T15:32:50.783Z"
   },
   {
    "duration": 53,
    "start_time": "2025-02-03T15:32:50.796Z"
   },
   {
    "duration": 35,
    "start_time": "2025-02-03T15:34:17.713Z"
   },
   {
    "duration": 5,
    "start_time": "2025-02-03T15:39:47.448Z"
   },
   {
    "duration": 6,
    "start_time": "2025-02-03T15:40:30.991Z"
   },
   {
    "duration": 2143,
    "start_time": "2025-02-03T16:21:24.089Z"
   },
   {
    "duration": 38,
    "start_time": "2025-02-03T16:21:26.234Z"
   },
   {
    "duration": 4324,
    "start_time": "2025-02-03T16:22:32.103Z"
   },
   {
    "duration": 10,
    "start_time": "2025-02-03T16:23:34.784Z"
   },
   {
    "duration": 13,
    "start_time": "2025-02-03T16:23:54.149Z"
   },
   {
    "duration": 8,
    "start_time": "2025-02-03T16:24:35.116Z"
   },
   {
    "duration": 11,
    "start_time": "2025-02-03T16:24:35.849Z"
   },
   {
    "duration": 1080,
    "start_time": "2025-02-03T17:45:24.251Z"
   },
   {
    "duration": 9,
    "start_time": "2025-02-03T17:45:45.818Z"
   },
   {
    "duration": 13,
    "start_time": "2025-02-03T17:46:09.165Z"
   },
   {
    "duration": 6,
    "start_time": "2025-02-03T17:46:41.272Z"
   },
   {
    "duration": 5,
    "start_time": "2025-02-03T17:47:03.913Z"
   },
   {
    "duration": 5,
    "start_time": "2025-02-03T17:47:11.300Z"
   },
   {
    "duration": 13,
    "start_time": "2025-02-03T17:49:58.536Z"
   },
   {
    "duration": 11,
    "start_time": "2025-02-03T17:50:24.317Z"
   },
   {
    "duration": 3619,
    "start_time": "2025-02-03T17:51:02.665Z"
   },
   {
    "duration": 2327,
    "start_time": "2025-02-03T17:51:06.286Z"
   },
   {
    "duration": 89,
    "start_time": "2025-02-03T17:51:08.614Z"
   },
   {
    "duration": 3,
    "start_time": "2025-02-03T17:51:08.705Z"
   },
   {
    "duration": 12,
    "start_time": "2025-02-03T17:51:08.710Z"
   },
   {
    "duration": 18,
    "start_time": "2025-02-03T17:51:08.723Z"
   },
   {
    "duration": 118,
    "start_time": "2025-02-03T17:51:08.742Z"
   },
   {
    "duration": 8,
    "start_time": "2025-02-03T17:51:08.862Z"
   },
   {
    "duration": 36,
    "start_time": "2025-02-03T17:51:08.872Z"
   },
   {
    "duration": 8,
    "start_time": "2025-02-03T17:51:08.910Z"
   },
   {
    "duration": 29,
    "start_time": "2025-02-03T17:51:08.920Z"
   },
   {
    "duration": 88,
    "start_time": "2025-02-03T17:51:08.952Z"
   },
   {
    "duration": 21,
    "start_time": "2025-02-03T17:51:09.042Z"
   },
   {
    "duration": 9,
    "start_time": "2025-02-03T17:51:09.066Z"
   },
   {
    "duration": 13,
    "start_time": "2025-02-03T17:51:09.077Z"
   },
   {
    "duration": 6,
    "start_time": "2025-02-03T17:51:09.091Z"
   },
   {
    "duration": 30,
    "start_time": "2025-02-03T17:51:09.099Z"
   },
   {
    "duration": 15,
    "start_time": "2025-02-03T17:51:09.131Z"
   },
   {
    "duration": 46,
    "start_time": "2025-02-03T17:51:09.147Z"
   },
   {
    "duration": 9,
    "start_time": "2025-02-03T17:51:09.195Z"
   },
   {
    "duration": 19,
    "start_time": "2025-02-03T17:51:09.205Z"
   },
   {
    "duration": 6,
    "start_time": "2025-02-03T17:51:09.225Z"
   },
   {
    "duration": 20,
    "start_time": "2025-02-03T17:51:09.232Z"
   },
   {
    "duration": 52,
    "start_time": "2025-02-03T20:31:03.686Z"
   },
   {
    "duration": 4836,
    "start_time": "2025-02-03T20:31:33.531Z"
   },
   {
    "duration": 2608,
    "start_time": "2025-02-03T20:31:38.370Z"
   },
   {
    "duration": 39,
    "start_time": "2025-02-03T20:31:40.979Z"
   },
   {
    "duration": 4,
    "start_time": "2025-02-03T20:31:41.020Z"
   },
   {
    "duration": 5,
    "start_time": "2025-02-03T20:31:41.026Z"
   },
   {
    "duration": 11,
    "start_time": "2025-02-03T20:31:41.033Z"
   },
   {
    "duration": 126,
    "start_time": "2025-02-03T20:31:41.046Z"
   },
   {
    "duration": 8,
    "start_time": "2025-02-03T20:31:41.174Z"
   },
   {
    "duration": 31,
    "start_time": "2025-02-03T20:31:41.183Z"
   },
   {
    "duration": 8,
    "start_time": "2025-02-03T20:31:41.215Z"
   },
   {
    "duration": 32,
    "start_time": "2025-02-03T20:31:41.225Z"
   },
   {
    "duration": 7,
    "start_time": "2025-02-03T20:31:41.258Z"
   },
   {
    "duration": 18,
    "start_time": "2025-02-03T20:31:41.267Z"
   },
   {
    "duration": 34,
    "start_time": "2025-02-03T20:31:41.287Z"
   },
   {
    "duration": 16,
    "start_time": "2025-02-03T20:31:41.323Z"
   },
   {
    "duration": 7,
    "start_time": "2025-02-03T20:31:41.340Z"
   },
   {
    "duration": 15,
    "start_time": "2025-02-03T20:31:41.348Z"
   },
   {
    "duration": 9,
    "start_time": "2025-02-03T20:31:41.364Z"
   },
   {
    "duration": 61,
    "start_time": "2025-02-03T20:31:41.374Z"
   },
   {
    "duration": 9,
    "start_time": "2025-02-03T20:31:41.437Z"
   },
   {
    "duration": 11,
    "start_time": "2025-02-03T20:31:41.448Z"
   },
   {
    "duration": 5,
    "start_time": "2025-02-03T20:31:41.461Z"
   },
   {
    "duration": 8,
    "start_time": "2025-02-03T20:31:41.468Z"
   },
   {
    "duration": 3598,
    "start_time": "2025-02-03T20:54:35.029Z"
   },
   {
    "duration": 3180,
    "start_time": "2025-02-03T20:54:38.629Z"
   },
   {
    "duration": 37,
    "start_time": "2025-02-03T20:54:41.811Z"
   },
   {
    "duration": 4,
    "start_time": "2025-02-03T20:54:41.850Z"
   },
   {
    "duration": 5,
    "start_time": "2025-02-03T20:54:41.856Z"
   },
   {
    "duration": 129,
    "start_time": "2025-02-03T20:54:41.863Z"
   },
   {
    "duration": 0,
    "start_time": "2025-02-03T20:54:41.995Z"
   },
   {
    "duration": 0,
    "start_time": "2025-02-03T20:54:41.997Z"
   },
   {
    "duration": 0,
    "start_time": "2025-02-03T20:54:41.998Z"
   },
   {
    "duration": 0,
    "start_time": "2025-02-03T20:54:42.000Z"
   },
   {
    "duration": 0,
    "start_time": "2025-02-03T20:54:42.001Z"
   },
   {
    "duration": 0,
    "start_time": "2025-02-03T20:54:42.013Z"
   },
   {
    "duration": 0,
    "start_time": "2025-02-03T20:54:42.015Z"
   },
   {
    "duration": 0,
    "start_time": "2025-02-03T20:54:42.016Z"
   },
   {
    "duration": 0,
    "start_time": "2025-02-03T20:54:42.018Z"
   },
   {
    "duration": 0,
    "start_time": "2025-02-03T20:54:42.019Z"
   },
   {
    "duration": 0,
    "start_time": "2025-02-03T20:54:42.021Z"
   },
   {
    "duration": 0,
    "start_time": "2025-02-03T20:54:42.022Z"
   },
   {
    "duration": 1,
    "start_time": "2025-02-03T20:54:42.023Z"
   },
   {
    "duration": 0,
    "start_time": "2025-02-03T20:54:42.025Z"
   },
   {
    "duration": 0,
    "start_time": "2025-02-03T20:54:42.026Z"
   },
   {
    "duration": 0,
    "start_time": "2025-02-03T20:54:42.028Z"
   },
   {
    "duration": 0,
    "start_time": "2025-02-03T20:54:42.029Z"
   },
   {
    "duration": 3597,
    "start_time": "2025-02-03T20:56:05.302Z"
   },
   {
    "duration": 2298,
    "start_time": "2025-02-03T20:56:08.901Z"
   },
   {
    "duration": 38,
    "start_time": "2025-02-03T20:56:11.201Z"
   },
   {
    "duration": 4,
    "start_time": "2025-02-03T20:56:11.241Z"
   },
   {
    "duration": 7,
    "start_time": "2025-02-03T20:56:11.248Z"
   },
   {
    "duration": 130,
    "start_time": "2025-02-03T20:56:11.257Z"
   },
   {
    "duration": 0,
    "start_time": "2025-02-03T20:56:11.389Z"
   },
   {
    "duration": 0,
    "start_time": "2025-02-03T20:56:11.391Z"
   },
   {
    "duration": 0,
    "start_time": "2025-02-03T20:56:11.392Z"
   },
   {
    "duration": 0,
    "start_time": "2025-02-03T20:56:11.393Z"
   },
   {
    "duration": 0,
    "start_time": "2025-02-03T20:56:11.394Z"
   },
   {
    "duration": 0,
    "start_time": "2025-02-03T20:56:11.394Z"
   },
   {
    "duration": 0,
    "start_time": "2025-02-03T20:56:11.395Z"
   },
   {
    "duration": 1,
    "start_time": "2025-02-03T20:56:11.396Z"
   },
   {
    "duration": 0,
    "start_time": "2025-02-03T20:56:11.397Z"
   },
   {
    "duration": 0,
    "start_time": "2025-02-03T20:56:11.399Z"
   },
   {
    "duration": 0,
    "start_time": "2025-02-03T20:56:11.413Z"
   },
   {
    "duration": 0,
    "start_time": "2025-02-03T20:56:11.415Z"
   },
   {
    "duration": 0,
    "start_time": "2025-02-03T20:56:11.417Z"
   },
   {
    "duration": 0,
    "start_time": "2025-02-03T20:56:11.418Z"
   },
   {
    "duration": 0,
    "start_time": "2025-02-03T20:56:11.419Z"
   },
   {
    "duration": 0,
    "start_time": "2025-02-03T20:56:11.421Z"
   },
   {
    "duration": 0,
    "start_time": "2025-02-03T20:56:11.423Z"
   },
   {
    "duration": 13,
    "start_time": "2025-02-03T20:56:48.886Z"
   },
   {
    "duration": 13,
    "start_time": "2025-02-03T20:56:54.743Z"
   },
   {
    "duration": 13,
    "start_time": "2025-02-03T20:57:33.552Z"
   },
   {
    "duration": 12,
    "start_time": "2025-02-03T20:57:41.952Z"
   },
   {
    "duration": 4006,
    "start_time": "2025-02-03T21:00:41.909Z"
   },
   {
    "duration": 2408,
    "start_time": "2025-02-03T21:00:45.917Z"
   },
   {
    "duration": 42,
    "start_time": "2025-02-03T21:00:48.326Z"
   },
   {
    "duration": 4,
    "start_time": "2025-02-03T21:00:48.370Z"
   },
   {
    "duration": 7,
    "start_time": "2025-02-03T21:00:48.377Z"
   },
   {
    "duration": 37,
    "start_time": "2025-02-03T21:00:48.386Z"
   },
   {
    "duration": 134,
    "start_time": "2025-02-03T21:00:48.425Z"
   },
   {
    "duration": 8,
    "start_time": "2025-02-03T21:00:48.561Z"
   },
   {
    "duration": 11,
    "start_time": "2025-02-03T21:00:48.571Z"
   },
   {
    "duration": 32,
    "start_time": "2025-02-03T21:00:48.585Z"
   },
   {
    "duration": 29,
    "start_time": "2025-02-03T21:00:48.619Z"
   },
   {
    "duration": 14,
    "start_time": "2025-02-03T21:00:48.649Z"
   },
   {
    "duration": 20,
    "start_time": "2025-02-03T21:00:48.665Z"
   },
   {
    "duration": 10,
    "start_time": "2025-02-03T21:00:48.713Z"
   },
   {
    "duration": 13,
    "start_time": "2025-02-03T21:00:48.724Z"
   },
   {
    "duration": 6,
    "start_time": "2025-02-03T21:00:48.739Z"
   },
   {
    "duration": 9,
    "start_time": "2025-02-03T21:00:48.747Z"
   },
   {
    "duration": 9,
    "start_time": "2025-02-03T21:00:48.757Z"
   },
   {
    "duration": 100,
    "start_time": "2025-02-03T21:00:48.768Z"
   },
   {
    "duration": 11,
    "start_time": "2025-02-03T21:00:48.869Z"
   },
   {
    "duration": 40,
    "start_time": "2025-02-03T21:00:48.882Z"
   },
   {
    "duration": 10,
    "start_time": "2025-02-03T21:00:48.924Z"
   },
   {
    "duration": 11,
    "start_time": "2025-02-03T21:00:48.936Z"
   },
   {
    "duration": 5,
    "start_time": "2025-02-03T21:07:22.590Z"
   },
   {
    "duration": 4,
    "start_time": "2025-02-03T21:07:25.882Z"
   },
   {
    "duration": 5,
    "start_time": "2025-02-03T21:07:28.088Z"
   },
   {
    "duration": 3776,
    "start_time": "2025-02-03T21:07:35.150Z"
   },
   {
    "duration": 2353,
    "start_time": "2025-02-03T21:07:38.928Z"
   },
   {
    "duration": 39,
    "start_time": "2025-02-03T21:07:41.285Z"
   },
   {
    "duration": 5,
    "start_time": "2025-02-03T21:07:41.327Z"
   },
   {
    "duration": 6,
    "start_time": "2025-02-03T21:07:41.333Z"
   },
   {
    "duration": 11,
    "start_time": "2025-02-03T21:07:41.341Z"
   },
   {
    "duration": 129,
    "start_time": "2025-02-03T21:07:41.354Z"
   },
   {
    "duration": 9,
    "start_time": "2025-02-03T21:07:41.485Z"
   },
   {
    "duration": 24,
    "start_time": "2025-02-03T21:07:41.496Z"
   },
   {
    "duration": 7,
    "start_time": "2025-02-03T21:07:41.522Z"
   },
   {
    "duration": 33,
    "start_time": "2025-02-03T21:07:41.531Z"
   },
   {
    "duration": 9,
    "start_time": "2025-02-03T21:07:41.567Z"
   },
   {
    "duration": 60,
    "start_time": "2025-02-03T21:07:41.580Z"
   },
   {
    "duration": 10,
    "start_time": "2025-02-03T21:07:41.642Z"
   },
   {
    "duration": 12,
    "start_time": "2025-02-03T21:07:41.654Z"
   },
   {
    "duration": 7,
    "start_time": "2025-02-03T21:07:41.668Z"
   },
   {
    "duration": 43,
    "start_time": "2025-02-03T21:07:41.677Z"
   },
   {
    "duration": 9,
    "start_time": "2025-02-03T21:07:41.722Z"
   },
   {
    "duration": 39,
    "start_time": "2025-02-03T21:07:41.733Z"
   },
   {
    "duration": 9,
    "start_time": "2025-02-03T21:07:41.774Z"
   },
   {
    "duration": 38,
    "start_time": "2025-02-03T21:07:41.785Z"
   },
   {
    "duration": 7,
    "start_time": "2025-02-03T21:07:41.825Z"
   },
   {
    "duration": 9,
    "start_time": "2025-02-03T21:07:41.833Z"
   },
   {
    "duration": 5140,
    "start_time": "2025-02-04T06:07:43.797Z"
   },
   {
    "duration": 2552,
    "start_time": "2025-02-04T06:07:48.940Z"
   },
   {
    "duration": 39,
    "start_time": "2025-02-04T06:07:51.494Z"
   },
   {
    "duration": 4,
    "start_time": "2025-02-04T06:07:51.535Z"
   },
   {
    "duration": 12,
    "start_time": "2025-02-04T06:07:51.541Z"
   },
   {
    "duration": 11,
    "start_time": "2025-02-04T06:07:51.555Z"
   },
   {
    "duration": 113,
    "start_time": "2025-02-04T06:07:51.568Z"
   },
   {
    "duration": 8,
    "start_time": "2025-02-04T06:07:51.682Z"
   },
   {
    "duration": 13,
    "start_time": "2025-02-04T06:07:51.692Z"
   },
   {
    "duration": 29,
    "start_time": "2025-02-04T06:07:51.707Z"
   },
   {
    "duration": 26,
    "start_time": "2025-02-04T06:07:51.738Z"
   },
   {
    "duration": 8,
    "start_time": "2025-02-04T06:07:51.766Z"
   },
   {
    "duration": 30,
    "start_time": "2025-02-04T06:07:51.776Z"
   },
   {
    "duration": 30,
    "start_time": "2025-02-04T06:07:51.809Z"
   },
   {
    "duration": 25,
    "start_time": "2025-02-04T06:07:51.840Z"
   },
   {
    "duration": 8,
    "start_time": "2025-02-04T06:07:51.866Z"
   },
   {
    "duration": 16,
    "start_time": "2025-02-04T06:07:51.876Z"
   },
   {
    "duration": 9,
    "start_time": "2025-02-04T06:07:51.894Z"
   },
   {
    "duration": 56,
    "start_time": "2025-02-04T06:07:51.905Z"
   },
   {
    "duration": 107,
    "start_time": "2025-02-04T06:28:34.976Z"
   },
   {
    "duration": 1408,
    "start_time": "2025-02-04T06:28:46.908Z"
   },
   {
    "duration": 13,
    "start_time": "2025-02-04T06:29:08.703Z"
   },
   {
    "duration": 3725,
    "start_time": "2025-02-04T06:29:22.638Z"
   },
   {
    "duration": 2435,
    "start_time": "2025-02-04T06:29:26.366Z"
   },
   {
    "duration": 39,
    "start_time": "2025-02-04T06:29:28.803Z"
   },
   {
    "duration": 51,
    "start_time": "2025-02-04T06:29:28.844Z"
   },
   {
    "duration": 5,
    "start_time": "2025-02-04T06:29:28.898Z"
   },
   {
    "duration": 12,
    "start_time": "2025-02-04T06:29:28.905Z"
   },
   {
    "duration": 104,
    "start_time": "2025-02-04T06:29:28.919Z"
   },
   {
    "duration": 9,
    "start_time": "2025-02-04T06:29:29.025Z"
   },
   {
    "duration": 26,
    "start_time": "2025-02-04T06:29:29.036Z"
   },
   {
    "duration": 8,
    "start_time": "2025-02-04T06:29:29.064Z"
   },
   {
    "duration": 34,
    "start_time": "2025-02-04T06:29:29.073Z"
   },
   {
    "duration": 8,
    "start_time": "2025-02-04T06:29:29.109Z"
   },
   {
    "duration": 27,
    "start_time": "2025-02-04T06:29:29.118Z"
   },
   {
    "duration": 11,
    "start_time": "2025-02-04T06:29:29.148Z"
   },
   {
    "duration": 14,
    "start_time": "2025-02-04T06:29:29.161Z"
   },
   {
    "duration": 6,
    "start_time": "2025-02-04T06:29:29.177Z"
   },
   {
    "duration": 24,
    "start_time": "2025-02-04T06:29:29.185Z"
   },
   {
    "duration": 25,
    "start_time": "2025-02-04T06:29:29.211Z"
   },
   {
    "duration": 40,
    "start_time": "2025-02-04T06:29:29.238Z"
   },
   {
    "duration": 121,
    "start_time": "2025-02-04T06:29:29.280Z"
   },
   {
    "duration": 157,
    "start_time": "2025-02-04T06:30:57.086Z"
   },
   {
    "duration": 32,
    "start_time": "2025-02-04T06:32:13.858Z"
   },
   {
    "duration": 86,
    "start_time": "2025-02-04T06:32:36.015Z"
   },
   {
    "duration": 7,
    "start_time": "2025-02-04T06:41:57.953Z"
   },
   {
    "duration": 11,
    "start_time": "2025-02-04T06:42:15.438Z"
   },
   {
    "duration": 35,
    "start_time": "2025-02-04T06:43:13.992Z"
   },
   {
    "duration": 17,
    "start_time": "2025-02-04T06:44:49.816Z"
   },
   {
    "duration": 93,
    "start_time": "2025-02-04T06:59:34.518Z"
   },
   {
    "duration": 73,
    "start_time": "2025-02-04T06:59:53.840Z"
   },
   {
    "duration": 75,
    "start_time": "2025-02-04T07:04:10.949Z"
   },
   {
    "duration": 9,
    "start_time": "2025-02-04T07:04:26.978Z"
   },
   {
    "duration": 4,
    "start_time": "2025-02-04T07:04:40.336Z"
   },
   {
    "duration": 70,
    "start_time": "2025-02-04T07:05:59.062Z"
   },
   {
    "duration": 71,
    "start_time": "2025-02-04T07:10:17.321Z"
   },
   {
    "duration": 67,
    "start_time": "2025-02-04T07:10:30.409Z"
   },
   {
    "duration": 78,
    "start_time": "2025-02-04T07:11:37.987Z"
   },
   {
    "duration": 70,
    "start_time": "2025-02-04T07:12:47.105Z"
   },
   {
    "duration": 90,
    "start_time": "2025-02-04T07:13:35.430Z"
   },
   {
    "duration": 73,
    "start_time": "2025-02-04T07:14:01.304Z"
   },
   {
    "duration": 74,
    "start_time": "2025-02-04T07:14:08.834Z"
   },
   {
    "duration": 73,
    "start_time": "2025-02-04T07:14:21.644Z"
   },
   {
    "duration": 11,
    "start_time": "2025-02-04T07:15:19.952Z"
   },
   {
    "duration": 81,
    "start_time": "2025-02-04T07:15:32.989Z"
   },
   {
    "duration": 120,
    "start_time": "2025-02-04T07:15:52.698Z"
   },
   {
    "duration": 83,
    "start_time": "2025-02-04T07:16:41.835Z"
   },
   {
    "duration": 78,
    "start_time": "2025-02-04T07:19:14.426Z"
   },
   {
    "duration": 79,
    "start_time": "2025-02-04T07:19:19.699Z"
   },
   {
    "duration": 4,
    "start_time": "2025-02-04T07:22:18.158Z"
   },
   {
    "duration": 144,
    "start_time": "2025-02-04T07:22:24.990Z"
   },
   {
    "duration": 5,
    "start_time": "2025-02-04T07:22:57.738Z"
   },
   {
    "duration": 140,
    "start_time": "2025-02-04T07:23:06.311Z"
   },
   {
    "duration": 1662,
    "start_time": "2025-02-04T07:24:25.741Z"
   },
   {
    "duration": 163,
    "start_time": "2025-02-04T07:24:40.185Z"
   },
   {
    "duration": 154,
    "start_time": "2025-02-04T07:25:38.974Z"
   },
   {
    "duration": 97,
    "start_time": "2025-02-04T07:26:47.902Z"
   },
   {
    "duration": 86,
    "start_time": "2025-02-04T07:27:01.619Z"
   },
   {
    "duration": 187,
    "start_time": "2025-02-04T07:28:54.031Z"
   },
   {
    "duration": 2611,
    "start_time": "2025-02-04T07:28:59.784Z"
   },
   {
    "duration": 151,
    "start_time": "2025-02-04T07:29:34.457Z"
   },
   {
    "duration": 158,
    "start_time": "2025-02-04T07:29:44.222Z"
   },
   {
    "duration": 81,
    "start_time": "2025-02-04T07:29:46.045Z"
   },
   {
    "duration": 156,
    "start_time": "2025-02-04T07:30:04.106Z"
   },
   {
    "duration": 165,
    "start_time": "2025-02-04T07:35:02.102Z"
   },
   {
    "duration": 156,
    "start_time": "2025-02-04T07:35:41.051Z"
   },
   {
    "duration": 226,
    "start_time": "2025-02-04T07:38:01.361Z"
   },
   {
    "duration": 254,
    "start_time": "2025-02-04T07:38:32.998Z"
   },
   {
    "duration": 263,
    "start_time": "2025-02-04T07:38:44.774Z"
   },
   {
    "duration": 83,
    "start_time": "2025-02-04T07:40:09.566Z"
   },
   {
    "duration": 446,
    "start_time": "2025-02-04T07:45:26.619Z"
   },
   {
    "duration": 4,
    "start_time": "2025-02-04T07:45:45.596Z"
   },
   {
    "duration": 416,
    "start_time": "2025-02-04T07:45:47.950Z"
   },
   {
    "duration": 4,
    "start_time": "2025-02-04T07:45:54.496Z"
   },
   {
    "duration": 4,
    "start_time": "2025-02-04T07:46:51.921Z"
   },
   {
    "duration": 4,
    "start_time": "2025-02-04T07:47:32.721Z"
   },
   {
    "duration": 409,
    "start_time": "2025-02-04T07:47:37.733Z"
   },
   {
    "duration": 4,
    "start_time": "2025-02-04T07:47:40.379Z"
   },
   {
    "duration": 614,
    "start_time": "2025-02-04T07:49:15.274Z"
   },
   {
    "duration": 17,
    "start_time": "2025-02-04T07:50:35.394Z"
   },
   {
    "duration": 17,
    "start_time": "2025-02-04T07:50:44.304Z"
   },
   {
    "duration": 44,
    "start_time": "2025-02-04T07:51:57.247Z"
   },
   {
    "duration": 216,
    "start_time": "2025-02-04T07:52:30.218Z"
   },
   {
    "duration": 68,
    "start_time": "2025-02-04T07:52:47.506Z"
   },
   {
    "duration": 43,
    "start_time": "2025-02-04T07:53:35.846Z"
   },
   {
    "duration": 35,
    "start_time": "2025-02-04T07:53:56.314Z"
   },
   {
    "duration": 21,
    "start_time": "2025-02-04T07:54:10.296Z"
   },
   {
    "duration": 57,
    "start_time": "2025-02-04T07:56:01.045Z"
   },
   {
    "duration": 116,
    "start_time": "2025-02-04T08:11:37.029Z"
   },
   {
    "duration": 15,
    "start_time": "2025-02-04T08:11:40.563Z"
   },
   {
    "duration": 25,
    "start_time": "2025-02-04T08:11:41.461Z"
   },
   {
    "duration": 41,
    "start_time": "2025-02-04T08:11:42.169Z"
   },
   {
    "duration": 49,
    "start_time": "2025-02-04T08:11:42.714Z"
   },
   {
    "duration": 14,
    "start_time": "2025-02-04T08:11:43.787Z"
   },
   {
    "duration": 12,
    "start_time": "2025-02-04T08:11:44.507Z"
   },
   {
    "duration": 13,
    "start_time": "2025-02-04T08:12:30.304Z"
   },
   {
    "duration": 3885,
    "start_time": "2025-02-04T08:15:46.346Z"
   },
   {
    "duration": 2678,
    "start_time": "2025-02-04T08:15:50.233Z"
   },
   {
    "duration": 42,
    "start_time": "2025-02-04T08:15:52.913Z"
   },
   {
    "duration": 4,
    "start_time": "2025-02-04T08:15:52.957Z"
   },
   {
    "duration": 8,
    "start_time": "2025-02-04T08:15:52.963Z"
   },
   {
    "duration": 23,
    "start_time": "2025-02-04T08:15:52.973Z"
   },
   {
    "duration": 116,
    "start_time": "2025-02-04T08:15:52.997Z"
   },
   {
    "duration": 8,
    "start_time": "2025-02-04T08:15:53.115Z"
   },
   {
    "duration": 33,
    "start_time": "2025-02-04T08:15:53.133Z"
   },
   {
    "duration": 8,
    "start_time": "2025-02-04T08:15:53.168Z"
   },
   {
    "duration": 27,
    "start_time": "2025-02-04T08:15:53.178Z"
   },
   {
    "duration": 8,
    "start_time": "2025-02-04T08:15:53.207Z"
   },
   {
    "duration": 36,
    "start_time": "2025-02-04T08:15:53.217Z"
   },
   {
    "duration": 10,
    "start_time": "2025-02-04T08:15:53.258Z"
   },
   {
    "duration": 14,
    "start_time": "2025-02-04T08:15:53.270Z"
   },
   {
    "duration": 8,
    "start_time": "2025-02-04T08:15:53.287Z"
   },
   {
    "duration": 11,
    "start_time": "2025-02-04T08:15:53.333Z"
   },
   {
    "duration": 10,
    "start_time": "2025-02-04T08:15:53.346Z"
   },
   {
    "duration": 41,
    "start_time": "2025-02-04T08:15:53.358Z"
   },
   {
    "duration": 249,
    "start_time": "2025-02-04T08:15:53.433Z"
   },
   {
    "duration": 17,
    "start_time": "2025-02-04T08:15:53.685Z"
   },
   {
    "duration": 49,
    "start_time": "2025-02-04T08:15:53.704Z"
   },
   {
    "duration": 19,
    "start_time": "2025-02-04T08:15:53.755Z"
   },
   {
    "duration": 615,
    "start_time": "2025-02-04T08:15:53.776Z"
   },
   {
    "duration": 17,
    "start_time": "2025-02-04T08:15:54.393Z"
   },
   {
    "duration": 203,
    "start_time": "2025-02-04T08:15:54.412Z"
   },
   {
    "duration": 67,
    "start_time": "2025-02-04T08:15:54.617Z"
   },
   {
    "duration": 54,
    "start_time": "2025-02-04T08:15:54.685Z"
   },
   {
    "duration": 60,
    "start_time": "2025-02-04T08:15:54.740Z"
   },
   {
    "duration": 19,
    "start_time": "2025-02-04T08:15:54.801Z"
   },
   {
    "duration": 121,
    "start_time": "2025-02-04T08:15:54.821Z"
   },
   {
    "duration": 91,
    "start_time": "2025-02-04T08:15:54.944Z"
   },
   {
    "duration": 13,
    "start_time": "2025-02-04T08:15:55.037Z"
   },
   {
    "duration": 17,
    "start_time": "2025-02-04T08:15:55.052Z"
   },
   {
    "duration": 65,
    "start_time": "2025-02-04T08:15:55.070Z"
   },
   {
    "duration": 25,
    "start_time": "2025-02-04T08:15:55.137Z"
   },
   {
    "duration": 37,
    "start_time": "2025-02-04T08:15:55.164Z"
   },
   {
    "duration": 10,
    "start_time": "2025-02-04T08:15:55.203Z"
   },
   {
    "duration": 120,
    "start_time": "2025-02-04T09:14:46.697Z"
   },
   {
    "duration": 14,
    "start_time": "2025-02-04T09:17:38.190Z"
   },
   {
    "duration": 3947,
    "start_time": "2025-02-04T09:18:49.858Z"
   },
   {
    "duration": 2744,
    "start_time": "2025-02-04T09:18:53.808Z"
   },
   {
    "duration": 43,
    "start_time": "2025-02-04T09:18:56.556Z"
   },
   {
    "duration": 5,
    "start_time": "2025-02-04T09:18:56.601Z"
   },
   {
    "duration": 26,
    "start_time": "2025-02-04T09:18:56.608Z"
   },
   {
    "duration": 18,
    "start_time": "2025-02-04T09:18:56.636Z"
   },
   {
    "duration": 110,
    "start_time": "2025-02-04T09:18:56.656Z"
   },
   {
    "duration": 8,
    "start_time": "2025-02-04T09:18:56.768Z"
   },
   {
    "duration": 17,
    "start_time": "2025-02-04T09:18:56.778Z"
   },
   {
    "duration": 8,
    "start_time": "2025-02-04T09:18:56.797Z"
   },
   {
    "duration": 47,
    "start_time": "2025-02-04T09:18:56.806Z"
   },
   {
    "duration": 9,
    "start_time": "2025-02-04T09:18:56.855Z"
   },
   {
    "duration": 20,
    "start_time": "2025-02-04T09:18:56.867Z"
   },
   {
    "duration": 17,
    "start_time": "2025-02-04T09:18:56.888Z"
   },
   {
    "duration": 33,
    "start_time": "2025-02-04T09:18:56.908Z"
   },
   {
    "duration": 7,
    "start_time": "2025-02-04T09:18:56.943Z"
   },
   {
    "duration": 11,
    "start_time": "2025-02-04T09:18:56.951Z"
   },
   {
    "duration": 9,
    "start_time": "2025-02-04T09:18:56.963Z"
   },
   {
    "duration": 99,
    "start_time": "2025-02-04T09:18:56.974Z"
   },
   {
    "duration": 583,
    "start_time": "2025-02-04T09:18:57.074Z"
   },
   {
    "duration": 289,
    "start_time": "2025-02-04T09:18:57.658Z"
   },
   {
    "duration": 0,
    "start_time": "2025-02-04T09:18:57.949Z"
   },
   {
    "duration": 0,
    "start_time": "2025-02-04T09:18:57.950Z"
   },
   {
    "duration": 0,
    "start_time": "2025-02-04T09:18:57.951Z"
   },
   {
    "duration": 0,
    "start_time": "2025-02-04T09:18:57.952Z"
   },
   {
    "duration": 0,
    "start_time": "2025-02-04T09:18:57.953Z"
   },
   {
    "duration": 0,
    "start_time": "2025-02-04T09:18:57.955Z"
   },
   {
    "duration": 0,
    "start_time": "2025-02-04T09:18:57.956Z"
   },
   {
    "duration": 0,
    "start_time": "2025-02-04T09:18:57.957Z"
   },
   {
    "duration": 0,
    "start_time": "2025-02-04T09:18:57.958Z"
   },
   {
    "duration": 0,
    "start_time": "2025-02-04T09:18:57.959Z"
   },
   {
    "duration": 0,
    "start_time": "2025-02-04T09:18:57.960Z"
   },
   {
    "duration": 0,
    "start_time": "2025-02-04T09:18:57.961Z"
   },
   {
    "duration": 0,
    "start_time": "2025-02-04T09:18:57.962Z"
   },
   {
    "duration": 0,
    "start_time": "2025-02-04T09:18:57.963Z"
   },
   {
    "duration": 0,
    "start_time": "2025-02-04T09:18:57.964Z"
   },
   {
    "duration": 0,
    "start_time": "2025-02-04T09:18:57.965Z"
   },
   {
    "duration": 0,
    "start_time": "2025-02-04T09:18:57.967Z"
   },
   {
    "duration": 43,
    "start_time": "2025-02-04T09:27:16.763Z"
   },
   {
    "duration": 3,
    "start_time": "2025-02-04T09:28:09.498Z"
   },
   {
    "duration": 13,
    "start_time": "2025-02-04T09:28:24.693Z"
   },
   {
    "duration": 38,
    "start_time": "2025-02-04T09:28:38.808Z"
   },
   {
    "duration": 86,
    "start_time": "2025-02-04T09:29:34.295Z"
   },
   {
    "duration": 3981,
    "start_time": "2025-02-04T09:31:32.829Z"
   },
   {
    "duration": 2867,
    "start_time": "2025-02-04T09:31:36.813Z"
   },
   {
    "duration": 42,
    "start_time": "2025-02-04T09:31:39.682Z"
   },
   {
    "duration": 4,
    "start_time": "2025-02-04T09:31:39.726Z"
   },
   {
    "duration": 8,
    "start_time": "2025-02-04T09:31:39.732Z"
   },
   {
    "duration": 17,
    "start_time": "2025-02-04T09:31:39.741Z"
   },
   {
    "duration": 110,
    "start_time": "2025-02-04T09:31:39.759Z"
   },
   {
    "duration": 8,
    "start_time": "2025-02-04T09:31:39.871Z"
   },
   {
    "duration": 15,
    "start_time": "2025-02-04T09:31:39.881Z"
   },
   {
    "duration": 9,
    "start_time": "2025-02-04T09:31:39.898Z"
   },
   {
    "duration": 44,
    "start_time": "2025-02-04T09:31:39.908Z"
   },
   {
    "duration": 12,
    "start_time": "2025-02-04T09:31:39.954Z"
   },
   {
    "duration": 25,
    "start_time": "2025-02-04T09:31:39.968Z"
   },
   {
    "duration": 11,
    "start_time": "2025-02-04T09:31:39.995Z"
   },
   {
    "duration": 47,
    "start_time": "2025-02-04T09:31:40.007Z"
   },
   {
    "duration": 23,
    "start_time": "2025-02-04T09:31:40.056Z"
   },
   {
    "duration": 27,
    "start_time": "2025-02-04T09:31:40.081Z"
   },
   {
    "duration": 11,
    "start_time": "2025-02-04T09:31:40.110Z"
   },
   {
    "duration": 46,
    "start_time": "2025-02-04T09:31:40.122Z"
   },
   {
    "duration": 235,
    "start_time": "2025-02-04T09:31:40.170Z"
   },
   {
    "duration": 47,
    "start_time": "2025-02-04T09:31:40.407Z"
   },
   {
    "duration": 27,
    "start_time": "2025-02-04T09:31:40.456Z"
   },
   {
    "duration": 16,
    "start_time": "2025-02-04T09:31:40.485Z"
   },
   {
    "duration": 59,
    "start_time": "2025-02-04T09:31:40.504Z"
   },
   {
    "duration": 17,
    "start_time": "2025-02-04T09:31:40.566Z"
   },
   {
    "duration": 656,
    "start_time": "2025-02-04T09:31:40.585Z"
   },
   {
    "duration": 17,
    "start_time": "2025-02-04T09:31:41.243Z"
   },
   {
    "duration": 213,
    "start_time": "2025-02-04T09:31:41.265Z"
   },
   {
    "duration": 69,
    "start_time": "2025-02-04T09:31:41.479Z"
   },
   {
    "duration": 44,
    "start_time": "2025-02-04T09:31:41.549Z"
   },
   {
    "duration": 39,
    "start_time": "2025-02-04T09:31:41.595Z"
   },
   {
    "duration": 19,
    "start_time": "2025-02-04T09:31:41.635Z"
   },
   {
    "duration": 133,
    "start_time": "2025-02-04T09:31:41.656Z"
   },
   {
    "duration": 13,
    "start_time": "2025-02-04T09:31:41.791Z"
   },
   {
    "duration": 34,
    "start_time": "2025-02-04T09:31:41.806Z"
   },
   {
    "duration": 41,
    "start_time": "2025-02-04T09:31:41.841Z"
   },
   {
    "duration": 25,
    "start_time": "2025-02-04T09:31:41.884Z"
   },
   {
    "duration": 39,
    "start_time": "2025-02-04T09:31:41.911Z"
   },
   {
    "duration": 29,
    "start_time": "2025-02-04T09:31:41.952Z"
   },
   {
    "duration": 125,
    "start_time": "2025-02-04T09:38:42.232Z"
   },
   {
    "duration": 10,
    "start_time": "2025-02-04T09:38:45.854Z"
   },
   {
    "duration": 140,
    "start_time": "2025-02-04T09:39:03.778Z"
   },
   {
    "duration": 10,
    "start_time": "2025-02-04T09:39:11.430Z"
   },
   {
    "duration": 10,
    "start_time": "2025-02-04T09:39:19.306Z"
   },
   {
    "duration": 11,
    "start_time": "2025-02-04T09:46:11.764Z"
   },
   {
    "duration": 20,
    "start_time": "2025-02-04T09:46:36.726Z"
   },
   {
    "duration": 3,
    "start_time": "2025-02-04T09:50:10.902Z"
   },
   {
    "duration": 10,
    "start_time": "2025-02-04T09:50:54.480Z"
   },
   {
    "duration": 9,
    "start_time": "2025-02-04T09:51:02.131Z"
   },
   {
    "duration": 4,
    "start_time": "2025-02-04T09:51:09.818Z"
   },
   {
    "duration": 7,
    "start_time": "2025-02-04T09:51:24.825Z"
   },
   {
    "duration": 0,
    "start_time": "2025-02-04T09:53:08.881Z"
   },
   {
    "duration": 2464,
    "start_time": "2025-02-04T09:53:15.163Z"
   },
   {
    "duration": 8,
    "start_time": "2025-02-04T09:53:26.083Z"
   },
   {
    "duration": 8,
    "start_time": "2025-02-04T10:04:01.954Z"
   },
   {
    "duration": 7,
    "start_time": "2025-02-04T10:04:12.215Z"
   },
   {
    "duration": 152,
    "start_time": "2025-02-04T10:16:01.055Z"
   },
   {
    "duration": 151,
    "start_time": "2025-02-04T10:16:32.459Z"
   },
   {
    "duration": 141,
    "start_time": "2025-02-04T10:16:56.566Z"
   },
   {
    "duration": 13,
    "start_time": "2025-02-04T10:17:12.446Z"
   },
   {
    "duration": 24,
    "start_time": "2025-02-04T10:17:39.626Z"
   },
   {
    "duration": 2,
    "start_time": "2025-02-04T10:20:16.119Z"
   },
   {
    "duration": 9,
    "start_time": "2025-02-04T10:22:36.752Z"
   },
   {
    "duration": 5,
    "start_time": "2025-02-04T10:27:58.552Z"
   },
   {
    "duration": 12,
    "start_time": "2025-02-04T10:28:46.090Z"
   },
   {
    "duration": 20,
    "start_time": "2025-02-04T10:32:19.184Z"
   },
   {
    "duration": 21,
    "start_time": "2025-02-04T10:32:38.478Z"
   },
   {
    "duration": 21,
    "start_time": "2025-02-04T10:55:09.389Z"
   },
   {
    "duration": 22,
    "start_time": "2025-02-04T10:56:02.746Z"
   },
   {
    "duration": 22,
    "start_time": "2025-02-04T10:57:20.752Z"
   },
   {
    "duration": 23,
    "start_time": "2025-02-04T10:58:51.025Z"
   },
   {
    "duration": 3848,
    "start_time": "2025-02-04T11:01:09.225Z"
   },
   {
    "duration": 3510,
    "start_time": "2025-02-04T11:01:13.075Z"
   },
   {
    "duration": 40,
    "start_time": "2025-02-04T11:01:16.587Z"
   },
   {
    "duration": 5,
    "start_time": "2025-02-04T11:01:16.630Z"
   },
   {
    "duration": 6,
    "start_time": "2025-02-04T11:01:16.637Z"
   },
   {
    "duration": 13,
    "start_time": "2025-02-04T11:01:16.645Z"
   },
   {
    "duration": 119,
    "start_time": "2025-02-04T11:01:16.659Z"
   },
   {
    "duration": 8,
    "start_time": "2025-02-04T11:01:16.780Z"
   },
   {
    "duration": 14,
    "start_time": "2025-02-04T11:01:16.790Z"
   },
   {
    "duration": 8,
    "start_time": "2025-02-04T11:01:16.807Z"
   },
   {
    "duration": 26,
    "start_time": "2025-02-04T11:01:16.834Z"
   },
   {
    "duration": 8,
    "start_time": "2025-02-04T11:01:16.862Z"
   },
   {
    "duration": 24,
    "start_time": "2025-02-04T11:01:16.872Z"
   },
   {
    "duration": 37,
    "start_time": "2025-02-04T11:01:16.897Z"
   },
   {
    "duration": 12,
    "start_time": "2025-02-04T11:01:16.936Z"
   },
   {
    "duration": 8,
    "start_time": "2025-02-04T11:01:16.949Z"
   },
   {
    "duration": 26,
    "start_time": "2025-02-04T11:01:16.958Z"
   },
   {
    "duration": 9,
    "start_time": "2025-02-04T11:01:16.986Z"
   },
   {
    "duration": 58,
    "start_time": "2025-02-04T11:01:16.997Z"
   },
   {
    "duration": 251,
    "start_time": "2025-02-04T11:01:17.056Z"
   },
   {
    "duration": 44,
    "start_time": "2025-02-04T11:01:17.308Z"
   },
   {
    "duration": 25,
    "start_time": "2025-02-04T11:01:17.353Z"
   },
   {
    "duration": 15,
    "start_time": "2025-02-04T11:01:17.380Z"
   },
   {
    "duration": 115,
    "start_time": "2025-02-04T11:01:17.397Z"
   },
   {
    "duration": 17,
    "start_time": "2025-02-04T11:01:17.513Z"
   },
   {
    "duration": 693,
    "start_time": "2025-02-04T11:01:17.532Z"
   },
   {
    "duration": 21,
    "start_time": "2025-02-04T11:01:18.226Z"
   },
   {
    "duration": 203,
    "start_time": "2025-02-04T11:01:18.250Z"
   },
   {
    "duration": 61,
    "start_time": "2025-02-04T11:01:18.454Z"
   },
   {
    "duration": 56,
    "start_time": "2025-02-04T11:01:18.517Z"
   },
   {
    "duration": 24,
    "start_time": "2025-02-04T11:01:18.575Z"
   },
   {
    "duration": 36,
    "start_time": "2025-02-04T11:01:18.601Z"
   },
   {
    "duration": 134,
    "start_time": "2025-02-04T11:01:18.639Z"
   },
   {
    "duration": 14,
    "start_time": "2025-02-04T11:01:18.775Z"
   },
   {
    "duration": 22,
    "start_time": "2025-02-04T11:01:18.790Z"
   },
   {
    "duration": 68,
    "start_time": "2025-02-04T11:01:18.814Z"
   },
   {
    "duration": 32,
    "start_time": "2025-02-04T11:01:18.885Z"
   },
   {
    "duration": 20,
    "start_time": "2025-02-04T11:01:18.919Z"
   },
   {
    "duration": 54,
    "start_time": "2025-02-04T11:01:18.940Z"
   },
   {
    "duration": 60,
    "start_time": "2025-02-04T11:01:18.996Z"
   },
   {
    "duration": 7,
    "start_time": "2025-02-04T11:01:19.058Z"
   },
   {
    "duration": 2458,
    "start_time": "2025-02-04T11:01:19.066Z"
   },
   {
    "duration": 0,
    "start_time": "2025-02-04T11:01:21.526Z"
   },
   {
    "duration": 24,
    "start_time": "2025-02-04T11:02:08.057Z"
   },
   {
    "duration": 22,
    "start_time": "2025-02-04T11:04:07.992Z"
   },
   {
    "duration": 19,
    "start_time": "2025-02-04T11:04:51.592Z"
   },
   {
    "duration": 19,
    "start_time": "2025-02-04T11:10:53.957Z"
   },
   {
    "duration": 19,
    "start_time": "2025-02-04T11:11:02.710Z"
   },
   {
    "duration": 2358,
    "start_time": "2025-02-04T11:17:32.049Z"
   },
   {
    "duration": 19,
    "start_time": "2025-02-04T11:17:47.012Z"
   },
   {
    "duration": 224,
    "start_time": "2025-02-04T11:19:44.549Z"
   },
   {
    "duration": 22,
    "start_time": "2025-02-04T11:21:01.179Z"
   },
   {
    "duration": 176,
    "start_time": "2025-02-04T11:21:07.585Z"
   },
   {
    "duration": 172,
    "start_time": "2025-02-04T11:23:30.101Z"
   },
   {
    "duration": 172,
    "start_time": "2025-02-04T11:23:36.228Z"
   },
   {
    "duration": 183,
    "start_time": "2025-02-04T11:23:39.926Z"
   },
   {
    "duration": 171,
    "start_time": "2025-02-04T11:23:45.550Z"
   },
   {
    "duration": 244,
    "start_time": "2025-02-04T11:25:51.732Z"
   },
   {
    "duration": 303,
    "start_time": "2025-02-04T11:27:55.489Z"
   },
   {
    "duration": 162,
    "start_time": "2025-02-04T11:30:10.392Z"
   },
   {
    "duration": 11,
    "start_time": "2025-02-04T11:43:56.799Z"
   },
   {
    "duration": 139,
    "start_time": "2025-02-04T11:44:06.662Z"
   },
   {
    "duration": 150,
    "start_time": "2025-02-04T11:48:57.008Z"
   },
   {
    "duration": 4032,
    "start_time": "2025-02-04T11:55:44.525Z"
   },
   {
    "duration": 2769,
    "start_time": "2025-02-04T11:55:48.559Z"
   },
   {
    "duration": 40,
    "start_time": "2025-02-04T11:55:51.330Z"
   },
   {
    "duration": 5,
    "start_time": "2025-02-04T11:55:51.372Z"
   },
   {
    "duration": 18,
    "start_time": "2025-02-04T11:55:51.379Z"
   },
   {
    "duration": 36,
    "start_time": "2025-02-04T11:55:51.399Z"
   },
   {
    "duration": 119,
    "start_time": "2025-02-04T11:55:51.438Z"
   },
   {
    "duration": 9,
    "start_time": "2025-02-04T11:55:51.559Z"
   },
   {
    "duration": 12,
    "start_time": "2025-02-04T11:55:51.570Z"
   },
   {
    "duration": 8,
    "start_time": "2025-02-04T11:55:51.584Z"
   },
   {
    "duration": 55,
    "start_time": "2025-02-04T11:55:51.594Z"
   },
   {
    "duration": 10,
    "start_time": "2025-02-04T11:55:51.652Z"
   },
   {
    "duration": 29,
    "start_time": "2025-02-04T11:55:51.664Z"
   },
   {
    "duration": 38,
    "start_time": "2025-02-04T11:55:51.696Z"
   },
   {
    "duration": 39,
    "start_time": "2025-02-04T11:55:51.736Z"
   },
   {
    "duration": 34,
    "start_time": "2025-02-04T11:55:51.776Z"
   },
   {
    "duration": 101,
    "start_time": "2025-02-04T11:55:51.812Z"
   },
   {
    "duration": 28,
    "start_time": "2025-02-04T11:55:51.915Z"
   },
   {
    "duration": 64,
    "start_time": "2025-02-04T11:55:51.944Z"
   },
   {
    "duration": 245,
    "start_time": "2025-02-04T11:55:52.009Z"
   },
   {
    "duration": 37,
    "start_time": "2025-02-04T11:55:52.255Z"
   },
   {
    "duration": 48,
    "start_time": "2025-02-04T11:55:52.294Z"
   },
   {
    "duration": 27,
    "start_time": "2025-02-04T11:55:52.343Z"
   },
   {
    "duration": 57,
    "start_time": "2025-02-04T11:55:52.372Z"
   },
   {
    "duration": 23,
    "start_time": "2025-02-04T11:55:52.431Z"
   },
   {
    "duration": 622,
    "start_time": "2025-02-04T11:55:52.456Z"
   },
   {
    "duration": 23,
    "start_time": "2025-02-04T11:55:53.081Z"
   },
   {
    "duration": 215,
    "start_time": "2025-02-04T11:55:53.106Z"
   },
   {
    "duration": 60,
    "start_time": "2025-02-04T11:55:53.322Z"
   },
   {
    "duration": 54,
    "start_time": "2025-02-04T11:55:53.383Z"
   },
   {
    "duration": 23,
    "start_time": "2025-02-04T11:55:53.438Z"
   },
   {
    "duration": 20,
    "start_time": "2025-02-04T11:55:53.462Z"
   },
   {
    "duration": 152,
    "start_time": "2025-02-04T11:55:53.484Z"
   },
   {
    "duration": 15,
    "start_time": "2025-02-04T11:55:53.638Z"
   },
   {
    "duration": 42,
    "start_time": "2025-02-04T11:55:53.655Z"
   },
   {
    "duration": 53,
    "start_time": "2025-02-04T11:55:53.699Z"
   },
   {
    "duration": 47,
    "start_time": "2025-02-04T11:55:53.754Z"
   },
   {
    "duration": 14,
    "start_time": "2025-02-04T11:55:53.803Z"
   },
   {
    "duration": 100,
    "start_time": "2025-02-04T11:55:53.819Z"
   },
   {
    "duration": 20,
    "start_time": "2025-02-04T11:55:53.921Z"
   },
   {
    "duration": 165,
    "start_time": "2025-02-04T11:55:53.945Z"
   },
   {
    "duration": 71,
    "start_time": "2025-02-04T12:05:15.508Z"
   },
   {
    "duration": 85,
    "start_time": "2025-02-04T12:05:33.284Z"
   },
   {
    "duration": 76,
    "start_time": "2025-02-04T12:05:53.908Z"
   },
   {
    "duration": 95,
    "start_time": "2025-02-04T12:07:55.387Z"
   },
   {
    "duration": 131,
    "start_time": "2025-02-04T12:11:53.605Z"
   },
   {
    "duration": 126,
    "start_time": "2025-02-04T12:12:12.450Z"
   },
   {
    "duration": 10,
    "start_time": "2025-02-04T13:08:20.989Z"
   },
   {
    "duration": 10,
    "start_time": "2025-02-04T13:08:34.414Z"
   },
   {
    "duration": 12,
    "start_time": "2025-02-04T13:08:54.672Z"
   },
   {
    "duration": 15,
    "start_time": "2025-02-04T13:09:19.041Z"
   },
   {
    "duration": 637,
    "start_time": "2025-02-04T13:15:14.269Z"
   },
   {
    "duration": 14,
    "start_time": "2025-02-04T13:16:14.128Z"
   },
   {
    "duration": 2815,
    "start_time": "2025-02-04T13:17:14.381Z"
   },
   {
    "duration": 2330,
    "start_time": "2025-02-04T13:17:17.198Z"
   },
   {
    "duration": 40,
    "start_time": "2025-02-04T13:17:19.530Z"
   },
   {
    "duration": 4,
    "start_time": "2025-02-04T13:17:19.572Z"
   },
   {
    "duration": 6,
    "start_time": "2025-02-04T13:17:19.579Z"
   },
   {
    "duration": 14,
    "start_time": "2025-02-04T13:17:19.587Z"
   },
   {
    "duration": 144,
    "start_time": "2025-02-04T13:17:19.602Z"
   },
   {
    "duration": 10,
    "start_time": "2025-02-04T13:17:19.748Z"
   },
   {
    "duration": 16,
    "start_time": "2025-02-04T13:17:19.759Z"
   },
   {
    "duration": 10,
    "start_time": "2025-02-04T13:17:19.777Z"
   },
   {
    "duration": 54,
    "start_time": "2025-02-04T13:17:19.789Z"
   },
   {
    "duration": 9,
    "start_time": "2025-02-04T13:17:19.845Z"
   },
   {
    "duration": 23,
    "start_time": "2025-02-04T13:17:19.856Z"
   },
   {
    "duration": 12,
    "start_time": "2025-02-04T13:17:19.884Z"
   },
   {
    "duration": 76,
    "start_time": "2025-02-04T13:17:19.898Z"
   },
   {
    "duration": 7,
    "start_time": "2025-02-04T13:17:19.976Z"
   },
   {
    "duration": 12,
    "start_time": "2025-02-04T13:17:19.985Z"
   },
   {
    "duration": 10,
    "start_time": "2025-02-04T13:17:19.999Z"
   },
   {
    "duration": 48,
    "start_time": "2025-02-04T13:17:20.011Z"
   },
   {
    "duration": 277,
    "start_time": "2025-02-04T13:17:20.061Z"
   },
   {
    "duration": 37,
    "start_time": "2025-02-04T13:17:20.341Z"
   },
   {
    "duration": 28,
    "start_time": "2025-02-04T13:17:20.380Z"
   },
   {
    "duration": 37,
    "start_time": "2025-02-04T13:17:20.409Z"
   },
   {
    "duration": 36,
    "start_time": "2025-02-04T13:17:20.448Z"
   },
   {
    "duration": 17,
    "start_time": "2025-02-04T13:17:20.486Z"
   },
   {
    "duration": 655,
    "start_time": "2025-02-04T13:17:20.533Z"
   },
   {
    "duration": 16,
    "start_time": "2025-02-04T13:17:21.189Z"
   },
   {
    "duration": 219,
    "start_time": "2025-02-04T13:17:21.206Z"
   },
   {
    "duration": 66,
    "start_time": "2025-02-04T13:17:21.426Z"
   },
   {
    "duration": 62,
    "start_time": "2025-02-04T13:17:21.494Z"
   },
   {
    "duration": 26,
    "start_time": "2025-02-04T13:17:21.557Z"
   },
   {
    "duration": 21,
    "start_time": "2025-02-04T13:17:21.585Z"
   },
   {
    "duration": 160,
    "start_time": "2025-02-04T13:17:21.607Z"
   },
   {
    "duration": 13,
    "start_time": "2025-02-04T13:17:21.769Z"
   },
   {
    "duration": 43,
    "start_time": "2025-02-04T13:17:21.783Z"
   },
   {
    "duration": 61,
    "start_time": "2025-02-04T13:17:21.827Z"
   },
   {
    "duration": 27,
    "start_time": "2025-02-04T13:17:21.890Z"
   },
   {
    "duration": 92,
    "start_time": "2025-02-04T13:17:21.919Z"
   },
   {
    "duration": 40,
    "start_time": "2025-02-04T13:17:22.013Z"
   },
   {
    "duration": 23,
    "start_time": "2025-02-04T13:17:22.055Z"
   },
   {
    "duration": 174,
    "start_time": "2025-02-04T13:17:22.082Z"
   },
   {
    "duration": 136,
    "start_time": "2025-02-04T13:17:22.257Z"
   },
   {
    "duration": 0,
    "start_time": "2025-02-04T13:17:22.395Z"
   },
   {
    "duration": 0,
    "start_time": "2025-02-04T13:17:22.396Z"
   },
   {
    "duration": 0,
    "start_time": "2025-02-04T13:17:22.397Z"
   },
   {
    "duration": 9,
    "start_time": "2025-02-04T13:18:00.687Z"
   },
   {
    "duration": 4016,
    "start_time": "2025-02-04T13:18:16.551Z"
   },
   {
    "duration": 2149,
    "start_time": "2025-02-04T13:18:20.569Z"
   },
   {
    "duration": 41,
    "start_time": "2025-02-04T13:18:22.719Z"
   },
   {
    "duration": 4,
    "start_time": "2025-02-04T13:18:22.761Z"
   },
   {
    "duration": 17,
    "start_time": "2025-02-04T13:18:22.768Z"
   },
   {
    "duration": 15,
    "start_time": "2025-02-04T13:18:22.786Z"
   },
   {
    "duration": 118,
    "start_time": "2025-02-04T13:18:22.802Z"
   },
   {
    "duration": 14,
    "start_time": "2025-02-04T13:18:22.921Z"
   },
   {
    "duration": 20,
    "start_time": "2025-02-04T13:18:22.937Z"
   },
   {
    "duration": 11,
    "start_time": "2025-02-04T13:18:22.959Z"
   },
   {
    "duration": 33,
    "start_time": "2025-02-04T13:18:22.972Z"
   },
   {
    "duration": 25,
    "start_time": "2025-02-04T13:18:23.007Z"
   },
   {
    "duration": 64,
    "start_time": "2025-02-04T13:18:23.034Z"
   },
   {
    "duration": 27,
    "start_time": "2025-02-04T13:18:23.102Z"
   },
   {
    "duration": 19,
    "start_time": "2025-02-04T13:18:23.130Z"
   },
   {
    "duration": 7,
    "start_time": "2025-02-04T13:18:23.151Z"
   },
   {
    "duration": 11,
    "start_time": "2025-02-04T13:18:23.160Z"
   },
   {
    "duration": 9,
    "start_time": "2025-02-04T13:18:23.173Z"
   },
   {
    "duration": 68,
    "start_time": "2025-02-04T13:18:23.185Z"
   },
   {
    "duration": 258,
    "start_time": "2025-02-04T13:18:23.255Z"
   },
   {
    "duration": 48,
    "start_time": "2025-02-04T13:18:23.515Z"
   },
   {
    "duration": 28,
    "start_time": "2025-02-04T13:18:23.565Z"
   },
   {
    "duration": 38,
    "start_time": "2025-02-04T13:18:23.595Z"
   },
   {
    "duration": 37,
    "start_time": "2025-02-04T13:18:23.635Z"
   },
   {
    "duration": 19,
    "start_time": "2025-02-04T13:18:23.674Z"
   },
   {
    "duration": 650,
    "start_time": "2025-02-04T13:18:23.695Z"
   },
   {
    "duration": 17,
    "start_time": "2025-02-04T13:18:24.348Z"
   },
   {
    "duration": 224,
    "start_time": "2025-02-04T13:18:24.367Z"
   },
   {
    "duration": 75,
    "start_time": "2025-02-04T13:18:24.593Z"
   },
   {
    "duration": 45,
    "start_time": "2025-02-04T13:18:24.669Z"
   },
   {
    "duration": 33,
    "start_time": "2025-02-04T13:18:24.715Z"
   },
   {
    "duration": 20,
    "start_time": "2025-02-04T13:18:24.750Z"
   },
   {
    "duration": 152,
    "start_time": "2025-02-04T13:18:24.771Z"
   },
   {
    "duration": 19,
    "start_time": "2025-02-04T13:18:24.924Z"
   },
   {
    "duration": 19,
    "start_time": "2025-02-04T13:18:24.944Z"
   },
   {
    "duration": 42,
    "start_time": "2025-02-04T13:18:24.965Z"
   },
   {
    "duration": 48,
    "start_time": "2025-02-04T13:18:25.009Z"
   },
   {
    "duration": 15,
    "start_time": "2025-02-04T13:18:25.058Z"
   },
   {
    "duration": 11,
    "start_time": "2025-02-04T13:18:25.074Z"
   },
   {
    "duration": 49,
    "start_time": "2025-02-04T13:18:25.087Z"
   },
   {
    "duration": 165,
    "start_time": "2025-02-04T13:18:25.140Z"
   },
   {
    "duration": 127,
    "start_time": "2025-02-04T13:18:25.306Z"
   },
   {
    "duration": 17,
    "start_time": "2025-02-04T13:18:25.435Z"
   },
   {
    "duration": 700,
    "start_time": "2025-02-04T13:18:25.454Z"
   },
   {
    "duration": 50,
    "start_time": "2025-02-04T13:20:42.503Z"
   },
   {
    "duration": 6,
    "start_time": "2025-02-04T13:20:48.314Z"
   },
   {
    "duration": 6,
    "start_time": "2025-02-04T13:21:34.414Z"
   },
   {
    "duration": 3988,
    "start_time": "2025-02-04T13:21:40.519Z"
   },
   {
    "duration": 2888,
    "start_time": "2025-02-04T13:21:44.509Z"
   },
   {
    "duration": 42,
    "start_time": "2025-02-04T13:21:47.402Z"
   },
   {
    "duration": 5,
    "start_time": "2025-02-04T13:21:47.446Z"
   },
   {
    "duration": 7,
    "start_time": "2025-02-04T13:21:47.453Z"
   },
   {
    "duration": 17,
    "start_time": "2025-02-04T13:21:47.461Z"
   },
   {
    "duration": 148,
    "start_time": "2025-02-04T13:21:47.480Z"
   },
   {
    "duration": 8,
    "start_time": "2025-02-04T13:21:47.632Z"
   },
   {
    "duration": 19,
    "start_time": "2025-02-04T13:21:47.643Z"
   },
   {
    "duration": 17,
    "start_time": "2025-02-04T13:21:47.663Z"
   },
   {
    "duration": 37,
    "start_time": "2025-02-04T13:21:47.682Z"
   },
   {
    "duration": 18,
    "start_time": "2025-02-04T13:21:47.721Z"
   },
   {
    "duration": 25,
    "start_time": "2025-02-04T13:21:47.742Z"
   },
   {
    "duration": 16,
    "start_time": "2025-02-04T13:21:47.769Z"
   },
   {
    "duration": 18,
    "start_time": "2025-02-04T13:21:47.787Z"
   },
   {
    "duration": 32,
    "start_time": "2025-02-04T13:21:47.806Z"
   },
   {
    "duration": 11,
    "start_time": "2025-02-04T13:21:47.840Z"
   },
   {
    "duration": 10,
    "start_time": "2025-02-04T13:21:47.853Z"
   },
   {
    "duration": 49,
    "start_time": "2025-02-04T13:21:47.864Z"
   },
   {
    "duration": 272,
    "start_time": "2025-02-04T13:21:47.915Z"
   },
   {
    "duration": 48,
    "start_time": "2025-02-04T13:21:48.190Z"
   },
   {
    "duration": 26,
    "start_time": "2025-02-04T13:21:48.239Z"
   },
   {
    "duration": 52,
    "start_time": "2025-02-04T13:21:48.266Z"
   },
   {
    "duration": 33,
    "start_time": "2025-02-04T13:21:48.320Z"
   },
   {
    "duration": 17,
    "start_time": "2025-02-04T13:21:48.355Z"
   },
   {
    "duration": 619,
    "start_time": "2025-02-04T13:21:48.374Z"
   },
   {
    "duration": 16,
    "start_time": "2025-02-04T13:21:48.996Z"
   },
   {
    "duration": 210,
    "start_time": "2025-02-04T13:21:49.014Z"
   },
   {
    "duration": 62,
    "start_time": "2025-02-04T13:21:49.226Z"
   },
   {
    "duration": 52,
    "start_time": "2025-02-04T13:21:49.290Z"
   },
   {
    "duration": 23,
    "start_time": "2025-02-04T13:21:49.344Z"
   },
   {
    "duration": 21,
    "start_time": "2025-02-04T13:21:49.369Z"
   },
   {
    "duration": 154,
    "start_time": "2025-02-04T13:21:49.391Z"
   },
   {
    "duration": 13,
    "start_time": "2025-02-04T13:21:49.547Z"
   },
   {
    "duration": 20,
    "start_time": "2025-02-04T13:21:49.561Z"
   },
   {
    "duration": 60,
    "start_time": "2025-02-04T13:21:49.582Z"
   },
   {
    "duration": 26,
    "start_time": "2025-02-04T13:21:49.644Z"
   },
   {
    "duration": 14,
    "start_time": "2025-02-04T13:21:49.672Z"
   },
   {
    "duration": 10,
    "start_time": "2025-02-04T13:21:49.688Z"
   },
   {
    "duration": 48,
    "start_time": "2025-02-04T13:21:49.700Z"
   },
   {
    "duration": 170,
    "start_time": "2025-02-04T13:21:49.750Z"
   },
   {
    "duration": 131,
    "start_time": "2025-02-04T13:21:49.922Z"
   },
   {
    "duration": 19,
    "start_time": "2025-02-04T13:21:50.055Z"
   },
   {
    "duration": 716,
    "start_time": "2025-02-04T13:21:50.075Z"
   },
   {
    "duration": 123,
    "start_time": "2025-02-04T13:21:50.793Z"
   },
   {
    "duration": 49,
    "start_time": "2025-02-04T14:50:30.030Z"
   },
   {
    "duration": 6,
    "start_time": "2025-02-04T14:51:20.528Z"
   },
   {
    "duration": 6,
    "start_time": "2025-02-04T14:53:19.832Z"
   },
   {
    "duration": 5,
    "start_time": "2025-02-04T14:54:30.696Z"
   },
   {
    "duration": 5,
    "start_time": "2025-02-04T15:00:14.063Z"
   },
   {
    "duration": 12048,
    "start_time": "2025-02-04T15:00:23.201Z"
   },
   {
    "duration": 2579,
    "start_time": "2025-02-04T15:00:35.251Z"
   },
   {
    "duration": 40,
    "start_time": "2025-02-04T15:00:37.832Z"
   },
   {
    "duration": 4,
    "start_time": "2025-02-04T15:00:37.874Z"
   },
   {
    "duration": 13,
    "start_time": "2025-02-04T15:00:37.879Z"
   },
   {
    "duration": 46,
    "start_time": "2025-02-04T15:00:37.893Z"
   },
   {
    "duration": 112,
    "start_time": "2025-02-04T15:00:37.941Z"
   },
   {
    "duration": 9,
    "start_time": "2025-02-04T15:00:38.054Z"
   },
   {
    "duration": 19,
    "start_time": "2025-02-04T15:00:38.064Z"
   },
   {
    "duration": 7,
    "start_time": "2025-02-04T15:00:38.085Z"
   },
   {
    "duration": 48,
    "start_time": "2025-02-04T15:00:38.099Z"
   },
   {
    "duration": 8,
    "start_time": "2025-02-04T15:00:38.149Z"
   },
   {
    "duration": 27,
    "start_time": "2025-02-04T15:00:38.158Z"
   },
   {
    "duration": 9,
    "start_time": "2025-02-04T15:00:38.187Z"
   },
   {
    "duration": 26,
    "start_time": "2025-02-04T15:00:38.198Z"
   },
   {
    "duration": 6,
    "start_time": "2025-02-04T15:00:38.225Z"
   },
   {
    "duration": 13,
    "start_time": "2025-02-04T15:00:38.233Z"
   },
   {
    "duration": 8,
    "start_time": "2025-02-04T15:00:38.248Z"
   },
   {
    "duration": 53,
    "start_time": "2025-02-04T15:00:38.257Z"
   },
   {
    "duration": 238,
    "start_time": "2025-02-04T15:00:38.312Z"
   },
   {
    "duration": 33,
    "start_time": "2025-02-04T15:00:38.551Z"
   },
   {
    "duration": 37,
    "start_time": "2025-02-04T15:00:38.585Z"
   },
   {
    "duration": 16,
    "start_time": "2025-02-04T15:00:38.623Z"
   },
   {
    "duration": 41,
    "start_time": "2025-02-04T15:00:38.641Z"
   },
   {
    "duration": 83,
    "start_time": "2025-02-04T15:00:38.684Z"
   },
   {
    "duration": 559,
    "start_time": "2025-02-04T15:00:38.769Z"
   },
   {
    "duration": 17,
    "start_time": "2025-02-04T15:00:39.330Z"
   },
   {
    "duration": 191,
    "start_time": "2025-02-04T15:00:39.352Z"
   },
   {
    "duration": 71,
    "start_time": "2025-02-04T15:00:39.545Z"
   },
   {
    "duration": 42,
    "start_time": "2025-02-04T15:00:39.618Z"
   },
   {
    "duration": 101,
    "start_time": "2025-02-04T15:00:39.662Z"
   },
   {
    "duration": 18,
    "start_time": "2025-02-04T15:00:39.764Z"
   },
   {
    "duration": 119,
    "start_time": "2025-02-04T15:00:39.784Z"
   },
   {
    "duration": 12,
    "start_time": "2025-02-04T15:00:39.905Z"
   },
   {
    "duration": 19,
    "start_time": "2025-02-04T15:00:39.918Z"
   },
   {
    "duration": 63,
    "start_time": "2025-02-04T15:00:39.938Z"
   },
   {
    "duration": 25,
    "start_time": "2025-02-04T15:00:40.003Z"
   },
   {
    "duration": 52,
    "start_time": "2025-02-04T15:00:40.030Z"
   },
   {
    "duration": 13,
    "start_time": "2025-02-04T15:00:40.084Z"
   },
   {
    "duration": 38,
    "start_time": "2025-02-04T15:00:40.098Z"
   },
   {
    "duration": 162,
    "start_time": "2025-02-04T15:00:40.138Z"
   },
   {
    "duration": 111,
    "start_time": "2025-02-04T15:00:40.301Z"
   },
   {
    "duration": 18,
    "start_time": "2025-02-04T15:00:40.414Z"
   },
   {
    "duration": 72,
    "start_time": "2025-02-04T15:00:40.434Z"
   },
   {
    "duration": 112,
    "start_time": "2025-02-04T15:00:40.508Z"
   },
   {
    "duration": 0,
    "start_time": "2025-02-04T15:00:40.622Z"
   },
   {
    "duration": 0,
    "start_time": "2025-02-04T15:00:40.623Z"
   },
   {
    "duration": 996,
    "start_time": "2025-02-04T15:01:35.682Z"
   },
   {
    "duration": 18,
    "start_time": "2025-02-04T15:02:06.918Z"
   },
   {
    "duration": 722,
    "start_time": "2025-02-04T15:02:51.389Z"
   },
   {
    "duration": 322,
    "start_time": "2025-02-04T15:11:17.877Z"
   },
   {
    "duration": 867,
    "start_time": "2025-02-04T15:27:15.419Z"
   },
   {
    "duration": 3647,
    "start_time": "2025-02-04T15:32:08.265Z"
   },
   {
    "duration": 2249,
    "start_time": "2025-02-04T15:32:11.915Z"
   },
   {
    "duration": 41,
    "start_time": "2025-02-04T15:32:14.166Z"
   },
   {
    "duration": 4,
    "start_time": "2025-02-04T15:32:14.208Z"
   },
   {
    "duration": 13,
    "start_time": "2025-02-04T15:32:14.213Z"
   },
   {
    "duration": 13,
    "start_time": "2025-02-04T15:32:14.227Z"
   },
   {
    "duration": 117,
    "start_time": "2025-02-04T15:32:14.241Z"
   },
   {
    "duration": 8,
    "start_time": "2025-02-04T15:32:14.359Z"
   },
   {
    "duration": 13,
    "start_time": "2025-02-04T15:32:14.369Z"
   },
   {
    "duration": 8,
    "start_time": "2025-02-04T15:32:14.401Z"
   },
   {
    "duration": 26,
    "start_time": "2025-02-04T15:32:14.411Z"
   },
   {
    "duration": 14,
    "start_time": "2025-02-04T15:32:14.439Z"
   },
   {
    "duration": 18,
    "start_time": "2025-02-04T15:32:14.455Z"
   },
   {
    "duration": 29,
    "start_time": "2025-02-04T15:32:14.475Z"
   },
   {
    "duration": 16,
    "start_time": "2025-02-04T15:32:14.505Z"
   },
   {
    "duration": 14,
    "start_time": "2025-02-04T15:32:14.523Z"
   },
   {
    "duration": 12,
    "start_time": "2025-02-04T15:32:14.539Z"
   },
   {
    "duration": 13,
    "start_time": "2025-02-04T15:32:14.553Z"
   },
   {
    "duration": 67,
    "start_time": "2025-02-04T15:32:14.568Z"
   },
   {
    "duration": 271,
    "start_time": "2025-02-04T15:32:14.638Z"
   },
   {
    "duration": 37,
    "start_time": "2025-02-04T15:32:14.910Z"
   },
   {
    "duration": 24,
    "start_time": "2025-02-04T15:32:14.949Z"
   },
   {
    "duration": 39,
    "start_time": "2025-02-04T15:32:14.974Z"
   },
   {
    "duration": 93,
    "start_time": "2025-02-04T15:32:15.015Z"
   },
   {
    "duration": 18,
    "start_time": "2025-02-04T15:32:15.110Z"
   },
   {
    "duration": 612,
    "start_time": "2025-02-04T15:32:15.130Z"
   },
   {
    "duration": 18,
    "start_time": "2025-02-04T15:32:15.744Z"
   },
   {
    "duration": 195,
    "start_time": "2025-02-04T15:32:15.766Z"
   },
   {
    "duration": 65,
    "start_time": "2025-02-04T15:32:15.963Z"
   },
   {
    "duration": 42,
    "start_time": "2025-02-04T15:32:16.030Z"
   },
   {
    "duration": 42,
    "start_time": "2025-02-04T15:32:16.074Z"
   },
   {
    "duration": 20,
    "start_time": "2025-02-04T15:32:16.118Z"
   },
   {
    "duration": 141,
    "start_time": "2025-02-04T15:32:16.139Z"
   },
   {
    "duration": 20,
    "start_time": "2025-02-04T15:32:16.282Z"
   },
   {
    "duration": 32,
    "start_time": "2025-02-04T15:32:16.304Z"
   },
   {
    "duration": 51,
    "start_time": "2025-02-04T15:32:16.338Z"
   },
   {
    "duration": 34,
    "start_time": "2025-02-04T15:32:16.391Z"
   },
   {
    "duration": 16,
    "start_time": "2025-02-04T15:32:16.427Z"
   },
   {
    "duration": 36,
    "start_time": "2025-02-04T15:32:16.445Z"
   },
   {
    "duration": 46,
    "start_time": "2025-02-04T15:32:16.483Z"
   },
   {
    "duration": 153,
    "start_time": "2025-02-04T15:32:16.530Z"
   },
   {
    "duration": 119,
    "start_time": "2025-02-04T15:32:16.685Z"
   },
   {
    "duration": 63,
    "start_time": "2025-02-04T15:32:16.805Z"
   },
   {
    "duration": 34,
    "start_time": "2025-02-04T15:32:16.869Z"
   },
   {
    "duration": 65,
    "start_time": "2025-02-04T15:32:16.905Z"
   },
   {
    "duration": 30,
    "start_time": "2025-02-04T15:32:16.972Z"
   },
   {
    "duration": 163,
    "start_time": "2025-02-04T15:32:17.004Z"
   },
   {
    "duration": 685,
    "start_time": "2025-02-04T15:32:17.168Z"
   },
   {
    "duration": 2,
    "start_time": "2025-02-04T15:32:17.855Z"
   },
   {
    "duration": 107,
    "start_time": "2025-02-04T15:34:57.094Z"
   },
   {
    "duration": 114,
    "start_time": "2025-02-04T15:35:16.074Z"
   },
   {
    "duration": 4,
    "start_time": "2025-02-04T15:41:28.619Z"
   },
   {
    "duration": 335,
    "start_time": "2025-02-04T15:44:05.566Z"
   },
   {
    "duration": 3715,
    "start_time": "2025-02-04T15:45:37.792Z"
   },
   {
    "duration": 2463,
    "start_time": "2025-02-04T15:45:41.509Z"
   },
   {
    "duration": 39,
    "start_time": "2025-02-04T15:45:43.974Z"
   },
   {
    "duration": 61,
    "start_time": "2025-02-04T15:45:44.015Z"
   },
   {
    "duration": 5,
    "start_time": "2025-02-04T15:45:44.077Z"
   },
   {
    "duration": 19,
    "start_time": "2025-02-04T15:45:44.084Z"
   },
   {
    "duration": 107,
    "start_time": "2025-02-04T15:45:44.104Z"
   },
   {
    "duration": 10,
    "start_time": "2025-02-04T15:45:44.213Z"
   },
   {
    "duration": 24,
    "start_time": "2025-02-04T15:45:44.225Z"
   },
   {
    "duration": 9,
    "start_time": "2025-02-04T15:45:44.252Z"
   },
   {
    "duration": 46,
    "start_time": "2025-02-04T15:45:44.263Z"
   },
   {
    "duration": 8,
    "start_time": "2025-02-04T15:45:44.311Z"
   },
   {
    "duration": 23,
    "start_time": "2025-02-04T15:45:44.321Z"
   },
   {
    "duration": 10,
    "start_time": "2025-02-04T15:45:44.346Z"
   },
   {
    "duration": 27,
    "start_time": "2025-02-04T15:45:44.358Z"
   },
   {
    "duration": 8,
    "start_time": "2025-02-04T15:45:44.400Z"
   },
   {
    "duration": 20,
    "start_time": "2025-02-04T15:45:44.409Z"
   },
   {
    "duration": 14,
    "start_time": "2025-02-04T15:45:44.430Z"
   },
   {
    "duration": 49,
    "start_time": "2025-02-04T15:45:44.446Z"
   },
   {
    "duration": 257,
    "start_time": "2025-02-04T15:45:44.500Z"
   },
   {
    "duration": 43,
    "start_time": "2025-02-04T15:45:44.759Z"
   },
   {
    "duration": 25,
    "start_time": "2025-02-04T15:45:44.803Z"
   },
   {
    "duration": 16,
    "start_time": "2025-02-04T15:45:44.829Z"
   },
   {
    "duration": 31,
    "start_time": "2025-02-04T15:45:44.847Z"
   },
   {
    "duration": 46,
    "start_time": "2025-02-04T15:45:44.899Z"
   },
   {
    "duration": 594,
    "start_time": "2025-02-04T15:45:44.947Z"
   },
   {
    "duration": 21,
    "start_time": "2025-02-04T15:45:45.542Z"
   },
   {
    "duration": 226,
    "start_time": "2025-02-04T15:45:45.567Z"
   },
   {
    "duration": 53,
    "start_time": "2025-02-04T15:45:45.794Z"
   },
   {
    "duration": 53,
    "start_time": "2025-02-04T15:45:45.848Z"
   },
   {
    "duration": 42,
    "start_time": "2025-02-04T15:45:45.902Z"
   },
   {
    "duration": 18,
    "start_time": "2025-02-04T15:45:45.946Z"
   },
   {
    "duration": 122,
    "start_time": "2025-02-04T15:45:45.966Z"
   },
   {
    "duration": 15,
    "start_time": "2025-02-04T15:45:46.089Z"
   },
   {
    "duration": 16,
    "start_time": "2025-02-04T15:45:46.106Z"
   },
   {
    "duration": 47,
    "start_time": "2025-02-04T15:45:46.123Z"
   },
   {
    "duration": 41,
    "start_time": "2025-02-04T15:45:46.171Z"
   },
   {
    "duration": 19,
    "start_time": "2025-02-04T15:45:46.214Z"
   },
   {
    "duration": 10,
    "start_time": "2025-02-04T15:45:46.234Z"
   },
   {
    "duration": 32,
    "start_time": "2025-02-04T15:45:46.245Z"
   },
   {
    "duration": 162,
    "start_time": "2025-02-04T15:45:46.279Z"
   },
   {
    "duration": 119,
    "start_time": "2025-02-04T15:45:46.444Z"
   },
   {
    "duration": 71,
    "start_time": "2025-02-04T15:45:46.565Z"
   },
   {
    "duration": 74,
    "start_time": "2025-02-04T15:45:46.638Z"
   },
   {
    "duration": 17,
    "start_time": "2025-02-04T15:45:46.714Z"
   },
   {
    "duration": 82,
    "start_time": "2025-02-04T15:45:46.732Z"
   },
   {
    "duration": 149,
    "start_time": "2025-02-04T15:45:46.815Z"
   },
   {
    "duration": 3,
    "start_time": "2025-02-04T15:45:46.966Z"
   },
   {
    "duration": 149,
    "start_time": "2025-02-04T15:45:46.970Z"
   },
   {
    "duration": 670,
    "start_time": "2025-02-04T15:45:47.120Z"
   },
   {
    "duration": 9,
    "start_time": "2025-02-04T15:45:47.791Z"
   },
   {
    "duration": 929,
    "start_time": "2025-02-04T15:58:33.849Z"
   },
   {
    "duration": 3593,
    "start_time": "2025-02-04T15:58:56.413Z"
   },
   {
    "duration": 2755,
    "start_time": "2025-02-04T15:59:00.009Z"
   },
   {
    "duration": 39,
    "start_time": "2025-02-04T15:59:02.765Z"
   },
   {
    "duration": 4,
    "start_time": "2025-02-04T15:59:02.805Z"
   },
   {
    "duration": 18,
    "start_time": "2025-02-04T15:59:02.811Z"
   },
   {
    "duration": 18,
    "start_time": "2025-02-04T15:59:02.830Z"
   },
   {
    "duration": 111,
    "start_time": "2025-02-04T15:59:02.849Z"
   },
   {
    "duration": 9,
    "start_time": "2025-02-04T15:59:02.961Z"
   },
   {
    "duration": 56,
    "start_time": "2025-02-04T15:59:02.971Z"
   },
   {
    "duration": 8,
    "start_time": "2025-02-04T15:59:03.030Z"
   },
   {
    "duration": 48,
    "start_time": "2025-02-04T15:59:03.040Z"
   },
   {
    "duration": 30,
    "start_time": "2025-02-04T15:59:03.090Z"
   },
   {
    "duration": 28,
    "start_time": "2025-02-04T15:59:03.122Z"
   },
   {
    "duration": 16,
    "start_time": "2025-02-04T15:59:03.152Z"
   },
   {
    "duration": 36,
    "start_time": "2025-02-04T15:59:03.170Z"
   },
   {
    "duration": 23,
    "start_time": "2025-02-04T15:59:03.208Z"
   },
   {
    "duration": 12,
    "start_time": "2025-02-04T15:59:03.234Z"
   },
   {
    "duration": 13,
    "start_time": "2025-02-04T15:59:03.247Z"
   },
   {
    "duration": 119,
    "start_time": "2025-02-04T15:59:03.261Z"
   },
   {
    "duration": 242,
    "start_time": "2025-02-04T15:59:03.381Z"
   },
   {
    "duration": 34,
    "start_time": "2025-02-04T15:59:03.624Z"
   },
   {
    "duration": 23,
    "start_time": "2025-02-04T15:59:03.660Z"
   },
   {
    "duration": 15,
    "start_time": "2025-02-04T15:59:03.700Z"
   },
   {
    "duration": 58,
    "start_time": "2025-02-04T15:59:03.716Z"
   },
   {
    "duration": 83,
    "start_time": "2025-02-04T15:59:03.775Z"
   },
   {
    "duration": 598,
    "start_time": "2025-02-04T15:59:03.860Z"
   },
   {
    "duration": 15,
    "start_time": "2025-02-04T15:59:04.459Z"
   },
   {
    "duration": 192,
    "start_time": "2025-02-04T15:59:04.478Z"
   },
   {
    "duration": 65,
    "start_time": "2025-02-04T15:59:04.672Z"
   },
   {
    "duration": 41,
    "start_time": "2025-02-04T15:59:04.739Z"
   },
   {
    "duration": 38,
    "start_time": "2025-02-04T15:59:04.782Z"
   },
   {
    "duration": 24,
    "start_time": "2025-02-04T15:59:04.821Z"
   },
   {
    "duration": 127,
    "start_time": "2025-02-04T15:59:04.847Z"
   },
   {
    "duration": 24,
    "start_time": "2025-02-04T15:59:04.976Z"
   },
   {
    "duration": 18,
    "start_time": "2025-02-04T15:59:05.002Z"
   },
   {
    "duration": 41,
    "start_time": "2025-02-04T15:59:05.023Z"
   },
   {
    "duration": 47,
    "start_time": "2025-02-04T15:59:05.066Z"
   },
   {
    "duration": 21,
    "start_time": "2025-02-04T15:59:05.115Z"
   },
   {
    "duration": 20,
    "start_time": "2025-02-04T15:59:05.138Z"
   },
   {
    "duration": 21,
    "start_time": "2025-02-04T15:59:05.159Z"
   },
   {
    "duration": 165,
    "start_time": "2025-02-04T15:59:05.182Z"
   },
   {
    "duration": 137,
    "start_time": "2025-02-04T15:59:05.350Z"
   },
   {
    "duration": 82,
    "start_time": "2025-02-04T15:59:05.489Z"
   },
   {
    "duration": 85,
    "start_time": "2025-02-04T15:59:05.572Z"
   },
   {
    "duration": 17,
    "start_time": "2025-02-04T15:59:05.659Z"
   },
   {
    "duration": 96,
    "start_time": "2025-02-04T15:59:05.677Z"
   },
   {
    "duration": 160,
    "start_time": "2025-02-04T15:59:05.775Z"
   },
   {
    "duration": 3,
    "start_time": "2025-02-04T15:59:05.937Z"
   },
   {
    "duration": 236,
    "start_time": "2025-02-04T15:59:05.941Z"
   },
   {
    "duration": 679,
    "start_time": "2025-02-04T15:59:06.179Z"
   },
   {
    "duration": 2,
    "start_time": "2025-02-04T15:59:06.860Z"
   },
   {
    "duration": 935,
    "start_time": "2025-02-04T16:00:16.602Z"
   },
   {
    "duration": 3689,
    "start_time": "2025-02-04T16:00:32.780Z"
   },
   {
    "duration": 2051,
    "start_time": "2025-02-04T16:00:36.471Z"
   },
   {
    "duration": 38,
    "start_time": "2025-02-04T16:00:38.524Z"
   },
   {
    "duration": 4,
    "start_time": "2025-02-04T16:00:38.565Z"
   },
   {
    "duration": 6,
    "start_time": "2025-02-04T16:00:38.571Z"
   },
   {
    "duration": 26,
    "start_time": "2025-02-04T16:00:38.579Z"
   },
   {
    "duration": 120,
    "start_time": "2025-02-04T16:00:38.607Z"
   },
   {
    "duration": 8,
    "start_time": "2025-02-04T16:00:38.730Z"
   },
   {
    "duration": 20,
    "start_time": "2025-02-04T16:00:38.740Z"
   },
   {
    "duration": 18,
    "start_time": "2025-02-04T16:00:38.762Z"
   },
   {
    "duration": 43,
    "start_time": "2025-02-04T16:00:38.782Z"
   },
   {
    "duration": 9,
    "start_time": "2025-02-04T16:00:38.827Z"
   },
   {
    "duration": 29,
    "start_time": "2025-02-04T16:00:38.840Z"
   },
   {
    "duration": 10,
    "start_time": "2025-02-04T16:00:38.871Z"
   },
   {
    "duration": 26,
    "start_time": "2025-02-04T16:00:38.882Z"
   },
   {
    "duration": 11,
    "start_time": "2025-02-04T16:00:38.910Z"
   },
   {
    "duration": 77,
    "start_time": "2025-02-04T16:00:38.922Z"
   },
   {
    "duration": 9,
    "start_time": "2025-02-04T16:00:39.001Z"
   },
   {
    "duration": 53,
    "start_time": "2025-02-04T16:00:39.011Z"
   },
   {
    "duration": 243,
    "start_time": "2025-02-04T16:00:39.065Z"
   },
   {
    "duration": 33,
    "start_time": "2025-02-04T16:00:39.309Z"
   },
   {
    "duration": 47,
    "start_time": "2025-02-04T16:00:39.343Z"
   },
   {
    "duration": 137,
    "start_time": "2025-02-04T16:00:39.391Z"
   },
   {
    "duration": 36,
    "start_time": "2025-02-04T16:00:39.530Z"
   },
   {
    "duration": 16,
    "start_time": "2025-02-04T16:00:39.568Z"
   },
   {
    "duration": 593,
    "start_time": "2025-02-04T16:00:39.585Z"
   },
   {
    "duration": 22,
    "start_time": "2025-02-04T16:00:40.180Z"
   },
   {
    "duration": 171,
    "start_time": "2025-02-04T16:00:40.204Z"
   },
   {
    "duration": 61,
    "start_time": "2025-02-04T16:00:40.376Z"
   },
   {
    "duration": 37,
    "start_time": "2025-02-04T16:00:40.439Z"
   },
   {
    "duration": 37,
    "start_time": "2025-02-04T16:00:40.478Z"
   },
   {
    "duration": 17,
    "start_time": "2025-02-04T16:00:40.517Z"
   },
   {
    "duration": 130,
    "start_time": "2025-02-04T16:00:40.535Z"
   },
   {
    "duration": 12,
    "start_time": "2025-02-04T16:00:40.666Z"
   },
   {
    "duration": 30,
    "start_time": "2025-02-04T16:00:40.680Z"
   },
   {
    "duration": 40,
    "start_time": "2025-02-04T16:00:40.712Z"
   },
   {
    "duration": 25,
    "start_time": "2025-02-04T16:00:40.753Z"
   },
   {
    "duration": 30,
    "start_time": "2025-02-04T16:00:40.780Z"
   },
   {
    "duration": 17,
    "start_time": "2025-02-04T16:00:40.811Z"
   },
   {
    "duration": 18,
    "start_time": "2025-02-04T16:00:40.832Z"
   },
   {
    "duration": 166,
    "start_time": "2025-02-04T16:00:40.851Z"
   },
   {
    "duration": 118,
    "start_time": "2025-02-04T16:00:41.018Z"
   },
   {
    "duration": 76,
    "start_time": "2025-02-04T16:00:41.137Z"
   },
   {
    "duration": 65,
    "start_time": "2025-02-04T16:00:41.215Z"
   },
   {
    "duration": 36,
    "start_time": "2025-02-04T16:00:41.281Z"
   },
   {
    "duration": 78,
    "start_time": "2025-02-04T16:00:41.319Z"
   },
   {
    "duration": 198,
    "start_time": "2025-02-04T16:00:41.398Z"
   },
   {
    "duration": 4,
    "start_time": "2025-02-04T16:00:41.598Z"
   },
   {
    "duration": 148,
    "start_time": "2025-02-04T16:00:41.604Z"
   },
   {
    "duration": 668,
    "start_time": "2025-02-04T16:00:41.754Z"
   },
   {
    "duration": 2,
    "start_time": "2025-02-04T16:00:42.424Z"
   },
   {
    "duration": 1016,
    "start_time": "2025-02-04T16:01:24.503Z"
   },
   {
    "duration": 3696,
    "start_time": "2025-02-04T16:01:42.170Z"
   },
   {
    "duration": 2082,
    "start_time": "2025-02-04T16:01:45.868Z"
   },
   {
    "duration": 40,
    "start_time": "2025-02-04T16:01:47.952Z"
   },
   {
    "duration": 11,
    "start_time": "2025-02-04T16:01:47.995Z"
   },
   {
    "duration": 21,
    "start_time": "2025-02-04T16:01:48.007Z"
   },
   {
    "duration": 16,
    "start_time": "2025-02-04T16:01:48.030Z"
   },
   {
    "duration": 107,
    "start_time": "2025-02-04T16:01:48.047Z"
   },
   {
    "duration": 9,
    "start_time": "2025-02-04T16:01:48.156Z"
   },
   {
    "duration": 20,
    "start_time": "2025-02-04T16:01:48.166Z"
   },
   {
    "duration": 13,
    "start_time": "2025-02-04T16:01:48.188Z"
   },
   {
    "duration": 59,
    "start_time": "2025-02-04T16:01:48.203Z"
   },
   {
    "duration": 7,
    "start_time": "2025-02-04T16:01:48.264Z"
   },
   {
    "duration": 20,
    "start_time": "2025-02-04T16:01:48.274Z"
   },
   {
    "duration": 10,
    "start_time": "2025-02-04T16:01:48.296Z"
   },
   {
    "duration": 18,
    "start_time": "2025-02-04T16:01:48.308Z"
   },
   {
    "duration": 7,
    "start_time": "2025-02-04T16:01:48.328Z"
   },
   {
    "duration": 28,
    "start_time": "2025-02-04T16:01:48.337Z"
   },
   {
    "duration": 14,
    "start_time": "2025-02-04T16:01:48.367Z"
   },
   {
    "duration": 52,
    "start_time": "2025-02-04T16:01:48.383Z"
   },
   {
    "duration": 241,
    "start_time": "2025-02-04T16:01:48.437Z"
   },
   {
    "duration": 42,
    "start_time": "2025-02-04T16:01:48.679Z"
   },
   {
    "duration": 27,
    "start_time": "2025-02-04T16:01:48.722Z"
   },
   {
    "duration": 15,
    "start_time": "2025-02-04T16:01:48.750Z"
   },
   {
    "duration": 57,
    "start_time": "2025-02-04T16:01:48.767Z"
   },
   {
    "duration": 17,
    "start_time": "2025-02-04T16:01:48.826Z"
   },
   {
    "duration": 647,
    "start_time": "2025-02-04T16:01:48.845Z"
   },
   {
    "duration": 19,
    "start_time": "2025-02-04T16:01:49.494Z"
   },
   {
    "duration": 221,
    "start_time": "2025-02-04T16:01:49.517Z"
   },
   {
    "duration": 64,
    "start_time": "2025-02-04T16:01:49.739Z"
   },
   {
    "duration": 38,
    "start_time": "2025-02-04T16:01:49.804Z"
   },
   {
    "duration": 55,
    "start_time": "2025-02-04T16:01:49.844Z"
   },
   {
    "duration": 20,
    "start_time": "2025-02-04T16:01:49.900Z"
   },
   {
    "duration": 211,
    "start_time": "2025-02-04T16:01:49.921Z"
   },
   {
    "duration": 13,
    "start_time": "2025-02-04T16:01:50.133Z"
   },
   {
    "duration": 48,
    "start_time": "2025-02-04T16:01:50.147Z"
   },
   {
    "duration": 72,
    "start_time": "2025-02-04T16:01:50.196Z"
   },
   {
    "duration": 25,
    "start_time": "2025-02-04T16:01:50.270Z"
   },
   {
    "duration": 75,
    "start_time": "2025-02-04T16:01:50.297Z"
   },
   {
    "duration": 11,
    "start_time": "2025-02-04T16:01:50.374Z"
   },
   {
    "duration": 18,
    "start_time": "2025-02-04T16:01:50.386Z"
   },
   {
    "duration": 161,
    "start_time": "2025-02-04T16:01:50.406Z"
   },
   {
    "duration": 124,
    "start_time": "2025-02-04T16:01:50.568Z"
   },
   {
    "duration": 67,
    "start_time": "2025-02-04T16:01:50.694Z"
   },
   {
    "duration": 82,
    "start_time": "2025-02-04T16:01:50.762Z"
   },
   {
    "duration": 17,
    "start_time": "2025-02-04T16:01:50.846Z"
   },
   {
    "duration": 78,
    "start_time": "2025-02-04T16:01:50.865Z"
   },
   {
    "duration": 293,
    "start_time": "2025-02-04T16:01:50.944Z"
   },
   {
    "duration": 4,
    "start_time": "2025-02-04T16:01:51.238Z"
   },
   {
    "duration": 158,
    "start_time": "2025-02-04T16:01:51.243Z"
   },
   {
    "duration": 670,
    "start_time": "2025-02-04T16:01:51.403Z"
   },
   {
    "duration": 2,
    "start_time": "2025-02-04T16:01:52.075Z"
   },
   {
    "duration": 3641,
    "start_time": "2025-02-04T17:17:32.554Z"
   },
   {
    "duration": 2136,
    "start_time": "2025-02-04T17:17:36.197Z"
   },
   {
    "duration": 41,
    "start_time": "2025-02-04T17:17:38.335Z"
   },
   {
    "duration": 3,
    "start_time": "2025-02-04T17:17:38.378Z"
   },
   {
    "duration": 37,
    "start_time": "2025-02-04T17:17:38.384Z"
   },
   {
    "duration": 25,
    "start_time": "2025-02-04T17:17:38.423Z"
   },
   {
    "duration": 111,
    "start_time": "2025-02-04T17:17:38.450Z"
   },
   {
    "duration": 8,
    "start_time": "2025-02-04T17:17:38.563Z"
   },
   {
    "duration": 27,
    "start_time": "2025-02-04T17:17:38.573Z"
   },
   {
    "duration": 8,
    "start_time": "2025-02-04T17:17:38.601Z"
   },
   {
    "duration": 30,
    "start_time": "2025-02-04T17:17:38.610Z"
   },
   {
    "duration": 7,
    "start_time": "2025-02-04T17:17:38.642Z"
   },
   {
    "duration": 31,
    "start_time": "2025-02-04T17:17:38.650Z"
   },
   {
    "duration": 32,
    "start_time": "2025-02-04T17:17:38.684Z"
   },
   {
    "duration": 13,
    "start_time": "2025-02-04T17:17:38.718Z"
   },
   {
    "duration": 26,
    "start_time": "2025-02-04T17:17:38.732Z"
   },
   {
    "duration": 32,
    "start_time": "2025-02-04T17:17:38.759Z"
   },
   {
    "duration": 9,
    "start_time": "2025-02-04T17:17:38.792Z"
   },
   {
    "duration": 48,
    "start_time": "2025-02-04T17:17:38.803Z"
   },
   {
    "duration": 247,
    "start_time": "2025-02-04T17:17:38.853Z"
   },
   {
    "duration": 33,
    "start_time": "2025-02-04T17:17:39.101Z"
   },
   {
    "duration": 23,
    "start_time": "2025-02-04T17:17:39.135Z"
   },
   {
    "duration": 14,
    "start_time": "2025-02-04T17:17:39.159Z"
   },
   {
    "duration": 49,
    "start_time": "2025-02-04T17:17:39.174Z"
   },
   {
    "duration": 16,
    "start_time": "2025-02-04T17:17:39.224Z"
   },
   {
    "duration": 687,
    "start_time": "2025-02-04T17:17:39.241Z"
   },
   {
    "duration": 15,
    "start_time": "2025-02-04T17:17:39.930Z"
   },
   {
    "duration": 195,
    "start_time": "2025-02-04T17:17:39.946Z"
   },
   {
    "duration": 57,
    "start_time": "2025-02-04T17:17:40.143Z"
   },
   {
    "duration": 36,
    "start_time": "2025-02-04T17:17:40.202Z"
   },
   {
    "duration": 20,
    "start_time": "2025-02-04T17:17:40.240Z"
   },
   {
    "duration": 16,
    "start_time": "2025-02-04T17:17:40.262Z"
   },
   {
    "duration": 163,
    "start_time": "2025-02-04T17:17:40.300Z"
   },
   {
    "duration": 11,
    "start_time": "2025-02-04T17:17:40.465Z"
   },
   {
    "duration": 23,
    "start_time": "2025-02-04T17:17:40.477Z"
   },
   {
    "duration": 40,
    "start_time": "2025-02-04T17:17:40.502Z"
   },
   {
    "duration": 25,
    "start_time": "2025-02-04T17:17:40.543Z"
   },
   {
    "duration": 33,
    "start_time": "2025-02-04T17:17:40.570Z"
   },
   {
    "duration": 9,
    "start_time": "2025-02-04T17:17:40.605Z"
   },
   {
    "duration": 34,
    "start_time": "2025-02-04T17:17:40.615Z"
   },
   {
    "duration": 150,
    "start_time": "2025-02-04T17:17:40.653Z"
   },
   {
    "duration": 116,
    "start_time": "2025-02-04T17:17:40.804Z"
   },
   {
    "duration": 60,
    "start_time": "2025-02-04T17:17:40.922Z"
   },
   {
    "duration": 81,
    "start_time": "2025-02-04T17:17:40.983Z"
   },
   {
    "duration": 16,
    "start_time": "2025-02-04T17:17:41.066Z"
   },
   {
    "duration": 73,
    "start_time": "2025-02-04T17:17:41.084Z"
   },
   {
    "duration": 406,
    "start_time": "2025-02-04T17:17:41.159Z"
   },
   {
    "duration": 4,
    "start_time": "2025-02-04T17:17:41.566Z"
   },
   {
    "duration": 148,
    "start_time": "2025-02-04T17:17:41.571Z"
   },
   {
    "duration": 669,
    "start_time": "2025-02-04T17:17:41.720Z"
   },
   {
    "duration": 9,
    "start_time": "2025-02-04T17:17:42.391Z"
   },
   {
    "duration": 1036,
    "start_time": "2025-02-04T17:19:38.603Z"
   },
   {
    "duration": 3513,
    "start_time": "2025-02-04T17:19:57.921Z"
   },
   {
    "duration": 2205,
    "start_time": "2025-02-04T17:20:01.436Z"
   },
   {
    "duration": 37,
    "start_time": "2025-02-04T17:20:03.643Z"
   },
   {
    "duration": 36,
    "start_time": "2025-02-04T17:20:03.682Z"
   },
   {
    "duration": 15,
    "start_time": "2025-02-04T17:20:03.720Z"
   },
   {
    "duration": 148,
    "start_time": "2025-02-04T17:20:03.737Z"
   },
   {
    "duration": 109,
    "start_time": "2025-02-04T17:20:03.886Z"
   },
   {
    "duration": 8,
    "start_time": "2025-02-04T17:20:03.997Z"
   },
   {
    "duration": 37,
    "start_time": "2025-02-04T17:20:04.006Z"
   },
   {
    "duration": 9,
    "start_time": "2025-02-04T17:20:04.045Z"
   },
   {
    "duration": 86,
    "start_time": "2025-02-04T17:20:04.056Z"
   },
   {
    "duration": 7,
    "start_time": "2025-02-04T17:20:04.144Z"
   },
   {
    "duration": 20,
    "start_time": "2025-02-04T17:20:04.152Z"
   },
   {
    "duration": 76,
    "start_time": "2025-02-04T17:20:04.175Z"
   },
   {
    "duration": 15,
    "start_time": "2025-02-04T17:20:04.253Z"
   },
   {
    "duration": 77,
    "start_time": "2025-02-04T17:20:04.270Z"
   },
   {
    "duration": 13,
    "start_time": "2025-02-04T17:20:04.348Z"
   },
   {
    "duration": 10,
    "start_time": "2025-02-04T17:20:04.362Z"
   },
   {
    "duration": 138,
    "start_time": "2025-02-04T17:20:04.373Z"
   },
   {
    "duration": 253,
    "start_time": "2025-02-04T17:20:04.513Z"
   },
   {
    "duration": 37,
    "start_time": "2025-02-04T17:20:04.767Z"
   },
   {
    "duration": 25,
    "start_time": "2025-02-04T17:20:04.806Z"
   },
   {
    "duration": 27,
    "start_time": "2025-02-04T17:20:04.832Z"
   },
   {
    "duration": 40,
    "start_time": "2025-02-04T17:20:04.861Z"
   },
   {
    "duration": 31,
    "start_time": "2025-02-04T17:20:04.903Z"
   },
   {
    "duration": 661,
    "start_time": "2025-02-04T17:20:04.935Z"
   },
   {
    "duration": 17,
    "start_time": "2025-02-04T17:20:05.598Z"
   },
   {
    "duration": 298,
    "start_time": "2025-02-04T17:20:05.616Z"
   },
   {
    "duration": 56,
    "start_time": "2025-02-04T17:20:05.915Z"
   },
   {
    "duration": 53,
    "start_time": "2025-02-04T17:20:05.972Z"
   },
   {
    "duration": 23,
    "start_time": "2025-02-04T17:20:06.026Z"
   },
   {
    "duration": 85,
    "start_time": "2025-02-04T17:20:06.051Z"
   },
   {
    "duration": 121,
    "start_time": "2025-02-04T17:20:06.138Z"
   },
   {
    "duration": 11,
    "start_time": "2025-02-04T17:20:06.261Z"
   },
   {
    "duration": 84,
    "start_time": "2025-02-04T17:20:06.274Z"
   },
   {
    "duration": 39,
    "start_time": "2025-02-04T17:20:06.360Z"
   },
   {
    "duration": 163,
    "start_time": "2025-02-04T17:20:06.401Z"
   },
   {
    "duration": 17,
    "start_time": "2025-02-04T17:20:06.566Z"
   },
   {
    "duration": 34,
    "start_time": "2025-02-04T17:20:06.584Z"
   },
   {
    "duration": 44,
    "start_time": "2025-02-04T17:20:06.619Z"
   },
   {
    "duration": 184,
    "start_time": "2025-02-04T17:20:06.666Z"
   },
   {
    "duration": 175,
    "start_time": "2025-02-04T17:20:06.852Z"
   },
   {
    "duration": 106,
    "start_time": "2025-02-04T17:20:07.029Z"
   },
   {
    "duration": 79,
    "start_time": "2025-02-04T17:20:07.137Z"
   },
   {
    "duration": 17,
    "start_time": "2025-02-04T17:20:07.218Z"
   },
   {
    "duration": 127,
    "start_time": "2025-02-04T17:20:07.236Z"
   },
   {
    "duration": 308,
    "start_time": "2025-02-04T17:20:07.364Z"
   },
   {
    "duration": 0,
    "start_time": "2025-02-04T17:20:07.674Z"
   },
   {
    "duration": 0,
    "start_time": "2025-02-04T17:20:07.675Z"
   },
   {
    "duration": 0,
    "start_time": "2025-02-04T17:20:07.676Z"
   },
   {
    "duration": 0,
    "start_time": "2025-02-04T17:20:07.677Z"
   },
   {
    "duration": 11,
    "start_time": "2025-02-04T17:20:44.126Z"
   },
   {
    "duration": 870,
    "start_time": "2025-02-04T17:21:04.679Z"
   },
   {
    "duration": 3657,
    "start_time": "2025-02-04T17:21:20.875Z"
   },
   {
    "duration": 2098,
    "start_time": "2025-02-04T17:21:24.534Z"
   },
   {
    "duration": 40,
    "start_time": "2025-02-04T17:21:26.633Z"
   },
   {
    "duration": 4,
    "start_time": "2025-02-04T17:21:26.675Z"
   },
   {
    "duration": 10,
    "start_time": "2025-02-04T17:21:26.680Z"
   },
   {
    "duration": 17,
    "start_time": "2025-02-04T17:21:26.692Z"
   },
   {
    "duration": 109,
    "start_time": "2025-02-04T17:21:26.710Z"
   },
   {
    "duration": 7,
    "start_time": "2025-02-04T17:21:26.821Z"
   },
   {
    "duration": 25,
    "start_time": "2025-02-04T17:21:26.829Z"
   },
   {
    "duration": 27,
    "start_time": "2025-02-04T17:21:26.856Z"
   },
   {
    "duration": 25,
    "start_time": "2025-02-04T17:21:26.885Z"
   },
   {
    "duration": 7,
    "start_time": "2025-02-04T17:21:26.912Z"
   },
   {
    "duration": 20,
    "start_time": "2025-02-04T17:21:26.920Z"
   },
   {
    "duration": 10,
    "start_time": "2025-02-04T17:21:26.941Z"
   },
   {
    "duration": 11,
    "start_time": "2025-02-04T17:21:26.953Z"
   },
   {
    "duration": 35,
    "start_time": "2025-02-04T17:21:26.966Z"
   },
   {
    "duration": 9,
    "start_time": "2025-02-04T17:21:27.003Z"
   },
   {
    "duration": 7,
    "start_time": "2025-02-04T17:21:27.014Z"
   },
   {
    "duration": 48,
    "start_time": "2025-02-04T17:21:27.023Z"
   },
   {
    "duration": 248,
    "start_time": "2025-02-04T17:21:27.073Z"
   },
   {
    "duration": 33,
    "start_time": "2025-02-04T17:21:27.322Z"
   },
   {
    "duration": 23,
    "start_time": "2025-02-04T17:21:27.357Z"
   },
   {
    "duration": 30,
    "start_time": "2025-02-04T17:21:27.381Z"
   },
   {
    "duration": 30,
    "start_time": "2025-02-04T17:21:27.412Z"
   },
   {
    "duration": 15,
    "start_time": "2025-02-04T17:21:27.444Z"
   },
   {
    "duration": 607,
    "start_time": "2025-02-04T17:21:27.461Z"
   },
   {
    "duration": 14,
    "start_time": "2025-02-04T17:21:28.069Z"
   },
   {
    "duration": 169,
    "start_time": "2025-02-04T17:21:28.099Z"
   },
   {
    "duration": 62,
    "start_time": "2025-02-04T17:21:28.270Z"
   },
   {
    "duration": 43,
    "start_time": "2025-02-04T17:21:28.334Z"
   },
   {
    "duration": 35,
    "start_time": "2025-02-04T17:21:28.378Z"
   },
   {
    "duration": 19,
    "start_time": "2025-02-04T17:21:28.415Z"
   },
   {
    "duration": 165,
    "start_time": "2025-02-04T17:21:28.435Z"
   },
   {
    "duration": 12,
    "start_time": "2025-02-04T17:21:28.602Z"
   },
   {
    "duration": 28,
    "start_time": "2025-02-04T17:21:28.616Z"
   },
   {
    "duration": 42,
    "start_time": "2025-02-04T17:21:28.646Z"
   },
   {
    "duration": 27,
    "start_time": "2025-02-04T17:21:28.700Z"
   },
   {
    "duration": 29,
    "start_time": "2025-02-04T17:21:28.728Z"
   },
   {
    "duration": 19,
    "start_time": "2025-02-04T17:21:28.759Z"
   },
   {
    "duration": 28,
    "start_time": "2025-02-04T17:21:28.780Z"
   },
   {
    "duration": 162,
    "start_time": "2025-02-04T17:21:28.810Z"
   },
   {
    "duration": 119,
    "start_time": "2025-02-04T17:21:28.973Z"
   },
   {
    "duration": 65,
    "start_time": "2025-02-04T17:21:29.093Z"
   },
   {
    "duration": 84,
    "start_time": "2025-02-04T17:21:29.159Z"
   },
   {
    "duration": 17,
    "start_time": "2025-02-04T17:21:29.244Z"
   },
   {
    "duration": 115,
    "start_time": "2025-02-04T17:21:29.263Z"
   },
   {
    "duration": 772,
    "start_time": "2025-02-04T17:21:29.379Z"
   },
   {
    "duration": 0,
    "start_time": "2025-02-04T17:21:30.153Z"
   },
   {
    "duration": 0,
    "start_time": "2025-02-04T17:21:30.154Z"
   },
   {
    "duration": 0,
    "start_time": "2025-02-04T17:21:30.156Z"
   },
   {
    "duration": 0,
    "start_time": "2025-02-04T17:21:30.157Z"
   },
   {
    "duration": 927,
    "start_time": "2025-02-04T17:23:58.800Z"
   },
   {
    "duration": 3794,
    "start_time": "2025-02-04T17:24:34.112Z"
   },
   {
    "duration": 2366,
    "start_time": "2025-02-04T17:24:37.908Z"
   },
   {
    "duration": 40,
    "start_time": "2025-02-04T17:24:40.275Z"
   },
   {
    "duration": 52,
    "start_time": "2025-02-04T17:24:40.317Z"
   },
   {
    "duration": 5,
    "start_time": "2025-02-04T17:24:40.371Z"
   },
   {
    "duration": 12,
    "start_time": "2025-02-04T17:24:40.377Z"
   },
   {
    "duration": 102,
    "start_time": "2025-02-04T17:24:40.390Z"
   },
   {
    "duration": 8,
    "start_time": "2025-02-04T17:24:40.493Z"
   },
   {
    "duration": 11,
    "start_time": "2025-02-04T17:24:40.502Z"
   },
   {
    "duration": 18,
    "start_time": "2025-02-04T17:24:40.514Z"
   },
   {
    "duration": 25,
    "start_time": "2025-02-04T17:24:40.534Z"
   },
   {
    "duration": 7,
    "start_time": "2025-02-04T17:24:40.561Z"
   },
   {
    "duration": 48,
    "start_time": "2025-02-04T17:24:40.569Z"
   },
   {
    "duration": 9,
    "start_time": "2025-02-04T17:24:40.620Z"
   },
   {
    "duration": 18,
    "start_time": "2025-02-04T17:24:40.631Z"
   },
   {
    "duration": 10,
    "start_time": "2025-02-04T17:24:40.650Z"
   },
   {
    "duration": 43,
    "start_time": "2025-02-04T17:24:40.661Z"
   },
   {
    "duration": 9,
    "start_time": "2025-02-04T17:24:40.705Z"
   },
   {
    "duration": 67,
    "start_time": "2025-02-04T17:24:40.716Z"
   },
   {
    "duration": 245,
    "start_time": "2025-02-04T17:24:40.785Z"
   },
   {
    "duration": 34,
    "start_time": "2025-02-04T17:24:41.032Z"
   },
   {
    "duration": 39,
    "start_time": "2025-02-04T17:24:41.068Z"
   },
   {
    "duration": 30,
    "start_time": "2025-02-04T17:24:41.108Z"
   },
   {
    "duration": 34,
    "start_time": "2025-02-04T17:24:41.140Z"
   },
   {
    "duration": 25,
    "start_time": "2025-02-04T17:24:41.176Z"
   },
   {
    "duration": 638,
    "start_time": "2025-02-04T17:24:41.203Z"
   },
   {
    "duration": 17,
    "start_time": "2025-02-04T17:24:41.842Z"
   },
   {
    "duration": 221,
    "start_time": "2025-02-04T17:24:41.861Z"
   },
   {
    "duration": 69,
    "start_time": "2025-02-04T17:24:42.084Z"
   },
   {
    "duration": 48,
    "start_time": "2025-02-04T17:24:42.155Z"
   },
   {
    "duration": 24,
    "start_time": "2025-02-04T17:24:42.205Z"
   },
   {
    "duration": 127,
    "start_time": "2025-02-04T17:24:42.230Z"
   },
   {
    "duration": 124,
    "start_time": "2025-02-04T17:24:42.359Z"
   },
   {
    "duration": 24,
    "start_time": "2025-02-04T17:24:42.485Z"
   },
   {
    "duration": 25,
    "start_time": "2025-02-04T17:24:42.511Z"
   },
   {
    "duration": 62,
    "start_time": "2025-02-04T17:24:42.538Z"
   },
   {
    "duration": 26,
    "start_time": "2025-02-04T17:24:42.602Z"
   },
   {
    "duration": 13,
    "start_time": "2025-02-04T17:24:42.630Z"
   },
   {
    "duration": 11,
    "start_time": "2025-02-04T17:24:42.645Z"
   },
   {
    "duration": 53,
    "start_time": "2025-02-04T17:24:42.658Z"
   },
   {
    "duration": 171,
    "start_time": "2025-02-04T17:24:42.714Z"
   },
   {
    "duration": 149,
    "start_time": "2025-02-04T17:24:42.887Z"
   },
   {
    "duration": 72,
    "start_time": "2025-02-04T17:24:43.037Z"
   },
   {
    "duration": 70,
    "start_time": "2025-02-04T17:24:43.110Z"
   },
   {
    "duration": 34,
    "start_time": "2025-02-04T17:24:43.181Z"
   },
   {
    "duration": 62,
    "start_time": "2025-02-04T17:24:43.216Z"
   },
   {
    "duration": 163,
    "start_time": "2025-02-04T17:24:43.279Z"
   },
   {
    "duration": 921,
    "start_time": "2025-02-04T17:24:43.444Z"
   },
   {
    "duration": 4,
    "start_time": "2025-02-04T17:24:44.368Z"
   },
   {
    "duration": 724,
    "start_time": "2025-02-04T17:24:44.373Z"
   },
   {
    "duration": 3,
    "start_time": "2025-02-04T17:24:45.100Z"
   },
   {
    "duration": 133,
    "start_time": "2025-02-04T20:37:45.543Z"
   },
   {
    "duration": 4,
    "start_time": "2025-02-04T20:37:49.968Z"
   },
   {
    "duration": 8,
    "start_time": "2025-02-04T20:39:09.405Z"
   },
   {
    "duration": 8,
    "start_time": "2025-02-04T20:39:23.460Z"
   },
   {
    "duration": 9,
    "start_time": "2025-02-04T20:41:35.385Z"
   },
   {
    "duration": 835,
    "start_time": "2025-02-04T20:41:53.903Z"
   },
   {
    "duration": 3473,
    "start_time": "2025-02-04T20:52:26.330Z"
   },
   {
    "duration": 2145,
    "start_time": "2025-02-04T20:52:29.806Z"
   },
   {
    "duration": 37,
    "start_time": "2025-02-04T20:52:31.953Z"
   },
   {
    "duration": 4,
    "start_time": "2025-02-04T20:52:31.992Z"
   },
   {
    "duration": 19,
    "start_time": "2025-02-04T20:52:31.998Z"
   },
   {
    "duration": 12,
    "start_time": "2025-02-04T20:52:32.019Z"
   },
   {
    "duration": 106,
    "start_time": "2025-02-04T20:52:32.032Z"
   },
   {
    "duration": 7,
    "start_time": "2025-02-04T20:52:32.140Z"
   },
   {
    "duration": 11,
    "start_time": "2025-02-04T20:52:32.148Z"
   },
   {
    "duration": 10,
    "start_time": "2025-02-04T20:52:32.161Z"
   },
   {
    "duration": 43,
    "start_time": "2025-02-04T20:52:32.172Z"
   },
   {
    "duration": 6,
    "start_time": "2025-02-04T20:52:32.217Z"
   },
   {
    "duration": 26,
    "start_time": "2025-02-04T20:52:32.225Z"
   },
   {
    "duration": 9,
    "start_time": "2025-02-04T20:52:32.252Z"
   },
   {
    "duration": 18,
    "start_time": "2025-02-04T20:52:32.263Z"
   },
   {
    "duration": 24,
    "start_time": "2025-02-04T20:52:32.283Z"
   },
   {
    "duration": 18,
    "start_time": "2025-02-04T20:52:32.309Z"
   },
   {
    "duration": 8,
    "start_time": "2025-02-04T20:52:32.329Z"
   },
   {
    "duration": 42,
    "start_time": "2025-02-04T20:52:32.339Z"
   },
   {
    "duration": 258,
    "start_time": "2025-02-04T20:52:32.382Z"
   },
   {
    "duration": 33,
    "start_time": "2025-02-04T20:52:32.641Z"
   },
   {
    "duration": 37,
    "start_time": "2025-02-04T20:52:32.675Z"
   },
   {
    "duration": 15,
    "start_time": "2025-02-04T20:52:32.713Z"
   },
   {
    "duration": 32,
    "start_time": "2025-02-04T20:52:32.729Z"
   },
   {
    "duration": 37,
    "start_time": "2025-02-04T20:52:32.763Z"
   },
   {
    "duration": 636,
    "start_time": "2025-02-04T20:52:32.802Z"
   },
   {
    "duration": 15,
    "start_time": "2025-02-04T20:52:33.440Z"
   },
   {
    "duration": 196,
    "start_time": "2025-02-04T20:52:33.458Z"
   },
   {
    "duration": 56,
    "start_time": "2025-02-04T20:52:33.655Z"
   },
   {
    "duration": 37,
    "start_time": "2025-02-04T20:52:33.713Z"
   },
   {
    "duration": 21,
    "start_time": "2025-02-04T20:52:33.752Z"
   },
   {
    "duration": 39,
    "start_time": "2025-02-04T20:52:33.775Z"
   },
   {
    "duration": 128,
    "start_time": "2025-02-04T20:52:33.815Z"
   },
   {
    "duration": 11,
    "start_time": "2025-02-04T20:52:33.945Z"
   },
   {
    "duration": 28,
    "start_time": "2025-02-04T20:52:33.957Z"
   },
   {
    "duration": 44,
    "start_time": "2025-02-04T20:52:33.986Z"
   },
   {
    "duration": 24,
    "start_time": "2025-02-04T20:52:34.032Z"
   },
   {
    "duration": 84,
    "start_time": "2025-02-04T20:52:34.058Z"
   },
   {
    "duration": 13,
    "start_time": "2025-02-04T20:52:34.144Z"
   },
   {
    "duration": 29,
    "start_time": "2025-02-04T20:52:34.159Z"
   },
   {
    "duration": 156,
    "start_time": "2025-02-04T20:52:34.189Z"
   },
   {
    "duration": 120,
    "start_time": "2025-02-04T20:52:34.346Z"
   },
   {
    "duration": 66,
    "start_time": "2025-02-04T20:52:34.467Z"
   },
   {
    "duration": 4,
    "start_time": "2025-02-04T20:52:34.534Z"
   },
   {
    "duration": 81,
    "start_time": "2025-02-04T20:52:34.540Z"
   },
   {
    "duration": 18,
    "start_time": "2025-02-04T20:52:34.623Z"
   },
   {
    "duration": 78,
    "start_time": "2025-02-04T20:52:34.643Z"
   },
   {
    "duration": 142,
    "start_time": "2025-02-04T20:52:34.723Z"
   },
   {
    "duration": 923,
    "start_time": "2025-02-04T20:52:34.866Z"
   },
   {
    "duration": 4,
    "start_time": "2025-02-04T20:52:35.791Z"
   },
   {
    "duration": 696,
    "start_time": "2025-02-04T20:52:35.800Z"
   },
   {
    "duration": 3,
    "start_time": "2025-02-04T20:52:36.500Z"
   },
   {
    "duration": 968,
    "start_time": "2025-02-04T20:54:03.973Z"
   },
   {
    "duration": 3532,
    "start_time": "2025-02-04T20:54:34.066Z"
   },
   {
    "duration": 2068,
    "start_time": "2025-02-04T20:54:37.600Z"
   },
   {
    "duration": 40,
    "start_time": "2025-02-04T20:54:39.672Z"
   },
   {
    "duration": 4,
    "start_time": "2025-02-04T20:54:39.714Z"
   },
   {
    "duration": 11,
    "start_time": "2025-02-04T20:54:39.719Z"
   },
   {
    "duration": 25,
    "start_time": "2025-02-04T20:54:39.732Z"
   },
   {
    "duration": 100,
    "start_time": "2025-02-04T20:54:39.759Z"
   },
   {
    "duration": 8,
    "start_time": "2025-02-04T20:54:39.861Z"
   },
   {
    "duration": 10,
    "start_time": "2025-02-04T20:54:39.871Z"
   },
   {
    "duration": 23,
    "start_time": "2025-02-04T20:54:39.883Z"
   },
   {
    "duration": 27,
    "start_time": "2025-02-04T20:54:39.909Z"
   },
   {
    "duration": 7,
    "start_time": "2025-02-04T20:54:39.938Z"
   },
   {
    "duration": 20,
    "start_time": "2025-02-04T20:54:39.948Z"
   },
   {
    "duration": 39,
    "start_time": "2025-02-04T20:54:39.969Z"
   },
   {
    "duration": 37,
    "start_time": "2025-02-04T20:54:40.010Z"
   },
   {
    "duration": 19,
    "start_time": "2025-02-04T20:54:40.049Z"
   },
   {
    "duration": 10,
    "start_time": "2025-02-04T20:54:40.069Z"
   },
   {
    "duration": 10,
    "start_time": "2025-02-04T20:54:40.080Z"
   },
   {
    "duration": 39,
    "start_time": "2025-02-04T20:54:40.091Z"
   },
   {
    "duration": 231,
    "start_time": "2025-02-04T20:54:40.131Z"
   },
   {
    "duration": 43,
    "start_time": "2025-02-04T20:54:40.363Z"
   },
   {
    "duration": 38,
    "start_time": "2025-02-04T20:54:40.407Z"
   },
   {
    "duration": 48,
    "start_time": "2025-02-04T20:54:40.446Z"
   },
   {
    "duration": 67,
    "start_time": "2025-02-04T20:54:40.496Z"
   },
   {
    "duration": 16,
    "start_time": "2025-02-04T20:54:40.565Z"
   },
   {
    "duration": 608,
    "start_time": "2025-02-04T20:54:40.582Z"
   },
   {
    "duration": 19,
    "start_time": "2025-02-04T20:54:41.192Z"
   },
   {
    "duration": 184,
    "start_time": "2025-02-04T20:54:41.212Z"
   },
   {
    "duration": 54,
    "start_time": "2025-02-04T20:54:41.400Z"
   },
   {
    "duration": 55,
    "start_time": "2025-02-04T20:54:41.456Z"
   },
   {
    "duration": 23,
    "start_time": "2025-02-04T20:54:41.512Z"
   },
   {
    "duration": 18,
    "start_time": "2025-02-04T20:54:41.537Z"
   },
   {
    "duration": 132,
    "start_time": "2025-02-04T20:54:41.556Z"
   },
   {
    "duration": 20,
    "start_time": "2025-02-04T20:54:41.689Z"
   },
   {
    "duration": 16,
    "start_time": "2025-02-04T20:54:41.711Z"
   },
   {
    "duration": 39,
    "start_time": "2025-02-04T20:54:41.728Z"
   },
   {
    "duration": 40,
    "start_time": "2025-02-04T20:54:41.769Z"
   },
   {
    "duration": 14,
    "start_time": "2025-02-04T20:54:41.810Z"
   },
   {
    "duration": 14,
    "start_time": "2025-02-04T20:54:41.826Z"
   },
   {
    "duration": 21,
    "start_time": "2025-02-04T20:54:41.843Z"
   },
   {
    "duration": 171,
    "start_time": "2025-02-04T20:54:41.866Z"
   },
   {
    "duration": 115,
    "start_time": "2025-02-04T20:54:42.039Z"
   },
   {
    "duration": 65,
    "start_time": "2025-02-04T20:54:42.156Z"
   },
   {
    "duration": 16,
    "start_time": "2025-02-04T20:54:42.223Z"
   },
   {
    "duration": 84,
    "start_time": "2025-02-04T20:54:42.241Z"
   },
   {
    "duration": 18,
    "start_time": "2025-02-04T20:54:42.327Z"
   },
   {
    "duration": 73,
    "start_time": "2025-02-04T20:54:42.347Z"
   },
   {
    "duration": 148,
    "start_time": "2025-02-04T20:54:42.421Z"
   },
   {
    "duration": 859,
    "start_time": "2025-02-04T20:54:42.570Z"
   },
   {
    "duration": 3,
    "start_time": "2025-02-04T20:54:43.431Z"
   },
   {
    "duration": 693,
    "start_time": "2025-02-04T20:54:43.436Z"
   },
   {
    "duration": 2,
    "start_time": "2025-02-04T20:54:44.130Z"
   },
   {
    "duration": 976,
    "start_time": "2025-02-04T20:56:06.192Z"
   },
   {
    "duration": 3699,
    "start_time": "2025-02-04T21:04:13.513Z"
   },
   {
    "duration": 2074,
    "start_time": "2025-02-04T21:04:17.214Z"
   },
   {
    "duration": 36,
    "start_time": "2025-02-04T21:04:19.290Z"
   },
   {
    "duration": 5,
    "start_time": "2025-02-04T21:04:19.327Z"
   },
   {
    "duration": 14,
    "start_time": "2025-02-04T21:04:19.334Z"
   },
   {
    "duration": 88,
    "start_time": "2025-02-04T21:04:19.349Z"
   },
   {
    "duration": 99,
    "start_time": "2025-02-04T21:04:19.439Z"
   },
   {
    "duration": 8,
    "start_time": "2025-02-04T21:04:19.540Z"
   },
   {
    "duration": 10,
    "start_time": "2025-02-04T21:04:19.550Z"
   },
   {
    "duration": 16,
    "start_time": "2025-02-04T21:04:19.561Z"
   },
   {
    "duration": 41,
    "start_time": "2025-02-04T21:04:19.578Z"
   },
   {
    "duration": 7,
    "start_time": "2025-02-04T21:04:19.621Z"
   },
   {
    "duration": 20,
    "start_time": "2025-02-04T21:04:19.630Z"
   },
   {
    "duration": 10,
    "start_time": "2025-02-04T21:04:19.653Z"
   },
   {
    "duration": 37,
    "start_time": "2025-02-04T21:04:19.665Z"
   },
   {
    "duration": 7,
    "start_time": "2025-02-04T21:04:19.704Z"
   },
   {
    "duration": 11,
    "start_time": "2025-02-04T21:04:19.712Z"
   },
   {
    "duration": 8,
    "start_time": "2025-02-04T21:04:19.725Z"
   },
   {
    "duration": 65,
    "start_time": "2025-02-04T21:04:19.735Z"
   },
   {
    "duration": 232,
    "start_time": "2025-02-04T21:04:19.802Z"
   },
   {
    "duration": 31,
    "start_time": "2025-02-04T21:04:20.036Z"
   },
   {
    "duration": 40,
    "start_time": "2025-02-04T21:04:20.069Z"
   },
   {
    "duration": 94,
    "start_time": "2025-02-04T21:04:20.110Z"
   },
   {
    "duration": 36,
    "start_time": "2025-02-04T21:04:20.205Z"
   },
   {
    "duration": 16,
    "start_time": "2025-02-04T21:04:20.242Z"
   },
   {
    "duration": 624,
    "start_time": "2025-02-04T21:04:20.259Z"
   },
   {
    "duration": 23,
    "start_time": "2025-02-04T21:04:20.884Z"
   },
   {
    "duration": 178,
    "start_time": "2025-02-04T21:04:20.909Z"
   },
   {
    "duration": 55,
    "start_time": "2025-02-04T21:04:21.089Z"
   },
   {
    "duration": 65,
    "start_time": "2025-02-04T21:04:21.145Z"
   },
   {
    "duration": 60,
    "start_time": "2025-02-04T21:04:21.212Z"
   },
   {
    "duration": 17,
    "start_time": "2025-02-04T21:04:21.274Z"
   },
   {
    "duration": 115,
    "start_time": "2025-02-04T21:04:21.293Z"
   },
   {
    "duration": 11,
    "start_time": "2025-02-04T21:04:21.410Z"
   },
   {
    "duration": 16,
    "start_time": "2025-02-04T21:04:21.423Z"
   },
   {
    "duration": 59,
    "start_time": "2025-02-04T21:04:21.441Z"
   },
   {
    "duration": 23,
    "start_time": "2025-02-04T21:04:21.502Z"
   },
   {
    "duration": 12,
    "start_time": "2025-02-04T21:04:21.527Z"
   },
   {
    "duration": 9,
    "start_time": "2025-02-04T21:04:21.541Z"
   },
   {
    "duration": 19,
    "start_time": "2025-02-04T21:04:21.551Z"
   },
   {
    "duration": 162,
    "start_time": "2025-02-04T21:04:21.599Z"
   },
   {
    "duration": 135,
    "start_time": "2025-02-04T21:04:21.763Z"
   },
   {
    "duration": 61,
    "start_time": "2025-02-04T21:04:21.900Z"
   },
   {
    "duration": 17,
    "start_time": "2025-02-04T21:04:21.963Z"
   },
   {
    "duration": 14,
    "start_time": "2025-02-04T21:04:22.001Z"
   },
   {
    "duration": 687,
    "start_time": "2025-02-04T21:04:22.017Z"
   },
   {
    "duration": 2,
    "start_time": "2025-02-04T21:04:22.706Z"
   },
   {
    "duration": 2459,
    "start_time": "2025-02-04T21:08:31.218Z"
   },
   {
    "duration": 3627,
    "start_time": "2025-02-04T21:10:34.761Z"
   },
   {
    "duration": 2435,
    "start_time": "2025-02-04T21:10:38.390Z"
   },
   {
    "duration": 40,
    "start_time": "2025-02-04T21:10:40.827Z"
   },
   {
    "duration": 39,
    "start_time": "2025-02-04T21:10:40.869Z"
   },
   {
    "duration": 9,
    "start_time": "2025-02-04T21:10:40.909Z"
   },
   {
    "duration": 13,
    "start_time": "2025-02-04T21:10:40.920Z"
   },
   {
    "duration": 104,
    "start_time": "2025-02-04T21:10:40.935Z"
   },
   {
    "duration": 8,
    "start_time": "2025-02-04T21:10:41.041Z"
   },
   {
    "duration": 25,
    "start_time": "2025-02-04T21:10:41.050Z"
   },
   {
    "duration": 7,
    "start_time": "2025-02-04T21:10:41.077Z"
   },
   {
    "duration": 29,
    "start_time": "2025-02-04T21:10:41.085Z"
   },
   {
    "duration": 6,
    "start_time": "2025-02-04T21:10:41.116Z"
   },
   {
    "duration": 55,
    "start_time": "2025-02-04T21:10:41.124Z"
   },
   {
    "duration": 79,
    "start_time": "2025-02-04T21:10:41.181Z"
   },
   {
    "duration": 22,
    "start_time": "2025-02-04T21:10:41.262Z"
   },
   {
    "duration": 6,
    "start_time": "2025-02-04T21:10:41.286Z"
   },
   {
    "duration": 8,
    "start_time": "2025-02-04T21:10:41.293Z"
   },
   {
    "duration": 8,
    "start_time": "2025-02-04T21:10:41.303Z"
   },
   {
    "duration": 43,
    "start_time": "2025-02-04T21:10:41.312Z"
   },
   {
    "duration": 237,
    "start_time": "2025-02-04T21:10:41.357Z"
   },
   {
    "duration": 33,
    "start_time": "2025-02-04T21:10:41.596Z"
   },
   {
    "duration": 25,
    "start_time": "2025-02-04T21:10:41.631Z"
   },
   {
    "duration": 16,
    "start_time": "2025-02-04T21:10:41.657Z"
   },
   {
    "duration": 56,
    "start_time": "2025-02-04T21:10:41.674Z"
   },
   {
    "duration": 15,
    "start_time": "2025-02-04T21:10:41.732Z"
   },
   {
    "duration": 628,
    "start_time": "2025-02-04T21:10:41.749Z"
   },
   {
    "duration": 27,
    "start_time": "2025-02-04T21:10:42.379Z"
   },
   {
    "duration": 198,
    "start_time": "2025-02-04T21:10:42.411Z"
   },
   {
    "duration": 58,
    "start_time": "2025-02-04T21:10:42.611Z"
   },
   {
    "duration": 56,
    "start_time": "2025-02-04T21:10:42.671Z"
   },
   {
    "duration": 23,
    "start_time": "2025-02-04T21:10:42.728Z"
   },
   {
    "duration": 18,
    "start_time": "2025-02-04T21:10:42.752Z"
   },
   {
    "duration": 141,
    "start_time": "2025-02-04T21:10:42.772Z"
   },
   {
    "duration": 11,
    "start_time": "2025-02-04T21:10:42.915Z"
   },
   {
    "duration": 30,
    "start_time": "2025-02-04T21:10:42.927Z"
   },
   {
    "duration": 43,
    "start_time": "2025-02-04T21:10:42.959Z"
   },
   {
    "duration": 24,
    "start_time": "2025-02-04T21:10:43.003Z"
   },
   {
    "duration": 13,
    "start_time": "2025-02-04T21:10:43.028Z"
   },
   {
    "duration": 9,
    "start_time": "2025-02-04T21:10:43.042Z"
   },
   {
    "duration": 22,
    "start_time": "2025-02-04T21:10:43.052Z"
   },
   {
    "duration": 153,
    "start_time": "2025-02-04T21:10:43.099Z"
   },
   {
    "duration": 114,
    "start_time": "2025-02-04T21:10:43.253Z"
   },
   {
    "duration": 63,
    "start_time": "2025-02-04T21:10:43.368Z"
   },
   {
    "duration": 53,
    "start_time": "2025-02-04T21:10:43.432Z"
   },
   {
    "duration": 7,
    "start_time": "2025-02-04T21:10:43.487Z"
   },
   {
    "duration": 8,
    "start_time": "2025-02-04T21:10:43.496Z"
   },
   {
    "duration": 4,
    "start_time": "2025-02-04T21:10:43.505Z"
   },
   {
    "duration": 108,
    "start_time": "2025-02-04T21:15:21.162Z"
   },
   {
    "duration": 258,
    "start_time": "2025-02-04T21:15:53.158Z"
   },
   {
    "duration": 18,
    "start_time": "2025-02-04T21:31:31.768Z"
   },
   {
    "duration": 278,
    "start_time": "2025-02-04T21:38:11.813Z"
   },
   {
    "duration": 213,
    "start_time": "2025-02-04T21:38:26.320Z"
   },
   {
    "duration": 3614,
    "start_time": "2025-02-04T21:38:37.806Z"
   },
   {
    "duration": 2665,
    "start_time": "2025-02-04T21:38:41.422Z"
   },
   {
    "duration": 37,
    "start_time": "2025-02-04T21:38:44.088Z"
   },
   {
    "duration": 3,
    "start_time": "2025-02-04T21:38:44.127Z"
   },
   {
    "duration": 27,
    "start_time": "2025-02-04T21:38:44.132Z"
   },
   {
    "duration": 31,
    "start_time": "2025-02-04T21:38:44.160Z"
   },
   {
    "duration": 102,
    "start_time": "2025-02-04T21:38:44.192Z"
   },
   {
    "duration": 7,
    "start_time": "2025-02-04T21:38:44.299Z"
   },
   {
    "duration": 41,
    "start_time": "2025-02-04T21:38:44.307Z"
   },
   {
    "duration": 7,
    "start_time": "2025-02-04T21:38:44.349Z"
   },
   {
    "duration": 26,
    "start_time": "2025-02-04T21:38:44.357Z"
   },
   {
    "duration": 6,
    "start_time": "2025-02-04T21:38:44.385Z"
   },
   {
    "duration": 17,
    "start_time": "2025-02-04T21:38:44.393Z"
   },
   {
    "duration": 8,
    "start_time": "2025-02-04T21:38:44.413Z"
   },
   {
    "duration": 23,
    "start_time": "2025-02-04T21:38:44.423Z"
   },
   {
    "duration": 6,
    "start_time": "2025-02-04T21:38:44.448Z"
   },
   {
    "duration": 19,
    "start_time": "2025-02-04T21:38:44.456Z"
   },
   {
    "duration": 8,
    "start_time": "2025-02-04T21:38:44.477Z"
   },
   {
    "duration": 48,
    "start_time": "2025-02-04T21:38:44.487Z"
   },
   {
    "duration": 257,
    "start_time": "2025-02-04T21:38:44.537Z"
   },
   {
    "duration": 33,
    "start_time": "2025-02-04T21:38:44.800Z"
   },
   {
    "duration": 24,
    "start_time": "2025-02-04T21:38:44.834Z"
   },
   {
    "duration": 13,
    "start_time": "2025-02-04T21:38:44.860Z"
   },
   {
    "duration": 52,
    "start_time": "2025-02-04T21:38:44.875Z"
   },
   {
    "duration": 70,
    "start_time": "2025-02-04T21:38:44.929Z"
   },
   {
    "duration": 590,
    "start_time": "2025-02-04T21:38:45.000Z"
   },
   {
    "duration": 23,
    "start_time": "2025-02-04T21:38:45.592Z"
   },
   {
    "duration": 200,
    "start_time": "2025-02-04T21:38:45.616Z"
   },
   {
    "duration": 51,
    "start_time": "2025-02-04T21:38:45.818Z"
   },
   {
    "duration": 57,
    "start_time": "2025-02-04T21:38:45.871Z"
   },
   {
    "duration": 24,
    "start_time": "2025-02-04T21:38:45.930Z"
   },
   {
    "duration": 21,
    "start_time": "2025-02-04T21:38:45.956Z"
   },
   {
    "duration": 125,
    "start_time": "2025-02-04T21:38:45.999Z"
   },
   {
    "duration": 11,
    "start_time": "2025-02-04T21:38:46.126Z"
   },
   {
    "duration": 14,
    "start_time": "2025-02-04T21:38:46.139Z"
   },
   {
    "duration": 58,
    "start_time": "2025-02-04T21:38:46.155Z"
   },
   {
    "duration": 24,
    "start_time": "2025-02-04T21:38:46.214Z"
   },
   {
    "duration": 13,
    "start_time": "2025-02-04T21:38:46.239Z"
   },
   {
    "duration": 10,
    "start_time": "2025-02-04T21:38:46.254Z"
   },
   {
    "duration": 84,
    "start_time": "2025-02-04T21:38:46.266Z"
   },
   {
    "duration": 147,
    "start_time": "2025-02-04T21:38:46.353Z"
   },
   {
    "duration": 108,
    "start_time": "2025-02-04T21:38:46.502Z"
   },
   {
    "duration": 60,
    "start_time": "2025-02-04T21:38:46.612Z"
   },
   {
    "duration": 35,
    "start_time": "2025-02-04T21:38:46.673Z"
   },
   {
    "duration": 390,
    "start_time": "2025-02-04T21:38:46.709Z"
   },
   {
    "duration": 0,
    "start_time": "2025-02-04T21:38:47.101Z"
   },
   {
    "duration": 0,
    "start_time": "2025-02-04T21:38:47.102Z"
   },
   {
    "duration": 0,
    "start_time": "2025-02-04T21:38:47.103Z"
   },
   {
    "duration": 0,
    "start_time": "2025-02-04T21:38:47.104Z"
   },
   {
    "duration": 231,
    "start_time": "2025-02-04T21:39:53.158Z"
   },
   {
    "duration": 160,
    "start_time": "2025-02-04T21:40:35.102Z"
   },
   {
    "duration": 17,
    "start_time": "2025-02-04T21:41:06.536Z"
   },
   {
    "duration": 22,
    "start_time": "2025-02-04T21:41:21.843Z"
   },
   {
    "duration": 18,
    "start_time": "2025-02-04T21:41:35.292Z"
   },
   {
    "duration": 17,
    "start_time": "2025-02-04T21:41:53.982Z"
   },
   {
    "duration": 4858,
    "start_time": "2025-02-05T05:45:27.080Z"
   },
   {
    "duration": 2695,
    "start_time": "2025-02-05T05:45:31.940Z"
   },
   {
    "duration": 39,
    "start_time": "2025-02-05T05:45:34.636Z"
   },
   {
    "duration": 4,
    "start_time": "2025-02-05T05:45:34.677Z"
   },
   {
    "duration": 6,
    "start_time": "2025-02-05T05:45:34.682Z"
   },
   {
    "duration": 11,
    "start_time": "2025-02-05T05:45:34.689Z"
   },
   {
    "duration": 115,
    "start_time": "2025-02-05T05:45:34.701Z"
   },
   {
    "duration": 8,
    "start_time": "2025-02-05T05:45:34.818Z"
   },
   {
    "duration": 10,
    "start_time": "2025-02-05T05:45:34.828Z"
   },
   {
    "duration": 9,
    "start_time": "2025-02-05T05:45:34.859Z"
   },
   {
    "duration": 26,
    "start_time": "2025-02-05T05:45:34.869Z"
   },
   {
    "duration": 19,
    "start_time": "2025-02-05T05:45:34.898Z"
   },
   {
    "duration": 21,
    "start_time": "2025-02-05T05:45:34.918Z"
   },
   {
    "duration": 25,
    "start_time": "2025-02-05T05:45:34.941Z"
   },
   {
    "duration": 14,
    "start_time": "2025-02-05T05:45:34.968Z"
   },
   {
    "duration": 7,
    "start_time": "2025-02-05T05:45:34.984Z"
   },
   {
    "duration": 13,
    "start_time": "2025-02-05T05:45:34.993Z"
   },
   {
    "duration": 9,
    "start_time": "2025-02-05T05:45:35.008Z"
   },
   {
    "duration": 40,
    "start_time": "2025-02-05T05:45:35.057Z"
   },
   {
    "duration": 286,
    "start_time": "2025-02-05T05:45:35.099Z"
   },
   {
    "duration": 35,
    "start_time": "2025-02-05T05:45:35.387Z"
   },
   {
    "duration": 46,
    "start_time": "2025-02-05T05:45:35.424Z"
   },
   {
    "duration": 16,
    "start_time": "2025-02-05T05:45:35.472Z"
   },
   {
    "duration": 48,
    "start_time": "2025-02-05T05:45:35.490Z"
   },
   {
    "duration": 24,
    "start_time": "2025-02-05T05:45:35.540Z"
   },
   {
    "duration": 581,
    "start_time": "2025-02-05T05:45:35.567Z"
   },
   {
    "duration": 22,
    "start_time": "2025-02-05T05:45:36.149Z"
   },
   {
    "duration": 193,
    "start_time": "2025-02-05T05:45:36.174Z"
   },
   {
    "duration": 53,
    "start_time": "2025-02-05T05:45:36.370Z"
   },
   {
    "duration": 58,
    "start_time": "2025-02-05T05:45:36.425Z"
   },
   {
    "duration": 22,
    "start_time": "2025-02-05T05:45:36.484Z"
   },
   {
    "duration": 18,
    "start_time": "2025-02-05T05:45:36.507Z"
   },
   {
    "duration": 137,
    "start_time": "2025-02-05T05:45:36.526Z"
   },
   {
    "duration": 12,
    "start_time": "2025-02-05T05:45:36.664Z"
   },
   {
    "duration": 18,
    "start_time": "2025-02-05T05:45:36.677Z"
   },
   {
    "duration": 62,
    "start_time": "2025-02-05T05:45:36.697Z"
   },
   {
    "duration": 26,
    "start_time": "2025-02-05T05:45:36.761Z"
   },
   {
    "duration": 14,
    "start_time": "2025-02-05T05:45:36.788Z"
   },
   {
    "duration": 10,
    "start_time": "2025-02-05T05:45:36.804Z"
   },
   {
    "duration": 45,
    "start_time": "2025-02-05T05:45:36.815Z"
   },
   {
    "duration": 158,
    "start_time": "2025-02-05T05:45:36.862Z"
   },
   {
    "duration": 112,
    "start_time": "2025-02-05T05:45:37.021Z"
   },
   {
    "duration": 64,
    "start_time": "2025-02-05T05:45:37.134Z"
   },
   {
    "duration": 17,
    "start_time": "2025-02-05T05:45:37.199Z"
   },
   {
    "duration": 248,
    "start_time": "2025-02-05T05:45:37.218Z"
   },
   {
    "duration": 15,
    "start_time": "2025-02-05T05:45:37.468Z"
   },
   {
    "duration": 3,
    "start_time": "2025-02-05T05:45:37.485Z"
   },
   {
    "duration": 3,
    "start_time": "2025-02-05T05:45:37.490Z"
   },
   {
    "duration": 6,
    "start_time": "2025-02-05T05:45:37.495Z"
   },
   {
    "duration": 289,
    "start_time": "2025-02-05T05:47:45.169Z"
   },
   {
    "duration": 198,
    "start_time": "2025-02-05T05:48:47.423Z"
   },
   {
    "duration": 62,
    "start_time": "2025-02-05T05:48:49.529Z"
   },
   {
    "duration": 63,
    "start_time": "2025-02-05T05:49:13.694Z"
   },
   {
    "duration": 117,
    "start_time": "2025-02-05T06:00:27.071Z"
   },
   {
    "duration": 99,
    "start_time": "2025-02-05T06:00:43.152Z"
   },
   {
    "duration": 86,
    "start_time": "2025-02-05T06:01:34.778Z"
   },
   {
    "duration": 183,
    "start_time": "2025-02-05T06:02:49.340Z"
   },
   {
    "duration": 102,
    "start_time": "2025-02-05T06:06:38.842Z"
   },
   {
    "duration": 94,
    "start_time": "2025-02-05T06:07:17.740Z"
   },
   {
    "duration": 82,
    "start_time": "2025-02-05T06:07:26.273Z"
   },
   {
    "duration": 80,
    "start_time": "2025-02-05T06:08:28.372Z"
   },
   {
    "duration": 81,
    "start_time": "2025-02-05T06:08:42.622Z"
   },
   {
    "duration": 79,
    "start_time": "2025-02-05T06:09:51.332Z"
   },
   {
    "duration": 1249,
    "start_time": "2025-02-05T06:16:32.255Z"
   },
   {
    "duration": 3650,
    "start_time": "2025-02-05T06:17:01.594Z"
   },
   {
    "duration": 2474,
    "start_time": "2025-02-05T06:17:05.247Z"
   },
   {
    "duration": 40,
    "start_time": "2025-02-05T06:17:07.723Z"
   },
   {
    "duration": 4,
    "start_time": "2025-02-05T06:17:07.765Z"
   },
   {
    "duration": 5,
    "start_time": "2025-02-05T06:17:07.771Z"
   },
   {
    "duration": 12,
    "start_time": "2025-02-05T06:17:07.778Z"
   },
   {
    "duration": 126,
    "start_time": "2025-02-05T06:17:07.791Z"
   },
   {
    "duration": 8,
    "start_time": "2025-02-05T06:17:07.919Z"
   },
   {
    "duration": 29,
    "start_time": "2025-02-05T06:17:07.929Z"
   },
   {
    "duration": 8,
    "start_time": "2025-02-05T06:17:07.962Z"
   },
   {
    "duration": 24,
    "start_time": "2025-02-05T06:17:07.972Z"
   },
   {
    "duration": 8,
    "start_time": "2025-02-05T06:17:07.998Z"
   },
   {
    "duration": 50,
    "start_time": "2025-02-05T06:17:08.008Z"
   },
   {
    "duration": 10,
    "start_time": "2025-02-05T06:17:08.060Z"
   },
   {
    "duration": 15,
    "start_time": "2025-02-05T06:17:08.071Z"
   },
   {
    "duration": 6,
    "start_time": "2025-02-05T06:17:08.088Z"
   },
   {
    "duration": 9,
    "start_time": "2025-02-05T06:17:08.095Z"
   },
   {
    "duration": 8,
    "start_time": "2025-02-05T06:17:08.105Z"
   },
   {
    "duration": 72,
    "start_time": "2025-02-05T06:17:08.114Z"
   },
   {
    "duration": 241,
    "start_time": "2025-02-05T06:17:08.187Z"
   },
   {
    "duration": 42,
    "start_time": "2025-02-05T06:17:08.429Z"
   },
   {
    "duration": 24,
    "start_time": "2025-02-05T06:17:08.473Z"
   },
   {
    "duration": 14,
    "start_time": "2025-02-05T06:17:08.499Z"
   },
   {
    "duration": 59,
    "start_time": "2025-02-05T06:17:08.515Z"
   },
   {
    "duration": 15,
    "start_time": "2025-02-05T06:17:08.576Z"
   },
   {
    "duration": 604,
    "start_time": "2025-02-05T06:17:08.593Z"
   },
   {
    "duration": 15,
    "start_time": "2025-02-05T06:17:09.199Z"
   },
   {
    "duration": 185,
    "start_time": "2025-02-05T06:17:09.219Z"
   },
   {
    "duration": 60,
    "start_time": "2025-02-05T06:17:09.406Z"
   },
   {
    "duration": 38,
    "start_time": "2025-02-05T06:17:09.468Z"
   },
   {
    "duration": 23,
    "start_time": "2025-02-05T06:17:09.508Z"
   },
   {
    "duration": 43,
    "start_time": "2025-02-05T06:17:09.532Z"
   },
   {
    "duration": 129,
    "start_time": "2025-02-05T06:17:09.576Z"
   },
   {
    "duration": 12,
    "start_time": "2025-02-05T06:17:09.707Z"
   },
   {
    "duration": 16,
    "start_time": "2025-02-05T06:17:09.721Z"
   },
   {
    "duration": 40,
    "start_time": "2025-02-05T06:17:09.758Z"
   },
   {
    "duration": 24,
    "start_time": "2025-02-05T06:17:09.800Z"
   },
   {
    "duration": 35,
    "start_time": "2025-02-05T06:17:09.826Z"
   },
   {
    "duration": 12,
    "start_time": "2025-02-05T06:17:09.863Z"
   },
   {
    "duration": 19,
    "start_time": "2025-02-05T06:17:09.877Z"
   },
   {
    "duration": 170,
    "start_time": "2025-02-05T06:17:09.898Z"
   },
   {
    "duration": 115,
    "start_time": "2025-02-05T06:17:10.070Z"
   },
   {
    "duration": 59,
    "start_time": "2025-02-05T06:17:10.186Z"
   },
   {
    "duration": 17,
    "start_time": "2025-02-05T06:17:10.258Z"
   },
   {
    "duration": 282,
    "start_time": "2025-02-05T06:17:10.276Z"
   },
   {
    "duration": 62,
    "start_time": "2025-02-05T06:17:10.560Z"
   },
   {
    "duration": 125,
    "start_time": "2025-02-05T06:17:10.624Z"
   },
   {
    "duration": 0,
    "start_time": "2025-02-05T06:17:10.751Z"
   },
   {
    "duration": 0,
    "start_time": "2025-02-05T06:17:10.752Z"
   },
   {
    "duration": 0,
    "start_time": "2025-02-05T06:17:10.757Z"
   },
   {
    "duration": 11,
    "start_time": "2025-02-05T06:24:38.655Z"
   },
   {
    "duration": 11,
    "start_time": "2025-02-05T06:28:46.952Z"
   },
   {
    "duration": 291,
    "start_time": "2025-02-05T06:28:59.651Z"
   },
   {
    "duration": 16,
    "start_time": "2025-02-05T06:40:15.276Z"
   },
   {
    "duration": 33,
    "start_time": "2025-02-05T06:41:01.159Z"
   },
   {
    "duration": 7,
    "start_time": "2025-02-05T06:42:13.297Z"
   },
   {
    "duration": 4,
    "start_time": "2025-02-05T06:49:59.841Z"
   },
   {
    "duration": 4,
    "start_time": "2025-02-05T06:50:34.125Z"
   },
   {
    "duration": 41,
    "start_time": "2025-02-05T06:51:02.085Z"
   },
   {
    "duration": 10,
    "start_time": "2025-02-05T06:52:34.968Z"
   },
   {
    "duration": 30,
    "start_time": "2025-02-05T06:52:37.421Z"
   },
   {
    "duration": 38,
    "start_time": "2025-02-05T06:53:52.627Z"
   },
   {
    "duration": 36,
    "start_time": "2025-02-05T06:53:54.771Z"
   },
   {
    "duration": 64,
    "start_time": "2025-02-05T06:53:57.644Z"
   },
   {
    "duration": 10,
    "start_time": "2025-02-05T06:53:58.722Z"
   },
   {
    "duration": 21,
    "start_time": "2025-02-05T06:53:59.467Z"
   },
   {
    "duration": 166,
    "start_time": "2025-02-05T06:55:12.663Z"
   },
   {
    "duration": 19,
    "start_time": "2025-02-05T06:58:26.393Z"
   },
   {
    "duration": 3864,
    "start_time": "2025-02-05T07:01:20.552Z"
   },
   {
    "duration": 2632,
    "start_time": "2025-02-05T07:01:24.419Z"
   },
   {
    "duration": 38,
    "start_time": "2025-02-05T07:01:27.052Z"
   },
   {
    "duration": 4,
    "start_time": "2025-02-05T07:01:27.092Z"
   },
   {
    "duration": 6,
    "start_time": "2025-02-05T07:01:27.097Z"
   },
   {
    "duration": 10,
    "start_time": "2025-02-05T07:01:27.105Z"
   },
   {
    "duration": 141,
    "start_time": "2025-02-05T07:01:27.117Z"
   },
   {
    "duration": 9,
    "start_time": "2025-02-05T07:01:27.259Z"
   },
   {
    "duration": 11,
    "start_time": "2025-02-05T07:01:27.270Z"
   },
   {
    "duration": 7,
    "start_time": "2025-02-05T07:01:27.285Z"
   },
   {
    "duration": 24,
    "start_time": "2025-02-05T07:01:27.294Z"
   },
   {
    "duration": 40,
    "start_time": "2025-02-05T07:01:27.320Z"
   },
   {
    "duration": 19,
    "start_time": "2025-02-05T07:01:27.361Z"
   },
   {
    "duration": 9,
    "start_time": "2025-02-05T07:01:27.382Z"
   },
   {
    "duration": 14,
    "start_time": "2025-02-05T07:01:27.393Z"
   },
   {
    "duration": 6,
    "start_time": "2025-02-05T07:01:27.409Z"
   },
   {
    "duration": 44,
    "start_time": "2025-02-05T07:01:27.417Z"
   },
   {
    "duration": 11,
    "start_time": "2025-02-05T07:01:27.463Z"
   },
   {
    "duration": 53,
    "start_time": "2025-02-05T07:01:27.476Z"
   },
   {
    "duration": 256,
    "start_time": "2025-02-05T07:01:27.531Z"
   },
   {
    "duration": 33,
    "start_time": "2025-02-05T07:01:27.789Z"
   },
   {
    "duration": 48,
    "start_time": "2025-02-05T07:01:27.824Z"
   },
   {
    "duration": 16,
    "start_time": "2025-02-05T07:01:27.874Z"
   },
   {
    "duration": 34,
    "start_time": "2025-02-05T07:01:27.892Z"
   },
   {
    "duration": 38,
    "start_time": "2025-02-05T07:01:27.927Z"
   },
   {
    "duration": 597,
    "start_time": "2025-02-05T07:01:27.967Z"
   },
   {
    "duration": 16,
    "start_time": "2025-02-05T07:01:28.566Z"
   },
   {
    "duration": 186,
    "start_time": "2025-02-05T07:01:28.587Z"
   },
   {
    "duration": 54,
    "start_time": "2025-02-05T07:01:28.775Z"
   },
   {
    "duration": 59,
    "start_time": "2025-02-05T07:01:28.831Z"
   },
   {
    "duration": 22,
    "start_time": "2025-02-05T07:01:28.892Z"
   },
   {
    "duration": 18,
    "start_time": "2025-02-05T07:01:28.916Z"
   },
   {
    "duration": 141,
    "start_time": "2025-02-05T07:01:28.935Z"
   },
   {
    "duration": 12,
    "start_time": "2025-02-05T07:01:29.078Z"
   },
   {
    "duration": 16,
    "start_time": "2025-02-05T07:01:29.091Z"
   },
   {
    "duration": 58,
    "start_time": "2025-02-05T07:01:29.108Z"
   },
   {
    "duration": 25,
    "start_time": "2025-02-05T07:01:29.168Z"
   },
   {
    "duration": 14,
    "start_time": "2025-02-05T07:01:29.194Z"
   },
   {
    "duration": 9,
    "start_time": "2025-02-05T07:01:29.209Z"
   },
   {
    "duration": 48,
    "start_time": "2025-02-05T07:01:29.220Z"
   },
   {
    "duration": 152,
    "start_time": "2025-02-05T07:01:29.270Z"
   },
   {
    "duration": 117,
    "start_time": "2025-02-05T07:01:29.424Z"
   },
   {
    "duration": 64,
    "start_time": "2025-02-05T07:01:29.543Z"
   },
   {
    "duration": 16,
    "start_time": "2025-02-05T07:01:29.608Z"
   },
   {
    "duration": 61,
    "start_time": "2025-02-05T07:01:29.626Z"
   },
   {
    "duration": 69,
    "start_time": "2025-02-05T07:01:29.689Z"
   },
   {
    "duration": 10,
    "start_time": "2025-02-05T07:01:29.760Z"
   },
   {
    "duration": 20,
    "start_time": "2025-02-05T07:01:29.771Z"
   },
   {
    "duration": 167,
    "start_time": "2025-02-05T07:01:29.793Z"
   },
   {
    "duration": 2,
    "start_time": "2025-02-05T07:01:29.962Z"
   },
   {
    "duration": 3,
    "start_time": "2025-02-05T07:01:29.966Z"
   },
   {
    "duration": 3,
    "start_time": "2025-02-05T07:01:29.970Z"
   },
   {
    "duration": 156,
    "start_time": "2025-02-05T07:02:53.196Z"
   },
   {
    "duration": 32,
    "start_time": "2025-02-05T07:05:22.203Z"
   },
   {
    "duration": 44,
    "start_time": "2025-02-05T07:06:09.336Z"
   },
   {
    "duration": 10,
    "start_time": "2025-02-05T07:14:19.277Z"
   },
   {
    "duration": 35,
    "start_time": "2025-02-05T07:14:37.354Z"
   },
   {
    "duration": 164,
    "start_time": "2025-02-05T07:14:42.176Z"
   },
   {
    "duration": 10,
    "start_time": "2025-02-05T07:22:52.439Z"
   },
   {
    "duration": 10,
    "start_time": "2025-02-05T07:22:58.298Z"
   },
   {
    "duration": 245,
    "start_time": "2025-02-05T07:26:01.557Z"
   },
   {
    "duration": 79,
    "start_time": "2025-02-05T07:30:50.191Z"
   },
   {
    "duration": 131,
    "start_time": "2025-02-05T07:33:31.465Z"
   },
   {
    "duration": 1341,
    "start_time": "2025-02-05T07:45:40.601Z"
   },
   {
    "duration": 1540,
    "start_time": "2025-02-05T07:53:18.982Z"
   },
   {
    "duration": 17,
    "start_time": "2025-02-05T07:53:43.950Z"
   },
   {
    "duration": 83,
    "start_time": "2025-02-05T07:54:02.403Z"
   },
   {
    "duration": 8,
    "start_time": "2025-02-05T07:55:43.679Z"
   },
   {
    "duration": 8,
    "start_time": "2025-02-05T07:56:17.549Z"
   },
   {
    "duration": 16,
    "start_time": "2025-02-05T07:58:51.521Z"
   },
   {
    "duration": 22,
    "start_time": "2025-02-05T07:59:17.187Z"
   },
   {
    "duration": 177,
    "start_time": "2025-02-05T08:00:53.934Z"
   },
   {
    "duration": 11,
    "start_time": "2025-02-05T08:03:29.672Z"
   },
   {
    "duration": 11,
    "start_time": "2025-02-05T08:04:24.339Z"
   },
   {
    "duration": 22,
    "start_time": "2025-02-05T08:04:53.247Z"
   },
   {
    "duration": 26,
    "start_time": "2025-02-05T08:05:11.915Z"
   },
   {
    "duration": 25,
    "start_time": "2025-02-05T08:05:19.736Z"
   },
   {
    "duration": 25,
    "start_time": "2025-02-05T08:05:30.687Z"
   },
   {
    "duration": 23,
    "start_time": "2025-02-05T08:05:41.091Z"
   },
   {
    "duration": 19,
    "start_time": "2025-02-05T08:06:04.779Z"
   },
   {
    "duration": 21,
    "start_time": "2025-02-05T08:06:33.833Z"
   },
   {
    "duration": 35,
    "start_time": "2025-02-05T08:06:51.805Z"
   },
   {
    "duration": 184,
    "start_time": "2025-02-05T08:07:26.163Z"
   },
   {
    "duration": 147,
    "start_time": "2025-02-05T08:11:00.609Z"
   },
   {
    "duration": 15,
    "start_time": "2025-02-05T08:19:38.888Z"
   },
   {
    "duration": 12,
    "start_time": "2025-02-05T08:24:46.230Z"
   },
   {
    "duration": 3,
    "start_time": "2025-02-05T08:47:00.503Z"
   },
   {
    "duration": 30,
    "start_time": "2025-02-05T08:47:25.308Z"
   },
   {
    "duration": 10,
    "start_time": "2025-02-05T08:47:51.273Z"
   },
   {
    "duration": 12,
    "start_time": "2025-02-05T08:48:18.191Z"
   },
   {
    "duration": 5,
    "start_time": "2025-02-05T08:50:12.350Z"
   },
   {
    "duration": 9,
    "start_time": "2025-02-05T08:50:30.096Z"
   },
   {
    "duration": 23,
    "start_time": "2025-02-05T08:50:36.111Z"
   },
   {
    "duration": 28,
    "start_time": "2025-02-05T08:50:45.996Z"
   },
   {
    "duration": 28,
    "start_time": "2025-02-05T08:50:49.588Z"
   },
   {
    "duration": 23,
    "start_time": "2025-02-05T08:50:56.579Z"
   },
   {
    "duration": 18,
    "start_time": "2025-02-05T08:51:12.413Z"
   },
   {
    "duration": 5,
    "start_time": "2025-02-05T08:51:20.064Z"
   },
   {
    "duration": 23,
    "start_time": "2025-02-05T08:51:53.438Z"
   },
   {
    "duration": 60,
    "start_time": "2025-02-05T09:03:33.930Z"
   },
   {
    "duration": 35,
    "start_time": "2025-02-05T09:03:46.156Z"
   },
   {
    "duration": 39,
    "start_time": "2025-02-05T09:03:51.230Z"
   },
   {
    "duration": 25,
    "start_time": "2025-02-05T10:39:55.213Z"
   },
   {
    "duration": 105,
    "start_time": "2025-02-05T10:42:11.382Z"
   },
   {
    "duration": 14,
    "start_time": "2025-02-05T10:43:49.952Z"
   },
   {
    "duration": 14,
    "start_time": "2025-02-05T10:49:10.947Z"
   },
   {
    "duration": 17,
    "start_time": "2025-02-05T10:49:35.479Z"
   },
   {
    "duration": 43,
    "start_time": "2025-02-05T10:50:24.029Z"
   },
   {
    "duration": 66,
    "start_time": "2025-02-05T10:50:51.399Z"
   },
   {
    "duration": 54,
    "start_time": "2025-02-05T11:06:30.455Z"
   },
   {
    "duration": 30,
    "start_time": "2025-02-05T11:06:35.984Z"
   },
   {
    "duration": 15,
    "start_time": "2025-02-05T11:17:50.589Z"
   },
   {
    "duration": 94,
    "start_time": "2025-02-05T11:17:55.120Z"
   },
   {
    "duration": 30,
    "start_time": "2025-02-05T11:17:55.960Z"
   },
   {
    "duration": 125,
    "start_time": "2025-02-05T11:23:17.087Z"
   },
   {
    "duration": 15,
    "start_time": "2025-02-05T11:29:10.630Z"
   },
   {
    "duration": 3723,
    "start_time": "2025-02-05T11:32:52.443Z"
   },
   {
    "duration": 3443,
    "start_time": "2025-02-05T11:32:56.168Z"
   },
   {
    "duration": 40,
    "start_time": "2025-02-05T11:32:59.613Z"
   },
   {
    "duration": 4,
    "start_time": "2025-02-05T11:32:59.655Z"
   },
   {
    "duration": 7,
    "start_time": "2025-02-05T11:32:59.660Z"
   },
   {
    "duration": 11,
    "start_time": "2025-02-05T11:32:59.668Z"
   },
   {
    "duration": 122,
    "start_time": "2025-02-05T11:32:59.681Z"
   },
   {
    "duration": 8,
    "start_time": "2025-02-05T11:32:59.804Z"
   },
   {
    "duration": 10,
    "start_time": "2025-02-05T11:32:59.813Z"
   },
   {
    "duration": 7,
    "start_time": "2025-02-05T11:32:59.826Z"
   },
   {
    "duration": 24,
    "start_time": "2025-02-05T11:32:59.858Z"
   },
   {
    "duration": 7,
    "start_time": "2025-02-05T11:32:59.884Z"
   },
   {
    "duration": 18,
    "start_time": "2025-02-05T11:32:59.893Z"
   },
   {
    "duration": 13,
    "start_time": "2025-02-05T11:32:59.912Z"
   },
   {
    "duration": 42,
    "start_time": "2025-02-05T11:32:59.927Z"
   },
   {
    "duration": 7,
    "start_time": "2025-02-05T11:32:59.971Z"
   },
   {
    "duration": 10,
    "start_time": "2025-02-05T11:32:59.980Z"
   },
   {
    "duration": 16,
    "start_time": "2025-02-05T11:32:59.992Z"
   },
   {
    "duration": 74,
    "start_time": "2025-02-05T11:33:00.009Z"
   },
   {
    "duration": 246,
    "start_time": "2025-02-05T11:33:00.084Z"
   },
   {
    "duration": 42,
    "start_time": "2025-02-05T11:33:00.332Z"
   },
   {
    "duration": 25,
    "start_time": "2025-02-05T11:33:00.376Z"
   },
   {
    "duration": 22,
    "start_time": "2025-02-05T11:33:00.403Z"
   },
   {
    "duration": 46,
    "start_time": "2025-02-05T11:33:00.427Z"
   },
   {
    "duration": 17,
    "start_time": "2025-02-05T11:33:00.474Z"
   },
   {
    "duration": 623,
    "start_time": "2025-02-05T11:33:00.493Z"
   },
   {
    "duration": 15,
    "start_time": "2025-02-05T11:33:01.117Z"
   },
   {
    "duration": 193,
    "start_time": "2025-02-05T11:33:01.136Z"
   },
   {
    "duration": 64,
    "start_time": "2025-02-05T11:33:01.331Z"
   },
   {
    "duration": 38,
    "start_time": "2025-02-05T11:33:01.397Z"
   },
   {
    "duration": 37,
    "start_time": "2025-02-05T11:33:01.436Z"
   },
   {
    "duration": 19,
    "start_time": "2025-02-05T11:33:01.474Z"
   },
   {
    "duration": 146,
    "start_time": "2025-02-05T11:33:01.494Z"
   },
   {
    "duration": 17,
    "start_time": "2025-02-05T11:33:01.641Z"
   },
   {
    "duration": 28,
    "start_time": "2025-02-05T11:33:01.660Z"
   },
   {
    "duration": 41,
    "start_time": "2025-02-05T11:33:01.690Z"
   },
   {
    "duration": 49,
    "start_time": "2025-02-05T11:33:01.732Z"
   },
   {
    "duration": 13,
    "start_time": "2025-02-05T11:33:01.782Z"
   },
   {
    "duration": 16,
    "start_time": "2025-02-05T11:33:01.797Z"
   },
   {
    "duration": 18,
    "start_time": "2025-02-05T11:33:01.814Z"
   },
   {
    "duration": 164,
    "start_time": "2025-02-05T11:33:01.834Z"
   },
   {
    "duration": 119,
    "start_time": "2025-02-05T11:33:01.999Z"
   },
   {
    "duration": 16,
    "start_time": "2025-02-05T11:33:02.119Z"
   },
   {
    "duration": 55,
    "start_time": "2025-02-05T11:33:02.137Z"
   },
   {
    "duration": 71,
    "start_time": "2025-02-05T11:33:02.194Z"
   },
   {
    "duration": 10,
    "start_time": "2025-02-05T11:33:02.266Z"
   },
   {
    "duration": 167,
    "start_time": "2025-02-05T11:33:02.277Z"
   },
   {
    "duration": 76,
    "start_time": "2025-02-05T11:33:02.446Z"
   },
   {
    "duration": 15,
    "start_time": "2025-02-05T11:33:02.523Z"
   },
   {
    "duration": 49,
    "start_time": "2025-02-05T11:33:02.539Z"
   },
   {
    "duration": 27,
    "start_time": "2025-02-05T11:33:02.590Z"
   },
   {
    "duration": 174,
    "start_time": "2025-02-05T11:33:02.618Z"
   },
   {
    "duration": 25,
    "start_time": "2025-02-05T11:33:02.794Z"
   },
   {
    "duration": 40,
    "start_time": "2025-02-05T11:33:02.821Z"
   },
   {
    "duration": 25,
    "start_time": "2025-02-05T11:33:02.863Z"
   },
   {
    "duration": 27,
    "start_time": "2025-02-05T11:33:02.889Z"
   },
   {
    "duration": 5,
    "start_time": "2025-02-05T11:33:02.918Z"
   },
   {
    "duration": 43,
    "start_time": "2025-02-05T11:33:02.924Z"
   },
   {
    "duration": 22,
    "start_time": "2025-02-05T11:33:02.969Z"
   },
   {
    "duration": 78,
    "start_time": "2025-02-05T11:33:02.993Z"
   },
   {
    "duration": 15,
    "start_time": "2025-02-05T11:33:03.073Z"
   },
   {
    "duration": 12,
    "start_time": "2025-02-05T11:40:00.110Z"
   },
   {
    "duration": 120,
    "start_time": "2025-02-05T11:42:02.152Z"
   },
   {
    "duration": 3759,
    "start_time": "2025-02-05T11:47:49.760Z"
   },
   {
    "duration": 2056,
    "start_time": "2025-02-05T11:47:53.521Z"
   },
   {
    "duration": 40,
    "start_time": "2025-02-05T11:47:55.578Z"
   },
   {
    "duration": 3,
    "start_time": "2025-02-05T11:47:55.620Z"
   },
   {
    "duration": 5,
    "start_time": "2025-02-05T11:47:55.625Z"
   },
   {
    "duration": 32,
    "start_time": "2025-02-05T11:47:55.631Z"
   },
   {
    "duration": 111,
    "start_time": "2025-02-05T11:47:55.664Z"
   },
   {
    "duration": 11,
    "start_time": "2025-02-05T11:47:55.776Z"
   },
   {
    "duration": 13,
    "start_time": "2025-02-05T11:47:55.789Z"
   },
   {
    "duration": 7,
    "start_time": "2025-02-05T11:47:55.805Z"
   },
   {
    "duration": 53,
    "start_time": "2025-02-05T11:47:55.813Z"
   },
   {
    "duration": 7,
    "start_time": "2025-02-05T11:47:55.868Z"
   },
   {
    "duration": 24,
    "start_time": "2025-02-05T11:47:55.876Z"
   },
   {
    "duration": 12,
    "start_time": "2025-02-05T11:47:55.902Z"
   },
   {
    "duration": 42,
    "start_time": "2025-02-05T11:47:55.917Z"
   },
   {
    "duration": 8,
    "start_time": "2025-02-05T11:47:55.961Z"
   },
   {
    "duration": 12,
    "start_time": "2025-02-05T11:47:55.971Z"
   },
   {
    "duration": 15,
    "start_time": "2025-02-05T11:47:55.984Z"
   },
   {
    "duration": 68,
    "start_time": "2025-02-05T11:47:56.001Z"
   },
   {
    "duration": 261,
    "start_time": "2025-02-05T11:47:56.071Z"
   },
   {
    "duration": 44,
    "start_time": "2025-02-05T11:47:56.334Z"
   },
   {
    "duration": 26,
    "start_time": "2025-02-05T11:47:56.380Z"
   },
   {
    "duration": 14,
    "start_time": "2025-02-05T11:47:56.408Z"
   },
   {
    "duration": 55,
    "start_time": "2025-02-05T11:47:56.423Z"
   },
   {
    "duration": 15,
    "start_time": "2025-02-05T11:47:56.480Z"
   },
   {
    "duration": 642,
    "start_time": "2025-02-05T11:47:56.497Z"
   },
   {
    "duration": 29,
    "start_time": "2025-02-05T11:47:57.141Z"
   },
   {
    "duration": 199,
    "start_time": "2025-02-05T11:47:57.179Z"
   },
   {
    "duration": 55,
    "start_time": "2025-02-05T11:47:57.379Z"
   },
   {
    "duration": 58,
    "start_time": "2025-02-05T11:47:57.436Z"
   },
   {
    "duration": 22,
    "start_time": "2025-02-05T11:47:57.496Z"
   },
   {
    "duration": 18,
    "start_time": "2025-02-05T11:47:57.520Z"
   },
   {
    "duration": 144,
    "start_time": "2025-02-05T11:47:57.540Z"
   },
   {
    "duration": 12,
    "start_time": "2025-02-05T11:47:57.685Z"
   },
   {
    "duration": 17,
    "start_time": "2025-02-05T11:47:57.699Z"
   },
   {
    "duration": 61,
    "start_time": "2025-02-05T11:47:57.718Z"
   },
   {
    "duration": 28,
    "start_time": "2025-02-05T11:47:57.781Z"
   },
   {
    "duration": 15,
    "start_time": "2025-02-05T11:47:57.810Z"
   },
   {
    "duration": 33,
    "start_time": "2025-02-05T11:47:57.826Z"
   },
   {
    "duration": 20,
    "start_time": "2025-02-05T11:47:57.861Z"
   },
   {
    "duration": 170,
    "start_time": "2025-02-05T11:47:57.883Z"
   },
   {
    "duration": 117,
    "start_time": "2025-02-05T11:47:58.057Z"
   },
   {
    "duration": 17,
    "start_time": "2025-02-05T11:47:58.176Z"
   },
   {
    "duration": 64,
    "start_time": "2025-02-05T11:47:58.194Z"
   },
   {
    "duration": 63,
    "start_time": "2025-02-05T11:47:58.260Z"
   },
   {
    "duration": 10,
    "start_time": "2025-02-05T11:47:58.325Z"
   },
   {
    "duration": 175,
    "start_time": "2025-02-05T11:47:58.336Z"
   },
   {
    "duration": 79,
    "start_time": "2025-02-05T11:47:58.513Z"
   },
   {
    "duration": 14,
    "start_time": "2025-02-05T11:47:58.594Z"
   },
   {
    "duration": 8,
    "start_time": "2025-02-05T11:47:58.610Z"
   },
   {
    "duration": 41,
    "start_time": "2025-02-05T11:47:58.621Z"
   },
   {
    "duration": 182,
    "start_time": "2025-02-05T11:47:58.664Z"
   },
   {
    "duration": 28,
    "start_time": "2025-02-05T11:47:58.847Z"
   },
   {
    "duration": 29,
    "start_time": "2025-02-05T11:47:58.876Z"
   },
   {
    "duration": 25,
    "start_time": "2025-02-05T11:47:58.907Z"
   },
   {
    "duration": 43,
    "start_time": "2025-02-05T11:47:58.934Z"
   },
   {
    "duration": 10,
    "start_time": "2025-02-05T11:47:58.978Z"
   },
   {
    "duration": 24,
    "start_time": "2025-02-05T11:47:58.989Z"
   },
   {
    "duration": 44,
    "start_time": "2025-02-05T11:47:59.014Z"
   },
   {
    "duration": 67,
    "start_time": "2025-02-05T11:47:59.059Z"
   },
   {
    "duration": 15,
    "start_time": "2025-02-05T11:47:59.127Z"
   },
   {
    "duration": 3648,
    "start_time": "2025-02-05T11:51:27.098Z"
   },
   {
    "duration": 2387,
    "start_time": "2025-02-05T11:51:30.748Z"
   },
   {
    "duration": 42,
    "start_time": "2025-02-05T11:51:33.136Z"
   },
   {
    "duration": 4,
    "start_time": "2025-02-05T11:51:33.180Z"
   },
   {
    "duration": 16,
    "start_time": "2025-02-05T11:51:33.185Z"
   },
   {
    "duration": 14,
    "start_time": "2025-02-05T11:51:33.203Z"
   },
   {
    "duration": 109,
    "start_time": "2025-02-05T11:51:33.219Z"
   },
   {
    "duration": 8,
    "start_time": "2025-02-05T11:51:33.330Z"
   },
   {
    "duration": 25,
    "start_time": "2025-02-05T11:51:33.339Z"
   },
   {
    "duration": 7,
    "start_time": "2025-02-05T11:51:33.366Z"
   },
   {
    "duration": 38,
    "start_time": "2025-02-05T11:51:33.375Z"
   },
   {
    "duration": 7,
    "start_time": "2025-02-05T11:51:33.415Z"
   },
   {
    "duration": 30,
    "start_time": "2025-02-05T11:51:33.423Z"
   },
   {
    "duration": 15,
    "start_time": "2025-02-05T11:51:33.454Z"
   },
   {
    "duration": 15,
    "start_time": "2025-02-05T11:51:33.471Z"
   },
   {
    "duration": 6,
    "start_time": "2025-02-05T11:51:33.488Z"
   },
   {
    "duration": 9,
    "start_time": "2025-02-05T11:51:33.496Z"
   },
   {
    "duration": 10,
    "start_time": "2025-02-05T11:51:33.507Z"
   },
   {
    "duration": 69,
    "start_time": "2025-02-05T11:51:33.518Z"
   },
   {
    "duration": 255,
    "start_time": "2025-02-05T11:51:33.588Z"
   },
   {
    "duration": 40,
    "start_time": "2025-02-05T11:51:33.845Z"
   },
   {
    "duration": 25,
    "start_time": "2025-02-05T11:51:33.887Z"
   },
   {
    "duration": 14,
    "start_time": "2025-02-05T11:51:33.913Z"
   },
   {
    "duration": 59,
    "start_time": "2025-02-05T11:51:33.929Z"
   },
   {
    "duration": 16,
    "start_time": "2025-02-05T11:51:33.990Z"
   },
   {
    "duration": 634,
    "start_time": "2025-02-05T11:51:34.007Z"
   },
   {
    "duration": 24,
    "start_time": "2025-02-05T11:51:34.643Z"
   },
   {
    "duration": 189,
    "start_time": "2025-02-05T11:51:34.671Z"
   },
   {
    "duration": 53,
    "start_time": "2025-02-05T11:51:34.862Z"
   },
   {
    "duration": 51,
    "start_time": "2025-02-05T11:51:34.917Z"
   },
   {
    "duration": 22,
    "start_time": "2025-02-05T11:51:34.970Z"
   },
   {
    "duration": 18,
    "start_time": "2025-02-05T11:51:34.994Z"
   },
   {
    "duration": 149,
    "start_time": "2025-02-05T11:51:35.013Z"
   },
   {
    "duration": 18,
    "start_time": "2025-02-05T11:51:35.165Z"
   },
   {
    "duration": 23,
    "start_time": "2025-02-05T11:51:35.186Z"
   },
   {
    "duration": 67,
    "start_time": "2025-02-05T11:51:35.211Z"
   },
   {
    "duration": 26,
    "start_time": "2025-02-05T11:51:35.279Z"
   },
   {
    "duration": 14,
    "start_time": "2025-02-05T11:51:35.307Z"
   },
   {
    "duration": 35,
    "start_time": "2025-02-05T11:51:35.323Z"
   },
   {
    "duration": 20,
    "start_time": "2025-02-05T11:51:35.360Z"
   },
   {
    "duration": 166,
    "start_time": "2025-02-05T11:51:35.381Z"
   },
   {
    "duration": 120,
    "start_time": "2025-02-05T11:51:35.548Z"
   },
   {
    "duration": 16,
    "start_time": "2025-02-05T11:51:35.670Z"
   },
   {
    "duration": 79,
    "start_time": "2025-02-05T11:51:35.688Z"
   },
   {
    "duration": 61,
    "start_time": "2025-02-05T11:51:35.769Z"
   },
   {
    "duration": 26,
    "start_time": "2025-02-05T11:51:35.832Z"
   },
   {
    "duration": 164,
    "start_time": "2025-02-05T11:51:35.860Z"
   },
   {
    "duration": 81,
    "start_time": "2025-02-05T11:51:36.026Z"
   },
   {
    "duration": 14,
    "start_time": "2025-02-05T11:51:36.109Z"
   },
   {
    "duration": 9,
    "start_time": "2025-02-05T11:51:36.125Z"
   },
   {
    "duration": 39,
    "start_time": "2025-02-05T11:51:36.135Z"
   },
   {
    "duration": 185,
    "start_time": "2025-02-05T11:51:36.176Z"
   },
   {
    "duration": 22,
    "start_time": "2025-02-05T11:51:36.363Z"
   },
   {
    "duration": 26,
    "start_time": "2025-02-05T11:51:36.387Z"
   },
   {
    "duration": 45,
    "start_time": "2025-02-05T11:51:36.414Z"
   },
   {
    "duration": 20,
    "start_time": "2025-02-05T11:51:36.460Z"
   },
   {
    "duration": 9,
    "start_time": "2025-02-05T11:51:36.481Z"
   },
   {
    "duration": 25,
    "start_time": "2025-02-05T11:51:36.491Z"
   },
   {
    "duration": 42,
    "start_time": "2025-02-05T11:51:36.517Z"
   },
   {
    "duration": 66,
    "start_time": "2025-02-05T11:51:36.561Z"
   },
   {
    "duration": 15,
    "start_time": "2025-02-05T11:51:36.628Z"
   },
   {
    "duration": 66,
    "start_time": "2025-02-06T06:44:46.124Z"
   },
   {
    "duration": 4738,
    "start_time": "2025-02-06T12:29:12.794Z"
   },
   {
    "duration": 2276,
    "start_time": "2025-02-06T12:29:17.534Z"
   },
   {
    "duration": 37,
    "start_time": "2025-02-06T12:29:19.812Z"
   },
   {
    "duration": 4,
    "start_time": "2025-02-06T12:29:19.850Z"
   },
   {
    "duration": 7,
    "start_time": "2025-02-06T12:29:19.856Z"
   },
   {
    "duration": 12,
    "start_time": "2025-02-06T12:29:19.865Z"
   },
   {
    "duration": 105,
    "start_time": "2025-02-06T12:29:19.900Z"
   },
   {
    "duration": 9,
    "start_time": "2025-02-06T12:29:20.007Z"
   },
   {
    "duration": 18,
    "start_time": "2025-02-06T12:29:20.018Z"
   },
   {
    "duration": 17,
    "start_time": "2025-02-06T12:29:20.040Z"
   },
   {
    "duration": 108,
    "start_time": "2025-02-06T12:29:20.059Z"
   },
   {
    "duration": 8,
    "start_time": "2025-02-06T12:29:20.169Z"
   },
   {
    "duration": 19,
    "start_time": "2025-02-06T12:29:20.179Z"
   },
   {
    "duration": 27,
    "start_time": "2025-02-06T12:29:20.200Z"
   },
   {
    "duration": 24,
    "start_time": "2025-02-06T12:29:20.229Z"
   },
   {
    "duration": 6,
    "start_time": "2025-02-06T12:29:20.255Z"
   },
   {
    "duration": 12,
    "start_time": "2025-02-06T12:29:20.263Z"
   },
   {
    "duration": 11,
    "start_time": "2025-02-06T12:29:20.276Z"
   },
   {
    "duration": 38,
    "start_time": "2025-02-06T12:29:20.289Z"
   },
   {
    "duration": 232,
    "start_time": "2025-02-06T12:29:20.329Z"
   },
   {
    "duration": 44,
    "start_time": "2025-02-06T12:29:20.563Z"
   },
   {
    "duration": 26,
    "start_time": "2025-02-06T12:29:20.609Z"
   },
   {
    "duration": 13,
    "start_time": "2025-02-06T12:29:20.637Z"
   },
   {
    "duration": 59,
    "start_time": "2025-02-06T12:29:20.652Z"
   },
   {
    "duration": 16,
    "start_time": "2025-02-06T12:29:20.713Z"
   },
   {
    "duration": 570,
    "start_time": "2025-02-06T12:29:20.731Z"
   },
   {
    "duration": 15,
    "start_time": "2025-02-06T12:29:21.302Z"
   },
   {
    "duration": 225,
    "start_time": "2025-02-06T12:29:21.322Z"
   },
   {
    "duration": 60,
    "start_time": "2025-02-06T12:29:21.549Z"
   },
   {
    "duration": 40,
    "start_time": "2025-02-06T12:29:21.611Z"
   },
   {
    "duration": 58,
    "start_time": "2025-02-06T12:29:21.653Z"
   },
   {
    "duration": 19,
    "start_time": "2025-02-06T12:29:21.713Z"
   },
   {
    "duration": 132,
    "start_time": "2025-02-06T12:29:21.734Z"
   },
   {
    "duration": 12,
    "start_time": "2025-02-06T12:29:21.868Z"
   },
   {
    "duration": 28,
    "start_time": "2025-02-06T12:29:21.882Z"
   },
   {
    "duration": 40,
    "start_time": "2025-02-06T12:29:21.912Z"
   },
   {
    "duration": 24,
    "start_time": "2025-02-06T12:29:21.954Z"
   },
   {
    "duration": 13,
    "start_time": "2025-02-06T12:29:22.000Z"
   },
   {
    "duration": 21,
    "start_time": "2025-02-06T12:29:22.015Z"
   },
   {
    "duration": 20,
    "start_time": "2025-02-06T12:29:22.038Z"
   },
   {
    "duration": 190,
    "start_time": "2025-02-06T12:29:22.059Z"
   },
   {
    "duration": 115,
    "start_time": "2025-02-06T12:29:22.251Z"
   },
   {
    "duration": 17,
    "start_time": "2025-02-06T12:29:22.368Z"
   },
   {
    "duration": 53,
    "start_time": "2025-02-06T12:29:22.386Z"
   },
   {
    "duration": 76,
    "start_time": "2025-02-06T12:29:22.441Z"
   },
   {
    "duration": 10,
    "start_time": "2025-02-06T12:29:22.519Z"
   },
   {
    "duration": 228,
    "start_time": "2025-02-06T12:29:22.531Z"
   },
   {
    "duration": 75,
    "start_time": "2025-02-06T12:29:22.760Z"
   },
   {
    "duration": 15,
    "start_time": "2025-02-06T12:29:22.836Z"
   },
   {
    "duration": 43,
    "start_time": "2025-02-06T12:29:22.853Z"
   },
   {
    "duration": 29,
    "start_time": "2025-02-06T12:29:22.898Z"
   },
   {
    "duration": 189,
    "start_time": "2025-02-06T12:29:22.929Z"
   },
   {
    "duration": 23,
    "start_time": "2025-02-06T12:29:23.120Z"
   },
   {
    "duration": 94,
    "start_time": "2025-02-06T12:29:23.144Z"
   },
   {
    "duration": 27,
    "start_time": "2025-02-06T12:29:23.239Z"
   },
   {
    "duration": 19,
    "start_time": "2025-02-06T12:29:23.267Z"
   },
   {
    "duration": 10,
    "start_time": "2025-02-06T12:29:23.287Z"
   },
   {
    "duration": 111,
    "start_time": "2025-02-06T12:29:23.298Z"
   },
   {
    "duration": 29,
    "start_time": "2025-02-06T12:29:23.410Z"
   },
   {
    "duration": 77,
    "start_time": "2025-02-06T12:29:23.440Z"
   },
   {
    "duration": 15,
    "start_time": "2025-02-06T12:29:23.518Z"
   },
   {
    "duration": 35,
    "start_time": "2025-02-06T12:32:52.858Z"
   },
   {
    "duration": 71,
    "start_time": "2025-02-06T12:34:01.300Z"
   },
   {
    "duration": 80,
    "start_time": "2025-02-06T12:34:18.648Z"
   },
   {
    "duration": 10,
    "start_time": "2025-02-06T12:35:10.373Z"
   },
   {
    "duration": 156,
    "start_time": "2025-02-06T12:35:15.120Z"
   },
   {
    "duration": 11,
    "start_time": "2025-02-06T12:36:07.323Z"
   },
   {
    "duration": 148,
    "start_time": "2025-02-06T12:36:10.569Z"
   },
   {
    "duration": 21,
    "start_time": "2025-02-06T13:00:13.057Z"
   },
   {
    "duration": 27,
    "start_time": "2025-02-06T13:00:50.987Z"
   },
   {
    "duration": 15,
    "start_time": "2025-02-06T13:01:00.993Z"
   },
   {
    "duration": 67,
    "start_time": "2025-02-06T13:01:03.944Z"
   },
   {
    "duration": 15,
    "start_time": "2025-02-06T13:02:52.739Z"
   },
   {
    "duration": 14,
    "start_time": "2025-02-06T13:03:11.125Z"
   },
   {
    "duration": 16,
    "start_time": "2025-02-06T13:03:19.803Z"
   },
   {
    "duration": 29,
    "start_time": "2025-02-06T13:03:38.209Z"
   },
   {
    "duration": 113,
    "start_time": "2025-02-06T14:26:23.702Z"
   },
   {
    "duration": 274,
    "start_time": "2025-02-06T14:26:45.034Z"
   },
   {
    "duration": 62,
    "start_time": "2025-02-06T14:26:52.584Z"
   },
   {
    "duration": 16,
    "start_time": "2025-02-06T14:27:02.112Z"
   },
   {
    "duration": 96,
    "start_time": "2025-02-06T14:27:43.469Z"
   },
   {
    "duration": 15,
    "start_time": "2025-02-06T14:27:45.050Z"
   },
   {
    "duration": 15,
    "start_time": "2025-02-06T14:27:48.408Z"
   },
   {
    "duration": 2,
    "start_time": "2025-02-06T14:28:47.258Z"
   },
   {
    "duration": 13,
    "start_time": "2025-02-06T14:28:48.031Z"
   },
   {
    "duration": 14,
    "start_time": "2025-02-06T14:28:48.908Z"
   },
   {
    "duration": 44,
    "start_time": "2025-02-06T14:28:57.984Z"
   },
   {
    "duration": 15,
    "start_time": "2025-02-06T14:28:58.757Z"
   },
   {
    "duration": 3639,
    "start_time": "2025-02-06T14:29:07.703Z"
   },
   {
    "duration": 2092,
    "start_time": "2025-02-06T14:29:11.345Z"
   },
   {
    "duration": 36,
    "start_time": "2025-02-06T14:29:13.438Z"
   },
   {
    "duration": 14,
    "start_time": "2025-02-06T14:29:13.475Z"
   },
   {
    "duration": 32,
    "start_time": "2025-02-06T14:29:13.492Z"
   },
   {
    "duration": 11,
    "start_time": "2025-02-06T14:29:13.525Z"
   },
   {
    "duration": 101,
    "start_time": "2025-02-06T14:29:13.538Z"
   },
   {
    "duration": 7,
    "start_time": "2025-02-06T14:29:13.640Z"
   },
   {
    "duration": 14,
    "start_time": "2025-02-06T14:29:13.649Z"
   },
   {
    "duration": 7,
    "start_time": "2025-02-06T14:29:13.664Z"
   },
   {
    "duration": 37,
    "start_time": "2025-02-06T14:29:13.672Z"
   },
   {
    "duration": 6,
    "start_time": "2025-02-06T14:29:13.711Z"
   },
   {
    "duration": 19,
    "start_time": "2025-02-06T14:29:13.719Z"
   },
   {
    "duration": 103,
    "start_time": "2025-02-06T14:29:13.741Z"
   },
   {
    "duration": 14,
    "start_time": "2025-02-06T14:29:13.846Z"
   },
   {
    "duration": 6,
    "start_time": "2025-02-06T14:29:13.862Z"
   },
   {
    "duration": 11,
    "start_time": "2025-02-06T14:29:13.869Z"
   },
   {
    "duration": 10,
    "start_time": "2025-02-06T14:29:13.881Z"
   },
   {
    "duration": 41,
    "start_time": "2025-02-06T14:29:13.892Z"
   },
   {
    "duration": 239,
    "start_time": "2025-02-06T14:29:13.935Z"
   },
   {
    "duration": 40,
    "start_time": "2025-02-06T14:29:14.175Z"
   },
   {
    "duration": 24,
    "start_time": "2025-02-06T14:29:14.217Z"
   },
   {
    "duration": 95,
    "start_time": "2025-02-06T14:29:14.243Z"
   },
   {
    "duration": 32,
    "start_time": "2025-02-06T14:29:14.340Z"
   },
   {
    "duration": 15,
    "start_time": "2025-02-06T14:29:14.373Z"
   },
   {
    "duration": 572,
    "start_time": "2025-02-06T14:29:14.390Z"
   },
   {
    "duration": 14,
    "start_time": "2025-02-06T14:29:14.964Z"
   },
   {
    "duration": 187,
    "start_time": "2025-02-06T14:29:14.980Z"
   },
   {
    "duration": 61,
    "start_time": "2025-02-06T14:29:15.169Z"
   },
   {
    "duration": 40,
    "start_time": "2025-02-06T14:29:15.232Z"
   },
   {
    "duration": 72,
    "start_time": "2025-02-06T14:29:15.274Z"
   },
   {
    "duration": 18,
    "start_time": "2025-02-06T14:29:15.348Z"
   },
   {
    "duration": 147,
    "start_time": "2025-02-06T14:29:15.368Z"
   },
   {
    "duration": 12,
    "start_time": "2025-02-06T14:29:15.517Z"
   },
   {
    "duration": 24,
    "start_time": "2025-02-06T14:29:15.531Z"
   },
   {
    "duration": 54,
    "start_time": "2025-02-06T14:29:15.557Z"
   },
   {
    "duration": 33,
    "start_time": "2025-02-06T14:29:15.613Z"
   },
   {
    "duration": 21,
    "start_time": "2025-02-06T14:29:15.648Z"
   },
   {
    "duration": 9,
    "start_time": "2025-02-06T14:29:15.671Z"
   },
   {
    "duration": 37,
    "start_time": "2025-02-06T14:29:15.682Z"
   },
   {
    "duration": 163,
    "start_time": "2025-02-06T14:29:15.724Z"
   },
   {
    "duration": 112,
    "start_time": "2025-02-06T14:29:15.889Z"
   },
   {
    "duration": 32,
    "start_time": "2025-02-06T14:29:16.004Z"
   },
   {
    "duration": 117,
    "start_time": "2025-02-06T14:29:16.038Z"
   },
   {
    "duration": 88,
    "start_time": "2025-02-06T14:29:16.157Z"
   },
   {
    "duration": 13,
    "start_time": "2025-02-06T14:29:16.246Z"
   },
   {
    "duration": 184,
    "start_time": "2025-02-06T14:29:16.262Z"
   },
   {
    "duration": 82,
    "start_time": "2025-02-06T14:29:16.448Z"
   },
   {
    "duration": 16,
    "start_time": "2025-02-06T14:29:16.532Z"
   },
   {
    "duration": 39,
    "start_time": "2025-02-06T14:29:16.549Z"
   },
   {
    "duration": 24,
    "start_time": "2025-02-06T14:29:16.590Z"
   },
   {
    "duration": 173,
    "start_time": "2025-02-06T14:29:16.616Z"
   },
   {
    "duration": 30,
    "start_time": "2025-02-06T14:29:16.790Z"
   },
   {
    "duration": 27,
    "start_time": "2025-02-06T14:29:16.822Z"
   },
   {
    "duration": 25,
    "start_time": "2025-02-06T14:29:16.852Z"
   },
   {
    "duration": 35,
    "start_time": "2025-02-06T14:29:16.878Z"
   },
   {
    "duration": 11,
    "start_time": "2025-02-06T14:29:16.915Z"
   },
   {
    "duration": 30,
    "start_time": "2025-02-06T14:29:16.928Z"
   },
   {
    "duration": 22,
    "start_time": "2025-02-06T14:29:16.960Z"
   },
   {
    "duration": 284,
    "start_time": "2025-02-06T14:29:16.983Z"
   },
   {
    "duration": 65,
    "start_time": "2025-02-06T14:29:17.269Z"
   },
   {
    "duration": 15,
    "start_time": "2025-02-06T14:29:17.336Z"
   },
   {
    "duration": 11,
    "start_time": "2025-02-06T14:29:17.353Z"
   },
   {
    "duration": 102,
    "start_time": "2025-02-06T14:29:17.365Z"
   },
   {
    "duration": 16,
    "start_time": "2025-02-06T14:29:17.469Z"
   },
   {
    "duration": 26,
    "start_time": "2025-02-06T14:29:17.486Z"
   },
   {
    "duration": 47,
    "start_time": "2025-02-06T14:30:28.736Z"
   },
   {
    "duration": 9,
    "start_time": "2025-02-06T14:41:04.632Z"
   },
   {
    "duration": 11,
    "start_time": "2025-02-06T14:41:05.841Z"
   },
   {
    "duration": 23,
    "start_time": "2025-02-06T14:41:44.394Z"
   },
   {
    "duration": 26,
    "start_time": "2025-02-06T14:42:06.842Z"
   },
   {
    "duration": 7,
    "start_time": "2025-02-06T14:42:19.530Z"
   },
   {
    "duration": 27,
    "start_time": "2025-02-06T14:42:21.167Z"
   },
   {
    "duration": 6,
    "start_time": "2025-02-06T14:42:24.693Z"
   },
   {
    "duration": 10,
    "start_time": "2025-02-06T14:42:25.255Z"
   },
   {
    "duration": 6,
    "start_time": "2025-02-06T14:42:39.362Z"
   },
   {
    "duration": 11,
    "start_time": "2025-02-06T14:42:40.721Z"
   },
   {
    "duration": 7,
    "start_time": "2025-02-06T14:42:46.329Z"
   },
   {
    "duration": 26,
    "start_time": "2025-02-06T14:42:46.997Z"
   },
   {
    "duration": 3650,
    "start_time": "2025-02-06T14:42:54.472Z"
   },
   {
    "duration": 2325,
    "start_time": "2025-02-06T14:42:58.124Z"
   },
   {
    "duration": 38,
    "start_time": "2025-02-06T14:43:00.450Z"
   },
   {
    "duration": 20,
    "start_time": "2025-02-06T14:43:00.490Z"
   },
   {
    "duration": 31,
    "start_time": "2025-02-06T14:43:00.511Z"
   },
   {
    "duration": 91,
    "start_time": "2025-02-06T14:43:00.544Z"
   },
   {
    "duration": 110,
    "start_time": "2025-02-06T14:43:00.637Z"
   },
   {
    "duration": 8,
    "start_time": "2025-02-06T14:43:00.749Z"
   },
   {
    "duration": 58,
    "start_time": "2025-02-06T14:43:00.759Z"
   },
   {
    "duration": 9,
    "start_time": "2025-02-06T14:43:00.820Z"
   },
   {
    "duration": 27,
    "start_time": "2025-02-06T14:43:00.830Z"
   },
   {
    "duration": 7,
    "start_time": "2025-02-06T14:43:00.859Z"
   },
   {
    "duration": 37,
    "start_time": "2025-02-06T14:43:00.868Z"
   },
   {
    "duration": 23,
    "start_time": "2025-02-06T14:43:00.906Z"
   },
   {
    "duration": 15,
    "start_time": "2025-02-06T14:43:00.930Z"
   },
   {
    "duration": 6,
    "start_time": "2025-02-06T14:43:00.947Z"
   },
   {
    "duration": 20,
    "start_time": "2025-02-06T14:43:00.955Z"
   },
   {
    "duration": 11,
    "start_time": "2025-02-06T14:43:00.976Z"
   },
   {
    "duration": 39,
    "start_time": "2025-02-06T14:43:01.000Z"
   },
   {
    "duration": 234,
    "start_time": "2025-02-06T14:43:01.041Z"
   },
   {
    "duration": 35,
    "start_time": "2025-02-06T14:43:01.277Z"
   },
   {
    "duration": 25,
    "start_time": "2025-02-06T14:43:01.314Z"
   },
   {
    "duration": 15,
    "start_time": "2025-02-06T14:43:01.341Z"
   },
   {
    "duration": 85,
    "start_time": "2025-02-06T14:43:01.357Z"
   },
   {
    "duration": 16,
    "start_time": "2025-02-06T14:43:01.444Z"
   },
   {
    "duration": 581,
    "start_time": "2025-02-06T14:43:01.461Z"
   },
   {
    "duration": 14,
    "start_time": "2025-02-06T14:43:02.044Z"
   },
   {
    "duration": 187,
    "start_time": "2025-02-06T14:43:02.061Z"
   },
   {
    "duration": 62,
    "start_time": "2025-02-06T14:43:02.250Z"
   },
   {
    "duration": 40,
    "start_time": "2025-02-06T14:43:02.314Z"
   },
   {
    "duration": 57,
    "start_time": "2025-02-06T14:43:02.355Z"
   },
   {
    "duration": 25,
    "start_time": "2025-02-06T14:43:02.413Z"
   },
   {
    "duration": 121,
    "start_time": "2025-02-06T14:43:02.439Z"
   },
   {
    "duration": 11,
    "start_time": "2025-02-06T14:43:02.562Z"
   },
   {
    "duration": 86,
    "start_time": "2025-02-06T14:43:02.575Z"
   },
   {
    "duration": 41,
    "start_time": "2025-02-06T14:43:02.663Z"
   },
   {
    "duration": 65,
    "start_time": "2025-02-06T14:43:02.705Z"
   },
   {
    "duration": 127,
    "start_time": "2025-02-06T14:43:02.772Z"
   },
   {
    "duration": 24,
    "start_time": "2025-02-06T14:43:02.901Z"
   },
   {
    "duration": 19,
    "start_time": "2025-02-06T14:43:02.927Z"
   },
   {
    "duration": 160,
    "start_time": "2025-02-06T14:43:02.948Z"
   },
   {
    "duration": 113,
    "start_time": "2025-02-06T14:43:03.109Z"
   },
   {
    "duration": 31,
    "start_time": "2025-02-06T14:43:03.223Z"
   },
   {
    "duration": 86,
    "start_time": "2025-02-06T14:43:03.255Z"
   },
   {
    "duration": 88,
    "start_time": "2025-02-06T14:43:03.343Z"
   },
   {
    "duration": 11,
    "start_time": "2025-02-06T14:43:03.433Z"
   },
   {
    "duration": 165,
    "start_time": "2025-02-06T14:43:03.445Z"
   },
   {
    "duration": 99,
    "start_time": "2025-02-06T14:43:03.611Z"
   },
   {
    "duration": 14,
    "start_time": "2025-02-06T14:43:03.712Z"
   },
   {
    "duration": 10,
    "start_time": "2025-02-06T14:43:03.728Z"
   },
   {
    "duration": 21,
    "start_time": "2025-02-06T14:43:03.740Z"
   },
   {
    "duration": 176,
    "start_time": "2025-02-06T14:43:03.762Z"
   },
   {
    "duration": 31,
    "start_time": "2025-02-06T14:43:03.940Z"
   },
   {
    "duration": 42,
    "start_time": "2025-02-06T14:43:03.973Z"
   },
   {
    "duration": 32,
    "start_time": "2025-02-06T14:43:04.016Z"
   },
   {
    "duration": 40,
    "start_time": "2025-02-06T14:43:04.050Z"
   },
   {
    "duration": 61,
    "start_time": "2025-02-06T14:43:04.091Z"
   },
   {
    "duration": 37,
    "start_time": "2025-02-06T14:43:04.154Z"
   },
   {
    "duration": 35,
    "start_time": "2025-02-06T14:43:04.192Z"
   },
   {
    "duration": 392,
    "start_time": "2025-02-06T14:43:04.229Z"
   },
   {
    "duration": 59,
    "start_time": "2025-02-06T14:43:04.623Z"
   },
   {
    "duration": 30,
    "start_time": "2025-02-06T14:43:04.684Z"
   },
   {
    "duration": 8,
    "start_time": "2025-02-06T14:43:04.716Z"
   },
   {
    "duration": 103,
    "start_time": "2025-02-06T14:43:04.726Z"
   },
   {
    "duration": 25,
    "start_time": "2025-02-06T14:43:04.832Z"
   },
   {
    "duration": 16,
    "start_time": "2025-02-06T14:43:04.859Z"
   },
   {
    "duration": 41,
    "start_time": "2025-02-06T14:43:04.877Z"
   },
   {
    "duration": 10,
    "start_time": "2025-02-06T14:43:30.343Z"
   },
   {
    "duration": 4448,
    "start_time": "2025-02-06T16:26:47.685Z"
   },
   {
    "duration": 2184,
    "start_time": "2025-02-06T16:26:52.135Z"
   },
   {
    "duration": 36,
    "start_time": "2025-02-06T16:26:54.320Z"
   },
   {
    "duration": 4,
    "start_time": "2025-02-06T16:26:54.358Z"
   },
   {
    "duration": 19,
    "start_time": "2025-02-06T16:26:54.364Z"
   },
   {
    "duration": 17,
    "start_time": "2025-02-06T16:26:54.384Z"
   },
   {
    "duration": 94,
    "start_time": "2025-02-06T16:26:54.402Z"
   },
   {
    "duration": 7,
    "start_time": "2025-02-06T16:26:54.498Z"
   },
   {
    "duration": 17,
    "start_time": "2025-02-06T16:26:54.507Z"
   },
   {
    "duration": 8,
    "start_time": "2025-02-06T16:26:54.526Z"
   },
   {
    "duration": 39,
    "start_time": "2025-02-06T16:26:54.535Z"
   },
   {
    "duration": 71,
    "start_time": "2025-02-06T16:26:54.576Z"
   },
   {
    "duration": 82,
    "start_time": "2025-02-06T16:26:54.649Z"
   },
   {
    "duration": 12,
    "start_time": "2025-02-06T16:26:54.733Z"
   },
   {
    "duration": 14,
    "start_time": "2025-02-06T16:26:54.746Z"
   },
   {
    "duration": 7,
    "start_time": "2025-02-06T16:26:54.761Z"
   },
   {
    "duration": 99,
    "start_time": "2025-02-06T16:26:54.769Z"
   },
   {
    "duration": 20,
    "start_time": "2025-02-06T16:26:54.869Z"
   },
   {
    "duration": 48,
    "start_time": "2025-02-06T16:26:54.890Z"
   },
   {
    "duration": 222,
    "start_time": "2025-02-06T16:26:54.939Z"
   },
   {
    "duration": 31,
    "start_time": "2025-02-06T16:26:55.162Z"
   },
   {
    "duration": 23,
    "start_time": "2025-02-06T16:26:55.194Z"
   },
   {
    "duration": 33,
    "start_time": "2025-02-06T16:26:55.218Z"
   },
   {
    "duration": 33,
    "start_time": "2025-02-06T16:26:55.252Z"
   },
   {
    "duration": 15,
    "start_time": "2025-02-06T16:26:55.286Z"
   },
   {
    "duration": 605,
    "start_time": "2025-02-06T16:26:55.302Z"
   },
   {
    "duration": 16,
    "start_time": "2025-02-06T16:26:55.908Z"
   },
   {
    "duration": 291,
    "start_time": "2025-02-06T16:26:55.928Z"
   },
   {
    "duration": 68,
    "start_time": "2025-02-06T16:26:56.223Z"
   },
   {
    "duration": 41,
    "start_time": "2025-02-06T16:26:56.293Z"
   },
   {
    "duration": 33,
    "start_time": "2025-02-06T16:26:56.336Z"
   },
   {
    "duration": 18,
    "start_time": "2025-02-06T16:26:56.370Z"
   },
   {
    "duration": 132,
    "start_time": "2025-02-06T16:26:56.390Z"
   },
   {
    "duration": 11,
    "start_time": "2025-02-06T16:26:56.523Z"
   },
   {
    "duration": 25,
    "start_time": "2025-02-06T16:26:56.535Z"
   },
   {
    "duration": 48,
    "start_time": "2025-02-06T16:26:56.561Z"
   },
   {
    "duration": 117,
    "start_time": "2025-02-06T16:26:56.611Z"
   },
   {
    "duration": 13,
    "start_time": "2025-02-06T16:26:56.730Z"
   },
   {
    "duration": 9,
    "start_time": "2025-02-06T16:26:56.744Z"
   },
   {
    "duration": 45,
    "start_time": "2025-02-06T16:26:56.755Z"
   },
   {
    "duration": 251,
    "start_time": "2025-02-06T16:26:56.801Z"
   },
   {
    "duration": 115,
    "start_time": "2025-02-06T16:26:57.054Z"
   },
   {
    "duration": 33,
    "start_time": "2025-02-06T16:26:57.171Z"
   },
   {
    "duration": 84,
    "start_time": "2025-02-06T16:26:57.205Z"
   },
   {
    "duration": 92,
    "start_time": "2025-02-06T16:26:57.291Z"
   },
   {
    "duration": 11,
    "start_time": "2025-02-06T16:26:57.385Z"
   },
   {
    "duration": 181,
    "start_time": "2025-02-06T16:26:57.397Z"
   },
   {
    "duration": 87,
    "start_time": "2025-02-06T16:26:57.580Z"
   },
   {
    "duration": 14,
    "start_time": "2025-02-06T16:26:57.668Z"
   },
   {
    "duration": 11,
    "start_time": "2025-02-06T16:26:57.684Z"
   },
   {
    "duration": 23,
    "start_time": "2025-02-06T16:26:57.697Z"
   },
   {
    "duration": 218,
    "start_time": "2025-02-06T16:26:57.722Z"
   },
   {
    "duration": 20,
    "start_time": "2025-02-06T16:26:57.941Z"
   },
   {
    "duration": 105,
    "start_time": "2025-02-06T16:26:57.963Z"
   },
   {
    "duration": 24,
    "start_time": "2025-02-06T16:26:58.069Z"
   },
   {
    "duration": 23,
    "start_time": "2025-02-06T16:26:58.094Z"
   },
   {
    "duration": 13,
    "start_time": "2025-02-06T16:26:58.118Z"
   },
   {
    "duration": 33,
    "start_time": "2025-02-06T16:26:58.132Z"
   },
   {
    "duration": 23,
    "start_time": "2025-02-06T16:26:58.166Z"
   },
   {
    "duration": 287,
    "start_time": "2025-02-06T16:26:58.191Z"
   },
   {
    "duration": 69,
    "start_time": "2025-02-06T16:26:58.480Z"
   },
   {
    "duration": 14,
    "start_time": "2025-02-06T16:26:58.551Z"
   },
   {
    "duration": 93,
    "start_time": "2025-02-06T16:26:58.566Z"
   },
   {
    "duration": 146,
    "start_time": "2025-02-06T16:26:58.661Z"
   },
   {
    "duration": 23,
    "start_time": "2025-02-06T16:26:58.808Z"
   },
   {
    "duration": 41,
    "start_time": "2025-02-06T16:26:58.833Z"
   },
   {
    "duration": 10,
    "start_time": "2025-02-06T16:26:58.876Z"
   },
   {
    "duration": 13,
    "start_time": "2025-02-06T16:27:31.365Z"
   },
   {
    "duration": 4816,
    "start_time": "2025-02-06T20:31:24.555Z"
   },
   {
    "duration": 2282,
    "start_time": "2025-02-06T20:31:29.374Z"
   },
   {
    "duration": 37,
    "start_time": "2025-02-06T20:31:31.657Z"
   },
   {
    "duration": 3,
    "start_time": "2025-02-06T20:31:31.696Z"
   },
   {
    "duration": 25,
    "start_time": "2025-02-06T20:31:31.701Z"
   },
   {
    "duration": 12,
    "start_time": "2025-02-06T20:31:31.727Z"
   },
   {
    "duration": 100,
    "start_time": "2025-02-06T20:31:31.740Z"
   },
   {
    "duration": 8,
    "start_time": "2025-02-06T20:31:31.841Z"
   },
   {
    "duration": 12,
    "start_time": "2025-02-06T20:31:31.850Z"
   },
   {
    "duration": 9,
    "start_time": "2025-02-06T20:31:31.864Z"
   },
   {
    "duration": 42,
    "start_time": "2025-02-06T20:31:31.875Z"
   },
   {
    "duration": 7,
    "start_time": "2025-02-06T20:31:31.919Z"
   },
   {
    "duration": 33,
    "start_time": "2025-02-06T20:31:31.928Z"
   },
   {
    "duration": 19,
    "start_time": "2025-02-06T20:31:31.964Z"
   },
   {
    "duration": 21,
    "start_time": "2025-02-06T20:31:32.010Z"
   },
   {
    "duration": 8,
    "start_time": "2025-02-06T20:31:32.033Z"
   },
   {
    "duration": 29,
    "start_time": "2025-02-06T20:31:32.042Z"
   },
   {
    "duration": 12,
    "start_time": "2025-02-06T20:31:32.073Z"
   },
   {
    "duration": 69,
    "start_time": "2025-02-06T20:31:32.087Z"
   },
   {
    "duration": 255,
    "start_time": "2025-02-06T20:31:32.158Z"
   },
   {
    "duration": 33,
    "start_time": "2025-02-06T20:31:32.414Z"
   },
   {
    "duration": 28,
    "start_time": "2025-02-06T20:31:32.449Z"
   },
   {
    "duration": 38,
    "start_time": "2025-02-06T20:31:32.479Z"
   },
   {
    "duration": 41,
    "start_time": "2025-02-06T20:31:32.519Z"
   },
   {
    "duration": 30,
    "start_time": "2025-02-06T20:31:32.562Z"
   },
   {
    "duration": 632,
    "start_time": "2025-02-06T20:31:32.593Z"
   },
   {
    "duration": 16,
    "start_time": "2025-02-06T20:31:33.227Z"
   },
   {
    "duration": 200,
    "start_time": "2025-02-06T20:31:33.247Z"
   },
   {
    "duration": 64,
    "start_time": "2025-02-06T20:31:33.448Z"
   },
   {
    "duration": 44,
    "start_time": "2025-02-06T20:31:33.513Z"
   },
   {
    "duration": 27,
    "start_time": "2025-02-06T20:31:33.559Z"
   },
   {
    "duration": 27,
    "start_time": "2025-02-06T20:31:33.609Z"
   },
   {
    "duration": 147,
    "start_time": "2025-02-06T20:31:33.638Z"
   },
   {
    "duration": 10,
    "start_time": "2025-02-06T20:31:33.787Z"
   },
   {
    "duration": 29,
    "start_time": "2025-02-06T20:31:33.799Z"
   },
   {
    "duration": 51,
    "start_time": "2025-02-06T20:31:33.829Z"
   },
   {
    "duration": 27,
    "start_time": "2025-02-06T20:31:33.882Z"
   },
   {
    "duration": 28,
    "start_time": "2025-02-06T20:31:33.912Z"
   },
   {
    "duration": 10,
    "start_time": "2025-02-06T20:31:33.941Z"
   },
   {
    "duration": 20,
    "start_time": "2025-02-06T20:31:33.953Z"
   },
   {
    "duration": 176,
    "start_time": "2025-02-06T20:31:33.975Z"
   },
   {
    "duration": 120,
    "start_time": "2025-02-06T20:31:34.153Z"
   },
   {
    "duration": 42,
    "start_time": "2025-02-06T20:31:34.275Z"
   },
   {
    "duration": 116,
    "start_time": "2025-02-06T20:31:34.318Z"
   },
   {
    "duration": 82,
    "start_time": "2025-02-06T20:31:34.436Z"
   },
   {
    "duration": 10,
    "start_time": "2025-02-06T20:31:34.520Z"
   },
   {
    "duration": 201,
    "start_time": "2025-02-06T20:31:34.531Z"
   },
   {
    "duration": 75,
    "start_time": "2025-02-06T20:31:34.734Z"
   },
   {
    "duration": 18,
    "start_time": "2025-02-06T20:31:34.811Z"
   },
   {
    "duration": 19,
    "start_time": "2025-02-06T20:31:34.831Z"
   },
   {
    "duration": 26,
    "start_time": "2025-02-06T20:31:34.852Z"
   },
   {
    "duration": 176,
    "start_time": "2025-02-06T20:31:34.879Z"
   },
   {
    "duration": 22,
    "start_time": "2025-02-06T20:31:35.057Z"
   },
   {
    "duration": 40,
    "start_time": "2025-02-06T20:31:35.081Z"
   },
   {
    "duration": 35,
    "start_time": "2025-02-06T20:31:35.123Z"
   },
   {
    "duration": 24,
    "start_time": "2025-02-06T20:31:35.160Z"
   },
   {
    "duration": 17,
    "start_time": "2025-02-06T20:31:35.186Z"
   },
   {
    "duration": 45,
    "start_time": "2025-02-06T20:31:35.208Z"
   },
   {
    "duration": 23,
    "start_time": "2025-02-06T20:31:35.255Z"
   },
   {
    "duration": 292,
    "start_time": "2025-02-06T20:31:35.280Z"
   },
   {
    "duration": 71,
    "start_time": "2025-02-06T20:31:35.574Z"
   },
   {
    "duration": 15,
    "start_time": "2025-02-06T20:31:35.647Z"
   },
   {
    "duration": 25,
    "start_time": "2025-02-06T20:31:35.663Z"
   },
   {
    "duration": 47,
    "start_time": "2025-02-06T20:31:35.689Z"
   },
   {
    "duration": 91,
    "start_time": "2025-02-06T20:31:35.738Z"
   },
   {
    "duration": 16,
    "start_time": "2025-02-06T20:31:35.831Z"
   },
   {
    "duration": 17,
    "start_time": "2025-02-06T20:31:35.849Z"
   },
   {
    "duration": 11,
    "start_time": "2025-02-06T20:31:35.868Z"
   },
   {
    "duration": 37,
    "start_time": "2025-02-06T20:31:53.135Z"
   },
   {
    "duration": 17,
    "start_time": "2025-02-06T20:31:54.641Z"
   },
   {
    "duration": 34,
    "start_time": "2025-02-06T20:32:17.616Z"
   },
   {
    "duration": 16,
    "start_time": "2025-02-06T20:32:19.752Z"
   },
   {
    "duration": 36,
    "start_time": "2025-02-06T20:33:14.205Z"
   },
   {
    "duration": 17,
    "start_time": "2025-02-06T20:33:32.754Z"
   },
   {
    "duration": 254,
    "start_time": "2025-02-06T20:37:15.499Z"
   },
   {
    "duration": 2405,
    "start_time": "2025-02-06T20:49:30.708Z"
   },
   {
    "duration": 42,
    "start_time": "2025-02-06T20:49:51.642Z"
   },
   {
    "duration": 14,
    "start_time": "2025-02-06T20:50:21.094Z"
   },
   {
    "duration": 85,
    "start_time": "2025-02-06T20:50:25.093Z"
   },
   {
    "duration": 3702,
    "start_time": "2025-02-06T20:50:38.614Z"
   },
   {
    "duration": 2584,
    "start_time": "2025-02-06T20:50:42.318Z"
   },
   {
    "duration": 39,
    "start_time": "2025-02-06T20:50:44.904Z"
   },
   {
    "duration": 5,
    "start_time": "2025-02-06T20:50:44.945Z"
   },
   {
    "duration": 62,
    "start_time": "2025-02-06T20:50:44.952Z"
   },
   {
    "duration": 3,
    "start_time": "2025-02-06T20:50:45.016Z"
   },
   {
    "duration": 66,
    "start_time": "2025-02-06T20:50:45.021Z"
   },
   {
    "duration": 105,
    "start_time": "2025-02-06T20:50:45.089Z"
   },
   {
    "duration": 9,
    "start_time": "2025-02-06T20:50:45.195Z"
   },
   {
    "duration": 12,
    "start_time": "2025-02-06T20:50:45.208Z"
   },
   {
    "duration": 10,
    "start_time": "2025-02-06T20:50:45.221Z"
   },
   {
    "duration": 28,
    "start_time": "2025-02-06T20:50:45.232Z"
   },
   {
    "duration": 7,
    "start_time": "2025-02-06T20:50:45.262Z"
   },
   {
    "duration": 44,
    "start_time": "2025-02-06T20:50:45.271Z"
   },
   {
    "duration": 12,
    "start_time": "2025-02-06T20:50:45.317Z"
   },
   {
    "duration": 12,
    "start_time": "2025-02-06T20:50:45.331Z"
   },
   {
    "duration": 24,
    "start_time": "2025-02-06T20:50:45.345Z"
   },
   {
    "duration": 27,
    "start_time": "2025-02-06T20:50:45.371Z"
   },
   {
    "duration": 11,
    "start_time": "2025-02-06T20:50:45.400Z"
   },
   {
    "duration": 52,
    "start_time": "2025-02-06T20:50:45.412Z"
   },
   {
    "duration": 255,
    "start_time": "2025-02-06T20:50:45.466Z"
   },
   {
    "duration": 35,
    "start_time": "2025-02-06T20:50:45.722Z"
   },
   {
    "duration": 25,
    "start_time": "2025-02-06T20:50:45.759Z"
   },
   {
    "duration": 36,
    "start_time": "2025-02-06T20:50:45.786Z"
   },
   {
    "duration": 33,
    "start_time": "2025-02-06T20:50:45.824Z"
   },
   {
    "duration": 15,
    "start_time": "2025-02-06T20:50:45.859Z"
   },
   {
    "duration": 617,
    "start_time": "2025-02-06T20:50:45.875Z"
   },
   {
    "duration": 26,
    "start_time": "2025-02-06T20:50:46.496Z"
   },
   {
    "duration": 180,
    "start_time": "2025-02-06T20:50:46.524Z"
   },
   {
    "duration": 57,
    "start_time": "2025-02-06T20:50:46.706Z"
   },
   {
    "duration": 52,
    "start_time": "2025-02-06T20:50:46.765Z"
   },
   {
    "duration": 23,
    "start_time": "2025-02-06T20:50:46.818Z"
   },
   {
    "duration": 19,
    "start_time": "2025-02-06T20:50:46.842Z"
   },
   {
    "duration": 140,
    "start_time": "2025-02-06T20:50:46.862Z"
   },
   {
    "duration": 16,
    "start_time": "2025-02-06T20:50:47.003Z"
   },
   {
    "duration": 17,
    "start_time": "2025-02-06T20:50:47.020Z"
   },
   {
    "duration": 41,
    "start_time": "2025-02-06T20:50:47.038Z"
   },
   {
    "duration": 44,
    "start_time": "2025-02-06T20:50:47.081Z"
   },
   {
    "duration": 12,
    "start_time": "2025-02-06T20:50:47.127Z"
   },
   {
    "duration": 10,
    "start_time": "2025-02-06T20:50:47.140Z"
   },
   {
    "duration": 20,
    "start_time": "2025-02-06T20:50:47.152Z"
   },
   {
    "duration": 183,
    "start_time": "2025-02-06T20:50:47.174Z"
   },
   {
    "duration": 119,
    "start_time": "2025-02-06T20:50:47.358Z"
   },
   {
    "duration": 45,
    "start_time": "2025-02-06T20:50:47.480Z"
   },
   {
    "duration": 86,
    "start_time": "2025-02-06T20:50:47.527Z"
   },
   {
    "duration": 82,
    "start_time": "2025-02-06T20:50:47.614Z"
   },
   {
    "duration": 21,
    "start_time": "2025-02-06T20:50:47.698Z"
   },
   {
    "duration": 166,
    "start_time": "2025-02-06T20:50:47.721Z"
   },
   {
    "duration": 80,
    "start_time": "2025-02-06T20:50:47.889Z"
   },
   {
    "duration": 15,
    "start_time": "2025-02-06T20:50:47.970Z"
   },
   {
    "duration": 9,
    "start_time": "2025-02-06T20:50:47.986Z"
   },
   {
    "duration": 20,
    "start_time": "2025-02-06T20:50:48.008Z"
   },
   {
    "duration": 190,
    "start_time": "2025-02-06T20:50:48.029Z"
   },
   {
    "duration": 21,
    "start_time": "2025-02-06T20:50:48.220Z"
   },
   {
    "duration": 31,
    "start_time": "2025-02-06T20:50:48.243Z"
   },
   {
    "duration": 47,
    "start_time": "2025-02-06T20:50:48.276Z"
   },
   {
    "duration": 19,
    "start_time": "2025-02-06T20:50:48.324Z"
   },
   {
    "duration": 5,
    "start_time": "2025-02-06T20:50:48.345Z"
   },
   {
    "duration": 25,
    "start_time": "2025-02-06T20:50:48.352Z"
   },
   {
    "duration": 47,
    "start_time": "2025-02-06T20:50:48.379Z"
   },
   {
    "duration": 295,
    "start_time": "2025-02-06T20:50:48.428Z"
   },
   {
    "duration": 2,
    "start_time": "2025-02-06T20:50:48.725Z"
   },
   {
    "duration": 62,
    "start_time": "2025-02-06T20:50:48.729Z"
   },
   {
    "duration": 22,
    "start_time": "2025-02-06T20:50:48.809Z"
   },
   {
    "duration": 10,
    "start_time": "2025-02-06T20:50:48.834Z"
   },
   {
    "duration": 42,
    "start_time": "2025-02-06T20:50:48.847Z"
   },
   {
    "duration": 106,
    "start_time": "2025-02-06T20:50:48.892Z"
   },
   {
    "duration": 34,
    "start_time": "2025-02-06T20:50:49.000Z"
   },
   {
    "duration": 15,
    "start_time": "2025-02-06T20:50:49.035Z"
   },
   {
    "duration": 28,
    "start_time": "2025-02-06T20:50:49.051Z"
   },
   {
    "duration": 17,
    "start_time": "2025-02-06T20:50:49.081Z"
   },
   {
    "duration": 5360,
    "start_time": "2025-02-07T06:03:32.421Z"
   },
   {
    "duration": 2809,
    "start_time": "2025-02-07T06:03:37.784Z"
   },
   {
    "duration": 39,
    "start_time": "2025-02-07T06:03:40.595Z"
   },
   {
    "duration": 52,
    "start_time": "2025-02-07T06:03:40.637Z"
   },
   {
    "duration": 52,
    "start_time": "2025-02-07T06:03:40.691Z"
   },
   {
    "duration": 3,
    "start_time": "2025-02-07T06:03:40.744Z"
   },
   {
    "duration": 31,
    "start_time": "2025-02-07T06:03:40.749Z"
   },
   {
    "duration": 144,
    "start_time": "2025-02-07T06:03:40.781Z"
   },
   {
    "duration": 9,
    "start_time": "2025-02-07T06:03:40.926Z"
   },
   {
    "duration": 16,
    "start_time": "2025-02-07T06:03:40.937Z"
   },
   {
    "duration": 8,
    "start_time": "2025-02-07T06:03:40.955Z"
   },
   {
    "duration": 29,
    "start_time": "2025-02-07T06:03:40.964Z"
   },
   {
    "duration": 20,
    "start_time": "2025-02-07T06:03:40.995Z"
   },
   {
    "duration": 22,
    "start_time": "2025-02-07T06:03:41.033Z"
   },
   {
    "duration": 18,
    "start_time": "2025-02-07T06:03:41.057Z"
   },
   {
    "duration": 19,
    "start_time": "2025-02-07T06:03:41.077Z"
   },
   {
    "duration": 7,
    "start_time": "2025-02-07T06:03:41.097Z"
   },
   {
    "duration": 33,
    "start_time": "2025-02-07T06:03:41.107Z"
   },
   {
    "duration": 11,
    "start_time": "2025-02-07T06:03:41.142Z"
   },
   {
    "duration": 50,
    "start_time": "2025-02-07T06:03:41.155Z"
   },
   {
    "duration": 259,
    "start_time": "2025-02-07T06:03:41.207Z"
   },
   {
    "duration": 36,
    "start_time": "2025-02-07T06:03:41.467Z"
   },
   {
    "duration": 39,
    "start_time": "2025-02-07T06:03:41.505Z"
   },
   {
    "duration": 16,
    "start_time": "2025-02-07T06:03:41.546Z"
   },
   {
    "duration": 35,
    "start_time": "2025-02-07T06:03:41.564Z"
   },
   {
    "duration": 46,
    "start_time": "2025-02-07T06:03:41.601Z"
   },
   {
    "duration": 642,
    "start_time": "2025-02-07T06:03:41.648Z"
   },
   {
    "duration": 17,
    "start_time": "2025-02-07T06:03:42.294Z"
   },
   {
    "duration": 217,
    "start_time": "2025-02-07T06:03:42.313Z"
   },
   {
    "duration": 60,
    "start_time": "2025-02-07T06:03:42.533Z"
   },
   {
    "duration": 57,
    "start_time": "2025-02-07T06:03:42.595Z"
   },
   {
    "duration": 62,
    "start_time": "2025-02-07T06:03:42.654Z"
   },
   {
    "duration": 20,
    "start_time": "2025-02-07T06:03:42.717Z"
   },
   {
    "duration": 133,
    "start_time": "2025-02-07T06:03:42.739Z"
   },
   {
    "duration": 13,
    "start_time": "2025-02-07T06:03:42.873Z"
   },
   {
    "duration": 18,
    "start_time": "2025-02-07T06:03:42.888Z"
   },
   {
    "duration": 66,
    "start_time": "2025-02-07T06:03:42.908Z"
   },
   {
    "duration": 27,
    "start_time": "2025-02-07T06:03:42.976Z"
   },
   {
    "duration": 36,
    "start_time": "2025-02-07T06:03:43.005Z"
   },
   {
    "duration": 33,
    "start_time": "2025-02-07T06:03:43.043Z"
   },
   {
    "duration": 21,
    "start_time": "2025-02-07T06:03:43.078Z"
   },
   {
    "duration": 167,
    "start_time": "2025-02-07T06:03:43.101Z"
   },
   {
    "duration": 134,
    "start_time": "2025-02-07T06:03:43.270Z"
   },
   {
    "duration": 41,
    "start_time": "2025-02-07T06:03:43.405Z"
   },
   {
    "duration": 93,
    "start_time": "2025-02-07T06:03:43.448Z"
   },
   {
    "duration": 96,
    "start_time": "2025-02-07T06:03:43.542Z"
   },
   {
    "duration": 12,
    "start_time": "2025-02-07T06:03:43.639Z"
   },
   {
    "duration": 174,
    "start_time": "2025-02-07T06:03:43.653Z"
   },
   {
    "duration": 79,
    "start_time": "2025-02-07T06:03:43.828Z"
   },
   {
    "duration": 34,
    "start_time": "2025-02-07T06:03:43.908Z"
   },
   {
    "duration": 13,
    "start_time": "2025-02-07T06:03:43.944Z"
   },
   {
    "duration": 26,
    "start_time": "2025-02-07T06:03:43.959Z"
   },
   {
    "duration": 210,
    "start_time": "2025-02-07T06:03:43.987Z"
   },
   {
    "duration": 34,
    "start_time": "2025-02-07T06:03:44.199Z"
   },
   {
    "duration": 29,
    "start_time": "2025-02-07T06:03:44.234Z"
   },
   {
    "duration": 25,
    "start_time": "2025-02-07T06:03:44.265Z"
   },
   {
    "duration": 25,
    "start_time": "2025-02-07T06:03:44.292Z"
   },
   {
    "duration": 6,
    "start_time": "2025-02-07T06:03:44.333Z"
   },
   {
    "duration": 26,
    "start_time": "2025-02-07T06:03:44.340Z"
   },
   {
    "duration": 24,
    "start_time": "2025-02-07T06:03:44.367Z"
   },
   {
    "duration": 326,
    "start_time": "2025-02-07T06:03:44.392Z"
   },
   {
    "duration": 2,
    "start_time": "2025-02-07T06:03:44.720Z"
   },
   {
    "duration": 70,
    "start_time": "2025-02-07T06:03:44.724Z"
   },
   {
    "duration": 16,
    "start_time": "2025-02-07T06:03:44.796Z"
   },
   {
    "duration": 24,
    "start_time": "2025-02-07T06:03:44.814Z"
   },
   {
    "duration": 30,
    "start_time": "2025-02-07T06:03:44.840Z"
   },
   {
    "duration": 109,
    "start_time": "2025-02-07T06:03:44.871Z"
   },
   {
    "duration": 29,
    "start_time": "2025-02-07T06:03:44.982Z"
   },
   {
    "duration": 29,
    "start_time": "2025-02-07T06:03:45.013Z"
   },
   {
    "duration": 61,
    "start_time": "2025-02-07T06:03:45.044Z"
   },
   {
    "duration": 41,
    "start_time": "2025-02-07T06:03:45.107Z"
   },
   {
    "duration": 2537,
    "start_time": "2025-02-07T06:23:18.206Z"
   },
   {
    "duration": 3936,
    "start_time": "2025-02-07T06:23:29.316Z"
   },
   {
    "duration": 2220,
    "start_time": "2025-02-07T06:23:33.254Z"
   },
   {
    "duration": 44,
    "start_time": "2025-02-07T06:23:35.476Z"
   },
   {
    "duration": 6,
    "start_time": "2025-02-07T06:23:35.522Z"
   },
   {
    "duration": 84,
    "start_time": "2025-02-07T06:23:35.530Z"
   },
   {
    "duration": 14,
    "start_time": "2025-02-07T06:23:35.615Z"
   },
   {
    "duration": 164,
    "start_time": "2025-02-07T06:23:35.630Z"
   },
   {
    "duration": 9,
    "start_time": "2025-02-07T06:23:35.796Z"
   },
   {
    "duration": 115,
    "start_time": "2025-02-07T06:23:35.807Z"
   },
   {
    "duration": 111,
    "start_time": "2025-02-07T06:23:35.925Z"
   },
   {
    "duration": 58,
    "start_time": "2025-02-07T06:23:36.038Z"
   },
   {
    "duration": 42,
    "start_time": "2025-02-07T06:23:36.098Z"
   },
   {
    "duration": 37,
    "start_time": "2025-02-07T06:23:36.142Z"
   },
   {
    "duration": 20,
    "start_time": "2025-02-07T06:23:36.182Z"
   },
   {
    "duration": 26,
    "start_time": "2025-02-07T06:23:36.204Z"
   },
   {
    "duration": 9,
    "start_time": "2025-02-07T06:23:36.232Z"
   },
   {
    "duration": 29,
    "start_time": "2025-02-07T06:23:36.243Z"
   },
   {
    "duration": 13,
    "start_time": "2025-02-07T06:23:36.274Z"
   },
   {
    "duration": 93,
    "start_time": "2025-02-07T06:23:36.289Z"
   },
   {
    "duration": 266,
    "start_time": "2025-02-07T06:23:36.384Z"
   },
   {
    "duration": 40,
    "start_time": "2025-02-07T06:23:36.652Z"
   },
   {
    "duration": 119,
    "start_time": "2025-02-07T06:23:36.694Z"
   },
   {
    "duration": 43,
    "start_time": "2025-02-07T06:23:36.815Z"
   },
   {
    "duration": 45,
    "start_time": "2025-02-07T06:23:36.861Z"
   },
   {
    "duration": 17,
    "start_time": "2025-02-07T06:23:36.908Z"
   },
   {
    "duration": 712,
    "start_time": "2025-02-07T06:23:36.932Z"
   },
   {
    "duration": 19,
    "start_time": "2025-02-07T06:23:37.647Z"
   },
   {
    "duration": 260,
    "start_time": "2025-02-07T06:23:37.670Z"
   },
   {
    "duration": 68,
    "start_time": "2025-02-07T06:23:37.932Z"
   },
   {
    "duration": 73,
    "start_time": "2025-02-07T06:23:38.002Z"
   },
   {
    "duration": 26,
    "start_time": "2025-02-07T06:23:38.076Z"
   },
   {
    "duration": 38,
    "start_time": "2025-02-07T06:23:38.104Z"
   },
   {
    "duration": 145,
    "start_time": "2025-02-07T06:23:38.144Z"
   },
   {
    "duration": 13,
    "start_time": "2025-02-07T06:23:38.291Z"
   },
   {
    "duration": 36,
    "start_time": "2025-02-07T06:23:38.306Z"
   },
   {
    "duration": 49,
    "start_time": "2025-02-07T06:23:38.344Z"
   },
   {
    "duration": 41,
    "start_time": "2025-02-07T06:23:38.395Z"
   },
   {
    "duration": 32,
    "start_time": "2025-02-07T06:23:38.438Z"
   },
   {
    "duration": 13,
    "start_time": "2025-02-07T06:23:38.472Z"
   },
   {
    "duration": 31,
    "start_time": "2025-02-07T06:23:38.486Z"
   },
   {
    "duration": 193,
    "start_time": "2025-02-07T06:23:38.519Z"
   },
   {
    "duration": 142,
    "start_time": "2025-02-07T06:23:38.714Z"
   },
   {
    "duration": 36,
    "start_time": "2025-02-07T06:23:38.858Z"
   },
   {
    "duration": 106,
    "start_time": "2025-02-07T06:23:38.895Z"
   },
   {
    "duration": 105,
    "start_time": "2025-02-07T06:23:39.003Z"
   },
   {
    "duration": 11,
    "start_time": "2025-02-07T06:23:39.110Z"
   },
   {
    "duration": 201,
    "start_time": "2025-02-07T06:23:39.123Z"
   },
   {
    "duration": 93,
    "start_time": "2025-02-07T06:23:39.326Z"
   },
   {
    "duration": 26,
    "start_time": "2025-02-07T06:23:39.421Z"
   },
   {
    "duration": 15,
    "start_time": "2025-02-07T06:23:39.450Z"
   },
   {
    "duration": 26,
    "start_time": "2025-02-07T06:23:39.468Z"
   },
   {
    "duration": 237,
    "start_time": "2025-02-07T06:23:39.497Z"
   },
   {
    "duration": 33,
    "start_time": "2025-02-07T06:23:39.736Z"
   },
   {
    "duration": 30,
    "start_time": "2025-02-07T06:23:39.771Z"
   },
   {
    "duration": 56,
    "start_time": "2025-02-07T06:23:39.802Z"
   },
   {
    "duration": 78,
    "start_time": "2025-02-07T06:23:39.860Z"
   },
   {
    "duration": 91,
    "start_time": "2025-02-07T06:23:39.941Z"
   },
   {
    "duration": 48,
    "start_time": "2025-02-07T06:23:40.033Z"
   },
   {
    "duration": 24,
    "start_time": "2025-02-07T06:23:40.082Z"
   },
   {
    "duration": 367,
    "start_time": "2025-02-07T06:23:40.108Z"
   },
   {
    "duration": 2,
    "start_time": "2025-02-07T06:23:40.477Z"
   },
   {
    "duration": 91,
    "start_time": "2025-02-07T06:23:40.481Z"
   },
   {
    "duration": 17,
    "start_time": "2025-02-07T06:23:40.573Z"
   },
   {
    "duration": 15,
    "start_time": "2025-02-07T06:23:40.592Z"
   },
   {
    "duration": 43,
    "start_time": "2025-02-07T06:23:40.609Z"
   },
   {
    "duration": 108,
    "start_time": "2025-02-07T06:23:40.655Z"
   },
   {
    "duration": 29,
    "start_time": "2025-02-07T06:23:40.765Z"
   },
   {
    "duration": 17,
    "start_time": "2025-02-07T06:23:40.796Z"
   },
   {
    "duration": 31,
    "start_time": "2025-02-07T06:23:40.815Z"
   },
   {
    "duration": 26,
    "start_time": "2025-02-07T06:23:40.848Z"
   },
   {
    "duration": 5,
    "start_time": "2025-02-07T07:11:37.338Z"
   },
   {
    "duration": 1337,
    "start_time": "2025-02-07T07:11:47.079Z"
   },
   {
    "duration": 2777,
    "start_time": "2025-02-07T07:11:48.418Z"
   },
   {
    "duration": 41,
    "start_time": "2025-02-07T07:11:51.197Z"
   },
   {
    "duration": 5,
    "start_time": "2025-02-07T07:11:51.240Z"
   },
   {
    "duration": 55,
    "start_time": "2025-02-07T07:11:51.246Z"
   },
   {
    "duration": 12,
    "start_time": "2025-02-07T07:11:51.303Z"
   },
   {
    "duration": 123,
    "start_time": "2025-02-07T07:11:51.332Z"
   },
   {
    "duration": 9,
    "start_time": "2025-02-07T07:11:51.457Z"
   },
   {
    "duration": 44,
    "start_time": "2025-02-07T07:11:51.467Z"
   },
   {
    "duration": 30,
    "start_time": "2025-02-07T07:11:51.514Z"
   },
   {
    "duration": 44,
    "start_time": "2025-02-07T07:11:51.546Z"
   },
   {
    "duration": 11,
    "start_time": "2025-02-07T07:11:51.592Z"
   },
   {
    "duration": 34,
    "start_time": "2025-02-07T07:11:51.605Z"
   },
   {
    "duration": 42,
    "start_time": "2025-02-07T07:11:51.641Z"
   },
   {
    "duration": 38,
    "start_time": "2025-02-07T07:11:51.685Z"
   },
   {
    "duration": 21,
    "start_time": "2025-02-07T07:11:51.725Z"
   },
   {
    "duration": 22,
    "start_time": "2025-02-07T07:11:51.747Z"
   },
   {
    "duration": 24,
    "start_time": "2025-02-07T07:11:51.771Z"
   },
   {
    "duration": 61,
    "start_time": "2025-02-07T07:11:51.797Z"
   },
   {
    "duration": 264,
    "start_time": "2025-02-07T07:11:51.860Z"
   },
   {
    "duration": 41,
    "start_time": "2025-02-07T07:11:52.126Z"
   },
   {
    "duration": 41,
    "start_time": "2025-02-07T07:11:52.169Z"
   },
   {
    "duration": 36,
    "start_time": "2025-02-07T07:11:52.212Z"
   },
   {
    "duration": 35,
    "start_time": "2025-02-07T07:11:52.250Z"
   },
   {
    "duration": 18,
    "start_time": "2025-02-07T07:11:52.286Z"
   },
   {
    "duration": 693,
    "start_time": "2025-02-07T07:11:52.305Z"
   },
   {
    "duration": 16,
    "start_time": "2025-02-07T07:11:53.000Z"
   },
   {
    "duration": 225,
    "start_time": "2025-02-07T07:11:53.020Z"
   },
   {
    "duration": 64,
    "start_time": "2025-02-07T07:11:53.247Z"
   },
   {
    "duration": 60,
    "start_time": "2025-02-07T07:11:53.313Z"
   },
   {
    "duration": 25,
    "start_time": "2025-02-07T07:11:53.375Z"
   },
   {
    "duration": 42,
    "start_time": "2025-02-07T07:11:53.401Z"
   },
   {
    "duration": 134,
    "start_time": "2025-02-07T07:11:53.445Z"
   },
   {
    "duration": 13,
    "start_time": "2025-02-07T07:11:53.581Z"
   },
   {
    "duration": 18,
    "start_time": "2025-02-07T07:11:53.596Z"
   },
   {
    "duration": 60,
    "start_time": "2025-02-07T07:11:53.615Z"
   },
   {
    "duration": 28,
    "start_time": "2025-02-07T07:11:53.677Z"
   },
   {
    "duration": 38,
    "start_time": "2025-02-07T07:11:53.706Z"
   },
   {
    "duration": 12,
    "start_time": "2025-02-07T07:11:53.746Z"
   },
   {
    "duration": 26,
    "start_time": "2025-02-07T07:11:53.760Z"
   },
   {
    "duration": 185,
    "start_time": "2025-02-07T07:11:53.788Z"
   },
   {
    "duration": 135,
    "start_time": "2025-02-07T07:11:53.975Z"
   },
   {
    "duration": 40,
    "start_time": "2025-02-07T07:11:54.112Z"
   },
   {
    "duration": 93,
    "start_time": "2025-02-07T07:11:54.154Z"
   },
   {
    "duration": 93,
    "start_time": "2025-02-07T07:11:54.249Z"
   },
   {
    "duration": 12,
    "start_time": "2025-02-07T07:11:54.344Z"
   },
   {
    "duration": 180,
    "start_time": "2025-02-07T07:11:54.358Z"
   },
   {
    "duration": 76,
    "start_time": "2025-02-07T07:11:54.540Z"
   },
   {
    "duration": 27,
    "start_time": "2025-02-07T07:11:54.618Z"
   },
   {
    "duration": 12,
    "start_time": "2025-02-07T07:11:54.647Z"
   },
   {
    "duration": 26,
    "start_time": "2025-02-07T07:11:54.661Z"
   },
   {
    "duration": 208,
    "start_time": "2025-02-07T07:11:54.689Z"
   },
   {
    "duration": 24,
    "start_time": "2025-02-07T07:11:54.899Z"
   },
   {
    "duration": 32,
    "start_time": "2025-02-07T07:11:54.933Z"
   },
   {
    "duration": 31,
    "start_time": "2025-02-07T07:11:54.967Z"
   },
   {
    "duration": 37,
    "start_time": "2025-02-07T07:11:54.999Z"
   },
   {
    "duration": 17,
    "start_time": "2025-02-07T07:11:55.038Z"
   },
   {
    "duration": 28,
    "start_time": "2025-02-07T07:11:55.057Z"
   },
   {
    "duration": 25,
    "start_time": "2025-02-07T07:11:55.087Z"
   },
   {
    "duration": 314,
    "start_time": "2025-02-07T07:11:55.114Z"
   },
   {
    "duration": 3,
    "start_time": "2025-02-07T07:11:55.433Z"
   },
   {
    "duration": 66,
    "start_time": "2025-02-07T07:11:55.437Z"
   },
   {
    "duration": 30,
    "start_time": "2025-02-07T07:11:55.505Z"
   },
   {
    "duration": 10,
    "start_time": "2025-02-07T07:11:55.537Z"
   },
   {
    "duration": 27,
    "start_time": "2025-02-07T07:11:55.548Z"
   },
   {
    "duration": 121,
    "start_time": "2025-02-07T07:11:55.577Z"
   },
   {
    "duration": 35,
    "start_time": "2025-02-07T07:11:55.700Z"
   },
   {
    "duration": 20,
    "start_time": "2025-02-07T07:11:55.737Z"
   },
   {
    "duration": 21,
    "start_time": "2025-02-07T07:11:55.758Z"
   },
   {
    "duration": 40,
    "start_time": "2025-02-07T07:11:55.780Z"
   },
   {
    "duration": 119,
    "start_time": "2025-02-07T07:18:02.067Z"
   },
   {
    "duration": 2346,
    "start_time": "2025-02-07T07:38:19.134Z"
   },
   {
    "duration": 3047,
    "start_time": "2025-02-07T07:39:32.473Z"
   },
   {
    "duration": 77,
    "start_time": "2025-02-07T07:56:01.482Z"
   },
   {
    "duration": 1456,
    "start_time": "2025-02-07T08:01:38.548Z"
   },
   {
    "duration": 2330,
    "start_time": "2025-02-07T08:01:40.006Z"
   },
   {
    "duration": 47,
    "start_time": "2025-02-07T08:01:42.353Z"
   },
   {
    "duration": 5,
    "start_time": "2025-02-07T08:01:42.402Z"
   },
   {
    "duration": 66,
    "start_time": "2025-02-07T08:01:42.410Z"
   },
   {
    "duration": 12,
    "start_time": "2025-02-07T08:01:42.478Z"
   },
   {
    "duration": 144,
    "start_time": "2025-02-07T08:01:42.492Z"
   },
   {
    "duration": 17,
    "start_time": "2025-02-07T08:01:42.638Z"
   },
   {
    "duration": 39,
    "start_time": "2025-02-07T08:01:42.658Z"
   },
   {
    "duration": 11,
    "start_time": "2025-02-07T08:01:42.699Z"
   },
   {
    "duration": 58,
    "start_time": "2025-02-07T08:01:42.712Z"
   },
   {
    "duration": 9,
    "start_time": "2025-02-07T08:01:42.772Z"
   },
   {
    "duration": 23,
    "start_time": "2025-02-07T08:01:42.783Z"
   },
   {
    "duration": 35,
    "start_time": "2025-02-07T08:01:42.832Z"
   },
   {
    "duration": 33,
    "start_time": "2025-02-07T08:01:42.868Z"
   },
   {
    "duration": 8,
    "start_time": "2025-02-07T08:01:42.903Z"
   },
   {
    "duration": 11,
    "start_time": "2025-02-07T08:01:42.913Z"
   },
   {
    "duration": 24,
    "start_time": "2025-02-07T08:01:42.926Z"
   },
   {
    "duration": 50,
    "start_time": "2025-02-07T08:01:42.952Z"
   },
   {
    "duration": 3391,
    "start_time": "2025-02-07T08:01:43.004Z"
   },
   {
    "duration": 280,
    "start_time": "2025-02-07T08:01:46.397Z"
   },
   {
    "duration": 36,
    "start_time": "2025-02-07T08:01:46.678Z"
   },
   {
    "duration": 54,
    "start_time": "2025-02-07T08:01:46.716Z"
   },
   {
    "duration": 20,
    "start_time": "2025-02-07T08:01:46.772Z"
   },
   {
    "duration": 53,
    "start_time": "2025-02-07T08:01:46.794Z"
   },
   {
    "duration": 26,
    "start_time": "2025-02-07T08:01:46.850Z"
   },
   {
    "duration": 629,
    "start_time": "2025-02-07T08:01:46.878Z"
   },
   {
    "duration": 47,
    "start_time": "2025-02-07T08:01:47.509Z"
   },
   {
    "duration": 258,
    "start_time": "2025-02-07T08:01:47.562Z"
   },
   {
    "duration": 84,
    "start_time": "2025-02-07T08:01:47.822Z"
   },
   {
    "duration": 77,
    "start_time": "2025-02-07T08:01:47.907Z"
   },
   {
    "duration": 25,
    "start_time": "2025-02-07T08:01:47.986Z"
   },
   {
    "duration": 45,
    "start_time": "2025-02-07T08:01:48.012Z"
   },
   {
    "duration": 147,
    "start_time": "2025-02-07T08:01:48.061Z"
   },
   {
    "duration": 35,
    "start_time": "2025-02-07T08:01:48.210Z"
   },
   {
    "duration": 46,
    "start_time": "2025-02-07T08:01:48.255Z"
   },
   {
    "duration": 60,
    "start_time": "2025-02-07T08:01:48.303Z"
   },
   {
    "duration": 29,
    "start_time": "2025-02-07T08:01:48.365Z"
   },
   {
    "duration": 14,
    "start_time": "2025-02-07T08:01:48.396Z"
   },
   {
    "duration": 47,
    "start_time": "2025-02-07T08:01:48.412Z"
   },
   {
    "duration": 21,
    "start_time": "2025-02-07T08:01:48.464Z"
   },
   {
    "duration": 192,
    "start_time": "2025-02-07T08:01:48.487Z"
   },
   {
    "duration": 137,
    "start_time": "2025-02-07T08:01:48.681Z"
   },
   {
    "duration": 61,
    "start_time": "2025-02-07T08:01:48.820Z"
   },
   {
    "duration": 101,
    "start_time": "2025-02-07T08:01:48.883Z"
   },
   {
    "duration": 112,
    "start_time": "2025-02-07T08:01:48.986Z"
   },
   {
    "duration": 12,
    "start_time": "2025-02-07T08:01:49.099Z"
   },
   {
    "duration": 247,
    "start_time": "2025-02-07T08:01:49.113Z"
   },
   {
    "duration": 87,
    "start_time": "2025-02-07T08:01:49.362Z"
   },
   {
    "duration": 20,
    "start_time": "2025-02-07T08:01:49.451Z"
   },
   {
    "duration": 17,
    "start_time": "2025-02-07T08:01:49.473Z"
   },
   {
    "duration": 22,
    "start_time": "2025-02-07T08:01:49.491Z"
   },
   {
    "duration": 248,
    "start_time": "2025-02-07T08:01:49.515Z"
   },
   {
    "duration": 24,
    "start_time": "2025-02-07T08:01:49.765Z"
   },
   {
    "duration": 52,
    "start_time": "2025-02-07T08:01:49.791Z"
   },
   {
    "duration": 43,
    "start_time": "2025-02-07T08:01:49.845Z"
   },
   {
    "duration": 30,
    "start_time": "2025-02-07T08:01:49.889Z"
   },
   {
    "duration": 17,
    "start_time": "2025-02-07T08:01:49.921Z"
   },
   {
    "duration": 27,
    "start_time": "2025-02-07T08:01:49.957Z"
   },
   {
    "duration": 29,
    "start_time": "2025-02-07T08:01:49.986Z"
   },
   {
    "duration": 371,
    "start_time": "2025-02-07T08:01:50.017Z"
   },
   {
    "duration": 2,
    "start_time": "2025-02-07T08:01:50.391Z"
   },
   {
    "duration": 171,
    "start_time": "2025-02-07T08:01:50.395Z"
   },
   {
    "duration": 17,
    "start_time": "2025-02-07T08:01:50.568Z"
   },
   {
    "duration": 10,
    "start_time": "2025-02-07T08:01:50.587Z"
   },
   {
    "duration": 44,
    "start_time": "2025-02-07T08:01:50.599Z"
   },
   {
    "duration": 103,
    "start_time": "2025-02-07T08:01:50.659Z"
   },
   {
    "duration": 30,
    "start_time": "2025-02-07T08:01:50.764Z"
   },
   {
    "duration": 17,
    "start_time": "2025-02-07T08:01:50.796Z"
   },
   {
    "duration": 40,
    "start_time": "2025-02-07T08:01:50.815Z"
   },
   {
    "duration": 37,
    "start_time": "2025-02-07T08:01:50.859Z"
   },
   {
    "duration": 46,
    "start_time": "2025-02-07T08:05:48.736Z"
   },
   {
    "duration": 1368,
    "start_time": "2025-02-07T08:21:58.641Z"
   },
   {
    "duration": 2763,
    "start_time": "2025-02-07T08:22:00.010Z"
   },
   {
    "duration": 42,
    "start_time": "2025-02-07T08:22:02.775Z"
   },
   {
    "duration": 4,
    "start_time": "2025-02-07T08:22:02.819Z"
   },
   {
    "duration": 71,
    "start_time": "2025-02-07T08:22:02.833Z"
   },
   {
    "duration": 3415,
    "start_time": "2025-02-07T08:22:02.906Z"
   },
   {
    "duration": 254,
    "start_time": "2025-02-07T08:22:06.323Z"
   },
   {
    "duration": 36,
    "start_time": "2025-02-07T08:22:06.579Z"
   },
   {
    "duration": 42,
    "start_time": "2025-02-07T08:22:06.617Z"
   },
   {
    "duration": 16,
    "start_time": "2025-02-07T08:22:06.662Z"
   },
   {
    "duration": 57,
    "start_time": "2025-02-07T08:22:06.680Z"
   },
   {
    "duration": 25,
    "start_time": "2025-02-07T08:22:06.740Z"
   },
   {
    "duration": 597,
    "start_time": "2025-02-07T08:22:06.767Z"
   },
   {
    "duration": 16,
    "start_time": "2025-02-07T08:22:07.366Z"
   },
   {
    "duration": 239,
    "start_time": "2025-02-07T08:22:07.384Z"
   },
   {
    "duration": 73,
    "start_time": "2025-02-07T08:22:07.633Z"
   },
   {
    "duration": 69,
    "start_time": "2025-02-07T08:22:07.708Z"
   },
   {
    "duration": 33,
    "start_time": "2025-02-07T08:22:07.779Z"
   },
   {
    "duration": 43,
    "start_time": "2025-02-07T08:22:07.814Z"
   },
   {
    "duration": 160,
    "start_time": "2025-02-07T08:22:07.859Z"
   },
   {
    "duration": 21,
    "start_time": "2025-02-07T08:22:08.021Z"
   },
   {
    "duration": 19,
    "start_time": "2025-02-07T08:22:08.044Z"
   },
   {
    "duration": 64,
    "start_time": "2025-02-07T08:22:08.065Z"
   },
   {
    "duration": 30,
    "start_time": "2025-02-07T08:22:08.130Z"
   },
   {
    "duration": 13,
    "start_time": "2025-02-07T08:22:08.162Z"
   },
   {
    "duration": 11,
    "start_time": "2025-02-07T08:22:08.177Z"
   },
   {
    "duration": 53,
    "start_time": "2025-02-07T08:22:08.190Z"
   },
   {
    "duration": 186,
    "start_time": "2025-02-07T08:22:08.251Z"
   },
   {
    "duration": 127,
    "start_time": "2025-02-07T08:22:08.439Z"
   },
   {
    "duration": 36,
    "start_time": "2025-02-07T08:22:08.568Z"
   },
   {
    "duration": 107,
    "start_time": "2025-02-07T08:22:08.606Z"
   },
   {
    "duration": 112,
    "start_time": "2025-02-07T08:22:08.715Z"
   },
   {
    "duration": 17,
    "start_time": "2025-02-07T08:22:08.828Z"
   },
   {
    "duration": 189,
    "start_time": "2025-02-07T08:22:08.847Z"
   },
   {
    "duration": 99,
    "start_time": "2025-02-07T08:22:09.038Z"
   },
   {
    "duration": 26,
    "start_time": "2025-02-07T08:22:09.139Z"
   },
   {
    "duration": 44,
    "start_time": "2025-02-07T08:22:09.167Z"
   },
   {
    "duration": 41,
    "start_time": "2025-02-07T08:22:09.213Z"
   },
   {
    "duration": 196,
    "start_time": "2025-02-07T08:22:09.257Z"
   },
   {
    "duration": 24,
    "start_time": "2025-02-07T08:22:09.456Z"
   },
   {
    "duration": 62,
    "start_time": "2025-02-07T08:22:09.482Z"
   },
   {
    "duration": 31,
    "start_time": "2025-02-07T08:22:09.547Z"
   },
   {
    "duration": 26,
    "start_time": "2025-02-07T08:22:09.580Z"
   },
   {
    "duration": 6,
    "start_time": "2025-02-07T08:22:09.608Z"
   },
   {
    "duration": 31,
    "start_time": "2025-02-07T08:22:09.632Z"
   },
   {
    "duration": 33,
    "start_time": "2025-02-07T08:22:09.664Z"
   },
   {
    "duration": 324,
    "start_time": "2025-02-07T08:22:09.699Z"
   },
   {
    "duration": 3,
    "start_time": "2025-02-07T08:22:10.024Z"
   },
   {
    "duration": 82,
    "start_time": "2025-02-07T08:22:10.033Z"
   },
   {
    "duration": 18,
    "start_time": "2025-02-07T08:22:10.117Z"
   },
   {
    "duration": 28,
    "start_time": "2025-02-07T08:22:10.137Z"
   },
   {
    "duration": 48,
    "start_time": "2025-02-07T08:22:10.167Z"
   },
   {
    "duration": 106,
    "start_time": "2025-02-07T08:22:10.217Z"
   },
   {
    "duration": 30,
    "start_time": "2025-02-07T08:22:10.325Z"
   },
   {
    "duration": 17,
    "start_time": "2025-02-07T08:22:10.357Z"
   },
   {
    "duration": 11,
    "start_time": "2025-02-07T08:22:10.376Z"
   },
   {
    "duration": 14,
    "start_time": "2025-02-07T08:22:10.389Z"
   },
   {
    "duration": 188,
    "start_time": "2025-02-07T08:26:06.733Z"
   },
   {
    "duration": 86,
    "start_time": "2025-02-07T08:26:13.205Z"
   },
   {
    "duration": 84,
    "start_time": "2025-02-07T08:27:22.968Z"
   },
   {
    "duration": 87,
    "start_time": "2025-02-07T08:27:54.664Z"
   },
   {
    "duration": 16,
    "start_time": "2025-02-07T08:28:15.207Z"
   },
   {
    "duration": 19,
    "start_time": "2025-02-07T08:28:20.338Z"
   },
   {
    "duration": 45,
    "start_time": "2025-02-07T08:28:28.782Z"
   },
   {
    "duration": 23,
    "start_time": "2025-02-07T08:28:34.679Z"
   },
   {
    "duration": 17,
    "start_time": "2025-02-07T08:28:39.621Z"
   },
   {
    "duration": 13,
    "start_time": "2025-02-07T08:28:44.684Z"
   },
   {
    "duration": 13,
    "start_time": "2025-02-07T08:37:29.324Z"
   },
   {
    "duration": 3,
    "start_time": "2025-02-07T09:02:29.338Z"
   },
   {
    "duration": 2,
    "start_time": "2025-02-07T09:02:52.979Z"
   },
   {
    "duration": 18,
    "start_time": "2025-02-07T09:03:53.424Z"
   },
   {
    "duration": 15,
    "start_time": "2025-02-07T09:04:02.739Z"
   },
   {
    "duration": 8,
    "start_time": "2025-02-07T09:05:58.104Z"
   },
   {
    "duration": 91,
    "start_time": "2025-02-07T09:08:16.675Z"
   },
   {
    "duration": 1498,
    "start_time": "2025-02-07T09:09:38.932Z"
   },
   {
    "duration": 1366,
    "start_time": "2025-02-07T09:09:51.344Z"
   },
   {
    "duration": 1690,
    "start_time": "2025-02-07T09:10:05.821Z"
   },
   {
    "duration": 1607,
    "start_time": "2025-02-07T09:12:30.593Z"
   },
   {
    "duration": 2320,
    "start_time": "2025-02-07T09:12:37.094Z"
   },
   {
    "duration": 20,
    "start_time": "2025-02-07T09:13:08.756Z"
   },
   {
    "duration": 22,
    "start_time": "2025-02-07T09:13:25.587Z"
   },
   {
    "duration": 15,
    "start_time": "2025-02-07T09:14:02.794Z"
   },
   {
    "duration": 15,
    "start_time": "2025-02-07T09:14:43.002Z"
   },
   {
    "duration": 108,
    "start_time": "2025-02-07T09:19:33.426Z"
   },
   {
    "duration": 15,
    "start_time": "2025-02-07T09:19:50.691Z"
   },
   {
    "duration": 1359,
    "start_time": "2025-02-07T09:20:18.451Z"
   },
   {
    "duration": 2695,
    "start_time": "2025-02-07T09:20:19.812Z"
   },
   {
    "duration": 64,
    "start_time": "2025-02-07T09:20:22.509Z"
   },
   {
    "duration": 19,
    "start_time": "2025-02-07T09:20:22.576Z"
   },
   {
    "duration": 60,
    "start_time": "2025-02-07T09:20:22.597Z"
   },
   {
    "duration": 3303,
    "start_time": "2025-02-07T09:20:22.659Z"
   },
   {
    "duration": 275,
    "start_time": "2025-02-07T09:20:25.964Z"
   },
   {
    "duration": 36,
    "start_time": "2025-02-07T09:20:26.241Z"
   },
   {
    "duration": 31,
    "start_time": "2025-02-07T09:20:26.279Z"
   },
   {
    "duration": 25,
    "start_time": "2025-02-07T09:20:26.335Z"
   },
   {
    "duration": 37,
    "start_time": "2025-02-07T09:20:26.361Z"
   },
   {
    "duration": 39,
    "start_time": "2025-02-07T09:20:26.400Z"
   },
   {
    "duration": 628,
    "start_time": "2025-02-07T09:20:26.441Z"
   },
   {
    "duration": 17,
    "start_time": "2025-02-07T09:20:27.071Z"
   },
   {
    "duration": 223,
    "start_time": "2025-02-07T09:20:27.090Z"
   },
   {
    "duration": 76,
    "start_time": "2025-02-07T09:20:27.315Z"
   },
   {
    "duration": 52,
    "start_time": "2025-02-07T09:20:27.393Z"
   },
   {
    "duration": 60,
    "start_time": "2025-02-07T09:20:27.447Z"
   },
   {
    "duration": 24,
    "start_time": "2025-02-07T09:20:27.509Z"
   },
   {
    "duration": 179,
    "start_time": "2025-02-07T09:20:27.535Z"
   },
   {
    "duration": 28,
    "start_time": "2025-02-07T09:20:27.716Z"
   },
   {
    "duration": 29,
    "start_time": "2025-02-07T09:20:27.746Z"
   },
   {
    "duration": 74,
    "start_time": "2025-02-07T09:20:27.778Z"
   },
   {
    "duration": 40,
    "start_time": "2025-02-07T09:20:27.854Z"
   },
   {
    "duration": 15,
    "start_time": "2025-02-07T09:20:27.896Z"
   },
   {
    "duration": 30,
    "start_time": "2025-02-07T09:20:27.913Z"
   },
   {
    "duration": 22,
    "start_time": "2025-02-07T09:20:27.944Z"
   },
   {
    "duration": 186,
    "start_time": "2025-02-07T09:20:27.970Z"
   },
   {
    "duration": 137,
    "start_time": "2025-02-07T09:20:28.157Z"
   },
   {
    "duration": 46,
    "start_time": "2025-02-07T09:20:28.296Z"
   },
   {
    "duration": 89,
    "start_time": "2025-02-07T09:20:28.344Z"
   },
   {
    "duration": 89,
    "start_time": "2025-02-07T09:20:28.434Z"
   },
   {
    "duration": 12,
    "start_time": "2025-02-07T09:20:28.533Z"
   },
   {
    "duration": 233,
    "start_time": "2025-02-07T09:20:28.546Z"
   },
   {
    "duration": 91,
    "start_time": "2025-02-07T09:20:28.780Z"
   },
   {
    "duration": 16,
    "start_time": "2025-02-07T09:20:28.873Z"
   },
   {
    "duration": 16,
    "start_time": "2025-02-07T09:20:28.890Z"
   },
   {
    "duration": 35,
    "start_time": "2025-02-07T09:20:28.908Z"
   },
   {
    "duration": 194,
    "start_time": "2025-02-07T09:20:28.945Z"
   },
   {
    "duration": 25,
    "start_time": "2025-02-07T09:20:29.142Z"
   },
   {
    "duration": 36,
    "start_time": "2025-02-07T09:20:29.170Z"
   },
   {
    "duration": 51,
    "start_time": "2025-02-07T09:20:29.208Z"
   },
   {
    "duration": 29,
    "start_time": "2025-02-07T09:20:29.260Z"
   },
   {
    "duration": 22,
    "start_time": "2025-02-07T09:20:29.291Z"
   },
   {
    "duration": 43,
    "start_time": "2025-02-07T09:20:29.316Z"
   },
   {
    "duration": 35,
    "start_time": "2025-02-07T09:20:29.360Z"
   },
   {
    "duration": 391,
    "start_time": "2025-02-07T09:20:29.397Z"
   },
   {
    "duration": 15,
    "start_time": "2025-02-07T09:20:29.790Z"
   },
   {
    "duration": 114,
    "start_time": "2025-02-07T09:20:29.807Z"
   },
   {
    "duration": 20,
    "start_time": "2025-02-07T09:20:29.923Z"
   },
   {
    "duration": 19,
    "start_time": "2025-02-07T09:20:29.945Z"
   },
   {
    "duration": 74,
    "start_time": "2025-02-07T09:20:29.965Z"
   },
   {
    "duration": 17,
    "start_time": "2025-02-07T09:20:30.041Z"
   },
   {
    "duration": 53,
    "start_time": "2025-02-07T09:20:30.060Z"
   },
   {
    "duration": 72,
    "start_time": "2025-02-07T09:20:30.115Z"
   },
   {
    "duration": 99,
    "start_time": "2025-02-07T09:20:30.189Z"
   },
   {
    "duration": 44,
    "start_time": "2025-02-07T09:20:30.290Z"
   },
   {
    "duration": 29,
    "start_time": "2025-02-07T09:20:30.336Z"
   },
   {
    "duration": 67,
    "start_time": "2025-02-07T09:20:30.367Z"
   },
   {
    "duration": 65,
    "start_time": "2025-02-07T09:20:30.436Z"
   },
   {
    "duration": 112,
    "start_time": "2025-02-07T09:23:10.010Z"
   },
   {
    "duration": 6,
    "start_time": "2025-02-07T09:23:21.485Z"
   },
   {
    "duration": 24,
    "start_time": "2025-02-07T09:25:10.848Z"
   },
   {
    "duration": 10,
    "start_time": "2025-02-07T09:25:12.828Z"
   },
   {
    "duration": 7,
    "start_time": "2025-02-07T09:25:27.365Z"
   },
   {
    "duration": 5,
    "start_time": "2025-02-07T09:25:37.750Z"
   },
   {
    "duration": 64,
    "start_time": "2025-02-07T09:25:38.659Z"
   },
   {
    "duration": 32,
    "start_time": "2025-02-07T09:28:25.853Z"
   },
   {
    "duration": 27,
    "start_time": "2025-02-07T09:29:06.017Z"
   },
   {
    "duration": 36,
    "start_time": "2025-02-07T09:30:13.819Z"
   },
   {
    "duration": 4,
    "start_time": "2025-02-07T09:30:22.273Z"
   },
   {
    "duration": 71,
    "start_time": "2025-02-07T09:30:22.933Z"
   },
   {
    "duration": 16,
    "start_time": "2025-02-07T09:30:23.698Z"
   },
   {
    "duration": 70,
    "start_time": "2025-02-07T09:30:34.789Z"
   },
   {
    "duration": 70,
    "start_time": "2025-02-07T09:31:49.208Z"
   },
   {
    "duration": 17,
    "start_time": "2025-02-07T09:32:16.097Z"
   },
   {
    "duration": 3,
    "start_time": "2025-02-07T09:35:45.274Z"
   },
   {
    "duration": 25,
    "start_time": "2025-02-07T09:36:19.692Z"
   },
   {
    "duration": 4,
    "start_time": "2025-02-07T09:36:20.728Z"
   },
   {
    "duration": 70,
    "start_time": "2025-02-07T09:36:21.470Z"
   },
   {
    "duration": 47,
    "start_time": "2025-02-07T09:36:22.543Z"
   },
   {
    "duration": 33,
    "start_time": "2025-02-07T09:40:26.689Z"
   },
   {
    "duration": 26,
    "start_time": "2025-02-07T09:42:07.473Z"
   },
   {
    "duration": 24,
    "start_time": "2025-02-07T09:42:55.556Z"
   },
   {
    "duration": 10,
    "start_time": "2025-02-07T09:47:19.094Z"
   },
   {
    "duration": 13,
    "start_time": "2025-02-07T09:47:19.784Z"
   },
   {
    "duration": 6,
    "start_time": "2025-02-07T09:47:20.346Z"
   },
   {
    "duration": 4,
    "start_time": "2025-02-07T09:47:24.546Z"
   },
   {
    "duration": 26,
    "start_time": "2025-02-07T09:47:27.793Z"
   },
   {
    "duration": 10,
    "start_time": "2025-02-07T09:47:28.919Z"
   },
   {
    "duration": 13,
    "start_time": "2025-02-07T09:47:30.157Z"
   },
   {
    "duration": 18,
    "start_time": "2025-02-07T09:47:35.850Z"
   },
   {
    "duration": 10,
    "start_time": "2025-02-07T09:54:45.380Z"
   },
   {
    "duration": 13,
    "start_time": "2025-02-07T09:55:28.957Z"
   },
   {
    "duration": 1295,
    "start_time": "2025-02-07T09:56:51.841Z"
   },
   {
    "duration": 2278,
    "start_time": "2025-02-07T09:56:53.138Z"
   },
   {
    "duration": 51,
    "start_time": "2025-02-07T09:56:55.418Z"
   },
   {
    "duration": 5,
    "start_time": "2025-02-07T09:56:55.472Z"
   },
   {
    "duration": 76,
    "start_time": "2025-02-07T09:56:55.479Z"
   },
   {
    "duration": 3068,
    "start_time": "2025-02-07T09:56:55.557Z"
   },
   {
    "duration": 253,
    "start_time": "2025-02-07T09:56:58.627Z"
   },
   {
    "duration": 37,
    "start_time": "2025-02-07T09:56:58.882Z"
   },
   {
    "duration": 68,
    "start_time": "2025-02-07T09:56:58.933Z"
   },
   {
    "duration": 31,
    "start_time": "2025-02-07T09:56:59.005Z"
   },
   {
    "duration": 37,
    "start_time": "2025-02-07T09:56:59.038Z"
   },
   {
    "duration": 19,
    "start_time": "2025-02-07T09:56:59.078Z"
   },
   {
    "duration": 635,
    "start_time": "2025-02-07T09:56:59.099Z"
   },
   {
    "duration": 17,
    "start_time": "2025-02-07T09:56:59.736Z"
   },
   {
    "duration": 211,
    "start_time": "2025-02-07T09:56:59.755Z"
   },
   {
    "duration": 70,
    "start_time": "2025-02-07T09:56:59.968Z"
   },
   {
    "duration": 48,
    "start_time": "2025-02-07T09:57:00.040Z"
   },
   {
    "duration": 61,
    "start_time": "2025-02-07T09:57:00.090Z"
   },
   {
    "duration": 34,
    "start_time": "2025-02-07T09:57:00.153Z"
   },
   {
    "duration": 144,
    "start_time": "2025-02-07T09:57:00.189Z"
   },
   {
    "duration": 14,
    "start_time": "2025-02-07T09:57:00.335Z"
   },
   {
    "duration": 51,
    "start_time": "2025-02-07T09:57:00.351Z"
   },
   {
    "duration": 56,
    "start_time": "2025-02-07T09:57:00.404Z"
   },
   {
    "duration": 28,
    "start_time": "2025-02-07T09:57:00.462Z"
   },
   {
    "duration": 42,
    "start_time": "2025-02-07T09:57:00.492Z"
   },
   {
    "duration": 13,
    "start_time": "2025-02-07T09:57:00.536Z"
   },
   {
    "duration": 36,
    "start_time": "2025-02-07T09:57:00.551Z"
   },
   {
    "duration": 169,
    "start_time": "2025-02-07T09:57:00.592Z"
   },
   {
    "duration": 134,
    "start_time": "2025-02-07T09:57:00.763Z"
   },
   {
    "duration": 49,
    "start_time": "2025-02-07T09:57:00.899Z"
   },
   {
    "duration": 110,
    "start_time": "2025-02-07T09:57:00.950Z"
   },
   {
    "duration": 98,
    "start_time": "2025-02-07T09:57:01.062Z"
   },
   {
    "duration": 12,
    "start_time": "2025-02-07T09:57:01.162Z"
   },
   {
    "duration": 173,
    "start_time": "2025-02-07T09:57:01.176Z"
   },
   {
    "duration": 99,
    "start_time": "2025-02-07T09:57:01.351Z"
   },
   {
    "duration": 16,
    "start_time": "2025-02-07T09:57:01.451Z"
   },
   {
    "duration": 94,
    "start_time": "2025-02-07T09:57:01.469Z"
   },
   {
    "duration": 101,
    "start_time": "2025-02-07T09:57:01.565Z"
   },
   {
    "duration": 225,
    "start_time": "2025-02-07T09:57:01.668Z"
   },
   {
    "duration": 24,
    "start_time": "2025-02-07T09:57:01.895Z"
   },
   {
    "duration": 62,
    "start_time": "2025-02-07T09:57:01.921Z"
   },
   {
    "duration": 70,
    "start_time": "2025-02-07T09:57:01.985Z"
   },
   {
    "duration": 67,
    "start_time": "2025-02-07T09:57:02.056Z"
   },
   {
    "duration": 49,
    "start_time": "2025-02-07T09:57:02.125Z"
   },
   {
    "duration": 58,
    "start_time": "2025-02-07T09:57:02.176Z"
   },
   {
    "duration": 48,
    "start_time": "2025-02-07T09:57:02.235Z"
   },
   {
    "duration": 347,
    "start_time": "2025-02-07T09:57:02.285Z"
   },
   {
    "duration": 13,
    "start_time": "2025-02-07T09:57:02.634Z"
   },
   {
    "duration": 119,
    "start_time": "2025-02-07T09:57:02.649Z"
   },
   {
    "duration": 36,
    "start_time": "2025-02-07T09:57:02.769Z"
   },
   {
    "duration": 6,
    "start_time": "2025-02-07T09:57:02.807Z"
   },
   {
    "duration": 87,
    "start_time": "2025-02-07T09:57:02.815Z"
   },
   {
    "duration": 39,
    "start_time": "2025-02-07T09:57:02.904Z"
   },
   {
    "duration": 50,
    "start_time": "2025-02-07T09:57:02.945Z"
   },
   {
    "duration": 31,
    "start_time": "2025-02-07T09:57:02.997Z"
   },
   {
    "duration": 68,
    "start_time": "2025-02-07T09:57:03.030Z"
   },
   {
    "duration": 103,
    "start_time": "2025-02-07T09:57:03.099Z"
   },
   {
    "duration": 21,
    "start_time": "2025-02-07T09:57:03.204Z"
   },
   {
    "duration": 127,
    "start_time": "2025-02-07T09:57:03.233Z"
   },
   {
    "duration": 0,
    "start_time": "2025-02-07T09:57:03.362Z"
   },
   {
    "duration": 0,
    "start_time": "2025-02-07T09:57:03.363Z"
   },
   {
    "duration": 0,
    "start_time": "2025-02-07T09:57:03.364Z"
   },
   {
    "duration": 23,
    "start_time": "2025-02-07T09:58:01.517Z"
   },
   {
    "duration": 14,
    "start_time": "2025-02-07T10:00:29.050Z"
   },
   {
    "duration": 8,
    "start_time": "2025-02-07T10:00:48.476Z"
   },
   {
    "duration": 9,
    "start_time": "2025-02-07T10:01:28.678Z"
   },
   {
    "duration": 5,
    "start_time": "2025-02-07T10:01:29.246Z"
   },
   {
    "duration": 11,
    "start_time": "2025-02-07T10:01:29.698Z"
   },
   {
    "duration": 4,
    "start_time": "2025-02-07T10:01:32.073Z"
   },
   {
    "duration": 8,
    "start_time": "2025-02-07T10:01:33.311Z"
   },
   {
    "duration": 10,
    "start_time": "2025-02-07T10:01:36.248Z"
   },
   {
    "duration": 21,
    "start_time": "2025-02-07T10:01:37.722Z"
   },
   {
    "duration": 15,
    "start_time": "2025-02-07T10:03:58.024Z"
   },
   {
    "duration": 15,
    "start_time": "2025-02-07T10:04:23.503Z"
   },
   {
    "duration": 17,
    "start_time": "2025-02-07T10:06:22.020Z"
   },
   {
    "duration": 1319,
    "start_time": "2025-02-07T10:06:33.109Z"
   },
   {
    "duration": 2551,
    "start_time": "2025-02-07T10:06:34.430Z"
   },
   {
    "duration": 51,
    "start_time": "2025-02-07T10:06:36.983Z"
   },
   {
    "duration": 7,
    "start_time": "2025-02-07T10:06:37.036Z"
   },
   {
    "duration": 70,
    "start_time": "2025-02-07T10:06:37.045Z"
   },
   {
    "duration": 3503,
    "start_time": "2025-02-07T10:06:37.117Z"
   },
   {
    "duration": 254,
    "start_time": "2025-02-07T10:06:40.623Z"
   },
   {
    "duration": 38,
    "start_time": "2025-02-07T10:06:40.879Z"
   },
   {
    "duration": 72,
    "start_time": "2025-02-07T10:06:40.932Z"
   },
   {
    "duration": 16,
    "start_time": "2025-02-07T10:06:41.007Z"
   },
   {
    "duration": 35,
    "start_time": "2025-02-07T10:06:41.025Z"
   },
   {
    "duration": 18,
    "start_time": "2025-02-07T10:06:41.062Z"
   },
   {
    "duration": 629,
    "start_time": "2025-02-07T10:06:41.082Z"
   },
   {
    "duration": 26,
    "start_time": "2025-02-07T10:06:41.713Z"
   },
   {
    "duration": 212,
    "start_time": "2025-02-07T10:06:41.741Z"
   },
   {
    "duration": 64,
    "start_time": "2025-02-07T10:06:41.955Z"
   },
   {
    "duration": 46,
    "start_time": "2025-02-07T10:06:42.032Z"
   },
   {
    "duration": 27,
    "start_time": "2025-02-07T10:06:42.080Z"
   },
   {
    "duration": 39,
    "start_time": "2025-02-07T10:06:42.109Z"
   },
   {
    "duration": 153,
    "start_time": "2025-02-07T10:06:42.150Z"
   },
   {
    "duration": 14,
    "start_time": "2025-02-07T10:06:42.306Z"
   },
   {
    "duration": 21,
    "start_time": "2025-02-07T10:06:42.332Z"
   },
   {
    "duration": 45,
    "start_time": "2025-02-07T10:06:42.355Z"
   },
   {
    "duration": 54,
    "start_time": "2025-02-07T10:06:42.402Z"
   },
   {
    "duration": 25,
    "start_time": "2025-02-07T10:06:42.458Z"
   },
   {
    "duration": 14,
    "start_time": "2025-02-07T10:06:42.485Z"
   },
   {
    "duration": 48,
    "start_time": "2025-02-07T10:06:42.501Z"
   },
   {
    "duration": 187,
    "start_time": "2025-02-07T10:06:42.553Z"
   },
   {
    "duration": 138,
    "start_time": "2025-02-07T10:06:42.742Z"
   },
   {
    "duration": 39,
    "start_time": "2025-02-07T10:06:42.882Z"
   },
   {
    "duration": 149,
    "start_time": "2025-02-07T10:06:42.934Z"
   },
   {
    "duration": 97,
    "start_time": "2025-02-07T10:06:43.085Z"
   },
   {
    "duration": 12,
    "start_time": "2025-02-07T10:06:43.184Z"
   },
   {
    "duration": 184,
    "start_time": "2025-02-07T10:06:43.198Z"
   },
   {
    "duration": 87,
    "start_time": "2025-02-07T10:06:43.384Z"
   },
   {
    "duration": 16,
    "start_time": "2025-02-07T10:06:43.473Z"
   },
   {
    "duration": 10,
    "start_time": "2025-02-07T10:06:43.492Z"
   },
   {
    "duration": 38,
    "start_time": "2025-02-07T10:06:43.504Z"
   },
   {
    "duration": 216,
    "start_time": "2025-02-07T10:06:43.544Z"
   },
   {
    "duration": 25,
    "start_time": "2025-02-07T10:06:43.762Z"
   },
   {
    "duration": 46,
    "start_time": "2025-02-07T10:06:43.789Z"
   },
   {
    "duration": 42,
    "start_time": "2025-02-07T10:06:43.836Z"
   },
   {
    "duration": 47,
    "start_time": "2025-02-07T10:06:43.880Z"
   },
   {
    "duration": 18,
    "start_time": "2025-02-07T10:06:43.929Z"
   },
   {
    "duration": 37,
    "start_time": "2025-02-07T10:06:43.949Z"
   },
   {
    "duration": 29,
    "start_time": "2025-02-07T10:06:43.988Z"
   },
   {
    "duration": 320,
    "start_time": "2025-02-07T10:06:44.018Z"
   },
   {
    "duration": 16,
    "start_time": "2025-02-07T10:06:44.339Z"
   },
   {
    "duration": 35,
    "start_time": "2025-02-07T10:06:44.356Z"
   },
   {
    "duration": 53,
    "start_time": "2025-02-07T10:06:44.393Z"
   },
   {
    "duration": 7,
    "start_time": "2025-02-07T10:06:44.448Z"
   },
   {
    "duration": 89,
    "start_time": "2025-02-07T10:06:44.456Z"
   },
   {
    "duration": 33,
    "start_time": "2025-02-07T10:06:44.547Z"
   },
   {
    "duration": 18,
    "start_time": "2025-02-07T10:06:44.582Z"
   },
   {
    "duration": 40,
    "start_time": "2025-02-07T10:06:44.602Z"
   },
   {
    "duration": 34,
    "start_time": "2025-02-07T10:06:44.644Z"
   },
   {
    "duration": 119,
    "start_time": "2025-02-07T10:06:44.680Z"
   },
   {
    "duration": 33,
    "start_time": "2025-02-07T10:06:44.801Z"
   },
   {
    "duration": 16,
    "start_time": "2025-02-07T10:06:44.836Z"
   },
   {
    "duration": 8,
    "start_time": "2025-02-07T10:06:44.854Z"
   },
   {
    "duration": 14,
    "start_time": "2025-02-07T10:06:44.864Z"
   },
   {
    "duration": 29,
    "start_time": "2025-02-07T10:06:44.880Z"
   },
   {
    "duration": 138,
    "start_time": "2025-02-07T10:06:44.911Z"
   },
   {
    "duration": 18,
    "start_time": "2025-02-07T10:06:45.051Z"
   },
   {
    "duration": 25,
    "start_time": "2025-02-07T10:07:27.017Z"
   },
   {
    "duration": 17,
    "start_time": "2025-02-07T10:07:29.063Z"
   },
   {
    "duration": 1333,
    "start_time": "2025-02-07T10:07:43.135Z"
   },
   {
    "duration": 2128,
    "start_time": "2025-02-07T10:07:44.471Z"
   },
   {
    "duration": 52,
    "start_time": "2025-02-07T10:07:46.600Z"
   },
   {
    "duration": 5,
    "start_time": "2025-02-07T10:07:46.654Z"
   },
   {
    "duration": 53,
    "start_time": "2025-02-07T10:07:46.660Z"
   },
   {
    "duration": 3246,
    "start_time": "2025-02-07T10:07:46.715Z"
   },
   {
    "duration": 253,
    "start_time": "2025-02-07T10:07:49.963Z"
   },
   {
    "duration": 46,
    "start_time": "2025-02-07T10:07:50.218Z"
   },
   {
    "duration": 31,
    "start_time": "2025-02-07T10:07:50.266Z"
   },
   {
    "duration": 39,
    "start_time": "2025-02-07T10:07:50.300Z"
   },
   {
    "duration": 38,
    "start_time": "2025-02-07T10:07:50.341Z"
   },
   {
    "duration": 19,
    "start_time": "2025-02-07T10:07:50.381Z"
   },
   {
    "duration": 649,
    "start_time": "2025-02-07T10:07:50.402Z"
   },
   {
    "duration": 17,
    "start_time": "2025-02-07T10:07:51.053Z"
   },
   {
    "duration": 222,
    "start_time": "2025-02-07T10:07:51.072Z"
   },
   {
    "duration": 73,
    "start_time": "2025-02-07T10:07:51.295Z"
   },
   {
    "duration": 45,
    "start_time": "2025-02-07T10:07:51.369Z"
   },
   {
    "duration": 41,
    "start_time": "2025-02-07T10:07:51.416Z"
   },
   {
    "duration": 21,
    "start_time": "2025-02-07T10:07:51.458Z"
   },
   {
    "duration": 146,
    "start_time": "2025-02-07T10:07:51.481Z"
   },
   {
    "duration": 14,
    "start_time": "2025-02-07T10:07:51.632Z"
   },
   {
    "duration": 28,
    "start_time": "2025-02-07T10:07:51.648Z"
   },
   {
    "duration": 62,
    "start_time": "2025-02-07T10:07:51.677Z"
   },
   {
    "duration": 28,
    "start_time": "2025-02-07T10:07:51.741Z"
   },
   {
    "duration": 19,
    "start_time": "2025-02-07T10:07:51.771Z"
   },
   {
    "duration": 13,
    "start_time": "2025-02-07T10:07:51.792Z"
   },
   {
    "duration": 48,
    "start_time": "2025-02-07T10:07:51.807Z"
   },
   {
    "duration": 176,
    "start_time": "2025-02-07T10:07:51.859Z"
   },
   {
    "duration": 139,
    "start_time": "2025-02-07T10:07:52.037Z"
   },
   {
    "duration": 37,
    "start_time": "2025-02-07T10:07:52.178Z"
   },
   {
    "duration": 98,
    "start_time": "2025-02-07T10:07:52.217Z"
   },
   {
    "duration": 102,
    "start_time": "2025-02-07T10:07:52.317Z"
   },
   {
    "duration": 17,
    "start_time": "2025-02-07T10:07:52.420Z"
   },
   {
    "duration": 206,
    "start_time": "2025-02-07T10:07:52.439Z"
   },
   {
    "duration": 87,
    "start_time": "2025-02-07T10:07:52.647Z"
   },
   {
    "duration": 17,
    "start_time": "2025-02-07T10:07:52.735Z"
   },
   {
    "duration": 21,
    "start_time": "2025-02-07T10:07:52.754Z"
   },
   {
    "duration": 38,
    "start_time": "2025-02-07T10:07:52.777Z"
   },
   {
    "duration": 206,
    "start_time": "2025-02-07T10:07:52.817Z"
   },
   {
    "duration": 26,
    "start_time": "2025-02-07T10:07:53.032Z"
   },
   {
    "duration": 50,
    "start_time": "2025-02-07T10:07:53.060Z"
   },
   {
    "duration": 39,
    "start_time": "2025-02-07T10:07:53.112Z"
   },
   {
    "duration": 36,
    "start_time": "2025-02-07T10:07:53.153Z"
   },
   {
    "duration": 23,
    "start_time": "2025-02-07T10:07:53.191Z"
   },
   {
    "duration": 36,
    "start_time": "2025-02-07T10:07:53.216Z"
   },
   {
    "duration": 26,
    "start_time": "2025-02-07T10:07:53.253Z"
   },
   {
    "duration": 352,
    "start_time": "2025-02-07T10:07:53.281Z"
   },
   {
    "duration": 15,
    "start_time": "2025-02-07T10:07:53.634Z"
   },
   {
    "duration": 50,
    "start_time": "2025-02-07T10:07:53.651Z"
   },
   {
    "duration": 37,
    "start_time": "2025-02-07T10:07:53.703Z"
   },
   {
    "duration": 7,
    "start_time": "2025-02-07T10:07:53.741Z"
   },
   {
    "duration": 90,
    "start_time": "2025-02-07T10:07:53.750Z"
   },
   {
    "duration": 31,
    "start_time": "2025-02-07T10:07:53.842Z"
   },
   {
    "duration": 16,
    "start_time": "2025-02-07T10:07:53.875Z"
   },
   {
    "duration": 44,
    "start_time": "2025-02-07T10:07:53.893Z"
   },
   {
    "duration": 29,
    "start_time": "2025-02-07T10:07:53.939Z"
   },
   {
    "duration": 111,
    "start_time": "2025-02-07T10:07:53.970Z"
   },
   {
    "duration": 23,
    "start_time": "2025-02-07T10:07:54.082Z"
   },
   {
    "duration": 8,
    "start_time": "2025-02-07T10:07:54.107Z"
   },
   {
    "duration": 18,
    "start_time": "2025-02-07T10:07:54.117Z"
   },
   {
    "duration": 22,
    "start_time": "2025-02-07T10:07:54.137Z"
   },
   {
    "duration": 15,
    "start_time": "2025-02-07T10:07:54.161Z"
   },
   {
    "duration": 25,
    "start_time": "2025-02-07T10:07:54.178Z"
   },
   {
    "duration": 39,
    "start_time": "2025-02-07T10:07:54.205Z"
   },
   {
    "duration": 1305,
    "start_time": "2025-02-07T10:20:22.774Z"
   },
   {
    "duration": 2336,
    "start_time": "2025-02-07T10:20:24.082Z"
   },
   {
    "duration": 46,
    "start_time": "2025-02-07T10:20:26.420Z"
   },
   {
    "duration": 4,
    "start_time": "2025-02-07T10:20:26.468Z"
   },
   {
    "duration": 68,
    "start_time": "2025-02-07T10:20:26.473Z"
   },
   {
    "duration": 3977,
    "start_time": "2025-02-07T10:20:26.543Z"
   },
   {
    "duration": 256,
    "start_time": "2025-02-07T10:20:30.522Z"
   },
   {
    "duration": 35,
    "start_time": "2025-02-07T10:20:30.780Z"
   },
   {
    "duration": 42,
    "start_time": "2025-02-07T10:20:30.817Z"
   },
   {
    "duration": 17,
    "start_time": "2025-02-07T10:20:30.863Z"
   },
   {
    "duration": 55,
    "start_time": "2025-02-07T10:20:30.882Z"
   },
   {
    "duration": 18,
    "start_time": "2025-02-07T10:20:30.939Z"
   },
   {
    "duration": 617,
    "start_time": "2025-02-07T10:20:30.959Z"
   },
   {
    "duration": 17,
    "start_time": "2025-02-07T10:20:31.578Z"
   },
   {
    "duration": 295,
    "start_time": "2025-02-07T10:20:31.597Z"
   },
   {
    "duration": 73,
    "start_time": "2025-02-07T10:20:31.893Z"
   },
   {
    "duration": 48,
    "start_time": "2025-02-07T10:20:31.967Z"
   },
   {
    "duration": 39,
    "start_time": "2025-02-07T10:20:32.017Z"
   },
   {
    "duration": 31,
    "start_time": "2025-02-07T10:20:32.057Z"
   },
   {
    "duration": 142,
    "start_time": "2025-02-07T10:20:32.090Z"
   },
   {
    "duration": 15,
    "start_time": "2025-02-07T10:20:32.234Z"
   },
   {
    "duration": 180,
    "start_time": "2025-02-07T10:20:32.251Z"
   },
   {
    "duration": 73,
    "start_time": "2025-02-07T10:20:32.433Z"
   },
   {
    "duration": 29,
    "start_time": "2025-02-07T10:20:32.508Z"
   },
   {
    "duration": 49,
    "start_time": "2025-02-07T10:20:32.539Z"
   },
   {
    "duration": 68,
    "start_time": "2025-02-07T10:20:32.590Z"
   },
   {
    "duration": 23,
    "start_time": "2025-02-07T10:20:32.660Z"
   },
   {
    "duration": 168,
    "start_time": "2025-02-07T10:20:32.688Z"
   },
   {
    "duration": 124,
    "start_time": "2025-02-07T10:20:32.857Z"
   },
   {
    "duration": 36,
    "start_time": "2025-02-07T10:20:32.983Z"
   },
   {
    "duration": 126,
    "start_time": "2025-02-07T10:20:33.033Z"
   },
   {
    "duration": 100,
    "start_time": "2025-02-07T10:20:33.161Z"
   },
   {
    "duration": 13,
    "start_time": "2025-02-07T10:20:33.263Z"
   },
   {
    "duration": 184,
    "start_time": "2025-02-07T10:20:33.278Z"
   },
   {
    "duration": 83,
    "start_time": "2025-02-07T10:20:33.464Z"
   },
   {
    "duration": 27,
    "start_time": "2025-02-07T10:20:33.549Z"
   },
   {
    "duration": 140,
    "start_time": "2025-02-07T10:20:33.577Z"
   },
   {
    "duration": 48,
    "start_time": "2025-02-07T10:20:33.719Z"
   },
   {
    "duration": 190,
    "start_time": "2025-02-07T10:20:33.769Z"
   },
   {
    "duration": 26,
    "start_time": "2025-02-07T10:20:33.961Z"
   },
   {
    "duration": 49,
    "start_time": "2025-02-07T10:20:33.988Z"
   },
   {
    "duration": 33,
    "start_time": "2025-02-07T10:20:34.039Z"
   },
   {
    "duration": 57,
    "start_time": "2025-02-07T10:20:34.074Z"
   },
   {
    "duration": 29,
    "start_time": "2025-02-07T10:20:34.133Z"
   },
   {
    "duration": 31,
    "start_time": "2025-02-07T10:20:34.164Z"
   },
   {
    "duration": 46,
    "start_time": "2025-02-07T10:20:34.197Z"
   },
   {
    "duration": 364,
    "start_time": "2025-02-07T10:20:34.245Z"
   },
   {
    "duration": 24,
    "start_time": "2025-02-07T10:20:34.611Z"
   },
   {
    "duration": 35,
    "start_time": "2025-02-07T10:20:34.637Z"
   },
   {
    "duration": 43,
    "start_time": "2025-02-07T10:20:34.674Z"
   },
   {
    "duration": 15,
    "start_time": "2025-02-07T10:20:34.719Z"
   },
   {
    "duration": 129,
    "start_time": "2025-02-07T10:20:34.736Z"
   },
   {
    "duration": 31,
    "start_time": "2025-02-07T10:20:34.867Z"
   },
   {
    "duration": 34,
    "start_time": "2025-02-07T10:20:34.900Z"
   },
   {
    "duration": 26,
    "start_time": "2025-02-07T10:20:34.936Z"
   },
   {
    "duration": 72,
    "start_time": "2025-02-07T10:20:34.964Z"
   },
   {
    "duration": 160,
    "start_time": "2025-02-07T10:20:35.038Z"
   },
   {
    "duration": 21,
    "start_time": "2025-02-07T10:20:35.200Z"
   },
   {
    "duration": 23,
    "start_time": "2025-02-07T10:20:35.223Z"
   },
   {
    "duration": 29,
    "start_time": "2025-02-07T10:20:35.247Z"
   },
   {
    "duration": 26,
    "start_time": "2025-02-07T10:20:35.277Z"
   },
   {
    "duration": 29,
    "start_time": "2025-02-07T10:20:35.306Z"
   },
   {
    "duration": 40,
    "start_time": "2025-02-07T10:20:35.337Z"
   },
   {
    "duration": 66,
    "start_time": "2025-02-07T10:20:35.379Z"
   },
   {
    "duration": 54,
    "start_time": "2025-02-08T11:34:35.653Z"
   },
   {
    "duration": 5596,
    "start_time": "2025-02-08T11:38:56.928Z"
   },
   {
    "duration": 2005,
    "start_time": "2025-02-08T11:39:02.527Z"
   },
   {
    "duration": 42,
    "start_time": "2025-02-08T11:39:04.534Z"
   },
   {
    "duration": 5,
    "start_time": "2025-02-08T11:39:04.579Z"
   },
   {
    "duration": 68,
    "start_time": "2025-02-08T11:39:04.586Z"
   },
   {
    "duration": 3287,
    "start_time": "2025-02-08T11:39:04.656Z"
   },
   {
    "duration": 253,
    "start_time": "2025-02-08T11:39:07.944Z"
   },
   {
    "duration": 48,
    "start_time": "2025-02-08T11:39:08.200Z"
   },
   {
    "duration": 29,
    "start_time": "2025-02-08T11:39:08.250Z"
   },
   {
    "duration": 26,
    "start_time": "2025-02-08T11:39:08.283Z"
   },
   {
    "duration": 55,
    "start_time": "2025-02-08T11:39:08.311Z"
   },
   {
    "duration": 21,
    "start_time": "2025-02-08T11:39:08.369Z"
   },
   {
    "duration": 552,
    "start_time": "2025-02-08T11:39:08.392Z"
   },
   {
    "duration": 17,
    "start_time": "2025-02-08T11:39:08.946Z"
   },
   {
    "duration": 201,
    "start_time": "2025-02-08T11:39:08.964Z"
   },
   {
    "duration": 79,
    "start_time": "2025-02-08T11:39:09.166Z"
   },
   {
    "duration": 46,
    "start_time": "2025-02-08T11:39:09.247Z"
   },
   {
    "duration": 47,
    "start_time": "2025-02-08T11:39:09.294Z"
   },
   {
    "duration": 52,
    "start_time": "2025-02-08T11:39:09.342Z"
   },
   {
    "duration": 124,
    "start_time": "2025-02-08T11:39:09.395Z"
   },
   {
    "duration": 20,
    "start_time": "2025-02-08T11:39:09.521Z"
   },
   {
    "duration": 34,
    "start_time": "2025-02-08T11:39:09.543Z"
   },
   {
    "duration": 62,
    "start_time": "2025-02-08T11:39:09.579Z"
   },
   {
    "duration": 27,
    "start_time": "2025-02-08T11:39:09.643Z"
   },
   {
    "duration": 15,
    "start_time": "2025-02-08T11:39:09.672Z"
   },
   {
    "duration": 45,
    "start_time": "2025-02-08T11:39:09.689Z"
   },
   {
    "duration": 29,
    "start_time": "2025-02-08T11:39:09.735Z"
   },
   {
    "duration": 194,
    "start_time": "2025-02-08T11:39:09.768Z"
   },
   {
    "duration": 120,
    "start_time": "2025-02-08T11:39:09.964Z"
   },
   {
    "duration": 49,
    "start_time": "2025-02-08T11:39:10.086Z"
   },
   {
    "duration": 75,
    "start_time": "2025-02-08T11:39:10.137Z"
   },
   {
    "duration": 108,
    "start_time": "2025-02-08T11:39:10.214Z"
   },
   {
    "duration": 19,
    "start_time": "2025-02-08T11:39:10.324Z"
   },
   {
    "duration": 192,
    "start_time": "2025-02-08T11:39:10.345Z"
   },
   {
    "duration": 76,
    "start_time": "2025-02-08T11:39:10.539Z"
   },
   {
    "duration": 27,
    "start_time": "2025-02-08T11:39:10.617Z"
   },
   {
    "duration": 8,
    "start_time": "2025-02-08T11:39:10.646Z"
   },
   {
    "duration": 24,
    "start_time": "2025-02-08T11:39:10.656Z"
   },
   {
    "duration": 219,
    "start_time": "2025-02-08T11:39:10.682Z"
   },
   {
    "duration": 32,
    "start_time": "2025-02-08T11:39:10.903Z"
   },
   {
    "duration": 117,
    "start_time": "2025-02-08T11:39:10.936Z"
   },
   {
    "duration": 42,
    "start_time": "2025-02-08T11:39:11.054Z"
   },
   {
    "duration": 21,
    "start_time": "2025-02-08T11:39:11.098Z"
   },
   {
    "duration": 13,
    "start_time": "2025-02-08T11:39:11.121Z"
   },
   {
    "duration": 36,
    "start_time": "2025-02-08T11:39:11.136Z"
   },
   {
    "duration": 26,
    "start_time": "2025-02-08T11:39:11.174Z"
   },
   {
    "duration": 366,
    "start_time": "2025-02-08T11:39:11.202Z"
   },
   {
    "duration": 15,
    "start_time": "2025-02-08T11:39:11.570Z"
   },
   {
    "duration": 33,
    "start_time": "2025-02-08T11:39:11.587Z"
   },
   {
    "duration": 34,
    "start_time": "2025-02-08T11:39:11.622Z"
   },
   {
    "duration": 6,
    "start_time": "2025-02-08T11:39:11.658Z"
   },
   {
    "duration": 79,
    "start_time": "2025-02-08T11:39:11.666Z"
   },
   {
    "duration": 31,
    "start_time": "2025-02-08T11:39:11.746Z"
   },
   {
    "duration": 64,
    "start_time": "2025-02-08T11:39:11.779Z"
   },
   {
    "duration": 31,
    "start_time": "2025-02-08T11:39:11.845Z"
   },
   {
    "duration": 78,
    "start_time": "2025-02-08T11:39:11.878Z"
   },
   {
    "duration": 111,
    "start_time": "2025-02-08T11:39:11.958Z"
   },
   {
    "duration": 70,
    "start_time": "2025-02-08T11:39:12.071Z"
   },
   {
    "duration": 8,
    "start_time": "2025-02-08T11:39:12.142Z"
   },
   {
    "duration": 6,
    "start_time": "2025-02-08T11:39:12.151Z"
   },
   {
    "duration": 11,
    "start_time": "2025-02-08T11:39:12.159Z"
   },
   {
    "duration": 79,
    "start_time": "2025-02-08T11:39:12.172Z"
   },
   {
    "duration": 16,
    "start_time": "2025-02-08T11:39:12.253Z"
   },
   {
    "duration": 14,
    "start_time": "2025-02-08T11:39:12.271Z"
   },
   {
    "duration": 55,
    "start_time": "2025-02-08T11:39:12.288Z"
   },
   {
    "duration": 29,
    "start_time": "2025-02-08T11:41:23.192Z"
   },
   {
    "duration": 30,
    "start_time": "2025-02-08T11:48:48.655Z"
   },
   {
    "duration": 45,
    "start_time": "2025-02-08T11:48:50.314Z"
   },
   {
    "duration": 1300,
    "start_time": "2025-02-08T11:49:26.140Z"
   },
   {
    "duration": 2036,
    "start_time": "2025-02-08T11:49:27.445Z"
   },
   {
    "duration": 56,
    "start_time": "2025-02-08T11:49:29.484Z"
   },
   {
    "duration": 4,
    "start_time": "2025-02-08T11:49:29.542Z"
   },
   {
    "duration": 52,
    "start_time": "2025-02-08T11:49:29.547Z"
   },
   {
    "duration": 3112,
    "start_time": "2025-02-08T11:49:29.601Z"
   },
   {
    "duration": 255,
    "start_time": "2025-02-08T11:49:32.715Z"
   },
   {
    "duration": 36,
    "start_time": "2025-02-08T11:49:32.971Z"
   },
   {
    "duration": 41,
    "start_time": "2025-02-08T11:49:33.010Z"
   },
   {
    "duration": 36,
    "start_time": "2025-02-08T11:49:33.053Z"
   },
   {
    "duration": 47,
    "start_time": "2025-02-08T11:49:33.091Z"
   },
   {
    "duration": 51,
    "start_time": "2025-02-08T11:49:33.140Z"
   },
   {
    "duration": 592,
    "start_time": "2025-02-08T11:49:33.193Z"
   },
   {
    "duration": 16,
    "start_time": "2025-02-08T11:49:33.787Z"
   },
   {
    "duration": 249,
    "start_time": "2025-02-08T11:49:33.805Z"
   },
   {
    "duration": 63,
    "start_time": "2025-02-08T11:49:34.056Z"
   },
   {
    "duration": 45,
    "start_time": "2025-02-08T11:49:34.133Z"
   },
   {
    "duration": 29,
    "start_time": "2025-02-08T11:49:34.186Z"
   },
   {
    "duration": 38,
    "start_time": "2025-02-08T11:49:34.216Z"
   },
   {
    "duration": 137,
    "start_time": "2025-02-08T11:49:34.256Z"
   },
   {
    "duration": 13,
    "start_time": "2025-02-08T11:49:34.395Z"
   },
   {
    "duration": 37,
    "start_time": "2025-02-08T11:49:34.410Z"
   },
   {
    "duration": 58,
    "start_time": "2025-02-08T11:49:34.449Z"
   },
   {
    "duration": 45,
    "start_time": "2025-02-08T11:49:34.509Z"
   },
   {
    "duration": 15,
    "start_time": "2025-02-08T11:49:34.555Z"
   },
   {
    "duration": 11,
    "start_time": "2025-02-08T11:49:34.572Z"
   },
   {
    "duration": 50,
    "start_time": "2025-02-08T11:49:34.587Z"
   },
   {
    "duration": 173,
    "start_time": "2025-02-08T11:49:34.639Z"
   },
   {
    "duration": 132,
    "start_time": "2025-02-08T11:49:34.813Z"
   },
   {
    "duration": 37,
    "start_time": "2025-02-08T11:49:34.946Z"
   },
   {
    "duration": 164,
    "start_time": "2025-02-08T11:49:34.984Z"
   },
   {
    "duration": 91,
    "start_time": "2025-02-08T11:49:35.150Z"
   },
   {
    "duration": 11,
    "start_time": "2025-02-08T11:49:35.243Z"
   },
   {
    "duration": 179,
    "start_time": "2025-02-08T11:49:35.256Z"
   },
   {
    "duration": 77,
    "start_time": "2025-02-08T11:49:35.437Z"
   },
   {
    "duration": 29,
    "start_time": "2025-02-08T11:49:35.516Z"
   },
   {
    "duration": 34,
    "start_time": "2025-02-08T11:49:35.547Z"
   },
   {
    "duration": 68,
    "start_time": "2025-02-08T11:49:35.583Z"
   },
   {
    "duration": 195,
    "start_time": "2025-02-08T11:49:35.653Z"
   },
   {
    "duration": 25,
    "start_time": "2025-02-08T11:49:35.849Z"
   },
   {
    "duration": 29,
    "start_time": "2025-02-08T11:49:35.875Z"
   },
   {
    "duration": 47,
    "start_time": "2025-02-08T11:49:35.906Z"
   },
   {
    "duration": 32,
    "start_time": "2025-02-08T11:49:35.955Z"
   },
   {
    "duration": 12,
    "start_time": "2025-02-08T11:49:35.989Z"
   },
   {
    "duration": 59,
    "start_time": "2025-02-08T11:49:36.002Z"
   },
   {
    "duration": 28,
    "start_time": "2025-02-08T11:49:36.063Z"
   },
   {
    "duration": 339,
    "start_time": "2025-02-08T11:49:36.093Z"
   },
   {
    "duration": 15,
    "start_time": "2025-02-08T11:49:36.434Z"
   },
   {
    "duration": 42,
    "start_time": "2025-02-08T11:49:36.451Z"
   },
   {
    "duration": 39,
    "start_time": "2025-02-08T11:49:36.495Z"
   },
   {
    "duration": 6,
    "start_time": "2025-02-08T11:49:36.536Z"
   },
   {
    "duration": 99,
    "start_time": "2025-02-08T11:49:36.544Z"
   },
   {
    "duration": 32,
    "start_time": "2025-02-08T11:49:36.645Z"
   },
   {
    "duration": 16,
    "start_time": "2025-02-08T11:49:36.678Z"
   },
   {
    "duration": 60,
    "start_time": "2025-02-08T11:49:36.696Z"
   },
   {
    "duration": 29,
    "start_time": "2025-02-08T11:49:36.758Z"
   },
   {
    "duration": 93,
    "start_time": "2025-02-08T11:49:36.789Z"
   },
   {
    "duration": 23,
    "start_time": "2025-02-08T11:49:36.883Z"
   },
   {
    "duration": 25,
    "start_time": "2025-02-08T11:49:36.908Z"
   },
   {
    "duration": 6,
    "start_time": "2025-02-08T11:49:36.934Z"
   },
   {
    "duration": 25,
    "start_time": "2025-02-08T11:49:36.941Z"
   },
   {
    "duration": 24,
    "start_time": "2025-02-08T11:49:36.967Z"
   },
   {
    "duration": 17,
    "start_time": "2025-02-08T11:49:36.993Z"
   },
   {
    "duration": 34,
    "start_time": "2025-02-08T11:49:37.011Z"
   },
   {
    "duration": 29,
    "start_time": "2025-02-08T11:49:37.048Z"
   },
   {
    "duration": 29,
    "start_time": "2025-02-08T11:49:37.079Z"
   },
   {
    "duration": 36,
    "start_time": "2025-02-08T11:50:49.736Z"
   },
   {
    "duration": 16,
    "start_time": "2025-02-08T11:53:26.909Z"
   },
   {
    "duration": 34,
    "start_time": "2025-02-08T11:53:32.592Z"
   },
   {
    "duration": 38,
    "start_time": "2025-02-08T11:54:15.549Z"
   },
   {
    "duration": 40,
    "start_time": "2025-02-08T11:54:17.781Z"
   },
   {
    "duration": 116,
    "start_time": "2025-02-08T11:56:14.394Z"
   },
   {
    "duration": 11,
    "start_time": "2025-02-08T11:56:17.876Z"
   },
   {
    "duration": 9,
    "start_time": "2025-02-08T11:56:29.482Z"
   },
   {
    "duration": 5,
    "start_time": "2025-02-08T11:57:34.065Z"
   },
   {
    "duration": 24,
    "start_time": "2025-02-08T12:10:18.464Z"
   },
   {
    "duration": 32,
    "start_time": "2025-02-08T12:10:19.342Z"
   },
   {
    "duration": 1369,
    "start_time": "2025-02-08T12:10:31.045Z"
   },
   {
    "duration": 2294,
    "start_time": "2025-02-08T12:10:32.417Z"
   },
   {
    "duration": 45,
    "start_time": "2025-02-08T12:10:34.713Z"
   },
   {
    "duration": 5,
    "start_time": "2025-02-08T12:10:34.759Z"
   },
   {
    "duration": 80,
    "start_time": "2025-02-08T12:10:34.766Z"
   },
   {
    "duration": 3399,
    "start_time": "2025-02-08T12:10:34.849Z"
   },
   {
    "duration": 274,
    "start_time": "2025-02-08T12:10:38.250Z"
   },
   {
    "duration": 49,
    "start_time": "2025-02-08T12:10:38.526Z"
   },
   {
    "duration": 29,
    "start_time": "2025-02-08T12:10:38.577Z"
   },
   {
    "duration": 43,
    "start_time": "2025-02-08T12:10:38.608Z"
   },
   {
    "duration": 50,
    "start_time": "2025-02-08T12:10:38.653Z"
   },
   {
    "duration": 19,
    "start_time": "2025-02-08T12:10:38.705Z"
   },
   {
    "duration": 661,
    "start_time": "2025-02-08T12:10:38.726Z"
   },
   {
    "duration": 16,
    "start_time": "2025-02-08T12:10:39.390Z"
   },
   {
    "duration": 238,
    "start_time": "2025-02-08T12:10:39.408Z"
   },
   {
    "duration": 96,
    "start_time": "2025-02-08T12:10:39.648Z"
   },
   {
    "duration": 58,
    "start_time": "2025-02-08T12:10:39.746Z"
   },
   {
    "duration": 65,
    "start_time": "2025-02-08T12:10:39.805Z"
   },
   {
    "duration": 22,
    "start_time": "2025-02-08T12:10:39.873Z"
   },
   {
    "duration": 184,
    "start_time": "2025-02-08T12:10:39.897Z"
   },
   {
    "duration": 14,
    "start_time": "2025-02-08T12:10:40.083Z"
   },
   {
    "duration": 19,
    "start_time": "2025-02-08T12:10:40.099Z"
   },
   {
    "duration": 57,
    "start_time": "2025-02-08T12:10:40.134Z"
   },
   {
    "duration": 42,
    "start_time": "2025-02-08T12:10:40.192Z"
   },
   {
    "duration": 39,
    "start_time": "2025-02-08T12:10:40.236Z"
   },
   {
    "duration": 12,
    "start_time": "2025-02-08T12:10:40.277Z"
   },
   {
    "duration": 22,
    "start_time": "2025-02-08T12:10:40.291Z"
   },
   {
    "duration": 220,
    "start_time": "2025-02-08T12:10:40.316Z"
   },
   {
    "duration": 152,
    "start_time": "2025-02-08T12:10:40.539Z"
   },
   {
    "duration": 50,
    "start_time": "2025-02-08T12:10:40.693Z"
   },
   {
    "duration": 96,
    "start_time": "2025-02-08T12:10:40.745Z"
   },
   {
    "duration": 107,
    "start_time": "2025-02-08T12:10:40.842Z"
   },
   {
    "duration": 12,
    "start_time": "2025-02-08T12:10:40.952Z"
   },
   {
    "duration": 201,
    "start_time": "2025-02-08T12:10:40.965Z"
   },
   {
    "duration": 96,
    "start_time": "2025-02-08T12:10:41.168Z"
   },
   {
    "duration": 15,
    "start_time": "2025-02-08T12:10:41.266Z"
   },
   {
    "duration": 10,
    "start_time": "2025-02-08T12:10:41.283Z"
   },
   {
    "duration": 47,
    "start_time": "2025-02-08T12:10:41.294Z"
   },
   {
    "duration": 226,
    "start_time": "2025-02-08T12:10:41.344Z"
   },
   {
    "duration": 24,
    "start_time": "2025-02-08T12:10:41.572Z"
   },
   {
    "duration": 38,
    "start_time": "2025-02-08T12:10:41.600Z"
   },
   {
    "duration": 41,
    "start_time": "2025-02-08T12:10:41.639Z"
   },
   {
    "duration": 21,
    "start_time": "2025-02-08T12:10:41.682Z"
   },
   {
    "duration": 11,
    "start_time": "2025-02-08T12:10:41.705Z"
   },
   {
    "duration": 45,
    "start_time": "2025-02-08T12:10:41.718Z"
   },
   {
    "duration": 37,
    "start_time": "2025-02-08T12:10:41.765Z"
   },
   {
    "duration": 329,
    "start_time": "2025-02-08T12:10:41.803Z"
   },
   {
    "duration": 21,
    "start_time": "2025-02-08T12:10:42.133Z"
   },
   {
    "duration": 27,
    "start_time": "2025-02-08T12:10:42.155Z"
   },
   {
    "duration": 58,
    "start_time": "2025-02-08T12:10:42.184Z"
   },
   {
    "duration": 7,
    "start_time": "2025-02-08T12:10:42.244Z"
   },
   {
    "duration": 80,
    "start_time": "2025-02-08T12:10:42.253Z"
   },
   {
    "duration": 33,
    "start_time": "2025-02-08T12:10:42.335Z"
   },
   {
    "duration": 15,
    "start_time": "2025-02-08T12:10:42.370Z"
   },
   {
    "duration": 14,
    "start_time": "2025-02-08T12:10:42.387Z"
   },
   {
    "duration": 60,
    "start_time": "2025-02-08T12:10:42.403Z"
   },
   {
    "duration": 101,
    "start_time": "2025-02-08T12:10:42.465Z"
   },
   {
    "duration": 23,
    "start_time": "2025-02-08T12:10:42.568Z"
   },
   {
    "duration": 8,
    "start_time": "2025-02-08T12:10:42.593Z"
   },
   {
    "duration": 31,
    "start_time": "2025-02-08T12:10:42.602Z"
   },
   {
    "duration": 16,
    "start_time": "2025-02-08T12:10:42.635Z"
   },
   {
    "duration": 24,
    "start_time": "2025-02-08T12:10:42.653Z"
   },
   {
    "duration": 16,
    "start_time": "2025-02-08T12:10:42.679Z"
   },
   {
    "duration": 50,
    "start_time": "2025-02-08T12:10:42.698Z"
   },
   {
    "duration": 24,
    "start_time": "2025-02-08T12:10:42.750Z"
   },
   {
    "duration": 29,
    "start_time": "2025-02-08T12:10:42.776Z"
   },
   {
    "duration": 28,
    "start_time": "2025-02-08T12:10:42.807Z"
   },
   {
    "duration": 27,
    "start_time": "2025-02-08T12:15:13.939Z"
   },
   {
    "duration": 12,
    "start_time": "2025-02-08T12:19:09.516Z"
   },
   {
    "duration": 200,
    "start_time": "2025-02-08T12:20:15.422Z"
   },
   {
    "duration": 299,
    "start_time": "2025-02-08T12:20:24.422Z"
   },
   {
    "duration": 395,
    "start_time": "2025-02-08T12:22:01.470Z"
   },
   {
    "duration": 75,
    "start_time": "2025-02-08T12:23:22.518Z"
   },
   {
    "duration": 159,
    "start_time": "2025-02-08T12:24:19.289Z"
   },
   {
    "duration": 157,
    "start_time": "2025-02-08T12:24:46.539Z"
   },
   {
    "duration": 294,
    "start_time": "2025-02-08T14:09:54.012Z"
   },
   {
    "duration": 147,
    "start_time": "2025-02-08T14:09:57.162Z"
   },
   {
    "duration": 293,
    "start_time": "2025-02-08T14:10:44.805Z"
   },
   {
    "duration": 6,
    "start_time": "2025-02-08T14:33:58.794Z"
   },
   {
    "duration": 935,
    "start_time": "2025-02-08T14:34:00.713Z"
   },
   {
    "duration": 843,
    "start_time": "2025-02-08T14:34:43.895Z"
   },
   {
    "duration": 0,
    "start_time": "2025-02-08T14:34:44.740Z"
   },
   {
    "duration": 799,
    "start_time": "2025-02-08T14:35:55.675Z"
   },
   {
    "duration": 961,
    "start_time": "2025-02-08T14:36:33.018Z"
   },
   {
    "duration": 875,
    "start_time": "2025-02-08T14:39:29.318Z"
   },
   {
    "duration": 1326,
    "start_time": "2025-02-08T14:39:41.501Z"
   },
   {
    "duration": 1981,
    "start_time": "2025-02-08T14:39:42.829Z"
   },
   {
    "duration": 41,
    "start_time": "2025-02-08T14:39:44.812Z"
   },
   {
    "duration": 4,
    "start_time": "2025-02-08T14:39:44.856Z"
   },
   {
    "duration": 52,
    "start_time": "2025-02-08T14:39:44.862Z"
   },
   {
    "duration": 3209,
    "start_time": "2025-02-08T14:39:44.932Z"
   },
   {
    "duration": 252,
    "start_time": "2025-02-08T14:39:48.143Z"
   },
   {
    "duration": 50,
    "start_time": "2025-02-08T14:39:48.397Z"
   },
   {
    "duration": 27,
    "start_time": "2025-02-08T14:39:48.449Z"
   },
   {
    "duration": 17,
    "start_time": "2025-02-08T14:39:48.479Z"
   },
   {
    "duration": 61,
    "start_time": "2025-02-08T14:39:48.497Z"
   },
   {
    "duration": 17,
    "start_time": "2025-02-08T14:39:48.560Z"
   },
   {
    "duration": 584,
    "start_time": "2025-02-08T14:39:48.579Z"
   },
   {
    "duration": 15,
    "start_time": "2025-02-08T14:39:49.165Z"
   },
   {
    "duration": 217,
    "start_time": "2025-02-08T14:39:49.182Z"
   },
   {
    "duration": 68,
    "start_time": "2025-02-08T14:39:49.401Z"
   },
   {
    "duration": 43,
    "start_time": "2025-02-08T14:39:49.471Z"
   },
   {
    "duration": 38,
    "start_time": "2025-02-08T14:39:49.515Z"
   },
   {
    "duration": 21,
    "start_time": "2025-02-08T14:39:49.554Z"
   },
   {
    "duration": 154,
    "start_time": "2025-02-08T14:39:49.577Z"
   },
   {
    "duration": 14,
    "start_time": "2025-02-08T14:39:49.733Z"
   },
   {
    "duration": 28,
    "start_time": "2025-02-08T14:39:49.748Z"
   },
   {
    "duration": 64,
    "start_time": "2025-02-08T14:39:49.778Z"
   },
   {
    "duration": 28,
    "start_time": "2025-02-08T14:39:49.844Z"
   },
   {
    "duration": 33,
    "start_time": "2025-02-08T14:39:49.874Z"
   },
   {
    "duration": 26,
    "start_time": "2025-02-08T14:39:49.909Z"
   },
   {
    "duration": 53,
    "start_time": "2025-02-08T14:39:49.936Z"
   },
   {
    "duration": 161,
    "start_time": "2025-02-08T14:39:49.994Z"
   },
   {
    "duration": 147,
    "start_time": "2025-02-08T14:39:50.156Z"
   },
   {
    "duration": 45,
    "start_time": "2025-02-08T14:39:50.305Z"
   },
   {
    "duration": 97,
    "start_time": "2025-02-08T14:39:50.352Z"
   },
   {
    "duration": 98,
    "start_time": "2025-02-08T14:39:50.452Z"
   },
   {
    "duration": 11,
    "start_time": "2025-02-08T14:39:50.552Z"
   },
   {
    "duration": 182,
    "start_time": "2025-02-08T14:39:50.566Z"
   },
   {
    "duration": 88,
    "start_time": "2025-02-08T14:39:50.750Z"
   },
   {
    "duration": 15,
    "start_time": "2025-02-08T14:39:50.840Z"
   },
   {
    "duration": 25,
    "start_time": "2025-02-08T14:39:50.857Z"
   },
   {
    "duration": 32,
    "start_time": "2025-02-08T14:39:50.884Z"
   },
   {
    "duration": 194,
    "start_time": "2025-02-08T14:39:50.917Z"
   },
   {
    "duration": 34,
    "start_time": "2025-02-08T14:39:51.113Z"
   },
   {
    "duration": 29,
    "start_time": "2025-02-08T14:39:51.149Z"
   },
   {
    "duration": 49,
    "start_time": "2025-02-08T14:39:51.180Z"
   },
   {
    "duration": 34,
    "start_time": "2025-02-08T14:39:51.232Z"
   },
   {
    "duration": 31,
    "start_time": "2025-02-08T14:39:51.268Z"
   },
   {
    "duration": 41,
    "start_time": "2025-02-08T14:39:51.301Z"
   },
   {
    "duration": 29,
    "start_time": "2025-02-08T14:39:51.344Z"
   },
   {
    "duration": 341,
    "start_time": "2025-02-08T14:39:51.375Z"
   },
   {
    "duration": 19,
    "start_time": "2025-02-08T14:39:51.718Z"
   },
   {
    "duration": 65,
    "start_time": "2025-02-08T14:39:51.739Z"
   },
   {
    "duration": 40,
    "start_time": "2025-02-08T14:39:51.806Z"
   },
   {
    "duration": 7,
    "start_time": "2025-02-08T14:39:51.848Z"
   },
   {
    "duration": 92,
    "start_time": "2025-02-08T14:39:51.857Z"
   },
   {
    "duration": 30,
    "start_time": "2025-02-08T14:39:51.951Z"
   },
   {
    "duration": 16,
    "start_time": "2025-02-08T14:39:51.983Z"
   },
   {
    "duration": 60,
    "start_time": "2025-02-08T14:39:52.001Z"
   },
   {
    "duration": 55,
    "start_time": "2025-02-08T14:39:52.062Z"
   },
   {
    "duration": 99,
    "start_time": "2025-02-08T14:39:52.119Z"
   },
   {
    "duration": 22,
    "start_time": "2025-02-08T14:39:52.220Z"
   },
   {
    "duration": 8,
    "start_time": "2025-02-08T14:39:52.243Z"
   },
   {
    "duration": 27,
    "start_time": "2025-02-08T14:39:52.253Z"
   },
   {
    "duration": 11,
    "start_time": "2025-02-08T14:39:52.282Z"
   },
   {
    "duration": 27,
    "start_time": "2025-02-08T14:39:52.295Z"
   },
   {
    "duration": 17,
    "start_time": "2025-02-08T14:39:52.332Z"
   },
   {
    "duration": 20,
    "start_time": "2025-02-08T14:39:52.351Z"
   },
   {
    "duration": 103,
    "start_time": "2025-02-08T14:39:52.373Z"
   },
   {
    "duration": 35,
    "start_time": "2025-02-08T14:39:52.478Z"
   },
   {
    "duration": 5,
    "start_time": "2025-02-08T14:39:52.515Z"
   },
   {
    "duration": 33,
    "start_time": "2025-02-08T14:39:52.522Z"
   },
   {
    "duration": 15,
    "start_time": "2025-02-08T14:39:52.557Z"
   },
   {
    "duration": 296,
    "start_time": "2025-02-08T14:39:52.574Z"
   },
   {
    "duration": 171,
    "start_time": "2025-02-08T14:39:52.872Z"
   },
   {
    "duration": 11,
    "start_time": "2025-02-08T14:40:40.294Z"
   },
   {
    "duration": 85,
    "start_time": "2025-02-08T14:41:31.125Z"
   },
   {
    "duration": 473,
    "start_time": "2025-02-08T14:41:48.907Z"
   },
   {
    "duration": 622,
    "start_time": "2025-02-08T14:45:56.588Z"
   },
   {
    "duration": 20,
    "start_time": "2025-02-08T14:47:39.920Z"
   },
   {
    "duration": 119,
    "start_time": "2025-02-08T14:48:10.890Z"
   },
   {
    "duration": 123,
    "start_time": "2025-02-08T14:48:29.124Z"
   },
   {
    "duration": 10,
    "start_time": "2025-02-08T14:54:27.192Z"
   },
   {
    "duration": 11,
    "start_time": "2025-02-08T14:55:14.188Z"
   },
   {
    "duration": 10,
    "start_time": "2025-02-08T14:55:15.186Z"
   },
   {
    "duration": 619,
    "start_time": "2025-02-08T14:55:15.876Z"
   },
   {
    "duration": 131,
    "start_time": "2025-02-08T14:55:16.497Z"
   },
   {
    "duration": 133,
    "start_time": "2025-02-08T14:55:45.198Z"
   },
   {
    "duration": 797,
    "start_time": "2025-02-08T14:56:03.325Z"
   },
   {
    "duration": 11,
    "start_time": "2025-02-08T15:56:24.750Z"
   },
   {
    "duration": 27,
    "start_time": "2025-02-08T15:58:17.625Z"
   },
   {
    "duration": 14,
    "start_time": "2025-02-08T15:58:36.859Z"
   },
   {
    "duration": 6,
    "start_time": "2025-02-08T16:02:23.234Z"
   },
   {
    "duration": 7,
    "start_time": "2025-02-08T16:02:23.903Z"
   },
   {
    "duration": 22,
    "start_time": "2025-02-08T16:02:24.539Z"
   },
   {
    "duration": 1299,
    "start_time": "2025-02-08T16:02:40.025Z"
   },
   {
    "duration": 2203,
    "start_time": "2025-02-08T16:02:41.326Z"
   },
   {
    "duration": 43,
    "start_time": "2025-02-08T16:02:43.530Z"
   },
   {
    "duration": 4,
    "start_time": "2025-02-08T16:02:43.576Z"
   },
   {
    "duration": 71,
    "start_time": "2025-02-08T16:02:43.582Z"
   },
   {
    "duration": 3093,
    "start_time": "2025-02-08T16:02:43.655Z"
   },
   {
    "duration": 244,
    "start_time": "2025-02-08T16:02:46.750Z"
   },
   {
    "duration": 44,
    "start_time": "2025-02-08T16:02:46.996Z"
   },
   {
    "duration": 27,
    "start_time": "2025-02-08T16:02:47.041Z"
   },
   {
    "duration": 15,
    "start_time": "2025-02-08T16:02:47.071Z"
   },
   {
    "duration": 58,
    "start_time": "2025-02-08T16:02:47.088Z"
   },
   {
    "duration": 17,
    "start_time": "2025-02-08T16:02:47.148Z"
   },
   {
    "duration": 592,
    "start_time": "2025-02-08T16:02:47.167Z"
   },
   {
    "duration": 23,
    "start_time": "2025-02-08T16:02:47.761Z"
   },
   {
    "duration": 195,
    "start_time": "2025-02-08T16:02:47.786Z"
   },
   {
    "duration": 65,
    "start_time": "2025-02-08T16:02:47.983Z"
   },
   {
    "duration": 43,
    "start_time": "2025-02-08T16:02:48.050Z"
   },
   {
    "duration": 41,
    "start_time": "2025-02-08T16:02:48.095Z"
   },
   {
    "duration": 20,
    "start_time": "2025-02-08T16:02:48.138Z"
   },
   {
    "duration": 140,
    "start_time": "2025-02-08T16:02:48.159Z"
   },
   {
    "duration": 12,
    "start_time": "2025-02-08T16:02:48.301Z"
   },
   {
    "duration": 27,
    "start_time": "2025-02-08T16:02:48.315Z"
   },
   {
    "duration": 43,
    "start_time": "2025-02-08T16:02:48.344Z"
   },
   {
    "duration": 51,
    "start_time": "2025-02-08T16:02:48.389Z"
   },
   {
    "duration": 16,
    "start_time": "2025-02-08T16:02:48.442Z"
   },
   {
    "duration": 12,
    "start_time": "2025-02-08T16:02:48.459Z"
   },
   {
    "duration": 20,
    "start_time": "2025-02-08T16:02:48.472Z"
   },
   {
    "duration": 191,
    "start_time": "2025-02-08T16:02:48.496Z"
   },
   {
    "duration": 120,
    "start_time": "2025-02-08T16:02:48.690Z"
   },
   {
    "duration": 44,
    "start_time": "2025-02-08T16:02:48.812Z"
   },
   {
    "duration": 87,
    "start_time": "2025-02-08T16:02:48.858Z"
   },
   {
    "duration": 98,
    "start_time": "2025-02-08T16:02:48.947Z"
   },
   {
    "duration": 14,
    "start_time": "2025-02-08T16:02:49.047Z"
   },
   {
    "duration": 180,
    "start_time": "2025-02-08T16:02:49.063Z"
   },
   {
    "duration": 91,
    "start_time": "2025-02-08T16:02:49.246Z"
   },
   {
    "duration": 17,
    "start_time": "2025-02-08T16:02:49.339Z"
   },
   {
    "duration": 23,
    "start_time": "2025-02-08T16:02:49.358Z"
   },
   {
    "duration": 22,
    "start_time": "2025-02-08T16:02:49.382Z"
   },
   {
    "duration": 194,
    "start_time": "2025-02-08T16:02:49.405Z"
   },
   {
    "duration": 32,
    "start_time": "2025-02-08T16:02:49.601Z"
   },
   {
    "duration": 28,
    "start_time": "2025-02-08T16:02:49.634Z"
   },
   {
    "duration": 26,
    "start_time": "2025-02-08T16:02:49.663Z"
   },
   {
    "duration": 25,
    "start_time": "2025-02-08T16:02:49.691Z"
   },
   {
    "duration": 19,
    "start_time": "2025-02-08T16:02:49.717Z"
   },
   {
    "duration": 26,
    "start_time": "2025-02-08T16:02:49.737Z"
   },
   {
    "duration": 25,
    "start_time": "2025-02-08T16:02:49.765Z"
   },
   {
    "duration": 335,
    "start_time": "2025-02-08T16:02:49.792Z"
   },
   {
    "duration": 13,
    "start_time": "2025-02-08T16:02:50.132Z"
   },
   {
    "duration": 26,
    "start_time": "2025-02-08T16:02:50.148Z"
   },
   {
    "duration": 57,
    "start_time": "2025-02-08T16:02:50.176Z"
   },
   {
    "duration": 49,
    "start_time": "2025-02-08T16:02:50.235Z"
   },
   {
    "duration": 102,
    "start_time": "2025-02-08T16:02:50.286Z"
   },
   {
    "duration": 31,
    "start_time": "2025-02-08T16:02:50.389Z"
   },
   {
    "duration": 16,
    "start_time": "2025-02-08T16:02:50.434Z"
   },
   {
    "duration": 14,
    "start_time": "2025-02-08T16:02:50.452Z"
   },
   {
    "duration": 30,
    "start_time": "2025-02-08T16:02:50.468Z"
   },
   {
    "duration": 126,
    "start_time": "2025-02-08T16:02:50.500Z"
   },
   {
    "duration": 21,
    "start_time": "2025-02-08T16:02:50.632Z"
   },
   {
    "duration": 96,
    "start_time": "2025-02-08T16:02:50.656Z"
   },
   {
    "duration": 7,
    "start_time": "2025-02-08T16:02:50.754Z"
   },
   {
    "duration": 11,
    "start_time": "2025-02-08T16:02:50.763Z"
   },
   {
    "duration": 21,
    "start_time": "2025-02-08T16:02:50.776Z"
   },
   {
    "duration": 15,
    "start_time": "2025-02-08T16:02:50.799Z"
   },
   {
    "duration": 37,
    "start_time": "2025-02-08T16:02:50.815Z"
   },
   {
    "duration": 24,
    "start_time": "2025-02-08T16:02:50.854Z"
   },
   {
    "duration": 28,
    "start_time": "2025-02-08T16:02:50.880Z"
   },
   {
    "duration": 17,
    "start_time": "2025-02-08T16:02:50.910Z"
   },
   {
    "duration": 16,
    "start_time": "2025-02-08T16:02:50.928Z"
   },
   {
    "duration": 12,
    "start_time": "2025-02-08T16:02:50.946Z"
   },
   {
    "duration": 25,
    "start_time": "2025-02-08T16:02:50.960Z"
   },
   {
    "duration": 589,
    "start_time": "2025-02-08T16:02:50.986Z"
   },
   {
    "duration": 120,
    "start_time": "2025-02-08T16:02:51.577Z"
   },
   {
    "duration": 18,
    "start_time": "2025-02-08T16:02:51.699Z"
   },
   {
    "duration": 21,
    "start_time": "2025-02-08T16:02:51.718Z"
   },
   {
    "duration": 4,
    "start_time": "2025-02-08T16:06:54.819Z"
   },
   {
    "duration": 6,
    "start_time": "2025-02-08T16:06:55.044Z"
   },
   {
    "duration": 21,
    "start_time": "2025-02-08T16:06:55.245Z"
   },
   {
    "duration": 16,
    "start_time": "2025-02-08T16:06:55.463Z"
   },
   {
    "duration": 15,
    "start_time": "2025-02-08T16:06:55.725Z"
   },
   {
    "duration": 26,
    "start_time": "2025-02-08T16:06:58.995Z"
   },
   {
    "duration": 30,
    "start_time": "2025-02-08T16:06:59.302Z"
   },
   {
    "duration": 4,
    "start_time": "2025-02-08T16:06:59.776Z"
   },
   {
    "duration": 10,
    "start_time": "2025-02-08T16:07:06.931Z"
   },
   {
    "duration": 11,
    "start_time": "2025-02-08T16:07:07.290Z"
   },
   {
    "duration": 11,
    "start_time": "2025-02-08T16:07:07.463Z"
   },
   {
    "duration": 775,
    "start_time": "2025-02-08T16:07:07.642Z"
   },
   {
    "duration": 126,
    "start_time": "2025-02-08T16:07:08.419Z"
   },
   {
    "duration": 19,
    "start_time": "2025-02-08T16:07:11.047Z"
   },
   {
    "duration": 119,
    "start_time": "2025-02-08T16:12:22.712Z"
   },
   {
    "duration": 11,
    "start_time": "2025-02-08T16:12:23.957Z"
   },
   {
    "duration": 15,
    "start_time": "2025-02-08T16:17:27.951Z"
   },
   {
    "duration": 28,
    "start_time": "2025-02-08T16:17:29.743Z"
   },
   {
    "duration": 38,
    "start_time": "2025-02-08T16:17:42.501Z"
   },
   {
    "duration": 16,
    "start_time": "2025-02-08T16:18:26.583Z"
   },
   {
    "duration": 12,
    "start_time": "2025-02-08T16:19:10.024Z"
   },
   {
    "duration": 65,
    "start_time": "2025-02-08T16:19:17.697Z"
   },
   {
    "duration": 14,
    "start_time": "2025-02-08T16:20:10.569Z"
   },
   {
    "duration": 300,
    "start_time": "2025-02-08T16:24:33.639Z"
   },
   {
    "duration": 104,
    "start_time": "2025-02-08T16:24:43.496Z"
   },
   {
    "duration": 317,
    "start_time": "2025-02-08T16:25:35.480Z"
   },
   {
    "duration": 111,
    "start_time": "2025-02-08T16:25:42.275Z"
   },
   {
    "duration": 5,
    "start_time": "2025-02-08T16:43:02.005Z"
   },
   {
    "duration": 13,
    "start_time": "2025-02-08T16:44:06.275Z"
   },
   {
    "duration": 14,
    "start_time": "2025-02-08T16:47:40.596Z"
   },
   {
    "duration": 17,
    "start_time": "2025-02-08T16:47:44.773Z"
   },
   {
    "duration": 7,
    "start_time": "2025-02-08T17:44:47.712Z"
   },
   {
    "duration": 6,
    "start_time": "2025-02-08T17:52:01.072Z"
   },
   {
    "duration": 8,
    "start_time": "2025-02-08T17:52:58.058Z"
   },
   {
    "duration": 10,
    "start_time": "2025-02-08T17:53:14.879Z"
   },
   {
    "duration": 11,
    "start_time": "2025-02-08T17:53:37.630Z"
   },
   {
    "duration": 9,
    "start_time": "2025-02-08T17:54:01.757Z"
   },
   {
    "duration": 9,
    "start_time": "2025-02-08T17:54:17.937Z"
   },
   {
    "duration": 8,
    "start_time": "2025-02-08T18:03:37.296Z"
   },
   {
    "duration": 10,
    "start_time": "2025-02-08T18:30:39.091Z"
   },
   {
    "duration": 7,
    "start_time": "2025-02-08T18:30:51.602Z"
   },
   {
    "duration": 15,
    "start_time": "2025-02-08T18:41:54.825Z"
   },
   {
    "duration": 1256,
    "start_time": "2025-02-08T20:42:32.965Z"
   },
   {
    "duration": 2258,
    "start_time": "2025-02-08T20:42:34.223Z"
   },
   {
    "duration": 54,
    "start_time": "2025-02-08T20:42:36.483Z"
   },
   {
    "duration": 5,
    "start_time": "2025-02-08T20:42:36.539Z"
   },
   {
    "duration": 51,
    "start_time": "2025-02-08T20:42:36.545Z"
   },
   {
    "duration": 3235,
    "start_time": "2025-02-08T20:42:36.598Z"
   },
   {
    "duration": 248,
    "start_time": "2025-02-08T20:42:39.834Z"
   },
   {
    "duration": 36,
    "start_time": "2025-02-08T20:42:40.084Z"
   },
   {
    "duration": 27,
    "start_time": "2025-02-08T20:42:40.132Z"
   },
   {
    "duration": 16,
    "start_time": "2025-02-08T20:42:40.163Z"
   },
   {
    "duration": 67,
    "start_time": "2025-02-08T20:42:40.181Z"
   },
   {
    "duration": 20,
    "start_time": "2025-02-08T20:42:40.250Z"
   },
   {
    "duration": 600,
    "start_time": "2025-02-08T20:42:40.273Z"
   },
   {
    "duration": 16,
    "start_time": "2025-02-08T20:42:40.874Z"
   },
   {
    "duration": 207,
    "start_time": "2025-02-08T20:42:40.892Z"
   },
   {
    "duration": 61,
    "start_time": "2025-02-08T20:42:41.101Z"
   },
   {
    "duration": 42,
    "start_time": "2025-02-08T20:42:41.164Z"
   },
   {
    "duration": 47,
    "start_time": "2025-02-08T20:42:41.208Z"
   },
   {
    "duration": 19,
    "start_time": "2025-02-08T20:42:41.256Z"
   },
   {
    "duration": 137,
    "start_time": "2025-02-08T20:42:41.277Z"
   },
   {
    "duration": 17,
    "start_time": "2025-02-08T20:42:41.416Z"
   },
   {
    "duration": 20,
    "start_time": "2025-02-08T20:42:41.435Z"
   },
   {
    "duration": 44,
    "start_time": "2025-02-08T20:42:41.456Z"
   },
   {
    "duration": 43,
    "start_time": "2025-02-08T20:42:41.501Z"
   },
   {
    "duration": 15,
    "start_time": "2025-02-08T20:42:41.545Z"
   },
   {
    "duration": 11,
    "start_time": "2025-02-08T20:42:41.562Z"
   },
   {
    "duration": 20,
    "start_time": "2025-02-08T20:42:41.575Z"
   },
   {
    "duration": 166,
    "start_time": "2025-02-08T20:42:41.632Z"
   },
   {
    "duration": 139,
    "start_time": "2025-02-08T20:42:41.799Z"
   },
   {
    "duration": 35,
    "start_time": "2025-02-08T20:42:41.939Z"
   },
   {
    "duration": 98,
    "start_time": "2025-02-08T20:42:41.975Z"
   },
   {
    "duration": 93,
    "start_time": "2025-02-08T20:42:42.075Z"
   },
   {
    "duration": 11,
    "start_time": "2025-02-08T20:42:42.170Z"
   },
   {
    "duration": 176,
    "start_time": "2025-02-08T20:42:42.183Z"
   },
   {
    "duration": 92,
    "start_time": "2025-02-08T20:42:42.361Z"
   },
   {
    "duration": 17,
    "start_time": "2025-02-08T20:42:42.455Z"
   },
   {
    "duration": 12,
    "start_time": "2025-02-08T20:42:42.474Z"
   },
   {
    "duration": 24,
    "start_time": "2025-02-08T20:42:42.488Z"
   },
   {
    "duration": 220,
    "start_time": "2025-02-08T20:42:42.514Z"
   },
   {
    "duration": 26,
    "start_time": "2025-02-08T20:42:42.735Z"
   },
   {
    "duration": 30,
    "start_time": "2025-02-08T20:42:42.762Z"
   },
   {
    "duration": 50,
    "start_time": "2025-02-08T20:42:42.794Z"
   },
   {
    "duration": 26,
    "start_time": "2025-02-08T20:42:42.846Z"
   },
   {
    "duration": 14,
    "start_time": "2025-02-08T20:42:42.874Z"
   },
   {
    "duration": 37,
    "start_time": "2025-02-08T20:42:42.890Z"
   },
   {
    "duration": 32,
    "start_time": "2025-02-08T20:42:42.929Z"
   },
   {
    "duration": 328,
    "start_time": "2025-02-08T20:42:42.962Z"
   },
   {
    "duration": 15,
    "start_time": "2025-02-08T20:42:43.292Z"
   },
   {
    "duration": 39,
    "start_time": "2025-02-08T20:42:43.309Z"
   },
   {
    "duration": 37,
    "start_time": "2025-02-08T20:42:43.350Z"
   },
   {
    "duration": 6,
    "start_time": "2025-02-08T20:42:43.389Z"
   },
   {
    "duration": 90,
    "start_time": "2025-02-08T20:42:43.397Z"
   },
   {
    "duration": 32,
    "start_time": "2025-02-08T20:42:43.489Z"
   },
   {
    "duration": 17,
    "start_time": "2025-02-08T20:42:43.533Z"
   },
   {
    "duration": 22,
    "start_time": "2025-02-08T20:42:43.552Z"
   },
   {
    "duration": 35,
    "start_time": "2025-02-08T20:42:43.576Z"
   },
   {
    "duration": 114,
    "start_time": "2025-02-08T20:42:43.613Z"
   },
   {
    "duration": 21,
    "start_time": "2025-02-08T20:42:43.732Z"
   },
   {
    "duration": 23,
    "start_time": "2025-02-08T20:42:43.755Z"
   },
   {
    "duration": 7,
    "start_time": "2025-02-08T20:42:43.780Z"
   },
   {
    "duration": 11,
    "start_time": "2025-02-08T20:42:43.789Z"
   },
   {
    "duration": 34,
    "start_time": "2025-02-08T20:42:43.802Z"
   },
   {
    "duration": 16,
    "start_time": "2025-02-08T20:42:43.838Z"
   },
   {
    "duration": 16,
    "start_time": "2025-02-08T20:42:43.855Z"
   },
   {
    "duration": 25,
    "start_time": "2025-02-08T20:42:43.872Z"
   },
   {
    "duration": 58,
    "start_time": "2025-02-08T20:42:43.899Z"
   },
   {
    "duration": 4,
    "start_time": "2025-02-08T20:42:43.959Z"
   },
   {
    "duration": 10,
    "start_time": "2025-02-08T20:42:43.964Z"
   },
   {
    "duration": 10,
    "start_time": "2025-02-08T20:42:43.975Z"
   },
   {
    "duration": 10,
    "start_time": "2025-02-08T20:42:43.987Z"
   },
   {
    "duration": 559,
    "start_time": "2025-02-08T20:42:44.032Z"
   },
   {
    "duration": 121,
    "start_time": "2025-02-08T20:42:44.592Z"
   },
   {
    "duration": 125,
    "start_time": "2025-02-08T20:42:44.714Z"
   },
   {
    "duration": 0,
    "start_time": "2025-02-08T20:42:44.840Z"
   },
   {
    "duration": 0,
    "start_time": "2025-02-08T20:42:44.842Z"
   },
   {
    "duration": 0,
    "start_time": "2025-02-08T20:42:44.843Z"
   },
   {
    "duration": 0,
    "start_time": "2025-02-08T20:42:44.844Z"
   },
   {
    "duration": 0,
    "start_time": "2025-02-08T20:42:44.845Z"
   },
   {
    "duration": 0,
    "start_time": "2025-02-08T20:42:44.846Z"
   },
   {
    "duration": 0,
    "start_time": "2025-02-08T20:42:44.847Z"
   },
   {
    "duration": 17,
    "start_time": "2025-02-08T20:43:28.927Z"
   },
   {
    "duration": 8,
    "start_time": "2025-02-08T20:43:31.470Z"
   },
   {
    "duration": 16,
    "start_time": "2025-02-08T20:43:32.039Z"
   },
   {
    "duration": 1277,
    "start_time": "2025-02-08T20:44:10.544Z"
   },
   {
    "duration": 2135,
    "start_time": "2025-02-08T20:44:11.823Z"
   },
   {
    "duration": 40,
    "start_time": "2025-02-08T20:44:13.960Z"
   },
   {
    "duration": 4,
    "start_time": "2025-02-08T20:44:14.002Z"
   },
   {
    "duration": 70,
    "start_time": "2025-02-08T20:44:14.008Z"
   },
   {
    "duration": 3014,
    "start_time": "2025-02-08T20:44:14.079Z"
   },
   {
    "duration": 253,
    "start_time": "2025-02-08T20:44:17.095Z"
   },
   {
    "duration": 35,
    "start_time": "2025-02-08T20:44:17.349Z"
   },
   {
    "duration": 25,
    "start_time": "2025-02-08T20:44:17.386Z"
   },
   {
    "duration": 16,
    "start_time": "2025-02-08T20:44:17.434Z"
   },
   {
    "duration": 38,
    "start_time": "2025-02-08T20:44:17.452Z"
   },
   {
    "duration": 18,
    "start_time": "2025-02-08T20:44:17.491Z"
   },
   {
    "duration": 603,
    "start_time": "2025-02-08T20:44:17.532Z"
   },
   {
    "duration": 15,
    "start_time": "2025-02-08T20:44:18.137Z"
   },
   {
    "duration": 209,
    "start_time": "2025-02-08T20:44:18.154Z"
   },
   {
    "duration": 71,
    "start_time": "2025-02-08T20:44:18.365Z"
   },
   {
    "duration": 51,
    "start_time": "2025-02-08T20:44:18.438Z"
   },
   {
    "duration": 46,
    "start_time": "2025-02-08T20:44:18.491Z"
   },
   {
    "duration": 20,
    "start_time": "2025-02-08T20:44:18.538Z"
   },
   {
    "duration": 136,
    "start_time": "2025-02-08T20:44:18.560Z"
   },
   {
    "duration": 12,
    "start_time": "2025-02-08T20:44:18.698Z"
   },
   {
    "duration": 35,
    "start_time": "2025-02-08T20:44:18.712Z"
   },
   {
    "duration": 44,
    "start_time": "2025-02-08T20:44:18.748Z"
   },
   {
    "duration": 47,
    "start_time": "2025-02-08T20:44:18.794Z"
   },
   {
    "duration": 15,
    "start_time": "2025-02-08T20:44:18.843Z"
   },
   {
    "duration": 11,
    "start_time": "2025-02-08T20:44:18.860Z"
   },
   {
    "duration": 21,
    "start_time": "2025-02-08T20:44:18.872Z"
   },
   {
    "duration": 184,
    "start_time": "2025-02-08T20:44:18.897Z"
   },
   {
    "duration": 131,
    "start_time": "2025-02-08T20:44:19.083Z"
   },
   {
    "duration": 38,
    "start_time": "2025-02-08T20:44:19.216Z"
   },
   {
    "duration": 92,
    "start_time": "2025-02-08T20:44:19.256Z"
   },
   {
    "duration": 93,
    "start_time": "2025-02-08T20:44:19.350Z"
   },
   {
    "duration": 11,
    "start_time": "2025-02-08T20:44:19.445Z"
   },
   {
    "duration": 173,
    "start_time": "2025-02-08T20:44:19.457Z"
   },
   {
    "duration": 75,
    "start_time": "2025-02-08T20:44:19.633Z"
   },
   {
    "duration": 28,
    "start_time": "2025-02-08T20:44:19.710Z"
   },
   {
    "duration": 8,
    "start_time": "2025-02-08T20:44:19.740Z"
   },
   {
    "duration": 21,
    "start_time": "2025-02-08T20:44:19.750Z"
   },
   {
    "duration": 214,
    "start_time": "2025-02-08T20:44:19.773Z"
   },
   {
    "duration": 23,
    "start_time": "2025-02-08T20:44:19.988Z"
   },
   {
    "duration": 42,
    "start_time": "2025-02-08T20:44:20.013Z"
   },
   {
    "duration": 35,
    "start_time": "2025-02-08T20:44:20.057Z"
   },
   {
    "duration": 24,
    "start_time": "2025-02-08T20:44:20.093Z"
   },
   {
    "duration": 7,
    "start_time": "2025-02-08T20:44:20.118Z"
   },
   {
    "duration": 30,
    "start_time": "2025-02-08T20:44:20.126Z"
   },
   {
    "duration": 32,
    "start_time": "2025-02-08T20:44:20.158Z"
   },
   {
    "duration": 327,
    "start_time": "2025-02-08T20:44:20.191Z"
   },
   {
    "duration": 17,
    "start_time": "2025-02-08T20:44:20.520Z"
   },
   {
    "duration": 30,
    "start_time": "2025-02-08T20:44:20.539Z"
   },
   {
    "duration": 36,
    "start_time": "2025-02-08T20:44:20.571Z"
   },
   {
    "duration": 23,
    "start_time": "2025-02-08T20:44:20.609Z"
   },
   {
    "duration": 68,
    "start_time": "2025-02-08T20:44:20.634Z"
   },
   {
    "duration": 48,
    "start_time": "2025-02-08T20:44:20.704Z"
   },
   {
    "duration": 16,
    "start_time": "2025-02-08T20:44:20.753Z"
   },
   {
    "duration": 33,
    "start_time": "2025-02-08T20:44:20.771Z"
   },
   {
    "duration": 65,
    "start_time": "2025-02-08T20:44:20.806Z"
   },
   {
    "duration": 99,
    "start_time": "2025-02-08T20:44:20.874Z"
   },
   {
    "duration": 20,
    "start_time": "2025-02-08T20:44:20.975Z"
   },
   {
    "duration": 23,
    "start_time": "2025-02-08T20:44:20.998Z"
   },
   {
    "duration": 18,
    "start_time": "2025-02-08T20:44:21.023Z"
   },
   {
    "duration": 27,
    "start_time": "2025-02-08T20:44:21.042Z"
   },
   {
    "duration": 23,
    "start_time": "2025-02-08T20:44:21.071Z"
   },
   {
    "duration": 31,
    "start_time": "2025-02-08T20:44:21.096Z"
   },
   {
    "duration": 160,
    "start_time": "2025-02-08T20:44:21.129Z"
   },
   {
    "duration": 29,
    "start_time": "2025-02-08T20:44:21.291Z"
   },
   {
    "duration": 30,
    "start_time": "2025-02-08T20:44:21.322Z"
   },
   {
    "duration": 7,
    "start_time": "2025-02-08T20:44:21.354Z"
   },
   {
    "duration": 11,
    "start_time": "2025-02-08T20:44:21.363Z"
   },
   {
    "duration": 16,
    "start_time": "2025-02-08T20:44:21.376Z"
   },
   {
    "duration": 10,
    "start_time": "2025-02-08T20:44:21.393Z"
   },
   {
    "duration": 569,
    "start_time": "2025-02-08T20:44:21.404Z"
   },
   {
    "duration": 125,
    "start_time": "2025-02-08T20:44:21.975Z"
   },
   {
    "duration": 16,
    "start_time": "2025-02-08T20:44:22.102Z"
   },
   {
    "duration": 14,
    "start_time": "2025-02-08T20:44:22.120Z"
   },
   {
    "duration": 22,
    "start_time": "2025-02-08T20:44:22.136Z"
   },
   {
    "duration": 8,
    "start_time": "2025-02-08T20:44:22.160Z"
   },
   {
    "duration": 465,
    "start_time": "2025-02-08T20:44:22.170Z"
   },
   {
    "duration": 132,
    "start_time": "2025-02-08T20:44:22.637Z"
   },
   {
    "duration": 9,
    "start_time": "2025-02-08T20:44:22.771Z"
   },
   {
    "duration": 8,
    "start_time": "2025-02-08T20:44:22.781Z"
   },
   {
    "duration": 17,
    "start_time": "2025-02-08T20:45:25.485Z"
   },
   {
    "duration": 278,
    "start_time": "2025-02-08T20:52:48.657Z"
   },
   {
    "duration": 117,
    "start_time": "2025-02-08T20:54:04.094Z"
   },
   {
    "duration": 44,
    "start_time": "2025-02-08T20:56:22.522Z"
   },
   {
    "duration": 35,
    "start_time": "2025-02-08T20:58:03.301Z"
   },
   {
    "duration": 10,
    "start_time": "2025-02-08T20:59:41.586Z"
   },
   {
    "duration": 289,
    "start_time": "2025-02-08T20:59:49.563Z"
   },
   {
    "duration": 116,
    "start_time": "2025-02-08T20:59:53.881Z"
   },
   {
    "duration": 11,
    "start_time": "2025-02-08T21:01:13.717Z"
   },
   {
    "duration": 329,
    "start_time": "2025-02-08T21:01:50.403Z"
   },
   {
    "duration": 115,
    "start_time": "2025-02-08T21:01:51.685Z"
   },
   {
    "duration": 6,
    "start_time": "2025-02-08T21:03:47.456Z"
   },
   {
    "duration": 9,
    "start_time": "2025-02-08T21:03:49.751Z"
   },
   {
    "duration": 6,
    "start_time": "2025-02-08T21:25:48.035Z"
   },
   {
    "duration": 1314,
    "start_time": "2025-02-08T21:26:33.908Z"
   },
   {
    "duration": 2669,
    "start_time": "2025-02-08T21:26:35.224Z"
   },
   {
    "duration": 55,
    "start_time": "2025-02-08T21:26:37.897Z"
   },
   {
    "duration": 4,
    "start_time": "2025-02-08T21:26:37.954Z"
   },
   {
    "duration": 72,
    "start_time": "2025-02-08T21:26:37.960Z"
   },
   {
    "duration": 3224,
    "start_time": "2025-02-08T21:26:38.034Z"
   },
   {
    "duration": 242,
    "start_time": "2025-02-08T21:26:41.260Z"
   },
   {
    "duration": 45,
    "start_time": "2025-02-08T21:26:41.504Z"
   },
   {
    "duration": 28,
    "start_time": "2025-02-08T21:26:41.552Z"
   },
   {
    "duration": 17,
    "start_time": "2025-02-08T21:26:41.582Z"
   },
   {
    "duration": 55,
    "start_time": "2025-02-08T21:26:41.600Z"
   },
   {
    "duration": 18,
    "start_time": "2025-02-08T21:26:41.657Z"
   },
   {
    "duration": 573,
    "start_time": "2025-02-08T21:26:41.677Z"
   },
   {
    "duration": 15,
    "start_time": "2025-02-08T21:26:42.252Z"
   },
   {
    "duration": 191,
    "start_time": "2025-02-08T21:26:42.268Z"
   },
   {
    "duration": 59,
    "start_time": "2025-02-08T21:26:42.460Z"
   },
   {
    "duration": 53,
    "start_time": "2025-02-08T21:26:42.521Z"
   },
   {
    "duration": 24,
    "start_time": "2025-02-08T21:26:42.576Z"
   },
   {
    "duration": 40,
    "start_time": "2025-02-08T21:26:42.601Z"
   },
   {
    "duration": 132,
    "start_time": "2025-02-08T21:26:42.643Z"
   },
   {
    "duration": 13,
    "start_time": "2025-02-08T21:26:42.776Z"
   },
   {
    "duration": 18,
    "start_time": "2025-02-08T21:26:42.790Z"
   },
   {
    "duration": 60,
    "start_time": "2025-02-08T21:26:42.809Z"
   },
   {
    "duration": 28,
    "start_time": "2025-02-08T21:26:42.870Z"
   },
   {
    "duration": 37,
    "start_time": "2025-02-08T21:26:42.899Z"
   },
   {
    "duration": 13,
    "start_time": "2025-02-08T21:26:42.938Z"
   },
   {
    "duration": 21,
    "start_time": "2025-02-08T21:26:42.957Z"
   },
   {
    "duration": 183,
    "start_time": "2025-02-08T21:26:42.980Z"
   },
   {
    "duration": 120,
    "start_time": "2025-02-08T21:26:43.165Z"
   },
   {
    "duration": 49,
    "start_time": "2025-02-08T21:26:43.287Z"
   },
   {
    "duration": 142,
    "start_time": "2025-02-08T21:26:43.338Z"
   },
   {
    "duration": 95,
    "start_time": "2025-02-08T21:26:43.482Z"
   },
   {
    "duration": 14,
    "start_time": "2025-02-08T21:26:43.579Z"
   },
   {
    "duration": 188,
    "start_time": "2025-02-08T21:26:43.595Z"
   },
   {
    "duration": 89,
    "start_time": "2025-02-08T21:26:43.785Z"
   },
   {
    "duration": 17,
    "start_time": "2025-02-08T21:26:43.876Z"
   },
   {
    "duration": 8,
    "start_time": "2025-02-08T21:26:43.895Z"
   },
   {
    "duration": 45,
    "start_time": "2025-02-08T21:26:43.905Z"
   },
   {
    "duration": 193,
    "start_time": "2025-02-08T21:26:43.952Z"
   },
   {
    "duration": 25,
    "start_time": "2025-02-08T21:26:44.148Z"
   },
   {
    "duration": 30,
    "start_time": "2025-02-08T21:26:44.175Z"
   },
   {
    "duration": 50,
    "start_time": "2025-02-08T21:26:44.207Z"
   },
   {
    "duration": 24,
    "start_time": "2025-02-08T21:26:44.259Z"
   },
   {
    "duration": 8,
    "start_time": "2025-02-08T21:26:44.285Z"
   },
   {
    "duration": 48,
    "start_time": "2025-02-08T21:26:44.294Z"
   },
   {
    "duration": 25,
    "start_time": "2025-02-08T21:26:44.344Z"
   },
   {
    "duration": 313,
    "start_time": "2025-02-08T21:26:44.371Z"
   },
   {
    "duration": 15,
    "start_time": "2025-02-08T21:26:44.685Z"
   },
   {
    "duration": 39,
    "start_time": "2025-02-08T21:26:44.701Z"
   },
   {
    "duration": 37,
    "start_time": "2025-02-08T21:26:44.742Z"
   },
   {
    "duration": 6,
    "start_time": "2025-02-08T21:26:44.780Z"
   },
   {
    "duration": 82,
    "start_time": "2025-02-08T21:26:44.787Z"
   },
   {
    "duration": 29,
    "start_time": "2025-02-08T21:26:44.871Z"
   },
   {
    "duration": 31,
    "start_time": "2025-02-08T21:26:44.902Z"
   },
   {
    "duration": 19,
    "start_time": "2025-02-08T21:26:44.934Z"
   },
   {
    "duration": 71,
    "start_time": "2025-02-08T21:26:44.954Z"
   },
   {
    "duration": 106,
    "start_time": "2025-02-08T21:26:45.027Z"
   },
   {
    "duration": 22,
    "start_time": "2025-02-08T21:26:45.134Z"
   },
   {
    "duration": 19,
    "start_time": "2025-02-08T21:26:45.159Z"
   },
   {
    "duration": 45,
    "start_time": "2025-02-08T21:26:45.180Z"
   },
   {
    "duration": 30,
    "start_time": "2025-02-08T21:26:45.227Z"
   },
   {
    "duration": 25,
    "start_time": "2025-02-08T21:26:45.259Z"
   },
   {
    "duration": 16,
    "start_time": "2025-02-08T21:26:45.286Z"
   },
   {
    "duration": 159,
    "start_time": "2025-02-08T21:26:45.305Z"
   },
   {
    "duration": 46,
    "start_time": "2025-02-08T21:26:45.466Z"
   },
   {
    "duration": 33,
    "start_time": "2025-02-08T21:26:45.514Z"
   },
   {
    "duration": 4,
    "start_time": "2025-02-08T21:26:45.549Z"
   },
   {
    "duration": 26,
    "start_time": "2025-02-08T21:26:45.555Z"
   },
   {
    "duration": 27,
    "start_time": "2025-02-08T21:26:45.584Z"
   },
   {
    "duration": 16,
    "start_time": "2025-02-08T21:26:45.612Z"
   },
   {
    "duration": 567,
    "start_time": "2025-02-08T21:26:45.630Z"
   },
   {
    "duration": 132,
    "start_time": "2025-02-08T21:26:46.200Z"
   },
   {
    "duration": 18,
    "start_time": "2025-02-08T21:26:46.334Z"
   },
   {
    "duration": 23,
    "start_time": "2025-02-08T21:26:46.354Z"
   },
   {
    "duration": 65,
    "start_time": "2025-02-08T21:26:46.379Z"
   },
   {
    "duration": 24,
    "start_time": "2025-02-08T21:26:46.445Z"
   },
   {
    "duration": 418,
    "start_time": "2025-02-08T21:26:46.471Z"
   },
   {
    "duration": 121,
    "start_time": "2025-02-08T21:26:46.891Z"
   },
   {
    "duration": 21,
    "start_time": "2025-02-08T21:26:47.013Z"
   },
   {
    "duration": 20,
    "start_time": "2025-02-08T21:26:47.036Z"
   },
   {
    "duration": 15,
    "start_time": "2025-02-08T21:26:47.062Z"
   },
   {
    "duration": 1279,
    "start_time": "2025-02-08T21:43:03.639Z"
   },
   {
    "duration": 2122,
    "start_time": "2025-02-08T21:43:04.920Z"
   },
   {
    "duration": 39,
    "start_time": "2025-02-08T21:43:07.045Z"
   },
   {
    "duration": 5,
    "start_time": "2025-02-08T21:43:07.087Z"
   },
   {
    "duration": 71,
    "start_time": "2025-02-08T21:43:07.093Z"
   },
   {
    "duration": 3513,
    "start_time": "2025-02-08T21:43:07.166Z"
   },
   {
    "duration": 250,
    "start_time": "2025-02-08T21:43:10.680Z"
   },
   {
    "duration": 35,
    "start_time": "2025-02-08T21:43:10.932Z"
   },
   {
    "duration": 26,
    "start_time": "2025-02-08T21:43:10.969Z"
   },
   {
    "duration": 38,
    "start_time": "2025-02-08T21:43:10.998Z"
   },
   {
    "duration": 33,
    "start_time": "2025-02-08T21:43:11.038Z"
   },
   {
    "duration": 34,
    "start_time": "2025-02-08T21:43:11.073Z"
   },
   {
    "duration": 572,
    "start_time": "2025-02-08T21:43:11.109Z"
   },
   {
    "duration": 15,
    "start_time": "2025-02-08T21:43:11.683Z"
   },
   {
    "duration": 208,
    "start_time": "2025-02-08T21:43:11.700Z"
   },
   {
    "duration": 69,
    "start_time": "2025-02-08T21:43:11.910Z"
   },
   {
    "duration": 41,
    "start_time": "2025-02-08T21:43:11.981Z"
   },
   {
    "duration": 25,
    "start_time": "2025-02-08T21:43:12.033Z"
   },
   {
    "duration": 20,
    "start_time": "2025-02-08T21:43:12.059Z"
   },
   {
    "duration": 142,
    "start_time": "2025-02-08T21:43:12.081Z"
   },
   {
    "duration": 19,
    "start_time": "2025-02-08T21:43:12.224Z"
   },
   {
    "duration": 22,
    "start_time": "2025-02-08T21:43:12.245Z"
   },
   {
    "duration": 42,
    "start_time": "2025-02-08T21:43:12.269Z"
   },
   {
    "duration": 53,
    "start_time": "2025-02-08T21:43:12.313Z"
   },
   {
    "duration": 14,
    "start_time": "2025-02-08T21:43:12.368Z"
   },
   {
    "duration": 17,
    "start_time": "2025-02-08T21:43:12.384Z"
   },
   {
    "duration": 32,
    "start_time": "2025-02-08T21:43:12.403Z"
   },
   {
    "duration": 165,
    "start_time": "2025-02-08T21:43:12.440Z"
   },
   {
    "duration": 133,
    "start_time": "2025-02-08T21:43:12.606Z"
   },
   {
    "duration": 33,
    "start_time": "2025-02-08T21:43:12.741Z"
   },
   {
    "duration": 97,
    "start_time": "2025-02-08T21:43:12.776Z"
   },
   {
    "duration": 92,
    "start_time": "2025-02-08T21:43:12.875Z"
   },
   {
    "duration": 11,
    "start_time": "2025-02-08T21:43:12.969Z"
   },
   {
    "duration": 180,
    "start_time": "2025-02-08T21:43:12.982Z"
   },
   {
    "duration": 83,
    "start_time": "2025-02-08T21:43:13.163Z"
   },
   {
    "duration": 16,
    "start_time": "2025-02-08T21:43:13.247Z"
   },
   {
    "duration": 9,
    "start_time": "2025-02-08T21:43:13.264Z"
   },
   {
    "duration": 37,
    "start_time": "2025-02-08T21:43:13.275Z"
   },
   {
    "duration": 197,
    "start_time": "2025-02-08T21:43:13.313Z"
   },
   {
    "duration": 32,
    "start_time": "2025-02-08T21:43:13.512Z"
   },
   {
    "duration": 28,
    "start_time": "2025-02-08T21:43:13.546Z"
   },
   {
    "duration": 27,
    "start_time": "2025-02-08T21:43:13.576Z"
   },
   {
    "duration": 40,
    "start_time": "2025-02-08T21:43:13.605Z"
   },
   {
    "duration": 5,
    "start_time": "2025-02-08T21:43:13.647Z"
   },
   {
    "duration": 35,
    "start_time": "2025-02-08T21:43:13.654Z"
   },
   {
    "duration": 49,
    "start_time": "2025-02-08T21:43:13.690Z"
   },
   {
    "duration": 306,
    "start_time": "2025-02-08T21:43:13.741Z"
   },
   {
    "duration": 13,
    "start_time": "2025-02-08T21:43:14.049Z"
   },
   {
    "duration": 30,
    "start_time": "2025-02-08T21:43:14.064Z"
   },
   {
    "duration": 53,
    "start_time": "2025-02-08T21:43:14.095Z"
   },
   {
    "duration": 7,
    "start_time": "2025-02-08T21:43:14.149Z"
   },
   {
    "duration": 82,
    "start_time": "2025-02-08T21:43:14.157Z"
   },
   {
    "duration": 31,
    "start_time": "2025-02-08T21:43:14.242Z"
   },
   {
    "duration": 16,
    "start_time": "2025-02-08T21:43:14.274Z"
   },
   {
    "duration": 41,
    "start_time": "2025-02-08T21:43:14.292Z"
   },
   {
    "duration": 32,
    "start_time": "2025-02-08T21:43:14.335Z"
   },
   {
    "duration": 108,
    "start_time": "2025-02-08T21:43:14.369Z"
   },
   {
    "duration": 20,
    "start_time": "2025-02-08T21:43:14.479Z"
   },
   {
    "duration": 7,
    "start_time": "2025-02-08T21:43:14.501Z"
   },
   {
    "duration": 24,
    "start_time": "2025-02-08T21:43:14.510Z"
   },
   {
    "duration": 12,
    "start_time": "2025-02-08T21:43:14.536Z"
   },
   {
    "duration": 22,
    "start_time": "2025-02-08T21:43:14.550Z"
   },
   {
    "duration": 16,
    "start_time": "2025-02-08T21:43:14.574Z"
   },
   {
    "duration": 52,
    "start_time": "2025-02-08T21:43:14.592Z"
   },
   {
    "duration": 24,
    "start_time": "2025-02-08T21:43:14.646Z"
   },
   {
    "duration": 30,
    "start_time": "2025-02-08T21:43:14.672Z"
   },
   {
    "duration": 30,
    "start_time": "2025-02-08T21:43:14.704Z"
   },
   {
    "duration": 11,
    "start_time": "2025-02-08T21:43:14.735Z"
   },
   {
    "duration": 10,
    "start_time": "2025-02-08T21:43:14.748Z"
   },
   {
    "duration": 10,
    "start_time": "2025-02-08T21:43:14.759Z"
   },
   {
    "duration": 601,
    "start_time": "2025-02-08T21:43:14.771Z"
   },
   {
    "duration": 125,
    "start_time": "2025-02-08T21:43:15.374Z"
   },
   {
    "duration": 17,
    "start_time": "2025-02-08T21:43:15.501Z"
   },
   {
    "duration": 19,
    "start_time": "2025-02-08T21:43:15.520Z"
   },
   {
    "duration": 18,
    "start_time": "2025-02-08T21:43:15.541Z"
   },
   {
    "duration": 9,
    "start_time": "2025-02-08T21:43:15.561Z"
   },
   {
    "duration": 423,
    "start_time": "2025-02-08T21:43:15.572Z"
   },
   {
    "duration": 123,
    "start_time": "2025-02-08T21:43:15.997Z"
   },
   {
    "duration": 17,
    "start_time": "2025-02-08T21:43:16.121Z"
   },
   {
    "duration": 7,
    "start_time": "2025-02-08T21:43:16.140Z"
   },
   {
    "duration": 11,
    "start_time": "2025-02-08T21:43:16.149Z"
   },
   {
    "duration": 112,
    "start_time": "2025-02-08T21:43:24.709Z"
   },
   {
    "duration": 6,
    "start_time": "2025-02-08T21:45:58.705Z"
   },
   {
    "duration": 13,
    "start_time": "2025-02-08T21:46:17.517Z"
   },
   {
    "duration": 10,
    "start_time": "2025-02-08T21:46:24.822Z"
   },
   {
    "duration": 10,
    "start_time": "2025-02-08T21:48:25.330Z"
   },
   {
    "duration": 8,
    "start_time": "2025-02-08T21:49:57.863Z"
   },
   {
    "duration": 1102,
    "start_time": "2025-02-08T22:00:34.616Z"
   },
   {
    "duration": 6,
    "start_time": "2025-02-08T22:01:42.797Z"
   },
   {
    "duration": 12,
    "start_time": "2025-02-08T22:01:57.517Z"
   },
   {
    "duration": 8,
    "start_time": "2025-02-08T22:05:45.765Z"
   },
   {
    "duration": 11,
    "start_time": "2025-02-08T22:06:01.749Z"
   },
   {
    "duration": 1294,
    "start_time": "2025-02-08T22:06:16.929Z"
   },
   {
    "duration": 2165,
    "start_time": "2025-02-08T22:06:18.225Z"
   },
   {
    "duration": 44,
    "start_time": "2025-02-08T22:06:20.392Z"
   },
   {
    "duration": 4,
    "start_time": "2025-02-08T22:06:20.438Z"
   },
   {
    "duration": 61,
    "start_time": "2025-02-08T22:06:20.444Z"
   },
   {
    "duration": 3321,
    "start_time": "2025-02-08T22:06:20.508Z"
   },
   {
    "duration": 248,
    "start_time": "2025-02-08T22:06:23.832Z"
   },
   {
    "duration": 51,
    "start_time": "2025-02-08T22:06:24.082Z"
   },
   {
    "duration": 28,
    "start_time": "2025-02-08T22:06:24.134Z"
   },
   {
    "duration": 16,
    "start_time": "2025-02-08T22:06:24.165Z"
   },
   {
    "duration": 52,
    "start_time": "2025-02-08T22:06:24.183Z"
   },
   {
    "duration": 18,
    "start_time": "2025-02-08T22:06:24.236Z"
   },
   {
    "duration": 572,
    "start_time": "2025-02-08T22:06:24.256Z"
   },
   {
    "duration": 17,
    "start_time": "2025-02-08T22:06:24.833Z"
   },
   {
    "duration": 203,
    "start_time": "2025-02-08T22:06:24.851Z"
   },
   {
    "duration": 62,
    "start_time": "2025-02-08T22:06:25.056Z"
   },
   {
    "duration": 48,
    "start_time": "2025-02-08T22:06:25.132Z"
   },
   {
    "duration": 25,
    "start_time": "2025-02-08T22:06:25.182Z"
   },
   {
    "duration": 38,
    "start_time": "2025-02-08T22:06:25.209Z"
   },
   {
    "duration": 136,
    "start_time": "2025-02-08T22:06:25.249Z"
   },
   {
    "duration": 13,
    "start_time": "2025-02-08T22:06:25.386Z"
   },
   {
    "duration": 33,
    "start_time": "2025-02-08T22:06:25.401Z"
   },
   {
    "duration": 43,
    "start_time": "2025-02-08T22:06:25.436Z"
   },
   {
    "duration": 68,
    "start_time": "2025-02-08T22:06:25.481Z"
   },
   {
    "duration": 25,
    "start_time": "2025-02-08T22:06:25.551Z"
   },
   {
    "duration": 11,
    "start_time": "2025-02-08T22:06:25.578Z"
   },
   {
    "duration": 20,
    "start_time": "2025-02-08T22:06:25.591Z"
   },
   {
    "duration": 168,
    "start_time": "2025-02-08T22:06:25.632Z"
   },
   {
    "duration": 117,
    "start_time": "2025-02-08T22:06:25.802Z"
   },
   {
    "duration": 39,
    "start_time": "2025-02-08T22:06:25.921Z"
   },
   {
    "duration": 108,
    "start_time": "2025-02-08T22:06:25.962Z"
   },
   {
    "duration": 105,
    "start_time": "2025-02-08T22:06:26.072Z"
   },
   {
    "duration": 13,
    "start_time": "2025-02-08T22:06:26.179Z"
   },
   {
    "duration": 177,
    "start_time": "2025-02-08T22:06:26.193Z"
   },
   {
    "duration": 84,
    "start_time": "2025-02-08T22:06:26.371Z"
   },
   {
    "duration": 15,
    "start_time": "2025-02-08T22:06:26.457Z"
   },
   {
    "duration": 35,
    "start_time": "2025-02-08T22:06:26.474Z"
   },
   {
    "duration": 21,
    "start_time": "2025-02-08T22:06:26.511Z"
   },
   {
    "duration": 187,
    "start_time": "2025-02-08T22:06:26.534Z"
   },
   {
    "duration": 27,
    "start_time": "2025-02-08T22:06:26.723Z"
   },
   {
    "duration": 29,
    "start_time": "2025-02-08T22:06:26.752Z"
   },
   {
    "duration": 36,
    "start_time": "2025-02-08T22:06:26.783Z"
   },
   {
    "duration": 29,
    "start_time": "2025-02-08T22:06:26.821Z"
   },
   {
    "duration": 17,
    "start_time": "2025-02-08T22:06:26.852Z"
   },
   {
    "duration": 27,
    "start_time": "2025-02-08T22:06:26.871Z"
   },
   {
    "duration": 42,
    "start_time": "2025-02-08T22:06:26.899Z"
   },
   {
    "duration": 326,
    "start_time": "2025-02-08T22:06:26.943Z"
   },
   {
    "duration": 15,
    "start_time": "2025-02-08T22:06:27.271Z"
   },
   {
    "duration": 46,
    "start_time": "2025-02-08T22:06:27.287Z"
   },
   {
    "duration": 38,
    "start_time": "2025-02-08T22:06:27.335Z"
   },
   {
    "duration": 6,
    "start_time": "2025-02-08T22:06:27.375Z"
   },
   {
    "duration": 92,
    "start_time": "2025-02-08T22:06:27.383Z"
   },
   {
    "duration": 30,
    "start_time": "2025-02-08T22:06:27.477Z"
   },
   {
    "duration": 92,
    "start_time": "2025-02-08T22:06:27.509Z"
   },
   {
    "duration": 26,
    "start_time": "2025-02-08T22:06:27.603Z"
   },
   {
    "duration": 27,
    "start_time": "2025-02-08T22:06:27.631Z"
   },
   {
    "duration": 114,
    "start_time": "2025-02-08T22:06:27.660Z"
   },
   {
    "duration": 22,
    "start_time": "2025-02-08T22:06:27.777Z"
   },
   {
    "duration": 9,
    "start_time": "2025-02-08T22:06:27.801Z"
   },
   {
    "duration": 27,
    "start_time": "2025-02-08T22:06:27.812Z"
   },
   {
    "duration": 18,
    "start_time": "2025-02-08T22:06:27.841Z"
   },
   {
    "duration": 22,
    "start_time": "2025-02-08T22:06:27.860Z"
   },
   {
    "duration": 16,
    "start_time": "2025-02-08T22:06:27.884Z"
   },
   {
    "duration": 38,
    "start_time": "2025-02-08T22:06:27.901Z"
   },
   {
    "duration": 78,
    "start_time": "2025-02-08T22:06:27.940Z"
   },
   {
    "duration": 31,
    "start_time": "2025-02-08T22:06:28.020Z"
   },
   {
    "duration": 3,
    "start_time": "2025-02-08T22:06:28.053Z"
   },
   {
    "duration": 14,
    "start_time": "2025-02-08T22:06:28.058Z"
   },
   {
    "duration": 15,
    "start_time": "2025-02-08T22:06:28.074Z"
   },
   {
    "duration": 19,
    "start_time": "2025-02-08T22:06:28.091Z"
   },
   {
    "duration": 570,
    "start_time": "2025-02-08T22:06:28.111Z"
   },
   {
    "duration": 123,
    "start_time": "2025-02-08T22:06:28.683Z"
   },
   {
    "duration": 24,
    "start_time": "2025-02-08T22:06:28.808Z"
   },
   {
    "duration": 9,
    "start_time": "2025-02-08T22:06:28.834Z"
   },
   {
    "duration": 15,
    "start_time": "2025-02-08T22:06:28.844Z"
   },
   {
    "duration": 8,
    "start_time": "2025-02-08T22:06:28.861Z"
   },
   {
    "duration": 438,
    "start_time": "2025-02-08T22:06:28.870Z"
   },
   {
    "duration": 131,
    "start_time": "2025-02-08T22:06:29.310Z"
   },
   {
    "duration": 9,
    "start_time": "2025-02-08T22:06:29.442Z"
   },
   {
    "duration": 145,
    "start_time": "2025-02-08T22:06:29.453Z"
   },
   {
    "duration": 11,
    "start_time": "2025-02-08T22:06:29.599Z"
   },
   {
    "duration": 7,
    "start_time": "2025-02-08T22:06:29.617Z"
   },
   {
    "duration": 17,
    "start_time": "2025-02-08T22:06:29.625Z"
   },
   {
    "duration": 11,
    "start_time": "2025-02-08T22:07:00.319Z"
   },
   {
    "duration": 11,
    "start_time": "2025-02-08T22:07:56.061Z"
   },
   {
    "duration": 116,
    "start_time": "2025-02-08T22:16:04.691Z"
   },
   {
    "duration": 6,
    "start_time": "2025-02-08T22:17:52.240Z"
   },
   {
    "duration": 21,
    "start_time": "2025-02-08T22:18:33.730Z"
   },
   {
    "duration": 15,
    "start_time": "2025-02-08T22:18:37.535Z"
   },
   {
    "duration": 19,
    "start_time": "2025-02-08T22:19:17.413Z"
   },
   {
    "duration": 19,
    "start_time": "2025-02-08T22:19:47.978Z"
   },
   {
    "duration": 19,
    "start_time": "2025-02-08T22:19:51.102Z"
   },
   {
    "duration": 5,
    "start_time": "2025-02-08T22:22:35.194Z"
   },
   {
    "duration": 5,
    "start_time": "2025-02-08T22:22:38.839Z"
   },
   {
    "duration": 5,
    "start_time": "2025-02-08T22:23:27.853Z"
   },
   {
    "duration": 4,
    "start_time": "2025-02-08T22:31:24.749Z"
   },
   {
    "duration": 6,
    "start_time": "2025-02-08T22:31:37.209Z"
   },
   {
    "duration": 8,
    "start_time": "2025-02-08T22:33:21.599Z"
   },
   {
    "duration": 9,
    "start_time": "2025-02-08T22:33:41.963Z"
   },
   {
    "duration": 3,
    "start_time": "2025-02-08T22:34:47.646Z"
   },
   {
    "duration": 4,
    "start_time": "2025-02-08T22:34:56.487Z"
   },
   {
    "duration": 201,
    "start_time": "2025-02-08T22:44:35.252Z"
   },
   {
    "duration": 186,
    "start_time": "2025-02-08T22:48:31.757Z"
   },
   {
    "duration": 221,
    "start_time": "2025-02-08T22:49:37.008Z"
   },
   {
    "duration": 1294,
    "start_time": "2025-02-08T22:56:04.936Z"
   },
   {
    "duration": 2363,
    "start_time": "2025-02-08T22:56:06.232Z"
   },
   {
    "duration": 49,
    "start_time": "2025-02-08T22:56:08.597Z"
   },
   {
    "duration": 4,
    "start_time": "2025-02-08T22:56:08.648Z"
   },
   {
    "duration": 76,
    "start_time": "2025-02-08T22:56:08.654Z"
   },
   {
    "duration": 3076,
    "start_time": "2025-02-08T22:56:08.731Z"
   },
   {
    "duration": 241,
    "start_time": "2025-02-08T22:56:11.808Z"
   },
   {
    "duration": 35,
    "start_time": "2025-02-08T22:56:12.051Z"
   },
   {
    "duration": 25,
    "start_time": "2025-02-08T22:56:12.088Z"
   },
   {
    "duration": 16,
    "start_time": "2025-02-08T22:56:12.132Z"
   },
   {
    "duration": 33,
    "start_time": "2025-02-08T22:56:12.150Z"
   },
   {
    "duration": 17,
    "start_time": "2025-02-08T22:56:12.185Z"
   },
   {
    "duration": 598,
    "start_time": "2025-02-08T22:56:12.203Z"
   },
   {
    "duration": 16,
    "start_time": "2025-02-08T22:56:12.803Z"
   },
   {
    "duration": 193,
    "start_time": "2025-02-08T22:56:12.833Z"
   },
   {
    "duration": 59,
    "start_time": "2025-02-08T22:56:13.032Z"
   },
   {
    "duration": 59,
    "start_time": "2025-02-08T22:56:13.093Z"
   },
   {
    "duration": 25,
    "start_time": "2025-02-08T22:56:13.154Z"
   },
   {
    "duration": 20,
    "start_time": "2025-02-08T22:56:13.180Z"
   },
   {
    "duration": 145,
    "start_time": "2025-02-08T22:56:13.201Z"
   },
   {
    "duration": 13,
    "start_time": "2025-02-08T22:56:13.348Z"
   },
   {
    "duration": 18,
    "start_time": "2025-02-08T22:56:13.363Z"
   },
   {
    "duration": 63,
    "start_time": "2025-02-08T22:56:13.383Z"
   },
   {
    "duration": 27,
    "start_time": "2025-02-08T22:56:13.448Z"
   },
   {
    "duration": 15,
    "start_time": "2025-02-08T22:56:13.477Z"
   },
   {
    "duration": 44,
    "start_time": "2025-02-08T22:56:13.494Z"
   },
   {
    "duration": 21,
    "start_time": "2025-02-08T22:56:13.539Z"
   },
   {
    "duration": 172,
    "start_time": "2025-02-08T22:56:13.565Z"
   },
   {
    "duration": 122,
    "start_time": "2025-02-08T22:56:13.739Z"
   },
   {
    "duration": 34,
    "start_time": "2025-02-08T22:56:13.863Z"
   },
   {
    "duration": 100,
    "start_time": "2025-02-08T22:56:13.899Z"
   },
   {
    "duration": 91,
    "start_time": "2025-02-08T22:56:14.001Z"
   },
   {
    "duration": 11,
    "start_time": "2025-02-08T22:56:14.094Z"
   },
   {
    "duration": 169,
    "start_time": "2025-02-08T22:56:14.107Z"
   },
   {
    "duration": 88,
    "start_time": "2025-02-08T22:56:14.278Z"
   },
   {
    "duration": 15,
    "start_time": "2025-02-08T22:56:14.367Z"
   },
   {
    "duration": 7,
    "start_time": "2025-02-08T22:56:14.384Z"
   },
   {
    "duration": 40,
    "start_time": "2025-02-08T22:56:14.393Z"
   },
   {
    "duration": 205,
    "start_time": "2025-02-08T22:56:14.435Z"
   },
   {
    "duration": 24,
    "start_time": "2025-02-08T22:56:14.641Z"
   },
   {
    "duration": 28,
    "start_time": "2025-02-08T22:56:14.667Z"
   },
   {
    "duration": 46,
    "start_time": "2025-02-08T22:56:14.697Z"
   },
   {
    "duration": 21,
    "start_time": "2025-02-08T22:56:14.744Z"
   },
   {
    "duration": 6,
    "start_time": "2025-02-08T22:56:14.766Z"
   },
   {
    "duration": 25,
    "start_time": "2025-02-08T22:56:14.773Z"
   },
   {
    "duration": 55,
    "start_time": "2025-02-08T22:56:14.800Z"
   },
   {
    "duration": 317,
    "start_time": "2025-02-08T22:56:14.857Z"
   },
   {
    "duration": 14,
    "start_time": "2025-02-08T22:56:15.176Z"
   },
   {
    "duration": 48,
    "start_time": "2025-02-08T22:56:15.191Z"
   },
   {
    "duration": 36,
    "start_time": "2025-02-08T22:56:15.241Z"
   },
   {
    "duration": 6,
    "start_time": "2025-02-08T22:56:15.279Z"
   },
   {
    "duration": 89,
    "start_time": "2025-02-08T22:56:15.287Z"
   },
   {
    "duration": 31,
    "start_time": "2025-02-08T22:56:15.377Z"
   },
   {
    "duration": 32,
    "start_time": "2025-02-08T22:56:15.409Z"
   },
   {
    "duration": 15,
    "start_time": "2025-02-08T22:56:15.443Z"
   },
   {
    "duration": 29,
    "start_time": "2025-02-08T22:56:15.460Z"
   },
   {
    "duration": 123,
    "start_time": "2025-02-08T22:56:15.491Z"
   },
   {
    "duration": 24,
    "start_time": "2025-02-08T22:56:15.616Z"
   },
   {
    "duration": 68,
    "start_time": "2025-02-08T22:56:15.642Z"
   },
   {
    "duration": 91,
    "start_time": "2025-02-08T22:56:15.712Z"
   },
   {
    "duration": 11,
    "start_time": "2025-02-08T22:56:15.805Z"
   },
   {
    "duration": 21,
    "start_time": "2025-02-08T22:56:15.817Z"
   },
   {
    "duration": 15,
    "start_time": "2025-02-08T22:56:15.840Z"
   },
   {
    "duration": 19,
    "start_time": "2025-02-08T22:56:15.857Z"
   },
   {
    "duration": 24,
    "start_time": "2025-02-08T22:56:15.878Z"
   },
   {
    "duration": 46,
    "start_time": "2025-02-08T22:56:15.904Z"
   },
   {
    "duration": 4,
    "start_time": "2025-02-08T22:56:15.952Z"
   },
   {
    "duration": 11,
    "start_time": "2025-02-08T22:56:15.957Z"
   },
   {
    "duration": 11,
    "start_time": "2025-02-08T22:56:15.970Z"
   },
   {
    "duration": 10,
    "start_time": "2025-02-08T22:56:15.983Z"
   },
   {
    "duration": 580,
    "start_time": "2025-02-08T22:56:15.996Z"
   },
   {
    "duration": 119,
    "start_time": "2025-02-08T22:56:16.578Z"
   },
   {
    "duration": 17,
    "start_time": "2025-02-08T22:56:16.698Z"
   },
   {
    "duration": 21,
    "start_time": "2025-02-08T22:56:16.716Z"
   },
   {
    "duration": 15,
    "start_time": "2025-02-08T22:56:16.739Z"
   },
   {
    "duration": 8,
    "start_time": "2025-02-08T22:56:16.756Z"
   },
   {
    "duration": 430,
    "start_time": "2025-02-08T22:56:16.765Z"
   },
   {
    "duration": 126,
    "start_time": "2025-02-08T22:56:17.196Z"
   },
   {
    "duration": 10,
    "start_time": "2025-02-08T22:56:17.324Z"
   },
   {
    "duration": 14,
    "start_time": "2025-02-08T22:56:17.336Z"
   },
   {
    "duration": 22,
    "start_time": "2025-02-08T22:56:17.351Z"
   },
   {
    "duration": 6,
    "start_time": "2025-02-08T22:56:17.378Z"
   },
   {
    "duration": 17,
    "start_time": "2025-02-08T22:56:17.386Z"
   },
   {
    "duration": 29,
    "start_time": "2025-02-08T22:56:17.405Z"
   },
   {
    "duration": 6,
    "start_time": "2025-02-08T22:56:17.436Z"
   },
   {
    "duration": 1308,
    "start_time": "2025-02-08T22:56:43.693Z"
   },
   {
    "duration": 2336,
    "start_time": "2025-02-08T22:56:45.003Z"
   },
   {
    "duration": 40,
    "start_time": "2025-02-08T22:56:47.341Z"
   },
   {
    "duration": 5,
    "start_time": "2025-02-08T22:56:47.383Z"
   },
   {
    "duration": 67,
    "start_time": "2025-02-08T22:56:47.389Z"
   },
   {
    "duration": 3250,
    "start_time": "2025-02-08T22:56:47.458Z"
   },
   {
    "duration": 244,
    "start_time": "2025-02-08T22:56:50.710Z"
   },
   {
    "duration": 36,
    "start_time": "2025-02-08T22:56:50.956Z"
   },
   {
    "duration": 43,
    "start_time": "2025-02-08T22:56:50.993Z"
   },
   {
    "duration": 16,
    "start_time": "2025-02-08T22:56:51.040Z"
   },
   {
    "duration": 54,
    "start_time": "2025-02-08T22:56:51.057Z"
   },
   {
    "duration": 21,
    "start_time": "2025-02-08T22:56:51.113Z"
   },
   {
    "duration": 591,
    "start_time": "2025-02-08T22:56:51.136Z"
   },
   {
    "duration": 16,
    "start_time": "2025-02-08T22:56:51.732Z"
   },
   {
    "duration": 195,
    "start_time": "2025-02-08T22:56:51.749Z"
   },
   {
    "duration": 61,
    "start_time": "2025-02-08T22:56:51.945Z"
   },
   {
    "duration": 56,
    "start_time": "2025-02-08T22:56:52.007Z"
   },
   {
    "duration": 24,
    "start_time": "2025-02-08T22:56:52.065Z"
   },
   {
    "duration": 19,
    "start_time": "2025-02-08T22:56:52.091Z"
   },
   {
    "duration": 166,
    "start_time": "2025-02-08T22:56:52.111Z"
   },
   {
    "duration": 14,
    "start_time": "2025-02-08T22:56:52.279Z"
   },
   {
    "duration": 33,
    "start_time": "2025-02-08T22:56:52.294Z"
   },
   {
    "duration": 44,
    "start_time": "2025-02-08T22:56:52.329Z"
   },
   {
    "duration": 27,
    "start_time": "2025-02-08T22:56:52.375Z"
   },
   {
    "duration": 36,
    "start_time": "2025-02-08T22:56:52.403Z"
   },
   {
    "duration": 11,
    "start_time": "2025-02-08T22:56:52.441Z"
   },
   {
    "duration": 22,
    "start_time": "2025-02-08T22:56:52.454Z"
   },
   {
    "duration": 179,
    "start_time": "2025-02-08T22:56:52.480Z"
   },
   {
    "duration": 120,
    "start_time": "2025-02-08T22:56:52.661Z"
   },
   {
    "duration": 36,
    "start_time": "2025-02-08T22:56:52.782Z"
   },
   {
    "duration": 71,
    "start_time": "2025-02-08T22:56:52.832Z"
   },
   {
    "duration": 99,
    "start_time": "2025-02-08T22:56:52.905Z"
   },
   {
    "duration": 11,
    "start_time": "2025-02-08T22:56:53.006Z"
   },
   {
    "duration": 176,
    "start_time": "2025-02-08T22:56:53.019Z"
   },
   {
    "duration": 85,
    "start_time": "2025-02-08T22:56:53.197Z"
   },
   {
    "duration": 16,
    "start_time": "2025-02-08T22:56:53.284Z"
   },
   {
    "duration": 10,
    "start_time": "2025-02-08T22:56:53.302Z"
   },
   {
    "duration": 36,
    "start_time": "2025-02-08T22:56:53.314Z"
   },
   {
    "duration": 224,
    "start_time": "2025-02-08T22:56:53.352Z"
   },
   {
    "duration": 24,
    "start_time": "2025-02-08T22:56:53.578Z"
   },
   {
    "duration": 49,
    "start_time": "2025-02-08T22:56:53.603Z"
   },
   {
    "duration": 157,
    "start_time": "2025-02-08T22:56:53.654Z"
   },
   {
    "duration": 27,
    "start_time": "2025-02-08T22:56:53.813Z"
   },
   {
    "duration": 19,
    "start_time": "2025-02-08T22:56:53.841Z"
   },
   {
    "duration": 37,
    "start_time": "2025-02-08T22:56:53.861Z"
   },
   {
    "duration": 30,
    "start_time": "2025-02-08T22:56:53.900Z"
   },
   {
    "duration": 449,
    "start_time": "2025-02-08T22:56:53.931Z"
   },
   {
    "duration": 63,
    "start_time": "2025-02-08T22:56:54.382Z"
   },
   {
    "duration": 26,
    "start_time": "2025-02-08T22:56:54.447Z"
   },
   {
    "duration": 80,
    "start_time": "2025-02-08T22:56:54.474Z"
   },
   {
    "duration": 6,
    "start_time": "2025-02-08T22:56:54.555Z"
   },
   {
    "duration": 81,
    "start_time": "2025-02-08T22:56:54.563Z"
   },
   {
    "duration": 30,
    "start_time": "2025-02-08T22:56:54.646Z"
   },
   {
    "duration": 15,
    "start_time": "2025-02-08T22:56:54.678Z"
   },
   {
    "duration": 15,
    "start_time": "2025-02-08T22:56:54.695Z"
   },
   {
    "duration": 25,
    "start_time": "2025-02-08T22:56:54.732Z"
   },
   {
    "duration": 109,
    "start_time": "2025-02-08T22:56:54.759Z"
   },
   {
    "duration": 21,
    "start_time": "2025-02-08T22:56:54.870Z"
   },
   {
    "duration": 13,
    "start_time": "2025-02-08T22:56:54.892Z"
   },
   {
    "duration": 31,
    "start_time": "2025-02-08T22:56:54.907Z"
   },
   {
    "duration": 12,
    "start_time": "2025-02-08T22:56:54.940Z"
   },
   {
    "duration": 25,
    "start_time": "2025-02-08T22:56:54.954Z"
   },
   {
    "duration": 16,
    "start_time": "2025-02-08T22:56:54.981Z"
   },
   {
    "duration": 44,
    "start_time": "2025-02-08T22:56:54.999Z"
   },
   {
    "duration": 25,
    "start_time": "2025-02-08T22:56:55.045Z"
   },
   {
    "duration": 30,
    "start_time": "2025-02-08T22:56:55.071Z"
   },
   {
    "duration": 4,
    "start_time": "2025-02-08T22:56:55.103Z"
   },
   {
    "duration": 35,
    "start_time": "2025-02-08T22:56:55.108Z"
   },
   {
    "duration": 12,
    "start_time": "2025-02-08T22:56:55.145Z"
   },
   {
    "duration": 11,
    "start_time": "2025-02-08T22:56:55.158Z"
   },
   {
    "duration": 594,
    "start_time": "2025-02-08T22:56:55.171Z"
   },
   {
    "duration": 126,
    "start_time": "2025-02-08T22:56:55.767Z"
   },
   {
    "duration": 17,
    "start_time": "2025-02-08T22:56:55.895Z"
   },
   {
    "duration": 21,
    "start_time": "2025-02-08T22:56:55.914Z"
   },
   {
    "duration": 16,
    "start_time": "2025-02-08T22:56:55.937Z"
   },
   {
    "duration": 10,
    "start_time": "2025-02-08T22:56:55.955Z"
   },
   {
    "duration": 438,
    "start_time": "2025-02-08T22:56:55.967Z"
   },
   {
    "duration": 127,
    "start_time": "2025-02-08T22:56:56.407Z"
   },
   {
    "duration": 9,
    "start_time": "2025-02-08T22:56:56.537Z"
   },
   {
    "duration": 21,
    "start_time": "2025-02-08T22:56:56.548Z"
   },
   {
    "duration": 11,
    "start_time": "2025-02-08T22:56:56.571Z"
   },
   {
    "duration": 6,
    "start_time": "2025-02-08T22:56:56.588Z"
   },
   {
    "duration": 38,
    "start_time": "2025-02-08T22:56:56.596Z"
   },
   {
    "duration": 9,
    "start_time": "2025-02-08T22:56:56.637Z"
   },
   {
    "duration": 13,
    "start_time": "2025-02-08T22:56:56.648Z"
   },
   {
    "duration": 49,
    "start_time": "2025-02-09T11:11:52.436Z"
   },
   {
    "duration": 4708,
    "start_time": "2025-02-09T11:12:01.245Z"
   },
   {
    "duration": 1694,
    "start_time": "2025-02-09T11:12:05.955Z"
   },
   {
    "duration": 37,
    "start_time": "2025-02-09T11:12:07.651Z"
   },
   {
    "duration": 4,
    "start_time": "2025-02-09T11:12:07.689Z"
   },
   {
    "duration": 58,
    "start_time": "2025-02-09T11:12:07.694Z"
   },
   {
    "duration": 2883,
    "start_time": "2025-02-09T11:12:07.754Z"
   },
   {
    "duration": 226,
    "start_time": "2025-02-09T11:12:10.638Z"
   },
   {
    "duration": 43,
    "start_time": "2025-02-09T11:12:10.866Z"
   },
   {
    "duration": 25,
    "start_time": "2025-02-09T11:12:10.911Z"
   },
   {
    "duration": 15,
    "start_time": "2025-02-09T11:12:10.938Z"
   },
   {
    "duration": 30,
    "start_time": "2025-02-09T11:12:10.954Z"
   },
   {
    "duration": 35,
    "start_time": "2025-02-09T11:12:10.986Z"
   },
   {
    "duration": 525,
    "start_time": "2025-02-09T11:12:11.023Z"
   },
   {
    "duration": 14,
    "start_time": "2025-02-09T11:12:11.550Z"
   },
   {
    "duration": 177,
    "start_time": "2025-02-09T11:12:11.566Z"
   },
   {
    "duration": 51,
    "start_time": "2025-02-09T11:12:11.745Z"
   },
   {
    "duration": 47,
    "start_time": "2025-02-09T11:12:11.797Z"
   },
   {
    "duration": 22,
    "start_time": "2025-02-09T11:12:11.845Z"
   },
   {
    "duration": 24,
    "start_time": "2025-02-09T11:12:11.868Z"
   },
   {
    "duration": 114,
    "start_time": "2025-02-09T11:12:11.909Z"
   },
   {
    "duration": 11,
    "start_time": "2025-02-09T11:12:12.025Z"
   },
   {
    "duration": 15,
    "start_time": "2025-02-09T11:12:12.037Z"
   },
   {
    "duration": 64,
    "start_time": "2025-02-09T11:12:12.053Z"
   },
   {
    "duration": 24,
    "start_time": "2025-02-09T11:12:12.118Z"
   },
   {
    "duration": 21,
    "start_time": "2025-02-09T11:12:12.143Z"
   },
   {
    "duration": 13,
    "start_time": "2025-02-09T11:12:12.165Z"
   },
   {
    "duration": 23,
    "start_time": "2025-02-09T11:12:12.179Z"
   },
   {
    "duration": 164,
    "start_time": "2025-02-09T11:12:12.213Z"
   },
   {
    "duration": 113,
    "start_time": "2025-02-09T11:12:12.379Z"
   },
   {
    "duration": 35,
    "start_time": "2025-02-09T11:12:12.493Z"
   },
   {
    "duration": 81,
    "start_time": "2025-02-09T11:12:12.530Z"
   },
   {
    "duration": 77,
    "start_time": "2025-02-09T11:12:12.613Z"
   },
   {
    "duration": 24,
    "start_time": "2025-02-09T11:12:12.691Z"
   },
   {
    "duration": 155,
    "start_time": "2025-02-09T11:12:12.716Z"
   },
   {
    "duration": 85,
    "start_time": "2025-02-09T11:12:12.873Z"
   },
   {
    "duration": 15,
    "start_time": "2025-02-09T11:12:12.959Z"
   },
   {
    "duration": 9,
    "start_time": "2025-02-09T11:12:12.976Z"
   },
   {
    "duration": 40,
    "start_time": "2025-02-09T11:12:12.986Z"
   },
   {
    "duration": 182,
    "start_time": "2025-02-09T11:12:13.028Z"
   },
   {
    "duration": 23,
    "start_time": "2025-02-09T11:12:13.212Z"
   },
   {
    "duration": 31,
    "start_time": "2025-02-09T11:12:13.237Z"
   },
   {
    "duration": 73,
    "start_time": "2025-02-09T11:12:13.271Z"
   },
   {
    "duration": 22,
    "start_time": "2025-02-09T11:12:13.346Z"
   },
   {
    "duration": 6,
    "start_time": "2025-02-09T11:12:13.370Z"
   },
   {
    "duration": 32,
    "start_time": "2025-02-09T11:12:13.378Z"
   },
   {
    "duration": 22,
    "start_time": "2025-02-09T11:12:13.412Z"
   },
   {
    "duration": 260,
    "start_time": "2025-02-09T11:12:13.435Z"
   },
   {
    "duration": 17,
    "start_time": "2025-02-09T11:12:13.697Z"
   },
   {
    "duration": 23,
    "start_time": "2025-02-09T11:12:13.716Z"
   },
   {
    "duration": 32,
    "start_time": "2025-02-09T11:12:13.741Z"
   },
   {
    "duration": 35,
    "start_time": "2025-02-09T11:12:13.775Z"
   },
   {
    "duration": 63,
    "start_time": "2025-02-09T11:12:13.811Z"
   },
   {
    "duration": 44,
    "start_time": "2025-02-09T11:12:13.876Z"
   },
   {
    "duration": 14,
    "start_time": "2025-02-09T11:12:13.922Z"
   },
   {
    "duration": 13,
    "start_time": "2025-02-09T11:12:13.938Z"
   },
   {
    "duration": 27,
    "start_time": "2025-02-09T11:12:13.953Z"
   },
   {
    "duration": 108,
    "start_time": "2025-02-09T11:12:13.982Z"
   },
   {
    "duration": 32,
    "start_time": "2025-02-09T11:12:14.092Z"
   },
   {
    "duration": 7,
    "start_time": "2025-02-09T11:12:14.125Z"
   },
   {
    "duration": 6,
    "start_time": "2025-02-09T11:12:14.134Z"
   },
   {
    "duration": 20,
    "start_time": "2025-02-09T11:12:14.141Z"
   },
   {
    "duration": 21,
    "start_time": "2025-02-09T11:12:14.163Z"
   },
   {
    "duration": 25,
    "start_time": "2025-02-09T11:12:14.185Z"
   },
   {
    "duration": 15,
    "start_time": "2025-02-09T11:12:14.211Z"
   },
   {
    "duration": 21,
    "start_time": "2025-02-09T11:12:14.228Z"
   },
   {
    "duration": 24,
    "start_time": "2025-02-09T11:12:14.251Z"
   },
   {
    "duration": 7,
    "start_time": "2025-02-09T11:12:14.276Z"
   },
   {
    "duration": 32,
    "start_time": "2025-02-09T11:12:14.284Z"
   },
   {
    "duration": 18,
    "start_time": "2025-02-09T11:12:14.318Z"
   },
   {
    "duration": 9,
    "start_time": "2025-02-09T11:12:14.337Z"
   },
   {
    "duration": 595,
    "start_time": "2025-02-09T11:12:14.347Z"
   },
   {
    "duration": 111,
    "start_time": "2025-02-09T11:12:14.944Z"
   },
   {
    "duration": 14,
    "start_time": "2025-02-09T11:12:15.056Z"
   },
   {
    "duration": 28,
    "start_time": "2025-02-09T11:12:15.072Z"
   },
   {
    "duration": 27,
    "start_time": "2025-02-09T11:12:15.102Z"
   },
   {
    "duration": 18,
    "start_time": "2025-02-09T11:12:15.130Z"
   },
   {
    "duration": 440,
    "start_time": "2025-02-09T11:12:15.149Z"
   },
   {
    "duration": 110,
    "start_time": "2025-02-09T11:12:15.591Z"
   },
   {
    "duration": 12,
    "start_time": "2025-02-09T11:12:15.703Z"
   },
   {
    "duration": 6,
    "start_time": "2025-02-09T11:12:15.716Z"
   },
   {
    "duration": 6,
    "start_time": "2025-02-09T11:12:15.724Z"
   },
   {
    "duration": 119,
    "start_time": "2025-02-09T11:12:15.735Z"
   },
   {
    "duration": 6,
    "start_time": "2025-02-09T11:12:15.855Z"
   },
   {
    "duration": 15,
    "start_time": "2025-02-09T11:12:15.863Z"
   },
   {
    "duration": 8,
    "start_time": "2025-02-09T11:12:15.880Z"
   },
   {
    "duration": 24,
    "start_time": "2025-02-09T11:12:15.889Z"
   },
   {
    "duration": 97,
    "start_time": "2025-02-09T11:13:23.731Z"
   },
   {
    "duration": 319,
    "start_time": "2025-02-09T11:14:32.300Z"
   },
   {
    "duration": 299,
    "start_time": "2025-02-09T11:14:49.463Z"
   },
   {
    "duration": 308,
    "start_time": "2025-02-09T11:15:15.584Z"
   },
   {
    "duration": 4,
    "start_time": "2025-02-09T11:20:05.958Z"
   },
   {
    "duration": 16,
    "start_time": "2025-02-09T11:20:23.554Z"
   },
   {
    "duration": 4,
    "start_time": "2025-02-09T11:20:42.598Z"
   },
   {
    "duration": 367,
    "start_time": "2025-02-09T11:20:56.853Z"
   },
   {
    "duration": 105,
    "start_time": "2025-02-09T11:21:04.572Z"
   },
   {
    "duration": 30,
    "start_time": "2025-02-09T11:21:43.162Z"
   },
   {
    "duration": 8,
    "start_time": "2025-02-09T11:21:57.427Z"
   },
   {
    "duration": 4,
    "start_time": "2025-02-09T11:25:41.325Z"
   },
   {
    "duration": 4,
    "start_time": "2025-02-09T11:26:12.390Z"
   },
   {
    "duration": 7,
    "start_time": "2025-02-09T11:28:01.783Z"
   },
   {
    "duration": 16,
    "start_time": "2025-02-09T11:28:11.131Z"
   },
   {
    "duration": 10,
    "start_time": "2025-02-09T11:28:28.876Z"
   },
   {
    "duration": 8,
    "start_time": "2025-02-09T11:29:15.830Z"
   },
   {
    "duration": 7,
    "start_time": "2025-02-09T11:30:45.488Z"
   },
   {
    "duration": 149,
    "start_time": "2025-02-09T11:38:53.338Z"
   },
   {
    "duration": 160,
    "start_time": "2025-02-09T11:39:40.926Z"
   },
   {
    "duration": 159,
    "start_time": "2025-02-09T11:40:02.440Z"
   },
   {
    "duration": 172,
    "start_time": "2025-02-09T11:40:08.665Z"
   },
   {
    "duration": 7,
    "start_time": "2025-02-09T11:40:51.957Z"
   },
   {
    "duration": 159,
    "start_time": "2025-02-09T11:41:01.371Z"
   },
   {
    "duration": 6,
    "start_time": "2025-02-09T11:41:08.204Z"
   },
   {
    "duration": 165,
    "start_time": "2025-02-09T11:41:08.848Z"
   },
   {
    "duration": 7,
    "start_time": "2025-02-09T11:41:43.809Z"
   },
   {
    "duration": 162,
    "start_time": "2025-02-09T11:41:44.439Z"
   },
   {
    "duration": 11,
    "start_time": "2025-02-09T11:41:58.807Z"
   },
   {
    "duration": 159,
    "start_time": "2025-02-09T11:42:00.122Z"
   },
   {
    "duration": 8,
    "start_time": "2025-02-09T11:43:06.574Z"
   },
   {
    "duration": 170,
    "start_time": "2025-02-09T11:43:56.054Z"
   },
   {
    "duration": 154,
    "start_time": "2025-02-09T11:44:06.684Z"
   },
   {
    "duration": 7,
    "start_time": "2025-02-09T11:46:34.099Z"
   },
   {
    "duration": 159,
    "start_time": "2025-02-09T11:46:36.282Z"
   },
   {
    "duration": 8,
    "start_time": "2025-02-09T11:46:43.241Z"
   },
   {
    "duration": 155,
    "start_time": "2025-02-09T11:46:44.071Z"
   },
   {
    "duration": 162,
    "start_time": "2025-02-09T11:47:36.163Z"
   },
   {
    "duration": 174,
    "start_time": "2025-02-09T11:48:19.607Z"
   },
   {
    "duration": 159,
    "start_time": "2025-02-09T11:48:29.807Z"
   },
   {
    "duration": 162,
    "start_time": "2025-02-09T11:49:14.201Z"
   },
   {
    "duration": 160,
    "start_time": "2025-02-09T11:49:57.830Z"
   },
   {
    "duration": 228,
    "start_time": "2025-02-09T11:50:47.716Z"
   },
   {
    "duration": 109,
    "start_time": "2025-02-09T12:05:43.730Z"
   },
   {
    "duration": 8,
    "start_time": "2025-02-09T12:05:57.500Z"
   },
   {
    "duration": 8,
    "start_time": "2025-02-09T12:07:36.971Z"
   },
   {
    "duration": 10,
    "start_time": "2025-02-09T12:08:18.305Z"
   },
   {
    "duration": 156,
    "start_time": "2025-02-09T12:09:22.944Z"
   },
   {
    "duration": 12,
    "start_time": "2025-02-09T12:09:59.583Z"
   },
   {
    "duration": 155,
    "start_time": "2025-02-09T12:10:19.954Z"
   },
   {
    "duration": 175,
    "start_time": "2025-02-09T12:12:24.374Z"
   },
   {
    "duration": 164,
    "start_time": "2025-02-09T12:12:31.800Z"
   },
   {
    "duration": 153,
    "start_time": "2025-02-09T12:17:21.493Z"
   },
   {
    "duration": 161,
    "start_time": "2025-02-09T12:17:39.968Z"
   },
   {
    "duration": 1216,
    "start_time": "2025-02-09T13:41:58.547Z"
   },
   {
    "duration": 2114,
    "start_time": "2025-02-09T13:41:59.765Z"
   },
   {
    "duration": 49,
    "start_time": "2025-02-09T13:42:01.881Z"
   },
   {
    "duration": 4,
    "start_time": "2025-02-09T13:42:01.932Z"
   },
   {
    "duration": 70,
    "start_time": "2025-02-09T13:42:01.937Z"
   },
   {
    "duration": 2880,
    "start_time": "2025-02-09T13:42:02.009Z"
   },
   {
    "duration": 242,
    "start_time": "2025-02-09T13:42:04.891Z"
   },
   {
    "duration": 35,
    "start_time": "2025-02-09T13:42:05.135Z"
   },
   {
    "duration": 38,
    "start_time": "2025-02-09T13:42:05.173Z"
   },
   {
    "duration": 16,
    "start_time": "2025-02-09T13:42:05.214Z"
   },
   {
    "duration": 45,
    "start_time": "2025-02-09T13:42:05.232Z"
   },
   {
    "duration": 33,
    "start_time": "2025-02-09T13:42:05.279Z"
   },
   {
    "duration": 560,
    "start_time": "2025-02-09T13:42:05.314Z"
   },
   {
    "duration": 15,
    "start_time": "2025-02-09T13:42:05.876Z"
   },
   {
    "duration": 191,
    "start_time": "2025-02-09T13:42:05.893Z"
   },
   {
    "duration": 59,
    "start_time": "2025-02-09T13:42:06.086Z"
   },
   {
    "duration": 40,
    "start_time": "2025-02-09T13:42:06.147Z"
   },
   {
    "duration": 36,
    "start_time": "2025-02-09T13:42:06.188Z"
   },
   {
    "duration": 18,
    "start_time": "2025-02-09T13:42:06.226Z"
   },
   {
    "duration": 135,
    "start_time": "2025-02-09T13:42:06.245Z"
   },
   {
    "duration": 12,
    "start_time": "2025-02-09T13:42:06.382Z"
   },
   {
    "duration": 29,
    "start_time": "2025-02-09T13:42:06.395Z"
   },
   {
    "duration": 55,
    "start_time": "2025-02-09T13:42:06.426Z"
   },
   {
    "duration": 27,
    "start_time": "2025-02-09T13:42:06.483Z"
   },
   {
    "duration": 17,
    "start_time": "2025-02-09T13:42:06.512Z"
   },
   {
    "duration": 11,
    "start_time": "2025-02-09T13:42:06.530Z"
   },
   {
    "duration": 21,
    "start_time": "2025-02-09T13:42:06.542Z"
   },
   {
    "duration": 173,
    "start_time": "2025-02-09T13:42:06.568Z"
   },
   {
    "duration": 123,
    "start_time": "2025-02-09T13:42:06.742Z"
   },
   {
    "duration": 45,
    "start_time": "2025-02-09T13:42:06.867Z"
   },
   {
    "duration": 79,
    "start_time": "2025-02-09T13:42:06.913Z"
   },
   {
    "duration": 93,
    "start_time": "2025-02-09T13:42:06.993Z"
   },
   {
    "duration": 24,
    "start_time": "2025-02-09T13:42:07.087Z"
   },
   {
    "duration": 158,
    "start_time": "2025-02-09T13:42:07.112Z"
   },
   {
    "duration": 81,
    "start_time": "2025-02-09T13:42:07.272Z"
   },
   {
    "duration": 15,
    "start_time": "2025-02-09T13:42:07.355Z"
   },
   {
    "duration": 16,
    "start_time": "2025-02-09T13:42:07.372Z"
   },
   {
    "duration": 31,
    "start_time": "2025-02-09T13:42:07.389Z"
   },
   {
    "duration": 187,
    "start_time": "2025-02-09T13:42:07.422Z"
   },
   {
    "duration": 23,
    "start_time": "2025-02-09T13:42:07.611Z"
   },
   {
    "duration": 43,
    "start_time": "2025-02-09T13:42:07.636Z"
   },
   {
    "duration": 93,
    "start_time": "2025-02-09T13:42:07.681Z"
   },
   {
    "duration": 26,
    "start_time": "2025-02-09T13:42:07.775Z"
   },
   {
    "duration": 5,
    "start_time": "2025-02-09T13:42:07.803Z"
   },
   {
    "duration": 30,
    "start_time": "2025-02-09T13:42:07.810Z"
   },
   {
    "duration": 24,
    "start_time": "2025-02-09T13:42:07.842Z"
   },
   {
    "duration": 316,
    "start_time": "2025-02-09T13:42:07.868Z"
   },
   {
    "duration": 13,
    "start_time": "2025-02-09T13:42:08.186Z"
   },
   {
    "duration": 25,
    "start_time": "2025-02-09T13:42:08.210Z"
   },
   {
    "duration": 34,
    "start_time": "2025-02-09T13:42:08.237Z"
   },
   {
    "duration": 6,
    "start_time": "2025-02-09T13:42:08.273Z"
   },
   {
    "duration": 83,
    "start_time": "2025-02-09T13:42:08.280Z"
   },
   {
    "duration": 28,
    "start_time": "2025-02-09T13:42:08.365Z"
   },
   {
    "duration": 27,
    "start_time": "2025-02-09T13:42:08.394Z"
   },
   {
    "duration": 25,
    "start_time": "2025-02-09T13:42:08.423Z"
   },
   {
    "duration": 26,
    "start_time": "2025-02-09T13:42:08.449Z"
   },
   {
    "duration": 100,
    "start_time": "2025-02-09T13:42:08.476Z"
   },
   {
    "duration": 20,
    "start_time": "2025-02-09T13:42:08.578Z"
   },
   {
    "duration": 6,
    "start_time": "2025-02-09T13:42:08.610Z"
   },
   {
    "duration": 9,
    "start_time": "2025-02-09T13:42:08.618Z"
   },
   {
    "duration": 10,
    "start_time": "2025-02-09T13:42:08.629Z"
   },
   {
    "duration": 20,
    "start_time": "2025-02-09T13:42:08.640Z"
   },
   {
    "duration": 14,
    "start_time": "2025-02-09T13:42:08.661Z"
   },
   {
    "duration": 39,
    "start_time": "2025-02-09T13:42:08.676Z"
   },
   {
    "duration": 22,
    "start_time": "2025-02-09T13:42:08.717Z"
   },
   {
    "duration": 28,
    "start_time": "2025-02-09T13:42:08.740Z"
   },
   {
    "duration": 10,
    "start_time": "2025-02-09T13:42:08.769Z"
   },
   {
    "duration": 31,
    "start_time": "2025-02-09T13:42:08.780Z"
   },
   {
    "duration": 13,
    "start_time": "2025-02-09T13:42:08.814Z"
   },
   {
    "duration": 14,
    "start_time": "2025-02-09T13:42:08.831Z"
   },
   {
    "duration": 567,
    "start_time": "2025-02-09T13:42:08.848Z"
   },
   {
    "duration": 113,
    "start_time": "2025-02-09T13:42:09.417Z"
   },
   {
    "duration": 15,
    "start_time": "2025-02-09T13:42:09.532Z"
   },
   {
    "duration": 7,
    "start_time": "2025-02-09T13:42:09.549Z"
   },
   {
    "duration": 66,
    "start_time": "2025-02-09T13:42:09.557Z"
   },
   {
    "duration": 34,
    "start_time": "2025-02-09T13:42:09.625Z"
   },
   {
    "duration": 432,
    "start_time": "2025-02-09T13:42:09.661Z"
   },
   {
    "duration": 114,
    "start_time": "2025-02-09T13:42:10.095Z"
   },
   {
    "duration": 8,
    "start_time": "2025-02-09T13:42:10.211Z"
   },
   {
    "duration": 13,
    "start_time": "2025-02-09T13:42:10.221Z"
   },
   {
    "duration": 16,
    "start_time": "2025-02-09T13:42:10.235Z"
   },
   {
    "duration": 7,
    "start_time": "2025-02-09T13:42:10.256Z"
   },
   {
    "duration": 8,
    "start_time": "2025-02-09T13:42:10.265Z"
   },
   {
    "duration": 296,
    "start_time": "2025-02-09T13:42:10.275Z"
   },
   {
    "duration": 105,
    "start_time": "2025-02-09T13:42:10.573Z"
   },
   {
    "duration": 6,
    "start_time": "2025-02-09T13:42:10.680Z"
   },
   {
    "duration": 20,
    "start_time": "2025-02-09T13:42:10.687Z"
   },
   {
    "duration": 110,
    "start_time": "2025-02-09T13:42:10.708Z"
   },
   {
    "duration": 0,
    "start_time": "2025-02-09T13:42:10.820Z"
   },
   {
    "duration": 0,
    "start_time": "2025-02-09T13:42:10.821Z"
   },
   {
    "duration": 0,
    "start_time": "2025-02-09T13:42:10.822Z"
   },
   {
    "duration": 0,
    "start_time": "2025-02-09T13:42:10.823Z"
   },
   {
    "duration": 0,
    "start_time": "2025-02-09T13:42:10.824Z"
   },
   {
    "duration": 0,
    "start_time": "2025-02-09T13:42:10.825Z"
   },
   {
    "duration": 7,
    "start_time": "2025-02-09T13:47:55.831Z"
   },
   {
    "duration": 9,
    "start_time": "2025-02-09T13:47:56.843Z"
   },
   {
    "duration": 6,
    "start_time": "2025-02-09T13:49:40.508Z"
   },
   {
    "duration": 7,
    "start_time": "2025-02-09T13:53:18.145Z"
   },
   {
    "duration": 6,
    "start_time": "2025-02-09T13:56:11.384Z"
   },
   {
    "duration": 10,
    "start_time": "2025-02-09T13:56:12.486Z"
   },
   {
    "duration": 6,
    "start_time": "2025-02-09T13:56:33.868Z"
   },
   {
    "duration": 9,
    "start_time": "2025-02-09T13:56:34.538Z"
   },
   {
    "duration": 10,
    "start_time": "2025-02-09T13:57:14.297Z"
   },
   {
    "duration": 8,
    "start_time": "2025-02-09T13:57:15.482Z"
   },
   {
    "duration": 158,
    "start_time": "2025-02-09T13:57:21.963Z"
   },
   {
    "duration": 9,
    "start_time": "2025-02-09T13:57:30.684Z"
   },
   {
    "duration": 160,
    "start_time": "2025-02-09T13:57:37.549Z"
   },
   {
    "duration": 8,
    "start_time": "2025-02-09T13:58:26.834Z"
   },
   {
    "duration": 9,
    "start_time": "2025-02-09T13:58:45.998Z"
   },
   {
    "duration": 163,
    "start_time": "2025-02-09T13:58:55.223Z"
   },
   {
    "duration": 1262,
    "start_time": "2025-02-09T14:02:24.282Z"
   },
   {
    "duration": 2370,
    "start_time": "2025-02-09T14:02:25.546Z"
   },
   {
    "duration": 36,
    "start_time": "2025-02-09T14:02:27.917Z"
   },
   {
    "duration": 4,
    "start_time": "2025-02-09T14:02:27.955Z"
   },
   {
    "duration": 59,
    "start_time": "2025-02-09T14:02:27.961Z"
   },
   {
    "duration": 3007,
    "start_time": "2025-02-09T14:02:28.022Z"
   },
   {
    "duration": 233,
    "start_time": "2025-02-09T14:02:31.030Z"
   },
   {
    "duration": 45,
    "start_time": "2025-02-09T14:02:31.264Z"
   },
   {
    "duration": 33,
    "start_time": "2025-02-09T14:02:31.311Z"
   },
   {
    "duration": 18,
    "start_time": "2025-02-09T14:02:31.348Z"
   },
   {
    "duration": 54,
    "start_time": "2025-02-09T14:02:31.374Z"
   },
   {
    "duration": 15,
    "start_time": "2025-02-09T14:02:31.429Z"
   },
   {
    "duration": 537,
    "start_time": "2025-02-09T14:02:31.446Z"
   },
   {
    "duration": 15,
    "start_time": "2025-02-09T14:02:31.984Z"
   },
   {
    "duration": 196,
    "start_time": "2025-02-09T14:02:32.000Z"
   },
   {
    "duration": 67,
    "start_time": "2025-02-09T14:02:32.197Z"
   },
   {
    "duration": 62,
    "start_time": "2025-02-09T14:02:32.266Z"
   },
   {
    "duration": 25,
    "start_time": "2025-02-09T14:02:32.331Z"
   },
   {
    "duration": 18,
    "start_time": "2025-02-09T14:02:32.358Z"
   },
   {
    "duration": 136,
    "start_time": "2025-02-09T14:02:32.378Z"
   },
   {
    "duration": 13,
    "start_time": "2025-02-09T14:02:32.516Z"
   },
   {
    "duration": 47,
    "start_time": "2025-02-09T14:02:32.530Z"
   },
   {
    "duration": 42,
    "start_time": "2025-02-09T14:02:32.579Z"
   },
   {
    "duration": 39,
    "start_time": "2025-02-09T14:02:32.622Z"
   },
   {
    "duration": 15,
    "start_time": "2025-02-09T14:02:32.663Z"
   },
   {
    "duration": 11,
    "start_time": "2025-02-09T14:02:32.679Z"
   },
   {
    "duration": 28,
    "start_time": "2025-02-09T14:02:32.692Z"
   },
   {
    "duration": 160,
    "start_time": "2025-02-09T14:02:32.726Z"
   },
   {
    "duration": 122,
    "start_time": "2025-02-09T14:02:32.888Z"
   },
   {
    "duration": 33,
    "start_time": "2025-02-09T14:02:33.012Z"
   },
   {
    "duration": 90,
    "start_time": "2025-02-09T14:02:33.046Z"
   },
   {
    "duration": 90,
    "start_time": "2025-02-09T14:02:33.137Z"
   },
   {
    "duration": 11,
    "start_time": "2025-02-09T14:02:33.228Z"
   },
   {
    "duration": 167,
    "start_time": "2025-02-09T14:02:33.240Z"
   },
   {
    "duration": 74,
    "start_time": "2025-02-09T14:02:33.409Z"
   },
   {
    "duration": 24,
    "start_time": "2025-02-09T14:02:33.485Z"
   },
   {
    "duration": 7,
    "start_time": "2025-02-09T14:02:33.511Z"
   },
   {
    "duration": 33,
    "start_time": "2025-02-09T14:02:33.520Z"
   },
   {
    "duration": 179,
    "start_time": "2025-02-09T14:02:33.555Z"
   },
   {
    "duration": 21,
    "start_time": "2025-02-09T14:02:33.736Z"
   },
   {
    "duration": 98,
    "start_time": "2025-02-09T14:02:33.758Z"
   },
   {
    "duration": 34,
    "start_time": "2025-02-09T14:02:33.858Z"
   },
   {
    "duration": 23,
    "start_time": "2025-02-09T14:02:33.893Z"
   },
   {
    "duration": 28,
    "start_time": "2025-02-09T14:02:33.918Z"
   },
   {
    "duration": 37,
    "start_time": "2025-02-09T14:02:33.948Z"
   },
   {
    "duration": 70,
    "start_time": "2025-02-09T14:02:33.987Z"
   },
   {
    "duration": 276,
    "start_time": "2025-02-09T14:02:34.058Z"
   },
   {
    "duration": 12,
    "start_time": "2025-02-09T14:02:34.336Z"
   },
   {
    "duration": 23,
    "start_time": "2025-02-09T14:02:34.350Z"
   },
   {
    "duration": 46,
    "start_time": "2025-02-09T14:02:34.375Z"
   },
   {
    "duration": 6,
    "start_time": "2025-02-09T14:02:34.422Z"
   },
   {
    "duration": 68,
    "start_time": "2025-02-09T14:02:34.430Z"
   },
   {
    "duration": 27,
    "start_time": "2025-02-09T14:02:34.509Z"
   },
   {
    "duration": 14,
    "start_time": "2025-02-09T14:02:34.538Z"
   },
   {
    "duration": 14,
    "start_time": "2025-02-09T14:02:34.553Z"
   },
   {
    "duration": 48,
    "start_time": "2025-02-09T14:02:34.568Z"
   },
   {
    "duration": 91,
    "start_time": "2025-02-09T14:02:34.618Z"
   },
   {
    "duration": 21,
    "start_time": "2025-02-09T14:02:34.711Z"
   },
   {
    "duration": 12,
    "start_time": "2025-02-09T14:02:34.733Z"
   },
   {
    "duration": 6,
    "start_time": "2025-02-09T14:02:34.747Z"
   },
   {
    "duration": 11,
    "start_time": "2025-02-09T14:02:34.755Z"
   },
   {
    "duration": 44,
    "start_time": "2025-02-09T14:02:34.768Z"
   },
   {
    "duration": 15,
    "start_time": "2025-02-09T14:02:34.813Z"
   },
   {
    "duration": 21,
    "start_time": "2025-02-09T14:02:34.829Z"
   },
   {
    "duration": 20,
    "start_time": "2025-02-09T14:02:34.852Z"
   },
   {
    "duration": 44,
    "start_time": "2025-02-09T14:02:34.874Z"
   },
   {
    "duration": 4,
    "start_time": "2025-02-09T14:02:34.919Z"
   },
   {
    "duration": 21,
    "start_time": "2025-02-09T14:02:34.924Z"
   },
   {
    "duration": 8,
    "start_time": "2025-02-09T14:02:34.946Z"
   },
   {
    "duration": 7,
    "start_time": "2025-02-09T14:02:34.956Z"
   },
   {
    "duration": 563,
    "start_time": "2025-02-09T14:02:34.965Z"
   },
   {
    "duration": 113,
    "start_time": "2025-02-09T14:02:35.530Z"
   },
   {
    "duration": 16,
    "start_time": "2025-02-09T14:02:35.645Z"
   },
   {
    "duration": 18,
    "start_time": "2025-02-09T14:02:35.663Z"
   },
   {
    "duration": 112,
    "start_time": "2025-02-09T14:02:35.683Z"
   },
   {
    "duration": 43,
    "start_time": "2025-02-09T14:02:35.796Z"
   },
   {
    "duration": 371,
    "start_time": "2025-02-09T14:02:35.841Z"
   },
   {
    "duration": 114,
    "start_time": "2025-02-09T14:02:36.214Z"
   },
   {
    "duration": 8,
    "start_time": "2025-02-09T14:02:36.330Z"
   },
   {
    "duration": 24,
    "start_time": "2025-02-09T14:02:36.340Z"
   },
   {
    "duration": 10,
    "start_time": "2025-02-09T14:02:36.366Z"
   },
   {
    "duration": 4,
    "start_time": "2025-02-09T14:02:36.381Z"
   },
   {
    "duration": 14,
    "start_time": "2025-02-09T14:02:36.386Z"
   },
   {
    "duration": 292,
    "start_time": "2025-02-09T14:02:36.410Z"
   },
   {
    "duration": 107,
    "start_time": "2025-02-09T14:02:36.709Z"
   },
   {
    "duration": 5,
    "start_time": "2025-02-09T14:02:36.818Z"
   },
   {
    "duration": 16,
    "start_time": "2025-02-09T14:02:36.825Z"
   },
   {
    "duration": 117,
    "start_time": "2025-02-09T14:02:36.843Z"
   },
   {
    "duration": 0,
    "start_time": "2025-02-09T14:02:36.962Z"
   },
   {
    "duration": 0,
    "start_time": "2025-02-09T14:02:36.963Z"
   },
   {
    "duration": 0,
    "start_time": "2025-02-09T14:02:36.964Z"
   },
   {
    "duration": 0,
    "start_time": "2025-02-09T14:02:36.964Z"
   },
   {
    "duration": 0,
    "start_time": "2025-02-09T14:02:36.965Z"
   },
   {
    "duration": 0,
    "start_time": "2025-02-09T14:02:36.967Z"
   },
   {
    "duration": 11,
    "start_time": "2025-02-09T14:03:01.222Z"
   },
   {
    "duration": 7,
    "start_time": "2025-02-09T14:03:46.315Z"
   },
   {
    "duration": 9,
    "start_time": "2025-02-09T14:04:00.041Z"
   },
   {
    "duration": 7,
    "start_time": "2025-02-09T14:04:00.678Z"
   },
   {
    "duration": 159,
    "start_time": "2025-02-09T14:04:01.105Z"
   },
   {
    "duration": 7,
    "start_time": "2025-02-09T14:04:01.592Z"
   },
   {
    "duration": 156,
    "start_time": "2025-02-09T14:04:01.780Z"
   },
   {
    "duration": 9,
    "start_time": "2025-02-09T14:04:02.469Z"
   },
   {
    "duration": 8,
    "start_time": "2025-02-09T14:04:02.831Z"
   },
   {
    "duration": 170,
    "start_time": "2025-02-09T14:04:03.040Z"
   },
   {
    "duration": 8,
    "start_time": "2025-02-09T14:07:18.099Z"
   },
   {
    "duration": 1137,
    "start_time": "2025-02-09T14:07:26.255Z"
   },
   {
    "duration": 2133,
    "start_time": "2025-02-09T14:07:27.394Z"
   },
   {
    "duration": 39,
    "start_time": "2025-02-09T14:07:29.529Z"
   },
   {
    "duration": 4,
    "start_time": "2025-02-09T14:07:29.570Z"
   },
   {
    "duration": 71,
    "start_time": "2025-02-09T14:07:29.575Z"
   },
   {
    "duration": 3064,
    "start_time": "2025-02-09T14:07:29.648Z"
   },
   {
    "duration": 244,
    "start_time": "2025-02-09T14:07:32.714Z"
   },
   {
    "duration": 34,
    "start_time": "2025-02-09T14:07:32.960Z"
   },
   {
    "duration": 38,
    "start_time": "2025-02-09T14:07:32.995Z"
   },
   {
    "duration": 15,
    "start_time": "2025-02-09T14:07:33.036Z"
   },
   {
    "duration": 32,
    "start_time": "2025-02-09T14:07:33.053Z"
   },
   {
    "duration": 17,
    "start_time": "2025-02-09T14:07:33.110Z"
   },
   {
    "duration": 549,
    "start_time": "2025-02-09T14:07:33.129Z"
   },
   {
    "duration": 15,
    "start_time": "2025-02-09T14:07:33.681Z"
   },
   {
    "duration": 177,
    "start_time": "2025-02-09T14:07:33.710Z"
   },
   {
    "duration": 66,
    "start_time": "2025-02-09T14:07:33.889Z"
   },
   {
    "duration": 52,
    "start_time": "2025-02-09T14:07:33.957Z"
   },
   {
    "duration": 26,
    "start_time": "2025-02-09T14:07:34.011Z"
   },
   {
    "duration": 20,
    "start_time": "2025-02-09T14:07:34.039Z"
   },
   {
    "duration": 138,
    "start_time": "2025-02-09T14:07:34.061Z"
   },
   {
    "duration": 13,
    "start_time": "2025-02-09T14:07:34.209Z"
   },
   {
    "duration": 28,
    "start_time": "2025-02-09T14:07:34.224Z"
   },
   {
    "duration": 40,
    "start_time": "2025-02-09T14:07:34.254Z"
   },
   {
    "duration": 26,
    "start_time": "2025-02-09T14:07:34.309Z"
   },
   {
    "duration": 15,
    "start_time": "2025-02-09T14:07:34.337Z"
   },
   {
    "duration": 11,
    "start_time": "2025-02-09T14:07:34.354Z"
   },
   {
    "duration": 52,
    "start_time": "2025-02-09T14:07:34.367Z"
   },
   {
    "duration": 161,
    "start_time": "2025-02-09T14:07:34.424Z"
   },
   {
    "duration": 121,
    "start_time": "2025-02-09T14:07:34.587Z"
   },
   {
    "duration": 35,
    "start_time": "2025-02-09T14:07:34.711Z"
   },
   {
    "duration": 93,
    "start_time": "2025-02-09T14:07:34.749Z"
   },
   {
    "duration": 86,
    "start_time": "2025-02-09T14:07:34.844Z"
   },
   {
    "duration": 12,
    "start_time": "2025-02-09T14:07:34.932Z"
   },
   {
    "duration": 172,
    "start_time": "2025-02-09T14:07:34.945Z"
   },
   {
    "duration": 74,
    "start_time": "2025-02-09T14:07:35.119Z"
   },
   {
    "duration": 27,
    "start_time": "2025-02-09T14:07:35.195Z"
   },
   {
    "duration": 22,
    "start_time": "2025-02-09T14:07:35.223Z"
   },
   {
    "duration": 38,
    "start_time": "2025-02-09T14:07:35.247Z"
   },
   {
    "duration": 175,
    "start_time": "2025-02-09T14:07:35.287Z"
   },
   {
    "duration": 24,
    "start_time": "2025-02-09T14:07:35.464Z"
   },
   {
    "duration": 45,
    "start_time": "2025-02-09T14:07:35.490Z"
   },
   {
    "duration": 32,
    "start_time": "2025-02-09T14:07:35.537Z"
   },
   {
    "duration": 21,
    "start_time": "2025-02-09T14:07:35.571Z"
   },
   {
    "duration": 17,
    "start_time": "2025-02-09T14:07:35.594Z"
   },
   {
    "duration": 41,
    "start_time": "2025-02-09T14:07:35.613Z"
   },
   {
    "duration": 34,
    "start_time": "2025-02-09T14:07:35.656Z"
   },
   {
    "duration": 282,
    "start_time": "2025-02-09T14:07:35.692Z"
   },
   {
    "duration": 13,
    "start_time": "2025-02-09T14:07:35.975Z"
   },
   {
    "duration": 60,
    "start_time": "2025-02-09T14:07:35.990Z"
   },
   {
    "duration": 41,
    "start_time": "2025-02-09T14:07:36.052Z"
   },
   {
    "duration": 5,
    "start_time": "2025-02-09T14:07:36.095Z"
   },
   {
    "duration": 93,
    "start_time": "2025-02-09T14:07:36.102Z"
   },
   {
    "duration": 28,
    "start_time": "2025-02-09T14:07:36.197Z"
   },
   {
    "duration": 15,
    "start_time": "2025-02-09T14:07:36.226Z"
   },
   {
    "duration": 33,
    "start_time": "2025-02-09T14:07:36.242Z"
   },
   {
    "duration": 48,
    "start_time": "2025-02-09T14:07:36.277Z"
   },
   {
    "duration": 88,
    "start_time": "2025-02-09T14:07:36.327Z"
   },
   {
    "duration": 19,
    "start_time": "2025-02-09T14:07:36.416Z"
   },
   {
    "duration": 22,
    "start_time": "2025-02-09T14:07:36.437Z"
   },
   {
    "duration": 11,
    "start_time": "2025-02-09T14:07:36.461Z"
   },
   {
    "duration": 18,
    "start_time": "2025-02-09T14:07:36.474Z"
   },
   {
    "duration": 36,
    "start_time": "2025-02-09T14:07:36.493Z"
   },
   {
    "duration": 37,
    "start_time": "2025-02-09T14:07:36.530Z"
   },
   {
    "duration": 25,
    "start_time": "2025-02-09T14:07:36.571Z"
   },
   {
    "duration": 32,
    "start_time": "2025-02-09T14:07:36.598Z"
   },
   {
    "duration": 28,
    "start_time": "2025-02-09T14:07:36.631Z"
   },
   {
    "duration": 3,
    "start_time": "2025-02-09T14:07:36.661Z"
   },
   {
    "duration": 18,
    "start_time": "2025-02-09T14:07:36.666Z"
   },
   {
    "duration": 49,
    "start_time": "2025-02-09T14:07:36.686Z"
   },
   {
    "duration": 42,
    "start_time": "2025-02-09T14:07:36.736Z"
   },
   {
    "duration": 545,
    "start_time": "2025-02-09T14:07:36.780Z"
   },
   {
    "duration": 115,
    "start_time": "2025-02-09T14:07:37.326Z"
   },
   {
    "duration": 15,
    "start_time": "2025-02-09T14:07:37.443Z"
   },
   {
    "duration": 10,
    "start_time": "2025-02-09T14:07:37.460Z"
   },
   {
    "duration": 13,
    "start_time": "2025-02-09T14:07:37.471Z"
   },
   {
    "duration": 24,
    "start_time": "2025-02-09T14:07:37.486Z"
   },
   {
    "duration": 376,
    "start_time": "2025-02-09T14:07:37.512Z"
   },
   {
    "duration": 107,
    "start_time": "2025-02-09T14:07:37.890Z"
   },
   {
    "duration": 13,
    "start_time": "2025-02-09T14:07:37.998Z"
   },
   {
    "duration": 17,
    "start_time": "2025-02-09T14:07:38.012Z"
   },
   {
    "duration": 7,
    "start_time": "2025-02-09T14:07:38.030Z"
   },
   {
    "duration": 4,
    "start_time": "2025-02-09T14:07:38.042Z"
   },
   {
    "duration": 7,
    "start_time": "2025-02-09T14:07:38.047Z"
   },
   {
    "duration": 302,
    "start_time": "2025-02-09T14:07:38.055Z"
   },
   {
    "duration": 110,
    "start_time": "2025-02-09T14:07:38.358Z"
   },
   {
    "duration": 6,
    "start_time": "2025-02-09T14:07:38.470Z"
   },
   {
    "duration": 17,
    "start_time": "2025-02-09T14:07:38.477Z"
   },
   {
    "duration": 18,
    "start_time": "2025-02-09T14:07:38.495Z"
   },
   {
    "duration": 147,
    "start_time": "2025-02-09T14:07:38.515Z"
   },
   {
    "duration": 118,
    "start_time": "2025-02-09T14:07:38.663Z"
   },
   {
    "duration": 0,
    "start_time": "2025-02-09T14:07:38.782Z"
   },
   {
    "duration": 0,
    "start_time": "2025-02-09T14:07:38.784Z"
   },
   {
    "duration": 0,
    "start_time": "2025-02-09T14:07:38.785Z"
   },
   {
    "duration": 0,
    "start_time": "2025-02-09T14:07:38.786Z"
   },
   {
    "duration": 5,
    "start_time": "2025-02-09T14:10:04.171Z"
   },
   {
    "duration": 8,
    "start_time": "2025-02-09T14:10:05.347Z"
   },
   {
    "duration": 6,
    "start_time": "2025-02-09T14:10:47.640Z"
   },
   {
    "duration": 8,
    "start_time": "2025-02-09T14:10:48.158Z"
   },
   {
    "duration": 178,
    "start_time": "2025-02-09T14:10:48.856Z"
   },
   {
    "duration": 10,
    "start_time": "2025-02-09T14:10:54.112Z"
   },
   {
    "duration": 9,
    "start_time": "2025-02-09T14:10:55.094Z"
   },
   {
    "duration": 162,
    "start_time": "2025-02-09T14:10:55.464Z"
   },
   {
    "duration": 1222,
    "start_time": "2025-02-09T14:11:09.579Z"
   },
   {
    "duration": 2208,
    "start_time": "2025-02-09T14:11:10.803Z"
   },
   {
    "duration": 38,
    "start_time": "2025-02-09T14:11:13.015Z"
   },
   {
    "duration": 4,
    "start_time": "2025-02-09T14:11:13.055Z"
   },
   {
    "duration": 59,
    "start_time": "2025-02-09T14:11:13.060Z"
   },
   {
    "duration": 3094,
    "start_time": "2025-02-09T14:11:13.120Z"
   },
   {
    "duration": 230,
    "start_time": "2025-02-09T14:11:16.216Z"
   },
   {
    "duration": 34,
    "start_time": "2025-02-09T14:11:16.448Z"
   },
   {
    "duration": 37,
    "start_time": "2025-02-09T14:11:16.483Z"
   },
   {
    "duration": 15,
    "start_time": "2025-02-09T14:11:16.523Z"
   },
   {
    "duration": 33,
    "start_time": "2025-02-09T14:11:16.539Z"
   },
   {
    "duration": 43,
    "start_time": "2025-02-09T14:11:16.573Z"
   },
   {
    "duration": 537,
    "start_time": "2025-02-09T14:11:16.617Z"
   },
   {
    "duration": 16,
    "start_time": "2025-02-09T14:11:17.156Z"
   },
   {
    "duration": 193,
    "start_time": "2025-02-09T14:11:17.174Z"
   },
   {
    "duration": 64,
    "start_time": "2025-02-09T14:11:17.369Z"
   },
   {
    "duration": 39,
    "start_time": "2025-02-09T14:11:17.434Z"
   },
   {
    "duration": 40,
    "start_time": "2025-02-09T14:11:17.475Z"
   },
   {
    "duration": 18,
    "start_time": "2025-02-09T14:11:17.517Z"
   },
   {
    "duration": 125,
    "start_time": "2025-02-09T14:11:17.537Z"
   },
   {
    "duration": 11,
    "start_time": "2025-02-09T14:11:17.664Z"
   },
   {
    "duration": 16,
    "start_time": "2025-02-09T14:11:17.676Z"
   },
   {
    "duration": 41,
    "start_time": "2025-02-09T14:11:17.708Z"
   },
   {
    "duration": 117,
    "start_time": "2025-02-09T14:11:17.751Z"
   },
   {
    "duration": 23,
    "start_time": "2025-02-09T14:11:17.870Z"
   },
   {
    "duration": 11,
    "start_time": "2025-02-09T14:11:17.895Z"
   },
   {
    "duration": 22,
    "start_time": "2025-02-09T14:11:17.907Z"
   },
   {
    "duration": 146,
    "start_time": "2025-02-09T14:11:17.935Z"
   },
   {
    "duration": 116,
    "start_time": "2025-02-09T14:11:18.083Z"
   },
   {
    "duration": 37,
    "start_time": "2025-02-09T14:11:18.201Z"
   },
   {
    "duration": 90,
    "start_time": "2025-02-09T14:11:18.240Z"
   },
   {
    "duration": 85,
    "start_time": "2025-02-09T14:11:18.332Z"
   },
   {
    "duration": 12,
    "start_time": "2025-02-09T14:11:18.419Z"
   },
   {
    "duration": 174,
    "start_time": "2025-02-09T14:11:18.433Z"
   },
   {
    "duration": 72,
    "start_time": "2025-02-09T14:11:18.608Z"
   },
   {
    "duration": 16,
    "start_time": "2025-02-09T14:11:18.681Z"
   },
   {
    "duration": 8,
    "start_time": "2025-02-09T14:11:18.710Z"
   },
   {
    "duration": 21,
    "start_time": "2025-02-09T14:11:18.720Z"
   },
   {
    "duration": 218,
    "start_time": "2025-02-09T14:11:18.743Z"
   },
   {
    "duration": 21,
    "start_time": "2025-02-09T14:11:18.963Z"
   },
   {
    "duration": 39,
    "start_time": "2025-02-09T14:11:18.986Z"
   },
   {
    "duration": 23,
    "start_time": "2025-02-09T14:11:19.027Z"
   },
   {
    "duration": 19,
    "start_time": "2025-02-09T14:11:19.052Z"
   },
   {
    "duration": 4,
    "start_time": "2025-02-09T14:11:19.073Z"
   },
   {
    "duration": 49,
    "start_time": "2025-02-09T14:11:19.078Z"
   },
   {
    "duration": 25,
    "start_time": "2025-02-09T14:11:19.129Z"
   },
   {
    "duration": 276,
    "start_time": "2025-02-09T14:11:19.156Z"
   },
   {
    "duration": 13,
    "start_time": "2025-02-09T14:11:19.434Z"
   },
   {
    "duration": 33,
    "start_time": "2025-02-09T14:11:19.448Z"
   },
   {
    "duration": 42,
    "start_time": "2025-02-09T14:11:19.483Z"
   },
   {
    "duration": 5,
    "start_time": "2025-02-09T14:11:19.527Z"
   },
   {
    "duration": 77,
    "start_time": "2025-02-09T14:11:19.534Z"
   },
   {
    "duration": 30,
    "start_time": "2025-02-09T14:11:19.612Z"
   },
   {
    "duration": 14,
    "start_time": "2025-02-09T14:11:19.643Z"
   },
   {
    "duration": 20,
    "start_time": "2025-02-09T14:11:19.659Z"
   },
   {
    "duration": 49,
    "start_time": "2025-02-09T14:11:19.681Z"
   },
   {
    "duration": 90,
    "start_time": "2025-02-09T14:11:19.732Z"
   },
   {
    "duration": 35,
    "start_time": "2025-02-09T14:11:19.824Z"
   },
   {
    "duration": 7,
    "start_time": "2025-02-09T14:11:19.860Z"
   },
   {
    "duration": 6,
    "start_time": "2025-02-09T14:11:19.869Z"
   },
   {
    "duration": 11,
    "start_time": "2025-02-09T14:11:19.876Z"
   },
   {
    "duration": 34,
    "start_time": "2025-02-09T14:11:19.888Z"
   },
   {
    "duration": 14,
    "start_time": "2025-02-09T14:11:19.924Z"
   },
   {
    "duration": 14,
    "start_time": "2025-02-09T14:11:19.940Z"
   },
   {
    "duration": 23,
    "start_time": "2025-02-09T14:11:19.956Z"
   },
   {
    "duration": 55,
    "start_time": "2025-02-09T14:11:19.981Z"
   },
   {
    "duration": 29,
    "start_time": "2025-02-09T14:11:20.038Z"
   },
   {
    "duration": 15,
    "start_time": "2025-02-09T14:11:20.069Z"
   },
   {
    "duration": 10,
    "start_time": "2025-02-09T14:11:20.086Z"
   },
   {
    "duration": 26,
    "start_time": "2025-02-09T14:11:20.097Z"
   },
   {
    "duration": 511,
    "start_time": "2025-02-09T14:11:20.125Z"
   },
   {
    "duration": 114,
    "start_time": "2025-02-09T14:11:20.638Z"
   },
   {
    "duration": 15,
    "start_time": "2025-02-09T14:11:20.754Z"
   },
   {
    "duration": 7,
    "start_time": "2025-02-09T14:11:20.770Z"
   },
   {
    "duration": 31,
    "start_time": "2025-02-09T14:11:20.779Z"
   },
   {
    "duration": 8,
    "start_time": "2025-02-09T14:11:20.812Z"
   },
   {
    "duration": 381,
    "start_time": "2025-02-09T14:11:20.821Z"
   },
   {
    "duration": 107,
    "start_time": "2025-02-09T14:11:21.208Z"
   },
   {
    "duration": 9,
    "start_time": "2025-02-09T14:11:21.316Z"
   },
   {
    "duration": 6,
    "start_time": "2025-02-09T14:11:21.326Z"
   },
   {
    "duration": 7,
    "start_time": "2025-02-09T14:11:21.334Z"
   },
   {
    "duration": 4,
    "start_time": "2025-02-09T14:11:21.346Z"
   },
   {
    "duration": 7,
    "start_time": "2025-02-09T14:11:21.351Z"
   },
   {
    "duration": 322,
    "start_time": "2025-02-09T14:11:21.359Z"
   },
   {
    "duration": 113,
    "start_time": "2025-02-09T14:11:21.683Z"
   },
   {
    "duration": 15,
    "start_time": "2025-02-09T14:11:21.798Z"
   },
   {
    "duration": 45,
    "start_time": "2025-02-09T14:11:21.814Z"
   },
   {
    "duration": 7,
    "start_time": "2025-02-09T14:11:21.860Z"
   },
   {
    "duration": 145,
    "start_time": "2025-02-09T14:11:21.869Z"
   },
   {
    "duration": 6,
    "start_time": "2025-02-09T14:11:22.016Z"
   },
   {
    "duration": 7,
    "start_time": "2025-02-09T14:11:22.023Z"
   },
   {
    "duration": 177,
    "start_time": "2025-02-09T14:11:22.032Z"
   },
   {
    "duration": 8,
    "start_time": "2025-02-09T14:11:22.211Z"
   },
   {
    "duration": 7,
    "start_time": "2025-02-09T14:11:22.221Z"
   },
   {
    "duration": 199,
    "start_time": "2025-02-09T14:11:22.229Z"
   },
   {
    "duration": 52,
    "start_time": "2025-02-12T10:29:12.340Z"
   },
   {
    "duration": 5246,
    "start_time": "2025-02-12T10:29:18.152Z"
   },
   {
    "duration": 2529,
    "start_time": "2025-02-12T10:29:23.400Z"
   },
   {
    "duration": 53,
    "start_time": "2025-02-12T10:29:25.931Z"
   },
   {
    "duration": 5,
    "start_time": "2025-02-12T10:29:25.987Z"
   },
   {
    "duration": 56,
    "start_time": "2025-02-12T10:29:25.994Z"
   },
   {
    "duration": 3462,
    "start_time": "2025-02-12T10:29:26.053Z"
   },
   {
    "duration": 259,
    "start_time": "2025-02-12T10:29:29.517Z"
   },
   {
    "duration": 37,
    "start_time": "2025-02-12T10:29:29.778Z"
   },
   {
    "duration": 28,
    "start_time": "2025-02-12T10:29:29.817Z"
   },
   {
    "duration": 36,
    "start_time": "2025-02-12T10:29:29.848Z"
   },
   {
    "duration": 37,
    "start_time": "2025-02-12T10:29:29.885Z"
   },
   {
    "duration": 41,
    "start_time": "2025-02-12T10:29:29.923Z"
   },
   {
    "duration": 607,
    "start_time": "2025-02-12T10:29:29.966Z"
   },
   {
    "duration": 17,
    "start_time": "2025-02-12T10:29:30.574Z"
   },
   {
    "duration": 213,
    "start_time": "2025-02-12T10:29:30.593Z"
   },
   {
    "duration": 68,
    "start_time": "2025-02-12T10:29:30.807Z"
   },
   {
    "duration": 44,
    "start_time": "2025-02-12T10:29:30.877Z"
   },
   {
    "duration": 24,
    "start_time": "2025-02-12T10:29:30.923Z"
   },
   {
    "duration": 38,
    "start_time": "2025-02-12T10:29:30.948Z"
   },
   {
    "duration": 135,
    "start_time": "2025-02-12T10:29:30.988Z"
   },
   {
    "duration": 14,
    "start_time": "2025-02-12T10:29:31.125Z"
   },
   {
    "duration": 41,
    "start_time": "2025-02-12T10:29:31.140Z"
   },
   {
    "duration": 62,
    "start_time": "2025-02-12T10:29:31.183Z"
   },
   {
    "duration": 47,
    "start_time": "2025-02-12T10:29:31.246Z"
   },
   {
    "duration": 34,
    "start_time": "2025-02-12T10:29:31.294Z"
   },
   {
    "duration": 13,
    "start_time": "2025-02-12T10:29:31.330Z"
   },
   {
    "duration": 28,
    "start_time": "2025-02-12T10:29:31.345Z"
   },
   {
    "duration": 179,
    "start_time": "2025-02-12T10:29:31.378Z"
   },
   {
    "duration": 137,
    "start_time": "2025-02-12T10:29:31.558Z"
   },
   {
    "duration": 37,
    "start_time": "2025-02-12T10:29:31.697Z"
   },
   {
    "duration": 223,
    "start_time": "2025-02-12T10:29:31.736Z"
   },
   {
    "duration": 91,
    "start_time": "2025-02-12T10:29:31.961Z"
   },
   {
    "duration": 18,
    "start_time": "2025-02-12T10:29:32.054Z"
   },
   {
    "duration": 186,
    "start_time": "2025-02-12T10:29:32.074Z"
   },
   {
    "duration": 82,
    "start_time": "2025-02-12T10:29:32.262Z"
   },
   {
    "duration": 26,
    "start_time": "2025-02-12T10:29:32.346Z"
   },
   {
    "duration": 8,
    "start_time": "2025-02-12T10:29:32.374Z"
   },
   {
    "duration": 24,
    "start_time": "2025-02-12T10:29:32.384Z"
   },
   {
    "duration": 214,
    "start_time": "2025-02-12T10:29:32.410Z"
   },
   {
    "duration": 26,
    "start_time": "2025-02-12T10:29:32.626Z"
   },
   {
    "duration": 42,
    "start_time": "2025-02-12T10:29:32.671Z"
   },
   {
    "duration": 31,
    "start_time": "2025-02-12T10:29:32.715Z"
   },
   {
    "duration": 34,
    "start_time": "2025-02-12T10:29:32.748Z"
   },
   {
    "duration": 14,
    "start_time": "2025-02-12T10:29:32.784Z"
   },
   {
    "duration": 52,
    "start_time": "2025-02-12T10:29:32.800Z"
   },
   {
    "duration": 36,
    "start_time": "2025-02-12T10:29:32.854Z"
   },
   {
    "duration": 331,
    "start_time": "2025-02-12T10:29:32.892Z"
   },
   {
    "duration": 16,
    "start_time": "2025-02-12T10:29:33.225Z"
   },
   {
    "duration": 46,
    "start_time": "2025-02-12T10:29:33.243Z"
   },
   {
    "duration": 37,
    "start_time": "2025-02-12T10:29:33.291Z"
   },
   {
    "duration": 7,
    "start_time": "2025-02-12T10:29:33.330Z"
   },
   {
    "duration": 91,
    "start_time": "2025-02-12T10:29:33.339Z"
   },
   {
    "duration": 43,
    "start_time": "2025-02-12T10:29:33.433Z"
   },
   {
    "duration": 15,
    "start_time": "2025-02-12T10:29:33.478Z"
   },
   {
    "duration": 25,
    "start_time": "2025-02-12T10:29:33.495Z"
   },
   {
    "duration": 29,
    "start_time": "2025-02-12T10:29:33.522Z"
   },
   {
    "duration": 109,
    "start_time": "2025-02-12T10:29:33.552Z"
   },
   {
    "duration": 28,
    "start_time": "2025-02-12T10:29:33.663Z"
   },
   {
    "duration": 8,
    "start_time": "2025-02-12T10:29:33.693Z"
   },
   {
    "duration": 91,
    "start_time": "2025-02-12T10:29:33.703Z"
   },
   {
    "duration": 11,
    "start_time": "2025-02-12T10:29:33.796Z"
   },
   {
    "duration": 24,
    "start_time": "2025-02-12T10:29:33.809Z"
   },
   {
    "duration": 17,
    "start_time": "2025-02-12T10:29:33.834Z"
   },
   {
    "duration": 31,
    "start_time": "2025-02-12T10:29:33.853Z"
   },
   {
    "duration": 26,
    "start_time": "2025-02-12T10:29:33.886Z"
   },
   {
    "duration": 62,
    "start_time": "2025-02-12T10:29:33.914Z"
   },
   {
    "duration": 4,
    "start_time": "2025-02-12T10:29:33.978Z"
   },
   {
    "duration": 11,
    "start_time": "2025-02-12T10:29:33.983Z"
   },
   {
    "duration": 18,
    "start_time": "2025-02-12T10:29:33.995Z"
   },
   {
    "duration": 11,
    "start_time": "2025-02-12T10:29:34.015Z"
   },
   {
    "duration": 605,
    "start_time": "2025-02-12T10:29:34.028Z"
   },
   {
    "duration": 129,
    "start_time": "2025-02-12T10:29:34.635Z"
   },
   {
    "duration": 23,
    "start_time": "2025-02-12T10:29:34.765Z"
   },
   {
    "duration": 9,
    "start_time": "2025-02-12T10:29:34.789Z"
   },
   {
    "duration": 19,
    "start_time": "2025-02-12T10:29:34.799Z"
   },
   {
    "duration": 10,
    "start_time": "2025-02-12T10:29:34.820Z"
   },
   {
    "duration": 466,
    "start_time": "2025-02-12T10:29:34.831Z"
   },
   {
    "duration": 128,
    "start_time": "2025-02-12T10:29:35.298Z"
   },
   {
    "duration": 9,
    "start_time": "2025-02-12T10:29:35.428Z"
   },
   {
    "duration": 23,
    "start_time": "2025-02-12T10:29:35.440Z"
   },
   {
    "duration": 13,
    "start_time": "2025-02-12T10:29:35.472Z"
   },
   {
    "duration": 136,
    "start_time": "2025-02-12T10:29:35.492Z"
   },
   {
    "duration": 0,
    "start_time": "2025-02-12T10:29:35.629Z"
   },
   {
    "duration": 0,
    "start_time": "2025-02-12T10:29:35.631Z"
   },
   {
    "duration": 0,
    "start_time": "2025-02-12T10:29:35.632Z"
   },
   {
    "duration": 0,
    "start_time": "2025-02-12T10:29:35.633Z"
   },
   {
    "duration": 0,
    "start_time": "2025-02-12T10:29:35.635Z"
   },
   {
    "duration": 0,
    "start_time": "2025-02-12T10:29:35.636Z"
   },
   {
    "duration": 0,
    "start_time": "2025-02-12T10:29:35.637Z"
   },
   {
    "duration": 0,
    "start_time": "2025-02-12T10:29:35.638Z"
   },
   {
    "duration": 0,
    "start_time": "2025-02-12T10:29:35.639Z"
   },
   {
    "duration": 0,
    "start_time": "2025-02-12T10:29:35.640Z"
   },
   {
    "duration": 0,
    "start_time": "2025-02-12T10:29:35.642Z"
   },
   {
    "duration": 0,
    "start_time": "2025-02-12T10:29:35.643Z"
   },
   {
    "duration": 0,
    "start_time": "2025-02-12T10:29:35.644Z"
   },
   {
    "duration": 7,
    "start_time": "2025-02-12T10:30:21.207Z"
   },
   {
    "duration": 10,
    "start_time": "2025-02-12T10:30:23.596Z"
   },
   {
    "duration": 324,
    "start_time": "2025-02-12T10:30:23.822Z"
   },
   {
    "duration": 126,
    "start_time": "2025-02-12T10:30:24.148Z"
   },
   {
    "duration": 7,
    "start_time": "2025-02-12T10:30:25.426Z"
   },
   {
    "duration": 11,
    "start_time": "2025-02-12T10:30:26.515Z"
   },
   {
    "duration": 9,
    "start_time": "2025-02-12T10:30:26.962Z"
   },
   {
    "duration": 169,
    "start_time": "2025-02-12T10:30:27.369Z"
   },
   {
    "duration": 8,
    "start_time": "2025-02-12T10:30:27.766Z"
   },
   {
    "duration": 9,
    "start_time": "2025-02-12T10:30:27.954Z"
   },
   {
    "duration": 179,
    "start_time": "2025-02-12T10:30:28.156Z"
   },
   {
    "duration": 10,
    "start_time": "2025-02-12T10:30:29.123Z"
   },
   {
    "duration": 10,
    "start_time": "2025-02-12T10:30:29.932Z"
   },
   {
    "duration": 193,
    "start_time": "2025-02-12T10:30:30.227Z"
   },
   {
    "duration": 8,
    "start_time": "2025-02-12T10:33:06.328Z"
   },
   {
    "duration": 9,
    "start_time": "2025-02-12T10:33:07.744Z"
   },
   {
    "duration": 187,
    "start_time": "2025-02-12T10:33:08.465Z"
   },
   {
    "duration": 6,
    "start_time": "2025-02-12T10:35:10.716Z"
   },
   {
    "duration": 11,
    "start_time": "2025-02-12T10:35:11.358Z"
   },
   {
    "duration": 8,
    "start_time": "2025-02-12T10:35:12.245Z"
   },
   {
    "duration": 181,
    "start_time": "2025-02-12T10:35:13.887Z"
   },
   {
    "duration": 6,
    "start_time": "2025-02-12T10:35:18.746Z"
   },
   {
    "duration": 6,
    "start_time": "2025-02-12T10:35:44.011Z"
   },
   {
    "duration": 9,
    "start_time": "2025-02-12T10:35:45.382Z"
   },
   {
    "duration": 180,
    "start_time": "2025-02-12T10:35:46.942Z"
   },
   {
    "duration": 10,
    "start_time": "2025-02-12T10:35:53.796Z"
   },
   {
    "duration": 8,
    "start_time": "2025-02-12T10:36:07.507Z"
   },
   {
    "duration": 189,
    "start_time": "2025-02-12T10:36:07.768Z"
   },
   {
    "duration": 5437,
    "start_time": "2025-10-27T09:34:42.841Z"
   },
   {
    "duration": 3372,
    "start_time": "2025-10-27T09:34:48.280Z"
   },
   {
    "duration": 40,
    "start_time": "2025-10-27T09:34:51.653Z"
   },
   {
    "duration": 4,
    "start_time": "2025-10-27T09:34:51.695Z"
   },
   {
    "duration": 66,
    "start_time": "2025-10-27T09:34:51.701Z"
   },
   {
    "duration": 3202,
    "start_time": "2025-10-27T09:34:51.769Z"
   },
   {
    "duration": 234,
    "start_time": "2025-10-27T09:34:54.973Z"
   },
   {
    "duration": 43,
    "start_time": "2025-10-27T09:34:55.209Z"
   },
   {
    "duration": 28,
    "start_time": "2025-10-27T09:34:55.254Z"
   },
   {
    "duration": 18,
    "start_time": "2025-10-27T09:34:55.284Z"
   },
   {
    "duration": 105,
    "start_time": "2025-10-27T09:34:55.304Z"
   },
   {
    "duration": 18,
    "start_time": "2025-10-27T09:34:55.411Z"
   },
   {
    "duration": 574,
    "start_time": "2025-10-27T09:34:55.431Z"
   },
   {
    "duration": 24,
    "start_time": "2025-10-27T09:34:56.008Z"
   },
   {
    "duration": 205,
    "start_time": "2025-10-27T09:34:56.034Z"
   },
   {
    "duration": 57,
    "start_time": "2025-10-27T09:34:56.241Z"
   },
   {
    "duration": 63,
    "start_time": "2025-10-27T09:34:56.300Z"
   },
   {
    "duration": 25,
    "start_time": "2025-10-27T09:34:56.365Z"
   },
   {
    "duration": 46,
    "start_time": "2025-10-27T09:34:56.392Z"
   },
   {
    "duration": 136,
    "start_time": "2025-10-27T09:34:56.440Z"
   },
   {
    "duration": 14,
    "start_time": "2025-10-27T09:34:56.578Z"
   },
   {
    "duration": 59,
    "start_time": "2025-10-27T09:34:56.594Z"
   },
   {
    "duration": 85,
    "start_time": "2025-10-27T09:34:56.656Z"
   },
   {
    "duration": 39,
    "start_time": "2025-10-27T09:34:56.743Z"
   },
   {
    "duration": 21,
    "start_time": "2025-10-27T09:34:56.784Z"
   },
   {
    "duration": 30,
    "start_time": "2025-10-27T09:34:56.807Z"
   },
   {
    "duration": 48,
    "start_time": "2025-10-27T09:34:56.839Z"
   },
   {
    "duration": 161,
    "start_time": "2025-10-27T09:34:56.889Z"
   },
   {
    "duration": 125,
    "start_time": "2025-10-27T09:34:57.052Z"
   },
   {
    "duration": 59,
    "start_time": "2025-10-27T09:34:57.179Z"
   },
   {
    "duration": 126,
    "start_time": "2025-10-27T09:34:57.240Z"
   },
   {
    "duration": 105,
    "start_time": "2025-10-27T09:34:57.369Z"
   },
   {
    "duration": 11,
    "start_time": "2025-10-27T09:34:57.476Z"
   },
   {
    "duration": 179,
    "start_time": "2025-10-27T09:34:57.489Z"
   },
   {
    "duration": 81,
    "start_time": "2025-10-27T09:34:57.670Z"
   },
   {
    "duration": 20,
    "start_time": "2025-10-27T09:34:57.753Z"
   },
   {
    "duration": 85,
    "start_time": "2025-10-27T09:34:57.775Z"
   },
   {
    "duration": 32,
    "start_time": "2025-10-27T09:34:57.861Z"
   },
   {
    "duration": 212,
    "start_time": "2025-10-27T09:34:57.895Z"
   },
   {
    "duration": 24,
    "start_time": "2025-10-27T09:34:58.108Z"
   },
   {
    "duration": 28,
    "start_time": "2025-10-27T09:34:58.141Z"
   },
   {
    "duration": 31,
    "start_time": "2025-10-27T09:34:58.170Z"
   },
   {
    "duration": 43,
    "start_time": "2025-10-27T09:34:58.203Z"
   },
   {
    "duration": 23,
    "start_time": "2025-10-27T09:34:58.248Z"
   },
   {
    "duration": 30,
    "start_time": "2025-10-27T09:34:58.273Z"
   },
   {
    "duration": 62,
    "start_time": "2025-10-27T09:34:58.306Z"
   },
   {
    "duration": 316,
    "start_time": "2025-10-27T09:34:58.370Z"
   },
   {
    "duration": 15,
    "start_time": "2025-10-27T09:34:58.687Z"
   },
   {
    "duration": 39,
    "start_time": "2025-10-27T09:34:58.703Z"
   },
   {
    "duration": 34,
    "start_time": "2025-10-27T09:34:58.744Z"
   },
   {
    "duration": 13,
    "start_time": "2025-10-27T09:34:58.780Z"
   },
   {
    "duration": 84,
    "start_time": "2025-10-27T09:34:58.794Z"
   },
   {
    "duration": 29,
    "start_time": "2025-10-27T09:34:58.880Z"
   },
   {
    "duration": 37,
    "start_time": "2025-10-27T09:34:58.911Z"
   },
   {
    "duration": 31,
    "start_time": "2025-10-27T09:34:58.950Z"
   },
   {
    "duration": 46,
    "start_time": "2025-10-27T09:34:58.983Z"
   },
   {
    "duration": 97,
    "start_time": "2025-10-27T09:34:59.031Z"
   },
   {
    "duration": 25,
    "start_time": "2025-10-27T09:34:59.131Z"
   },
   {
    "duration": 16,
    "start_time": "2025-10-27T09:34:59.158Z"
   },
   {
    "duration": 13,
    "start_time": "2025-10-27T09:34:59.176Z"
   },
   {
    "duration": 18,
    "start_time": "2025-10-27T09:34:59.190Z"
   },
   {
    "duration": 44,
    "start_time": "2025-10-27T09:34:59.210Z"
   },
   {
    "duration": 18,
    "start_time": "2025-10-27T09:34:59.256Z"
   },
   {
    "duration": 16,
    "start_time": "2025-10-27T09:34:59.276Z"
   },
   {
    "duration": 68,
    "start_time": "2025-10-27T09:34:59.293Z"
   },
   {
    "duration": 26,
    "start_time": "2025-10-27T09:34:59.363Z"
   },
   {
    "duration": 6,
    "start_time": "2025-10-27T09:34:59.391Z"
   },
   {
    "duration": 17,
    "start_time": "2025-10-27T09:34:59.399Z"
   },
   {
    "duration": 28,
    "start_time": "2025-10-27T09:34:59.417Z"
   },
   {
    "duration": 18,
    "start_time": "2025-10-27T09:34:59.447Z"
   },
   {
    "duration": 617,
    "start_time": "2025-10-27T09:34:59.466Z"
   },
   {
    "duration": 134,
    "start_time": "2025-10-27T09:35:00.085Z"
   },
   {
    "duration": 26,
    "start_time": "2025-10-27T09:35:00.221Z"
   },
   {
    "duration": 10,
    "start_time": "2025-10-27T09:35:00.249Z"
   },
   {
    "duration": 21,
    "start_time": "2025-10-27T09:35:00.261Z"
   },
   {
    "duration": 77,
    "start_time": "2025-10-27T09:35:00.284Z"
   },
   {
    "duration": 478,
    "start_time": "2025-10-27T09:35:00.362Z"
   },
   {
    "duration": 136,
    "start_time": "2025-10-27T09:35:00.842Z"
   },
   {
    "duration": 10,
    "start_time": "2025-10-27T09:35:00.979Z"
   },
   {
    "duration": 49,
    "start_time": "2025-10-27T09:35:00.991Z"
   },
   {
    "duration": 14,
    "start_time": "2025-10-27T09:35:01.042Z"
   },
   {
    "duration": 12,
    "start_time": "2025-10-27T09:35:01.058Z"
   },
   {
    "duration": 34,
    "start_time": "2025-10-27T09:35:01.071Z"
   },
   {
    "duration": 342,
    "start_time": "2025-10-27T09:35:01.107Z"
   },
   {
    "duration": 126,
    "start_time": "2025-10-27T09:35:01.451Z"
   },
   {
    "duration": 13,
    "start_time": "2025-10-27T09:35:01.579Z"
   },
   {
    "duration": 54,
    "start_time": "2025-10-27T09:35:01.594Z"
   },
   {
    "duration": 39,
    "start_time": "2025-10-27T09:35:01.649Z"
   },
   {
    "duration": 312,
    "start_time": "2025-10-27T09:35:01.689Z"
   },
   {
    "duration": 6,
    "start_time": "2025-10-27T09:35:02.003Z"
   },
   {
    "duration": 21,
    "start_time": "2025-10-27T09:35:02.011Z"
   },
   {
    "duration": 186,
    "start_time": "2025-10-27T09:35:02.035Z"
   },
   {
    "duration": 20,
    "start_time": "2025-10-27T09:35:02.222Z"
   },
   {
    "duration": 23,
    "start_time": "2025-10-27T09:35:02.244Z"
   },
   {
    "duration": 191,
    "start_time": "2025-10-27T09:35:02.269Z"
   },
   {
    "duration": 4,
    "start_time": "2025-10-27T09:44:56.027Z"
   },
   {
    "duration": 2378,
    "start_time": "2025-10-27T09:46:20.934Z"
   },
   {
    "duration": 36,
    "start_time": "2025-10-27T09:47:12.211Z"
   },
   {
    "duration": 34,
    "start_time": "2025-10-27T09:47:37.233Z"
   },
   {
    "duration": 4,
    "start_time": "2025-10-27T09:59:04.773Z"
   },
   {
    "duration": 21,
    "start_time": "2025-10-27T10:00:44.053Z"
   },
   {
    "duration": 1283,
    "start_time": "2025-10-27T10:05:51.443Z"
   },
   {
    "duration": 2773,
    "start_time": "2025-10-27T10:05:52.728Z"
   },
   {
    "duration": 49,
    "start_time": "2025-10-27T10:05:55.503Z"
   },
   {
    "duration": 4,
    "start_time": "2025-10-27T10:05:55.553Z"
   },
   {
    "duration": 31,
    "start_time": "2025-10-27T10:05:55.559Z"
   },
   {
    "duration": 3330,
    "start_time": "2025-10-27T10:05:55.592Z"
   },
   {
    "duration": 237,
    "start_time": "2025-10-27T10:05:58.924Z"
   },
   {
    "duration": 36,
    "start_time": "2025-10-27T10:05:59.162Z"
   },
   {
    "duration": 44,
    "start_time": "2025-10-27T10:05:59.200Z"
   },
   {
    "duration": 17,
    "start_time": "2025-10-27T10:05:59.247Z"
   },
   {
    "duration": 34,
    "start_time": "2025-10-27T10:05:59.266Z"
   },
   {
    "duration": 45,
    "start_time": "2025-10-27T10:05:59.301Z"
   },
   {
    "duration": 598,
    "start_time": "2025-10-27T10:05:59.348Z"
   },
   {
    "duration": 17,
    "start_time": "2025-10-27T10:05:59.948Z"
   },
   {
    "duration": 238,
    "start_time": "2025-10-27T10:05:59.966Z"
   },
   {
    "duration": 81,
    "start_time": "2025-10-27T10:06:00.205Z"
   },
   {
    "duration": 60,
    "start_time": "2025-10-27T10:06:00.288Z"
   },
   {
    "duration": 26,
    "start_time": "2025-10-27T10:06:00.350Z"
   },
   {
    "duration": 22,
    "start_time": "2025-10-27T10:06:00.378Z"
   },
   {
    "duration": 184,
    "start_time": "2025-10-27T10:06:00.402Z"
   },
   {
    "duration": 19,
    "start_time": "2025-10-27T10:06:00.589Z"
   },
   {
    "duration": 38,
    "start_time": "2025-10-27T10:06:00.610Z"
   },
   {
    "duration": 48,
    "start_time": "2025-10-27T10:06:00.650Z"
   },
   {
    "duration": 46,
    "start_time": "2025-10-27T10:06:00.700Z"
   },
   {
    "duration": 19,
    "start_time": "2025-10-27T10:06:00.748Z"
   },
   {
    "duration": 14,
    "start_time": "2025-10-27T10:06:00.770Z"
   },
   {
    "duration": 60,
    "start_time": "2025-10-27T10:06:00.786Z"
   },
   {
    "duration": 173,
    "start_time": "2025-10-27T10:06:00.850Z"
   },
   {
    "duration": 135,
    "start_time": "2025-10-27T10:06:01.028Z"
   },
   {
    "duration": 35,
    "start_time": "2025-10-27T10:06:01.165Z"
   },
   {
    "duration": 98,
    "start_time": "2025-10-27T10:06:01.202Z"
   },
   {
    "duration": 94,
    "start_time": "2025-10-27T10:06:01.302Z"
   },
   {
    "duration": 13,
    "start_time": "2025-10-27T10:06:01.398Z"
   },
   {
    "duration": 184,
    "start_time": "2025-10-27T10:06:01.412Z"
   },
   {
    "duration": 87,
    "start_time": "2025-10-27T10:06:01.598Z"
   },
   {
    "duration": 17,
    "start_time": "2025-10-27T10:06:01.687Z"
   },
   {
    "duration": 22,
    "start_time": "2025-10-27T10:06:01.707Z"
   },
   {
    "duration": 20,
    "start_time": "2025-10-27T10:06:01.731Z"
   },
   {
    "duration": 208,
    "start_time": "2025-10-27T10:06:01.753Z"
   },
   {
    "duration": 24,
    "start_time": "2025-10-27T10:06:01.964Z"
   },
   {
    "duration": 47,
    "start_time": "2025-10-27T10:06:01.990Z"
   },
   {
    "duration": 26,
    "start_time": "2025-10-27T10:06:02.039Z"
   },
   {
    "duration": 56,
    "start_time": "2025-10-27T10:06:02.067Z"
   },
   {
    "duration": 38,
    "start_time": "2025-10-27T10:06:02.125Z"
   },
   {
    "duration": 49,
    "start_time": "2025-10-27T10:06:02.164Z"
   },
   {
    "duration": 29,
    "start_time": "2025-10-27T10:06:02.214Z"
   },
   {
    "duration": 321,
    "start_time": "2025-10-27T10:06:02.245Z"
   },
   {
    "duration": 13,
    "start_time": "2025-10-27T10:06:02.568Z"
   },
   {
    "duration": 42,
    "start_time": "2025-10-27T10:06:02.584Z"
   },
   {
    "duration": 36,
    "start_time": "2025-10-27T10:06:02.628Z"
   },
   {
    "duration": 7,
    "start_time": "2025-10-27T10:06:02.666Z"
   },
   {
    "duration": 87,
    "start_time": "2025-10-27T10:06:02.675Z"
   },
   {
    "duration": 33,
    "start_time": "2025-10-27T10:06:02.765Z"
   },
   {
    "duration": 32,
    "start_time": "2025-10-27T10:06:02.799Z"
   },
   {
    "duration": 21,
    "start_time": "2025-10-27T10:06:02.833Z"
   },
   {
    "duration": 32,
    "start_time": "2025-10-27T10:06:02.856Z"
   },
   {
    "duration": 115,
    "start_time": "2025-10-27T10:06:02.890Z"
   },
   {
    "duration": 34,
    "start_time": "2025-10-27T10:06:03.006Z"
   },
   {
    "duration": 9,
    "start_time": "2025-10-27T10:06:03.042Z"
   },
   {
    "duration": 14,
    "start_time": "2025-10-27T10:06:03.053Z"
   },
   {
    "duration": 45,
    "start_time": "2025-10-27T10:06:03.068Z"
   },
   {
    "duration": 23,
    "start_time": "2025-10-27T10:06:03.115Z"
   },
   {
    "duration": 14,
    "start_time": "2025-10-27T10:06:03.140Z"
   },
   {
    "duration": 67,
    "start_time": "2025-10-27T10:06:03.155Z"
   },
   {
    "duration": 33,
    "start_time": "2025-10-27T10:06:03.223Z"
   },
   {
    "duration": 29,
    "start_time": "2025-10-27T10:06:03.258Z"
   },
   {
    "duration": 18,
    "start_time": "2025-10-27T10:06:03.289Z"
   },
   {
    "duration": 26,
    "start_time": "2025-10-27T10:06:03.308Z"
   },
   {
    "duration": 9,
    "start_time": "2025-10-27T10:06:03.336Z"
   },
   {
    "duration": 9,
    "start_time": "2025-10-27T10:06:03.347Z"
   },
   {
    "duration": 634,
    "start_time": "2025-10-27T10:06:03.358Z"
   },
   {
    "duration": 124,
    "start_time": "2025-10-27T10:06:03.994Z"
   },
   {
    "duration": 25,
    "start_time": "2025-10-27T10:06:04.120Z"
   },
   {
    "duration": 8,
    "start_time": "2025-10-27T10:06:04.148Z"
   },
   {
    "duration": 17,
    "start_time": "2025-10-27T10:06:04.158Z"
   },
   {
    "duration": 8,
    "start_time": "2025-10-27T10:06:04.177Z"
   },
   {
    "duration": 441,
    "start_time": "2025-10-27T10:06:04.187Z"
   },
   {
    "duration": 122,
    "start_time": "2025-10-27T10:06:04.630Z"
   },
   {
    "duration": 8,
    "start_time": "2025-10-27T10:06:04.754Z"
   },
   {
    "duration": 10,
    "start_time": "2025-10-27T10:06:04.764Z"
   },
   {
    "duration": 15,
    "start_time": "2025-10-27T10:06:04.776Z"
   },
   {
    "duration": 30,
    "start_time": "2025-10-27T10:06:04.800Z"
   },
   {
    "duration": 11,
    "start_time": "2025-10-27T10:06:04.832Z"
   },
   {
    "duration": 303,
    "start_time": "2025-10-27T10:06:04.845Z"
   },
   {
    "duration": 120,
    "start_time": "2025-10-27T10:06:05.150Z"
   },
   {
    "duration": 6,
    "start_time": "2025-10-27T10:06:05.272Z"
   },
   {
    "duration": 10,
    "start_time": "2025-10-27T10:06:05.280Z"
   },
   {
    "duration": 17,
    "start_time": "2025-10-27T10:06:05.292Z"
   },
   {
    "duration": 182,
    "start_time": "2025-10-27T10:06:05.311Z"
   },
   {
    "duration": 6,
    "start_time": "2025-10-27T10:06:05.495Z"
   },
   {
    "duration": 31,
    "start_time": "2025-10-27T10:06:05.503Z"
   },
   {
    "duration": 184,
    "start_time": "2025-10-27T10:06:05.536Z"
   },
   {
    "duration": 12,
    "start_time": "2025-10-27T10:06:05.722Z"
   },
   {
    "duration": 7,
    "start_time": "2025-10-27T10:06:05.736Z"
   },
   {
    "duration": 186,
    "start_time": "2025-10-27T10:06:05.745Z"
   },
   {
    "duration": 1332,
    "start_time": "2025-10-27T10:31:39.018Z"
   },
   {
    "duration": 2930,
    "start_time": "2025-10-27T10:31:40.352Z"
   },
   {
    "duration": 44,
    "start_time": "2025-10-27T10:31:43.284Z"
   },
   {
    "duration": 6,
    "start_time": "2025-10-27T10:31:43.331Z"
   },
   {
    "duration": 49,
    "start_time": "2025-10-27T10:31:43.340Z"
   },
   {
    "duration": 3088,
    "start_time": "2025-10-27T10:31:43.390Z"
   },
   {
    "duration": 258,
    "start_time": "2025-10-27T10:31:46.480Z"
   },
   {
    "duration": 36,
    "start_time": "2025-10-27T10:31:46.739Z"
   },
   {
    "duration": 28,
    "start_time": "2025-10-27T10:31:46.777Z"
   },
   {
    "duration": 19,
    "start_time": "2025-10-27T10:31:46.829Z"
   },
   {
    "duration": 36,
    "start_time": "2025-10-27T10:31:46.850Z"
   },
   {
    "duration": 50,
    "start_time": "2025-10-27T10:31:46.887Z"
   },
   {
    "duration": 577,
    "start_time": "2025-10-27T10:31:46.938Z"
   },
   {
    "duration": 32,
    "start_time": "2025-10-27T10:31:47.517Z"
   },
   {
    "duration": 202,
    "start_time": "2025-10-27T10:31:47.551Z"
   },
   {
    "duration": 56,
    "start_time": "2025-10-27T10:31:47.755Z"
   },
   {
    "duration": 63,
    "start_time": "2025-10-27T10:31:47.813Z"
   },
   {
    "duration": 25,
    "start_time": "2025-10-27T10:31:47.878Z"
   },
   {
    "duration": 48,
    "start_time": "2025-10-27T10:31:47.905Z"
   },
   {
    "duration": 151,
    "start_time": "2025-10-27T10:31:47.955Z"
   },
   {
    "duration": 26,
    "start_time": "2025-10-27T10:31:48.108Z"
   },
   {
    "duration": 21,
    "start_time": "2025-10-27T10:31:48.137Z"
   },
   {
    "duration": 41,
    "start_time": "2025-10-27T10:31:48.160Z"
   },
   {
    "duration": 57,
    "start_time": "2025-10-27T10:31:48.203Z"
   },
   {
    "duration": 14,
    "start_time": "2025-10-27T10:31:48.262Z"
   },
   {
    "duration": 10,
    "start_time": "2025-10-27T10:31:48.277Z"
   },
   {
    "duration": 55,
    "start_time": "2025-10-27T10:31:48.289Z"
   },
   {
    "duration": 175,
    "start_time": "2025-10-27T10:31:48.349Z"
   },
   {
    "duration": 123,
    "start_time": "2025-10-27T10:31:48.529Z"
   },
   {
    "duration": 34,
    "start_time": "2025-10-27T10:31:48.654Z"
   },
   {
    "duration": 96,
    "start_time": "2025-10-27T10:31:48.689Z"
   },
   {
    "duration": 100,
    "start_time": "2025-10-27T10:31:48.786Z"
   },
   {
    "duration": 17,
    "start_time": "2025-10-27T10:31:48.888Z"
   },
   {
    "duration": 179,
    "start_time": "2025-10-27T10:31:48.907Z"
   },
   {
    "duration": 90,
    "start_time": "2025-10-27T10:31:49.088Z"
   },
   {
    "duration": 16,
    "start_time": "2025-10-27T10:31:49.180Z"
   },
   {
    "duration": 10,
    "start_time": "2025-10-27T10:31:49.198Z"
   },
   {
    "duration": 44,
    "start_time": "2025-10-27T10:31:49.209Z"
   },
   {
    "duration": 207,
    "start_time": "2025-10-27T10:31:49.255Z"
   },
   {
    "duration": 26,
    "start_time": "2025-10-27T10:31:49.464Z"
   },
   {
    "duration": 54,
    "start_time": "2025-10-27T10:31:49.491Z"
   },
   {
    "duration": 26,
    "start_time": "2025-10-27T10:31:49.547Z"
   },
   {
    "duration": 22,
    "start_time": "2025-10-27T10:31:49.575Z"
   },
   {
    "duration": 37,
    "start_time": "2025-10-27T10:31:49.598Z"
   },
   {
    "duration": 34,
    "start_time": "2025-10-27T10:31:49.641Z"
   },
   {
    "duration": 26,
    "start_time": "2025-10-27T10:31:49.677Z"
   },
   {
    "duration": 350,
    "start_time": "2025-10-27T10:31:49.704Z"
   },
   {
    "duration": 15,
    "start_time": "2025-10-27T10:31:50.056Z"
   },
   {
    "duration": 37,
    "start_time": "2025-10-27T10:31:50.072Z"
   },
   {
    "duration": 58,
    "start_time": "2025-10-27T10:31:50.110Z"
   },
   {
    "duration": 6,
    "start_time": "2025-10-27T10:31:50.170Z"
   },
   {
    "duration": 93,
    "start_time": "2025-10-27T10:31:50.178Z"
   },
   {
    "duration": 31,
    "start_time": "2025-10-27T10:31:50.273Z"
   },
   {
    "duration": 39,
    "start_time": "2025-10-27T10:31:50.306Z"
   },
   {
    "duration": 16,
    "start_time": "2025-10-27T10:31:50.348Z"
   },
   {
    "duration": 44,
    "start_time": "2025-10-27T10:31:50.366Z"
   },
   {
    "duration": 116,
    "start_time": "2025-10-27T10:31:50.412Z"
   },
   {
    "duration": 30,
    "start_time": "2025-10-27T10:31:50.531Z"
   },
   {
    "duration": 11,
    "start_time": "2025-10-27T10:31:50.564Z"
   },
   {
    "duration": 8,
    "start_time": "2025-10-27T10:31:50.577Z"
   },
   {
    "duration": 50,
    "start_time": "2025-10-27T10:31:50.586Z"
   },
   {
    "duration": 26,
    "start_time": "2025-10-27T10:31:50.638Z"
   },
   {
    "duration": 16,
    "start_time": "2025-10-27T10:31:50.666Z"
   },
   {
    "duration": 15,
    "start_time": "2025-10-27T10:31:50.683Z"
   },
   {
    "duration": 52,
    "start_time": "2025-10-27T10:31:50.700Z"
   },
   {
    "duration": 28,
    "start_time": "2025-10-27T10:31:50.754Z"
   },
   {
    "duration": 3,
    "start_time": "2025-10-27T10:31:50.784Z"
   },
   {
    "duration": 55,
    "start_time": "2025-10-27T10:31:50.788Z"
   },
   {
    "duration": 10,
    "start_time": "2025-10-27T10:31:50.845Z"
   },
   {
    "duration": 10,
    "start_time": "2025-10-27T10:31:50.857Z"
   },
   {
    "duration": 632,
    "start_time": "2025-10-27T10:31:50.868Z"
   },
   {
    "duration": 134,
    "start_time": "2025-10-27T10:31:51.502Z"
   },
   {
    "duration": 19,
    "start_time": "2025-10-27T10:31:51.638Z"
   },
   {
    "duration": 8,
    "start_time": "2025-10-27T10:31:51.659Z"
   },
   {
    "duration": 16,
    "start_time": "2025-10-27T10:31:51.669Z"
   },
   {
    "duration": 8,
    "start_time": "2025-10-27T10:31:51.687Z"
   },
   {
    "duration": 483,
    "start_time": "2025-10-27T10:31:51.697Z"
   },
   {
    "duration": 124,
    "start_time": "2025-10-27T10:31:52.182Z"
   },
   {
    "duration": 8,
    "start_time": "2025-10-27T10:31:52.308Z"
   },
   {
    "duration": 14,
    "start_time": "2025-10-27T10:31:52.333Z"
   },
   {
    "duration": 9,
    "start_time": "2025-10-27T10:31:52.348Z"
   },
   {
    "duration": 4,
    "start_time": "2025-10-27T10:31:52.364Z"
   },
   {
    "duration": 11,
    "start_time": "2025-10-27T10:31:52.370Z"
   },
   {
    "duration": 346,
    "start_time": "2025-10-27T10:31:52.382Z"
   },
   {
    "duration": 118,
    "start_time": "2025-10-27T10:31:52.731Z"
   },
   {
    "duration": 7,
    "start_time": "2025-10-27T10:31:52.851Z"
   },
   {
    "duration": 10,
    "start_time": "2025-10-27T10:31:52.860Z"
   },
   {
    "duration": 8,
    "start_time": "2025-10-27T10:31:52.872Z"
   },
   {
    "duration": 239,
    "start_time": "2025-10-27T10:31:52.881Z"
   },
   {
    "duration": 11,
    "start_time": "2025-10-27T10:31:53.122Z"
   },
   {
    "duration": 42,
    "start_time": "2025-10-27T10:31:53.135Z"
   },
   {
    "duration": 222,
    "start_time": "2025-10-27T10:31:53.179Z"
   },
   {
    "duration": 9,
    "start_time": "2025-10-27T10:31:53.402Z"
   },
   {
    "duration": 26,
    "start_time": "2025-10-27T10:31:53.412Z"
   },
   {
    "duration": 200,
    "start_time": "2025-10-27T10:31:53.441Z"
   },
   {
    "duration": 103,
    "start_time": "2025-10-27T11:13:19.143Z"
   },
   {
    "duration": 38,
    "start_time": "2025-10-27T11:15:07.054Z"
   },
   {
    "duration": 37,
    "start_time": "2025-10-27T11:15:24.474Z"
   },
   {
    "duration": 21,
    "start_time": "2025-10-27T11:16:10.118Z"
   },
   {
    "duration": 20,
    "start_time": "2025-10-27T11:16:31.770Z"
   },
   {
    "duration": 29,
    "start_time": "2025-10-27T11:17:05.746Z"
   },
   {
    "duration": 607,
    "start_time": "2025-10-27T11:32:18.661Z"
   },
   {
    "duration": 36,
    "start_time": "2025-10-27T11:33:23.004Z"
   },
   {
    "duration": 220,
    "start_time": "2025-10-27T11:33:30.341Z"
   },
   {
    "duration": 48,
    "start_time": "2025-10-27T11:33:40.145Z"
   },
   {
    "duration": 44,
    "start_time": "2025-10-27T11:33:49.343Z"
   },
   {
    "duration": 33,
    "start_time": "2025-10-27T11:33:56.736Z"
   },
   {
    "duration": 33,
    "start_time": "2025-10-27T11:34:05.920Z"
   },
   {
    "duration": 93,
    "start_time": "2025-10-27T11:34:50.168Z"
   },
   {
    "duration": 14,
    "start_time": "2025-10-27T11:35:01.410Z"
   },
   {
    "duration": 1340,
    "start_time": "2025-10-27T11:36:07.446Z"
   },
   {
    "duration": 2804,
    "start_time": "2025-10-27T11:36:08.788Z"
   },
   {
    "duration": 61,
    "start_time": "2025-10-27T11:36:11.595Z"
   },
   {
    "duration": 4,
    "start_time": "2025-10-27T11:36:11.659Z"
   },
   {
    "duration": 38,
    "start_time": "2025-10-27T11:36:11.665Z"
   },
   {
    "duration": 3978,
    "start_time": "2025-10-27T11:36:11.705Z"
   },
   {
    "duration": 274,
    "start_time": "2025-10-27T11:36:15.685Z"
   },
   {
    "duration": 36,
    "start_time": "2025-10-27T11:36:15.961Z"
   },
   {
    "duration": 42,
    "start_time": "2025-10-27T11:36:15.999Z"
   },
   {
    "duration": 32,
    "start_time": "2025-10-27T11:36:16.043Z"
   },
   {
    "duration": 35,
    "start_time": "2025-10-27T11:36:16.076Z"
   },
   {
    "duration": 30,
    "start_time": "2025-10-27T11:36:16.113Z"
   },
   {
    "duration": 622,
    "start_time": "2025-10-27T11:36:16.150Z"
   },
   {
    "duration": 16,
    "start_time": "2025-10-27T11:36:16.774Z"
   },
   {
    "duration": 229,
    "start_time": "2025-10-27T11:36:16.792Z"
   },
   {
    "duration": 77,
    "start_time": "2025-10-27T11:36:17.022Z"
   },
   {
    "duration": 60,
    "start_time": "2025-10-27T11:36:17.101Z"
   },
   {
    "duration": 26,
    "start_time": "2025-10-27T11:36:17.163Z"
   },
   {
    "duration": 44,
    "start_time": "2025-10-27T11:36:17.191Z"
   },
   {
    "duration": 200,
    "start_time": "2025-10-27T11:36:17.239Z"
   },
   {
    "duration": 25,
    "start_time": "2025-10-27T11:36:17.441Z"
   },
   {
    "duration": 28,
    "start_time": "2025-10-27T11:36:17.469Z"
   },
   {
    "duration": 67,
    "start_time": "2025-10-27T11:36:17.499Z"
   },
   {
    "duration": 28,
    "start_time": "2025-10-27T11:36:17.567Z"
   },
   {
    "duration": 44,
    "start_time": "2025-10-27T11:36:17.596Z"
   },
   {
    "duration": 15,
    "start_time": "2025-10-27T11:36:17.648Z"
   },
   {
    "duration": 21,
    "start_time": "2025-10-27T11:36:17.665Z"
   },
   {
    "duration": 181,
    "start_time": "2025-10-27T11:36:17.688Z"
   },
   {
    "duration": 136,
    "start_time": "2025-10-27T11:36:17.871Z"
   },
   {
    "duration": 50,
    "start_time": "2025-10-27T11:36:18.009Z"
   },
   {
    "duration": 101,
    "start_time": "2025-10-27T11:36:18.061Z"
   },
   {
    "duration": 107,
    "start_time": "2025-10-27T11:36:18.164Z"
   },
   {
    "duration": 13,
    "start_time": "2025-10-27T11:36:18.273Z"
   },
   {
    "duration": 189,
    "start_time": "2025-10-27T11:36:18.288Z"
   },
   {
    "duration": 96,
    "start_time": "2025-10-27T11:36:18.478Z"
   },
   {
    "duration": 15,
    "start_time": "2025-10-27T11:36:18.576Z"
   },
   {
    "duration": 18,
    "start_time": "2025-10-27T11:36:18.593Z"
   },
   {
    "duration": 39,
    "start_time": "2025-10-27T11:36:18.612Z"
   },
   {
    "duration": 205,
    "start_time": "2025-10-27T11:36:18.654Z"
   },
   {
    "duration": 30,
    "start_time": "2025-10-27T11:36:18.864Z"
   },
   {
    "duration": 57,
    "start_time": "2025-10-27T11:36:18.895Z"
   },
   {
    "duration": 25,
    "start_time": "2025-10-27T11:36:18.955Z"
   },
   {
    "duration": 29,
    "start_time": "2025-10-27T11:36:18.981Z"
   },
   {
    "duration": 5,
    "start_time": "2025-10-27T11:36:19.011Z"
   },
   {
    "duration": 37,
    "start_time": "2025-10-27T11:36:19.018Z"
   },
   {
    "duration": 29,
    "start_time": "2025-10-27T11:36:19.057Z"
   },
   {
    "duration": 325,
    "start_time": "2025-10-27T11:36:19.088Z"
   },
   {
    "duration": 28,
    "start_time": "2025-10-27T11:36:19.415Z"
   },
   {
    "duration": 26,
    "start_time": "2025-10-27T11:36:19.447Z"
   },
   {
    "duration": 34,
    "start_time": "2025-10-27T11:36:19.475Z"
   },
   {
    "duration": 24,
    "start_time": "2025-10-27T11:36:19.512Z"
   },
   {
    "duration": 80,
    "start_time": "2025-10-27T11:36:19.538Z"
   },
   {
    "duration": 45,
    "start_time": "2025-10-27T11:36:19.620Z"
   },
   {
    "duration": 17,
    "start_time": "2025-10-27T11:36:19.666Z"
   },
   {
    "duration": 15,
    "start_time": "2025-10-27T11:36:19.685Z"
   },
   {
    "duration": 60,
    "start_time": "2025-10-27T11:36:19.702Z"
   },
   {
    "duration": 105,
    "start_time": "2025-10-27T11:36:19.763Z"
   },
   {
    "duration": 24,
    "start_time": "2025-10-27T11:36:19.870Z"
   },
   {
    "duration": 10,
    "start_time": "2025-10-27T11:36:19.897Z"
   },
   {
    "duration": 21,
    "start_time": "2025-10-27T11:36:19.909Z"
   },
   {
    "duration": 17,
    "start_time": "2025-10-27T11:36:19.932Z"
   },
   {
    "duration": 21,
    "start_time": "2025-10-27T11:36:19.959Z"
   },
   {
    "duration": 14,
    "start_time": "2025-10-27T11:36:19.982Z"
   },
   {
    "duration": 35,
    "start_time": "2025-10-27T11:36:19.997Z"
   },
   {
    "duration": 35,
    "start_time": "2025-10-27T11:36:20.034Z"
   },
   {
    "duration": 29,
    "start_time": "2025-10-27T11:36:20.071Z"
   },
   {
    "duration": 4,
    "start_time": "2025-10-27T11:36:20.102Z"
   },
   {
    "duration": 44,
    "start_time": "2025-10-27T11:36:20.107Z"
   },
   {
    "duration": 10,
    "start_time": "2025-10-27T11:36:20.153Z"
   },
   {
    "duration": 9,
    "start_time": "2025-10-27T11:36:20.165Z"
   },
   {
    "duration": 685,
    "start_time": "2025-10-27T11:36:20.175Z"
   },
   {
    "duration": 125,
    "start_time": "2025-10-27T11:36:20.864Z"
   },
   {
    "duration": 16,
    "start_time": "2025-10-27T11:36:20.991Z"
   },
   {
    "duration": 22,
    "start_time": "2025-10-27T11:36:21.009Z"
   },
   {
    "duration": 20,
    "start_time": "2025-10-27T11:36:21.033Z"
   },
   {
    "duration": 9,
    "start_time": "2025-10-27T11:36:21.056Z"
   },
   {
    "duration": 520,
    "start_time": "2025-10-27T11:36:21.067Z"
   },
   {
    "duration": 125,
    "start_time": "2025-10-27T11:36:21.588Z"
   },
   {
    "duration": 37,
    "start_time": "2025-10-27T11:36:21.715Z"
   },
   {
    "duration": 7,
    "start_time": "2025-10-27T11:36:21.754Z"
   },
   {
    "duration": 12,
    "start_time": "2025-10-27T11:36:21.763Z"
   },
   {
    "duration": 4,
    "start_time": "2025-10-27T11:36:21.777Z"
   },
   {
    "duration": 11,
    "start_time": "2025-10-27T11:36:21.782Z"
   },
   {
    "duration": 352,
    "start_time": "2025-10-27T11:36:21.795Z"
   },
   {
    "duration": 109,
    "start_time": "2025-10-27T11:36:22.152Z"
   },
   {
    "duration": 6,
    "start_time": "2025-10-27T11:36:22.263Z"
   },
   {
    "duration": 12,
    "start_time": "2025-10-27T11:36:22.271Z"
   },
   {
    "duration": 7,
    "start_time": "2025-10-27T11:36:22.285Z"
   },
   {
    "duration": 197,
    "start_time": "2025-10-27T11:36:22.293Z"
   },
   {
    "duration": 11,
    "start_time": "2025-10-27T11:36:22.492Z"
   },
   {
    "duration": 8,
    "start_time": "2025-10-27T11:36:22.505Z"
   },
   {
    "duration": 194,
    "start_time": "2025-10-27T11:36:22.514Z"
   },
   {
    "duration": 9,
    "start_time": "2025-10-27T11:36:22.709Z"
   },
   {
    "duration": 17,
    "start_time": "2025-10-27T11:36:22.728Z"
   },
   {
    "duration": 221,
    "start_time": "2025-10-27T11:36:22.746Z"
   },
   {
    "duration": 20,
    "start_time": "2025-10-27T12:14:40.977Z"
   },
   {
    "duration": 24,
    "start_time": "2025-10-27T12:30:47.648Z"
   },
   {
    "duration": 214,
    "start_time": "2025-10-27T12:30:50.595Z"
   },
   {
    "duration": 102,
    "start_time": "2025-10-27T12:33:40.570Z"
   },
   {
    "duration": 115,
    "start_time": "2025-10-27T12:33:47.354Z"
   },
   {
    "duration": 182,
    "start_time": "2025-10-27T12:36:59.824Z"
   },
   {
    "duration": 1639,
    "start_time": "2025-10-27T12:37:59.788Z"
   },
   {
    "duration": 1421,
    "start_time": "2025-10-27T12:38:55.245Z"
   },
   {
    "duration": 2970,
    "start_time": "2025-10-27T12:38:56.668Z"
   },
   {
    "duration": 46,
    "start_time": "2025-10-27T12:38:59.648Z"
   },
   {
    "duration": 6,
    "start_time": "2025-10-27T12:38:59.696Z"
   },
   {
    "duration": 64,
    "start_time": "2025-10-27T12:38:59.705Z"
   },
   {
    "duration": 3961,
    "start_time": "2025-10-27T12:38:59.771Z"
   },
   {
    "duration": 290,
    "start_time": "2025-10-27T12:39:03.735Z"
   },
   {
    "duration": 48,
    "start_time": "2025-10-27T12:39:04.028Z"
   },
   {
    "duration": 28,
    "start_time": "2025-10-27T12:39:04.078Z"
   },
   {
    "duration": 43,
    "start_time": "2025-10-27T12:39:04.129Z"
   },
   {
    "duration": 94,
    "start_time": "2025-10-27T12:39:04.174Z"
   },
   {
    "duration": 29,
    "start_time": "2025-10-27T12:39:04.270Z"
   },
   {
    "duration": 716,
    "start_time": "2025-10-27T12:39:04.301Z"
   },
   {
    "duration": 36,
    "start_time": "2025-10-27T12:39:05.029Z"
   },
   {
    "duration": 238,
    "start_time": "2025-10-27T12:39:05.067Z"
   },
   {
    "duration": 104,
    "start_time": "2025-10-27T12:39:05.307Z"
   },
   {
    "duration": 79,
    "start_time": "2025-10-27T12:39:05.413Z"
   },
   {
    "duration": 38,
    "start_time": "2025-10-27T12:39:05.495Z"
   },
   {
    "duration": 37,
    "start_time": "2025-10-27T12:39:05.535Z"
   },
   {
    "duration": 150,
    "start_time": "2025-10-27T12:39:05.574Z"
   },
   {
    "duration": 19,
    "start_time": "2025-10-27T12:39:05.731Z"
   },
   {
    "duration": 28,
    "start_time": "2025-10-27T12:39:05.752Z"
   },
   {
    "duration": 83,
    "start_time": "2025-10-27T12:39:05.782Z"
   },
   {
    "duration": 27,
    "start_time": "2025-10-27T12:39:05.869Z"
   },
   {
    "duration": 49,
    "start_time": "2025-10-27T12:39:05.897Z"
   },
   {
    "duration": 21,
    "start_time": "2025-10-27T12:39:05.948Z"
   },
   {
    "duration": 31,
    "start_time": "2025-10-27T12:39:05.971Z"
   },
   {
    "duration": 209,
    "start_time": "2025-10-27T12:39:06.004Z"
   },
   {
    "duration": 156,
    "start_time": "2025-10-27T12:39:06.216Z"
   },
   {
    "duration": 36,
    "start_time": "2025-10-27T12:39:06.374Z"
   },
   {
    "duration": 113,
    "start_time": "2025-10-27T12:39:06.412Z"
   },
   {
    "duration": 122,
    "start_time": "2025-10-27T12:39:06.527Z"
   },
   {
    "duration": 19,
    "start_time": "2025-10-27T12:39:06.652Z"
   },
   {
    "duration": 224,
    "start_time": "2025-10-27T12:39:06.673Z"
   },
   {
    "duration": 145,
    "start_time": "2025-10-27T12:39:06.899Z"
   },
   {
    "duration": 28,
    "start_time": "2025-10-27T12:39:07.047Z"
   },
   {
    "duration": 16,
    "start_time": "2025-10-27T12:39:07.078Z"
   },
   {
    "duration": 58,
    "start_time": "2025-10-27T12:39:07.096Z"
   },
   {
    "duration": 316,
    "start_time": "2025-10-27T12:39:07.157Z"
   },
   {
    "duration": 39,
    "start_time": "2025-10-27T12:39:07.476Z"
   },
   {
    "duration": 87,
    "start_time": "2025-10-27T12:39:07.520Z"
   },
   {
    "duration": 46,
    "start_time": "2025-10-27T12:39:07.609Z"
   },
   {
    "duration": 37,
    "start_time": "2025-10-27T12:39:07.657Z"
   },
   {
    "duration": 13,
    "start_time": "2025-10-27T12:39:07.696Z"
   },
   {
    "duration": 70,
    "start_time": "2025-10-27T12:39:07.711Z"
   },
   {
    "duration": 30,
    "start_time": "2025-10-27T12:39:07.783Z"
   },
   {
    "duration": 403,
    "start_time": "2025-10-27T12:39:07.815Z"
   },
   {
    "duration": 29,
    "start_time": "2025-10-27T12:39:08.219Z"
   },
   {
    "duration": 32,
    "start_time": "2025-10-27T12:39:08.250Z"
   },
   {
    "duration": 57,
    "start_time": "2025-10-27T12:39:08.284Z"
   },
   {
    "duration": 18,
    "start_time": "2025-10-27T12:39:08.343Z"
   },
   {
    "duration": 78,
    "start_time": "2025-10-27T12:39:08.363Z"
   },
   {
    "duration": 39,
    "start_time": "2025-10-27T12:39:08.443Z"
   },
   {
    "duration": 16,
    "start_time": "2025-10-27T12:39:08.484Z"
   },
   {
    "duration": 47,
    "start_time": "2025-10-27T12:39:08.502Z"
   },
   {
    "duration": 44,
    "start_time": "2025-10-27T12:39:08.552Z"
   },
   {
    "duration": 122,
    "start_time": "2025-10-27T12:39:08.598Z"
   },
   {
    "duration": 40,
    "start_time": "2025-10-27T12:39:08.722Z"
   },
   {
    "duration": 10,
    "start_time": "2025-10-27T12:39:08.764Z"
   },
   {
    "duration": 13,
    "start_time": "2025-10-27T12:39:08.776Z"
   },
   {
    "duration": 12,
    "start_time": "2025-10-27T12:39:08.791Z"
   },
   {
    "duration": 45,
    "start_time": "2025-10-27T12:39:08.805Z"
   },
   {
    "duration": 25,
    "start_time": "2025-10-27T12:39:08.852Z"
   },
   {
    "duration": 97,
    "start_time": "2025-10-27T12:39:08.879Z"
   },
   {
    "duration": 36,
    "start_time": "2025-10-27T12:39:08.977Z"
   },
   {
    "duration": 54,
    "start_time": "2025-10-27T12:39:09.014Z"
   },
   {
    "duration": 4,
    "start_time": "2025-10-27T12:39:09.070Z"
   },
   {
    "duration": 22,
    "start_time": "2025-10-27T12:39:09.076Z"
   },
   {
    "duration": 12,
    "start_time": "2025-10-27T12:39:09.100Z"
   },
   {
    "duration": 33,
    "start_time": "2025-10-27T12:39:09.113Z"
   },
   {
    "duration": 751,
    "start_time": "2025-10-27T12:39:09.149Z"
   },
   {
    "duration": 164,
    "start_time": "2025-10-27T12:39:09.902Z"
   },
   {
    "duration": 18,
    "start_time": "2025-10-27T12:39:10.068Z"
   },
   {
    "duration": 9,
    "start_time": "2025-10-27T12:39:10.087Z"
   },
   {
    "duration": 17,
    "start_time": "2025-10-27T12:39:10.097Z"
   },
   {
    "duration": 13,
    "start_time": "2025-10-27T12:39:10.132Z"
   },
   {
    "duration": 524,
    "start_time": "2025-10-27T12:39:10.148Z"
   },
   {
    "duration": 168,
    "start_time": "2025-10-27T12:39:10.674Z"
   },
   {
    "duration": 20,
    "start_time": "2025-10-27T12:39:10.847Z"
   },
   {
    "duration": 23,
    "start_time": "2025-10-27T12:39:10.869Z"
   },
   {
    "duration": 72,
    "start_time": "2025-10-27T12:39:10.894Z"
   },
   {
    "duration": 5,
    "start_time": "2025-10-27T12:39:10.968Z"
   },
   {
    "duration": 17,
    "start_time": "2025-10-27T12:39:10.975Z"
   },
   {
    "duration": 363,
    "start_time": "2025-10-27T12:39:10.994Z"
   },
   {
    "duration": 130,
    "start_time": "2025-10-27T12:39:11.360Z"
   },
   {
    "duration": 7,
    "start_time": "2025-10-27T12:39:11.492Z"
   },
   {
    "duration": 69,
    "start_time": "2025-10-27T12:39:11.501Z"
   },
   {
    "duration": 14,
    "start_time": "2025-10-27T12:39:11.572Z"
   },
   {
    "duration": 189,
    "start_time": "2025-10-27T12:39:11.588Z"
   },
   {
    "duration": 8,
    "start_time": "2025-10-27T12:39:11.778Z"
   },
   {
    "duration": 14,
    "start_time": "2025-10-27T12:39:11.787Z"
   },
   {
    "duration": 231,
    "start_time": "2025-10-27T12:39:11.802Z"
   },
   {
    "duration": 32,
    "start_time": "2025-10-27T12:39:12.035Z"
   },
   {
    "duration": 12,
    "start_time": "2025-10-27T12:39:12.069Z"
   },
   {
    "duration": 230,
    "start_time": "2025-10-27T12:39:12.083Z"
   },
   {
    "duration": 206,
    "start_time": "2025-10-27T12:59:21.452Z"
   },
   {
    "duration": 134,
    "start_time": "2025-10-27T13:00:26.337Z"
   },
   {
    "duration": 18,
    "start_time": "2025-10-27T13:00:26.544Z"
   },
   {
    "duration": 27,
    "start_time": "2025-10-27T13:00:26.737Z"
   },
   {
    "duration": 1501,
    "start_time": "2025-10-27T13:00:34.765Z"
   },
   {
    "duration": 2944,
    "start_time": "2025-10-27T13:00:36.269Z"
   },
   {
    "duration": 60,
    "start_time": "2025-10-27T13:00:39.214Z"
   },
   {
    "duration": 5,
    "start_time": "2025-10-27T13:00:39.277Z"
   },
   {
    "duration": 84,
    "start_time": "2025-10-27T13:00:39.284Z"
   },
   {
    "duration": 3991,
    "start_time": "2025-10-27T13:00:39.371Z"
   },
   {
    "duration": 277,
    "start_time": "2025-10-27T13:00:43.364Z"
   },
   {
    "duration": 42,
    "start_time": "2025-10-27T13:00:43.642Z"
   },
   {
    "duration": 60,
    "start_time": "2025-10-27T13:00:43.685Z"
   },
   {
    "duration": 21,
    "start_time": "2025-10-27T13:00:43.750Z"
   },
   {
    "duration": 33,
    "start_time": "2025-10-27T13:00:43.772Z"
   },
   {
    "duration": 62,
    "start_time": "2025-10-27T13:00:43.807Z"
   },
   {
    "duration": 622,
    "start_time": "2025-10-27T13:00:43.871Z"
   },
   {
    "duration": 16,
    "start_time": "2025-10-27T13:00:44.495Z"
   },
   {
    "duration": 243,
    "start_time": "2025-10-27T13:00:44.512Z"
   },
   {
    "duration": 62,
    "start_time": "2025-10-27T13:00:44.757Z"
   },
   {
    "duration": 62,
    "start_time": "2025-10-27T13:00:44.821Z"
   },
   {
    "duration": 25,
    "start_time": "2025-10-27T13:00:44.884Z"
   },
   {
    "duration": 55,
    "start_time": "2025-10-27T13:00:44.911Z"
   },
   {
    "duration": 155,
    "start_time": "2025-10-27T13:00:44.969Z"
   },
   {
    "duration": 26,
    "start_time": "2025-10-27T13:00:45.132Z"
   },
   {
    "duration": 30,
    "start_time": "2025-10-27T13:00:45.162Z"
   },
   {
    "duration": 67,
    "start_time": "2025-10-27T13:00:45.193Z"
   },
   {
    "duration": 46,
    "start_time": "2025-10-27T13:00:45.262Z"
   },
   {
    "duration": 45,
    "start_time": "2025-10-27T13:00:45.310Z"
   },
   {
    "duration": 19,
    "start_time": "2025-10-27T13:00:45.357Z"
   },
   {
    "duration": 21,
    "start_time": "2025-10-27T13:00:45.378Z"
   },
   {
    "duration": 214,
    "start_time": "2025-10-27T13:00:45.406Z"
   },
   {
    "duration": 152,
    "start_time": "2025-10-27T13:00:45.631Z"
   },
   {
    "duration": 70,
    "start_time": "2025-10-27T13:00:45.785Z"
   },
   {
    "duration": 123,
    "start_time": "2025-10-27T13:00:45.857Z"
   },
   {
    "duration": 119,
    "start_time": "2025-10-27T13:00:45.982Z"
   },
   {
    "duration": 11,
    "start_time": "2025-10-27T13:00:46.102Z"
   },
   {
    "duration": 180,
    "start_time": "2025-10-27T13:00:46.115Z"
   },
   {
    "duration": 111,
    "start_time": "2025-10-27T13:00:46.297Z"
   },
   {
    "duration": 17,
    "start_time": "2025-10-27T13:00:46.410Z"
   },
   {
    "duration": 36,
    "start_time": "2025-10-27T13:00:46.435Z"
   },
   {
    "duration": 23,
    "start_time": "2025-10-27T13:00:46.473Z"
   },
   {
    "duration": 216,
    "start_time": "2025-10-27T13:00:46.498Z"
   },
   {
    "duration": 51,
    "start_time": "2025-10-27T13:00:46.717Z"
   },
   {
    "duration": 28,
    "start_time": "2025-10-27T13:00:46.770Z"
   },
   {
    "duration": 43,
    "start_time": "2025-10-27T13:00:46.799Z"
   },
   {
    "duration": 31,
    "start_time": "2025-10-27T13:00:46.846Z"
   },
   {
    "duration": 24,
    "start_time": "2025-10-27T13:00:46.879Z"
   },
   {
    "duration": 40,
    "start_time": "2025-10-27T13:00:46.905Z"
   },
   {
    "duration": 106,
    "start_time": "2025-10-27T13:00:46.947Z"
   },
   {
    "duration": 362,
    "start_time": "2025-10-27T13:00:47.056Z"
   },
   {
    "duration": 26,
    "start_time": "2025-10-27T13:00:47.420Z"
   },
   {
    "duration": 74,
    "start_time": "2025-10-27T13:00:47.448Z"
   },
   {
    "duration": 63,
    "start_time": "2025-10-27T13:00:47.524Z"
   },
   {
    "duration": 6,
    "start_time": "2025-10-27T13:00:47.589Z"
   },
   {
    "duration": 149,
    "start_time": "2025-10-27T13:00:47.597Z"
   },
   {
    "duration": 40,
    "start_time": "2025-10-27T13:00:47.749Z"
   },
   {
    "duration": 18,
    "start_time": "2025-10-27T13:00:47.791Z"
   },
   {
    "duration": 72,
    "start_time": "2025-10-27T13:00:47.810Z"
   },
   {
    "duration": 56,
    "start_time": "2025-10-27T13:00:47.884Z"
   },
   {
    "duration": 111,
    "start_time": "2025-10-27T13:00:47.945Z"
   },
   {
    "duration": 22,
    "start_time": "2025-10-27T13:00:48.062Z"
   },
   {
    "duration": 96,
    "start_time": "2025-10-27T13:00:48.086Z"
   },
   {
    "duration": 32,
    "start_time": "2025-10-27T13:00:48.183Z"
   },
   {
    "duration": 56,
    "start_time": "2025-10-27T13:00:48.217Z"
   },
   {
    "duration": 103,
    "start_time": "2025-10-27T13:00:48.275Z"
   },
   {
    "duration": 91,
    "start_time": "2025-10-27T13:00:48.379Z"
   },
   {
    "duration": 53,
    "start_time": "2025-10-27T13:00:48.472Z"
   },
   {
    "duration": 146,
    "start_time": "2025-10-27T13:00:48.531Z"
   },
   {
    "duration": 94,
    "start_time": "2025-10-27T13:00:48.678Z"
   },
   {
    "duration": 65,
    "start_time": "2025-10-27T13:00:48.774Z"
   },
   {
    "duration": 61,
    "start_time": "2025-10-27T13:00:48.841Z"
   },
   {
    "duration": 72,
    "start_time": "2025-10-27T13:00:48.903Z"
   },
   {
    "duration": 77,
    "start_time": "2025-10-27T13:00:48.977Z"
   },
   {
    "duration": 599,
    "start_time": "2025-10-27T13:00:49.058Z"
   },
   {
    "duration": 124,
    "start_time": "2025-10-27T13:00:49.665Z"
   },
   {
    "duration": 16,
    "start_time": "2025-10-27T13:00:49.791Z"
   },
   {
    "duration": 25,
    "start_time": "2025-10-27T13:00:49.808Z"
   },
   {
    "duration": 60,
    "start_time": "2025-10-27T13:00:49.837Z"
   },
   {
    "duration": 67,
    "start_time": "2025-10-27T13:00:49.899Z"
   },
   {
    "duration": 501,
    "start_time": "2025-10-27T13:00:49.969Z"
   },
   {
    "duration": 147,
    "start_time": "2025-10-27T13:00:50.472Z"
   },
   {
    "duration": 34,
    "start_time": "2025-10-27T13:00:50.622Z"
   },
   {
    "duration": 45,
    "start_time": "2025-10-27T13:00:50.658Z"
   },
   {
    "duration": 76,
    "start_time": "2025-10-27T13:00:50.705Z"
   },
   {
    "duration": 67,
    "start_time": "2025-10-27T13:00:50.786Z"
   },
   {
    "duration": 33,
    "start_time": "2025-10-27T13:00:50.861Z"
   },
   {
    "duration": 381,
    "start_time": "2025-10-27T13:00:50.896Z"
   },
   {
    "duration": 135,
    "start_time": "2025-10-27T13:00:51.279Z"
   },
   {
    "duration": 25,
    "start_time": "2025-10-27T13:00:51.416Z"
   },
   {
    "duration": 24,
    "start_time": "2025-10-27T13:00:51.450Z"
   },
   {
    "duration": 60,
    "start_time": "2025-10-27T13:00:51.475Z"
   },
   {
    "duration": 233,
    "start_time": "2025-10-27T13:00:51.540Z"
   },
   {
    "duration": 7,
    "start_time": "2025-10-27T13:00:51.775Z"
   },
   {
    "duration": 94,
    "start_time": "2025-10-27T13:00:51.784Z"
   },
   {
    "duration": 215,
    "start_time": "2025-10-27T13:00:51.880Z"
   },
   {
    "duration": 9,
    "start_time": "2025-10-27T13:00:52.097Z"
   },
   {
    "duration": 48,
    "start_time": "2025-10-27T13:00:52.108Z"
   },
   {
    "duration": 232,
    "start_time": "2025-10-27T13:00:52.158Z"
   },
   {
    "duration": 218,
    "start_time": "2025-10-27T13:22:56.869Z"
   },
   {
    "duration": 27,
    "start_time": "2025-10-27T13:23:10.369Z"
   },
   {
    "duration": 36,
    "start_time": "2025-10-27T13:23:19.947Z"
   },
   {
    "duration": 29,
    "start_time": "2025-10-27T13:33:32.249Z"
   },
   {
    "duration": 15,
    "start_time": "2025-10-27T13:39:11.584Z"
   },
   {
    "duration": 357,
    "start_time": "2025-10-27T13:39:11.917Z"
   },
   {
    "duration": 18,
    "start_time": "2025-10-27T13:39:57.949Z"
   },
   {
    "duration": 124,
    "start_time": "2025-10-27T13:40:52.380Z"
   },
   {
    "duration": 79,
    "start_time": "2025-10-27T13:41:08.011Z"
   },
   {
    "duration": 21,
    "start_time": "2025-10-27T13:41:11.625Z"
   },
   {
    "duration": 28,
    "start_time": "2025-10-27T13:41:33.428Z"
   },
   {
    "duration": 10,
    "start_time": "2025-10-27T13:48:57.610Z"
   },
   {
    "duration": 11,
    "start_time": "2025-10-27T13:50:18.797Z"
   },
   {
    "duration": 14,
    "start_time": "2025-10-27T13:50:52.344Z"
   },
   {
    "duration": 26,
    "start_time": "2025-10-27T13:54:01.169Z"
   },
   {
    "duration": 581,
    "start_time": "2025-10-27T13:55:50.639Z"
   },
   {
    "duration": 1336,
    "start_time": "2025-10-27T13:56:01.906Z"
   },
   {
    "duration": 2817,
    "start_time": "2025-10-27T13:56:03.245Z"
   },
   {
    "duration": 39,
    "start_time": "2025-10-27T13:56:06.064Z"
   },
   {
    "duration": 5,
    "start_time": "2025-10-27T13:56:06.105Z"
   },
   {
    "duration": 51,
    "start_time": "2025-10-27T13:56:06.133Z"
   },
   {
    "duration": 3229,
    "start_time": "2025-10-27T13:56:06.185Z"
   },
   {
    "duration": 275,
    "start_time": "2025-10-27T13:56:09.415Z"
   },
   {
    "duration": 49,
    "start_time": "2025-10-27T13:56:09.691Z"
   },
   {
    "duration": 27,
    "start_time": "2025-10-27T13:56:09.742Z"
   },
   {
    "duration": 16,
    "start_time": "2025-10-27T13:56:09.772Z"
   },
   {
    "duration": 60,
    "start_time": "2025-10-27T13:56:09.789Z"
   },
   {
    "duration": 17,
    "start_time": "2025-10-27T13:56:09.851Z"
   },
   {
    "duration": 598,
    "start_time": "2025-10-27T13:56:09.869Z"
   },
   {
    "duration": 15,
    "start_time": "2025-10-27T13:56:10.470Z"
   },
   {
    "duration": 253,
    "start_time": "2025-10-27T13:56:10.486Z"
   },
   {
    "duration": 54,
    "start_time": "2025-10-27T13:56:10.741Z"
   },
   {
    "duration": 50,
    "start_time": "2025-10-27T13:56:10.796Z"
   },
   {
    "duration": 25,
    "start_time": "2025-10-27T13:56:10.847Z"
   },
   {
    "duration": 20,
    "start_time": "2025-10-27T13:56:10.873Z"
   },
   {
    "duration": 165,
    "start_time": "2025-10-27T13:56:10.895Z"
   },
   {
    "duration": 14,
    "start_time": "2025-10-27T13:56:11.062Z"
   },
   {
    "duration": 19,
    "start_time": "2025-10-27T13:56:11.077Z"
   },
   {
    "duration": 74,
    "start_time": "2025-10-27T13:56:11.097Z"
   },
   {
    "duration": 28,
    "start_time": "2025-10-27T13:56:11.173Z"
   },
   {
    "duration": 42,
    "start_time": "2025-10-27T13:56:11.202Z"
   },
   {
    "duration": 12,
    "start_time": "2025-10-27T13:56:11.245Z"
   },
   {
    "duration": 23,
    "start_time": "2025-10-27T13:56:11.258Z"
   },
   {
    "duration": 178,
    "start_time": "2025-10-27T13:56:11.282Z"
   },
   {
    "duration": 128,
    "start_time": "2025-10-27T13:56:11.462Z"
   },
   {
    "duration": 51,
    "start_time": "2025-10-27T13:56:11.592Z"
   },
   {
    "duration": 74,
    "start_time": "2025-10-27T13:56:11.645Z"
   },
   {
    "duration": 92,
    "start_time": "2025-10-27T13:56:11.728Z"
   },
   {
    "duration": 17,
    "start_time": "2025-10-27T13:56:11.828Z"
   },
   {
    "duration": 177,
    "start_time": "2025-10-27T13:56:11.846Z"
   },
   {
    "duration": 84,
    "start_time": "2025-10-27T13:56:12.025Z"
   },
   {
    "duration": 17,
    "start_time": "2025-10-27T13:56:12.111Z"
   },
   {
    "duration": 34,
    "start_time": "2025-10-27T13:56:12.132Z"
   },
   {
    "duration": 24,
    "start_time": "2025-10-27T13:56:12.168Z"
   },
   {
    "duration": 214,
    "start_time": "2025-10-27T13:56:12.194Z"
   },
   {
    "duration": 32,
    "start_time": "2025-10-27T13:56:12.410Z"
   },
   {
    "duration": 26,
    "start_time": "2025-10-27T13:56:12.448Z"
   },
   {
    "duration": 23,
    "start_time": "2025-10-27T13:56:12.476Z"
   },
   {
    "duration": 47,
    "start_time": "2025-10-27T13:56:12.501Z"
   },
   {
    "duration": 5,
    "start_time": "2025-10-27T13:56:12.550Z"
   },
   {
    "duration": 25,
    "start_time": "2025-10-27T13:56:12.556Z"
   },
   {
    "duration": 25,
    "start_time": "2025-10-27T13:56:12.582Z"
   },
   {
    "duration": 311,
    "start_time": "2025-10-27T13:56:12.628Z"
   },
   {
    "duration": 15,
    "start_time": "2025-10-27T13:56:12.942Z"
   },
   {
    "duration": 27,
    "start_time": "2025-10-27T13:56:12.958Z"
   },
   {
    "duration": 58,
    "start_time": "2025-10-27T13:56:12.988Z"
   },
   {
    "duration": 7,
    "start_time": "2025-10-27T13:56:13.048Z"
   },
   {
    "duration": 85,
    "start_time": "2025-10-27T13:56:13.056Z"
   },
   {
    "duration": 29,
    "start_time": "2025-10-27T13:56:13.143Z"
   },
   {
    "duration": 47,
    "start_time": "2025-10-27T13:56:13.174Z"
   },
   {
    "duration": 18,
    "start_time": "2025-10-27T13:56:13.223Z"
   },
   {
    "duration": 31,
    "start_time": "2025-10-27T13:56:13.244Z"
   },
   {
    "duration": 89,
    "start_time": "2025-10-27T13:56:13.277Z"
   },
   {
    "duration": 20,
    "start_time": "2025-10-27T13:56:13.368Z"
   },
   {
    "duration": 10,
    "start_time": "2025-10-27T13:56:13.389Z"
   },
   {
    "duration": 6,
    "start_time": "2025-10-27T13:56:13.400Z"
   },
   {
    "duration": 36,
    "start_time": "2025-10-27T13:56:13.407Z"
   },
   {
    "duration": 21,
    "start_time": "2025-10-27T13:56:13.445Z"
   },
   {
    "duration": 14,
    "start_time": "2025-10-27T13:56:13.467Z"
   },
   {
    "duration": 17,
    "start_time": "2025-10-27T13:56:13.482Z"
   },
   {
    "duration": 51,
    "start_time": "2025-10-27T13:56:13.501Z"
   },
   {
    "duration": 29,
    "start_time": "2025-10-27T13:56:13.553Z"
   },
   {
    "duration": 4,
    "start_time": "2025-10-27T13:56:13.584Z"
   },
   {
    "duration": 10,
    "start_time": "2025-10-27T13:56:13.589Z"
   },
   {
    "duration": 41,
    "start_time": "2025-10-27T13:56:13.601Z"
   },
   {
    "duration": 10,
    "start_time": "2025-10-27T13:56:13.644Z"
   },
   {
    "duration": 614,
    "start_time": "2025-10-27T13:56:13.656Z"
   },
   {
    "duration": 123,
    "start_time": "2025-10-27T13:56:14.272Z"
   },
   {
    "duration": 17,
    "start_time": "2025-10-27T13:56:14.397Z"
   },
   {
    "duration": 26,
    "start_time": "2025-10-27T13:56:14.415Z"
   },
   {
    "duration": 14,
    "start_time": "2025-10-27T13:56:14.443Z"
   },
   {
    "duration": 8,
    "start_time": "2025-10-27T13:56:14.459Z"
   },
   {
    "duration": 431,
    "start_time": "2025-10-27T13:56:14.469Z"
   },
   {
    "duration": 127,
    "start_time": "2025-10-27T13:56:14.901Z"
   },
   {
    "duration": 14,
    "start_time": "2025-10-27T13:56:15.036Z"
   },
   {
    "duration": 21,
    "start_time": "2025-10-27T13:56:15.052Z"
   },
   {
    "duration": 10,
    "start_time": "2025-10-27T13:56:15.075Z"
   },
   {
    "duration": 48,
    "start_time": "2025-10-27T13:56:15.087Z"
   },
   {
    "duration": 43,
    "start_time": "2025-10-27T13:56:15.141Z"
   },
   {
    "duration": 355,
    "start_time": "2025-10-27T13:56:15.186Z"
   },
   {
    "duration": 112,
    "start_time": "2025-10-27T13:56:15.544Z"
   },
   {
    "duration": 7,
    "start_time": "2025-10-27T13:56:15.658Z"
   },
   {
    "duration": 14,
    "start_time": "2025-10-27T13:56:15.667Z"
   },
   {
    "duration": 14,
    "start_time": "2025-10-27T13:56:15.683Z"
   },
   {
    "duration": 185,
    "start_time": "2025-10-27T13:56:15.699Z"
   },
   {
    "duration": 6,
    "start_time": "2025-10-27T13:56:15.886Z"
   },
   {
    "duration": 11,
    "start_time": "2025-10-27T13:56:15.894Z"
   },
   {
    "duration": 195,
    "start_time": "2025-10-27T13:56:15.907Z"
   },
   {
    "duration": 10,
    "start_time": "2025-10-27T13:56:16.104Z"
   },
   {
    "duration": 12,
    "start_time": "2025-10-27T13:56:16.128Z"
   },
   {
    "duration": 197,
    "start_time": "2025-10-27T13:56:16.142Z"
   },
   {
    "duration": 14,
    "start_time": "2025-10-27T14:00:18.697Z"
   },
   {
    "duration": 6,
    "start_time": "2025-10-27T14:00:27.098Z"
   },
   {
    "duration": 8,
    "start_time": "2025-10-27T14:00:44.099Z"
   },
   {
    "duration": 1309,
    "start_time": "2025-10-27T14:12:36.902Z"
   },
   {
    "duration": 2432,
    "start_time": "2025-10-27T14:12:38.213Z"
   },
   {
    "duration": 40,
    "start_time": "2025-10-27T14:12:40.647Z"
   },
   {
    "duration": 4,
    "start_time": "2025-10-27T14:12:40.689Z"
   },
   {
    "duration": 51,
    "start_time": "2025-10-27T14:12:40.695Z"
   },
   {
    "duration": 3255,
    "start_time": "2025-10-27T14:12:40.748Z"
   },
   {
    "duration": 236,
    "start_time": "2025-10-27T14:12:44.005Z"
   },
   {
    "duration": 38,
    "start_time": "2025-10-27T14:12:44.244Z"
   },
   {
    "duration": 26,
    "start_time": "2025-10-27T14:12:44.284Z"
   },
   {
    "duration": 19,
    "start_time": "2025-10-27T14:12:44.334Z"
   },
   {
    "duration": 42,
    "start_time": "2025-10-27T14:12:44.355Z"
   },
   {
    "duration": 17,
    "start_time": "2025-10-27T14:12:44.398Z"
   },
   {
    "duration": 587,
    "start_time": "2025-10-27T14:12:44.429Z"
   },
   {
    "duration": 34,
    "start_time": "2025-10-27T14:12:45.018Z"
   },
   {
    "duration": 279,
    "start_time": "2025-10-27T14:12:45.054Z"
   },
   {
    "duration": 69,
    "start_time": "2025-10-27T14:12:45.335Z"
   },
   {
    "duration": 64,
    "start_time": "2025-10-27T14:12:45.406Z"
   },
   {
    "duration": 25,
    "start_time": "2025-10-27T14:12:45.472Z"
   },
   {
    "duration": 47,
    "start_time": "2025-10-27T14:12:45.498Z"
   },
   {
    "duration": 138,
    "start_time": "2025-10-27T14:12:45.547Z"
   },
   {
    "duration": 13,
    "start_time": "2025-10-27T14:12:45.686Z"
   },
   {
    "duration": 33,
    "start_time": "2025-10-27T14:12:45.701Z"
   },
   {
    "duration": 48,
    "start_time": "2025-10-27T14:12:45.735Z"
   },
   {
    "duration": 57,
    "start_time": "2025-10-27T14:12:45.786Z"
   },
   {
    "duration": 15,
    "start_time": "2025-10-27T14:12:45.846Z"
   },
   {
    "duration": 12,
    "start_time": "2025-10-27T14:12:45.862Z"
   },
   {
    "duration": 25,
    "start_time": "2025-10-27T14:12:45.876Z"
   },
   {
    "duration": 176,
    "start_time": "2025-10-27T14:12:45.907Z"
   },
   {
    "duration": 131,
    "start_time": "2025-10-27T14:12:46.085Z"
   },
   {
    "duration": 44,
    "start_time": "2025-10-27T14:12:46.218Z"
   },
   {
    "duration": 96,
    "start_time": "2025-10-27T14:12:46.263Z"
   },
   {
    "duration": 104,
    "start_time": "2025-10-27T14:12:46.361Z"
   },
   {
    "duration": 12,
    "start_time": "2025-10-27T14:12:46.467Z"
   },
   {
    "duration": 186,
    "start_time": "2025-10-27T14:12:46.481Z"
   },
   {
    "duration": 91,
    "start_time": "2025-10-27T14:12:46.669Z"
   },
   {
    "duration": 16,
    "start_time": "2025-10-27T14:12:46.762Z"
   },
   {
    "duration": 9,
    "start_time": "2025-10-27T14:12:46.780Z"
   },
   {
    "duration": 47,
    "start_time": "2025-10-27T14:12:46.791Z"
   },
   {
    "duration": 221,
    "start_time": "2025-10-27T14:12:46.840Z"
   },
   {
    "duration": 24,
    "start_time": "2025-10-27T14:12:47.063Z"
   },
   {
    "duration": 46,
    "start_time": "2025-10-27T14:12:47.088Z"
   },
   {
    "duration": 26,
    "start_time": "2025-10-27T14:12:47.141Z"
   },
   {
    "duration": 22,
    "start_time": "2025-10-27T14:12:47.168Z"
   },
   {
    "duration": 5,
    "start_time": "2025-10-27T14:12:47.192Z"
   },
   {
    "duration": 43,
    "start_time": "2025-10-27T14:12:47.198Z"
   },
   {
    "duration": 24,
    "start_time": "2025-10-27T14:12:47.243Z"
   },
   {
    "duration": 340,
    "start_time": "2025-10-27T14:12:47.268Z"
   },
   {
    "duration": 26,
    "start_time": "2025-10-27T14:12:47.610Z"
   },
   {
    "duration": 26,
    "start_time": "2025-10-27T14:12:47.639Z"
   },
   {
    "duration": 34,
    "start_time": "2025-10-27T14:12:47.667Z"
   },
   {
    "duration": 6,
    "start_time": "2025-10-27T14:12:47.703Z"
   },
   {
    "duration": 88,
    "start_time": "2025-10-27T14:12:47.710Z"
   },
   {
    "duration": 49,
    "start_time": "2025-10-27T14:12:47.800Z"
   },
   {
    "duration": 15,
    "start_time": "2025-10-27T14:12:47.850Z"
   },
   {
    "duration": 15,
    "start_time": "2025-10-27T14:12:47.866Z"
   },
   {
    "duration": 57,
    "start_time": "2025-10-27T14:12:47.883Z"
   },
   {
    "duration": 94,
    "start_time": "2025-10-27T14:12:47.942Z"
   },
   {
    "duration": 22,
    "start_time": "2025-10-27T14:12:48.042Z"
   },
   {
    "duration": 7,
    "start_time": "2025-10-27T14:12:48.066Z"
   },
   {
    "duration": 7,
    "start_time": "2025-10-27T14:12:48.075Z"
   },
   {
    "duration": 11,
    "start_time": "2025-10-27T14:12:48.084Z"
   },
   {
    "duration": 58,
    "start_time": "2025-10-27T14:12:48.097Z"
   },
   {
    "duration": 16,
    "start_time": "2025-10-27T14:12:48.156Z"
   },
   {
    "duration": 29,
    "start_time": "2025-10-27T14:12:48.173Z"
   },
   {
    "duration": 32,
    "start_time": "2025-10-27T14:12:48.204Z"
   },
   {
    "duration": 29,
    "start_time": "2025-10-27T14:12:48.240Z"
   },
   {
    "duration": 4,
    "start_time": "2025-10-27T14:12:48.271Z"
   },
   {
    "duration": 10,
    "start_time": "2025-10-27T14:12:48.277Z"
   },
   {
    "duration": 9,
    "start_time": "2025-10-27T14:12:48.289Z"
   },
   {
    "duration": 39,
    "start_time": "2025-10-27T14:12:48.300Z"
   },
   {
    "duration": 553,
    "start_time": "2025-10-27T14:12:48.342Z"
   },
   {
    "duration": 126,
    "start_time": "2025-10-27T14:12:48.896Z"
   },
   {
    "duration": 25,
    "start_time": "2025-10-27T14:12:49.023Z"
   },
   {
    "duration": 6,
    "start_time": "2025-10-27T14:12:49.050Z"
   },
   {
    "duration": 12,
    "start_time": "2025-10-27T14:12:49.058Z"
   },
   {
    "duration": 11,
    "start_time": "2025-10-27T14:12:49.072Z"
   },
   {
    "duration": 424,
    "start_time": "2025-10-27T14:12:49.084Z"
   },
   {
    "duration": 133,
    "start_time": "2025-10-27T14:12:49.510Z"
   },
   {
    "duration": 9,
    "start_time": "2025-10-27T14:12:49.644Z"
   },
   {
    "duration": 7,
    "start_time": "2025-10-27T14:12:49.655Z"
   },
   {
    "duration": 9,
    "start_time": "2025-10-27T14:12:49.664Z"
   },
   {
    "duration": 4,
    "start_time": "2025-10-27T14:12:49.678Z"
   },
   {
    "duration": 54,
    "start_time": "2025-10-27T14:12:49.684Z"
   },
   {
    "duration": 313,
    "start_time": "2025-10-27T14:12:49.743Z"
   },
   {
    "duration": 122,
    "start_time": "2025-10-27T14:12:50.058Z"
   },
   {
    "duration": 7,
    "start_time": "2025-10-27T14:12:50.182Z"
   },
   {
    "duration": 11,
    "start_time": "2025-10-27T14:12:50.190Z"
   },
   {
    "duration": 33,
    "start_time": "2025-10-27T14:12:50.203Z"
   },
   {
    "duration": 160,
    "start_time": "2025-10-27T14:12:50.239Z"
   },
   {
    "duration": 6,
    "start_time": "2025-10-27T14:12:50.401Z"
   },
   {
    "duration": 31,
    "start_time": "2025-10-27T14:12:50.409Z"
   },
   {
    "duration": 175,
    "start_time": "2025-10-27T14:12:50.442Z"
   },
   {
    "duration": 23,
    "start_time": "2025-10-27T14:12:50.618Z"
   },
   {
    "duration": 9,
    "start_time": "2025-10-27T14:12:50.642Z"
   },
   {
    "duration": 202,
    "start_time": "2025-10-27T14:12:50.653Z"
   },
   {
    "duration": 1275,
    "start_time": "2025-10-27T15:28:37.785Z"
   },
   {
    "duration": 2910,
    "start_time": "2025-10-27T15:28:39.062Z"
   },
   {
    "duration": 36,
    "start_time": "2025-10-27T15:28:41.974Z"
   },
   {
    "duration": 7,
    "start_time": "2025-10-27T15:28:42.028Z"
   },
   {
    "duration": 48,
    "start_time": "2025-10-27T15:28:42.038Z"
   },
   {
    "duration": 3366,
    "start_time": "2025-10-27T15:28:42.088Z"
   },
   {
    "duration": 259,
    "start_time": "2025-10-27T15:28:45.456Z"
   },
   {
    "duration": 44,
    "start_time": "2025-10-27T15:28:45.717Z"
   },
   {
    "duration": 27,
    "start_time": "2025-10-27T15:28:45.763Z"
   },
   {
    "duration": 49,
    "start_time": "2025-10-27T15:28:45.793Z"
   },
   {
    "duration": 34,
    "start_time": "2025-10-27T15:28:45.845Z"
   },
   {
    "duration": 21,
    "start_time": "2025-10-27T15:28:45.881Z"
   },
   {
    "duration": 597,
    "start_time": "2025-10-27T15:28:45.904Z"
   },
   {
    "duration": 35,
    "start_time": "2025-10-27T15:28:46.503Z"
   },
   {
    "duration": 200,
    "start_time": "2025-10-27T15:28:46.545Z"
   },
   {
    "duration": 56,
    "start_time": "2025-10-27T15:28:46.747Z"
   },
   {
    "duration": 61,
    "start_time": "2025-10-27T15:28:46.805Z"
   },
   {
    "duration": 24,
    "start_time": "2025-10-27T15:28:46.867Z"
   },
   {
    "duration": 20,
    "start_time": "2025-10-27T15:28:46.893Z"
   },
   {
    "duration": 133,
    "start_time": "2025-10-27T15:28:46.930Z"
   },
   {
    "duration": 12,
    "start_time": "2025-10-27T15:28:47.065Z"
   },
   {
    "duration": 75,
    "start_time": "2025-10-27T15:28:47.078Z"
   },
   {
    "duration": 45,
    "start_time": "2025-10-27T15:28:47.155Z"
   },
   {
    "duration": 39,
    "start_time": "2025-10-27T15:28:47.202Z"
   },
   {
    "duration": 15,
    "start_time": "2025-10-27T15:28:47.243Z"
   },
   {
    "duration": 11,
    "start_time": "2025-10-27T15:28:47.260Z"
   },
   {
    "duration": 29,
    "start_time": "2025-10-27T15:28:47.273Z"
   },
   {
    "duration": 164,
    "start_time": "2025-10-27T15:28:47.335Z"
   },
   {
    "duration": 135,
    "start_time": "2025-10-27T15:28:47.500Z"
   },
   {
    "duration": 34,
    "start_time": "2025-10-27T15:28:47.638Z"
   },
   {
    "duration": 84,
    "start_time": "2025-10-27T15:28:47.674Z"
   },
   {
    "duration": 94,
    "start_time": "2025-10-27T15:28:47.760Z"
   },
   {
    "duration": 12,
    "start_time": "2025-10-27T15:28:47.856Z"
   },
   {
    "duration": 179,
    "start_time": "2025-10-27T15:28:47.869Z"
   },
   {
    "duration": 90,
    "start_time": "2025-10-27T15:28:48.050Z"
   },
   {
    "duration": 15,
    "start_time": "2025-10-27T15:28:48.142Z"
   },
   {
    "duration": 8,
    "start_time": "2025-10-27T15:28:48.158Z"
   },
   {
    "duration": 24,
    "start_time": "2025-10-27T15:28:48.168Z"
   },
   {
    "duration": 199,
    "start_time": "2025-10-27T15:28:48.194Z"
   },
   {
    "duration": 35,
    "start_time": "2025-10-27T15:28:48.395Z"
   },
   {
    "duration": 49,
    "start_time": "2025-10-27T15:28:48.439Z"
   },
   {
    "duration": 26,
    "start_time": "2025-10-27T15:28:48.490Z"
   },
   {
    "duration": 28,
    "start_time": "2025-10-27T15:28:48.518Z"
   },
   {
    "duration": 8,
    "start_time": "2025-10-27T15:28:48.548Z"
   },
   {
    "duration": 25,
    "start_time": "2025-10-27T15:28:48.558Z"
   },
   {
    "duration": 27,
    "start_time": "2025-10-27T15:28:48.585Z"
   },
   {
    "duration": 322,
    "start_time": "2025-10-27T15:28:48.614Z"
   },
   {
    "duration": 15,
    "start_time": "2025-10-27T15:28:48.939Z"
   },
   {
    "duration": 25,
    "start_time": "2025-10-27T15:28:48.956Z"
   },
   {
    "duration": 57,
    "start_time": "2025-10-27T15:28:48.983Z"
   },
   {
    "duration": 7,
    "start_time": "2025-10-27T15:28:49.042Z"
   },
   {
    "duration": 119,
    "start_time": "2025-10-27T15:28:49.051Z"
   },
   {
    "duration": 31,
    "start_time": "2025-10-27T15:28:49.173Z"
   },
   {
    "duration": 37,
    "start_time": "2025-10-27T15:28:49.206Z"
   },
   {
    "duration": 15,
    "start_time": "2025-10-27T15:28:49.245Z"
   },
   {
    "duration": 31,
    "start_time": "2025-10-27T15:28:49.262Z"
   },
   {
    "duration": 103,
    "start_time": "2025-10-27T15:28:49.295Z"
   },
   {
    "duration": 33,
    "start_time": "2025-10-27T15:28:49.400Z"
   },
   {
    "duration": 9,
    "start_time": "2025-10-27T15:28:49.437Z"
   },
   {
    "duration": 7,
    "start_time": "2025-10-27T15:28:49.447Z"
   },
   {
    "duration": 11,
    "start_time": "2025-10-27T15:28:49.456Z"
   },
   {
    "duration": 20,
    "start_time": "2025-10-27T15:28:49.469Z"
   },
   {
    "duration": 52,
    "start_time": "2025-10-27T15:28:49.490Z"
   },
   {
    "duration": 14,
    "start_time": "2025-10-27T15:28:49.544Z"
   },
   {
    "duration": 22,
    "start_time": "2025-10-27T15:28:49.560Z"
   },
   {
    "duration": 28,
    "start_time": "2025-10-27T15:28:49.584Z"
   },
   {
    "duration": 11,
    "start_time": "2025-10-27T15:28:49.632Z"
   },
   {
    "duration": 14,
    "start_time": "2025-10-27T15:28:49.644Z"
   },
   {
    "duration": 9,
    "start_time": "2025-10-27T15:28:49.660Z"
   },
   {
    "duration": 9,
    "start_time": "2025-10-27T15:28:49.671Z"
   },
   {
    "duration": 590,
    "start_time": "2025-10-27T15:28:49.682Z"
   },
   {
    "duration": 118,
    "start_time": "2025-10-27T15:28:50.273Z"
   },
   {
    "duration": 15,
    "start_time": "2025-10-27T15:28:50.393Z"
   },
   {
    "duration": 28,
    "start_time": "2025-10-27T15:28:50.409Z"
   },
   {
    "duration": 49,
    "start_time": "2025-10-27T15:28:50.440Z"
   },
   {
    "duration": 10,
    "start_time": "2025-10-27T15:28:50.490Z"
   },
   {
    "duration": 438,
    "start_time": "2025-10-27T15:28:50.502Z"
   },
   {
    "duration": 126,
    "start_time": "2025-10-27T15:28:50.945Z"
   },
   {
    "duration": 10,
    "start_time": "2025-10-27T15:28:51.074Z"
   },
   {
    "duration": 21,
    "start_time": "2025-10-27T15:28:51.086Z"
   },
   {
    "duration": 26,
    "start_time": "2025-10-27T15:28:51.109Z"
   },
   {
    "duration": 7,
    "start_time": "2025-10-27T15:28:51.142Z"
   },
   {
    "duration": 17,
    "start_time": "2025-10-27T15:28:51.151Z"
   },
   {
    "duration": 314,
    "start_time": "2025-10-27T15:28:51.170Z"
   },
   {
    "duration": 117,
    "start_time": "2025-10-27T15:28:51.486Z"
   },
   {
    "duration": 7,
    "start_time": "2025-10-27T15:28:51.604Z"
   },
   {
    "duration": 33,
    "start_time": "2025-10-27T15:28:51.613Z"
   },
   {
    "duration": 10,
    "start_time": "2025-10-27T15:28:51.647Z"
   },
   {
    "duration": 181,
    "start_time": "2025-10-27T15:28:51.659Z"
   },
   {
    "duration": 7,
    "start_time": "2025-10-27T15:28:51.842Z"
   },
   {
    "duration": 10,
    "start_time": "2025-10-27T15:28:51.850Z"
   },
   {
    "duration": 189,
    "start_time": "2025-10-27T15:28:51.862Z"
   },
   {
    "duration": 11,
    "start_time": "2025-10-27T15:28:52.053Z"
   },
   {
    "duration": 8,
    "start_time": "2025-10-27T15:28:52.065Z"
   },
   {
    "duration": 205,
    "start_time": "2025-10-27T15:28:52.074Z"
   },
   {
    "duration": 1292,
    "start_time": "2025-10-27T15:33:17.512Z"
   },
   {
    "duration": 2508,
    "start_time": "2025-10-27T15:33:18.806Z"
   },
   {
    "duration": 46,
    "start_time": "2025-10-27T15:33:21.315Z"
   },
   {
    "duration": 4,
    "start_time": "2025-10-27T15:33:21.363Z"
   },
   {
    "duration": 52,
    "start_time": "2025-10-27T15:33:21.368Z"
   },
   {
    "duration": 3375,
    "start_time": "2025-10-27T15:33:21.422Z"
   },
   {
    "duration": 237,
    "start_time": "2025-10-27T15:33:24.799Z"
   },
   {
    "duration": 36,
    "start_time": "2025-10-27T15:33:25.043Z"
   },
   {
    "duration": 25,
    "start_time": "2025-10-27T15:33:25.081Z"
   },
   {
    "duration": 41,
    "start_time": "2025-10-27T15:33:25.108Z"
   },
   {
    "duration": 33,
    "start_time": "2025-10-27T15:33:25.150Z"
   },
   {
    "duration": 17,
    "start_time": "2025-10-27T15:33:25.184Z"
   },
   {
    "duration": 567,
    "start_time": "2025-10-27T15:33:25.202Z"
   },
   {
    "duration": 14,
    "start_time": "2025-10-27T15:33:25.770Z"
   },
   {
    "duration": 197,
    "start_time": "2025-10-27T15:33:25.786Z"
   },
   {
    "duration": 63,
    "start_time": "2025-10-27T15:33:25.985Z"
   },
   {
    "duration": 40,
    "start_time": "2025-10-27T15:33:26.050Z"
   },
   {
    "duration": 43,
    "start_time": "2025-10-27T15:33:26.091Z"
   },
   {
    "duration": 21,
    "start_time": "2025-10-27T15:33:26.135Z"
   },
   {
    "duration": 137,
    "start_time": "2025-10-27T15:33:26.158Z"
   },
   {
    "duration": 13,
    "start_time": "2025-10-27T15:33:26.296Z"
   },
   {
    "duration": 34,
    "start_time": "2025-10-27T15:33:26.311Z"
   },
   {
    "duration": 41,
    "start_time": "2025-10-27T15:33:26.346Z"
   },
   {
    "duration": 49,
    "start_time": "2025-10-27T15:33:26.388Z"
   },
   {
    "duration": 17,
    "start_time": "2025-10-27T15:33:26.439Z"
   },
   {
    "duration": 31,
    "start_time": "2025-10-27T15:33:26.458Z"
   },
   {
    "duration": 18,
    "start_time": "2025-10-27T15:33:26.491Z"
   },
   {
    "duration": 159,
    "start_time": "2025-10-27T15:33:26.514Z"
   },
   {
    "duration": 128,
    "start_time": "2025-10-27T15:33:26.674Z"
   },
   {
    "duration": 40,
    "start_time": "2025-10-27T15:33:26.804Z"
   },
   {
    "duration": 82,
    "start_time": "2025-10-27T15:33:26.846Z"
   },
   {
    "duration": 83,
    "start_time": "2025-10-27T15:33:26.935Z"
   },
   {
    "duration": 15,
    "start_time": "2025-10-27T15:33:27.029Z"
   },
   {
    "duration": 169,
    "start_time": "2025-10-27T15:33:27.046Z"
   },
   {
    "duration": 99,
    "start_time": "2025-10-27T15:33:27.217Z"
   },
   {
    "duration": 33,
    "start_time": "2025-10-27T15:33:27.319Z"
   },
   {
    "duration": 13,
    "start_time": "2025-10-27T15:33:27.354Z"
   },
   {
    "duration": 31,
    "start_time": "2025-10-27T15:33:27.370Z"
   },
   {
    "duration": 197,
    "start_time": "2025-10-27T15:33:27.403Z"
   },
   {
    "duration": 43,
    "start_time": "2025-10-27T15:33:27.602Z"
   },
   {
    "duration": 28,
    "start_time": "2025-10-27T15:33:27.647Z"
   },
   {
    "duration": 38,
    "start_time": "2025-10-27T15:33:27.677Z"
   },
   {
    "duration": 29,
    "start_time": "2025-10-27T15:33:27.717Z"
   },
   {
    "duration": 5,
    "start_time": "2025-10-27T15:33:27.748Z"
   },
   {
    "duration": 24,
    "start_time": "2025-10-27T15:33:27.755Z"
   },
   {
    "duration": 59,
    "start_time": "2025-10-27T15:33:27.781Z"
   },
   {
    "duration": 298,
    "start_time": "2025-10-27T15:33:27.842Z"
   },
   {
    "duration": 14,
    "start_time": "2025-10-27T15:33:28.141Z"
   },
   {
    "duration": 25,
    "start_time": "2025-10-27T15:33:28.157Z"
   },
   {
    "duration": 53,
    "start_time": "2025-10-27T15:33:28.184Z"
   },
   {
    "duration": 6,
    "start_time": "2025-10-27T15:33:28.240Z"
   },
   {
    "duration": 68,
    "start_time": "2025-10-27T15:33:28.248Z"
   },
   {
    "duration": 39,
    "start_time": "2025-10-27T15:33:28.317Z"
   },
   {
    "duration": 14,
    "start_time": "2025-10-27T15:33:28.358Z"
   },
   {
    "duration": 13,
    "start_time": "2025-10-27T15:33:28.374Z"
   },
   {
    "duration": 52,
    "start_time": "2025-10-27T15:33:28.389Z"
   },
   {
    "duration": 98,
    "start_time": "2025-10-27T15:33:28.443Z"
   },
   {
    "duration": 20,
    "start_time": "2025-10-27T15:33:28.543Z"
   },
   {
    "duration": 8,
    "start_time": "2025-10-27T15:33:28.564Z"
   },
   {
    "duration": 11,
    "start_time": "2025-10-27T15:33:28.573Z"
   },
   {
    "duration": 11,
    "start_time": "2025-10-27T15:33:28.585Z"
   },
   {
    "duration": 52,
    "start_time": "2025-10-27T15:33:28.597Z"
   },
   {
    "duration": 15,
    "start_time": "2025-10-27T15:33:28.650Z"
   },
   {
    "duration": 13,
    "start_time": "2025-10-27T15:33:28.666Z"
   },
   {
    "duration": 23,
    "start_time": "2025-10-27T15:33:28.681Z"
   },
   {
    "duration": 64,
    "start_time": "2025-10-27T15:33:28.705Z"
   },
   {
    "duration": 4,
    "start_time": "2025-10-27T15:33:28.771Z"
   },
   {
    "duration": 11,
    "start_time": "2025-10-27T15:33:28.777Z"
   },
   {
    "duration": 12,
    "start_time": "2025-10-27T15:33:28.790Z"
   },
   {
    "duration": 18,
    "start_time": "2025-10-27T15:33:28.828Z"
   },
   {
    "duration": 519,
    "start_time": "2025-10-27T15:33:28.848Z"
   },
   {
    "duration": 121,
    "start_time": "2025-10-27T15:33:29.369Z"
   },
   {
    "duration": 16,
    "start_time": "2025-10-27T15:33:29.491Z"
   },
   {
    "duration": 19,
    "start_time": "2025-10-27T15:33:29.509Z"
   },
   {
    "duration": 18,
    "start_time": "2025-10-27T15:33:29.530Z"
   },
   {
    "duration": 8,
    "start_time": "2025-10-27T15:33:29.550Z"
   },
   {
    "duration": 425,
    "start_time": "2025-10-27T15:33:29.559Z"
   },
   {
    "duration": 129,
    "start_time": "2025-10-27T15:33:29.986Z"
   },
   {
    "duration": 19,
    "start_time": "2025-10-27T15:33:30.117Z"
   },
   {
    "duration": 19,
    "start_time": "2025-10-27T15:33:30.137Z"
   },
   {
    "duration": 16,
    "start_time": "2025-10-27T15:33:30.158Z"
   },
   {
    "duration": 8,
    "start_time": "2025-10-27T15:33:30.181Z"
   },
   {
    "duration": 26,
    "start_time": "2025-10-27T15:33:30.192Z"
   },
   {
    "duration": 352,
    "start_time": "2025-10-27T15:33:30.221Z"
   },
   {
    "duration": 131,
    "start_time": "2025-10-27T15:33:30.575Z"
   },
   {
    "duration": 7,
    "start_time": "2025-10-27T15:33:30.708Z"
   },
   {
    "duration": 27,
    "start_time": "2025-10-27T15:33:30.717Z"
   },
   {
    "duration": 8,
    "start_time": "2025-10-27T15:33:30.746Z"
   },
   {
    "duration": 195,
    "start_time": "2025-10-27T15:33:30.756Z"
   },
   {
    "duration": 7,
    "start_time": "2025-10-27T15:33:30.952Z"
   },
   {
    "duration": 14,
    "start_time": "2025-10-27T15:33:30.960Z"
   },
   {
    "duration": 189,
    "start_time": "2025-10-27T15:33:30.976Z"
   },
   {
    "duration": 10,
    "start_time": "2025-10-27T15:33:31.167Z"
   },
   {
    "duration": 10,
    "start_time": "2025-10-27T15:33:31.178Z"
   },
   {
    "duration": 203,
    "start_time": "2025-10-27T15:33:31.189Z"
   },
   {
    "duration": 172,
    "start_time": "2025-10-27T15:35:06.688Z"
   },
   {
    "duration": 175,
    "start_time": "2025-10-27T15:35:36.462Z"
   }
  ],
  "colab": {
   "provenance": []
  },
  "kernelspec": {
   "display_name": "Python 3 (ipykernel)",
   "language": "python",
   "name": "python3"
  },
  "language_info": {
   "codemirror_mode": {
    "name": "ipython",
    "version": 3
   },
   "file_extension": ".py",
   "mimetype": "text/x-python",
   "name": "python",
   "nbconvert_exporter": "python",
   "pygments_lexer": "ipython3",
   "version": "3.9.5"
  },
  "toc": {
   "base_numbering": 1,
   "nav_menu": {},
   "number_sections": true,
   "sideBar": true,
   "skip_h1_title": true,
   "title_cell": "Table of Contents",
   "title_sidebar": "Contents",
   "toc_cell": false,
   "toc_position": {
    "height": "calc(100% - 180px)",
    "left": "10px",
    "top": "150px",
    "width": "263.773px"
   },
   "toc_section_display": true,
   "toc_window_display": true
  }
 },
 "nbformat": 4,
 "nbformat_minor": 1
}
